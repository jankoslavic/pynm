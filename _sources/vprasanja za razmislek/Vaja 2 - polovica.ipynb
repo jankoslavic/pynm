{
 "cells": [
  {
   "cell_type": "markdown",
   "metadata": {},
   "source": [
    "Feb 2015, J.Slavič in L.Knez"
   ]
  },
  {
   "cell_type": "markdown",
   "metadata": {},
   "source": [
    "Vprašanje 1: Odprite datoteko za zapis in vanjo vpišite formatirani (skupaj 7 mest, 3 decimalna mesta) seznam v dveh stolpcih. Razločevalni znak med stolpci naj bo prazen znak ' '."
   ]
  },
  {
   "cell_type": "code",
   "execution_count": 1,
   "metadata": {
    "collapsed": false
   },
   "outputs": [],
   "source": [
    "datoteka = open('Zapis.txt', mode='w')  # Odprem / kreiram datoteko"
   ]
  },
  {
   "cell_type": "code",
   "execution_count": 2,
   "metadata": {
    "collapsed": false
   },
   "outputs": [
    {
     "data": {
      "text/plain": [
       "22"
      ]
     },
     "execution_count": 2,
     "metadata": {},
     "output_type": "execute_result"
    }
   ],
   "source": [
    "datoteka.write('Urejen niz podatkov: \\n')   # Naredimo glavo v datoteki"
   ]
  },
  {
   "cell_type": "markdown",
   "metadata": {},
   "source": [
    "Kreirajmo seznam in ga izvozimo v datoteko:"
   ]
  },
  {
   "cell_type": "code",
   "execution_count": 3,
   "metadata": {
    "collapsed": false
   },
   "outputs": [],
   "source": [
    "for i in range(7):\n",
    "    podatek_levi = (1 + i)/16\n",
    "    podatek_desni = (1 + i)/8\n",
    "    datoteka.write('{0:7.3f} {1:7.3f}\\n'.format(podatek_levi, podatek_desni))"
   ]
  },
  {
   "cell_type": "code",
   "execution_count": 4,
   "metadata": {
    "collapsed": false
   },
   "outputs": [],
   "source": [
    "datoteka.close()    # Ko smo vse zapisali zapremo datoteko dol"
   ]
  },
  {
   "cell_type": "markdown",
   "metadata": {},
   "source": [
    "Vprašanje 2: Odprite pripeto datoteko ``zapis_labview.lvm`` (gre za zapis iz programa LabView) in preberite glavo v obliki slovarja ('ime polja': vrednost)."
   ]
  },
  {
   "cell_type": "code",
   "execution_count": 1,
   "metadata": {
    "collapsed": false
   },
   "outputs": [
    {
     "name": "stdout",
     "output_type": "stream",
     "text": [
      "[('LabVIEW', 'Measurement'), ('Writer_Version', '2'), ('Reader_Version', '2'), ('Separator', 'Tab'), ('Decimal_Separator', ','), ('Multi_Headings', 'Yes'), ('X_Columns', 'No'), ('Time_Pref', 'Absolute'), ('Operator', 'JS'), ('Date', '2013/02/19'), ('Time', '09:51:39,1970510124996275989')]\n",
      "{'Reader_Version': '2', 'Decimal_Separator': ',', 'Operator': 'JS', 'Date': '2013/02/19', 'LabVIEW': 'Measurement', 'Writer_Version': '2', 'X_Columns': 'No', 'Time': '09:51:39,1970510124996275989', 'Multi_Headings': 'Yes', 'Separator': 'Tab', 'Time_Pref': 'Absolute'}\n",
      "09:51:39,1970510124996275989\n"
     ]
    }
   ],
   "source": [
    "labview = open('zapis_labview.lvm', mode='r') # Odpremo datoteko\n",
    "\n",
    "seznam = []  # Pripravimo prazen seznam, na katerega bomo pripenjali vrednosti  \n",
    "for vrstica in labview:\n",
    "    podatek = vrstica.split()  # Vrstico razbijemo na dva stolpca\n",
    "    if len(podatek) is 2:\n",
    "         seznam.append((podatek[0], podatek[1]))  # V seznam shranjujemo dvojico terk, bomo rabili za narediti slovar\n",
    "    else:\n",
    "        break  # Ko pride do End of header se ustavi\n",
    "        \n",
    "labview.close() # Zapremo datoteko\n",
    "\n",
    "# Naredimo slovar\n",
    "slovar = dict(seznam)\n",
    "\n",
    "print(slovar)\n",
    "\n",
    "# Preverimo če dela\n",
    "print(slovar['Time'])\n"
   ]
  },
  {
   "cell_type": "markdown",
   "metadata": {},
   "source": [
    "Vprašanje 3:  V datoteki iz prejšnje točke preberiet podatke (uporabite funkcijo ``replace()`` za zamenjavo decimalne vejice v piko in nato pretvorite niz v število. Najdite ustrezno dokumentacijo/help)."
   ]
  },
  {
   "cell_type": "code",
   "execution_count": 21,
   "metadata": {
    "collapsed": false
   },
   "outputs": [
    {
     "name": "stdout",
     "output_type": "stream",
     "text": [
      "[0.914018, 0.537321, 0.616905, 0.895449, 0.57446, 0.516099, 1.046658, 0.39407, 0.741586, 0.680572]\n",
      "[1.204792, 1.208403, 1.213915, 1.212205, 1.222088, 1.218223, 1.213408, 1.221011, 1.211888, 1.212775]\n"
     ]
    }
   ],
   "source": [
    "# 1 varianta (hitrejša)\n",
    "\n",
    "labview = open('zapis_labview.lvm', mode='r')\n",
    "\n",
    "shrani = False\n",
    "stolp_1 = []\n",
    "stolp_2 = []\n",
    "for vrstica in labview:\n",
    "    podatek = vrstica.split()  \n",
    "    \n",
    "    if 'Comment' in podatek:  # Naslednji vrstico od comment pricne shranjevati\n",
    "        shrani = True\n",
    "        continue\n",
    "        \n",
    "    if shrani is True:\n",
    "        stolp_1.append(float(podatek[0].replace(',', '.')))\n",
    "        stolp_2.append(float(podatek[1].replace(',', '.')))\n",
    "\n",
    "print(stolp_1)\n",
    "print(stolp_2)\n",
    "    "
   ]
  },
  {
   "cell_type": "code",
   "execution_count": 22,
   "metadata": {
    "collapsed": false
   },
   "outputs": [
    {
     "name": "stdout",
     "output_type": "stream",
     "text": [
      "[0.914018, 0.537321, 0.616905, 0.895449, 0.57446, 0.516099, 1.046658, 0.39407, 0.741586, 0.680572]\n",
      "[1.204792, 1.208403, 1.213915, 1.212205, 1.222088, 1.218223, 1.213408, 1.221011, 1.211888, 1.212775]\n"
     ]
    }
   ],
   "source": [
    "# Varianta 2 (počasnejša)\n",
    "\n",
    "labview = open('zapis_labview.lvm', mode='r')\n",
    "\n",
    "besedilo = labview.read()  # Prebere celo datoteko, dobimo besedilo\n",
    "# print(besedilo)\n",
    "\n",
    "# Zamenjamo decimalno vejico z decimalno piko\n",
    "besedilo = besedilo.replace(',', '.')\n",
    "#print(besedilo)\n",
    "\n",
    "seznam = besedilo.split()  # Razbije besedilo na posamezne kose, naredi seznam\n",
    "\n",
    "_ = seznam.index('Comment') # Poiščemo kje v seznamu leži zadnja beseda in kje se začnejo podatki\n",
    "\n",
    "# Zbrišemo vse elemente, ki niso podatki\n",
    "del seznam[:_+1]\n",
    "\n",
    "# Spremenimo v float in shranimo v dva stolpca\n",
    "stolp_1 = []\n",
    "stolp_2 = []\n",
    "\n",
    "for stevilo, element in enumerate(seznam):\n",
    "    if stevilo is 0:\n",
    "        stolp_1.append(float(element))\n",
    "    elif stevilo%2 is 0:\n",
    "        stolp_1.append(float(element))\n",
    "    else:\n",
    "        stolp_2.append(float(element))\n",
    "        \n",
    "print(stolp_1)\n",
    "print(stolp_2)"
   ]
  },
  {
   "cell_type": "markdown",
   "metadata": {},
   "source": [
    "Link za pomoč: https://docs.python.org/3.4/library/stdtypes.html?highlight=replace#str.replace"
   ]
  },
  {
   "cell_type": "markdown",
   "metadata": {},
   "source": [
    "Vprašanje 4: Na poljubnem seznamu besed prikažite uporabo izpeljevanja seznamov tako, da zamenjate samoglasnik."
   ]
  },
  {
   "cell_type": "code",
   "execution_count": 9,
   "metadata": {
    "collapsed": false
   },
   "outputs": [
    {
     "data": {
      "text/plain": [
       "['Tol!', 'j!', '!no', 'fül', 'kül', 'b!s!dilo']"
      ]
     },
     "execution_count": 9,
     "metadata": {},
     "output_type": "execute_result"
    }
   ],
   "source": [
    "# Najprej naredimo en seznam, katerega elementi so stringi\n",
    "\n",
    "seznam = ['Tole', 'je', 'eno', 'fül', 'kül', 'besedilo']\n",
    "\n",
    "[a.replace('e', '!') for a in seznam]    # Zamenjamo vse samoglasnike e z !\n"
   ]
  },
  {
   "cell_type": "markdown",
   "metadata": {},
   "source": [
    "Vprašanje 5: Napiši funkcijo, ki prejme seznam. \n",
    "* Če so v seznamu besede, potem vrne njihovo dolžino.\n",
    "* Če so v seznamu numerične vrednosti, potem vrne njihove vrednosti, povečane za ena."
   ]
  },
  {
   "cell_type": "code",
   "execution_count": 1,
   "metadata": {
    "collapsed": false
   },
   "outputs": [
    {
     "name": "stdout",
     "output_type": "stream",
     "text": [
      "[7, 10, 4, 4, 5]\n",
      "[7, 10, 4, 4, 5]\n",
      "[4, 8, 2, 12, 10]\n",
      "[5.2, 5.9, 12.3, 14.2]\n",
      "[5.2, 5.9, 12.3, 14.2]\n"
     ]
    }
   ],
   "source": [
    "# Napišimo funkcijo\n",
    "# Varianta 1\n",
    "def preureditev(seznam):\n",
    "    if isinstance(seznam[0], str):    # [0] zato ker se seznam list, posamezni elementi so pa string\n",
    "        rezultat = [len(_) for _ in seznam]    # _ je začasna spremenljivka, njeno ime je nepomembno\n",
    "        print(rezultat)\n",
    "    elif isinstance(seznam[0], (float, int)):  # Število je lahko int ali float !\n",
    "        rezultat = [_ + 1 for _ in seznam]\n",
    "        print(rezultat)\n",
    "    else:\n",
    "        print('Vaš seznam ni ne besedilo ne numerična vrednost. Preverite!')\n",
    "        \n",
    "# Varianta 2 (krajše)\n",
    "def preureditev_2(seznam):\n",
    "    rezultat = [float(s)+1 if isinstance(s, (float, int)) else len(s) for s in seznam]\n",
    "    print(rezultat)\n",
    "\n",
    "# Preverimo z besedami\n",
    "seznam_besede = ['študent', 'računalnik', 'hiša', 'miza', 'Ojoj!']\n",
    "\n",
    "preureditev(seznam_besede)   # Pokličemo funkcijo\n",
    "\n",
    "preureditev_2(seznam_besede)\n",
    "\n",
    "# Preverimo s številkami (float in int)\n",
    "seznam_stevilke1 = [3, 7, 1, 11, 9]\n",
    "seznam_stevilke2 = [4.2, 4.9, 11.3, 13.2]\n",
    "\n",
    "preureditev(seznam_stevilke1) \n",
    "\n",
    "preureditev(seznam_stevilke2)\n",
    "\n",
    "preureditev_2(seznam_stevilke2)\n"
   ]
  },
  {
   "cell_type": "markdown",
   "metadata": {},
   "source": [
    "Vprašanje 6: Zgornjo funkcijo nadgradite: če se v funkcijo vstavi prazen seznam (dolžine 0), potem naj sproži izjemo ``Exception`` z ustreznim opisom.\n"
   ]
  },
  {
   "cell_type": "code",
   "execution_count": 41,
   "metadata": {
    "collapsed": false
   },
   "outputs": [
    {
     "ename": "Exception",
     "evalue": "Seznam je prazen!",
     "output_type": "error",
     "traceback": [
      "\u001b[1;31m---------------------------------------------------------------------------\u001b[0m\n\u001b[1;31mException\u001b[0m                                 Traceback (most recent call last)",
      "\u001b[1;32m<ipython-input-41-4c61df0b03d7>\u001b[0m in \u001b[0;36m<module>\u001b[1;34m()\u001b[0m\n\u001b[0;32m     19\u001b[0m \u001b[1;31m# Preverimo s praznim listom\u001b[0m\u001b[1;33m\u001b[0m\u001b[1;33m\u001b[0m\u001b[0m\n\u001b[0;32m     20\u001b[0m \u001b[0mseznam_prazen\u001b[0m \u001b[1;33m=\u001b[0m \u001b[1;33m[\u001b[0m\u001b[1;33m]\u001b[0m\u001b[1;33m\u001b[0m\u001b[0m\n\u001b[1;32m---> 21\u001b[1;33m \u001b[0mpreureditev\u001b[0m\u001b[1;33m(\u001b[0m\u001b[0mseznam_prazen\u001b[0m\u001b[1;33m)\u001b[0m\u001b[1;33m\u001b[0m\u001b[0m\n\u001b[0m\u001b[0;32m     22\u001b[0m \u001b[1;33m\u001b[0m\u001b[0m\n\u001b[0;32m     23\u001b[0m \u001b[1;31m# Preverimo z števili   - vidimo da se koda od exception dalje sploh ne izvaja\u001b[0m\u001b[1;33m\u001b[0m\u001b[1;33m\u001b[0m\u001b[0m\n",
      "\u001b[1;32m<ipython-input-41-4c61df0b03d7>\u001b[0m in \u001b[0;36mpreureditev\u001b[1;34m(seznam)\u001b[0m\n\u001b[0;32m      6\u001b[0m     \"\"\"\n\u001b[0;32m      7\u001b[0m     \u001b[1;32mif\u001b[0m \u001b[0mlen\u001b[0m\u001b[1;33m(\u001b[0m\u001b[0mseznam\u001b[0m\u001b[1;33m)\u001b[0m \u001b[1;32mis\u001b[0m \u001b[1;36m0\u001b[0m\u001b[1;33m:\u001b[0m\u001b[1;33m\u001b[0m\u001b[0m\n\u001b[1;32m----> 8\u001b[1;33m         \u001b[1;32mraise\u001b[0m \u001b[0mException\u001b[0m\u001b[1;33m(\u001b[0m\u001b[1;34m'Seznam je prazen!'\u001b[0m\u001b[1;33m)\u001b[0m\u001b[1;33m\u001b[0m\u001b[0m\n\u001b[0m\u001b[0;32m      9\u001b[0m \u001b[1;33m\u001b[0m\u001b[0m\n\u001b[0;32m     10\u001b[0m     \u001b[1;32mif\u001b[0m \u001b[0misinstance\u001b[0m\u001b[1;33m(\u001b[0m\u001b[0mseznam\u001b[0m\u001b[1;33m[\u001b[0m\u001b[1;36m0\u001b[0m\u001b[1;33m]\u001b[0m\u001b[1;33m,\u001b[0m \u001b[0mstr\u001b[0m\u001b[1;33m)\u001b[0m\u001b[1;33m:\u001b[0m    \u001b[1;31m# [0] zato ker se seznam list, posamezni elementi so pa string\u001b[0m\u001b[1;33m\u001b[0m\u001b[0m\n",
      "\u001b[1;31mException\u001b[0m: Seznam je prazen!"
     ]
    }
   ],
   "source": [
    "# Nadgradimo funkcijo\n",
    "def preureditev(seznam):\n",
    "    \"\"\" Ta funkcija prebere seznam (ki ne sme biti prazen).\n",
    " Če gre za seznam iz besed, potem vrne njihovo dolžino.\n",
    " Če gre za seznam iz števil, potem jim prišteje vrednost 1.\n",
    "    \"\"\"\n",
    "    if len(seznam) is 0:\n",
    "        raise Exception('Seznam je prazen!')\n",
    "    \n",
    "    if isinstance(seznam[0], str):    # [0] zato ker se seznam list, posamezni elementi so pa string\n",
    "        rezultat = [len(_) for _ in seznam]    # _ je začasna spremenljivka, njeno ime je nepomembno\n",
    "        print(rezultat)\n",
    "    elif isinstance(seznam[0], (float, int)):  # Število je lahko int ali float !\n",
    "        rezultat = [_ + 1 for _ in seznam]\n",
    "        print(rezultat)\n",
    "    else:\n",
    "        print('Vaš seznam ni ne besedilo ne numerična vrednost. Preverite!')\n",
    "        \n",
    "# Preverimo s praznim listom\n",
    "seznam_prazen = []\n",
    "preureditev(seznam_prazen)\n",
    "\n",
    "# Preverimo z števili   - vidimo da se koda od exception dalje sploh ne izvaja\n",
    "preureditev(seznam_stevilke1)"
   ]
  },
  {
   "cell_type": "markdown",
   "metadata": {},
   "source": [
    "Vprašanje 7: Pripravite novo funkcijo ki bo klicala funkcijo iz točke 6 in lovila izjeme."
   ]
  },
  {
   "cell_type": "code",
   "execution_count": 13,
   "metadata": {
    "collapsed": false
   },
   "outputs": [
    {
     "name": "stdout",
     "output_type": "stream",
     "text": [
      "Seznam je prazen!\n",
      "[5.2, 5.9, 12.3, 14.2]\n"
     ]
    }
   ],
   "source": [
    "# Nova funkcija\n",
    "def preureditev_2(seznam):\n",
    "    \"\"\" Naredi podobno kot funkcija preureditev, vendar ima bolj robusten način preverjanja napak\"\"\"\n",
    "    try:\n",
    "        \n",
    "        preureditev(seznam) # Če se napaka ne sproži, potem pokličemo obstoječo funkcijo\n",
    "        \n",
    "    except Exception as error:   # Izpis napake \n",
    "        print(error)\n",
    "        \n",
    "# Preverimo z praznim listom\n",
    "seznam_prazen = []\n",
    "preureditev_2(seznam_prazen)\n",
    "\n",
    "# Preverimo z ok listom  - vidimo da se v tem primeru koda izvede dalje\n",
    "preureditev_2(seznam_stevilke2)"
   ]
  },
  {
   "cell_type": "markdown",
   "metadata": {},
   "source": [
    "Vprašanje 8: Za obe funkciji pripravite *docstring*."
   ]
  },
  {
   "cell_type": "code",
   "execution_count": 20,
   "metadata": {
    "collapsed": false
   },
   "outputs": [],
   "source": [
    "# Komentarje bomo vpisali kar v zgornje funkcije, tukaj jih bomo samo poklicali\n",
    "?preureditev"
   ]
  },
  {
   "cell_type": "code",
   "execution_count": 21,
   "metadata": {
    "collapsed": false
   },
   "outputs": [],
   "source": [
    "?preureditev_2"
   ]
  },
  {
   "cell_type": "code",
   "execution_count": 22,
   "metadata": {
    "collapsed": false
   },
   "outputs": [
    {
     "name": "stdout",
     "output_type": "stream",
     "text": [
      " Ta funkcija prebere seznam (ki ne sme biti prazen).\n",
      " Če gre za seznam iz besed, potem vrne njihovo dolžino.\n",
      " Če gre za seznam iz števil, potem jim prišteje vrednost 1.\n",
      "    \n",
      " Naredi podobno kot funkcija preureditev, vendar ima bolj robusten način preverjanja napak\n"
     ]
    }
   ],
   "source": [
    "# Lahko tudi takole\n",
    "print(preureditev.__doc__)\n",
    "\n",
    "print(preureditev_2.__doc__)"
   ]
  },
  {
   "cell_type": "markdown",
   "metadata": {},
   "source": [
    "Vprašanje 9: Prikažite uporabo argumentov s privzetimi vrednostmi."
   ]
  },
  {
   "cell_type": "code",
   "execution_count": 2,
   "metadata": {
    "collapsed": false
   },
   "outputs": [
    {
     "name": "stdout",
     "output_type": "stream",
     "text": [
      "Uporabljeni podatki: polmer = 1 višina =1\n",
      "Volumen stožca je: 1.047\n",
      "Uporabljeni podatki: polmer = 3 višina =1\n",
      "Volumen stožca je: 9.425\n",
      "Uporabljeni podatki: polmer = 1 višina =5\n",
      "Volumen stožca je: 5.236\n"
     ]
    }
   ],
   "source": [
    "# Naredimo funkcijo, ki izracuna volumen stozca\n",
    "\n",
    "# Potrebovali bomo število pi, zato uvozimo modul numpy (uvozimo izven funkcije, zato da se uvozi samo enkrat)\n",
    "import numpy as np\n",
    "\n",
    "def volumen_stozca(polmer = 1, visina = 1):\n",
    "    \"\"\" Program izračuna volumen stožca, potrebno je uvoziti modul math da normalno deluje\"\"\"\n",
    "    rezultat = 1/3 * np.pi * polmer**2 * visina\n",
    "    print('Uporabljeni podatki: polmer = {0:g} višina ={1:g}'.format(polmer, visina))\n",
    "    print('Volumen stožca je: {:5.3f}'.format(rezultat))\n",
    "\n",
    "# Če funkciji ne podamo polmera ali višine ali obeh, potem funkcija uporabi privzete vrednosti:\n",
    "volumen_stozca()\n",
    "\n",
    "volumen_stozca(3, )\n",
    "\n",
    "volumen_stozca(visina = 5)"
   ]
  },
  {
   "cell_type": "markdown",
   "metadata": {},
   "source": [
    "Vprašanje 10: Prikažite uporabo argumentov glede na mesto in glede na ime."
   ]
  },
  {
   "cell_type": "code",
   "execution_count": 3,
   "metadata": {
    "collapsed": false
   },
   "outputs": [
    {
     "name": "stdout",
     "output_type": "stream",
     "text": [
      "Uporabljeni podatki: polmer = 2 višina =3\n",
      "Volumen stožca je: 12.566\n",
      "Uporabljeni podatki: polmer = 5 višina =3\n",
      "Volumen stožca je: 78.540\n"
     ]
    }
   ],
   "source": [
    "# To smo v resnici že uporabili pri vprašanju 9. Ponazorimo:\n",
    "\n",
    "# Mesto\n",
    "volumen_stozca(2,3)\n",
    "\n",
    "# Ime\n",
    "polmer = 5\n",
    "volumen_stozca(polmer, visina = 3)"
   ]
  }
 ],
 "metadata": {
  "kernelspec": {
   "display_name": "Python 3",
   "language": "python",
   "name": "python3"
  },
  "language_info": {
   "codemirror_mode": {
    "name": "ipython",
    "version": 3
   },
   "file_extension": ".py",
   "mimetype": "text/x-python",
   "name": "python",
   "nbconvert_exporter": "python",
   "pygments_lexer": "ipython3",
   "version": "3.4.3"
  }
 },
 "nbformat": 4,
 "nbformat_minor": 0
}
