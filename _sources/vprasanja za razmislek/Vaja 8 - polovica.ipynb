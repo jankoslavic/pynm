{
 "cells": [
  {
   "cell_type": "markdown",
   "metadata": {},
   "source": [
    "April 2015, J. Slavič in L. Knez"
   ]
  },
  {
   "cell_type": "markdown",
   "metadata": {},
   "source": [
    "Vprašanje 1: Na podatkih:\n",
    "$$x = [-1.00, -0.50, 0.00, 0.50, 1.00]$$\n",
    "$$y = [−1.00, −0.55, 0.00, 0.45, 1.00]$$\n",
    "uporabite linearne zlepke in določite prvi odvod."
   ]
  },
  {
   "cell_type": "markdown",
   "metadata": {},
   "source": [
    "Uvozimo module:"
   ]
  },
  {
   "cell_type": "code",
   "execution_count": 1,
   "metadata": {
    "collapsed": false
   },
   "outputs": [],
   "source": [
    "from sympy import *\n",
    "init_printing()\n",
    "import numpy as np\n",
    "import matplotlib.pyplot as plt\n",
    "% matplotlib inline\n"
   ]
  },
  {
   "cell_type": "markdown",
   "metadata": {},
   "source": [
    "Definiramo podatke:"
   ]
  },
  {
   "cell_type": "code",
   "execution_count": 2,
   "metadata": {
    "collapsed": false
   },
   "outputs": [],
   "source": [
    "x = np.asarray([-1, -0.50, 0.00, 0.50, 1.00], dtype = float)\n",
    "y = np.asarray([-1, -0.55, 0.00, 0.45, 1.00], dtype = float)\n"
   ]
  },
  {
   "cell_type": "markdown",
   "metadata": {},
   "source": [
    "Uvozimo zlepke, izračunamo odvod in narišemo rezultate:"
   ]
  },
  {
   "cell_type": "code",
   "execution_count": 3,
   "metadata": {
    "collapsed": false
   },
   "outputs": [
    {
     "name": "stdout",
     "output_type": "stream",
     "text": [
      "Odvodi: [ 0.9  1.1  0.9  1.1  1.1]\n"
     ]
    },
    {
     "data": {
      "image/png": "[encoded data removed]",
      "text/plain": [
       "<matplotlib.figure.Figure at 0x556cf60>"
      ]
     },
     "metadata": {},
     "output_type": "display_data"
    }
   ],
   "source": [
    "from scipy.interpolate import InterpolatedUnivariateSpline\n",
    "\n",
    "spl_lin = InterpolatedUnivariateSpline(x, y, k=1)\n",
    "spl_odv_1 = spl_lin.derivative(1)\n",
    "\n",
    "# Izpišimo odvode v točkah\n",
    "print('Odvodi:', spl_odv_1(x))\n",
    "\n",
    "xint = np.linspace(np.min(x), np.max(x), 40)\n",
    "\n",
    "plt.plot(x, y, 'ro');\n",
    "plt.plot(xint, spl_lin(xint));"
   ]
  },
  {
   "cell_type": "markdown",
   "metadata": {},
   "source": [
    "Vprašanje 2: Na zgornjih podatkih izračunajte linearno aproksimacijo ter določite parametra aproksimacije."
   ]
  },
  {
   "cell_type": "markdown",
   "metadata": {},
   "source": [
    "\"Ročni\" način:"
   ]
  },
  {
   "cell_type": "code",
   "execution_count": 4,
   "metadata": {
    "collapsed": false
   },
   "outputs": [
    {
     "data": {
      "image/png": "[encoded data removed]",
      "text/latex": [
       "$$\\begin{pmatrix}1.0, & -0.02\\end{pmatrix}$$"
      ],
      "text/plain": [
       "(1.0, -0.02)"
      ]
     },
     "execution_count": 4,
     "metadata": {},
     "output_type": "execute_result"
    }
   ],
   "source": [
    "A = [[np.sum(x**2), np.sum(x)],\n",
    "     [np.sum(x), len(x)]]\n",
    "b = [np.dot(y,x), np.sum(y)]\n",
    "\n",
    "A = np.asarray(A)\n",
    "b = np.asarray(b)\n",
    "\n",
    "a0, a1 = np.linalg.solve(A, b)\n",
    "a0, a1"
   ]
  },
  {
   "cell_type": "markdown",
   "metadata": {},
   "source": [
    "Uporaba vgrajene numpy funkcije:"
   ]
  },
  {
   "cell_type": "code",
   "execution_count": 5,
   "metadata": {
    "collapsed": false
   },
   "outputs": [
    {
     "data": {
      "image/png": "[encoded data removed]",
      "text/latex": [
       "$$\\begin{pmatrix}1.0, & -0.02\\end{pmatrix}$$"
      ],
      "text/plain": [
       "(1.0, -0.02)"
      ]
     },
     "execution_count": 5,
     "metadata": {},
     "output_type": "execute_result"
    }
   ],
   "source": [
    "a0_np, a1_np = np.polyfit(x, y, deg=1)\n",
    "a0_np, a1_np"
   ]
  },
  {
   "cell_type": "markdown",
   "metadata": {},
   "source": [
    "Parameter $a_0$ zgoraj predstavlja naklon premice, to je hkrati tudi vrednost prvega odvoda. "
   ]
  },
  {
   "cell_type": "markdown",
   "metadata": {},
   "source": [
    "Vprašanje 3: Na nateznem testu ste testirali aluminijeve vzorce; rezultati testa so podani spodaj.\n",
    "\n",
    "    Napetost [MPa]:\n",
    "$$\\sigma = [34.5, 69.0, 103.5, 138.0]$$\n",
    "\n",
    "    Specifična deformacija [mm/m]\n",
    "$$vzorec_1 = [0.46, 0.95, 1.48, 1.93]$$\n",
    "$$vzorec_2 = [0.34, 1.02, 1.51, 2.09]$$\n",
    "$$vzorec_3 = [0.37, 1.00, 1.51, 2.05]$$\n",
    "    S pomočjo linearne aproksimacije določite elastični modul (napetost/specifična deformacija) vsakega posameznega vzorca.\n",
    "    "
   ]
  },
  {
   "cell_type": "markdown",
   "metadata": {},
   "source": [
    "Definiramo podatke:"
   ]
  },
  {
   "cell_type": "code",
   "execution_count": 6,
   "metadata": {
    "collapsed": false
   },
   "outputs": [],
   "source": [
    "sigma = np.asarray([34.5, 69, 103.5, 138], dtype=float)               # [Mpa]\n",
    "epsilon_1 = np.asarray([0.46, 0.95, 1.48, 1.93], dtype=float)         # [mm/m] \n",
    "epsilon_2 = np.asarray([0.34, 1.02, 1.51, 2.09], dtype=float)         # [mm/m]\n",
    "epsilon_3 = np.asarray([0.37, 1.00, 1.51, 2.05], dtype=float)         # [mm/m]"
   ]
  },
  {
   "cell_type": "markdown",
   "metadata": {},
   "source": [
    "Linearna aproksimacija ($\\sigma = E\\,\\epsilon$): "
   ]
  },
  {
   "cell_type": "code",
   "execution_count": 7,
   "metadata": {
    "collapsed": false
   },
   "outputs": [
    {
     "name": "stdout",
     "output_type": "stream",
     "text": [
      "E_1: 69.77 GPa\n",
      "E_2: 59.87 GPa\n",
      "E_3: 62.04 GPa\n"
     ]
    }
   ],
   "source": [
    "E_1, zamik_1 = np.polyfit(epsilon_1, sigma, deg=1)\n",
    "E_2, zamik_2 = np.polyfit(epsilon_2, sigma, deg=1)\n",
    "E_3, zamik_3 = np.polyfit(epsilon_3, sigma, deg=1)\n",
    "\n",
    "print('E_1:{:6.4g} GPa'.format(E_1))\n",
    "print('E_2:{:6.4g} GPa'.format(E_2))\n",
    "print('E_3:{:6.4g} GPa'.format(E_3))"
   ]
  },
  {
   "cell_type": "markdown",
   "metadata": {},
   "source": [
    "Prikaz:"
   ]
  },
  {
   "cell_type": "code",
   "execution_count": 8,
   "metadata": {
    "collapsed": false
   },
   "outputs": [
    {
     "data": {
      "image/png": "[encoded data removed]",
      "text/plain": [
       "<matplotlib.figure.Figure at 0x556c7b8>"
      ]
     },
     "metadata": {},
     "output_type": "display_data"
    }
   ],
   "source": [
    "eps = epsilon_1\n",
    "sig = sigma\n",
    "fun = np.poly1d(np.polyfit(eps, sig, deg=1))  # Naredimo polinom s pomočjo np.poly1d \n",
    "#fun = np.poly1d([E_1, zamik_1])\n",
    "\n",
    "plt.plot(eps, sig, 'ro')\n",
    "plt.plot(eps, fun(eps));"
   ]
  },
  {
   "cell_type": "markdown",
   "metadata": {},
   "source": [
    "Vprašanje 4: Za Al vzorce zgoraj linearno aproksimirajte elastični modul čez vse vzorce. Določite tudi standardno napako (glejte ``np.std``)."
   ]
  },
  {
   "cell_type": "markdown",
   "metadata": {},
   "source": [
    "Najprej združimo vse specifične deformacije v en vektor:"
   ]
  },
  {
   "cell_type": "code",
   "execution_count": 9,
   "metadata": {
    "collapsed": false
   },
   "outputs": [
    {
     "data": {
      "text/plain": [
       "array([ 0.46,  0.95,  1.48,  1.93,  0.34,  1.02,  1.51,  2.09,  0.37,\n",
       "        1.  ,  1.51,  2.05])"
      ]
     },
     "execution_count": 9,
     "metadata": {},
     "output_type": "execute_result"
    }
   ],
   "source": [
    "epsilon = np.asarray([epsilon_1, epsilon_2, epsilon_3])\n",
    "epsilon = epsilon.flatten()    # Flatten vrne kopijo prvotnih podatkov, jih stisne v 1D niz\n",
    "epsilon"
   ]
  },
  {
   "cell_type": "markdown",
   "metadata": {},
   "source": [
    "Napetost ustrezno razširimo:"
   ]
  },
  {
   "cell_type": "code",
   "execution_count": 10,
   "metadata": {
    "collapsed": false
   },
   "outputs": [
    {
     "data": {
      "text/plain": [
       "array([[  34.5,   69. ,  103.5,  138. ],\n",
       "       [  34.5,   69. ,  103.5,  138. ],\n",
       "       [  34.5,   69. ,  103.5,  138. ]])"
      ]
     },
     "execution_count": 10,
     "metadata": {},
     "output_type": "execute_result"
    }
   ],
   "source": [
    "sigma = np.asarray([sigma for _ in range(3)])\n",
    "sigma"
   ]
  },
  {
   "cell_type": "code",
   "execution_count": 11,
   "metadata": {
    "collapsed": false
   },
   "outputs": [
    {
     "data": {
      "text/plain": [
       "array([  34.5,   69. ,  103.5,  138. ,   34.5,   69. ,  103.5,  138. ,\n",
       "         34.5,   69. ,  103.5,  138. ])"
      ]
     },
     "execution_count": 11,
     "metadata": {},
     "output_type": "execute_result"
    }
   ],
   "source": [
    "sigma = sigma.flatten()   # Preoblikujemo v 1D niz\n",
    "sigma"
   ]
  },
  {
   "cell_type": "markdown",
   "metadata": {},
   "source": [
    "Linearno aproksimiramo čez vse vzorce (dobimo 3 rezultate, ker imamo 3 sete vzorcev):"
   ]
  },
  {
   "cell_type": "code",
   "execution_count": 12,
   "metadata": {
    "collapsed": false
   },
   "outputs": [
    {
     "data": {
      "image/png": "[encoded data removed]",
      "text/latex": [
       "$$63.3254230196$$"
      ],
      "text/plain": [
       "63.3254230196"
      ]
     },
     "execution_count": 12,
     "metadata": {},
     "output_type": "execute_result"
    }
   ],
   "source": [
    "fit = np.polyfit(epsilon, sigma, deg=1)\n",
    "fit_func = np.poly1d(fit)  # Pripravimo si funkcijo\n",
    "E, zamik = fit\n",
    "E"
   ]
  },
  {
   "cell_type": "markdown",
   "metadata": {},
   "source": [
    "Narišemo:"
   ]
  },
  {
   "cell_type": "code",
   "execution_count": 14,
   "metadata": {
    "collapsed": false
   },
   "outputs": [
    {
     "data": {
      "image/png": "[encoded data removed]",
      "text/plain": [
       "<matplotlib.figure.Figure at 0x8a89e80>"
      ]
     },
     "metadata": {},
     "output_type": "display_data"
    }
   ],
   "source": [
    "eps = epsilon\n",
    "sig = sigma\n",
    "\n",
    "plt.plot(eps, sig, 'ro')\n",
    "plt.plot(eps, fit_func(eps));"
   ]
  },
  {
   "cell_type": "markdown",
   "metadata": {},
   "source": [
    "Preverimo razliko med aproksimacijo in podatki:"
   ]
  },
  {
   "cell_type": "code",
   "execution_count": 15,
   "metadata": {
    "collapsed": false
   },
   "outputs": [
    {
     "data": {
      "text/plain": [
       "array([-3.2532802 ,  0.21726252,  1.15478832,  7.15834796,  4.34577056,\n",
       "       -4.2155171 , -0.74497437, -2.97371973,  2.44600787, -2.94900863,\n",
       "       -0.74497437, -0.44070281])"
      ]
     },
     "execution_count": 15,
     "metadata": {},
     "output_type": "execute_result"
    }
   ],
   "source": [
    "razlika = sigma - fit_func(eps)\n",
    "razlika"
   ]
  },
  {
   "cell_type": "markdown",
   "metadata": {},
   "source": [
    "Določimo standardno napako:"
   ]
  },
  {
   "cell_type": "code",
   "execution_count": 16,
   "metadata": {
    "collapsed": false
   },
   "outputs": [
    {
     "data": {
      "image/png": "[encoded data removed]",
      "text/latex": [
       "$$3.22347678196$$"
      ],
      "text/plain": [
       "3.22347678196"
      ]
     },
     "execution_count": 16,
     "metadata": {},
     "output_type": "execute_result"
    }
   ],
   "source": [
    "Std = np.std(razlika) \n",
    "Std"
   ]
  },
  {
   "cell_type": "markdown",
   "metadata": {},
   "source": [
    "Vprašanje 5: Raziščite pomoč za funkcijo ``np.polyfit`` in utežite različne vzorce z različno utežjo (npr. da prvi meritvi zaupate manj). Izračunajte nato linearno aproksimiran elastični modul."
   ]
  },
  {
   "cell_type": "markdown",
   "metadata": {},
   "source": [
    "Podobno kot zgoraj, le da dodatno definiramo še utež:"
   ]
  },
  {
   "cell_type": "code",
   "execution_count": 17,
   "metadata": {
    "collapsed": false
   },
   "outputs": [
    {
     "data": {
      "text/plain": [
       "array([ 0.1,  1. ,  1. ,  0.1,  0.1,  1. ,  1. ,  0.1,  0.1,  1. ,  1. ,\n",
       "        0.1])"
      ]
     },
     "execution_count": 17,
     "metadata": {},
     "output_type": "execute_result"
    }
   ],
   "source": [
    "# Definiramo utež (prvi in zadnji meritvi manj zaupamo)\n",
    "utez = np.asarray([0.1, 1, 1, 0.1])\n",
    "\n",
    "# Sedaj pa to pripravimo za vse vzorce\n",
    "utez = np.asarray([utez for _ in range(3)]).flatten()\n",
    "utez"
   ]
  },
  {
   "cell_type": "code",
   "execution_count": 18,
   "metadata": {
    "collapsed": false
   },
   "outputs": [
    {
     "data": {
      "image/png": "[encoded data removed]",
      "text/latex": [
       "$$66.7055783693$$"
      ],
      "text/plain": [
       "66.7055783693"
      ]
     },
     "execution_count": 18,
     "metadata": {},
     "output_type": "execute_result"
    }
   ],
   "source": [
    "fit = np.polyfit(epsilon, sigma, deg=1, w=utez)\n",
    "fit_func = np.poly1d(fit) # Pripravimo si funkcijo\n",
    "E, zamik = fit\n",
    "E"
   ]
  },
  {
   "cell_type": "code",
   "execution_count": 19,
   "metadata": {
    "collapsed": false
   },
   "outputs": [
    {
     "data": {
      "image/png": "[encoded data removed]",
      "text/plain": [
       "<matplotlib.figure.Figure at 0x8a852b0>"
      ]
     },
     "metadata": {},
     "output_type": "display_data"
    }
   ],
   "source": [
    "eps = epsilon\n",
    "sig = sigma\n",
    "\n",
    "plt.plot(eps, sig, 'ro')\n",
    "plt.plot(eps, fit_func(eps));"
   ]
  }
 ],
 "metadata": {
  "kernelspec": {
   "display_name": "Python 3",
   "language": "python",
   "name": "python3"
  },
  "language_info": {
   "codemirror_mode": {
    "name": "ipython",
    "version": 3
   },
   "file_extension": ".py",
   "mimetype": "text/x-python",
   "name": "python",
   "nbconvert_exporter": "python",
   "pygments_lexer": "ipython3",
   "version": "3.4.3"
  }
 },
 "nbformat": 4,
 "nbformat_minor": 0
}
