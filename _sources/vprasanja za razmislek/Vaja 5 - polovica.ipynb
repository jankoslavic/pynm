{
 "cells": [
  {
   "cell_type": "markdown",
   "metadata": {},
   "source": [
    "Marec 2015, J.Slavič in L.Knez"
   ]
  },
  {
   "cell_type": "markdown",
   "metadata": {},
   "source": [
    "Vprašanje 1: Za sistem enačb: \n",
    "    $$\n",
    "    \\mathbf{A}=\n",
    "    \\begin{bmatrix}\n",
    "    1 & -4 & 1\\\\\n",
    "    1 & 6 & -1\\\\\n",
    "    2 & -1 & 2\n",
    "    \\end{bmatrix}\n",
    "    \\qquad\n",
    "    \\mathbf{b}=\n",
    "    \\begin{bmatrix}\n",
    "    7\\\\\n",
    "    13\\\\\n",
    "    5\n",
    "    \\end{bmatrix}\n",
    "    $$\n",
    "\n",
    "najdite rešitev s pomočjo ``SymPy``."
   ]
  },
  {
   "cell_type": "code",
   "execution_count": 1,
   "metadata": {
    "collapsed": false
   },
   "outputs": [
    {
     "data": {
      "image/png": "[encoded data removed]",
      "text/latex": [
       "$$\\left[\\begin{matrix}x_{1} - 4 x_{2} + x_{3}\\\\x_{1} + 6 x_{2} - x_{3}\\\\2 x_{1} - x_{2} + 2 x_{3}\\end{matrix}\\right] = \\left[\\begin{matrix}7\\\\13\\\\5\\end{matrix}\\right]$$"
      ],
      "text/plain": [
       "⎡ x₁ - 4⋅x₂ + x₃ ⎤ = ⎡7 ⎤\n",
       "⎢                ⎥   ⎢  ⎥\n",
       "⎢ x₁ + 6⋅x₂ - x₃ ⎥   ⎢13⎥\n",
       "⎢                ⎥   ⎢  ⎥\n",
       "⎣2⋅x₁ - x₂ + 2⋅x₃⎦   ⎣5 ⎦"
      ]
     },
     "execution_count": 1,
     "metadata": {},
     "output_type": "execute_result"
    }
   ],
   "source": [
    "from sympy import *\n",
    "init_printing()\n",
    "\n",
    "# Definiramo simbolične spremenljivke\n",
    "x1, x2, x3 = symbols('x1, x2, x3')\n",
    "\n",
    "# Definiramo sistem\n",
    "A = Matrix([[1, -4, 1],\n",
    "            [1, 6, -1],\n",
    "            [2, -1, 2]])\n",
    "x = Matrix([[x1],\n",
    "            [x2],\n",
    "            [x3]])\n",
    "b = Matrix([[7],\n",
    "            [13],\n",
    "            [5]])\n",
    "\n",
    "eq = Eq(A*x,b)\n",
    "eq"
   ]
  },
  {
   "cell_type": "code",
   "execution_count": 2,
   "metadata": {
    "collapsed": false
   },
   "outputs": [
    {
     "data": {
      "image/png": "[encoded data removed]",
      "text/latex": [
       "$$\\begin{Bmatrix}x_{1} : \\frac{79}{7}, & x_{2} : - \\frac{9}{7}, & x_{3} : - \\frac{66}{7}\\end{Bmatrix}$$"
      ],
      "text/plain": [
       "{x₁: 79/7, x₂: -9/7, x₃: -66/7}"
      ]
     },
     "execution_count": 2,
     "metadata": {},
     "output_type": "execute_result"
    }
   ],
   "source": [
    "resitev = solve(eq,[x1, x2, x3])\n",
    "resitev"
   ]
  },
  {
   "cell_type": "markdown",
   "metadata": {},
   "source": [
    "Vprašanje 2: Za zgoraj definirano matriko $\\mathbf{A}$ določite Evklidsko normo (lastni program)."
   ]
  },
  {
   "cell_type": "code",
   "execution_count": 3,
   "metadata": {
    "collapsed": false
   },
   "outputs": [
    {
     "data": {
      "text/plain": [
       "array([[ 1., -4.,  1.],\n",
       "       [ 1.,  6., -1.],\n",
       "       [ 2., -1.,  2.]])"
      ]
     },
     "execution_count": 3,
     "metadata": {},
     "output_type": "execute_result"
    }
   ],
   "source": [
    "# Pretvorimo podatke v np.array\n",
    "\n",
    "import numpy as np\n",
    "a = np.array(A).astype(float)   # Pazite, da spremenite v float, v osnovi je object\n",
    "a"
   ]
  },
  {
   "cell_type": "code",
   "execution_count": 4,
   "metadata": {
    "collapsed": false
   },
   "outputs": [
    {
     "data": {
      "image/png": "[encoded data removed]",
      "text/latex": [
       "$$8.0622577483$$"
      ],
      "text/plain": [
       "8.0622577483"
      ]
     },
     "execution_count": 4,
     "metadata": {},
     "output_type": "execute_result"
    }
   ],
   "source": [
    "# Hitra varianta\n",
    "\n",
    "A_evk = np.sqrt(np.sum(a**2))\n",
    "A_evk"
   ]
  },
  {
   "cell_type": "code",
   "execution_count": 5,
   "metadata": {
    "collapsed": false
   },
   "outputs": [
    {
     "data": {
      "image/png": "[encoded data removed]",
      "text/latex": [
       "$$8.0622577483$$"
      ],
      "text/plain": [
       "8.0622577483"
      ]
     },
     "execution_count": 5,
     "metadata": {},
     "output_type": "execute_result"
    }
   ],
   "source": [
    "# Pocasna varianta\n",
    "\n",
    "vsota = 0\n",
    "for vrstica in a:\n",
    "    for element in vrstica:\n",
    "        vsota += element**2\n",
    "        \n",
    "A_evk = vsota**0.5\n",
    "A_evk\n",
    "    "
   ]
  },
  {
   "cell_type": "markdown",
   "metadata": {},
   "source": [
    "Vprašanje 3: Za zgoraj definirano matriko $\\mathbf{A}$ določite neskončno normo (lastni program)."
   ]
  },
  {
   "cell_type": "code",
   "execution_count": 6,
   "metadata": {
    "collapsed": false
   },
   "outputs": [
    {
     "data": {
      "image/png": "[encoded data removed]",
      "text/latex": [
       "$$8.0$$"
      ],
      "text/plain": [
       "8.0"
      ]
     },
     "execution_count": 6,
     "metadata": {},
     "output_type": "execute_result"
    }
   ],
   "source": [
    "# Hitra varianta\n",
    "\n",
    "A_oo = max(abs(a).sum(axis=1))\n",
    "A_oo"
   ]
  },
  {
   "cell_type": "code",
   "execution_count": 7,
   "metadata": {
    "collapsed": false
   },
   "outputs": [
    {
     "data": {
      "image/png": "[encoded data removed]",
      "text/latex": [
       "$$8.0$$"
      ],
      "text/plain": [
       "8.00000000000000"
      ]
     },
     "execution_count": 7,
     "metadata": {},
     "output_type": "execute_result"
    }
   ],
   "source": [
    "# Pocasna varianta\n",
    "\n",
    "vsota = zeros(1,3)\n",
    "for i, vrstica in enumerate(a):\n",
    "    vsota[i] = sum(abs(vrstica))\n",
    "\n",
    "A_oo = max(vsota)\n",
    "A_oo"
   ]
  },
  {
   "cell_type": "markdown",
   "metadata": {},
   "source": [
    "Vprašanje 4: Za zgoraj definirano matriko $\\mathbf{A}$ določite pogojenost (``numpy`` funkcija)."
   ]
  },
  {
   "cell_type": "code",
   "execution_count": 8,
   "metadata": {
    "collapsed": false
   },
   "outputs": [
    {
     "data": {
      "image/png": "[encoded data removed]",
      "text/latex": [
       "$$11.773024149$$"
      ],
      "text/plain": [
       "11.773024149"
      ]
     },
     "execution_count": 8,
     "metadata": {},
     "output_type": "execute_result"
    }
   ],
   "source": [
    "pogojenost = np.linalg.cond(a)\n",
    "pogojenost"
   ]
  },
  {
   "cell_type": "markdown",
   "metadata": {},
   "source": [
    "Vprašanje 5: Definirajte funkcijo ``gauss_elim``, ki za poljubno matriko $\\mathbf{A}$ in vektor $\\mathbf{b}$ izvede Gaussovo eliminacijo (posebej za matriko in posebej za vektor)."
   ]
  },
  {
   "cell_type": "code",
   "execution_count": 9,
   "metadata": {
    "collapsed": false
   },
   "outputs": [],
   "source": [
    "# Definiramo podatke\n",
    "A_pod = np.array([[1, -4, 1],\n",
    "                  [1, 6, -1],\n",
    "                  [2, -1, 2]], dtype=float)\n",
    "        \n",
    "b_pod = np.array([[7],\n",
    "                  [13],\n",
    "                  [5]], dtype=float)"
   ]
  },
  {
   "cell_type": "code",
   "execution_count": 10,
   "metadata": {
    "collapsed": false
   },
   "outputs": [],
   "source": [
    "# Funkcija \n",
    "def gauss_elim(A, b):\n",
    "    n = len(b)\n",
    "    \n",
    "    for k in range(0,n-1):    \n",
    "        for i in range(k+1,n):   \n",
    "            if A[i,k] != 0.0:\n",
    "                faktor =  A[i,k]/A[k,k]                 \n",
    "                A[i,k:n] = A[i,k:n] - faktor*A[k,k:n]   \n",
    "                b[i] = b[i] - faktor*b[k]              \n",
    "                \n",
    "    \n",
    "    return A, b\n",
    "    "
   ]
  },
  {
   "cell_type": "code",
   "execution_count": 11,
   "metadata": {
    "collapsed": false
   },
   "outputs": [
    {
     "data": {
      "text/plain": [
       "array([[  1. ,  -4. ,   1. ],\n",
       "       [  0. ,  10. ,  -2. ],\n",
       "       [  0. ,   0. ,   1.4]])"
      ]
     },
     "execution_count": 11,
     "metadata": {},
     "output_type": "execute_result"
    }
   ],
   "source": [
    "# Uporaba funkcije\n",
    "[A, b] = gauss_elim(A_pod.copy(), b_pod.copy())\n",
    "\n",
    "A"
   ]
  },
  {
   "cell_type": "code",
   "execution_count": 12,
   "metadata": {
    "collapsed": false
   },
   "outputs": [
    {
     "data": {
      "text/plain": [
       "array([[  7. ],\n",
       "       [  6. ],\n",
       "       [-13.2]])"
      ]
     },
     "execution_count": 12,
     "metadata": {},
     "output_type": "execute_result"
    }
   ],
   "source": [
    "b"
   ]
  },
  {
   "cell_type": "markdown",
   "metadata": {},
   "source": [
    "Vprašanje 6: Definirajte funkcijo ``gauss_elim_x``, ki za razultat funkcije ``gaus_elim`` najde ustrezne vrednosti vektorja $\\textbf{x}$."
   ]
  },
  {
   "cell_type": "code",
   "execution_count": 13,
   "metadata": {
    "collapsed": false
   },
   "outputs": [],
   "source": [
    "# Funkcija \n",
    "def gauss_elim_x(A, b):\n",
    "    Ab = np.column_stack((A,b))   # Sestavimo v sistem Ab\n",
    "    n = len(b)                    \n",
    "    res = np.zeros(n)             # Pripravimo seznam ničel za rešitev\n",
    "    \n",
    "    for k, vrsta in enumerate(Ab[::-1]):  \n",
    "        res[n-k-1] = (vrsta[-1] - np.dot(vrsta[n-k:-1], res[n-k:]) ) / (vrsta[n-k-1])\n",
    "        \n",
    "    \n",
    "    return res"
   ]
  },
  {
   "cell_type": "code",
   "execution_count": 14,
   "metadata": {
    "collapsed": false
   },
   "outputs": [
    {
     "data": {
      "text/plain": [
       "array([ 11.28571429,  -1.28571429,  -9.42857143])"
      ]
     },
     "execution_count": 14,
     "metadata": {},
     "output_type": "execute_result"
    }
   ],
   "source": [
    "x = gauss_elim_x(A.copy(), b.copy())\n",
    "x\n"
   ]
  },
  {
   "cell_type": "code",
   "execution_count": 15,
   "metadata": {
    "collapsed": false
   },
   "outputs": [
    {
     "data": {
      "text/plain": [
       "array([[ -8.88178420e-16,   0.00000000e+00,  -2.66453526e-15]])"
      ]
     },
     "execution_count": 15,
     "metadata": {},
     "output_type": "execute_result"
    }
   ],
   "source": [
    "# Preverimo rešitev\n",
    "ostanek = np.dot(A_pod,x) - b_pod.T\n",
    "ostanek"
   ]
  },
  {
   "cell_type": "code",
   "execution_count": null,
   "metadata": {
    "collapsed": false
   },
   "outputs": [],
   "source": []
  }
 ],
 "metadata": {
  "kernelspec": {
   "display_name": "Python 3",
   "language": "python",
   "name": "python3"
  },
  "language_info": {
   "codemirror_mode": {
    "name": "ipython",
    "version": 3
   },
   "file_extension": ".py",
   "mimetype": "text/x-python",
   "name": "python",
   "nbconvert_exporter": "python",
   "pygments_lexer": "ipython3",
   "version": "3.4.3"
  }
 },
 "nbformat": 4,
 "nbformat_minor": 0
}
