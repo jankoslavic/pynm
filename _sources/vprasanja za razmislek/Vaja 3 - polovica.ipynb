{
 "cells": [
  {
   "cell_type": "markdown",
   "metadata": {},
   "source": [
    "Feb 2015, J. Slavič in L.Knez"
   ]
  },
  {
   "cell_type": "markdown",
   "metadata": {},
   "source": [
    "Vprašanje 1: Naredite slovar lokalno nameščenih modulov (uporabite izpeljevanje slovarjev, key naj bo ime modula, vrednost naj bo verzija)."
   ]
  },
  {
   "cell_type": "code",
   "execution_count": 7,
   "metadata": {
    "collapsed": false
   },
   "outputs": [
    {
     "data": {
      "text/plain": [
       "{'lxml': '3.4.0',\n",
       " 'binstar': '0.7.1',\n",
       " 'nose': '1.3.4',\n",
       " 'jinja2': '2.7.3',\n",
       " 'pycparser': '2.10',\n",
       " 'statsmodels': '0.5.0',\n",
       " 'multipledispatch': '0.4.7',\n",
       " 'pyside': '1.2.2',\n",
       " 'decorator': '3.4.0',\n",
       " 'pyyaml': '3.11',\n",
       " 'rope-py3k': '0.9.4-1',\n",
       " 'sympy': '0.7.5',\n",
       " 'pygments': '1.6',\n",
       " 'python-dateutil': '2.1',\n",
       " 'mock': '1.0.1',\n",
       " 'scipy': '0.14.0',\n",
       " 'sqlalchemy': '0.9.7',\n",
       " 'jdcal': '1.0',\n",
       " 'numba': '0.14.0',\n",
       " 'psutil': '2.1.1',\n",
       " 'youtube-dl': '2015.02.19.2',\n",
       " 'networkx': '1.9.1',\n",
       " 'colorama': '0.3.1',\n",
       " 'nltk': '3.0.0',\n",
       " 'py': '1.4.25',\n",
       " 'cryptography': '0.5.4',\n",
       " 'markupsafe': '0.23',\n",
       " 'menuinst': '1.0.4',\n",
       " 'sockjs-tornado': '1.0.1',\n",
       " 'blz': '0.6.2',\n",
       " 'pyparsing': '2.0.1',\n",
       " 'pillow': '2.7.0',\n",
       " 'spyder': '2.3.1',\n",
       " 'pywin32': '219',\n",
       " 'llvmpy': '0.12.7',\n",
       " 'numpy': '1.9.0',\n",
       " 'pytest': '2.6.3',\n",
       " 'conda-build': '1.8.2',\n",
       " 'docutils': '0.12',\n",
       " 'tables': '3.1.1',\n",
       " 'pytz': '2014.7',\n",
       " 'scikit-learn': '0.15.2',\n",
       " 'bokeh': '0.6.1',\n",
       " 'basemap': '1.0.8',\n",
       " 'astropy': '0.4.2',\n",
       " 'h5py': '2.3.1',\n",
       " 'pandas': '0.14.1',\n",
       " 'ipython': '2.2.0',\n",
       " 'pyzmq': '14.3.1',\n",
       " 'pycrypto': '2.6.1',\n",
       " 'datashape': '0.3.0',\n",
       " 'argcomplete': '0.8.1',\n",
       " 'pyopenssl': '0.14',\n",
       " 'ujson': '1.33',\n",
       " 'future': '0.13.1',\n",
       " 'openpyxl': '1.8.5',\n",
       " 'pyflakes': '0.8.1',\n",
       " 'sphinx': '1.2.3',\n",
       " 'blaze': '0.6.3',\n",
       " 'cython': '0.21',\n",
       " 'configobj': '5.0.6',\n",
       " 'xlrd': '0.9.3',\n",
       " 'toolz': '0.7.0',\n",
       " 'ply': '3.4',\n",
       " 'pycosat': '0.6.1',\n",
       " 'six': '1.8.0',\n",
       " 'cffi': '0.8.6',\n",
       " 'xlsxwriter': '0.5.7',\n",
       " 'werkzeug': '0.9.6',\n",
       " 'numexpr': '2.3.1',\n",
       " 'requests': '2.4.1',\n",
       " 'greenlet': '0.4.4',\n",
       " 'boto': '2.32.1',\n",
       " 'conda': '3.7.0',\n",
       " 'beautifulsoup4': '4.3.2',\n",
       " 'runipy': '0.1.1',\n",
       " 'tornado': '4.0.2',\n",
       " 'patsy': '0.3.0',\n",
       " 'bitarray': '0.8.1',\n",
       " 'cytoolz': '0.7.0',\n",
       " 'itsdangerous': '0.24',\n",
       " 'matplotlib': '1.4.0',\n",
       " 'scikit-image': '0.10.1',\n",
       " 'flask': '0.10.1',\n",
       " 'pyreadline': '2.0'}"
      ]
     },
     "execution_count": 7,
     "metadata": {},
     "output_type": "execute_result"
    }
   ],
   "source": [
    "import pip\n",
    "#moduli_vsi = {print(i.key) for i in pip.get_installed_distributions()}\n",
    "\n",
    "moduli_vsi = {i.key: i.version for i in pip.get_installed_distributions()}\n",
    "\n",
    "moduli_vsi\n"
   ]
  },
  {
   "cell_type": "markdown",
   "metadata": {},
   "source": [
    "Vprašanje 2: S pomočjo slovarja iz prejšnje točke čimbolj elegantno preverite ali so nameščeni sledeči moduli: ['numpy', 'scipy', 'matplotlib', 'pandas', 'pyjamas']."
   ]
  },
  {
   "cell_type": "code",
   "execution_count": 7,
   "metadata": {
    "collapsed": false
   },
   "outputs": [
    {
     "data": {
      "text/plain": [
       "{'matplotlib', 'numpy', 'pandas', 'scipy'}"
      ]
     },
     "execution_count": 7,
     "metadata": {},
     "output_type": "execute_result"
    }
   ],
   "source": [
    "moduli_iskani = {'numpy', 'scipy', 'matplotlib', 'pandas', 'pyjamas'}  # Naredim množico\n",
    "\n",
    "# Izpišejo se le tisti moduli, ki so naloženi (primerjamo obe množici, uporabimo and)\n",
    "moduli_vsi.keys() & moduli_iskani"
   ]
  },
  {
   "cell_type": "markdown",
   "metadata": {},
   "source": [
    "Vprašanje 3: Namestite poljubni modul iz https://pypi.python.org/pypi in ga preizkusite. Na vajah izpustimo."
   ]
  },
  {
   "cell_type": "markdown",
   "metadata": {},
   "source": [
    "Vprašanje 4: Pretvorite *navaden* Python seznam v ``numpy`` seznam. Preverite tip enega in drugega."
   ]
  },
  {
   "cell_type": "code",
   "execution_count": 3,
   "metadata": {
    "collapsed": false
   },
   "outputs": [],
   "source": [
    "matrika = [[1, 2, 3],\n",
    "           [4, 5, 6]]"
   ]
  },
  {
   "cell_type": "code",
   "execution_count": 4,
   "metadata": {
    "collapsed": false
   },
   "outputs": [
    {
     "data": {
      "text/plain": [
       "list"
      ]
     },
     "execution_count": 4,
     "metadata": {},
     "output_type": "execute_result"
    }
   ],
   "source": [
    "type(matrika)"
   ]
  },
  {
   "cell_type": "code",
   "execution_count": 5,
   "metadata": {
    "collapsed": false
   },
   "outputs": [
    {
     "data": {
      "text/plain": [
       "numpy.ndarray"
      ]
     },
     "execution_count": 5,
     "metadata": {},
     "output_type": "execute_result"
    }
   ],
   "source": [
    "import numpy as np\n",
    "matrika = np.asarray(matrika)\n",
    "type(matrika)"
   ]
  },
  {
   "cell_type": "code",
   "execution_count": 7,
   "metadata": {
    "collapsed": false
   },
   "outputs": [
    {
     "data": {
      "text/plain": [
       "array([[1, 2, 3],\n",
       "       [4, 5, 6]])"
      ]
     },
     "execution_count": 7,
     "metadata": {},
     "output_type": "execute_result"
    }
   ],
   "source": [
    "matrika"
   ]
  },
  {
   "cell_type": "markdown",
   "metadata": {},
   "source": [
    "Vprašanje 5: Raziščite funkcije: ``np.ones``, ``np.zeros_like``, ``np.arange``, ``np.linspace`` (ali zadnja funkcija lahko vrne korak?)."
   ]
  },
  {
   "cell_type": "code",
   "execution_count": 8,
   "metadata": {
    "collapsed": false
   },
   "outputs": [
    {
     "data": {
      "text/plain": [
       "array([[ 1.+0.j,  1.+0.j],\n",
       "       [ 1.+0.j,  1.+0.j],\n",
       "       [ 1.+0.j,  1.+0.j]])"
      ]
     },
     "execution_count": 8,
     "metadata": {},
     "output_type": "execute_result"
    }
   ],
   "source": [
    "a = np.ones((3, 2), dtype='complex')  \n",
    "a"
   ]
  },
  {
   "cell_type": "code",
   "execution_count": 9,
   "metadata": {
    "collapsed": false
   },
   "outputs": [
    {
     "data": {
      "text/plain": [
       "array([[ 0.+0.j,  0.+0.j],\n",
       "       [ 0.+0.j,  0.+0.j],\n",
       "       [ 0.+0.j,  0.+0.j]])"
      ]
     },
     "execution_count": 9,
     "metadata": {},
     "output_type": "execute_result"
    }
   ],
   "source": [
    "b = np.zeros_like(a)  # Vrne ničelno matriko z enako enako velikostjo in tipom spremenljivk\n",
    "b"
   ]
  },
  {
   "cell_type": "code",
   "execution_count": 13,
   "metadata": {
    "collapsed": false
   },
   "outputs": [
    {
     "data": {
      "text/plain": [
       "array([10, 12, 14, 16, 18, 20, 22, 24, 26, 28, 30, 32, 34, 36, 38, 40, 42,\n",
       "       44, 46, 48, 50, 52, 54, 56, 58, 60, 62, 64, 66, 68, 70, 72, 74, 76,\n",
       "       78, 80, 82, 84, 86, 88, 90, 92, 94, 96, 98])"
      ]
     },
     "execution_count": 13,
     "metadata": {},
     "output_type": "execute_result"
    }
   ],
   "source": [
    "c = np.arange(10, 100, 2)    # np.arrange(zacetek, konec, korak) , konca ne vrne\n",
    "c"
   ]
  },
  {
   "cell_type": "code",
   "execution_count": 14,
   "metadata": {
    "collapsed": false
   },
   "outputs": [
    {
     "data": {
      "text/plain": [
       "array([ 0. ,  0.1,  0.2,  0.3,  0.4,  0.5,  0.6,  0.7,  0.8,  0.9,  1. ])"
      ]
     },
     "execution_count": 14,
     "metadata": {},
     "output_type": "execute_result"
    }
   ],
   "source": [
    "d = np.linspace(0, 1, 11)   # linspace glede na trenutno definicijo poda 11 enakomerno oddaljenih točk\n",
    "d"
   ]
  },
  {
   "cell_type": "code",
   "execution_count": 15,
   "metadata": {
    "collapsed": false
   },
   "outputs": [
    {
     "data": {
      "text/plain": [
       "0.1"
      ]
     },
     "execution_count": 15,
     "metadata": {},
     "output_type": "execute_result"
    }
   ],
   "source": [
    "d, step = np.linspace(0, 1, 11, retstep=True)  # Vrne tudi korak\n",
    "step"
   ]
  },
  {
   "cell_type": "markdown",
   "metadata": {},
   "source": [
    "Vprašanje 6: Prikažite uporabo rezanja."
   ]
  },
  {
   "cell_type": "code",
   "execution_count": 16,
   "metadata": {
    "collapsed": false
   },
   "outputs": [
    {
     "data": {
      "text/plain": [
       "array([ 0. ,  0.1,  0.2,  0.3,  0.4,  0.5,  0.6,  0.7,  0.8,  0.9,  1. ])"
      ]
     },
     "execution_count": 16,
     "metadata": {},
     "output_type": "execute_result"
    }
   ],
   "source": [
    "d  "
   ]
  },
  {
   "cell_type": "code",
   "execution_count": 17,
   "metadata": {
    "collapsed": false
   },
   "outputs": [
    {
     "data": {
      "text/plain": [
       "array([ 1. ,  0.9,  0.8,  0.7,  0.6,  0.5,  0.4,  0.3,  0.2,  0.1,  0. ])"
      ]
     },
     "execution_count": 17,
     "metadata": {},
     "output_type": "execute_result"
    }
   ],
   "source": [
    "d[::-1]  # Od zadnje do prve"
   ]
  },
  {
   "cell_type": "code",
   "execution_count": 18,
   "metadata": {
    "collapsed": false
   },
   "outputs": [
    {
     "data": {
      "text/plain": [
       "array([ 0. ,  0.2,  0.4,  0.6,  0.8,  1. ])"
      ]
     },
     "execution_count": 18,
     "metadata": {},
     "output_type": "execute_result"
    }
   ],
   "source": [
    "d[::2]  # Od prve do zadnje s korakom 2"
   ]
  },
  {
   "cell_type": "code",
   "execution_count": 19,
   "metadata": {
    "collapsed": false
   },
   "outputs": [
    {
     "data": {
      "text/plain": [
       "array([ 0.4,  0.5,  0.6,  0.7,  0.8,  0.9,  1. ])"
      ]
     },
     "execution_count": 19,
     "metadata": {},
     "output_type": "execute_result"
    }
   ],
   "source": [
    "d[4:] # Od 4 do konca"
   ]
  },
  {
   "cell_type": "code",
   "execution_count": 20,
   "metadata": {
    "collapsed": false
   },
   "outputs": [
    {
     "data": {
      "text/plain": [
       "array([ 0.1,  0.2,  0.3,  0.4,  0.5,  0.6,  0.7,  0.8,  0.9,  1. ])"
      ]
     },
     "execution_count": 20,
     "metadata": {},
     "output_type": "execute_result"
    }
   ],
   "source": [
    "d[1:] # Od 1 do konca"
   ]
  },
  {
   "cell_type": "code",
   "execution_count": 21,
   "metadata": {
    "collapsed": false
   },
   "outputs": [
    {
     "data": {
      "text/plain": [
       "array([ 0.3,  0.4,  0.5,  0.6])"
      ]
     },
     "execution_count": 21,
     "metadata": {},
     "output_type": "execute_result"
    }
   ],
   "source": [
    "d[3:7] # Od 3 do 7 - pazi zadnjega! Polzaprt interval"
   ]
  },
  {
   "cell_type": "markdown",
   "metadata": {},
   "source": [
    "Vprašanje 7: Prikažite razliko med vrstičnim in stolpčnim vektorjem. Prikažite tipične matematične operacije med vektorji in matrikami."
   ]
  },
  {
   "cell_type": "code",
   "execution_count": 22,
   "metadata": {
    "collapsed": false
   },
   "outputs": [
    {
     "name": "stdout",
     "output_type": "stream",
     "text": [
      "[1 2 3]\n",
      "[[ 1.]\n",
      " [ 1.]\n",
      " [ 1.]]\n",
      "[[1 2 1]\n",
      " [3 2 1]\n",
      " [1 7 3]]\n",
      "[[1 3 1]\n",
      " [2 2 7]\n",
      " [1 1 3]]\n"
     ]
    }
   ],
   "source": [
    "# Vrstični vektor\n",
    "a = np.asarray([1, 2, 3])\n",
    "print(a)\n",
    "\n",
    "# Stolpični vektor\n",
    "b = np.ones((3, 1))\n",
    "print(b)\n",
    "\n",
    "# Naredimo še matriko\n",
    "A = np.array([[1, 2, 1], [3, 2, 1], [1, 7, 3]])\n",
    "print(A)\n",
    "\n",
    "# Transponiramo matriko\n",
    "B = A.transpose()\n",
    "print(B)"
   ]
  },
  {
   "cell_type": "code",
   "execution_count": 23,
   "metadata": {
    "collapsed": false
   },
   "outputs": [
    {
     "name": "stdout",
     "output_type": "stream",
     "text": [
      "[[1 6 1]\n",
      " [6 4 7]\n",
      " [1 7 9]]\n",
      "[[ 1  6  3]\n",
      " [ 2  4 21]\n",
      " [ 1  2  9]]\n",
      "[10 27 12]\n",
      "[[-7  2  1]\n",
      " [ 8 -1 -2]\n",
      " [ 3  0 -1]]\n"
     ]
    }
   ],
   "source": [
    "# Nekaj operacij:\n",
    "print(A*B)\n",
    "\n",
    "print(a*B)\n",
    "\n",
    "print(np.dot(a, A)) \n",
    "\n",
    "print(np.cross(a, B))\n"
   ]
  },
  {
   "cell_type": "markdown",
   "metadata": {},
   "source": [
    "Vprašanje 8: Ustvarite matriko ničel dimenzije 3 x 2 in drugi stolpec zapolnite z vektorjem enic."
   ]
  },
  {
   "cell_type": "code",
   "execution_count": 24,
   "metadata": {
    "collapsed": false
   },
   "outputs": [
    {
     "data": {
      "text/plain": [
       "array([[ 0.,  1.],\n",
       "       [ 0.,  1.],\n",
       "       [ 0.,  1.]])"
      ]
     },
     "execution_count": 24,
     "metadata": {},
     "output_type": "execute_result"
    }
   ],
   "source": [
    "C = np.zeros((3, 2))\n",
    "C[:, 1] = 1\n",
    "C"
   ]
  },
  {
   "cell_type": "markdown",
   "metadata": {},
   "source": [
    "Vprašanje 9: Ustvarite enotsko matriko dimenzije 5 podatkovnega tipa ``complex``."
   ]
  },
  {
   "cell_type": "code",
   "execution_count": 25,
   "metadata": {
    "collapsed": false
   },
   "outputs": [
    {
     "data": {
      "text/plain": [
       "array([[ 1.+0.j,  0.+0.j,  0.+0.j,  0.+0.j,  0.+0.j],\n",
       "       [ 0.+0.j,  1.+0.j,  0.+0.j,  0.+0.j,  0.+0.j],\n",
       "       [ 0.+0.j,  0.+0.j,  1.+0.j,  0.+0.j,  0.+0.j],\n",
       "       [ 0.+0.j,  0.+0.j,  0.+0.j,  1.+0.j,  0.+0.j],\n",
       "       [ 0.+0.j,  0.+0.j,  0.+0.j,  0.+0.j,  1.+0.j]])"
      ]
     },
     "execution_count": 25,
     "metadata": {},
     "output_type": "execute_result"
    }
   ],
   "source": [
    "I = np.identity(5, dtype=complex)\n",
    "I"
   ]
  },
  {
   "cell_type": "markdown",
   "metadata": {},
   "source": [
    "Vprašanje 10: Ustvarite matriko enic dimenzije ``N`` in izračunajte vsoto poljubnga stolpca. Poskusite najti najhitrejši in najelegantnejši (vektoriziran) način in ga primerjajte s pristopom v zanki. Namig: np.sum()."
   ]
  },
  {
   "cell_type": "code",
   "execution_count": 24,
   "metadata": {
    "collapsed": false
   },
   "outputs": [],
   "source": [
    "A = np.ones((1000,1000))"
   ]
  },
  {
   "cell_type": "code",
   "execution_count": 25,
   "metadata": {
    "collapsed": false
   },
   "outputs": [
    {
     "name": "stdout",
     "output_type": "stream",
     "text": [
      "1000.0\n"
     ]
    }
   ],
   "source": [
    "print(np.sum(A[:,1]))  # Sesteva po vseh vrsticah, po drugem stolpcu"
   ]
  },
  {
   "cell_type": "code",
   "execution_count": 26,
   "metadata": {
    "collapsed": false
   },
   "outputs": [
    {
     "name": "stdout",
     "output_type": "stream",
     "text": [
      "100000 loops, best of 3: 16.5 µs per loop\n"
     ]
    }
   ],
   "source": [
    "%timeit np.sum(A[:,1]) "
   ]
  },
  {
   "cell_type": "code",
   "execution_count": 27,
   "metadata": {
    "collapsed": false
   },
   "outputs": [
    {
     "data": {
      "text/plain": [
       "1000.0"
      ]
     },
     "execution_count": 27,
     "metadata": {},
     "output_type": "execute_result"
    }
   ],
   "source": [
    "out = 0.               # Bere vrstico po vrstico in nato sešteva drugi element (to je seveda drugi stolpec)\n",
    "for vrstica in A:\n",
    "    out += vrstica[1]\n",
    "    \n",
    "out"
   ]
  },
  {
   "cell_type": "code",
   "execution_count": 28,
   "metadata": {
    "collapsed": false
   },
   "outputs": [
    {
     "name": "stdout",
     "output_type": "stream",
     "text": [
      "1000 loops, best of 3: 337 µs per loop\n"
     ]
    }
   ],
   "source": [
    "%%timeit\n",
    "out = 0.\n",
    "for vrstica in A:\n",
    "    out += vrstica[1]"
   ]
  }
 ],
 "metadata": {
  "kernelspec": {
   "display_name": "Python 3",
   "language": "python",
   "name": "python3"
  },
  "language_info": {
   "codemirror_mode": {
    "name": "ipython",
    "version": 3
   },
   "file_extension": ".py",
   "mimetype": "text/x-python",
   "name": "python",
   "nbconvert_exporter": "python",
   "pygments_lexer": "ipython3",
   "version": "3.4.3"
  }
 },
 "nbformat": 4,
 "nbformat_minor": 0
}
