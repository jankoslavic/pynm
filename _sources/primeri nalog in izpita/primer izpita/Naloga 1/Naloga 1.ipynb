{
 "cells": [
  {
   "cell_type": "code",
   "execution_count": null,
   "metadata": {
    "collapsed": true
   },
   "outputs": [],
   "source": [
    "import numpy as np"
   ]
  },
  {
   "cell_type": "markdown",
   "metadata": {},
   "source": [
    "# Izpit NM / PiNM, naloga 1"
   ]
  },
  {
   "cell_type": "markdown",
   "metadata": {},
   "source": [
    "## Naloga 1: Iskanje ničel"
   ]
  },
  {
   "cell_type": "markdown",
   "metadata": {},
   "source": [
    "Podan imamo ročični meanizem z ročicama dolžin $r$ in $l$ ter podano hitrostjo bata: $$x'(\\alpha)= -r\\,\\sin{(\\alpha)}-\\frac{r^2\\,\\sin{\\alpha}\\,\\cos{\\alpha}}{\\sqrt{l^2-(r\\,\\sin{\\alpha})^2}}$$Pri tem je kot alpha definiran na območju $\\alpha\\in[0, 2\\pi]$ z $n$ točkami."
   ]
  },
  {
   "cell_type": "markdown",
   "metadata": {},
   "source": [
    "<img width=500 src='slika_NIC.jpg'>"
   ]
  },
  {
   "cell_type": "code",
   "execution_count": null,
   "metadata": {
    "collapsed": true
   },
   "outputs": [],
   "source": [
    "A = -1 # m/s\n",
    "l = 1.7999999999999998 # m\n",
    "n = 5000 # /\n",
    "r = 1.3 # m"
   ]
  },
  {
   "cell_type": "markdown",
   "metadata": {},
   "source": [
    "### 1. vprašanje\n",
    "\n",
    " Newton-Raphsonova metoda spada med iterativne metode iskanja ničel. (1:Da, 2:Ne)"
   ]
  },
  {
   "cell_type": "code",
   "execution_count": null,
   "metadata": {
    "collapsed": true
   },
   "outputs": [],
   "source": [
    "odgovor1 = #?"
   ]
  },
  {
   "cell_type": "markdown",
   "metadata": {},
   "source": [
    "### 2. vprašanje\n",
    "\n",
    " Določite vrednosti $x'(\\alpha)$.\n",
    "\n",
    "Enote:  m/s"
   ]
  },
  {
   "cell_type": "code",
   "execution_count": null,
   "metadata": {
    "collapsed": true
   },
   "outputs": [],
   "source": [
    "odgovor2 = #?"
   ]
  },
  {
   "cell_type": "markdown",
   "metadata": {},
   "source": [
    "### 3. vprašanje\n",
    "\n",
    " Določite vrednosti pospeška $x''(\\alpha)$. (Namig: pri odvajanju si lahko pomagate z modulom `sympy`.)\n",
    "\n",
    "Enote:  m/s$^2$"
   ]
  },
  {
   "cell_type": "code",
   "execution_count": null,
   "metadata": {
    "collapsed": true
   },
   "outputs": [],
   "source": [
    "odgovor3 = #?"
   ]
  },
  {
   "cell_type": "markdown",
   "metadata": {},
   "source": [
    "### 4. vprašanje\n",
    "\n",
    " Z uporabo Newton-Raphsonove metode določite seznam kotov $\\alpha$ na območju $\\alpha\\in[0,\\,2\\pi]$, ko je hitrost $\\dot{x}(\\alpha)$ enaka nič. Uporabite funkcijo `scipy.optimize.newton`.\n",
    "\n",
    "Enote:  rad"
   ]
  },
  {
   "cell_type": "code",
   "execution_count": null,
   "metadata": {
    "collapsed": true
   },
   "outputs": [],
   "source": [
    "odgovor4 = #?"
   ]
  },
  {
   "cell_type": "markdown",
   "metadata": {},
   "source": [
    "### 5. vprašanje\n",
    "\n",
    " S pomočjo sekantne metode določite položaj $\\alpha$, kjer ima bat najmanjšo hitrost.\n",
    "\n",
    "Enote:  rad"
   ]
  },
  {
   "cell_type": "code",
   "execution_count": null,
   "metadata": {
    "collapsed": true
   },
   "outputs": [],
   "source": [
    "odgovor5 = #?"
   ]
  }
 ],
 "metadata": {
  "kernelspec": {
   "display_name": "Python 3",
   "language": "python",
   "name": "python3"
  },
  "language_info": {
   "codemirror_mode": {
    "name": "ipython",
    "version": 3
   },
   "file_extension": ".py",
   "mimetype": "text/x-python",
   "name": "python",
   "nbconvert_exporter": "python",
   "pygments_lexer": "ipython3",
   "version": "3.6.1"
  }
 },
 "nbformat": 4,
 "nbformat_minor": 1
}
