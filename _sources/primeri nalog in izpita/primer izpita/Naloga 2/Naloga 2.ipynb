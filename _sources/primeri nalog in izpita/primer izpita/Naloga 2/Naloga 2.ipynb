{
 "cells": [
  {
   "cell_type": "code",
   "execution_count": null,
   "metadata": {
    "collapsed": true
   },
   "outputs": [],
   "source": [
    "import numpy as np"
   ]
  },
  {
   "cell_type": "markdown",
   "metadata": {},
   "source": [
    "# Izpit NM / PiNM, naloga 2"
   ]
  },
  {
   "cell_type": "markdown",
   "metadata": {},
   "source": [
    "## Naloga 2: Numerično reševanje diferencialnih enačb"
   ]
  },
  {
   "cell_type": "markdown",
   "metadata": {},
   "source": [
    "Radi tečete, vendar imate pogosto težave s sklepi zaradi prenosnosti vibroizolacije vaših tekaških copat. Želite zmanjšati prenosnost, zato ste izmerili maso $m$, togost $k$ in faktor dušenja $d$ vaših copat. Obutega tekača poenostavite z diferencialno enačbo $m\\,\\ddot{x}(t) + d\\,\\dot{x}(t) + k\\,x(t)=F(t)$, pri čemer je sila $F(t)$ definirana kot $F(t)=C\\,t^2+8\\,D\\,t\\,\\arctan{(\\omega\\,t)}$ in je čas $t$ definiran z $n$ točkami na območju $t\\in[t_0, t_1]$."
   ]
  },
  {
   "cell_type": "markdown",
   "metadata": {},
   "source": [
    "<img width=500 src='slika_DEZ.jpg'>"
   ]
  },
  {
   "cell_type": "code",
   "execution_count": null,
   "metadata": {
    "collapsed": true
   },
   "outputs": [],
   "source": [
    "omega = 3.5 # rad/s\n",
    "C = 300 # N/s^2\n",
    "D = 1 # N/s\n",
    "d = 117 # Nm/s\n",
    "k = 150000 # N/m\n",
    "m = 0.25 # kg\n",
    "n = 1900 # \n",
    "t_0 = 4.0E-4 # s\n",
    "t_1 = 0.01 # s"
   ]
  },
  {
   "cell_type": "markdown",
   "metadata": {},
   "source": [
    "### 1. vprašanje\n",
    "\n",
    "Velikost časovnega koraka pomembno vpliva na končno rešitev navadne diferencialne enačbe (začetni problem) (1: Da, 2: Ne)."
   ]
  },
  {
   "cell_type": "code",
   "execution_count": null,
   "metadata": {
    "collapsed": true
   },
   "outputs": [],
   "source": [
    "odgovor1 = #?"
   ]
  },
  {
   "cell_type": "markdown",
   "metadata": {},
   "source": [
    "### 2. vprašanje\n",
    "\n",
    " Določite numerično polje sile $F(t)$.\n",
    "\n",
    "Enote:  N"
   ]
  },
  {
   "cell_type": "code",
   "execution_count": null,
   "metadata": {
    "collapsed": true
   },
   "outputs": [],
   "source": [
    "odgovor2 = #?"
   ]
  },
  {
   "cell_type": "markdown",
   "metadata": {},
   "source": [
    "### 3. vprašanje\n",
    "\n",
    " S pomočjo funkcije `scipy.integrate.odeint` rešite diferencialno enačbo in določite numerično polje pomikov $x(t)$.  Za začetne pogoje uporabite $x(t_0) = 0$ in $\\dot{x}(t_0) = 0$.\n",
    "\n",
    "Enote:  m"
   ]
  },
  {
   "cell_type": "code",
   "execution_count": null,
   "metadata": {
    "collapsed": true
   },
   "outputs": [],
   "source": [
    "odgovor3 = #?"
   ]
  },
  {
   "cell_type": "markdown",
   "metadata": {},
   "source": [
    "### 4. vprašanje\n",
    "\n",
    " Določite numerično polje hitrosti $\\dot{x}(t)$.\n",
    "\n",
    "Enote:  m/s"
   ]
  },
  {
   "cell_type": "code",
   "execution_count": null,
   "metadata": {
    "collapsed": true
   },
   "outputs": [],
   "source": [
    "odgovor4 = #?"
   ]
  },
  {
   "cell_type": "markdown",
   "metadata": {},
   "source": [
    "### 5. vprašanje\n",
    "\n",
    " Določite še numerično polje pospeškov $\\ddot{x}(t)$.\n",
    "\n",
    "Enote:  m/s$^2$"
   ]
  },
  {
   "cell_type": "code",
   "execution_count": null,
   "metadata": {
    "collapsed": true
   },
   "outputs": [],
   "source": [
    "odgovor5 = #?"
   ]
  }
 ],
 "metadata": {
  "kernelspec": {
   "display_name": "Python 3",
   "language": "python",
   "name": "python3"
  },
  "language_info": {
   "codemirror_mode": {
    "name": "ipython",
    "version": 3
   },
   "file_extension": ".py",
   "mimetype": "text/x-python",
   "name": "python",
   "nbconvert_exporter": "python",
   "pygments_lexer": "ipython3",
   "version": "3.6.1"
  }
 },
 "nbformat": 4,
 "nbformat_minor": 1
}
