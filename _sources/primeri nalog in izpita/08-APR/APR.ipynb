{
 "cells": [
  {
   "cell_type": "code",
   "execution_count": null,
   "metadata": {
    "collapsed": true
   },
   "outputs": [],
   "source": [
    "import numpy as np"
   ]
  },
  {
   "cell_type": "markdown",
   "metadata": {},
   "source": [
    "# APR"
   ]
  },
  {
   "cell_type": "markdown",
   "metadata": {},
   "source": [
    "Na sliki je prikazana merjena temperature vode. Podana je tabela temperature $T$ v odvisnosti od časa $t$. Skozi merjene točke želimo določiti aproksimacijski polinom stopnje $s$."
   ]
  },
  {
   "cell_type": "markdown",
   "metadata": {},
   "source": [
    "<img width='600px' src='APR.jpeg'>"
   ]
  },
  {
   "cell_type": "code",
   "execution_count": null,
   "metadata": {
    "collapsed": true
   },
   "outputs": [],
   "source": [
    "s = 3 # \n",
    "t = 62 # s\n",
    "t_1 = 51.9 # s\n",
    "t_2 = 61.2 # s\n",
    "t_3 = 71.2 # s\n",
    "t_4 = 80.4 # s\n",
    "t_5 = 91.5 # s\n",
    "t_6 = 98.2 # s\n",
    "T_1 = -29.1 # °C\n",
    "T_2 = -19.1 # °C\n",
    "T_3 = -8.3 # °C\n",
    "T_4 = 8.4 # °C\n",
    "T_5 = 18.9 # °C\n",
    "T_6 = 29.3 # °C\n"
   ]
  },
  {
   "cell_type": "markdown",
   "metadata": {},
   "source": [
    "### 1. vprašanje\n",
    "\n",
    " Aproksimacijsko krivuljo določimo glede na maksimum kvadrata odstopkov! (1: Da, 2: Ne)\n"
   ]
  },
  {
   "cell_type": "code",
   "execution_count": null,
   "metadata": {
    "collapsed": true
   },
   "outputs": [],
   "source": [
    "odgovor1 = # #?"
   ]
  },
  {
   "cell_type": "markdown",
   "metadata": {},
   "source": [
    "### 2. vprašanje\n",
    "\n",
    " Pri aproksimaciji tipično uporabljamo polinome visokih stopenj! (1: Da, 2: Ne)\n"
   ]
  },
  {
   "cell_type": "code",
   "execution_count": null,
   "metadata": {
    "collapsed": true
   },
   "outputs": [],
   "source": [
    "odgovor2 = # #?"
   ]
  },
  {
   "cell_type": "markdown",
   "metadata": {},
   "source": [
    "### 3. vprašanje\n",
    "\n",
    " Določite aproksimacijski polinom stopnje $s$. Vpišite numerično polje koeficientov polinoma (začnite s koeficientom člena z najvišjo potenco)."
   ]
  },
  {
   "cell_type": "code",
   "execution_count": null,
   "metadata": {
    "collapsed": true
   },
   "outputs": [],
   "source": [
    "odgovor3 = # #?"
   ]
  },
  {
   "cell_type": "markdown",
   "metadata": {},
   "source": [
    "### 4. vprašanje\n",
    "\n",
    " Določite aproksimirano temperaturo vode pri času $t$.\n",
    "\n",
    "Enote: °C"
   ]
  },
  {
   "cell_type": "code",
   "execution_count": null,
   "metadata": {
    "collapsed": true
   },
   "outputs": [],
   "source": [
    "odgovor4 = # #?"
   ]
  },
  {
   "cell_type": "markdown",
   "metadata": {},
   "source": [
    "### 5. vprašanje\n",
    "\n",
    " Določite čas prehoda čez temperaturo 0°C.\n",
    "\n",
    "Enote: s"
   ]
  },
  {
   "cell_type": "code",
   "execution_count": null,
   "metadata": {
    "collapsed": true
   },
   "outputs": [],
   "source": [
    "odgovor5 = # #?"
   ]
  }
 ],
 "metadata": {
  "kernelspec": {
   "display_name": "Python 3",
   "language": "python",
   "name": "python3"
  },
  "language_info": {
   "codemirror_mode": {
    "name": "ipython",
    "version": 3
   },
   "file_extension": ".py",
   "mimetype": "text/x-python",
   "name": "python",
   "nbconvert_exporter": "python",
   "pygments_lexer": "ipython3",
   "version": "3.6.1"
  }
 },
 "nbformat": 4,
 "nbformat_minor": 1
}
