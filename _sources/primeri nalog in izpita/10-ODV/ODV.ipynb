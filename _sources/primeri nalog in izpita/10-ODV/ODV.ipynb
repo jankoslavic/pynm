{
 "cells": [
  {
   "cell_type": "code",
   "execution_count": null,
   "metadata": {
    "collapsed": true
   },
   "outputs": [],
   "source": [
    "import numpy as np"
   ]
  },
  {
   "cell_type": "markdown",
   "metadata": {},
   "source": [
    "# ODV-001"
   ]
  },
  {
   "cell_type": "markdown",
   "metadata": {},
   "source": [
    "Na sliki je prikazan konzolno vpeti nosilec s podporo in naraščajočo obremenitvijo. Podana je sila $F$,dolžina nosilca $l$ in največja vrednost porazdeljene obremenitve $w$. Predpostavite, da je notranji moment v nosilcu je definiran z izrazom $M(x)=F\\,x-w\\,x^3/(6\\,l)$."
   ]
  },
  {
   "cell_type": "markdown",
   "metadata": {},
   "source": [
    "<img width='700px' src='ODV.jpeg'>"
   ]
  },
  {
   "cell_type": "code",
   "execution_count": null,
   "metadata": {
    "collapsed": true
   },
   "outputs": [],
   "source": [
    "F = 1500 # N\n",
    "l = 12 # m\n",
    "h = 0.4 # m\n",
    "n = 149 # \n",
    "w = 1822.7 # N/m\n"
   ]
  },
  {
   "cell_type": "markdown",
   "metadata": {},
   "source": [
    "### 1. vprašanje\n",
    "\n",
    " Odvajanje je numerično slabše pogojena metoda kot integriranje! (1: Da, 2: Ne)"
   ]
  },
  {
   "cell_type": "code",
   "execution_count": null,
   "metadata": {
    "collapsed": true
   },
   "outputs": [],
   "source": [
    "odgovor1 = # #?"
   ]
  },
  {
   "cell_type": "markdown",
   "metadata": {},
   "source": [
    "### 2. vprašanje\n",
    "\n",
    " Centralna diferenčna shema upošteva samo točke naprej od trenutne točke računanja! (1: Da, 2: Ne)\n"
   ]
  },
  {
   "cell_type": "code",
   "execution_count": null,
   "metadata": {
    "collapsed": true
   },
   "outputs": [],
   "source": [
    "odgovor2 = # #?"
   ]
  },
  {
   "cell_type": "markdown",
   "metadata": {},
   "source": [
    "### 3. vprašanje\n",
    "\n",
    " Določite numerično odvod $M'(x)$ v točki $x=h$: uporabite diferenčno shemo nazaj (korak $h$,  red napake $\\mathcal{O}(h^{1})$).\n",
    "\n",
    "Enote: N"
   ]
  },
  {
   "cell_type": "code",
   "execution_count": null,
   "metadata": {
    "collapsed": true
   },
   "outputs": [],
   "source": [
    "odgovor3 = # #?"
   ]
  },
  {
   "cell_type": "markdown",
   "metadata": {},
   "source": [
    "### 4. vprašanje\n",
    "\n",
    " Določite numerično odvod $M'(x)$ v točki $x=h$: uporabite centralno diferenčno shemo (korak $h$,  red napake $\\mathcal{O}(h^{2})$).\n",
    "\n",
    "Enote: N"
   ]
  },
  {
   "cell_type": "code",
   "execution_count": null,
   "metadata": {
    "collapsed": true
   },
   "outputs": [],
   "source": [
    "odgovor4 = # #?"
   ]
  },
  {
   "cell_type": "markdown",
   "metadata": {},
   "source": [
    "### 5. vprašanje\n",
    "\n",
    " Celotni nosilec razdelite na $n$ ekvidistantnih odsekov širine $b$. Določite $b$.\n",
    "\n",
    "Enote: m"
   ]
  },
  {
   "cell_type": "code",
   "execution_count": null,
   "metadata": {
    "collapsed": true
   },
   "outputs": [],
   "source": [
    "odgovor5 = # #?"
   ]
  },
  {
   "cell_type": "markdown",
   "metadata": {},
   "source": [
    "### 6. vprašanje\n",
    "\n",
    " S centralno diferenčno shema reda napake $\\mathcal{O}(h^{2})$, določite numerični odvod $M'(x)$ v notranjih, predhodno določenih, ekvidistantnih točkah.\n",
    "\n",
    "Enote: N"
   ]
  },
  {
   "cell_type": "code",
   "execution_count": null,
   "metadata": {
    "collapsed": true
   },
   "outputs": [],
   "source": [
    "odgovor6 = # #?"
   ]
  }
 ],
 "metadata": {
  "kernelspec": {
   "display_name": "Python 3",
   "language": "python",
   "name": "python3"
  },
  "language_info": {
   "codemirror_mode": {
    "name": "ipython",
    "version": 3
   },
   "file_extension": ".py",
   "mimetype": "text/x-python",
   "name": "python",
   "nbconvert_exporter": "python",
   "pygments_lexer": "ipython3",
   "version": "3.6.1"
  }
 },
 "nbformat": 4,
 "nbformat_minor": 1
}
