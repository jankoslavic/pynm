{
 "cells": [
  {
   "cell_type": "code",
   "execution_count": null,
   "metadata": {
    "collapsed": true
   },
   "outputs": [],
   "source": [
    "import numpy as np"
   ]
  },
  {
   "cell_type": "markdown",
   "metadata": {},
   "source": [
    "# ING"
   ]
  },
  {
   "cell_type": "markdown",
   "metadata": {},
   "source": [
    "Na sliki je prikazana trajektorija gibanja krogle po ravnini. Pospešek v $x$ koordinati je podan z izrazom $p(t) = a\\,t^2+b\\,t+c$."
   ]
  },
  {
   "cell_type": "markdown",
   "metadata": {},
   "source": [
    "<img width='600px' src='ING.jpeg'>"
   ]
  },
  {
   "cell_type": "code",
   "execution_count": null,
   "metadata": {
    "collapsed": true
   },
   "outputs": [],
   "source": [
    "a = 0.04 # m/s$^4$\n",
    "b = 0.19 # m/s$^3$\n",
    "c = 1.65 # m/s$^2$\n",
    "n = 80 # \n",
    "t_2 = 23.4 # s\n"
   ]
  },
  {
   "cell_type": "markdown",
   "metadata": {},
   "source": [
    "### 1. vprašanje\n",
    "\n",
    " S trapeznim pravilom lahko izračunamo tudi numerični integral v začetni točki podanega niza. (1: Da, 2: Ne)"
   ]
  },
  {
   "cell_type": "code",
   "execution_count": null,
   "metadata": {
    "collapsed": true
   },
   "outputs": [],
   "source": [
    "odgovor1 = # #?"
   ]
  },
  {
   "cell_type": "markdown",
   "metadata": {},
   "source": [
    "### 2. vprašanje\n",
    "\n",
    " Določite numerični integral $\\int_{0}^{t_2} p(x)\\,dx$ s sestavljeno trapezno metodo pri koraku $t_2$.\n",
    "\n",
    "Enote: m/s"
   ]
  },
  {
   "cell_type": "code",
   "execution_count": null,
   "metadata": {},
   "outputs": [],
   "source": [
    "odgovor2 = # #?"
   ]
  },
  {
   "cell_type": "markdown",
   "metadata": {},
   "source": [
    "### 3. vprašanje\n",
    "\n",
    " Določite numerični integral $\\int_{0}^{t_2} p(t)\\,dx$ s sestavljeno trapezno metodo pri koraku $t_2/2$.\n",
    "\n",
    "Enote: m/s"
   ]
  },
  {
   "cell_type": "code",
   "execution_count": null,
   "metadata": {
    "collapsed": true
   },
   "outputs": [],
   "source": [
    "odgovor3 = # #?"
   ]
  },
  {
   "cell_type": "markdown",
   "metadata": {},
   "source": [
    "### 4. vprašanje\n",
    "\n",
    " Na podlagi zgoraj izračunanih integralov s korakom $t_2$ in $t_2/2$ določite izboljšan približek integrala.\n",
    "\n",
    "Enote: m/s"
   ]
  },
  {
   "cell_type": "code",
   "execution_count": null,
   "metadata": {
    "collapsed": true
   },
   "outputs": [],
   "source": [
    "odgovor4 = # #?"
   ]
  },
  {
   "cell_type": "markdown",
   "metadata": {},
   "source": [
    "### 5. vprašanje\n",
    "\n",
    " Opazovani časovni interval $[0,t_2]$ razdelite na $n$ ekvidistantnih odsekov s korakom $h$. Določite korak $h$.\n",
    "\n",
    "Enote: s"
   ]
  },
  {
   "cell_type": "code",
   "execution_count": null,
   "metadata": {
    "collapsed": true
   },
   "outputs": [],
   "source": [
    "odgovor5 = # #?"
   ]
  },
  {
   "cell_type": "markdown",
   "metadata": {},
   "source": [
    "### 6. vprašanje\n",
    "\n",
    " S kumulativno trapezno metodo (`scipy.integrate.cumtrapz`) izračunajte vrednost integrala pri vseh diskretnih točkah ob uporabi koraka $h$. (Torej: $\\int_{0}^{t_i} p(x)\\,dx$), kjer je $t_i$ diskretna točka.\n",
    "\n",
    "Enote: m/s"
   ]
  },
  {
   "cell_type": "code",
   "execution_count": null,
   "metadata": {
    "collapsed": true
   },
   "outputs": [],
   "source": [
    "odgovor6 = # #?"
   ]
  }
 ],
 "metadata": {
  "kernelspec": {
   "display_name": "Python 3",
   "language": "python",
   "name": "python3"
  },
  "language_info": {
   "codemirror_mode": {
    "name": "ipython",
    "version": 3
   },
   "file_extension": ".py",
   "mimetype": "text/x-python",
   "name": "python",
   "nbconvert_exporter": "python",
   "pygments_lexer": "ipython3",
   "version": "3.6.1"
  }
 },
 "nbformat": 4,
 "nbformat_minor": 1
}
