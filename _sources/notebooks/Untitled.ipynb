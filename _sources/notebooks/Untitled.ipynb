{
 "cells": [
  {
   "cell_type": "code",
   "execution_count": 90,
   "id": "d594e07f-f056-4068-a898-4ab1c7e886d6",
   "metadata": {},
   "outputs": [
    {
     "data": {
      "text/plain": [
       "'Marko je visok 1.84 m ali tudi: 1.840000e+00 m,   1.840 m.'"
      ]
     },
     "execution_count": 90,
     "metadata": {},
     "output_type": "execute_result"
    }
   ],
   "source": [
    "višina = 1.84\n",
    "ime = 'Marko'\n",
    "tekst = f'{ime} je visok {višina} m ali tudi: {višina:e} m, {višina:7.3f} m.'\n",
    "tekst"
   ]
  },
  {
   "cell_type": "code",
   "execution_count": 96,
   "id": "207f0544-54e1-47bc-801d-fd678cb279d9",
   "metadata": {},
   "outputs": [
    {
     "data": {
      "text/plain": [
       "'Študent Marko je visok 1.84e+00m'"
      ]
     },
     "execution_count": 96,
     "metadata": {},
     "output_type": "execute_result"
    }
   ],
   "source": [
    "f'Študent {ime} je visok {višina:7.2e}m'"
   ]
  },
  {
   "cell_type": "code",
   "execution_count": 97,
   "id": "34931fc4-cd62-49d1-b17f-525349445bf1",
   "metadata": {},
   "outputs": [],
   "source": [
    "a = 1000000\n",
    "b = 1_000_000"
   ]
  },
  {
   "cell_type": "code",
   "execution_count": 98,
   "id": "14e1f630-4248-427d-8082-815b25de4f25",
   "metadata": {},
   "outputs": [
    {
     "data": {
      "text/plain": [
       "0"
      ]
     },
     "execution_count": 98,
     "metadata": {},
     "output_type": "execute_result"
    }
   ],
   "source": [
    "a - b "
   ]
  },
  {
   "cell_type": "code",
   "execution_count": 100,
   "id": "d93412d0-11a0-45c3-bc0b-ce75ceb3c66d",
   "metadata": {},
   "outputs": [],
   "source": [
    "datoteka = open('data/prikaz vpisa.txt', mode='w')"
   ]
  },
  {
   "cell_type": "code",
   "execution_count": 103,
   "id": "d763baba-c0a0-4452-8b1f-99e76d9bb23d",
   "metadata": {},
   "outputs": [],
   "source": [
    "print('test druge vrstice\\n', file=datoteka, flush=True)"
   ]
  },
  {
   "cell_type": "code",
   "execution_count": 104,
   "id": "c0c1202f-c7a1-446f-b245-309951b31f74",
   "metadata": {},
   "outputs": [],
   "source": [
    "for d in range(5):\n",
    "    datoteka.write(f'{d:7.2e}\\t {d:9.4e}\\n')"
   ]
  },
  {
   "cell_type": "code",
   "execution_count": 105,
   "id": "47ace44e-7c52-4542-814a-531c3f4997d7",
   "metadata": {},
   "outputs": [],
   "source": [
    "datoteka.close()"
   ]
  },
  {
   "cell_type": "code",
   "execution_count": 106,
   "id": "6f2d501d-d111-4ca6-88fe-af5e88d7b676",
   "metadata": {},
   "outputs": [],
   "source": [
    "datoteka = open('data/prikaz vpisa.txt', mode='r+')"
   ]
  },
  {
   "cell_type": "code",
   "execution_count": 107,
   "id": "a1e61226-9c77-4b63-a88c-257327ea9577",
   "metadata": {},
   "outputs": [
    {
     "name": "stdout",
     "output_type": "stream",
     "text": [
      "test prve vrstice\n",
      "test druge vrstice\n",
      "\n",
      "0.00e+00\t 0.0000e+00\n",
      "1.00e+00\t 1.0000e+00\n",
      "2.00e+00\t 2.0000e+00\n",
      "3.00e+00\t 3.0000e+00\n",
      "4.00e+00\t 4.0000e+00\n"
     ]
    }
   ],
   "source": [
    "for line in datoteka:\n",
    "    print(line, end='')"
   ]
  },
  {
   "cell_type": "code",
   "execution_count": 108,
   "id": "77f12221-3016-4416-95bd-12514bd9966e",
   "metadata": {},
   "outputs": [],
   "source": [
    "print('konec', file=datoteka)\n",
    "datoteka.close()"
   ]
  },
  {
   "cell_type": "code",
   "execution_count": 109,
   "id": "7beab4db-37cf-4765-b3ed-db3cd7f22cc0",
   "metadata": {},
   "outputs": [
    {
     "name": "stdout",
     "output_type": "stream",
     "text": [
      "test prve vrstice\n",
      "test druge vrstice\n",
      "\n",
      "0.00e+00\t 0.0000e+00\n",
      "1.00e+00\t 1.0000e+00\n",
      "2.00e+00\t 2.0000e+00\n",
      "3.00e+00\t 3.0000e+00\n",
      "4.00e+00\t 4.0000e+00\n",
      "konec\n"
     ]
    }
   ],
   "source": [
    "with open('data/prikaz vpisa.txt') as datoteka:\n",
    "    for line in datoteka:\n",
    "        print(line, end='')"
   ]
  },
  {
   "cell_type": "code",
   "execution_count": null,
   "id": "2d52c494-9043-4042-9b4b-4114339929a6",
   "metadata": {},
   "outputs": [],
   "source": []
  }
 ],
 "metadata": {
  "kernelspec": {
   "display_name": "Python 3 (ipykernel)",
   "language": "python",
   "name": "python3"
  },
  "language_info": {
   "codemirror_mode": {
    "name": "ipython",
    "version": 3
   },
   "file_extension": ".py",
   "mimetype": "text/x-python",
   "name": "python",
   "nbconvert_exporter": "python",
   "pygments_lexer": "ipython3",
   "version": "3.11.6"
  }
 },
 "nbformat": 4,
 "nbformat_minor": 5
}
