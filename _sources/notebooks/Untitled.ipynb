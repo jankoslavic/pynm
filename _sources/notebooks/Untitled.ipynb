{
 "cells": [
  {
   "cell_type": "code",
   "execution_count": 2,
   "id": "2f1b8b06-ed44-4fcc-8331-f3e974b8f6ba",
   "metadata": {},
   "outputs": [],
   "source": [
    "import sympy as sym\n",
    "sym.init_printing()"
   ]
  },
  {
   "cell_type": "code",
   "execution_count": 3,
   "id": "d4bf8582-dd4e-4f2d-be1a-095eb6102975",
   "metadata": {},
   "outputs": [],
   "source": [
    "x, x0, x1, h = sym.symbols('x x0, x1, h')"
   ]
  },
  {
   "cell_type": "code",
   "execution_count": 4,
   "id": "23d25ec7-4315-4fcc-92d7-244604bf2e36",
   "metadata": {},
   "outputs": [],
   "source": [
    "def lagrange(n, x, vozlišča_predpona='x'):\n",
    "    if isinstance(vozlišča_predpona, str):\n",
    "        vozlišča = sym.symbols(f'{vozlišča_predpona}:{n}') \n",
    "    coeffs = []\n",
    "    for i in range(0, n):\n",
    "        numer = []\n",
    "        denom = []\n",
    "\n",
    "        for j in range(0, n):\n",
    "            if i == j:\n",
    "                continue\n",
    "\n",
    "            numer.append(x    - vozlišča[j])\n",
    "            denom.append(vozlišča[i] - vozlišča[j])\n",
    "        \n",
    "        numer = sym.Mul(*numer)\n",
    "        denom = sym.Mul(*denom)\n",
    "\n",
    "        coeffs.append(numer/denom)\n",
    "    return coeffs    "
   ]
  },
  {
   "cell_type": "code",
   "execution_count": 5,
   "id": "8804f370-8188-4ef8-852e-ed7b0a6b889d",
   "metadata": {},
   "outputs": [
    {
     "data": {
      "image/png": "[encoded data removed]",
      "text/latex": [
       "$\\displaystyle \\left[ \\frac{x - x_{1}}{x_{0} - x_{1}}, \\  \\frac{x - x_{0}}{- x_{0} + x_{1}}\\right]$"
      ],
      "text/plain": [
       "⎡ x - x₁   x - x₀ ⎤\n",
       "⎢───────, ────────⎥\n",
       "⎣x₀ - x₁  -x₀ + x₁⎦"
      ]
     },
     "execution_count": 5,
     "metadata": {},
     "output_type": "execute_result"
    }
   ],
   "source": [
    "lag = lagrange(2, x)\n",
    "lag"
   ]
  },
  {
   "cell_type": "code",
   "execution_count": 11,
   "id": "8945e4d3-5ece-4085-8adf-53a67b2d58b5",
   "metadata": {},
   "outputs": [
    {
     "data": {
      "image/png": "[encoded data removed]",
      "text/latex": [
       "$\\displaystyle \\frac{x_{0}^{2}}{2 x_{0} - 2 x_{1}} - \\frac{x_{0}^{2}}{x_{0} - x_{1}} + \\frac{x_{0} x_{1}}{x_{0} - x_{1}} - \\frac{x_{1}^{2}}{2 x_{0} - 2 x_{1}}$"
      ],
      "text/plain": [
       "      2           2                     2    \n",
       "    x₀          x₀       x₀⋅x₁        x₁     \n",
       "─────────── - ─────── + ─────── - ───────────\n",
       "2⋅x₀ - 2⋅x₁   x₀ - x₁   x₀ - x₁   2⋅x₀ - 2⋅x₁"
      ]
     },
     "execution_count": 11,
     "metadata": {},
     "output_type": "execute_result"
    }
   ],
   "source": [
    "int0 = sym.integrate(lag[1], (x, x0, x1))\n",
    "int0"
   ]
  },
  {
   "cell_type": "code",
   "execution_count": 12,
   "id": "a5012a0f-06d8-4847-97fd-b9f2ffa35e7a",
   "metadata": {},
   "outputs": [],
   "source": [
    "int1 =int0.factor()"
   ]
  },
  {
   "cell_type": "code",
   "execution_count": 13,
   "id": "25321359-beb8-453a-96b6-d063319a7d23",
   "metadata": {},
   "outputs": [
    {
     "data": {
      "image/png": "[encoded data removed]",
      "text/latex": [
       "$\\displaystyle \\frac{h}{2}$"
      ],
      "text/plain": [
       "h\n",
       "─\n",
       "2"
      ]
     },
     "execution_count": 13,
     "metadata": {},
     "output_type": "execute_result"
    }
   ],
   "source": [
    "zamenjave = {x1: x0+h}\n",
    "int1.subs(zamenjave)"
   ]
  },
  {
   "cell_type": "code",
   "execution_count": 10,
   "id": "63dc3fe2-de74-4178-9390-c2fb6fec1674",
   "metadata": {},
   "outputs": [],
   "source": [
    "import os\n",
    "os.environ[\"OPENBLAS_NUM_THREADS\"] = \"4\" "
   ]
  },
  {
   "cell_type": "code",
   "execution_count": 7,
   "id": "62376cd4-9e8c-43ab-ba1b-fede8268fecb",
   "metadata": {},
   "outputs": [],
   "source": [
    "import os\n",
    "os.environ[\"OMP_NUM_THREADS\"] = \"4\"  # Set the desired number of threads\n",
    "\n",
    "import numpy as np"
   ]
  },
  {
   "cell_type": "code",
   "execution_count": 1,
   "id": "e4db770b-1ead-4bea-a12c-b6a2c45ed1a4",
   "metadata": {},
   "outputs": [],
   "source": [
    "import numpy as np\n",
    "import time\n",
    "\n",
    "n = 1\n",
    "\n",
    "def aa(n=100):\n",
    "    tic = time.perf_counter()\n",
    "    a = np.random.rand(1000, 1000)\n",
    "        \n",
    "    for i in range(n):\n",
    "        ainv = np.linalg.inv(a)\n",
    "    toc = time.perf_counter()\n",
    "    return toc-tic"
   ]
  },
  {
   "cell_type": "code",
   "execution_count": 6,
   "id": "a619a0ac-85a2-4ce6-bc03-4cceadeb3390",
   "metadata": {},
   "outputs": [
    {
     "name": "stdout",
     "output_type": "stream",
     "text": [
      "Time:  35.93310729999939  ms\n"
     ]
    }
   ],
   "source": [
    "n=1000\n",
    "print('Time: ',1000*(aa(n))/n, ' ms')"
   ]
  },
  {
   "cell_type": "code",
   "execution_count": 7,
   "id": "dc5105a8-62bb-473c-9b76-b16bc85669b4",
   "metadata": {},
   "outputs": [],
   "source": [
    "from threadpoolctl import ThreadpoolController\n",
    "import numpy as np\n",
    "controller = ThreadpoolController()\n",
    "\n",
    "def bb(n=100, threads=1):\n",
    "    tic = time.perf_counter()\n",
    "    a = np.random.rand(1000, 1000)\n",
    "\n",
    "    with controller.limit(limits=threads, user_api='blas'):\n",
    "        for i in range(n):\n",
    "            ainv = np.linalg.inv(a)\n",
    "        toc = time.perf_counter()\n",
    "    return toc-tic"
   ]
  },
  {
   "cell_type": "code",
   "execution_count": 9,
   "id": "8a34de58-0980-4016-a148-a74b64bdba3b",
   "metadata": {},
   "outputs": [
    {
     "data": {
      "text/plain": [
       "62.76603079999768"
      ]
     },
     "execution_count": 9,
     "metadata": {},
     "output_type": "execute_result"
    }
   ],
   "source": [
    "n=100\n",
    "1000*bb(n, threads=12)/n"
   ]
  },
  {
   "cell_type": "code",
   "execution_count": 3,
   "id": "59f4fb1b-e0d3-42e4-9107-83eeadf0fcf2",
   "metadata": {},
   "outputs": [
    {
     "name": "stdout",
     "output_type": "stream",
     "text": [
      "[{'numpy_version': '1.26.4',\n",
      "  'python': '3.12.5 (tags/v3.12.5:ff3bc82, Aug  6 2024, 20:45:27) [MSC v.1940 '\n",
      "            '64 bit (AMD64)]',\n",
      "  'uname': uname_result(system='Windows', node='Spectre-JS', release='11', version='10.0.22631', machine='AMD64')},\n",
      " {'simd_extensions': {'baseline': ['SSE', 'SSE2', 'SSE3'],\n",
      "                      'found': ['SSSE3',\n",
      "                                'SSE41',\n",
      "                                'POPCNT',\n",
      "                                'SSE42',\n",
      "                                'AVX',\n",
      "                                'F16C',\n",
      "                                'FMA3',\n",
      "                                'AVX2'],\n",
      "                      'not_found': ['AVX512F',\n",
      "                                    'AVX512CD',\n",
      "                                    'AVX512_SKX',\n",
      "                                    'AVX512_CLX',\n",
      "                                    'AVX512_CNL',\n",
      "                                    'AVX512_ICL']}},\n",
      " {'architecture': 'Haswell',\n",
      "  'filepath': 'C:\\\\Users\\\\janko\\\\AppData\\\\Local\\\\Programs\\\\Python\\\\Python312\\\\Lib\\\\site-packages\\\\numpy.libs\\\\libopenblas64__v0.3.23-293-gc2f4bdbb-gcc_10_3_0-2bde3a66a51006b2b53eb373ff767a3f.dll',\n",
      "  'internal_api': 'openblas',\n",
      "  'num_threads': 22,\n",
      "  'prefix': 'libopenblas',\n",
      "  'threading_layer': 'pthreads',\n",
      "  'user_api': 'blas',\n",
      "  'version': '0.3.23.dev'}]\n"
     ]
    }
   ],
   "source": [
    "import numpy; numpy.show_runtime()"
   ]
  },
  {
   "cell_type": "code",
   "execution_count": 2,
   "id": "0188acd0-b6fd-46a8-9b67-903242ae0041",
   "metadata": {},
   "outputs": [
    {
     "name": "stdout",
     "output_type": "stream",
     "text": [
      "Time:  12025.513820000924  ms\n"
     ]
    }
   ],
   "source": [
    "n=5\n",
    "print('Time: ',1000*(aa(n))/n, ' ms')"
   ]
  }
 ],
 "metadata": {
  "kernelspec": {
   "display_name": "Python 3 (ipykernel)",
   "language": "python",
   "name": "python3"
  },
  "language_info": {
   "codemirror_mode": {
    "name": "ipython",
    "version": 3
   },
   "file_extension": ".py",
   "mimetype": "text/x-python",
   "name": "python",
   "nbconvert_exporter": "python",
   "pygments_lexer": "ipython3",
   "version": "3.12.5"
  }
 },
 "nbformat": 4,
 "nbformat_minor": 5
}
