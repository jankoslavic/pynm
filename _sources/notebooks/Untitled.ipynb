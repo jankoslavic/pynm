{
 "cells": [
  {
   "cell_type": "code",
   "execution_count": 2,
   "id": "2a78a3c3-3150-4893-94e4-e42b70deb233",
   "metadata": {},
   "outputs": [],
   "source": [
    "import numpy as np"
   ]
  },
  {
   "cell_type": "code",
   "execution_count": 17,
   "id": "9f4db13a-4b61-4f02-afcd-a6c2fba9520a",
   "metadata": {},
   "outputs": [],
   "source": [
    "A = np.array([[8, -1, 1],\n",
    "              [-1, 6, -1],\n",
    "              [0, -1, 6]], dtype=float) \n",
    "b = np.array([-14, 36, 6], dtype=float)"
   ]
  },
  {
   "cell_type": "code",
   "execution_count": 15,
   "id": "658a401b-ba6e-494f-9f6e-4e73c3e516bf",
   "metadata": {},
   "outputs": [],
   "source": [
    "rešitev = np.linalg.solve(A,b)"
   ]
  },
  {
   "cell_type": "code",
   "execution_count": 18,
   "id": "911c3e19-1a5e-4b04-8340-1d3c2f078ae2",
   "metadata": {},
   "outputs": [],
   "source": [
    "x = np.ones(len(A))*100"
   ]
  },
  {
   "cell_type": "code",
   "execution_count": 19,
   "id": "8f343be2-01a2-4630-82c4-a93705e5002f",
   "metadata": {},
   "outputs": [
    {
     "data": {
      "text/plain": [
       "array([100., 100., 100.])"
      ]
     },
     "execution_count": 19,
     "metadata": {},
     "output_type": "execute_result"
    }
   ],
   "source": [
    "x"
   ]
  },
  {
   "cell_type": "code",
   "execution_count": 20,
   "id": "5a478938-2fea-4ee5-8527-b7c726c47f31",
   "metadata": {},
   "outputs": [],
   "source": [
    "K = A.copy() #naredimo kopijo, da ne povozimo podatkov\n",
    "np.fill_diagonal(K, np.zeros(3)) #spremenimo samo diagonalne elemente"
   ]
  },
  {
   "cell_type": "code",
   "execution_count": 21,
   "id": "e4fcf0de-d076-4b2c-b729-f5f77372e5b2",
   "metadata": {},
   "outputs": [
    {
     "data": {
      "text/plain": [
       "array([[ 0., -1.,  1.],\n",
       "       [-1.,  0., -1.],\n",
       "       [ 0., -1.,  0.]])"
      ]
     },
     "execution_count": 21,
     "metadata": {},
     "output_type": "execute_result"
    }
   ],
   "source": [
    "K"
   ]
  },
  {
   "cell_type": "code",
   "execution_count": 24,
   "id": "ed0e600f-652e-40f3-a056-581363396752",
   "metadata": {},
   "outputs": [
    {
     "name": "stdout",
     "output_type": "stream",
     "text": [
      "-----iteracja 0-----\n",
      "Približek za element 0 [-1.23291596  6.16400674  2.02733446]\n",
      "Približek za element 1 [-1.23291596  6.13240308  2.02733446]\n",
      "Približek za element 2 [-1.23291596  6.13240308  2.02206718]\n",
      "Norma 0.07965890773623195\n",
      "-----iteracja 1-----\n",
      "Približek za element 0 [-1.23620801  6.13240308  2.02206718]\n",
      "Približek za element 1 [-1.23620801  6.13097653  2.02206718]\n",
      "Približek za element 2 [-1.23620801  6.13097653  2.02182942]\n",
      "Norma 0.003595714585316297\n",
      "-----iteracja 2-----\n",
      "Približek za element 0 [-1.23635661  6.13097653  2.02182942]\n",
      "Približek za element 1 [-1.23635661  6.13091213  2.02182942]\n",
      "Približek za element 2 [-1.23635661  6.13091213  2.02181869]\n",
      "Norma 0.00016230656114230092\n"
     ]
    }
   ],
   "source": [
    "for k in range(3):\n",
    "    xk_1 = x.copy()\n",
    "    print(5*'-' + f'iteracja {k}' + 5*'-')\n",
    "    for i in range(len(A)): #opazujte kaj se dogaja, ko to celico poženete večkrat!\n",
    "        x[i] = (b[i]-K[i,:].dot(x))/A[i,i]\n",
    "        print(f'Približek za element {i}', x)\n",
    "    e = np.linalg.norm(x-xk_1)\n",
    "    print(f'Norma {e}')"
   ]
  },
  {
   "cell_type": "code",
   "execution_count": 25,
   "id": "774b28f0-2b6a-4f9d-9973-80d689de3e1b",
   "metadata": {},
   "outputs": [
    {
     "data": {
      "text/plain": [
       "array([-1.23635661,  6.13091213,  2.02181869])"
      ]
     },
     "execution_count": 25,
     "metadata": {},
     "output_type": "execute_result"
    }
   ],
   "source": [
    "x"
   ]
  },
  {
   "cell_type": "code",
   "execution_count": 16,
   "id": "287594fc-3b98-4206-b9d7-16b144090ddc",
   "metadata": {},
   "outputs": [
    {
     "data": {
      "text/plain": [
       "array([-1.23636364,  6.13090909,  2.02181818])"
      ]
     },
     "execution_count": 16,
     "metadata": {},
     "output_type": "execute_result"
    }
   ],
   "source": [
    "rešitev"
   ]
  },
  {
   "cell_type": "code",
   "execution_count": null,
   "id": "31d3b3a3-a863-4a38-8c75-748d6429cf8e",
   "metadata": {},
   "outputs": [],
   "source": []
  }
 ],
 "metadata": {
  "kernelspec": {
   "display_name": "Python 3 (ipykernel)",
   "language": "python",
   "name": "python3"
  },
  "language_info": {
   "codemirror_mode": {
    "name": "ipython",
    "version": 3
   },
   "file_extension": ".py",
   "mimetype": "text/x-python",
   "name": "python",
   "nbconvert_exporter": "python",
   "pygments_lexer": "ipython3",
   "version": "3.11.6"
  }
 },
 "nbformat": 4,
 "nbformat_minor": 5
}
