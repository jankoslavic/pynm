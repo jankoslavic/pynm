{
 "cells": [
  {
   "cell_type": "code",
   "execution_count": 1,
   "id": "17fb0d54-7ae1-4a17-8738-76da77115190",
   "metadata": {},
   "outputs": [],
   "source": [
    "import sympy as sym"
   ]
  },
  {
   "cell_type": "code",
   "execution_count": 2,
   "id": "312a4968-abb8-4c87-a456-623ae53c62e2",
   "metadata": {},
   "outputs": [],
   "source": [
    "f = sym.Function('f')\n",
    "x, h = sym.symbols('x, h')"
   ]
  },
  {
   "cell_type": "code",
   "execution_count": 6,
   "id": "289abab4-99ac-4fd4-ba6d-efdf794b9b4a",
   "metadata": {},
   "outputs": [],
   "source": [
    "f1_točno = f(x+h).series(h, n=3)"
   ]
  },
  {
   "cell_type": "code",
   "execution_count": 9,
   "id": "ee345581-3eb4-4f9c-b836-6ad4115ad574",
   "metadata": {},
   "outputs": [
    {
     "data": {
      "text/latex": [
       "$\\displaystyle f{\\left(x \\right)} + h \\left. \\frac{d}{d \\xi_{1}} f{\\left(\\xi_{1} \\right)} \\right|_{\\substack{ \\xi_{1}=x }} + \\frac{h^{2} \\left. \\frac{d^{2}}{d \\xi_{1}^{2}} f{\\left(\\xi_{1} \\right)} \\right|_{\\substack{ \\xi_{1}=x }}}{2} + O\\left(h^{3}\\right)$"
      ],
      "text/plain": [
       "f(x) + h*Subs(Derivative(f(_xi_1), _xi_1), _xi_1, x) + h**2*Subs(Derivative(f(_xi_1), (_xi_1, 2)), _xi_1, x)/2 + O(h**3)"
      ]
     },
     "execution_count": 9,
     "metadata": {},
     "output_type": "execute_result"
    }
   ],
   "source": [
    "f1_točno"
   ]
  },
  {
   "cell_type": "code",
   "execution_count": 20,
   "id": "64cbcfee-6388-4f43-942f-28552ce5b777",
   "metadata": {},
   "outputs": [
    {
     "data": {
      "text/latex": [
       "$\\displaystyle f{\\left(x \\right)} + h \\frac{d}{d x} f{\\left(x \\right)} + \\frac{h^{2} \\frac{d^{2}}{d x^{2}} f{\\left(x \\right)}}{2} + O\\left(h^{3}\\right)$"
      ],
      "text/plain": [
       "f(x) + h*Derivative(f(x), x) + h**2*Derivative(f(x), (x, 2))/2 + O(h**3)"
      ]
     },
     "execution_count": 20,
     "metadata": {},
     "output_type": "execute_result"
    }
   ],
   "source": [
    "f1_točno.doit()"
   ]
  },
  {
   "cell_type": "code",
   "execution_count": 8,
   "id": "e81434fe-9b74-4c45-aebf-8aed117ad6fd",
   "metadata": {},
   "outputs": [
    {
     "data": {
      "text/latex": [
       "$\\displaystyle \\frac{h^{2} \\left. \\frac{d^{2}}{d \\xi_{1}^{2}} f{\\left(\\xi_{1} \\right)} \\right|_{\\substack{ \\xi_{1}=x }}}{2} + h \\left. \\frac{d}{d \\xi_{1}} f{\\left(\\xi_{1} \\right)} \\right|_{\\substack{ \\xi_{1}=x }} + f{\\left(x \\right)}$"
      ],
      "text/plain": [
       "h**2*Subs(Derivative(f(_xi_1), (_xi_1, 2)), _xi_1, x)/2 + h*Subs(Derivative(f(_xi_1), _xi_1), _xi_1, x) + f(x)"
      ]
     },
     "execution_count": 8,
     "metadata": {},
     "output_type": "execute_result"
    }
   ],
   "source": [
    "f1_točno.removeO()"
   ]
  },
  {
   "cell_type": "code",
   "execution_count": 10,
   "id": "a5b5611e-92a5-4e2c-9796-c74c9b2979bf",
   "metadata": {},
   "outputs": [
    {
     "data": {
      "text/latex": [
       "$\\displaystyle O\\left(h^{3}\\right)$"
      ],
      "text/plain": [
       "O(h**3)"
      ]
     },
     "execution_count": 10,
     "metadata": {},
     "output_type": "execute_result"
    }
   ],
   "source": [
    "f1_točno.getO()"
   ]
  },
  {
   "cell_type": "code",
   "execution_count": 21,
   "id": "8da471e0-5895-4f1a-843d-4b31226fbf04",
   "metadata": {},
   "outputs": [],
   "source": [
    "def razlika(n=3):\n",
    "    return f(x+h).series(h, n=n).doit() - f(x-h).series(h, n=n).doit()"
   ]
  },
  {
   "cell_type": "code",
   "execution_count": 22,
   "id": "7d753171-b783-4bc6-8a5c-18f582881598",
   "metadata": {},
   "outputs": [
    {
     "data": {
      "text/latex": [
       "$\\displaystyle 2 h \\frac{d}{d x} f{\\left(x \\right)} + O\\left(h^{3}\\right)$"
      ],
      "text/plain": [
       "2*h*Derivative(f(x), x) + O(h**3)"
      ]
     },
     "execution_count": 22,
     "metadata": {},
     "output_type": "execute_result"
    }
   ],
   "source": [
    "razlika()"
   ]
  },
  {
   "cell_type": "code",
   "execution_count": 23,
   "id": "66e84fb9-9c61-4bfc-bb1c-68e658c1b7ee",
   "metadata": {},
   "outputs": [
    {
     "data": {
      "text/latex": [
       "$\\displaystyle - f{\\left(- h + x \\right)} + f{\\left(h + x \\right)} = 2 h \\frac{d}{d x} f{\\left(x \\right)} + O\\left(h^{3}\\right)$"
      ],
      "text/plain": [
       "Eq(-f(-h + x) + f(h + x), 2*h*Derivative(f(x), x) + O(h**3))"
      ]
     },
     "execution_count": 23,
     "metadata": {},
     "output_type": "execute_result"
    }
   ],
   "source": [
    "sym.Eq(f(x+h)-f(x-h), razlika())"
   ]
  },
  {
   "cell_type": "code",
   "execution_count": 27,
   "id": "00f17a29-8d16-44b9-8bd3-698fe20490bb",
   "metadata": {},
   "outputs": [],
   "source": [
    "f1_cent_točno =\\\n",
    "    sym.solve(\n",
    "        sym.Eq(f(x+h)-f(x-h), razlika()),\n",
    "        f(x).diff(x)\n",
    "    )[0]"
   ]
  },
  {
   "cell_type": "code",
   "execution_count": 35,
   "id": "74a521d1-44bf-4d58-bc61-cc60753e35df",
   "metadata": {},
   "outputs": [],
   "source": [
    "f1_cent_0 = f1_cent_točno.expand().getO()\n",
    "f1_cent_ocena = f1_cent_točno.expand().removeO()"
   ]
  },
  {
   "cell_type": "code",
   "execution_count": 36,
   "id": "9f595d01-69a9-40ff-98c3-755a97469eba",
   "metadata": {},
   "outputs": [
    {
     "data": {
      "text/latex": [
       "$\\displaystyle O\\left(h^{2}\\right)$"
      ],
      "text/plain": [
       "O(h**2)"
      ]
     },
     "execution_count": 36,
     "metadata": {},
     "output_type": "execute_result"
    }
   ],
   "source": [
    "f1_cent_0"
   ]
  },
  {
   "cell_type": "code",
   "execution_count": 37,
   "id": "379f6cc1-daeb-4271-b410-80480486b17e",
   "metadata": {},
   "outputs": [
    {
     "data": {
      "text/latex": [
       "$\\displaystyle - \\frac{f{\\left(- h + x \\right)}}{2 h} + \\frac{f{\\left(h + x \\right)}}{2 h}$"
      ],
      "text/plain": [
       "-f(-h + x)/(2*h) + f(h + x)/(2*h)"
      ]
     },
     "execution_count": 37,
     "metadata": {},
     "output_type": "execute_result"
    }
   ],
   "source": [
    "f1_cent_ocena"
   ]
  },
  {
   "cell_type": "code",
   "execution_count": 43,
   "id": "119322ad-8b1a-401b-b48c-0c895d7075df",
   "metadata": {},
   "outputs": [
    {
     "data": {
      "text/latex": [
       "$\\displaystyle f{\\left(x \\right)} - h \\frac{d}{d x} f{\\left(x \\right)} + \\frac{h^{2} \\frac{d^{2}}{d x^{2}} f{\\left(x \\right)}}{2} - \\frac{h^{3} \\frac{d^{3}}{d x^{3}} f{\\left(x \\right)}}{6} + \\frac{h^{4} \\frac{d^{4}}{d x^{4}} f{\\left(x \\right)}}{24} + O\\left(h^{5}\\right)$"
      ],
      "text/plain": [
       "f(x) - h*Derivative(f(x), x) + h**2*Derivative(f(x), (x, 2))/2 - h**3*Derivative(f(x), (x, 3))/6 + h**4*Derivative(f(x), (x, 4))/24 + O(h**5)"
      ]
     },
     "execution_count": 43,
     "metadata": {},
     "output_type": "execute_result"
    }
   ],
   "source": [
    "f(x-h).series(h, n=5).doit()"
   ]
  },
  {
   "cell_type": "code",
   "execution_count": 48,
   "id": "7502d304-1e9c-41c2-9b6c-0d8d8e4b6d20",
   "metadata": {},
   "outputs": [],
   "source": [
    "def vsota(n=4):\n",
    "    return f(x+h).series(h, n=n).doit() + f(x-h).series(h, n=n).doit()"
   ]
  },
  {
   "cell_type": "code",
   "execution_count": 49,
   "id": "9e94e6b6-5de9-4838-a20d-25ba44ea6e7a",
   "metadata": {},
   "outputs": [
    {
     "data": {
      "text/latex": [
       "$\\displaystyle 2 f{\\left(x \\right)} + h^{2} \\frac{d^{2}}{d x^{2}} f{\\left(x \\right)} + O\\left(h^{4}\\right)$"
      ],
      "text/plain": [
       "2*f(x) + h**2*Derivative(f(x), (x, 2)) + O(h**4)"
      ]
     },
     "execution_count": 49,
     "metadata": {},
     "output_type": "execute_result"
    }
   ],
   "source": [
    "vsota()"
   ]
  },
  {
   "cell_type": "code",
   "execution_count": 50,
   "id": "098c5ba8-2f96-44f3-ac98-279e4f7b4054",
   "metadata": {},
   "outputs": [],
   "source": [
    "f2_cent_točno =\\\n",
    "    sym.solve(\n",
    "        sym.Eq(f(x+h)+f(x-h), vsota()),\n",
    "        f(x).diff(x,2)\n",
    "    )[0]"
   ]
  },
  {
   "cell_type": "code",
   "execution_count": 52,
   "id": "34c8d0fb-03ac-4c3e-b6e7-e6bc551949b2",
   "metadata": {},
   "outputs": [
    {
     "data": {
      "text/latex": [
       "$\\displaystyle \\frac{f{\\left(h + x \\right)}}{h^{2}} + \\frac{f{\\left(- h + x \\right)}}{h^{2}} - \\frac{2 f{\\left(x \\right)}}{h^{2}} + O\\left(h^{2}\\right)$"
      ],
      "text/plain": [
       "f(h + x)/h**2 + f(-h + x)/h**2 - 2*f(x)/h**2 + O(h**2)"
      ]
     },
     "execution_count": 52,
     "metadata": {},
     "output_type": "execute_result"
    }
   ],
   "source": [
    "f2_cent_točno.expand()"
   ]
  },
  {
   "cell_type": "code",
   "execution_count": 53,
   "id": "93be935d-1dbf-4e80-b93f-09145ed82a33",
   "metadata": {},
   "outputs": [],
   "source": [
    "f2_cent_0 = f2_cent_točno.expand().getO()\n",
    "f2_cent_ocena = f2_cent_točno.expand().removeO()"
   ]
  },
  {
   "cell_type": "code",
   "execution_count": 54,
   "id": "8dd1b740-51b8-4f8c-8684-5328353c4740",
   "metadata": {},
   "outputs": [
    {
     "data": {
      "text/latex": [
       "$\\displaystyle O\\left(h^{2}\\right)$"
      ],
      "text/plain": [
       "O(h**2)"
      ]
     },
     "execution_count": 54,
     "metadata": {},
     "output_type": "execute_result"
    }
   ],
   "source": [
    "f2_cent_0"
   ]
  },
  {
   "cell_type": "code",
   "execution_count": 55,
   "id": "d9b55480-2b27-4c1a-a75d-d2d21ec97588",
   "metadata": {},
   "outputs": [
    {
     "data": {
      "text/latex": [
       "$\\displaystyle - \\frac{2 f{\\left(x \\right)}}{h^{2}} + \\frac{f{\\left(- h + x \\right)}}{h^{2}} + \\frac{f{\\left(h + x \\right)}}{h^{2}}$"
      ],
      "text/plain": [
       "-2*f(x)/h**2 + f(-h + x)/h**2 + f(h + x)/h**2"
      ]
     },
     "execution_count": 55,
     "metadata": {},
     "output_type": "execute_result"
    }
   ],
   "source": [
    "f2_cent_ocena"
   ]
  },
  {
   "cell_type": "code",
   "execution_count": 56,
   "id": "cd511f80-0367-48b4-aa59-49272bba562f",
   "metadata": {},
   "outputs": [
    {
     "data": {
      "text/latex": [
       "$\\displaystyle 2 h \\frac{d}{d x} f{\\left(x \\right)} + \\frac{h^{3} \\frac{d^{3}}{d x^{3}} f{\\left(x \\right)}}{3} + O\\left(h^{5}\\right)$"
      ],
      "text/plain": [
       "2*h*Derivative(f(x), x) + h**3*Derivative(f(x), (x, 3))/3 + O(h**5)"
      ]
     },
     "execution_count": 56,
     "metadata": {},
     "output_type": "execute_result"
    }
   ],
   "source": [
    "razlika(n=5)"
   ]
  },
  {
   "cell_type": "code",
   "execution_count": 58,
   "id": "8676627c-a5f7-4fc0-99e1-fb449f9d8602",
   "metadata": {},
   "outputs": [],
   "source": [
    "import numpy as np\n",
    "import matplotlib.pyplot as plt"
   ]
  },
  {
   "cell_type": "code",
   "execution_count": 62,
   "id": "9ce28273-8c01-4737-86c6-2143c3bc8f00",
   "metadata": {},
   "outputs": [],
   "source": [
    "x = np.linspace(0, 2*np.pi, 9)\n",
    "y = np.sin(x)"
   ]
  },
  {
   "cell_type": "code",
   "execution_count": 64,
   "id": "3749bf81-516b-4f01-8113-a33da3e2aeb8",
   "metadata": {},
   "outputs": [
    {
     "data": {
      "image/png": "[encoded data removed]",
      "text/plain": [
       "<Figure size 640x480 with 1 Axes>"
      ]
     },
     "metadata": {},
     "output_type": "display_data"
    }
   ],
   "source": [
    "plt.plot(x, y, 'o');"
   ]
  },
  {
   "cell_type": "code",
   "execution_count": 65,
   "id": "34e13a4d-e765-4835-9081-09d53595b6cb",
   "metadata": {},
   "outputs": [
    {
     "data": {
      "text/plain": [
       "array([0.        , 0.78539816, 1.57079633, 2.35619449, 3.14159265,\n",
       "       3.92699082, 4.71238898, 5.49778714, 6.28318531])"
      ]
     },
     "execution_count": 65,
     "metadata": {},
     "output_type": "execute_result"
    }
   ],
   "source": [
    "x"
   ]
  },
  {
   "cell_type": "code",
   "execution_count": 66,
   "id": "f7227b39-91e9-4b2a-82ba-d6a295a66e42",
   "metadata": {},
   "outputs": [
    {
     "data": {
      "text/plain": [
       "array([ 0.00000000e+00,  7.07106781e-01,  1.00000000e+00,  7.07106781e-01,\n",
       "        1.22464680e-16, -7.07106781e-01, -1.00000000e+00, -7.07106781e-01,\n",
       "       -2.44929360e-16])"
      ]
     },
     "execution_count": 66,
     "metadata": {},
     "output_type": "execute_result"
    }
   ],
   "source": [
    "y"
   ]
  },
  {
   "cell_type": "code",
   "execution_count": 71,
   "id": "d7c10917-3f70-4d0f-a74e-9ebaffa70d36",
   "metadata": {},
   "outputs": [],
   "source": [
    "h = x[1] - x[0]\n",
    "f_ocena_h = (-0.5 * y[3] + 0.5*y[5])/h\n",
    "f_ocena_2h = (-0.5 * y[2] + 0.5*y[6])/(2*h)"
   ]
  },
  {
   "cell_type": "code",
   "execution_count": 72,
   "id": "7811f849-83b5-46da-8580-03675587770d",
   "metadata": {},
   "outputs": [
    {
     "data": {
      "text/plain": [
       "-0.9003163161571061"
      ]
     },
     "execution_count": 72,
     "metadata": {},
     "output_type": "execute_result"
    }
   ],
   "source": [
    "f_ocena_h"
   ]
  },
  {
   "cell_type": "code",
   "execution_count": 73,
   "id": "35be2535-641f-478e-990d-b9bd0832f561",
   "metadata": {},
   "outputs": [
    {
     "data": {
      "text/plain": [
       "-0.6366197723675814"
      ]
     },
     "execution_count": 73,
     "metadata": {},
     "output_type": "execute_result"
    }
   ],
   "source": [
    "f_ocena_2h"
   ]
  },
  {
   "cell_type": "code",
   "execution_count": 74,
   "id": "68937b79-6812-465b-a6d0-0f21c0a1e8f3",
   "metadata": {},
   "outputs": [
    {
     "data": {
      "text/plain": [
       "-0.9882151640869475"
      ]
     },
     "execution_count": 74,
     "metadata": {},
     "output_type": "execute_result"
    }
   ],
   "source": [
    "(4*f_ocena_h-f_ocena_2h)/3"
   ]
  },
  {
   "cell_type": "code",
   "execution_count": null,
   "id": "2fa768e6-6ec3-41bd-a146-61241077fe67",
   "metadata": {},
   "outputs": [],
   "source": []
  }
 ],
 "metadata": {
  "kernelspec": {
   "display_name": "Python 3 (ipykernel)",
   "language": "python",
   "name": "python3"
  },
  "language_info": {
   "codemirror_mode": {
    "name": "ipython",
    "version": 3
   },
   "file_extension": ".py",
   "mimetype": "text/x-python",
   "name": "python",
   "nbconvert_exporter": "python",
   "pygments_lexer": "ipython3",
   "version": "3.11.6"
  }
 },
 "nbformat": 4,
 "nbformat_minor": 5
}
