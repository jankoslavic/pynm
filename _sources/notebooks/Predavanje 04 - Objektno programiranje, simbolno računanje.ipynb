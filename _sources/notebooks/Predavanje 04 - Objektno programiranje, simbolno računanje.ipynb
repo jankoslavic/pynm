{
 "cells": [
  {
   "cell_type": "markdown",
   "metadata": {
    "slideshow": {
     "slide_type": "slide"
    }
   },
   "source": [
    "# Objektno programiranje, simbolno računanje"
   ]
  },
  {
   "cell_type": "markdown",
   "metadata": {
    "slideshow": {
     "slide_type": "slide"
    }
   },
   "source": [
    "# Objektno programiranje"
   ]
  },
  {
   "cell_type": "markdown",
   "metadata": {},
   "source": [
    "Pri programiranju poznamo različne pristope, dokumentacija Python-a ([docs.python.org](https://docs.python.org/howto/functional.html)) omenja npr:\n",
    "\n",
    "1. **proceduralni**: seznam navodil, kaj je treba izvesti (npr.: ``C, Pascal``)\n",
    "1. **deklerativni**: opišemo kaj želimo, programski jezik pa izvede (npr., ``SQL``)\n",
    "1. **funkcijski**: programiranje temelji na funkcijah (npr.: ``Haskell`` )\n",
    "1. **objektni**: program temelji na objektih, ki imajo lastnosti, funkcije ... (npr.: ``Java, Smalltalk``)\n"
   ]
  },
  {
   "cell_type": "markdown",
   "metadata": {
    "slideshow": {
     "slide_type": "subslide"
    }
   },
   "source": [
    "Python je objektno orientiran programski jezik, vendar pa nas ne sili v uporabo objektov v vseh primerih. Kot bomo videli pozneje, ima objektno programiranje veliko prednosti, vendar pa je lahko mnogokrat okorno in bi po nepotrebnem naredilo program kompleksen. Iz tega razloga se eksplicitnemu objektnemu programiranju izognemo, če se le da."
   ]
  },
  {
   "cell_type": "markdown",
   "metadata": {
    "slideshow": {
     "slide_type": "subslide"
    }
   },
   "source": [
    "Objektno programiranje v Pythonu temelji na **razredih** (*class*), objekti so pa **instance** (*instance*) razreda.  Pogledali si bomo zgolj nekatere osnove objektnega programiranja (da boste lažje razumeli kodo drugih avtorjev in jo prirejali svojim potrebam)."
   ]
  },
  {
   "cell_type": "markdown",
   "metadata": {
    "slideshow": {
     "slide_type": "subslide"
    }
   },
   "source": [
    "Razred definiramo z ukazom `class` ([dokumentacija](https://docs.python.org/tutorial/classes.html)):\n",
    "```python\n",
    "class ImeRazreda:\n",
    "    '''docstring'''\n",
    "    [izraz 1]\n",
    "    [izraz 2]\n",
    "    .\n",
    "    .\n",
    "```\n",
    "kjer ime razreda (torej `ImeRazreda`) po PEP8 pišemo z veliko začetnico. Če je ime sestavljeno iz več besed, vsako pišemo z veliko (t. i. principi *CamelCase*)."
   ]
  },
  {
   "cell_type": "markdown",
   "metadata": {
    "slideshow": {
     "slide_type": "subslide"
    }
   },
   "source": [
    "Poglejmo si primer:"
   ]
  },
  {
   "cell_type": "code",
   "execution_count": 1,
   "metadata": {
    "slideshow": {
     "slide_type": "-"
    }
   },
   "outputs": [],
   "source": [
    "class Pravokotnik:\n",
    "    \"\"\"Razred za objekt pravokotnik\"\"\"\n",
    "\n",
    "    def __init__(self, širina=1, višina=1): # to je konstruktor objekta. Se izvede, ko kličemo Pravokotnik(sirina=1, visina=4)\n",
    "        self.širina = širina \n",
    "        self.višina = višina # višina je atribut objekta\n",
    "        \n",
    "    def površina(self):\n",
    "        return self.širina * self.višina\n",
    "    \n",
    "    def set_širina(self, širina=1):\n",
    "        self.širina = širina"
   ]
  },
  {
   "cell_type": "markdown",
   "metadata": {
    "slideshow": {
     "slide_type": "subslide"
    }
   },
   "source": [
    "Preden gremo v podrobnosti razumevanja kode, naredimo instanco razreda (torej objekt):"
   ]
  },
  {
   "cell_type": "code",
   "execution_count": 2,
   "metadata": {},
   "outputs": [],
   "source": [
    "moj_pravokotnik = Pravokotnik()"
   ]
  },
  {
   "cell_type": "markdown",
   "metadata": {
    "slideshow": {
     "slide_type": "subslide"
    }
   },
   "source": [
    "Funkcije definirane znotraj razreda poimenujemo **metode**, ko jih kličemo na objektih. \n",
    "\n",
    "V zgornjem primeru metodo `površina` uporabimo tako:"
   ]
  },
  {
   "cell_type": "code",
   "execution_count": 3,
   "metadata": {},
   "outputs": [
    {
     "data": {
      "text/plain": [
       "1"
      ]
     },
     "execution_count": 3,
     "metadata": {},
     "output_type": "execute_result"
    }
   ],
   "source": [
    "moj_pravokotnik.površina()"
   ]
  },
  {
   "cell_type": "markdown",
   "metadata": {
    "slideshow": {
     "slide_type": "subslide"
    }
   },
   "source": [
    "Ime ``self`` je referenca na instanco razreda (objekt, ki bo ustvarjen). Imena znotraj razreda postanejo **atributi** objekta.\n",
    "\n",
    "Primer atributa `višina˙:"
   ]
  },
  {
   "cell_type": "code",
   "execution_count": 4,
   "metadata": {},
   "outputs": [
    {
     "data": {
      "text/plain": [
       "1"
      ]
     },
     "execution_count": 4,
     "metadata": {},
     "output_type": "execute_result"
    }
   ],
   "source": [
    "moj_pravokotnik.višina"
   ]
  },
  {
   "cell_type": "markdown",
   "metadata": {
    "slideshow": {
     "slide_type": "subslide"
    }
   },
   "source": [
    "Od kje pride rezultat `1`? Ko ustvarimo objekt, se najprej izvede inicializacijska funkcija `__init__()`, pri tem se kot argumenti funkcije `__init__` uporabijo argumenti, ki jih posredujemo v razred.\n",
    "\n",
    "Primer:"
   ]
  },
  {
   "cell_type": "code",
   "execution_count": 5,
   "metadata": {},
   "outputs": [
    {
     "data": {
      "text/plain": [
       "15"
      ]
     },
     "execution_count": 5,
     "metadata": {},
     "output_type": "execute_result"
    }
   ],
   "source": [
    "tvoj_pravokotnik = Pravokotnik(višina=5, širina=3)\n",
    "tvoj_pravokotnik.površina()"
   ]
  },
  {
   "cell_type": "markdown",
   "metadata": {
    "slideshow": {
     "slide_type": "subslide"
    }
   },
   "source": [
    "Pripravili smo tudi metodo, ki spremeni atribut `širina`:"
   ]
  },
  {
   "cell_type": "code",
   "execution_count": 6,
   "metadata": {
    "slideshow": {
     "slide_type": "fragment"
    }
   },
   "outputs": [
    {
     "data": {
      "text/plain": [
       "100"
      ]
     },
     "execution_count": 6,
     "metadata": {},
     "output_type": "execute_result"
    }
   ],
   "source": [
    "moj_pravokotnik.set_širina(širina=100)\n",
    "moj_pravokotnik.površina()"
   ]
  },
  {
   "cell_type": "markdown",
   "metadata": {
    "slideshow": {
     "slide_type": "subslide"
    }
   },
   "source": [
    "Atribute lahko spreminjamo tudi neposredno, vendar se temu (zaradi možnosti napake in napačne uporabe) ponavadi izogibamo.\n",
    "\n",
    "Primer:"
   ]
  },
  {
   "cell_type": "code",
   "execution_count": 7,
   "metadata": {
    "slideshow": {
     "slide_type": "-"
    }
   },
   "outputs": [
    {
     "data": {
      "text/plain": [
       "300"
      ]
     },
     "execution_count": 7,
     "metadata": {},
     "output_type": "execute_result"
    }
   ],
   "source": [
    "moj_pravokotnik.višina = 3\n",
    "moj_pravokotnik.površina()"
   ]
  },
  {
   "cell_type": "markdown",
   "metadata": {
    "slideshow": {
     "slide_type": "subslide"
    }
   },
   "source": [
    "## Dedovanje"
   ]
  },
  {
   "cell_type": "markdown",
   "metadata": {},
   "source": [
    "Pomembna lastnost razredov je dedovanje; samo ime pove bistvo: tako kot ljudje dedujemo od svojih staršev, podobno velja tudi za razrede.  Vsak razred (`class`) tako lahko deduje lastnosti kakega drugega razreda ([dokumentacija](https://docs.python.org/tutorial/classes.html#inheritance)). Lahko ima celo več staršev (v te podrobnosti tukaj ne bomo šli)."
   ]
  },
  {
   "cell_type": "markdown",
   "metadata": {
    "slideshow": {
     "slide_type": "subslide"
    }
   },
   "source": [
    "Sintaksa razreda, ki deduje, je:\n",
    "```python\n",
    "class Otrok(Starš):\n",
    "    [izraz]\n",
    "    .\n",
    "    .\n",
    "```"
   ]
  },
  {
   "cell_type": "markdown",
   "metadata": {},
   "source": [
    "Opomba: tudi, če razredu ne definiramo *starša*, deduje razred `class`."
   ]
  },
  {
   "cell_type": "markdown",
   "metadata": {
    "slideshow": {
     "slide_type": "subslide"
    }
   },
   "source": [
    "Primer, ko novi razred `Kvadrat` podeduje obstoječega (`Pravokotnik`):"
   ]
  },
  {
   "cell_type": "code",
   "execution_count": 8,
   "metadata": {
    "slideshow": {
     "slide_type": "-"
    }
   },
   "outputs": [],
   "source": [
    "class Kvadrat(Pravokotnik):\n",
    "    \"Razred kvadrat\"\n",
    "    \n",
    "    def __init__(self, širina=1):\n",
    "        # kličimo iniciacijo razreda Pravokotnik\n",
    "        super().__init__(širina=širina, višina=širina)\n",
    "        \n",
    "    def set_širina(self, širina):\n",
    "        self.širina = širina\n",
    "        self.višina = širina"
   ]
  },
  {
   "cell_type": "markdown",
   "metadata": {
    "slideshow": {
     "slide_type": "subslide"
    }
   },
   "source": [
    "Poglejmo sedaj uporabo:"
   ]
  },
  {
   "cell_type": "code",
   "execution_count": 9,
   "metadata": {
    "slideshow": {
     "slide_type": "-"
    }
   },
   "outputs": [],
   "source": [
    "moj_kvadrat = Kvadrat(širina=4)"
   ]
  },
  {
   "cell_type": "markdown",
   "metadata": {},
   "source": [
    "Razred `Kvadrat` nima definicije metode za izračun površine, vendar pa jo je podedoval od razreda `Pravokotnik` in zato *ima metodo* za izračun površine:"
   ]
  },
  {
   "cell_type": "code",
   "execution_count": 10,
   "metadata": {},
   "outputs": [
    {
     "data": {
      "text/plain": [
       "16"
      ]
     },
     "execution_count": 10,
     "metadata": {},
     "output_type": "execute_result"
    }
   ],
   "source": [
    "moj_kvadrat.površina()"
   ]
  },
  {
   "cell_type": "markdown",
   "metadata": {
    "slideshow": {
     "slide_type": "subslide"
    }
   },
   "source": [
    "V kolikor spremenimo širino, se ustrezno spremeni površina:"
   ]
  },
  {
   "cell_type": "code",
   "execution_count": 11,
   "metadata": {
    "slideshow": {
     "slide_type": "-"
    }
   },
   "outputs": [
    {
     "data": {
      "text/plain": [
       "25"
      ]
     },
     "execution_count": 11,
     "metadata": {},
     "output_type": "execute_result"
    }
   ],
   "source": [
    "moj_kvadrat.set_širina(5)\n",
    "moj_kvadrat.površina()"
   ]
  },
  {
   "cell_type": "markdown",
   "metadata": {
    "slideshow": {
     "slide_type": "subslide"
    }
   },
   "source": [
    "### Primer dedovanja razreda `list` (seznam)"
   ]
  },
  {
   "cell_type": "markdown",
   "metadata": {},
   "source": [
    "Najprej pripravimo seznam:"
   ]
  },
  {
   "cell_type": "code",
   "execution_count": 12,
   "metadata": {},
   "outputs": [
    {
     "data": {
      "text/plain": [
       "[1, 2, 3]"
      ]
     },
     "execution_count": 12,
     "metadata": {},
     "output_type": "execute_result"
    }
   ],
   "source": [
    "seznam = list([1,2,3])\n",
    "seznam"
   ]
  },
  {
   "cell_type": "markdown",
   "metadata": {
    "slideshow": {
     "slide_type": "subslide"
    }
   },
   "source": [
    "Če želimo seznamu dodati vrednost, uporabimo metodo `append` (to je metoda, ki jo imajo objekti tipa `list`):"
   ]
  },
  {
   "cell_type": "code",
   "execution_count": 13,
   "metadata": {},
   "outputs": [],
   "source": [
    "seznam.append(1)"
   ]
  },
  {
   "cell_type": "markdown",
   "metadata": {},
   "source": [
    "Nato seznam prikažemo (najprej uvozimo `matplotlib`):"
   ]
  },
  {
   "cell_type": "code",
   "execution_count": 14,
   "metadata": {},
   "outputs": [
    {
     "data": {
      "image/png": "[encoded data removed]",
      "text/plain": [
       "<Figure size 432x288 with 1 Axes>"
      ]
     },
     "metadata": {
      "needs_background": "light"
     },
     "output_type": "display_data"
    }
   ],
   "source": [
    "import matplotlib.pyplot as plt\n",
    "plt.plot(seznam)\n",
    "plt.show()"
   ]
  },
  {
   "cell_type": "markdown",
   "metadata": {
    "slideshow": {
     "slide_type": "subslide"
    }
   },
   "source": [
    "Če nekaj takega izvajamo pogosto, potem je bolje, da si pripravimo svoj razred `Seznam`, ki deduje od `list` in dodamo metodo za prikaz `nariši`:"
   ]
  },
  {
   "cell_type": "code",
   "execution_count": 15,
   "metadata": {},
   "outputs": [],
   "source": [
    "class Seznam(list):\n",
    "        \n",
    "    def nariši(self):\n",
    "        plt.plot(self, 'r.', label='Dolgo besedilo')\n",
    "        plt.legend()\n",
    "        plt.ylim(-5, 5)\n",
    "        plt.show()"
   ]
  },
  {
   "cell_type": "markdown",
   "metadata": {
    "slideshow": {
     "slide_type": "subslide"
    }
   },
   "source": [
    "Instanca objekta je:"
   ]
  },
  {
   "cell_type": "code",
   "execution_count": 16,
   "metadata": {
    "slideshow": {
     "slide_type": "-"
    }
   },
   "outputs": [
    {
     "data": {
      "text/plain": [
       "__main__.Seznam"
      ]
     },
     "execution_count": 16,
     "metadata": {},
     "output_type": "execute_result"
    }
   ],
   "source": [
    "moj_seznam = Seznam([1, 2, 3])\n",
    "type(moj_seznam)"
   ]
  },
  {
   "cell_type": "code",
   "execution_count": 17,
   "metadata": {},
   "outputs": [
    {
     "data": {
      "text/plain": [
       "[1, 2, 3]"
      ]
     },
     "execution_count": 17,
     "metadata": {},
     "output_type": "execute_result"
    }
   ],
   "source": [
    "moj_seznam"
   ]
  },
  {
   "cell_type": "markdown",
   "metadata": {
    "slideshow": {
     "slide_type": "subslide"
    }
   },
   "source": [
    "Čeprav nismo definirali metode `append`, jo je nov razred podedoval po razredu `list`: "
   ]
  },
  {
   "cell_type": "code",
   "execution_count": 18,
   "metadata": {},
   "outputs": [
    {
     "data": {
      "text/plain": [
       "[1, 2, 3, 1]"
      ]
     },
     "execution_count": 18,
     "metadata": {},
     "output_type": "execute_result"
    }
   ],
   "source": [
    "moj_seznam.append(1)\n",
    "moj_seznam"
   ]
  },
  {
   "cell_type": "markdown",
   "metadata": {
    "slideshow": {
     "slide_type": "subslide"
    }
   },
   "source": [
    "Ima tudi metodo za izris:"
   ]
  },
  {
   "cell_type": "code",
   "execution_count": 19,
   "metadata": {
    "slideshow": {
     "slide_type": "-"
    }
   },
   "outputs": [
    {
     "data": {
      "image/png": "[encoded data removed]",
      "text/plain": [
       "<Figure size 432x288 with 1 Axes>"
      ]
     },
     "metadata": {
      "needs_background": "light"
     },
     "output_type": "display_data"
    }
   ],
   "source": [
    "moj_seznam.nariši()"
   ]
  },
  {
   "cell_type": "markdown",
   "metadata": {
    "slideshow": {
     "slide_type": "slide"
    }
   },
   "source": [
    "# Simbolno računanje s ``SymPy``"
   ]
  },
  {
   "cell_type": "markdown",
   "metadata": {},
   "source": [
    "Termin **simbolno računanje** pomeni, da matematične izraze rešujemo strojno v obliki abstraktnih simbolov (in **ne numerično**). Strojno simbolno računanje nam pomaga kadar nas zanima **rezultat v simbolni obliki** in so izrazi preobsežni za klasično reševanje na list in papir. K strojnemu reševanju se zatečemo tudi zaradi zmanjšanja možnosti napake (pri obsežnih izračunih se ljudje lahko zmotimo).\n",
    "\n",
    "**Simbolno računanje nikakor ni nadomestek numeričnih metod!**"
   ]
  },
  {
   "cell_type": "markdown",
   "metadata": {
    "slideshow": {
     "slide_type": "subslide"
    }
   },
   "source": [
    "Pogledali si bomo nekatere osnove, nekateri priporočeni dodatni viri pa so:\n",
    "\n",
    "* J.R. Johansson [Scientific python lectures](http://github.com/jrjohansson/scientific-python-lectures),\n",
    "* [SymPy](http://sympy.org/en/index.html) - uradna dokumentacija modula,\n",
    "* Odličen članek nekaterih avtorjev SymPy: [Meurer et. al, 2017](https://peerj.com/articles/cs-103/)."
   ]
  },
  {
   "cell_type": "markdown",
   "metadata": {
    "slideshow": {
     "slide_type": "subslide"
    }
   },
   "source": [
    "``SymPy`` je eden od sistemov za strojno algebro (CAS - *Computer Algebra Systems*), ki pa ima poleg zmogljivosti tudi to prednost, da je v celoti napisan v Pythonu (alternativni paket v Pythonu [Sage](http://www.sagemath.org/) na primer ni v celoti napisan v Pythonu).\n",
    "\n",
    "Nekatera namenska komercialna orodja:\n",
    "\n",
    "* [Mathematica](http://www.wolfram.com/mathematica) \n",
    "* [Maple](http://www.maplesoft.com/products/maple) "
   ]
  },
  {
   "cell_type": "markdown",
   "metadata": {
    "slideshow": {
     "slide_type": "subslide"
    }
   },
   "source": [
    "Najprej uvozimo modul ``SymPy``; tipično paket uvozimo kot `sym`:"
   ]
  },
  {
   "cell_type": "code",
   "execution_count": 20,
   "metadata": {},
   "outputs": [],
   "source": [
    "import sympy as sym"
   ]
  },
  {
   "cell_type": "markdown",
   "metadata": {},
   "source": [
    "Opazimo lahko, da se `SymPy` uvaža tudi `from sympy import *`. Temu se praviloma izogibamo, saj tako s `SymPy` imeni po nepotrebnem zapolnimo osnovni imenski prostor programa. V slednjem primeru do funkcij paketa (npr. `sympy.Sum`) dostopamo neposredno (npr. `Sum`), kar je lahko privlačno, vendar nas začne motiti, ko dodamo še druge pakete (npr. `numpy`), kar lahko poleg zmede privede do tega, da se funkcije z enakimi imeni \"povozijo\"."
   ]
  },
  {
   "cell_type": "markdown",
   "metadata": {
    "slideshow": {
     "slide_type": "subslide"
    }
   },
   "source": [
    "Zato da dobimo lepo oblikovan LaTeX izpis, uporabimo:"
   ]
  },
  {
   "cell_type": "code",
   "execution_count": 21,
   "metadata": {},
   "outputs": [],
   "source": [
    "sym.init_printing()"
   ]
  },
  {
   "cell_type": "markdown",
   "metadata": {
    "slideshow": {
     "slide_type": "subslide"
    }
   },
   "source": [
    "## Definiranje spremenljivk in numerični izračun"
   ]
  },
  {
   "cell_type": "markdown",
   "metadata": {},
   "source": [
    "Spremenljivke definiramo takole:"
   ]
  },
  {
   "cell_type": "code",
   "execution_count": 22,
   "metadata": {},
   "outputs": [],
   "source": [
    "x, y, k = sym.symbols('x, y, k')"
   ]
  },
  {
   "cell_type": "markdown",
   "metadata": {
    "slideshow": {
     "slide_type": "subslide"
    }
   },
   "source": [
    "Preverimo lahko tip:"
   ]
  },
  {
   "cell_type": "code",
   "execution_count": 23,
   "metadata": {},
   "outputs": [
    {
     "data": {
      "text/plain": [
       "sympy.core.symbol.Symbol"
      ]
     },
     "execution_count": 23,
     "metadata": {},
     "output_type": "execute_result"
    }
   ],
   "source": [
    "type(x)"
   ]
  },
  {
   "cell_type": "markdown",
   "metadata": {},
   "source": [
    "Opazimo, da je spremenljivka `x` sedaj `Symbol` iz paketa `sympy`."
   ]
  },
  {
   "cell_type": "markdown",
   "metadata": {
    "slideshow": {
     "slide_type": "subslide"
    }
   },
   "source": [
    "Sedaj lahko naredimo preprost izračun:"
   ]
  },
  {
   "cell_type": "code",
   "execution_count": 24,
   "metadata": {},
   "outputs": [
    {
     "data": {
      "image/png": "[encoded data removed]",
      "text/latex": [
       "$\\displaystyle k + x^{y}$"
      ],
      "text/plain": [
       "     y\n",
       "k + x "
      ]
     },
     "execution_count": 24,
     "metadata": {},
     "output_type": "execute_result"
    }
   ],
   "source": [
    "x**y + k"
   ]
  },
  {
   "cell_type": "markdown",
   "metadata": {
    "slideshow": {
     "slide_type": "subslide"
    }
   },
   "source": [
    "Funkcijo lahko tudi poimenujemo; tukaj je primer, kjer uporabimo funkcijo sinus in konstanto $\\pi$:"
   ]
  },
  {
   "cell_type": "code",
   "execution_count": 25,
   "metadata": {},
   "outputs": [
    {
     "data": {
      "image/png": "[encoded data removed]",
      "text/latex": [
       "$\\displaystyle \\sin^{2}{\\left(x + 1.2 \\pi \\right)}$"
      ],
      "text/plain": [
       "   2           \n",
       "sin (x + 1.2⋅π)"
      ]
     },
     "execution_count": 25,
     "metadata": {},
     "output_type": "execute_result"
    }
   ],
   "source": [
    "f = sym.sin(1.2*sym.pi + x)**2\n",
    "f"
   ]
  },
  {
   "cell_type": "markdown",
   "metadata": {},
   "source": [
    "Bralec se morebiti sprašuje, zakaj potrebujemo *novo* funkcijo `sympy.sin()`, saj imamo vendar že tisto iz paketa `numpy`! Razlog je v tem, da simbolni izračun potrebuje popolnoma drugačno obravnavo kakor numerični in zato je koda zadaj povsem drugačna."
   ]
  },
  {
   "cell_type": "markdown",
   "metadata": {
    "slideshow": {
     "slide_type": "subslide"
    }
   },
   "source": [
    "Če želimo zapisati enačbo, torej da enačimo en izraz z drugim, to naredimo takole:"
   ]
  },
  {
   "cell_type": "code",
   "execution_count": 26,
   "metadata": {},
   "outputs": [
    {
     "data": {
      "image/png": "[encoded data removed]",
      "text/latex": [
       "$\\displaystyle \\sin{\\left(k x \\right)} = 0.5$"
      ],
      "text/plain": [
       "sin(k⋅x) = 0.5"
      ]
     },
     "execution_count": 26,
     "metadata": {},
     "output_type": "execute_result"
    }
   ],
   "source": [
    "enačba = sym.Eq(sym.sin(k*x),0.5)\n",
    "enačba"
   ]
  },
  {
   "cell_type": "markdown",
   "metadata": {
    "slideshow": {
     "slide_type": "subslide"
    }
   },
   "source": [
    "Nedefinirane matematične funkcije zapišemo kot ([dokumentacija](https://docs.sympy.org/latest/modules/core.html#sympy.core.function.Function)): "
   ]
  },
  {
   "cell_type": "code",
   "execution_count": 27,
   "metadata": {},
   "outputs": [],
   "source": [
    "g = sym.Function('g')"
   ]
  },
  {
   "cell_type": "markdown",
   "metadata": {},
   "source": [
    "Sedaj lahko, na primer, definiramo differencialno enačbo:"
   ]
  },
  {
   "cell_type": "code",
   "execution_count": 28,
   "metadata": {},
   "outputs": [
    {
     "data": {
      "image/png": "[encoded data removed]",
      "text/latex": [
       "$\\displaystyle \\frac{d}{d x} g{\\left(x \\right)} = x$"
      ],
      "text/plain": [
       "d           \n",
       "──(g(x)) = x\n",
       "dx          "
      ]
     },
     "execution_count": 28,
     "metadata": {},
     "output_type": "execute_result"
    }
   ],
   "source": [
    "sym.Eq(g(x).diff(x), x)"
   ]
  },
  {
   "cell_type": "markdown",
   "metadata": {
    "slideshow": {
     "slide_type": "subslide"
    }
   },
   "source": [
    "Pri definiranju spremenljivk lahko dodajamo predpostavke:"
   ]
  },
  {
   "cell_type": "code",
   "execution_count": 29,
   "metadata": {},
   "outputs": [],
   "source": [
    "x = sym.Symbol('x', positive=True)"
   ]
  },
  {
   "cell_type": "code",
   "execution_count": 30,
   "metadata": {},
   "outputs": [
    {
     "data": {
      "text/plain": [
       "True"
      ]
     },
     "execution_count": 30,
     "metadata": {},
     "output_type": "execute_result"
    }
   ],
   "source": [
    "x.is_positive"
   ]
  },
  {
   "cell_type": "markdown",
   "metadata": {
    "slideshow": {
     "slide_type": "subslide"
    }
   },
   "source": [
    "Predpostavke se potem upoštevajo pri izračunu. V splošnem vemo, da $\\sqrt{(x^2)}\\ne x$, če pa je $x$ pozitiven, pa velja $\\sqrt{(x^2)}= x$ in `sympy` glede na predpostavke izračuna pravilen rezultat:"
   ]
  },
  {
   "cell_type": "code",
   "execution_count": 31,
   "metadata": {},
   "outputs": [
    {
     "data": {
      "image/png": "[encoded data removed]",
      "text/latex": [
       "$\\displaystyle x$"
      ],
      "text/plain": [
       "x"
      ]
     },
     "execution_count": 31,
     "metadata": {},
     "output_type": "execute_result"
    }
   ],
   "source": [
    "sym.sqrt(x**2)"
   ]
  },
  {
   "cell_type": "markdown",
   "metadata": {
    "slideshow": {
     "slide_type": "subslide"
    }
   },
   "source": [
    "Z metodo `assumptions0` pogledamo predpostavke objekta:"
   ]
  },
  {
   "cell_type": "code",
   "execution_count": 32,
   "metadata": {},
   "outputs": [
    {
     "data": {
      "text/plain": [
       "{'positive': True,\n",
       " 'extended_nonnegative': True,\n",
       " 'finite': True,\n",
       " 'infinite': False,\n",
       " 'zero': False,\n",
       " 'extended_nonpositive': False,\n",
       " 'nonzero': True,\n",
       " 'imaginary': False,\n",
       " 'real': True,\n",
       " 'extended_real': True,\n",
       " 'nonnegative': True,\n",
       " 'hermitian': True,\n",
       " 'extended_nonzero': True,\n",
       " 'extended_positive': True,\n",
       " 'negative': False,\n",
       " 'extended_negative': False,\n",
       " 'complex': True,\n",
       " 'nonpositive': False,\n",
       " 'commutative': True}"
      ]
     },
     "execution_count": 32,
     "metadata": {},
     "output_type": "execute_result"
    }
   ],
   "source": [
    "x.assumptions0"
   ]
  },
  {
   "cell_type": "markdown",
   "metadata": {
    "slideshow": {
     "slide_type": "subslide"
    }
   },
   "source": [
    "``SymPy`` pozna tipe števil ([dokumentacija](http://docs.sympy.org/latest/modules/core.html#module-sympy.core.numbers)): \n",
    "\n",
    "* ``Real`` realna števila, \n",
    "* ``Rational`` racionalna števila, \n",
    "* ``Complex`` kompleksna števila, \n",
    "* ``Integer`` cela števila.\n",
    "\n",
    "Ti tipi so pomembni, saj lahko vplivajo na način reševanja in na rešitev."
   ]
  },
  {
   "cell_type": "markdown",
   "metadata": {
    "slideshow": {
     "slide_type": "subslide"
    }
   },
   "source": [
    "### Racionalna števila"
   ]
  },
  {
   "cell_type": "markdown",
   "metadata": {
    "slideshow": {
     "slide_type": "subslide"
    }
   },
   "source": [
    "Zgoraj smo že definirali *realna števila*. Poglejmo na primeru sedaj *racionalna števila*:"
   ]
  },
  {
   "cell_type": "code",
   "execution_count": 33,
   "metadata": {},
   "outputs": [],
   "source": [
    "r1 = sym.Rational(4, 5)\n",
    "r2 = sym.Rational(5, 4)"
   ]
  },
  {
   "cell_type": "code",
   "execution_count": 34,
   "metadata": {},
   "outputs": [
    {
     "data": {
      "image/png": "[encoded data removed]",
      "text/latex": [
       "$\\displaystyle \\frac{4}{5}$"
      ],
      "text/plain": [
       "4/5"
      ]
     },
     "execution_count": 34,
     "metadata": {},
     "output_type": "execute_result"
    }
   ],
   "source": [
    "r1"
   ]
  },
  {
   "cell_type": "markdown",
   "metadata": {
    "slideshow": {
     "slide_type": "subslide"
    }
   },
   "source": [
    "Nekateri izračuni:"
   ]
  },
  {
   "cell_type": "code",
   "execution_count": 35,
   "metadata": {},
   "outputs": [
    {
     "data": {
      "image/png": "[encoded data removed]",
      "text/latex": [
       "$\\displaystyle \\frac{41}{20}$"
      ],
      "text/plain": [
       "41\n",
       "──\n",
       "20"
      ]
     },
     "execution_count": 35,
     "metadata": {},
     "output_type": "execute_result"
    }
   ],
   "source": [
    "r1+r2"
   ]
  },
  {
   "cell_type": "code",
   "execution_count": 36,
   "metadata": {},
   "outputs": [
    {
     "data": {
      "image/png": "[encoded data removed]",
      "text/latex": [
       "$\\displaystyle \\frac{16}{25}$"
      ],
      "text/plain": [
       "16\n",
       "──\n",
       "25"
      ]
     },
     "execution_count": 36,
     "metadata": {},
     "output_type": "execute_result"
    }
   ],
   "source": [
    "r1/r2"
   ]
  },
  {
   "cell_type": "markdown",
   "metadata": {
    "slideshow": {
     "slide_type": "subslide"
    }
   },
   "source": [
    "### Kompleksna števila"
   ]
  },
  {
   "cell_type": "markdown",
   "metadata": {},
   "source": [
    "Imaginarno število se zapiše z ``I`` (to je drugače kot pri `numpy`, kjer je imaginarni del definiran z `j`): "
   ]
  },
  {
   "cell_type": "code",
   "execution_count": 37,
   "metadata": {},
   "outputs": [
    {
     "data": {
      "image/png": "[encoded data removed]",
      "text/latex": [
       "$\\displaystyle 1 + i$"
      ],
      "text/plain": [
       "1 + ⅈ"
      ]
     },
     "execution_count": 37,
     "metadata": {},
     "output_type": "execute_result"
    }
   ],
   "source": [
    "1+1*sym.I"
   ]
  },
  {
   "cell_type": "code",
   "execution_count": 38,
   "metadata": {},
   "outputs": [
    {
     "data": {
      "image/png": "[encoded data removed]",
      "text/latex": [
       "$\\displaystyle -1$"
      ],
      "text/plain": [
       "-1"
      ]
     },
     "execution_count": 38,
     "metadata": {},
     "output_type": "execute_result"
    }
   ],
   "source": [
    "sym.I**2"
   ]
  },
  {
   "cell_type": "markdown",
   "metadata": {
    "slideshow": {
     "slide_type": "subslide"
    }
   },
   "source": [
    "### Numerični izračun"
   ]
  },
  {
   "cell_type": "markdown",
   "metadata": {},
   "source": [
    "Pri simbolnem izračunu najprej analitične izraze rešimo, poenostavimo itd., nato pa pogosto želimo tudi izračunati konkreten rezultat."
   ]
  },
  {
   "cell_type": "markdown",
   "metadata": {
    "slideshow": {
     "slide_type": "subslide"
    }
   },
   "source": [
    "Poglejmo primer:"
   ]
  },
  {
   "cell_type": "code",
   "execution_count": 39,
   "metadata": {},
   "outputs": [
    {
     "data": {
      "image/png": "[encoded data removed]",
      "text/latex": [
       "$\\displaystyle e^{x^{x^{x}} + \\pi}$"
      ],
      "text/plain": [
       "  ⎛ x⎞    \n",
       "  ⎝x ⎠    \n",
       " x     + π\n",
       "ℯ         "
      ]
     },
     "execution_count": 39,
     "metadata": {},
     "output_type": "execute_result"
    }
   ],
   "source": [
    "x = sym.symbols('x')\n",
    "f = sym.exp(x**x**x + sym.pi)\n",
    "f"
   ]
  },
  {
   "cell_type": "markdown",
   "metadata": {},
   "source": [
    "Če želimo sedaj namesto $x$ uporabiti vrednost, npr `0.5`, to naredimo z metodo `subs()` ([dokumentacija](http://docs.sympy.org/latest/tutorial/basic_operations.html#substitution)):"
   ]
  },
  {
   "cell_type": "code",
   "execution_count": 40,
   "metadata": {},
   "outputs": [
    {
     "data": {
      "image/png": "[encoded data removed]",
      "text/latex": [
       "$\\displaystyle 1.84512555475729 e^{\\pi}$"
      ],
      "text/plain": [
       "                  π\n",
       "1.84512555475729⋅ℯ "
      ]
     },
     "execution_count": 40,
     "metadata": {},
     "output_type": "execute_result"
    }
   ],
   "source": [
    "f.subs(x, 0.5)"
   ]
  },
  {
   "cell_type": "markdown",
   "metadata": {
    "slideshow": {
     "slide_type": "subslide"
    }
   },
   "source": [
    "Zgoraj smo uporabili konstanto $\\pi$ ([dokumentacija](http://docs.sympy.org/latest/modules/core.html?highlight=pi#sympy.core.numbers.Pi)); nekatere tipično uporabljene konstante so:\n",
    "\n",
    "* ``sympy.pi`` za število $\\pi$,\n",
    "* ``sympy.E`` za naravno število $e$,\n",
    "* ``sympy.oo`` za neskončnost."
   ]
  },
  {
   "cell_type": "markdown",
   "metadata": {
    "slideshow": {
     "slide_type": "subslide"
    }
   },
   "source": [
    "Kot smo videli zgoraj, `subs()` naredi zamenjavo in potem poenostavitve, ki so očitne; števila $\\pi$ ni izračunal v racionalni obliki. To moramo eksplicitno zahtevati z metodo:\n",
    "\n",
    "* ``evalf`` (angl. *evaluate function, [dokumentacija](http://docs.sympy.org/latest/modules/evalf.html)) ali \n",
    "* ``N``,\n",
    "\n",
    "kateri imata obe argument ``n`` (število števk)."
   ]
  },
  {
   "cell_type": "markdown",
   "metadata": {
    "slideshow": {
     "slide_type": "subslide"
    }
   },
   "source": [
    "Poglejmo primer:"
   ]
  },
  {
   "cell_type": "code",
   "execution_count": 41,
   "metadata": {},
   "outputs": [
    {
     "data": {
      "image/png": "[encoded data removed]",
      "text/latex": [
       "$\\displaystyle 205630752.2559788837336514598572458946969835445645441306426707100142289480369288$"
      ],
      "text/plain": [
       "205630752.25597888373365145985724589469698354456454413064267071001422894803692\n",
       "880"
      ]
     },
     "execution_count": 41,
     "metadata": {},
     "output_type": "execute_result"
    }
   ],
   "source": [
    "f.subs(x, 2).evalf(n=80)"
   ]
  },
  {
   "cell_type": "markdown",
   "metadata": {},
   "source": [
    "Podobno je z ``N``:"
   ]
  },
  {
   "cell_type": "code",
   "execution_count": 42,
   "metadata": {},
   "outputs": [
    {
     "data": {
      "image/png": "[encoded data removed]",
      "text/latex": [
       "$\\displaystyle 205630752.2559788837336514598572458946969835445645441306426707100142289480369288$"
      ],
      "text/plain": [
       "205630752.25597888373365145985724589469698354456454413064267071001422894803692\n",
       "880"
      ]
     },
     "execution_count": 42,
     "metadata": {},
     "output_type": "execute_result"
    }
   ],
   "source": [
    "sym.N(f.subs(x, 2), n=80)"
   ]
  },
  {
   "cell_type": "markdown",
   "metadata": {
    "slideshow": {
     "slide_type": "subslide"
    }
   },
   "source": [
    "Mimogrede smo pokazali, da pod pogojem, da v izrazu nimamo števil s plavajočo vejico, lahko rezultat prikažemo poljubno natančno ([dokumentacija](http://docs.sympy.org/latest/modules/evalf.html))."
   ]
  },
  {
   "cell_type": "markdown",
   "metadata": {
    "slideshow": {
     "slide_type": "subslide"
    }
   },
   "source": [
    "V ``subs`` funkciji lahko uporabimo tudi slovar. Primer:"
   ]
  },
  {
   "cell_type": "code",
   "execution_count": 43,
   "metadata": {},
   "outputs": [],
   "source": [
    "x, y = sym.symbols('x, y')\n",
    "parametri = {x: 4, y: 10}"
   ]
  },
  {
   "cell_type": "code",
   "execution_count": 44,
   "metadata": {},
   "outputs": [
    {
     "data": {
      "image/png": "[encoded data removed]",
      "text/latex": [
       "$\\displaystyle 14$"
      ],
      "text/plain": [
       "14"
      ]
     },
     "execution_count": 44,
     "metadata": {},
     "output_type": "execute_result"
    }
   ],
   "source": [
    "(x + y).subs(parametri)"
   ]
  },
  {
   "cell_type": "markdown",
   "metadata": {
    "slideshow": {
     "slide_type": "subslide"
    }
   },
   "source": [
    "ali seznam terk:"
   ]
  },
  {
   "cell_type": "code",
   "execution_count": 45,
   "metadata": {},
   "outputs": [
    {
     "data": {
      "image/png": "[encoded data removed]",
      "text/latex": [
       "$\\displaystyle 14$"
      ],
      "text/plain": [
       "14"
      ]
     },
     "execution_count": 45,
     "metadata": {},
     "output_type": "execute_result"
    }
   ],
   "source": [
    "(x + y).subs([(x, 4), (y, 10)])"
   ]
  },
  {
   "cell_type": "markdown",
   "metadata": {},
   "source": [
    "Podobno ima metoda `sympy.evalf()` argument `subs`, ki sprejme slovar zamenjav, primer:"
   ]
  },
  {
   "cell_type": "code",
   "execution_count": 46,
   "metadata": {},
   "outputs": [
    {
     "data": {
      "image/png": "[encoded data removed]",
      "text/latex": [
       "$\\displaystyle 10000.0$"
      ],
      "text/plain": [
       "10000.0000000000"
      ]
     },
     "execution_count": 46,
     "metadata": {},
     "output_type": "execute_result"
    }
   ],
   "source": [
    "(y**x).evalf(subs=parametri)"
   ]
  },
  {
   "cell_type": "markdown",
   "metadata": {
    "slideshow": {
     "slide_type": "subslide"
    }
   },
   "source": [
    "Metoda ``sympy.subs`` pa lahko zamenja simbol (ali izraz) tudi z drugim izrazom:"
   ]
  },
  {
   "cell_type": "code",
   "execution_count": 47,
   "metadata": {},
   "outputs": [
    {
     "data": {
      "image/png": "[encoded data removed]",
      "text/latex": [
       "$\\displaystyle 2 y + \\infty$"
      ],
      "text/plain": [
       "2⋅y + ∞"
      ]
     },
     "execution_count": 47,
     "metadata": {},
     "output_type": "execute_result"
    }
   ],
   "source": [
    "(x + y).subs(x, y + sym.oo)"
   ]
  },
  {
   "cell_type": "markdown",
   "metadata": {
    "slideshow": {
     "slide_type": "subslide"
    }
   },
   "source": [
    "## ``SymPy`` in ``NumPy``"
   ]
  },
  {
   "cell_type": "markdown",
   "metadata": {},
   "source": [
    "Pogosto `sympy` povežemo z `numpy`. Za primer si poglejmo, kako bi izraz:"
   ]
  },
  {
   "cell_type": "code",
   "execution_count": 48,
   "metadata": {},
   "outputs": [
    {
     "data": {
      "image/png": "[encoded data removed]",
      "text/latex": [
       "$\\displaystyle e^{x} + \\sin{\\left(x \\right)}$"
      ],
      "text/plain": [
       " x         \n",
       "ℯ  + sin(x)"
      ]
     },
     "execution_count": 48,
     "metadata": {},
     "output_type": "execute_result"
    }
   ],
   "source": [
    "x = sym.symbols('x')\n",
    "f = sym.sin(x) + sym.exp(x)\n",
    "f"
   ]
  },
  {
   "cell_type": "markdown",
   "metadata": {},
   "source": [
    "numerično učinkovito izračunali pri tisoč vrednostih $x$."
   ]
  },
  {
   "cell_type": "markdown",
   "metadata": {
    "slideshow": {
     "slide_type": "subslide"
    }
   },
   "source": [
    "Najprej uvozimo paket `numpy`:"
   ]
  },
  {
   "cell_type": "code",
   "execution_count": 49,
   "metadata": {},
   "outputs": [],
   "source": [
    "import numpy as np"
   ]
  },
  {
   "cell_type": "markdown",
   "metadata": {},
   "source": [
    "Pripravimo numerično polje vrednosti:"
   ]
  },
  {
   "cell_type": "code",
   "execution_count": 50,
   "metadata": {},
   "outputs": [
    {
     "data": {
      "text/plain": [
       "array([0.  , 0.01, 0.02, 0.03, 0.04, 0.05, 0.06, 0.07, 0.08, 0.09])"
      ]
     },
     "execution_count": 50,
     "metadata": {},
     "output_type": "execute_result"
    }
   ],
   "source": [
    "x_vec = np.linspace(0, 10, 1000, endpoint=False)\n",
    "x_vec[:10]"
   ]
  },
  {
   "cell_type": "markdown",
   "metadata": {
    "slideshow": {
     "slide_type": "subslide"
    }
   },
   "source": [
    "Glede na zapisano zgoraj in predhodno znanje uporabimo izpeljevanje seznamov:"
   ]
  },
  {
   "cell_type": "code",
   "execution_count": 51,
   "metadata": {},
   "outputs": [],
   "source": [
    "y_vec = np.array([f.evalf(subs={x: vrednost}) for vrednost in x_vec])"
   ]
  },
  {
   "cell_type": "markdown",
   "metadata": {},
   "source": [
    "Opazimo, da je to dolgotrajno, zato izmerimo potreben čas:"
   ]
  },
  {
   "cell_type": "code",
   "execution_count": 52,
   "metadata": {},
   "outputs": [
    {
     "name": "stdout",
     "output_type": "stream",
     "text": [
      "167 ms ± 12.6 ms per loop (mean ± std. dev. of 7 runs, 1 loop each)\n"
     ]
    }
   ],
   "source": [
    "%%timeit -n1\n",
    "y_vec = np.array([f.evalf(subs={x: vrednost}) for vrednost in x_vec])"
   ]
  },
  {
   "cell_type": "markdown",
   "metadata": {
    "slideshow": {
     "slide_type": "subslide"
    }
   },
   "source": [
    "### Uporaba funkcije ``lambdify``"
   ]
  },
  {
   "cell_type": "markdown",
   "metadata": {},
   "source": [
    "Bistveno hitrejši način je uporaba pristopa ``lambdify``, kjer se pripravi prevedena funkcija, optimirana za numerično izvajanje. Sintaksa funkcije `sympy.lambdify()` je ([dokumentacija](http://docs.sympy.org/latest/modules/utilities/lambdify.html#sympy.utilities.lambdify.lambdify)):\n",
    "\n",
    "```python\n",
    "sympy.lambdify(simboli, funkcija, modules=None)\n",
    "```\n",
    "\n",
    "kjer so argumenti:\n",
    "\n",
    "* `simboli` simboli uporabljeni v `funkcija`, ki se zamenjajo z numeričnimi vrednostmi,\n",
    "* `funkcija` predstavlja `sympy` funkcijo,\n",
    "* `modules` predstavlja, za kateri paket je prevedena oblika pripravljena. Če je `numpy` nameščen, je privzeto za ta modul."
   ]
  },
  {
   "cell_type": "markdown",
   "metadata": {
    "slideshow": {
     "slide_type": "subslide"
    }
   },
   "source": [
    "Primer uporabe:"
   ]
  },
  {
   "cell_type": "code",
   "execution_count": 53,
   "metadata": {},
   "outputs": [],
   "source": [
    "f_hitra = sym.lambdify(x, f, modules='numpy')\n",
    "y_vec_hitra = f_hitra(x_vec)"
   ]
  },
  {
   "cell_type": "markdown",
   "metadata": {
    "slideshow": {
     "slide_type": "subslide"
    }
   },
   "source": [
    "Preverimo hitrost:"
   ]
  },
  {
   "cell_type": "code",
   "execution_count": 54,
   "metadata": {},
   "outputs": [
    {
     "name": "stdout",
     "output_type": "stream",
     "text": [
      "16.5 µs ± 1.21 µs per loop (mean ± std. dev. of 7 runs, 100 loops each)\n"
     ]
    }
   ],
   "source": [
    "%%timeit -n100\n",
    "f_hitra(x_vec)"
   ]
  },
  {
   "cell_type": "markdown",
   "metadata": {},
   "source": [
    "Opazimo približno 10.000-kratno pohitritev!"
   ]
  },
  {
   "cell_type": "markdown",
   "metadata": {
    "slideshow": {
     "slide_type": "subslide"
    }
   },
   "source": [
    "Poglejmo še primer uporabe funkcije več spremenljivk:"
   ]
  },
  {
   "cell_type": "code",
   "execution_count": 55,
   "metadata": {},
   "outputs": [
    {
     "data": {
      "text/plain": [
       "array([  9.8696044 ,  28.77051002,  57.54795885,  96.20195089,\n",
       "       144.73248614, 203.1395646 , 271.42318627, 349.58335115,\n",
       "       437.62005924, 535.53331054])"
      ]
     },
     "execution_count": 55,
     "metadata": {},
     "output_type": "execute_result"
    }
   ],
   "source": [
    "f_hitra2 = sym.lambdify((x, y), (x + y + sym.pi)**2, 'numpy')\n",
    "x = np.linspace(0, 10, 10)\n",
    "y = x\n",
    "f_hitra2(x, y)"
   ]
  },
  {
   "cell_type": "markdown",
   "metadata": {
    "slideshow": {
     "slide_type": "subslide"
    }
   },
   "source": [
    "## Grafični prikaz"
   ]
  },
  {
   "cell_type": "markdown",
   "metadata": {},
   "source": [
    "``SymPy`` ima na ``matplotlib`` temelječ prikaz podatkov. Prikaz je sicer glede na ``matplotlib`` bolj omejen in ga uporabljamo za preproste prikaze. ([dokumentacija](http://docs.sympy.org/latest/modules/plotting.html))."
   ]
  },
  {
   "cell_type": "markdown",
   "metadata": {
    "slideshow": {
     "slide_type": "subslide"
    }
   },
   "source": [
    "Pogledali si bomo preproste primere, ki se navezujejo na funkcijo `sympy.plotting.plot`; najprej uvozimo funkcijo:"
   ]
  },
  {
   "cell_type": "code",
   "execution_count": 56,
   "metadata": {
    "slideshow": {
     "slide_type": "-"
    }
   },
   "outputs": [],
   "source": [
    "from sympy.plotting import plot"
   ]
  },
  {
   "cell_type": "markdown",
   "metadata": {
    "slideshow": {
     "slide_type": "subslide"
    }
   },
   "source": [
    "Sintaksa uporabe funkcije `sympy.plotting.plot()` ([dokumentacija](http://docs.sympy.org/latest/modules/plotting.html#plotting-function-reference)) je:\n",
    "```python\n",
    "plot(izraz, razpon, **kwargs)\n",
    "```\n",
    "kjer so argumenti:\n",
    "\n",
    "* `izraz` je matematični izraz ali več izrazov,\n",
    "* `razpon` je razpon prikaza (privzeti razpon je (-10, 10)),\n",
    "* `**kwargs` so *keyword arguments*, torej slovar različnih možnosti.\n",
    "\n",
    "Funkcija vrne instanco objekta `sympy.Plot()`."
   ]
  },
  {
   "cell_type": "markdown",
   "metadata": {
    "slideshow": {
     "slide_type": "subslide"
    }
   },
   "source": [
    "Minimalni primer ene funkcije:"
   ]
  },
  {
   "cell_type": "code",
   "execution_count": 57,
   "metadata": {},
   "outputs": [
    {
     "data": {
      "image/png": "[encoded data removed]",
      "text/plain": [
       "<Figure size 432x288 with 1 Axes>"
      ]
     },
     "metadata": {
      "needs_background": "light"
     },
     "output_type": "display_data"
    },
    {
     "data": {
      "text/plain": [
       "<sympy.plotting.plot.Plot at 0x1f840c7c8e0>"
      ]
     },
     "execution_count": 57,
     "metadata": {},
     "output_type": "execute_result"
    }
   ],
   "source": [
    "x = sym.symbols('x')\n",
    "plot(x**2)"
   ]
  },
  {
   "cell_type": "markdown",
   "metadata": {
    "slideshow": {
     "slide_type": "subslide"
    }
   },
   "source": [
    "Opomba: zadnja vrstica opozori na rezultat v obliki instance `Plot`; izpis objekta `<sympy.plotting.plot.Plot at 0x...>` skrijemo z uporabo podpičja:\n",
    "```python\n",
    "plot(x**2);\n",
    "```\n",
    "slika pa se vseeno prikaže."
   ]
  },
  {
   "cell_type": "markdown",
   "metadata": {
    "slideshow": {
     "slide_type": "subslide"
    }
   },
   "source": [
    "Nekateri pogosti argumenti so:\n",
    "\n",
    "* `show` prikaže sliko (privzeto `True`),\n",
    "* `line_color` barva izrisa,\n",
    "* `xscale` in `yscale` način prikaza (možnosti: `linear` ali `log`),\n",
    "* `xlim` in `ylim` omejitev prikaza za osi (terka dveh `(min, max)` vrednosti)."
   ]
  },
  {
   "cell_type": "markdown",
   "metadata": {
    "slideshow": {
     "slide_type": "subslide"
    }
   },
   "source": [
    "Pripravimo dve sliki, kjer bo $y$ os logaritemska in bo razpon izrisa od 1 do 5:"
   ]
  },
  {
   "cell_type": "code",
   "execution_count": 58,
   "metadata": {},
   "outputs": [],
   "source": [
    "izris1 = plot(x**2, (x, 1, 5), show=False, legend=True, yscale='log')\n",
    "izris2 = plot(30*sym.log(x), (x, 1, 5), show=False, line_color='C2', legend=True, yscale='log')"
   ]
  },
  {
   "cell_type": "markdown",
   "metadata": {
    "slideshow": {
     "slide_type": "subslide"
    }
   },
   "source": [
    "Sedaj prvo sliko razširimo z drugo in prikažemo rezultat:"
   ]
  },
  {
   "cell_type": "code",
   "execution_count": 59,
   "metadata": {},
   "outputs": [
    {
     "data": {
      "image/png": "[encoded data removed]",
      "text/plain": [
       "<Figure size 432x288 with 1 Axes>"
      ]
     },
     "metadata": {
      "needs_background": "light"
     },
     "output_type": "display_data"
    }
   ],
   "source": [
    "izris1.extend(izris2)\n",
    "izris1.show()"
   ]
  },
  {
   "cell_type": "markdown",
   "metadata": {
    "slideshow": {
     "slide_type": "subslide"
    }
   },
   "source": [
    "### Parametrični izris\n",
    "\n",
    "Podobno uporabljamo funkcijo `sympy.plotting.plot_parametric` za parametrični izris ([dokumentacija](http://docs.sympy.org/latest/modules/plotting.html#sympy.plotting.plot.plot_parametric)):\n",
    "```python\n",
    "plot_parametric(izraz_x, izraz_y, range, **kwargs)\n",
    "```\n",
    "kjer sta nova argumenta:\n",
    "\n",
    "* `izraz_x` in `izraz_y` definicije lege koordinate $x$ in $y$,\n",
    "* `**kwargs` je slovar možnosti."
   ]
  },
  {
   "cell_type": "markdown",
   "metadata": {
    "slideshow": {
     "slide_type": "subslide"
    }
   },
   "source": [
    "Uvozimo funkcijo:"
   ]
  },
  {
   "cell_type": "code",
   "execution_count": 60,
   "metadata": {},
   "outputs": [],
   "source": [
    "from sympy.plotting import plot_parametric"
   ]
  },
  {
   "cell_type": "markdown",
   "metadata": {},
   "source": [
    "Prikažimo uporabo na primeru:"
   ]
  },
  {
   "cell_type": "code",
   "execution_count": 61,
   "metadata": {},
   "outputs": [
    {
     "data": {
      "image/png": "[encoded data removed]",
      "text/plain": [
       "<Figure size 432x288 with 1 Axes>"
      ]
     },
     "metadata": {
      "needs_background": "light"
     },
     "output_type": "display_data"
    }
   ],
   "source": [
    "plot_parametric(sym.sin(x), sym.sin(2*x), (x, 0, 2*sym.pi));"
   ]
  },
  {
   "cell_type": "markdown",
   "metadata": {
    "slideshow": {
     "slide_type": "subslide"
    }
   },
   "source": [
    "### Izris v prostoru\n",
    "\n",
    "Funkcija `sympy.plotting.plot3D` ([dokumentacija](http://docs.sympy.org/latest/modules/plotting.html#sympy.plotting.plot.plot3d)) za izris v prostoru ima sintakso:\n",
    "```python\n",
    "plot3d(izraz, razpon_x, razpon_y, **kwargs)\n",
    "```\n",
    "kjer so argumenti:\n",
    "\n",
    "* `izraz` definicija površine,\n",
    "* `razpon_x` in `razpon_y` razpon koordinate `x` in `y`,\n",
    "* `**kwargs` slovar možnosti."
   ]
  },
  {
   "cell_type": "markdown",
   "metadata": {
    "slideshow": {
     "slide_type": "subslide"
    }
   },
   "source": [
    "Uvozimo funkcijo:"
   ]
  },
  {
   "cell_type": "code",
   "execution_count": 62,
   "metadata": {},
   "outputs": [],
   "source": [
    "from sympy.plotting import plot3d"
   ]
  },
  {
   "cell_type": "markdown",
   "metadata": {},
   "source": [
    "Prikažimo uporabo na primeru:"
   ]
  },
  {
   "cell_type": "code",
   "execution_count": 63,
   "metadata": {
    "slideshow": {
     "slide_type": "subslide"
    }
   },
   "outputs": [
    {
     "data": {
      "image/png": "[encoded data removed]",
      "text/plain": [
       "<Figure size 432x288 with 1 Axes>"
      ]
     },
     "metadata": {
      "needs_background": "light"
     },
     "output_type": "display_data"
    }
   ],
   "source": [
    "x, y = sym.symbols('x y')\n",
    "plot3d(x**2 + y**2, (x, -5, 5), (y, -5, 5));"
   ]
  },
  {
   "cell_type": "markdown",
   "metadata": {
    "slideshow": {
     "slide_type": "subslide"
    }
   },
   "source": [
    "Za ostale prikaze glejte [dokumentacijo](http://docs.sympy.org/latest/modules/plotting.html#module-sympy.plotting.plot)."
   ]
  },
  {
   "cell_type": "markdown",
   "metadata": {
    "slideshow": {
     "slide_type": "subslide"
    }
   },
   "source": [
    "## Algebra"
   ]
  },
  {
   "cell_type": "markdown",
   "metadata": {},
   "source": [
    "V tem poglavju si bomo pogledali nekatere osnove uporabe ``SymPy`` za algebrajske operacije."
   ]
  },
  {
   "cell_type": "markdown",
   "metadata": {
    "slideshow": {
     "slide_type": "subslide"
    }
   },
   "source": [
    "### Uporaba ``expand`` in ``factor``"
   ]
  },
  {
   "cell_type": "markdown",
   "metadata": {},
   "source": [
    "Definirajmo matematični izraz:"
   ]
  },
  {
   "cell_type": "code",
   "execution_count": 64,
   "metadata": {},
   "outputs": [
    {
     "data": {
      "image/png": "[encoded data removed]",
      "text/latex": [
       "$\\displaystyle \\left(x + 1\\right) \\left(x + 2\\right) \\left(x + 3\\right)$"
      ],
      "text/plain": [
       "(x + 1)⋅(x + 2)⋅(x + 3)"
      ]
     },
     "execution_count": 64,
     "metadata": {},
     "output_type": "execute_result"
    }
   ],
   "source": [
    "x = sym.symbols('x')\n",
    "f = (x+1)*(x+2)*(x+3)\n",
    "f"
   ]
  },
  {
   "cell_type": "markdown",
   "metadata": {
    "slideshow": {
     "slide_type": "subslide"
    }
   },
   "source": [
    "in ga sedaj **razčlenimo** (angl. *expand*, glejte [dokumentacijo](http://docs.sympy.org/latest/tutorial/simplification.html#expand)):"
   ]
  },
  {
   "cell_type": "code",
   "execution_count": 65,
   "metadata": {},
   "outputs": [
    {
     "data": {
      "image/png": "[encoded data removed]",
      "text/latex": [
       "$\\displaystyle x^{3} + 6 x^{2} + 11 x + 6$"
      ],
      "text/plain": [
       " 3      2           \n",
       "x  + 6⋅x  + 11⋅x + 6"
      ]
     },
     "execution_count": 65,
     "metadata": {},
     "output_type": "execute_result"
    }
   ],
   "source": [
    "aa = sym.expand(f)\n",
    "aa"
   ]
  },
  {
   "cell_type": "markdown",
   "metadata": {
    "slideshow": {
     "slide_type": "-"
    }
   },
   "source": [
    "Če želimo pogledati koeficiente pred ``x``, to naredimo z metodo ``coeff()``:"
   ]
  },
  {
   "cell_type": "code",
   "execution_count": 66,
   "metadata": {},
   "outputs": [
    {
     "data": {
      "image/png": "[encoded data removed]",
      "text/latex": [
       "$\\displaystyle 11$"
      ],
      "text/plain": [
       "11"
      ]
     },
     "execution_count": 66,
     "metadata": {},
     "output_type": "execute_result"
    }
   ],
   "source": [
    "aa.coeff(x)"
   ]
  },
  {
   "cell_type": "markdown",
   "metadata": {
    "slideshow": {
     "slide_type": "subslide"
    }
   },
   "source": [
    "Argumenti funkcije definirajo, kakšno razširitev želimo ([dokumentacija](http://docs.sympy.org/latest/tutorial/simplification.html#expand)). Če želimo npr. trigonometrično razširitev, potem uporabimo ``trig=True``:"
   ]
  },
  {
   "cell_type": "code",
   "execution_count": 67,
   "metadata": {},
   "outputs": [
    {
     "data": {
      "image/png": "[encoded data removed]",
      "text/latex": [
       "$\\displaystyle \\sin{\\left(a + b \\right)}$"
      ],
      "text/plain": [
       "sin(a + b)"
      ]
     },
     "execution_count": 67,
     "metadata": {},
     "output_type": "execute_result"
    }
   ],
   "source": [
    "a, b = sym.symbols('a, b')\n",
    "sym.expand(sym.sin(a+b))"
   ]
  },
  {
   "cell_type": "code",
   "execution_count": 68,
   "metadata": {},
   "outputs": [
    {
     "data": {
      "image/png": "[encoded data removed]",
      "text/latex": [
       "$\\displaystyle \\sin{\\left(a \\right)} \\cos{\\left(b \\right)} + \\sin{\\left(b \\right)} \\cos{\\left(a \\right)}$"
      ],
      "text/plain": [
       "sin(a)⋅cos(b) + sin(b)⋅cos(a)"
      ]
     },
     "execution_count": 68,
     "metadata": {},
     "output_type": "execute_result"
    }
   ],
   "source": [
    "sym.expand(sym.sin(a+b), trig=True)"
   ]
  },
  {
   "cell_type": "markdown",
   "metadata": {
    "slideshow": {
     "slide_type": "subslide"
    }
   },
   "source": [
    "Obratna operacija od razčlenitve je **razcepitev** ali **razstavljanje** ali **faktorizacija** (angl. *factor*, [dokumentacija](http://docs.sympy.org/latest/tutorial/simplification.html#factor)): "
   ]
  },
  {
   "cell_type": "code",
   "execution_count": 69,
   "metadata": {},
   "outputs": [
    {
     "data": {
      "image/png": "[encoded data removed]",
      "text/latex": [
       "$\\displaystyle \\left(x + 1\\right) \\left(x + 2\\right) \\left(x + 3\\right)$"
      ],
      "text/plain": [
       "(x + 1)⋅(x + 2)⋅(x + 3)"
      ]
     },
     "execution_count": 69,
     "metadata": {},
     "output_type": "execute_result"
    }
   ],
   "source": [
    "sym.factor(x**3 + 6 * x**2 + 11*x + 6)"
   ]
  },
  {
   "cell_type": "markdown",
   "metadata": {},
   "source": [
    "Če nas zanimajo posamezni členi, potem to naredimo s funkcijo `sympy.factor_list`:"
   ]
  },
  {
   "cell_type": "code",
   "execution_count": 70,
   "metadata": {},
   "outputs": [
    {
     "data": {
      "image/png": "[encoded data removed]",
      "text/latex": [
       "$\\displaystyle \\left( 1, \\  \\left[ \\left( x + 1, \\  1\\right), \\  \\left( x + 2, \\  1\\right), \\  \\left( x + 3, \\  1\\right)\\right]\\right)$"
      ],
      "text/plain": [
       "(1, [(x + 1, 1), (x + 2, 1), (x + 3, 1)])"
      ]
     },
     "execution_count": 70,
     "metadata": {},
     "output_type": "execute_result"
    }
   ],
   "source": [
    "sym.factor_list(x**3 + 6 * x**2 + 11*x + 6)"
   ]
  },
  {
   "cell_type": "markdown",
   "metadata": {
    "slideshow": {
     "slide_type": "subslide"
    }
   },
   "source": [
    "### Poenostavljanje izrazov s ``simplify``"
   ]
  },
  {
   "cell_type": "markdown",
   "metadata": {},
   "source": [
    "Funkcija ``sympy.simplify()``  ([dokumentacija](http://docs.sympy.org/latest/tutorial/simplification.html#simplify)) poskuša poenostaviti izraze v bolj preproste (npr. s krajšanjem spremenljivk). \n",
    "\n",
    "Za posebne namene lahko poenostavimo tudi z:\n",
    "\n",
    "* [``sympy.trigsimp``](http://docs.sympy.org/latest/tutorial/simplification.html#trigsimp), \n",
    "* [``sympy.powsimp``](http://docs.sympy.org/latest/tutorial/simplification.html#powsimp), \n",
    "* [``sympy.logcombine``](http://docs.sympy.org/latest/tutorial/simplification.html#logcombine). \n",
    "\n",
    "Za več glejte [dokumentacijo](http://docs.sympy.org/latest/tutorial/simplification.html)."
   ]
  },
  {
   "cell_type": "markdown",
   "metadata": {
    "slideshow": {
     "slide_type": "subslide"
    }
   },
   "source": [
    "Primeri poenostavljanja:"
   ]
  },
  {
   "cell_type": "code",
   "execution_count": 71,
   "metadata": {},
   "outputs": [
    {
     "data": {
      "image/png": "[encoded data removed]",
      "text/latex": [
       "$\\displaystyle \\left(x + 1\\right)^{2} \\left(x + 3\\right)$"
      ],
      "text/plain": [
       "       2        \n",
       "(x + 1) ⋅(x + 3)"
      ]
     },
     "execution_count": 71,
     "metadata": {},
     "output_type": "execute_result"
    }
   ],
   "source": [
    "sym.simplify((x+1)*(x+1)*(x+3))"
   ]
  },
  {
   "cell_type": "code",
   "execution_count": 72,
   "metadata": {
    "slideshow": {
     "slide_type": "subslide"
    }
   },
   "outputs": [
    {
     "data": {
      "image/png": "[encoded data removed]",
      "text/latex": [
       "$\\displaystyle 1$"
      ],
      "text/plain": [
       "1"
      ]
     },
     "execution_count": 72,
     "metadata": {},
     "output_type": "execute_result"
    }
   ],
   "source": [
    "sym.simplify(sym.sin(a)**2 + sym.cos(a)**2)"
   ]
  },
  {
   "cell_type": "code",
   "execution_count": 73,
   "metadata": {
    "slideshow": {
     "slide_type": "-"
    }
   },
   "outputs": [
    {
     "data": {
      "image/png": "[encoded data removed]",
      "text/latex": [
       "$\\displaystyle \\frac{1}{\\tan{\\left(x \\right)}}$"
      ],
      "text/plain": [
       "  1   \n",
       "──────\n",
       "tan(x)"
      ]
     },
     "execution_count": 73,
     "metadata": {},
     "output_type": "execute_result"
    }
   ],
   "source": [
    "sym.simplify(sym.cos(x)/sym.sin(x))"
   ]
  },
  {
   "cell_type": "markdown",
   "metadata": {
    "slideshow": {
     "slide_type": "subslide"
    }
   },
   "source": [
    "## Uporaba ``apart`` in ``together``"
   ]
  },
  {
   "cell_type": "markdown",
   "metadata": {},
   "source": [
    "Funkciji uporabljamo za delo z ulomki:"
   ]
  },
  {
   "cell_type": "code",
   "execution_count": 74,
   "metadata": {},
   "outputs": [
    {
     "data": {
      "image/png": "[encoded data removed]",
      "text/latex": [
       "$\\displaystyle \\frac{1}{\\left(x + 1\\right) \\left(x + 5\\right)}$"
      ],
      "text/plain": [
       "       1       \n",
       "───────────────\n",
       "(x + 1)⋅(x + 5)"
      ]
     },
     "execution_count": 74,
     "metadata": {},
     "output_type": "execute_result"
    }
   ],
   "source": [
    "f1 = 1/((1 + x) * (5 + x))\n",
    "f1"
   ]
  },
  {
   "cell_type": "markdown",
   "metadata": {
    "slideshow": {
     "slide_type": "subslide"
    }
   },
   "source": [
    "Razcep na parcialne ulomke (angl. *partial fraction decomposition*) izvedemo s funkcijo `sympy.apart()` ([dokumentacija](http://docs.sympy.org/latest/tutorial/simplification.html#apart)):"
   ]
  },
  {
   "cell_type": "code",
   "execution_count": 75,
   "metadata": {
    "slideshow": {
     "slide_type": "-"
    }
   },
   "outputs": [
    {
     "data": {
      "image/png": "[encoded data removed]",
      "text/latex": [
       "$\\displaystyle - \\frac{1}{4 \\left(x + 5\\right)} + \\frac{1}{4 \\left(x + 1\\right)}$"
      ],
      "text/plain": [
       "      1           1    \n",
       "- ───────── + ─────────\n",
       "  4⋅(x + 5)   4⋅(x + 1)"
      ]
     },
     "execution_count": 75,
     "metadata": {},
     "output_type": "execute_result"
    }
   ],
   "source": [
    "f2 = sym.apart(f1, x)\n",
    "f2"
   ]
  },
  {
   "cell_type": "markdown",
   "metadata": {
    "slideshow": {
     "slide_type": "subslide"
    }
   },
   "source": [
    "in potem ponovno v obratni smeri s funkcijo `sympy.together()`:"
   ]
  },
  {
   "cell_type": "code",
   "execution_count": 76,
   "metadata": {
    "slideshow": {
     "slide_type": "-"
    }
   },
   "outputs": [
    {
     "data": {
      "image/png": "[encoded data removed]",
      "text/latex": [
       "$\\displaystyle \\frac{1}{\\left(x + 1\\right) \\left(x + 5\\right)}$"
      ],
      "text/plain": [
       "       1       \n",
       "───────────────\n",
       "(x + 1)⋅(x + 5)"
      ]
     },
     "execution_count": 76,
     "metadata": {},
     "output_type": "execute_result"
    }
   ],
   "source": [
    "sym.together(f2)"
   ]
  },
  {
   "cell_type": "markdown",
   "metadata": {
    "slideshow": {
     "slide_type": "subslide"
    }
   },
   "source": [
    "V slednjem primeru pridemo do podobnega rezultata s ``sympy.simplify()``:"
   ]
  },
  {
   "cell_type": "code",
   "execution_count": 77,
   "metadata": {},
   "outputs": [
    {
     "data": {
      "image/png": "[encoded data removed]",
      "text/latex": [
       "$\\displaystyle \\frac{1}{\\left(x + 1\\right) \\left(x + 5\\right)}$"
      ],
      "text/plain": [
       "       1       \n",
       "───────────────\n",
       "(x + 1)⋅(x + 5)"
      ]
     },
     "execution_count": 77,
     "metadata": {},
     "output_type": "execute_result"
    }
   ],
   "source": [
    "sym.simplify(f2)"
   ]
  },
  {
   "cell_type": "markdown",
   "metadata": {
    "slideshow": {
     "slide_type": "subslide"
    }
   },
   "source": [
    "## Odvajanje"
   ]
  },
  {
   "cell_type": "markdown",
   "metadata": {},
   "source": [
    "Odvajanje je načeloma relativno preprosta matematična operacija, ki jo izvedemo s funkcijo ``sympy.diff()`` ([dokumentacija](http://docs.sympy.org/latest/tutorial/calculus.html#derivatives)):"
   ]
  },
  {
   "cell_type": "markdown",
   "metadata": {
    "slideshow": {
     "slide_type": "subslide"
    }
   },
   "source": [
    "Pripravimo primer:"
   ]
  },
  {
   "cell_type": "code",
   "execution_count": 78,
   "metadata": {},
   "outputs": [
    {
     "data": {
      "image/png": "[encoded data removed]",
      "text/latex": [
       "$\\displaystyle \\sin{\\left(x y \\right)} + \\cos{\\left(y z \\right)}$"
      ],
      "text/plain": [
       "sin(x⋅y) + cos(y⋅z)"
      ]
     },
     "execution_count": 78,
     "metadata": {},
     "output_type": "execute_result"
    }
   ],
   "source": [
    "x, y, z = sym.symbols('x, y, z')\n",
    "f = sym.sin(x*y) + sym.cos(y*z)\n",
    "f"
   ]
  },
  {
   "cell_type": "markdown",
   "metadata": {
    "slideshow": {
     "slide_type": "subslide"
    }
   },
   "source": [
    "Odvajajmo ga po $x$:"
   ]
  },
  {
   "cell_type": "code",
   "execution_count": 79,
   "metadata": {},
   "outputs": [
    {
     "data": {
      "image/png": "[encoded data removed]",
      "text/latex": [
       "$\\displaystyle y \\cos{\\left(x y \\right)}$"
      ],
      "text/plain": [
       "y⋅cos(x⋅y)"
      ]
     },
     "execution_count": 79,
     "metadata": {},
     "output_type": "execute_result"
    }
   ],
   "source": [
    "sym.diff(f, x)"
   ]
  },
  {
   "cell_type": "markdown",
   "metadata": {},
   "source": [
    "ali tudi"
   ]
  },
  {
   "cell_type": "code",
   "execution_count": 80,
   "metadata": {},
   "outputs": [
    {
     "data": {
      "image/png": "[encoded data removed]",
      "text/latex": [
       "$\\displaystyle y \\cos{\\left(x y \\right)}$"
      ],
      "text/plain": [
       "y⋅cos(x⋅y)"
      ]
     },
     "execution_count": 80,
     "metadata": {},
     "output_type": "execute_result"
    }
   ],
   "source": [
    "f.diff(x)"
   ]
  },
  {
   "cell_type": "markdown",
   "metadata": {
    "slideshow": {
     "slide_type": "subslide"
    }
   },
   "source": [
    "Odvode višjega reda definiramo tako:"
   ]
  },
  {
   "cell_type": "code",
   "execution_count": 81,
   "metadata": {},
   "outputs": [
    {
     "data": {
      "image/png": "[encoded data removed]",
      "text/latex": [
       "$\\displaystyle - y^{3} \\cos{\\left(x y \\right)}$"
      ],
      "text/plain": [
       "  3         \n",
       "-y ⋅cos(x⋅y)"
      ]
     },
     "execution_count": 81,
     "metadata": {},
     "output_type": "execute_result"
    }
   ],
   "source": [
    "sym.diff(f, x, x, x)"
   ]
  },
  {
   "cell_type": "markdown",
   "metadata": {},
   "source": [
    "ali (isti rezultat malo drugače):"
   ]
  },
  {
   "cell_type": "code",
   "execution_count": 82,
   "metadata": {},
   "outputs": [
    {
     "data": {
      "image/png": "[encoded data removed]",
      "text/latex": [
       "$\\displaystyle - y^{3} \\cos{\\left(x y \\right)}$"
      ],
      "text/plain": [
       "  3         \n",
       "-y ⋅cos(x⋅y)"
      ]
     },
     "execution_count": 82,
     "metadata": {},
     "output_type": "execute_result"
    }
   ],
   "source": [
    "sym.diff(f, x, 3)"
   ]
  },
  {
   "cell_type": "markdown",
   "metadata": {
    "slideshow": {
     "slide_type": "subslide"
    }
   },
   "source": [
    "Odvod po več spremenljivkah $\\frac{d^3f}{dx\\,dy^2}$ izvedemo takole:"
   ]
  },
  {
   "cell_type": "code",
   "execution_count": 83,
   "metadata": {},
   "outputs": [
    {
     "data": {
      "image/png": "[encoded data removed]",
      "text/latex": [
       "$\\displaystyle - x \\left(x y \\cos{\\left(x y \\right)} + 2 \\sin{\\left(x y \\right)}\\right)$"
      ],
      "text/plain": [
       "-x⋅(x⋅y⋅cos(x⋅y) + 2⋅sin(x⋅y))"
      ]
     },
     "execution_count": 83,
     "metadata": {},
     "output_type": "execute_result"
    }
   ],
   "source": [
    "sym.diff(f, x, 1, y, 2)"
   ]
  },
  {
   "cell_type": "markdown",
   "metadata": {
    "slideshow": {
     "slide_type": "subslide"
    }
   },
   "source": [
    "## Integriranje"
   ]
  },
  {
   "cell_type": "markdown",
   "metadata": {},
   "source": [
    "Funkcijo ``integrate`` lahko uporabimo za nedoločeno integriranje ([dokumentacija](http://docs.sympy.org/latest/modules/integrals/integrals.html#module-sympy.integrals)):\n",
    "```pythoon\n",
    "integrate(f, x)\n",
    "```\n",
    "ali za določeno integriranje:\n",
    "```python\n",
    "integrate(f, (x, a, b))\n",
    "```\n",
    "kjer so argumenti:\n",
    "\n",
    "* `f` funkcija, ki jo integriramo,\n",
    "* `x` spremenljivka, po kateri integriramo,\n",
    "* `a` in `b` meje integriranja."
   ]
  },
  {
   "cell_type": "markdown",
   "metadata": {
    "slideshow": {
     "slide_type": "subslide"
    }
   },
   "source": [
    "Primer nedoločenega integriranja:"
   ]
  },
  {
   "cell_type": "code",
   "execution_count": 84,
   "metadata": {},
   "outputs": [
    {
     "data": {
      "image/png": "[encoded data removed]",
      "text/latex": [
       "$\\displaystyle x \\cos{\\left(y z \\right)} + \\begin{cases} - \\frac{\\cos{\\left(x y \\right)}}{y} & \\text{for}\\: y \\neq 0 \\\\0 & \\text{otherwise} \\end{cases}$"
      ],
      "text/plain": [
       "             ⎛⎧-cos(x⋅y)            ⎞\n",
       "             ⎜⎪──────────  for y ≠ 0⎟\n",
       "x⋅cos(y⋅z) + ⎜⎨    y                ⎟\n",
       "             ⎜⎪                     ⎟\n",
       "             ⎝⎩    0       otherwise⎠"
      ]
     },
     "execution_count": 84,
     "metadata": {},
     "output_type": "execute_result"
    }
   ],
   "source": [
    "x = sym.symbols('x')\n",
    "f = sym.sin(x*y) + sym.cos(y*z)\n",
    "sym.integrate(f, x)"
   ]
  },
  {
   "cell_type": "markdown",
   "metadata": {},
   "source": [
    "Opazimo, da `sympy` pravilno upošteva možnost, da je $y=0$."
   ]
  },
  {
   "cell_type": "markdown",
   "metadata": {
    "slideshow": {
     "slide_type": "subslide"
    }
   },
   "source": [
    "Še primer določenega integriranja:"
   ]
  },
  {
   "cell_type": "code",
   "execution_count": 85,
   "metadata": {},
   "outputs": [
    {
     "data": {
      "image/png": "[encoded data removed]",
      "text/latex": [
       "$\\displaystyle 2 \\cos{\\left(y z \\right)}$"
      ],
      "text/plain": [
       "2⋅cos(y⋅z)"
      ]
     },
     "execution_count": 85,
     "metadata": {},
     "output_type": "execute_result"
    }
   ],
   "source": [
    "sym.integrate(f, (x, -1, 1))"
   ]
  },
  {
   "cell_type": "markdown",
   "metadata": {
    "slideshow": {
     "slide_type": "subslide"
    }
   },
   "source": [
    "Primer, ko so meje v neskončnosti (uporabimo konstanto za neskončnost ``sympy.oo``):"
   ]
  },
  {
   "cell_type": "code",
   "execution_count": 86,
   "metadata": {},
   "outputs": [
    {
     "data": {
      "image/png": "[encoded data removed]",
      "text/latex": [
       "$\\displaystyle \\sqrt{\\pi}$"
      ],
      "text/plain": [
       "√π"
      ]
     },
     "execution_count": 86,
     "metadata": {},
     "output_type": "execute_result"
    }
   ],
   "source": [
    "sym.integrate(sym.exp(-x**2), (x, -sym.oo, sym.oo))"
   ]
  },
  {
   "cell_type": "markdown",
   "metadata": {
    "slideshow": {
     "slide_type": "subslide"
    }
   },
   "source": [
    "## Vsota in produkt vrste"
   ]
  },
  {
   "cell_type": "markdown",
   "metadata": {},
   "source": [
    "Vsoto vrste definiramo s pomočju funkcije ``sympy.Sum()`` ([dokumentacija](http://docs.sympy.org/latest/modules/concrete.html#sympy.concrete.summations.Sum)):\n",
    "```python\n",
    "sympy.Sum(izraz, (spr, start, end))\n",
    "```\n",
    "kjer so argumenti:\n",
    "\n",
    "* `izraz` izraz, katerega seštevamo,\n",
    "* `spr`, `start` in `end` spremenljivka, ki naračša od `start` do `end` (`end` je vključen)."
   ]
  },
  {
   "cell_type": "markdown",
   "metadata": {
    "slideshow": {
     "slide_type": "subslide"
    }
   },
   "source": [
    "Primer vsote vrste:"
   ]
  },
  {
   "cell_type": "code",
   "execution_count": 87,
   "metadata": {},
   "outputs": [
    {
     "data": {
      "image/png": "[encoded data removed]",
      "text/latex": [
       "$\\displaystyle \\sum_{n=1}^{\\infty} x^{- n}$"
      ],
      "text/plain": [
       "  ∞      \n",
       " ___     \n",
       " ╲       \n",
       "  ╲    -n\n",
       "  ╱   x  \n",
       " ╱       \n",
       " ‾‾‾     \n",
       "n = 1    "
      ]
     },
     "execution_count": 87,
     "metadata": {},
     "output_type": "execute_result"
    }
   ],
   "source": [
    "n = sym.Symbol('n')\n",
    "f = sym.Sum(1/x**n, (n, 1, sym.oo))\n",
    "f"
   ]
  },
  {
   "cell_type": "markdown",
   "metadata": {
    "slideshow": {
     "slide_type": "subslide"
    }
   },
   "source": [
    "Šele ko uporabimo metodo `doit_()`, se izračun izvede:"
   ]
  },
  {
   "cell_type": "code",
   "execution_count": 88,
   "metadata": {
    "slideshow": {
     "slide_type": "-"
    }
   },
   "outputs": [
    {
     "data": {
      "image/png": "[encoded data removed]",
      "text/latex": [
       "$\\displaystyle \\begin{cases} \\frac{1}{x \\left(1 - \\frac{1}{x}\\right)} & \\text{for}\\: \\frac{1}{\\left|{x}\\right|} < 1 \\\\\\sum_{n=1}^{\\infty} x^{- n} & \\text{otherwise} \\end{cases}$"
      ],
      "text/plain": [
       "⎧    1           1     \n",
       "⎪─────────  for ─── < 1\n",
       "⎪  ⎛    1⎞      │x│    \n",
       "⎪x⋅⎜1 - ─⎟             \n",
       "⎪  ⎝    x⎠             \n",
       "⎪                      \n",
       "⎪  ∞                   \n",
       "⎨ ___                  \n",
       "⎪ ╲                    \n",
       "⎪  ╲    -n             \n",
       "⎪  ╱   x     otherwise \n",
       "⎪ ╱                    \n",
       "⎪ ‾‾‾                  \n",
       "⎪n = 1                 \n",
       "⎩                      "
      ]
     },
     "execution_count": 88,
     "metadata": {},
     "output_type": "execute_result"
    }
   ],
   "source": [
    "f.doit()"
   ]
  },
  {
   "cell_type": "markdown",
   "metadata": {},
   "source": [
    "Poglejmo še številčni rezultat:"
   ]
  },
  {
   "cell_type": "code",
   "execution_count": 89,
   "metadata": {
    "slideshow": {
     "slide_type": "-"
    }
   },
   "outputs": [
    {
     "data": {
      "image/png": "[encoded data removed]",
      "text/latex": [
       "$\\displaystyle 0.25$"
      ],
      "text/plain": [
       "0.250000000000000"
      ]
     },
     "execution_count": 89,
     "metadata": {},
     "output_type": "execute_result"
    }
   ],
   "source": [
    "f.subs({x: 5}).evalf()"
   ]
  },
  {
   "cell_type": "markdown",
   "metadata": {
    "slideshow": {
     "slide_type": "subslide"
    }
   },
   "source": [
    "Produkt vrste definiramo podobno s funkcijo ``sympy.Product`` ([dokumentacija](http://docs.sympy.org/latest/modules/concrete.html#sympy.concrete.products.Product)):\n",
    "```python\n",
    "sympy.Product(izraz, (spr, start, end))\n",
    "```\n",
    "kjer so argumenti:\n",
    "\n",
    "* `izraz` izraz, katerega množimo,\n",
    "* `spr`, `start` in `end` spremenljivka, ki naračša od `start` do `end` (`end` je vključen)."
   ]
  },
  {
   "cell_type": "markdown",
   "metadata": {
    "slideshow": {
     "slide_type": "subslide"
    }
   },
   "source": [
    "Primer:"
   ]
  },
  {
   "cell_type": "code",
   "execution_count": 90,
   "metadata": {},
   "outputs": [
    {
     "data": {
      "image/png": "[encoded data removed]",
      "text/latex": [
       "$\\displaystyle \\prod_{n=1}^{5} \\frac{1}{n}$"
      ],
      "text/plain": [
       "   5      \n",
       "─┬────┬─  \n",
       " │    │  1\n",
       " │    │  ─\n",
       " │    │  n\n",
       " │    │   \n",
       " n = 1    "
      ]
     },
     "execution_count": 90,
     "metadata": {},
     "output_type": "execute_result"
    }
   ],
   "source": [
    "f = sym.Product(1/n, (n, 1, 5))\n",
    "f"
   ]
  },
  {
   "cell_type": "code",
   "execution_count": 91,
   "metadata": {
    "slideshow": {
     "slide_type": "-"
    }
   },
   "outputs": [
    {
     "data": {
      "image/png": "[encoded data removed]",
      "text/latex": [
       "$\\displaystyle \\frac{1}{120}$"
      ],
      "text/plain": [
       "1/120"
      ]
     },
     "execution_count": 91,
     "metadata": {},
     "output_type": "execute_result"
    }
   ],
   "source": [
    "f.doit()"
   ]
  },
  {
   "cell_type": "markdown",
   "metadata": {
    "slideshow": {
     "slide_type": "subslide"
    }
   },
   "source": [
    "## Limitni račun"
   ]
  },
  {
   "cell_type": "markdown",
   "metadata": {},
   "source": [
    "Limite računamo s pomočjo funkcije ``sympy.limit()`` ([dokumentacija](http://docs.sympy.org/latest/tutorial/calculus.html#limits)):\n",
    "```python\n",
    "sympy.limit(f, x, x0)\n",
    "```\n",
    "kjer so argumenti:\n",
    "\n",
    "* `f` izraz, katerega limito iščemo,\n",
    "* `x` spremenljivka, ki limitira proti `x0`,\n",
    "* `x0` limita."
   ]
  },
  {
   "cell_type": "markdown",
   "metadata": {
    "slideshow": {
     "slide_type": "subslide"
    }
   },
   "source": [
    "Primer:"
   ]
  },
  {
   "cell_type": "code",
   "execution_count": 92,
   "metadata": {},
   "outputs": [
    {
     "data": {
      "image/png": "[encoded data removed]",
      "text/latex": [
       "$\\displaystyle \\frac{\\sin{\\left(x \\right)}}{x}$"
      ],
      "text/plain": [
       "sin(x)\n",
       "──────\n",
       "  x   "
      ]
     },
     "execution_count": 92,
     "metadata": {},
     "output_type": "execute_result"
    }
   ],
   "source": [
    "x = sym.symbols('x')\n",
    "f = sym.sin(x)/x\n",
    "f"
   ]
  },
  {
   "cell_type": "code",
   "execution_count": 93,
   "metadata": {},
   "outputs": [
    {
     "data": {
      "image/png": "[encoded data removed]",
      "text/latex": [
       "$\\displaystyle 1$"
      ],
      "text/plain": [
       "1"
      ]
     },
     "execution_count": 93,
     "metadata": {},
     "output_type": "execute_result"
    }
   ],
   "source": [
    "sym.limit(f, x, 0)"
   ]
  },
  {
   "cell_type": "markdown",
   "metadata": {
    "slideshow": {
     "slide_type": "subslide"
    }
   },
   "source": [
    "Za primer si poglejmo uporabo limite na definiciji odvoda:\n",
    "$$\\frac{\\mathrm{d}f}{\\mathrm{d}x} = \\lim_{h\\rightarrow 0}\\frac{f(x+h,y)-f(x,y)}{h}.$$"
   ]
  },
  {
   "cell_type": "markdown",
   "metadata": {},
   "source": [
    "Pripravimo funkcijo `f` in njen odvod:"
   ]
  },
  {
   "cell_type": "code",
   "execution_count": 94,
   "metadata": {},
   "outputs": [],
   "source": [
    "x, y, z, h = sym.symbols('x, y, z, h')\n",
    "f = sym.sin(x*y) + sym.cos(y*z)"
   ]
  },
  {
   "cell_type": "markdown",
   "metadata": {
    "slideshow": {
     "slide_type": "subslide"
    }
   },
   "source": [
    "Odvod funkcije je:"
   ]
  },
  {
   "cell_type": "code",
   "execution_count": 95,
   "metadata": {},
   "outputs": [
    {
     "data": {
      "image/png": "[encoded data removed]",
      "text/latex": [
       "$\\displaystyle y \\cos{\\left(x y \\right)}$"
      ],
      "text/plain": [
       "y⋅cos(x⋅y)"
      ]
     },
     "execution_count": 95,
     "metadata": {},
     "output_type": "execute_result"
    }
   ],
   "source": [
    "sym.diff(f, x)"
   ]
  },
  {
   "cell_type": "markdown",
   "metadata": {},
   "source": [
    "Enak rezultat izračunamo tudi z uporabo limite:"
   ]
  },
  {
   "cell_type": "code",
   "execution_count": 96,
   "metadata": {},
   "outputs": [
    {
     "data": {
      "image/png": "[encoded data removed]",
      "text/latex": [
       "$\\displaystyle y \\cos{\\left(x y \\right)}$"
      ],
      "text/plain": [
       "y⋅cos(x⋅y)"
      ]
     },
     "execution_count": 96,
     "metadata": {},
     "output_type": "execute_result"
    }
   ],
   "source": [
    "sym.limit((f.subs(x, x+h) - f)/h, h, 0)"
   ]
  },
  {
   "cell_type": "markdown",
   "metadata": {
    "slideshow": {
     "slide_type": "subslide"
    }
   },
   "source": [
    "## Taylorjeve vrste"
   ]
  },
  {
   "cell_type": "markdown",
   "metadata": {},
   "source": [
    "Taylorjeve vrste izračunamo s pomočjo funkcijo ``sympy.series()`` ([dokumentacija](http://docs.sympy.org/latest/modules/series/series.html#id1)):\n",
    "```python\n",
    "sympy.series(izraz, x=None, x0=0, n=6, dir='+')\n",
    "```\n",
    "kjer so argumenti:\n",
    "\n",
    "* `izraz` izraz, katerega vrsto določamo,\n",
    "* `x` neodvisna spremenljivka,\n",
    "* `x0` vrednost, okoli katere določamo vrsto (privzeto 0),\n",
    "* `n` red vrste (privzeto 6),\n",
    "* `dir` smer razvoja vrste (`+` ali `-`)."
   ]
  },
  {
   "cell_type": "markdown",
   "metadata": {
    "slideshow": {
     "slide_type": "subslide"
    }
   },
   "source": [
    "Primer:"
   ]
  },
  {
   "cell_type": "code",
   "execution_count": 97,
   "metadata": {},
   "outputs": [
    {
     "data": {
      "image/png": "[encoded data removed]",
      "text/latex": [
       "$\\displaystyle 1 + x + \\frac{x^{2}}{2} + \\frac{x^{3}}{6} + \\frac{x^{4}}{24} + \\frac{x^{5}}{120} + O\\left(x^{6}\\right)$"
      ],
      "text/plain": [
       "         2    3    4     5        \n",
       "        x    x    x     x     ⎛ 6⎞\n",
       "1 + x + ── + ── + ── + ─── + O⎝x ⎠\n",
       "        2    6    24   120        "
      ]
     },
     "execution_count": 97,
     "metadata": {},
     "output_type": "execute_result"
    }
   ],
   "source": [
    "x = sym.symbols('x')\n",
    "sym.series(sym.exp(x), x) # privzete vrednosti x0=0, in n=6"
   ]
  },
  {
   "cell_type": "markdown",
   "metadata": {
    "slideshow": {
     "slide_type": "subslide"
    }
   },
   "source": [
    "Če želimo definirati drugo izhodišče (`x0=2`) in z več členi (`n=8`), to izvedemo takole:"
   ]
  },
  {
   "cell_type": "code",
   "execution_count": 98,
   "metadata": {},
   "outputs": [
    {
     "data": {
      "image/png": "[encoded data removed]",
      "text/latex": [
       "$\\displaystyle e^{2} + \\left(x - 2\\right) e^{2} + \\frac{\\left(x - 2\\right)^{2} e^{2}}{2} + \\frac{\\left(x - 2\\right)^{3} e^{2}}{6} + \\frac{\\left(x - 2\\right)^{4} e^{2}}{24} + \\frac{\\left(x - 2\\right)^{5} e^{2}}{120} + \\frac{\\left(x - 2\\right)^{6} e^{2}}{720} + \\frac{\\left(x - 2\\right)^{7} e^{2}}{5040} + O\\left(\\left(x - 2\\right)^{8}; x\\rightarrow 2\\right)$"
      ],
      "text/plain": [
       "                         2  2          3  2          4  2          5  2       \n",
       " 2            2   (x - 2) ⋅ℯ    (x - 2) ⋅ℯ    (x - 2) ⋅ℯ    (x - 2) ⋅ℯ    (x -\n",
       "ℯ  + (x - 2)⋅ℯ  + ─────────── + ─────────── + ─────────── + ─────────── + ────\n",
       "                       2             6             24           120           \n",
       "\n",
       "   6  2          7  2                     \n",
       " 2) ⋅ℯ    (x - 2) ⋅ℯ     ⎛       8       ⎞\n",
       "─────── + ─────────── + O⎝(x - 2) ; x → 2⎠\n",
       "720           5040                        "
      ]
     },
     "execution_count": 98,
     "metadata": {},
     "output_type": "execute_result"
    }
   ],
   "source": [
    "s1 = sym.series(sym.exp(x), x, x0=2, n=8)\n",
    "s1"
   ]
  },
  {
   "cell_type": "markdown",
   "metadata": {
    "slideshow": {
     "slide_type": "subslide"
    }
   },
   "source": [
    "Rezultat vključuje tudi red veljavnosti; na ta način lahko kontroliramo veljavnosti izvajanja ($\\mathcal{O}$). \n",
    "\n",
    "Primer:"
   ]
  },
  {
   "cell_type": "code",
   "execution_count": 99,
   "metadata": {},
   "outputs": [
    {
     "data": {
      "image/png": "[encoded data removed]",
      "text/latex": [
       "$\\displaystyle 1 - \\frac{x^{2}}{2} + \\frac{x^{4}}{24} + O\\left(x^{5}\\right)$"
      ],
      "text/plain": [
       "     2    4        \n",
       "    x    x     ⎛ 5⎞\n",
       "1 - ── + ── + O⎝x ⎠\n",
       "    2    24        "
      ]
     },
     "execution_count": 99,
     "metadata": {},
     "output_type": "execute_result"
    }
   ],
   "source": [
    "s1 = sym.cos(x).series(x, 0, 5)\n",
    "s1"
   ]
  },
  {
   "cell_type": "code",
   "execution_count": 100,
   "metadata": {},
   "outputs": [
    {
     "data": {
      "image/png": "[encoded data removed]",
      "text/latex": [
       "$\\displaystyle x + O\\left(x^{2}\\right)$"
      ],
      "text/plain": [
       "     ⎛ 2⎞\n",
       "x + O⎝x ⎠"
      ]
     },
     "execution_count": 100,
     "metadata": {},
     "output_type": "execute_result"
    }
   ],
   "source": [
    "s2 = sym.sin(x).series(x, 0, 2)\n",
    "s2"
   ]
  },
  {
   "cell_type": "markdown",
   "metadata": {
    "slideshow": {
     "slide_type": "subslide"
    }
   },
   "source": [
    "Izračuna `s1` in `s2` imata različna reda veljavnosti, posledično je produkt:"
   ]
  },
  {
   "cell_type": "code",
   "execution_count": 101,
   "metadata": {
    "slideshow": {
     "slide_type": "-"
    }
   },
   "outputs": [
    {
     "data": {
      "image/png": "[encoded data removed]",
      "text/latex": [
       "$\\displaystyle \\left(x + O\\left(x^{2}\\right)\\right) \\left(1 - \\frac{x^{2}}{2} + \\frac{x^{4}}{24} + O\\left(x^{5}\\right)\\right)$"
      ],
      "text/plain": [
       "            ⎛     2    4        ⎞\n",
       "⎛     ⎛ 2⎞⎞ ⎜    x    x     ⎛ 5⎞⎟\n",
       "⎝x + O⎝x ⎠⎠⋅⎜1 - ── + ── + O⎝x ⎠⎟\n",
       "            ⎝    2    24        ⎠"
      ]
     },
     "execution_count": 101,
     "metadata": {},
     "output_type": "execute_result"
    }
   ],
   "source": [
    "s1 * s2"
   ]
  },
  {
   "cell_type": "markdown",
   "metadata": {},
   "source": [
    "natančen samo do reda $\\mathcal{O}(x^2)$, kar `sympy` ustrezno obravnava:"
   ]
  },
  {
   "cell_type": "code",
   "execution_count": 102,
   "metadata": {},
   "outputs": [
    {
     "data": {
      "image/png": "[encoded data removed]",
      "text/latex": [
       "$\\displaystyle x + O\\left(x^{2}\\right)$"
      ],
      "text/plain": [
       "     ⎛ 2⎞\n",
       "x + O⎝x ⎠"
      ]
     },
     "execution_count": 102,
     "metadata": {},
     "output_type": "execute_result"
    }
   ],
   "source": [
    "s3 = sym.simplify(s1 * s2)\n",
    "s3"
   ]
  },
  {
   "cell_type": "markdown",
   "metadata": {
    "slideshow": {
     "slide_type": "subslide"
    }
   },
   "source": [
    "Podatek o stopnji veljavnosti lahko odstranimo:"
   ]
  },
  {
   "cell_type": "code",
   "execution_count": 103,
   "metadata": {},
   "outputs": [
    {
     "data": {
      "image/png": "[encoded data removed]",
      "text/latex": [
       "$\\displaystyle x$"
      ],
      "text/plain": [
       "x"
      ]
     },
     "execution_count": 103,
     "metadata": {},
     "output_type": "execute_result"
    }
   ],
   "source": [
    "s3.removeO()"
   ]
  },
  {
   "cell_type": "markdown",
   "metadata": {
    "slideshow": {
     "slide_type": "subslide"
    }
   },
   "source": [
    "## Linearna algebra"
   ]
  },
  {
   "cell_type": "markdown",
   "metadata": {},
   "source": [
    "### Matrike in vektorji"
   ]
  },
  {
   "cell_type": "markdown",
   "metadata": {},
   "source": [
    "Matrike in vektorje definiramo s funkcjo ``Matrix``. Če se pri `numpy.array` ni treba dosledno držati matematičnega zapisa vektorjev in matrik, je pri `sympy` to nujno."
   ]
  },
  {
   "cell_type": "markdown",
   "metadata": {},
   "source": [
    "Poglejmo si primer; najprej pripravimo spremenljivke:"
   ]
  },
  {
   "cell_type": "code",
   "execution_count": 104,
   "metadata": {},
   "outputs": [],
   "source": [
    "m11, m12, m21, m22 = sym.symbols('m11, m12, m21, m22')\n",
    "b1, b2 = sym.symbols('b1, b2')"
   ]
  },
  {
   "cell_type": "markdown",
   "metadata": {
    "slideshow": {
     "slide_type": "subslide"
    }
   },
   "source": [
    "Nato matriko in stolpični vektor:"
   ]
  },
  {
   "cell_type": "code",
   "execution_count": 105,
   "metadata": {
    "slideshow": {
     "slide_type": "subslide"
    }
   },
   "outputs": [
    {
     "data": {
      "image/png": "[encoded data removed]",
      "text/latex": [
       "$\\displaystyle \\left[\\begin{matrix}m_{11} & m_{12}\\\\m_{21} & m_{22}\\end{matrix}\\right]$"
      ],
      "text/plain": [
       "⎡m₁₁  m₁₂⎤\n",
       "⎢        ⎥\n",
       "⎣m₂₁  m₂₂⎦"
      ]
     },
     "execution_count": 105,
     "metadata": {},
     "output_type": "execute_result"
    }
   ],
   "source": [
    "A = sym.Matrix([[m11, m12],[m21, m22]])\n",
    "A"
   ]
  },
  {
   "cell_type": "code",
   "execution_count": 106,
   "metadata": {},
   "outputs": [
    {
     "data": {
      "image/png": "[encoded data removed]",
      "text/latex": [
       "$\\displaystyle \\left[\\begin{matrix}b_{1}\\\\b_{2}\\end{matrix}\\right]$"
      ],
      "text/plain": [
       "⎡b₁⎤\n",
       "⎢  ⎥\n",
       "⎣b₂⎦"
      ]
     },
     "execution_count": 106,
     "metadata": {},
     "output_type": "execute_result"
    }
   ],
   "source": [
    "b = sym.Matrix([[b1], [b2]])\n",
    "b"
   ]
  },
  {
   "cell_type": "markdown",
   "metadata": {
    "slideshow": {
     "slide_type": "subslide"
    }
   },
   "source": [
    "Sedaj si poglejmo nekatere tipične operacije; najprej množenje matrike in vektorja:"
   ]
  },
  {
   "cell_type": "code",
   "execution_count": 107,
   "metadata": {
    "slideshow": {
     "slide_type": "subslide"
    }
   },
   "outputs": [
    {
     "data": {
      "image/png": "[encoded data removed]",
      "text/latex": [
       "$\\displaystyle \\left[\\begin{matrix}b_{1} m_{11} + b_{2} m_{12}\\\\b_{1} m_{21} + b_{2} m_{22}\\end{matrix}\\right]$"
      ],
      "text/plain": [
       "⎡b₁⋅m₁₁ + b₂⋅m₁₂⎤\n",
       "⎢               ⎥\n",
       "⎣b₁⋅m₂₁ + b₂⋅m₂₂⎦"
      ]
     },
     "execution_count": 107,
     "metadata": {},
     "output_type": "execute_result"
    }
   ],
   "source": [
    "A * b"
   ]
  },
  {
   "cell_type": "markdown",
   "metadata": {
    "slideshow": {
     "slide_type": "subslide"
    }
   },
   "source": [
    "Nato skalarni produkt dveh vektorjev (paziti moramo na transponiranje enega od vektorjev):"
   ]
  },
  {
   "cell_type": "code",
   "execution_count": 108,
   "metadata": {},
   "outputs": [
    {
     "data": {
      "image/png": "[encoded data removed]",
      "text/latex": [
       "$\\displaystyle \\left[\\begin{matrix}b_{1}^{2} + b_{2}^{2}\\end{matrix}\\right]$"
      ],
      "text/plain": [
       "⎡  2     2⎤\n",
       "⎣b₁  + b₂ ⎦"
      ]
     },
     "execution_count": 108,
     "metadata": {},
     "output_type": "execute_result"
    }
   ],
   "source": [
    "b.T*b"
   ]
  },
  {
   "cell_type": "markdown",
   "metadata": {
    "slideshow": {
     "slide_type": "subslide"
    }
   },
   "source": [
    "Determinanta in inverzna matrika:"
   ]
  },
  {
   "cell_type": "code",
   "execution_count": 109,
   "metadata": {},
   "outputs": [
    {
     "data": {
      "image/png": "[encoded data removed]",
      "text/latex": [
       "$\\displaystyle m_{11} m_{22} - m_{12} m_{21}$"
      ],
      "text/plain": [
       "m₁₁⋅m₂₂ - m₁₂⋅m₂₁"
      ]
     },
     "execution_count": 109,
     "metadata": {},
     "output_type": "execute_result"
    }
   ],
   "source": [
    "A.det()"
   ]
  },
  {
   "cell_type": "code",
   "execution_count": 110,
   "metadata": {
    "slideshow": {
     "slide_type": "subslide"
    }
   },
   "outputs": [
    {
     "data": {
      "image/png": "[encoded data removed]",
      "text/latex": [
       "$\\displaystyle \\left[\\begin{matrix}\\frac{m_{22}}{m_{11} m_{22} - m_{12} m_{21}} & - \\frac{m_{12}}{m_{11} m_{22} - m_{12} m_{21}}\\\\- \\frac{m_{21}}{m_{11} m_{22} - m_{12} m_{21}} & \\frac{m_{11}}{m_{11} m_{22} - m_{12} m_{21}}\\end{matrix}\\right]$"
      ],
      "text/plain": [
       "⎡       m₂₂               -m₁₂       ⎤\n",
       "⎢─────────────────  ─────────────────⎥\n",
       "⎢m₁₁⋅m₂₂ - m₁₂⋅m₂₁  m₁₁⋅m₂₂ - m₁₂⋅m₂₁⎥\n",
       "⎢                                    ⎥\n",
       "⎢      -m₂₁                m₁₁       ⎥\n",
       "⎢─────────────────  ─────────────────⎥\n",
       "⎣m₁₁⋅m₂₂ - m₁₂⋅m₂₁  m₁₁⋅m₂₂ - m₁₂⋅m₂₁⎦"
      ]
     },
     "execution_count": 110,
     "metadata": {},
     "output_type": "execute_result"
    }
   ],
   "source": [
    "A.inv()"
   ]
  },
  {
   "cell_type": "markdown",
   "metadata": {
    "slideshow": {
     "slide_type": "subslide"
    }
   },
   "source": [
    "Množenje in potenca matrike:"
   ]
  },
  {
   "cell_type": "code",
   "execution_count": 111,
   "metadata": {
    "slideshow": {
     "slide_type": "-"
    }
   },
   "outputs": [
    {
     "data": {
      "image/png": "[encoded data removed]",
      "text/latex": [
       "$\\displaystyle \\left[\\begin{matrix}m_{11}^{2} + m_{12} m_{21} & m_{11} m_{12} + m_{12} m_{22}\\\\m_{11} m_{21} + m_{21} m_{22} & m_{12} m_{21} + m_{22}^{2}\\end{matrix}\\right]$"
      ],
      "text/plain": [
       "⎡    2                               ⎤\n",
       "⎢ m₁₁  + m₁₂⋅m₂₁    m₁₁⋅m₁₂ + m₁₂⋅m₂₂⎥\n",
       "⎢                                    ⎥\n",
       "⎢                                 2  ⎥\n",
       "⎣m₁₁⋅m₂₁ + m₂₁⋅m₂₂   m₁₂⋅m₂₁ + m₂₂   ⎦"
      ]
     },
     "execution_count": 111,
     "metadata": {},
     "output_type": "execute_result"
    }
   ],
   "source": [
    "A*A"
   ]
  },
  {
   "cell_type": "code",
   "execution_count": 112,
   "metadata": {},
   "outputs": [
    {
     "data": {
      "image/png": "[encoded data removed]",
      "text/latex": [
       "$\\displaystyle \\left[\\begin{matrix}m_{11}^{2} + m_{12} m_{21} & m_{11} m_{12} + m_{12} m_{22}\\\\m_{11} m_{21} + m_{21} m_{22} & m_{12} m_{21} + m_{22}^{2}\\end{matrix}\\right]$"
      ],
      "text/plain": [
       "⎡    2                               ⎤\n",
       "⎢ m₁₁  + m₁₂⋅m₂₁    m₁₁⋅m₁₂ + m₁₂⋅m₂₂⎥\n",
       "⎢                                    ⎥\n",
       "⎢                                 2  ⎥\n",
       "⎣m₁₁⋅m₂₁ + m₂₁⋅m₂₂   m₁₂⋅m₂₁ + m₂₂   ⎦"
      ]
     },
     "execution_count": 112,
     "metadata": {},
     "output_type": "execute_result"
    }
   ],
   "source": [
    "A**2"
   ]
  },
  {
   "cell_type": "markdown",
   "metadata": {
    "slideshow": {
     "slide_type": "subslide"
    }
   },
   "source": [
    "## Reševanje enačb"
   ]
  },
  {
   "cell_type": "markdown",
   "metadata": {},
   "source": [
    "Enačbe in sistem enačb rešujemo s funkcijo ``sympy.solve()`` ([dokumentacija](http://docs.sympy.org/latest/modules/solvers/solvers.html#algebraic-equations)). Podprto je reševanje sledečih enačb:\n",
    "\n",
    "* polinomske enačbe,\n",
    "* transcendentne enačbe,\n",
    "* odsekovno definirane enačbe kot kombinacija zgornjih dveh tipov,\n",
    "* sistem linearnih in polinomskih enačb,\n",
    "* sistem enačb z neenakostmi."
   ]
  },
  {
   "cell_type": "markdown",
   "metadata": {
    "slideshow": {
     "slide_type": "subslide"
    }
   },
   "source": [
    "Sintaksa je:\n",
    "```python\n",
    "sympy.solve(f, *symbols, **flags)\n",
    "```\n",
    "kjer so argumenti:\n",
    "\n",
    "* `f` izraz ali seznam izrazov,\n",
    "* `*symbols` simbol ali seznam simbolov, katere želimo določiti,\n",
    "* `**flags` slovar možnosti."
   ]
  },
  {
   "cell_type": "markdown",
   "metadata": {
    "slideshow": {
     "slide_type": "subslide"
    }
   },
   "source": [
    "Poglejmo primer:"
   ]
  },
  {
   "cell_type": "code",
   "execution_count": 113,
   "metadata": {},
   "outputs": [
    {
     "data": {
      "image/png": "[encoded data removed]",
      "text/latex": [
       "$\\displaystyle \\sin{\\left(x \\right)} = 0.5$"
      ],
      "text/plain": [
       "sin(x) = 0.5"
      ]
     },
     "execution_count": 113,
     "metadata": {},
     "output_type": "execute_result"
    }
   ],
   "source": [
    "x = sym.symbols('x')\n",
    "f = sym.sin(x)\n",
    "en = sym.Eq(f, 1/2)\n",
    "en"
   ]
  },
  {
   "cell_type": "code",
   "execution_count": 114,
   "metadata": {
    "slideshow": {
     "slide_type": "-"
    }
   },
   "outputs": [
    {
     "data": {
      "image/png": "[encoded data removed]",
      "text/latex": [
       "$\\displaystyle \\left[ 0.523598775598299, \\  2.61799387799149\\right]$"
      ],
      "text/plain": [
       "[0.523598775598299, 2.61799387799149]"
      ]
     },
     "execution_count": 114,
     "metadata": {},
     "output_type": "execute_result"
    }
   ],
   "source": [
    "sym.solve(en, x)"
   ]
  },
  {
   "cell_type": "markdown",
   "metadata": {
    "slideshow": {
     "slide_type": "subslide"
    }
   },
   "source": [
    "Prikažimo rešitev (opazimo, da smo našli samo dve od neskončno rešitev):"
   ]
  },
  {
   "cell_type": "code",
   "execution_count": 115,
   "metadata": {},
   "outputs": [
    {
     "data": {
      "image/png": "[encoded data removed]",
      "text/plain": [
       "<Figure size 432x288 with 1 Axes>"
      ]
     },
     "metadata": {
      "needs_background": "light"
     },
     "output_type": "display_data"
    }
   ],
   "source": [
    "p1 = sym.plotting.plot(sym.sin(x), (x, -2*sym.pi, 2*sym.pi), line_color='C0', show=False, legend=True)\n",
    "p2 = sym.plotting.plot(0.5, (x, -2*sym.pi, 2*sym.pi), line_color='C1', show=False, legend=True)\n",
    "p1.extend(p2)\n",
    "p1.show()"
   ]
  },
  {
   "cell_type": "markdown",
   "metadata": {
    "slideshow": {
     "slide_type": "subslide"
    }
   },
   "source": [
    "Kvadratna enačba:"
   ]
  },
  {
   "cell_type": "code",
   "execution_count": 116,
   "metadata": {},
   "outputs": [
    {
     "data": {
      "image/png": "[encoded data removed]",
      "text/latex": [
       "$\\displaystyle \\left[ \\frac{- b + \\sqrt{- 4 a c + b^{2}}}{2 a}, \\  - \\frac{b + \\sqrt{- 4 a c + b^{2}}}{2 a}\\right]$"
      ],
      "text/plain": [
       "⎡        _____________   ⎛       _____________⎞ ⎤\n",
       "⎢       ╱           2    ⎜      ╱           2 ⎟ ⎥\n",
       "⎢-b + ╲╱  -4⋅a⋅c + b    -⎝b + ╲╱  -4⋅a⋅c + b  ⎠ ⎥\n",
       "⎢─────────────────────, ────────────────────────⎥\n",
       "⎣         2⋅a                     2⋅a           ⎦"
      ]
     },
     "execution_count": 116,
     "metadata": {},
     "output_type": "execute_result"
    }
   ],
   "source": [
    "a, b, c, x = sym.symbols('a, b, c, x')\n",
    "sym.solve(a*x**2 + b*x + c, x)"
   ]
  },
  {
   "cell_type": "markdown",
   "metadata": {
    "slideshow": {
     "slide_type": "subslide"
    }
   },
   "source": [
    "Sistem enačb:"
   ]
  },
  {
   "cell_type": "code",
   "execution_count": 117,
   "metadata": {},
   "outputs": [
    {
     "data": {
      "image/png": "[encoded data removed]",
      "text/latex": [
       "$\\displaystyle \\left\\{ x : 1, \\  y : 0\\right\\}$"
      ],
      "text/plain": [
       "{x: 1, y: 0}"
      ]
     },
     "execution_count": 117,
     "metadata": {},
     "output_type": "execute_result"
    }
   ],
   "source": [
    "x, y = sym.symbols('x y')\n",
    "sym.solve([x + y - 1, x - y - 1], [x, y])"
   ]
  },
  {
   "cell_type": "markdown",
   "metadata": {
    "slideshow": {
     "slide_type": "subslide"
    }
   },
   "source": [
    "Za nelinearne sisteme pa lahko uporabimo tudi numerično reševanje s funkcijo  `sympy.nsolve()` ([dokumentacija](http://docs.sympy.org/latest/modules/solvers/solvers.html#sympy.solvers.solvers.nsolve)):\n",
    "```python\n",
    "sympy.nsolve(f, [args,] x0, modules=['mpmath'], **kwargs)\n",
    "```\n",
    "kjer so argumenti:\n",
    "\n",
    "* `f` enačba ali sistem enačb, ki ga rešujemo,\n",
    "* `args` spremenljivke (opcijsko),\n",
    "* `x0` začetni približek (skalar ali vektor),\n",
    "* `modules` paket, ki se uporabi za izračun numerične vrednosti (enaka logika kot pri funkciji `lambdify`, privzet je paket `mpmath`),\n",
    "* `**kwargs` slovar opcij."
   ]
  },
  {
   "cell_type": "markdown",
   "metadata": {
    "slideshow": {
     "slide_type": "subslide"
    }
   },
   "source": [
    "Poglejmo primer od zgoraj:"
   ]
  },
  {
   "cell_type": "code",
   "execution_count": 118,
   "metadata": {},
   "outputs": [
    {
     "data": {
      "image/png": "[encoded data removed]",
      "text/latex": [
       "$\\displaystyle 2.61799387799149$"
      ],
      "text/plain": [
       "2.61799387799149"
      ]
     },
     "execution_count": 118,
     "metadata": {},
     "output_type": "execute_result"
    }
   ],
   "source": [
    "x = sym.symbols('x')\n",
    "eq = sym.Eq(sym.sin(x), 0.5)\n",
    "sol = sym.nsolve(en, x, 3)\n",
    "sol"
   ]
  },
  {
   "cell_type": "markdown",
   "metadata": {
    "slideshow": {
     "slide_type": "subslide"
    }
   },
   "source": [
    "## Reševanje diferencialnih enačb"
   ]
  },
  {
   "cell_type": "markdown",
   "metadata": {
    "slideshow": {
     "slide_type": "subslide"
    }
   },
   "source": [
    "### Nedefinirane funkcije"
   ]
  },
  {
   "cell_type": "markdown",
   "metadata": {},
   "source": [
    "Preden si ogledamo diferencialne enačbe, moramo spoznati nedefinirane funkcije. Take funkcije definiramo `sympy.Function` [dokumentacija](https://docs.sympy.org/latest/modules/functions/index.html). \n",
    "\n",
    "Kot primer si poglejmo kako definiramo enačbo $\\ddot x(t)=g$. Najprej definirajmo nedoločeno funkcijo:"
   ]
  },
  {
   "cell_type": "code",
   "execution_count": 119,
   "metadata": {},
   "outputs": [],
   "source": [
    "x = sym.Function('x')"
   ]
  },
  {
   "cell_type": "markdown",
   "metadata": {},
   "source": [
    "Nato simbole:"
   ]
  },
  {
   "cell_type": "code",
   "execution_count": 120,
   "metadata": {},
   "outputs": [],
   "source": [
    "t, g = sym.symbols('t, g')"
   ]
  },
  {
   "cell_type": "markdown",
   "metadata": {
    "slideshow": {
     "slide_type": "subslide"
    }
   },
   "source": [
    "In še enačbo:"
   ]
  },
  {
   "cell_type": "code",
   "execution_count": 121,
   "metadata": {},
   "outputs": [
    {
     "data": {
      "image/png": "[encoded data removed]",
      "text/latex": [
       "$\\displaystyle \\frac{d^{2}}{d t^{2}} x{\\left(t \\right)} = g$"
      ],
      "text/plain": [
       "  2          \n",
       " d           \n",
       "───(x(t)) = g\n",
       "  2          \n",
       "dt           "
      ]
     },
     "execution_count": 121,
     "metadata": {},
     "output_type": "execute_result"
    }
   ],
   "source": [
    "sym.Eq(x(t).diff(t,2), g)"
   ]
  },
  {
   "cell_type": "markdown",
   "metadata": {
    "slideshow": {
     "slide_type": "subslide"
    }
   },
   "source": [
    "### Diferencialne enačbe"
   ]
  },
  {
   "cell_type": "markdown",
   "metadata": {
    "slideshow": {
     "slide_type": "-"
    }
   },
   "source": [
    "Diferencialne enačbe in sisteme diferencialnih enačb rešujemo s funkcijo `sympy.dsolve()` ([dokumentacija](http://docs.sympy.org/latest/modules/solvers/ode.html#dsolve)):\n",
    "```python\n",
    "sympy.dsolve(eq, func=None, hint='default', simplify=True, \n",
    "             ics=None, xi=None, eta=None, x0=0, n=6, **kwargs)\n",
    "```\n",
    "kjer so izbrani argumenti:\n",
    "\n",
    "* `eq` differencialna enačba ali sistem diferencialnih enačb,\n",
    "* `func` rešitev, ki jo iščemo,\n",
    "* `ics` začetni in robni pogoji diferencialne enačbe."
   ]
  },
  {
   "cell_type": "markdown",
   "metadata": {
    "slideshow": {
     "slide_type": "subslide"
    }
   },
   "source": [
    "Poglejmo si primer mase $m$, ki drsi po površini s koeficientom trenja $\\mu$; začetna hitrost je $v_0$, pomik $x_0=0$.\n",
    "\n",
    "Definirajmo simbole:"
   ]
  },
  {
   "cell_type": "code",
   "execution_count": 122,
   "metadata": {},
   "outputs": [],
   "source": [
    "x = sym.Function('x')\n",
    "t, m, mu, g, v0, x0 = sym.symbols('t m mu g v0 x0', real=True, positive=True)"
   ]
  },
  {
   "cell_type": "markdown",
   "metadata": {
    "slideshow": {
     "slide_type": "subslide"
    }
   },
   "source": [
    "Definirajmo diferencialno enačbo:"
   ]
  },
  {
   "cell_type": "code",
   "execution_count": 123,
   "metadata": {},
   "outputs": [
    {
     "data": {
      "image/png": "[encoded data removed]",
      "text/latex": [
       "$\\displaystyle m \\frac{d^{2}}{d t^{2}} x{\\left(t \\right)} = - g m \\mu$"
      ],
      "text/plain": [
       "    2               \n",
       "   d                \n",
       "m⋅───(x(t)) = -g⋅m⋅μ\n",
       "    2               \n",
       "  dt                "
      ]
     },
     "execution_count": 123,
     "metadata": {},
     "output_type": "execute_result"
    }
   ],
   "source": [
    "eq = sym.Eq(m*x(t).diff(t,2), -mu*g*m)\n",
    "eq"
   ]
  },
  {
   "cell_type": "markdown",
   "metadata": {
    "slideshow": {
     "slide_type": "subslide"
    }
   },
   "source": [
    "Poglejmo lastnosti diferencialne enačbe:"
   ]
  },
  {
   "cell_type": "code",
   "execution_count": 124,
   "metadata": {},
   "outputs": [
    {
     "data": {
      "image/png": "[encoded data removed]",
      "text/latex": [
       "$\\displaystyle 2$"
      ],
      "text/plain": [
       "2"
      ]
     },
     "execution_count": 124,
     "metadata": {},
     "output_type": "execute_result"
    }
   ],
   "source": [
    "sym.ode_order(eq, x(t))"
   ]
  },
  {
   "cell_type": "code",
   "execution_count": 125,
   "metadata": {},
   "outputs": [
    {
     "data": {
      "text/plain": [
       "('nth_algebraic',\n",
       " 'nth_linear_constant_coeff_undetermined_coefficients',\n",
       " 'nth_linear_euler_eq_nonhomogeneous_undetermined_coefficients',\n",
       " 'nth_linear_constant_coeff_variation_of_parameters',\n",
       " 'nth_linear_euler_eq_nonhomogeneous_variation_of_parameters',\n",
       " 'nth_algebraic_Integral',\n",
       " 'nth_linear_constant_coeff_variation_of_parameters_Integral',\n",
       " 'nth_linear_euler_eq_nonhomogeneous_variation_of_parameters_Integral')"
      ]
     },
     "execution_count": 125,
     "metadata": {},
     "output_type": "execute_result"
    }
   ],
   "source": [
    "sym.classify_ode(eq)"
   ]
  },
  {
   "cell_type": "markdown",
   "metadata": {
    "slideshow": {
     "slide_type": "subslide"
    }
   },
   "source": [
    "Rešimo jo:"
   ]
  },
  {
   "cell_type": "code",
   "execution_count": 126,
   "metadata": {},
   "outputs": [
    {
     "data": {
      "image/png": "[encoded data removed]",
      "text/latex": [
       "$\\displaystyle x{\\left(t \\right)} = - \\frac{g \\mu t^{2}}{2} + t v_{0}$"
      ],
      "text/plain": [
       "              2       \n",
       "         g⋅μ⋅t        \n",
       "x(t) = - ────── + t⋅v₀\n",
       "           2          "
      ]
     },
     "execution_count": 126,
     "metadata": {},
     "output_type": "execute_result"
    }
   ],
   "source": [
    "rešitev = sym.dsolve(eq, x(t), \n",
    "                     ics={\n",
    "                         x(0):0,                     #pri času 0s je pomik nič\n",
    "                         x(t).diff(t).subs(t, 0): v0 #pri času 0s je hitrost enaka v0\n",
    "                     })\n",
    "rešitev"
   ]
  },
  {
   "cell_type": "markdown",
   "metadata": {
    "slideshow": {
     "slide_type": "subslide"
    }
   },
   "source": [
    "Desno stran enačbe prikličemo takole (`rhs` - right-hand side):"
   ]
  },
  {
   "cell_type": "code",
   "execution_count": 127,
   "metadata": {},
   "outputs": [
    {
     "data": {
      "image/png": "[encoded data removed]",
      "text/latex": [
       "$\\displaystyle - \\frac{g \\mu t^{2}}{2} + t v_{0}$"
      ],
      "text/plain": [
       "       2       \n",
       "  g⋅μ⋅t        \n",
       "- ────── + t⋅v₀\n",
       "    2          "
      ]
     },
     "execution_count": 127,
     "metadata": {},
     "output_type": "execute_result"
    }
   ],
   "source": [
    "rešitev.rhs"
   ]
  },
  {
   "cell_type": "markdown",
   "metadata": {
    "slideshow": {
     "slide_type": "subslide"
    }
   },
   "source": [
    "# Nekaj vprašanj za razmislek!"
   ]
  },
  {
   "cell_type": "markdown",
   "metadata": {},
   "source": [
    "1. Pojasnite na primeru *proceduralno* in *funkcijsko* programiranje.\n",
    "* Definirajte preprost objekt, naredite nekaj funkcij temu objektu.\n",
    "* Definirajte objekt, ki pri kreiranju instance zahteva zgolj celoštevilsko vrednost( npr.: dolžino seznama, ki jo bomo uporabili pri naslednji točki).\n",
    "* Objektu iz prejšnje točke naj pri inicializaciji argumentu ``data`` priredi naključni seznam ustrezne dolžine (glejte funkcijo ``np.random.rand``).\n",
    "* Objektu iz prejšnje točke dodajte metodo za zapis vrednosti v datoteko s pomočjo funkcije ``np.savetxt``.\n",
    "* Enako kot pri prejšnji točki, vendar naj se podatki shranijo v binarni obliki s pomočjo modula ``pickle``.\n",
    "* Dodajte metodo za branje iz datoteke (s pomočjo ``np.genfromtxt``).\n",
    "* Uvozite ves naslovni prostor iz ``SymPy``. Nastavite lep izpis rezultatov.\n",
    "* Za trikotnik na sliki definirajte funkcijo za izračun površine in volumna.\n",
    "\n",
    "<img src=\"./fig/trikotnik.png\" width=300>\n",
    "\n",
    "* Izračunajte številčne vrednosti (podatki naj bodo definirani v slovarju in si jih izmislite).\n",
    "* Izračunajte statični moment ploskve $S_{xx}=\\int_A y\\,dA=\\int_{0}^{b} y\\,x(y)\\,dy$, kjer je $x(y)=a-a\\,y/b$.\n",
    "* Izračunajte vztrajnostni moment ploskve $I_{xx}=\\int_A y^2\\,dA$, $dA = x(y) \\cdot dy$.\n",
    "* Prikažite $I_{xx}$ v odvisnosti od parametra $b$ ($a$ definirajte poljubno).\n",
    "* Nedoločeno in določeno (v mejah od 0 do $\\tau$) integrirajte izraz: $\\sin(5+t)+e^t$.\n",
    "* Z odvajanjem pokažite pravilnost nedoločenega integrala iz predhodnega koraka.\n",
    "* Za kotaleči valj (polmer $r$, masa $m$) povežite translatorno $x$ prostost z rotacijsko $\\varphi$. Pozneje boste vse izrazili s slednjo. Namig: Dolžina loka kroga ustreza zmnožku polmera $r$ in kota $\\varphi$ [rad].\n",
    "* Določite translatorno kinetično energijo težišča (definirajte s hitrostjo $\\dot x$, zaradi predhodne povezave pa bi naj bil rezultat s $\\dot{\\varphi}$). $E_k = \\frac{1}{2} \\, m \\, v^2$.\n",
    "* Določite še masni vztrajnostni moment valja in rotacijsko kinetično energijo. Obe kinetični energiji seštejte in izraz poenostavite (če je potrebno). $J_v = \\frac{1}{2} \\, m \\, r^2$ $E_{k, r} = \\frac{1}{2} \\, J_v \\, \\left[\\frac{d}{dt} \\varphi(t)\\right]^2$\n",
    "* Če na valj deluje moment $-M$, definirajte mehansko energijo: $E_m=-M\\,\\varphi$ in določite gibalno enačbo iz spremembe mehanske energije: $\\frac{d E_m}{d t}=\\frac{d E_k}{d t}$.\n",
    "* Nadaljujete na predhodni enačbi: poiščite ``sympy`` funkcijo ``replace`` in ugotovite razliko s ``subs``. Poskusite s pomočjo ``replace`` $\\dot{\\varphi}$ na obeh straneh enačbe spremeniti v 1.\n",
    "* Najdite rešitev za predhodno pridobljeno diferencialno enačbo.\n",
    "* Izmislite si začetne pogoje in jih uporabite na predhodno rešeni diferencialni enačbi. Izmislite si še preostale podatke ter prikažite rezultat.\n",
    "* Določite čas, ko je zasuk $\\varphi$ spet enak začetnemu (če ste predpostavili začetni zasuk nič, potem torej iščete $\\varphi=0$. Določite tudi čas, ko je kotna hitrost $\\dot{\\varphi}$ enaka nič."
   ]
  },
  {
   "cell_type": "markdown",
   "metadata": {
    "slideshow": {
     "slide_type": "subslide"
    }
   },
   "source": [
    "# Dodatno"
   ]
  },
  {
   "cell_type": "markdown",
   "metadata": {
    "slideshow": {
     "slide_type": "subslide"
    }
   },
   "source": [
    "##  sympy.mechanics\n",
    "``sympy`` ima vgrajeno podporo za klasično mehaniko ([dokumentacija](http://docs.sympy.org/latest/modules/physics/mechanics/index.html#classical-mechanics)). Celovit tutorial je bil prikazan na znanstveni konferenci [SciPy 2016](https://www.youtube.com/watch?v=r4piIKV4sDw).\n"
   ]
  }
 ],
 "metadata": {
  "anaconda-cloud": {},
  "celltoolbar": "Slideshow",
  "kernelspec": {
   "display_name": "Python 3 (ipykernel)",
   "language": "python",
   "name": "python3"
  },
  "language_info": {
   "codemirror_mode": {
    "name": "ipython",
    "version": 3
   },
   "file_extension": ".py",
   "mimetype": "text/x-python",
   "name": "python",
   "nbconvert_exporter": "python",
   "pygments_lexer": "ipython3",
   "version": "3.10.6"
  },
  "latex_envs": {
   "bibliofile": "biblio.bib",
   "cite_by": "apalike",
   "current_citInitial": 1,
   "eqLabelWithNumbers": true,
   "eqNumInitial": 0
  },
  "livereveal": {
   "theme": "sky",
   "transition": "default",
   "width": 1200
  },
  "nav_menu": {},
  "toc": {
   "base_numbering": 1,
   "nav_menu": {
    "height": "444px",
    "width": "252px"
   },
   "number_sections": true,
   "sideBar": true,
   "skip_h1_title": false,
   "title_cell": "Kazalo",
   "title_sidebar": "Kazalo",
   "toc_cell": true,
   "toc_position": {},
   "toc_section_display": "block",
   "toc_window_display": false
  }
 },
 "nbformat": 4,
 "nbformat_minor": 4
}
