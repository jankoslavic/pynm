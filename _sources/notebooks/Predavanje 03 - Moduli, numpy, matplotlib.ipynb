{
 "cells": [
  {
   "cell_type": "markdown",
   "metadata": {},
   "source": [
    "# Numpy, matplotlib"
   ]
  },
  {
   "cell_type": "markdown",
   "metadata": {
    "slideshow": {
     "slide_type": "slide"
    }
   },
   "source": [
    "# Modul ``numpy``"
   ]
  },
  {
   "cell_type": "markdown",
   "metadata": {},
   "source": [
    "Kakor je omenjeno zgoraj, so v okviru *Anaconda* distribucije Pythona že nameščeni praktično vsi pomembni moduli, sicer bi pa uporabili `pip` ali `conda`."
   ]
  },
  {
   "cell_type": "markdown",
   "metadata": {
    "slideshow": {
     "slide_type": "subslide"
    }
   },
   "source": [
    "## Osnove modula `numpy`\n",
    "\n",
    "Najprej uvozimo modul (uveljavljeno je, da ga uvozimo v kratki obliki `np`):"
   ]
  },
  {
   "cell_type": "code",
   "execution_count": 204,
   "metadata": {
    "slideshow": {
     "slide_type": "-"
    }
   },
   "outputs": [],
   "source": [
    "import numpy as np"
   ]
  },
  {
   "cell_type": "markdown",
   "metadata": {
    "slideshow": {
     "slide_type": "subslide"
    }
   },
   "source": [
    "Gre za enega najbolj pomembnih modulov. Na kratko: gre za visoko optimiran modul za numerične izračune; zelo dobri tutoriali so zbrani na naslovu: [github.com/numpy/numpy-tutorials](https://github.com/numpy/numpy-tutorials). Za odličen uvod v Numpy si lahko ogledate [YouTube posnetek: NumPy Tutorial (2021): For Physicists, Engineers, and Mathematicians](https://www.youtube.com/watch?v=DcfYgePyedM)\n",
    "\n",
    "Poglejmo si najprej sintakso za vektor ničel ([dokumentacija](https://docs.scipy.org/doc/numpy/reference/generated/numpy.zeros.html)):\n",
    "```python\n",
    "numpy.zeros(shape, dtype=float, order='C')\n",
    "```\n",
    "argumenti so:\n",
    "\n",
    "* `shape` definira obliko (lahko večdimenzijsko numerično polje),\n",
    "* `dtype` definira tip podatka,\n",
    "* `order` definira vrstni red (lahko je C ali F kot Fortran)."
   ]
  },
  {
   "cell_type": "markdown",
   "metadata": {
    "slideshow": {
     "slide_type": "subslide"
    }
   },
   "source": [
    "Poglejmo primer:"
   ]
  },
  {
   "cell_type": "code",
   "execution_count": 195,
   "metadata": {},
   "outputs": [
    {
     "data": {
      "text/plain": [
       "array([[0., 0., 0., 0.],\n",
       "       [0., 0., 0., 0.],\n",
       "       [0., 0., 0., 0.]])"
      ]
     },
     "execution_count": 195,
     "metadata": {},
     "output_type": "execute_result"
    }
   ],
   "source": [
    "np.zeros((3,4))"
   ]
  },
  {
   "cell_type": "markdown",
   "metadata": {},
   "source": [
    "ali pa:"
   ]
  },
  {
   "cell_type": "code",
   "execution_count": 196,
   "metadata": {},
   "outputs": [
    {
     "data": {
      "text/plain": [
       "array([[0., 0., 0., 0., 0.],\n",
       "       [0., 0., 0., 0., 0.],\n",
       "       [0., 0., 0., 0., 0.]])"
      ]
     },
     "execution_count": 196,
     "metadata": {},
     "output_type": "execute_result"
    }
   ],
   "source": [
    "np.zeros((3,5))"
   ]
  },
  {
   "cell_type": "markdown",
   "metadata": {
    "slideshow": {
     "slide_type": "subslide"
    }
   },
   "source": [
    "Podobno kot `zeros` se obnaša `ones`, vendar je namesto ničel vrednost 1 ([dokumentacija](https://docs.scipy.org/doc/numpy/reference/generated/numpy.ones.html#numpy.ones)). \n",
    "\n",
    "Poglejmo si primer, kjer definiramo tudi tip `int` (privzeti tip je `float`):"
   ]
  },
  {
   "cell_type": "code",
   "execution_count": 210,
   "metadata": {},
   "outputs": [
    {
     "data": {
      "text/plain": [
       "array([1, 1, 1, 1])"
      ]
     },
     "execution_count": 210,
     "metadata": {},
     "output_type": "execute_result"
    }
   ],
   "source": [
    "np.ones(4, dtype=int)"
   ]
  },
  {
   "cell_type": "markdown",
   "metadata": {
    "slideshow": {
     "slide_type": "subslide"
    }
   },
   "source": [
    "Pogosto bomo tudi uporabljali razpon vrednosti `arange` ([dokumentacija](https://docs.scipy.org/doc/numpy/reference/generated/numpy.arange.html)):\n",
    "```python\n",
    "numpy.arange([start, ]stop, [step, ]dtype=None)\n",
    "```\n",
    "kjer so argumenti:\n",
    "\n",
    "* `start` začetna vrednost razpona (privzeto 0),\n",
    "* `stop` končna vrednost razpona,\n",
    "* `step` korak in \n",
    "* `dtype` tip vrednosti (če tip ni podan, se vzame tip ostalih argumetnov, npr. `step`)."
   ]
  },
  {
   "cell_type": "markdown",
   "metadata": {
    "slideshow": {
     "slide_type": "subslide"
    }
   },
   "source": [
    "Poglejmo primer razpona od 0 do 9 (kakor vedno pri Pythonu *od* je vključen, *do* pa ni):"
   ]
  },
  {
   "cell_type": "code",
   "execution_count": 226,
   "metadata": {},
   "outputs": [
    {
     "data": {
      "text/plain": [
       "array([0, 1, 2, 3, 4, 5, 6, 7, 8])"
      ]
     },
     "execution_count": 226,
     "metadata": {},
     "output_type": "execute_result"
    }
   ],
   "source": [
    "np.arange(9)"
   ]
  },
  {
   "cell_type": "markdown",
   "metadata": {},
   "source": [
    "ali pa od 7 do 12 po koraku 2, vendar število s plavajočo vejico:"
   ]
  },
  {
   "cell_type": "code",
   "execution_count": 224,
   "metadata": {},
   "outputs": [
    {
     "data": {
      "text/plain": [
       "array([ 7.,  9., 11.])"
      ]
     },
     "execution_count": 224,
     "metadata": {},
     "output_type": "execute_result"
    }
   ],
   "source": [
    "np.arange(7, 12, 2, dtype=float)"
   ]
  },
  {
   "cell_type": "markdown",
   "metadata": {
    "slideshow": {
     "slide_type": "subslide"
    }
   },
   "source": [
    "Še eno funkcijo bomo pogosto uporabili, to je `linspace` ([dokumentacija](https://docs.scipy.org/doc/numpy/reference/generated/numpy.linspace.html)):\n",
    "```python\n",
    "numpy.linspace(start, stop, num=50, endpoint=True, retstep=False, dtype=None)\n",
    "```\n",
    "ki definiranemu razponu vrne numerično polje vrednosti na enaki razdalji (ekvidistanten razmik)."
   ]
  },
  {
   "cell_type": "markdown",
   "metadata": {
    "slideshow": {
     "slide_type": "subslide"
    }
   },
   "source": [
    "Argumenti so:\n",
    "\n",
    "* `start` začetna vrednost razpona,\n",
    "* `stop` končna vrednost razpona,\n",
    "* `num` število točk/vozlišč, \n",
    "* `endpoint` ali je vrednost pri `stop` vključena ali ne,\n",
    "* `retstep` v primeru `True` vrne funkcija terko `(rezultat, korak)`\n",
    "* `dtype` tip vrednosti (če tip ni podan, se vzame tip ostalih argumetnov, npr. `step`)."
   ]
  },
  {
   "cell_type": "markdown",
   "metadata": {
    "slideshow": {
     "slide_type": "subslide"
    }
   },
   "source": [
    "Primer generiranja 10 točk na razponu od $-\\pi$ do vključno $+\\pi$:"
   ]
  },
  {
   "cell_type": "code",
   "execution_count": 252,
   "metadata": {},
   "outputs": [
    {
     "data": {
      "text/plain": [
       "array([-3.14159265, -2.44346095, -1.74532925, -1.04719755, -0.34906585,\n",
       "        0.34906585,  1.04719755,  1.74532925,  2.44346095,  3.14159265])"
      ]
     },
     "execution_count": 252,
     "metadata": {},
     "output_type": "execute_result"
    }
   ],
   "source": [
    "np.linspace(-np.pi, np.pi, 10)"
   ]
  },
  {
   "cell_type": "markdown",
   "metadata": {},
   "source": [
    "Mimogrede smo zgoraj spoznali, da ima `numpy` vgrajene konstante (npr. $\\pi$): "
   ]
  },
  {
   "cell_type": "markdown",
   "metadata": {
    "slideshow": {
     "slide_type": "subslide"
    }
   },
   "source": [
    "Poglejmo še vgrajene funkcije za generiranje naključnih števil. Te najdemo v `numpy.random` ([dokumentacija](https://docs.scipy.org/doc/numpy-1.16.0/reference/routines.random.html)). \n",
    "\n",
    "Najprej si poglejmo funkcijo `numpy.random.seed()`, ki se uporablja za ponastavitev generatorja naključnih števil ([dokumentacija](https://docs.scipy.org/doc/numpy-1.16.0/reference/generated/numpy.random.seed.html#numpy.random.seed)). To pomeni, da lahko z istim semenom (angl. *seed*) različni uporabniki generiramo ista naključna števila!"
   ]
  },
  {
   "cell_type": "markdown",
   "metadata": {
    "slideshow": {
     "slide_type": "subslide"
    }
   },
   "source": [
    "Spodnja vrstica:"
   ]
  },
  {
   "cell_type": "code",
   "execution_count": 277,
   "metadata": {},
   "outputs": [],
   "source": [
    "np.random.seed(0)"
   ]
  },
  {
   "cell_type": "markdown",
   "metadata": {},
   "source": [
    "bo povzročila, da bo klic generatorja naključnih števil z enakomerno porazdelitvijo `numpy.random.rand()` ([dokumentacija](https://docs.scipy.org/doc/numpy-1.16.0/reference/generated/numpy.random.rand.html#numpy.random.rand)) vedno rezultiral v iste vrednosti:"
   ]
  },
  {
   "cell_type": "code",
   "execution_count": 278,
   "metadata": {},
   "outputs": [
    {
     "data": {
      "text/plain": [
       "array([0.5488135 , 0.71518937, 0.60276338])"
      ]
     },
     "execution_count": 278,
     "metadata": {},
     "output_type": "execute_result"
    }
   ],
   "source": [
    "np.random.rand(3)"
   ]
  },
  {
   "cell_type": "markdown",
   "metadata": {
    "slideshow": {
     "slide_type": "subslide"
    }
   },
   "source": [
    "Preizkusimo ali je res, kar smo zapisali, in ponastavimo seme in kličimo generator:"
   ]
  },
  {
   "cell_type": "code",
   "execution_count": 279,
   "metadata": {},
   "outputs": [
    {
     "data": {
      "text/plain": [
       "array([0.5488135 , 0.71518937, 0.60276338])"
      ]
     },
     "execution_count": 279,
     "metadata": {},
     "output_type": "execute_result"
    }
   ],
   "source": [
    "np.random.seed(0)\n",
    "np.random.random(3)"
   ]
  },
  {
   "cell_type": "markdown",
   "metadata": {
    "slideshow": {
     "slide_type": "subslide"
    }
   },
   "source": [
    "### Zapis matrik in vektorjev"
   ]
  },
  {
   "cell_type": "markdown",
   "metadata": {},
   "source": [
    "Matrika je dimenzije ``m x n``, kjer je na prvem mestu ``m`` število vrstic in ``n`` število stolpcev. Primer definiranja matrike dimenzije `m x n = 3 x 2` je: "
   ]
  },
  {
   "cell_type": "code",
   "execution_count": 284,
   "metadata": {
    "slideshow": {
     "slide_type": "-"
    }
   },
   "outputs": [
    {
     "data": {
      "text/plain": [
       "array([[0., 0.],\n",
       "       [0., 0.],\n",
       "       [0., 0.]])"
      ]
     },
     "execution_count": 284,
     "metadata": {},
     "output_type": "execute_result"
    }
   ],
   "source": [
    "a = np.zeros((3, 2))\n",
    "a"
   ]
  },
  {
   "cell_type": "markdown",
   "metadata": {
    "slideshow": {
     "slide_type": "subslide"
    }
   },
   "source": [
    "Vektor je lahko zapisan kot **vrstični vektor**:"
   ]
  },
  {
   "cell_type": "code",
   "execution_count": 286,
   "metadata": {},
   "outputs": [
    {
     "data": {
      "text/plain": [
       "array([0., 0., 0.])"
      ]
     },
     "execution_count": 286,
     "metadata": {},
     "output_type": "execute_result"
    }
   ],
   "source": [
    "b = np.zeros(3) # (1 x 3)\n",
    "b"
   ]
  },
  {
   "cell_type": "markdown",
   "metadata": {
    "slideshow": {
     "slide_type": "-"
    }
   },
   "source": [
    "ali kot **stolpični vektor**:"
   ]
  },
  {
   "cell_type": "code",
   "execution_count": 287,
   "metadata": {},
   "outputs": [
    {
     "data": {
      "text/plain": [
       "array([[0.],\n",
       "       [0.],\n",
       "       [0.]])"
      ]
     },
     "execution_count": 287,
     "metadata": {},
     "output_type": "execute_result"
    }
   ],
   "source": [
    "c = np.zeros((3, 1)) # 3 x 1\n",
    "c"
   ]
  },
  {
   "cell_type": "markdown",
   "metadata": {
    "slideshow": {
     "slide_type": "subslide"
    }
   },
   "source": [
    "V modulu ``numpy`` lahko vektorje in matrike zapisujemo kot:\n",
    "\n",
    "* `numpy.array` (priporočeno, [dokumentacija](https://docs.scipy.org/doc/numpy/reference/generated/numpy.array.html)),\n",
    "* `numpy.matrix` ([dokumentacija](https://docs.scipy.org/doc/numpy/reference/generated/numpy.matrix.html)). \n",
    "\n",
    "Priporočena je prva oblika (`numpy.array`), ki pa ne sledi povsem matematičnemu zapisu (več o tem pozneje), nam pa omogoča **enostavnejše** programiranje in je tudi numerično **bolj učinkovit** pristop ([vir](http://wiki.scipy.org/NumPy_for_Matlab_Users#head-e9a492daa18afcd86e84e07cd2824a9b1b651935)). Pristopa `numpy.matrix` tukaj ne bomo obravnavali."
   ]
  },
  {
   "cell_type": "markdown",
   "metadata": {
    "slideshow": {
     "slide_type": "subslide"
    }
   },
   "source": [
    "V angleškem jeziku bomo *array* prevajali kot **večdimenzijsko numerično polje** ali včasih **večdimenzijske sezname** (ker imajo nekatere podobnosti z navadnimi seznami). Nekatere knjige *array* tukaj prevajajo kot *tabela*."
   ]
  },
  {
   "cell_type": "markdown",
   "metadata": {
    "slideshow": {
     "slide_type": "subslide"
    }
   },
   "source": [
    "### Rezanje\n",
    "\n",
    "**Rezanje** (angl. *slicing*) seznamov smo si že pogledali v poglavju Uvod v Python. Podobno rezanje, vendar bolj splošno, velja tudi za numerična polja modula `numpy`. "
   ]
  },
  {
   "cell_type": "markdown",
   "metadata": {
    "slideshow": {
     "slide_type": "subslide"
    }
   },
   "source": [
    "Sintaksa rezanja ([dokumentacija](http://docs.scipy.org/doc/numpy/reference/arrays.indexing.html)) je:\n",
    "```python\n",
    "numpy_array[od:do:korak]\n",
    "```\n",
    "pri tem velja:\n",
    "\n",
    "* indeksiranje se začne z 0 (kot sicer pri Pythonu),\n",
    "* **`od`** pomeni **>=**,\n",
    "* **`do`** pomeni **<**,\n",
    "* `od`, `do`, `korak` so opcijski parametri,\n",
    "* če parameter `od` ni podan, pomeni od *začetka*,\n",
    "* če parameter `do` ni podan, pomeni do vključno zadnjega,\n",
    "* če parameter `korak` ni podan, pomeni korak 1."
   ]
  },
  {
   "cell_type": "markdown",
   "metadata": {
    "slideshow": {
     "slide_type": "subslide"
    }
   },
   "source": [
    "Primer od elementa 3 do elementa 8 po koraku 2:"
   ]
  },
  {
   "cell_type": "code",
   "execution_count": 307,
   "metadata": {},
   "outputs": [
    {
     "data": {
      "text/plain": [
       "array([3, 5, 7])"
      ]
     },
     "execution_count": 307,
     "metadata": {},
     "output_type": "execute_result"
    }
   ],
   "source": [
    "b = np.arange(10)\n",
    "b[3:8:2]"
   ]
  },
  {
   "cell_type": "markdown",
   "metadata": {
    "slideshow": {
     "slide_type": "subslide"
    }
   },
   "source": [
    "Primer od elementa 3 naprej:"
   ]
  },
  {
   "cell_type": "code",
   "execution_count": 93,
   "metadata": {},
   "outputs": [
    {
     "data": {
      "text/plain": [
       "array([3, 4, 5, 6, 7, 8, 9])"
      ]
     },
     "execution_count": 93,
     "metadata": {},
     "output_type": "execute_result"
    }
   ],
   "source": [
    "b[3:]"
   ]
  },
  {
   "cell_type": "markdown",
   "metadata": {
    "slideshow": {
     "slide_type": "subslide"
    }
   },
   "source": [
    "Primer od elementa 3 naprej, vendar vsak tretji:"
   ]
  },
  {
   "cell_type": "code",
   "execution_count": 94,
   "metadata": {},
   "outputs": [
    {
     "data": {
      "text/plain": [
       "array([3, 6, 9])"
      ]
     },
     "execution_count": 94,
     "metadata": {},
     "output_type": "execute_result"
    }
   ],
   "source": [
    "b[3::3]"
   ]
  },
  {
   "cell_type": "markdown",
   "metadata": {
    "slideshow": {
     "slide_type": "subslide"
    }
   },
   "source": [
    "Primer zadnjih 5 elementov, vendar vsak drugi:"
   ]
  },
  {
   "cell_type": "code",
   "execution_count": 95,
   "metadata": {},
   "outputs": [
    {
     "data": {
      "text/plain": [
       "array([5, 7, 9])"
      ]
     },
     "execution_count": 95,
     "metadata": {},
     "output_type": "execute_result"
    }
   ],
   "source": [
    "b[-5::2]"
   ]
  },
  {
   "cell_type": "markdown",
   "metadata": {},
   "source": [
    "Primer zadnjih 5 elementov brez zadnjih 2, vendar vsak drugi:"
   ]
  },
  {
   "cell_type": "code",
   "execution_count": 308,
   "metadata": {},
   "outputs": [
    {
     "data": {
      "text/plain": [
       "array([5, 7])"
      ]
     },
     "execution_count": 308,
     "metadata": {},
     "output_type": "execute_result"
    }
   ],
   "source": [
    "b[-5:-2:2]"
   ]
  },
  {
   "cell_type": "markdown",
   "metadata": {
    "slideshow": {
     "slide_type": "subslide"
    }
   },
   "source": [
    "#### Poglejmo si še rezanje večdimenzijskega numeričnega polja. \n",
    "\n",
    "Večdimenzijsko rezanje izvedemo tako, da dimenzije ločimo z vejico:\n",
    "```python\n",
    "numpy_array[rezanje0, rezanje1,...]\n",
    "```\n",
    "kjer `rezanje0` reže indeks 0 (prvo dimenzijo) v obliki `od:do:korak`, `rezanje1` reže indeks 1 (drugo dimenzijo) in tako naprej."
   ]
  },
  {
   "cell_type": "markdown",
   "metadata": {
    "slideshow": {
     "slide_type": "subslide"
    }
   },
   "source": [
    "Poglejmo si primer; najprej pripravimo seznam 15 števil (`np.arange`), nato z metodo `reshape()` ([dokumentacija](https://docs.scipy.org/doc/numpy/reference/generated/numpy.reshape.html)) spremenimo obliko v matriko `3 x 5`:"
   ]
  },
  {
   "cell_type": "code",
   "execution_count": 329,
   "metadata": {},
   "outputs": [
    {
     "data": {
      "text/plain": [
       "array([[ 0,  1,  2,  3,  4],\n",
       "       [ 5,  6,  7,  8,  9],\n",
       "       [10, 11, 12, 13, 14]])"
      ]
     },
     "execution_count": 329,
     "metadata": {},
     "output_type": "execute_result"
    }
   ],
   "source": [
    "a = np.arange(15)\n",
    "a = a.reshape((3,5))\n",
    "a"
   ]
  },
  {
   "cell_type": "markdown",
   "metadata": {
    "slideshow": {
     "slide_type": "subslide"
    }
   },
   "source": [
    "Obliko numeričnega polja lahko preverimo z atributom `shape` ([dokumentacija](https://docs.scipy.org/doc/numpy/reference/generated/numpy.ndarray.shape.html))."
   ]
  },
  {
   "cell_type": "code",
   "execution_count": 98,
   "metadata": {},
   "outputs": [
    {
     "data": {
      "text/plain": [
       "(3, 5)"
      ]
     },
     "execution_count": 98,
     "metadata": {},
     "output_type": "execute_result"
    }
   ],
   "source": [
    "a.shape"
   ]
  },
  {
   "cell_type": "markdown",
   "metadata": {},
   "source": [
    "Atribute bomo sicer podrobno spoznali pri obravnavi razredov."
   ]
  },
  {
   "cell_type": "markdown",
   "metadata": {
    "slideshow": {
     "slide_type": "subslide"
    }
   },
   "source": [
    "Prikažimo vrstice z indeksom 0:"
   ]
  },
  {
   "cell_type": "code",
   "execution_count": 99,
   "metadata": {},
   "outputs": [
    {
     "data": {
      "text/plain": [
       "array([0, 1, 2, 3, 4])"
      ]
     },
     "execution_count": 99,
     "metadata": {},
     "output_type": "execute_result"
    }
   ],
   "source": [
    "a[0]"
   ]
  },
  {
   "cell_type": "markdown",
   "metadata": {},
   "source": [
    "Isti rezultat bi dobili s prikazom vrstice z indeksom 0 in vseh stolpcev:"
   ]
  },
  {
   "cell_type": "code",
   "execution_count": 100,
   "metadata": {},
   "outputs": [
    {
     "data": {
      "text/plain": [
       "array([0, 1, 2, 3, 4])"
      ]
     },
     "execution_count": 100,
     "metadata": {},
     "output_type": "execute_result"
    }
   ],
   "source": [
    "a[0,:]"
   ]
  },
  {
   "cell_type": "markdown",
   "metadata": {
    "slideshow": {
     "slide_type": "subslide"
    }
   },
   "source": [
    "Pogosto želimo dostopati do stoplcev, npr. stolpca z indeksom 1 (torej režemo vse vrstice in stolpec z indeksom 1):"
   ]
  },
  {
   "cell_type": "code",
   "execution_count": 101,
   "metadata": {},
   "outputs": [
    {
     "data": {
      "text/plain": [
       "array([ 1,  6, 11])"
      ]
     },
     "execution_count": 101,
     "metadata": {},
     "output_type": "execute_result"
    }
   ],
   "source": [
    "a[:,1]"
   ]
  },
  {
   "cell_type": "markdown",
   "metadata": {
    "slideshow": {
     "slide_type": "subslide"
    }
   },
   "source": [
    "Poglejmo si še primer rezanja prvih dveh vrstic in zadnjih dveh stolpcev:"
   ]
  },
  {
   "cell_type": "code",
   "execution_count": 102,
   "metadata": {},
   "outputs": [
    {
     "data": {
      "text/plain": [
       "array([[3, 4],\n",
       "       [8, 9]])"
      ]
     },
     "execution_count": 102,
     "metadata": {},
     "output_type": "execute_result"
    }
   ],
   "source": [
    "a[:2, -2:]"
   ]
  },
  {
   "cell_type": "markdown",
   "metadata": {},
   "source": [
    "Podobna logika se uporabi pri dimenzijah višjih od 2."
   ]
  },
  {
   "cell_type": "markdown",
   "metadata": {
    "slideshow": {
     "slide_type": "subslide"
    }
   },
   "source": [
    "### Operacije nad numeričnimi polji"
   ]
  },
  {
   "cell_type": "markdown",
   "metadata": {},
   "source": [
    "Poglejmo si sedaj bolj podrobno nekatere osnovne prednosti numeričnega polja `numpy.array` v primerjavi z navadnim seznamom Python.\n",
    "\n",
    "Najprej pripravimo navaden Pythonov seznam:"
   ]
  },
  {
   "cell_type": "code",
   "execution_count": 330,
   "metadata": {},
   "outputs": [
    {
     "data": {
      "text/plain": [
       "[1, 2, 3, 4, 5, 6, 7]"
      ]
     },
     "execution_count": 330,
     "metadata": {},
     "output_type": "execute_result"
    }
   ],
   "source": [
    "a = [1, 2, 3, 4, 5, 6, 7]\n",
    "a"
   ]
  },
  {
   "cell_type": "markdown",
   "metadata": {
    "slideshow": {
     "slide_type": "subslide"
    }
   },
   "source": [
    "In nato še numerično polje `numpy.array` (kar iz seznama `a`):"
   ]
  },
  {
   "cell_type": "code",
   "execution_count": 334,
   "metadata": {},
   "outputs": [
    {
     "data": {
      "text/plain": [
       "array([1, 2, 3, 4, 5, 6, 7])"
      ]
     },
     "execution_count": 334,
     "metadata": {},
     "output_type": "execute_result"
    }
   ],
   "source": [
    "b = np.array(a)\n",
    "b"
   ]
  },
  {
   "cell_type": "markdown",
   "metadata": {},
   "source": [
    "Ko izpišemo `b`, smo opozorjeni, da gre za `array([...])`."
   ]
  },
  {
   "cell_type": "markdown",
   "metadata": {
    "slideshow": {
     "slide_type": "subslide"
    }
   },
   "source": [
    "Poglejmo, kako se obnaša Pythonov seznam pri množenju:"
   ]
  },
  {
   "cell_type": "code",
   "execution_count": 337,
   "metadata": {},
   "outputs": [
    {
     "data": {
      "text/plain": [
       "[1, 2, 3, 4, 5, 6, 7, 1, 2, 3, 4, 5, 6, 7]"
      ]
     },
     "execution_count": 337,
     "metadata": {},
     "output_type": "execute_result"
    }
   ],
   "source": [
    "2*a"
   ]
  },
  {
   "cell_type": "markdown",
   "metadata": {},
   "source": [
    "Opazimo, da se podvoji seznam, ne pa vrednosti, kar bi morebiti pričakovali."
   ]
  },
  {
   "cell_type": "markdown",
   "metadata": {
    "slideshow": {
     "slide_type": "subslide"
    }
   },
   "source": [
    "Poglejmo, kako se pri množenju obnaša numerično polje `numpy.array`:"
   ]
  },
  {
   "cell_type": "code",
   "execution_count": 338,
   "metadata": {},
   "outputs": [
    {
     "data": {
      "text/plain": [
       "array([ 2,  4,  6,  8, 10, 12, 14])"
      ]
     },
     "execution_count": 338,
     "metadata": {},
     "output_type": "execute_result"
    }
   ],
   "source": [
    "2*b"
   ]
  },
  {
   "cell_type": "markdown",
   "metadata": {},
   "source": [
    "Opazimo, da se podvojijo vrednosti; tako kakor bi pričakovali, ko množimo na primer skalarno vrednost in vektor!"
   ]
  },
  {
   "cell_type": "markdown",
   "metadata": {
    "slideshow": {
     "slide_type": "subslide"
    }
   },
   "source": [
    "### Aritmetične operacije\n",
    "\n",
    "Izbor aritmetičnih operacij, ki jih ``numpy`` izvaja na nivoju posameznega elementa, je (po naraščajoči prioriteti):\n",
    "\n",
    "* `x + y` vsota,\t \t \n",
    "* `x - y` razlika,\t \t \n",
    "* `x * y` produkt,\t \t \n",
    "* `x / y` deljenje,\t \t \n",
    "* `x // y` celoštevilsko deljenje (rezultat je celo število zaokroženo navzdol),\n",
    "* `x % y` ostanek pri celoštevilskem deljenju,\t \n",
    "* `x ** y`\tvrne `x` na potenco `y`."
   ]
  },
  {
   "cell_type": "markdown",
   "metadata": {
    "slideshow": {
     "slide_type": "subslide"
    }
   },
   "source": [
    "Primer:"
   ]
  },
  {
   "cell_type": "code",
   "execution_count": 339,
   "metadata": {},
   "outputs": [
    {
     "data": {
      "text/plain": [
       "array([  3,   4,   3,   0,  -5, -12, -21])"
      ]
     },
     "execution_count": 339,
     "metadata": {},
     "output_type": "execute_result"
    }
   ],
   "source": [
    "b + 3*b - b**2"
   ]
  },
  {
   "cell_type": "markdown",
   "metadata": {
    "slideshow": {
     "slide_type": "subslide"
    }
   },
   "source": [
    "Vse aritmetične operacije so sicer navedene v [dokumentaciji](https://docs.scipy.org/doc/numpy/reference/routines.math.html#arithmetic-operations) in namesto kratkih oblik imamo tudi *dolge*, npr: `numpy.power(x, y)` namesto `x**y`; primer:"
   ]
  },
  {
   "cell_type": "code",
   "execution_count": 340,
   "metadata": {},
   "outputs": [
    {
     "data": {
      "text/plain": [
       "array([ 1,  4,  9, 16, 25, 36, 49], dtype=int32)"
      ]
     },
     "execution_count": 340,
     "metadata": {},
     "output_type": "execute_result"
    }
   ],
   "source": [
    "np.power(b, 2)"
   ]
  },
  {
   "cell_type": "markdown",
   "metadata": {},
   "source": [
    "Mimogrede opazimo, da je rezultat tipa `int32` (integer). Ko smo ustvarili ime `b`, smo namreč ustvarili numerično polje z elementi tipa `int32`."
   ]
  },
  {
   "cell_type": "markdown",
   "metadata": {
    "slideshow": {
     "slide_type": "subslide"
    }
   },
   "source": [
    "### Matematične funkcije\n",
    "\n",
    "`numpy` ponuja praktično vse potrebne matematične (in druge) operacije, navedimo jih po skupinah, kot so strukturirane v [dokumentaciji](https://docs.scipy.org/doc/numpy/reference/routines.math.html#mathematical-functions):\n",
    "\n",
    "* [trigonometrične funkcije](https://docs.scipy.org/doc/numpy/reference/routines.math.html#trigonometric-functions),\n",
    "* [hiperbolične](https://docs.scipy.org/doc/numpy/reference/routines.math.html#hyperbolic-functions),\n",
    "* [funkcije za zaokroževanje](https://docs.scipy.org/doc/numpy/reference/routines.math.html#rounding),\n",
    "* [funkcije za vsoto, produkt in odvod](https://docs.scipy.org/doc/numpy/reference/routines.math.html#sums-products-differences),\n",
    "* [eksponenti in logaritmi](https://docs.scipy.org/doc/numpy/reference/routines.math.html#exponents-and-logarithms),\n",
    "* [posebne](https://docs.scipy.org/doc/numpy/reference/routines.math.html#other-special-functions) ter [preostale](https://docs.scipy.org/doc/numpy/reference/routines.math.html#miscellaneous) funkcije."
   ]
  },
  {
   "cell_type": "markdown",
   "metadata": {
    "slideshow": {
     "slide_type": "subslide"
    }
   },
   "source": [
    "Poglejmo primer funkcije $\\sin()$:"
   ]
  },
  {
   "cell_type": "code",
   "execution_count": 342,
   "metadata": {},
   "outputs": [
    {
     "data": {
      "text/plain": [
       "array([ 0.0000000e+00,  1.0000000e+00,  1.2246468e-16, -1.0000000e+00,\n",
       "       -2.4492936e-16])"
      ]
     },
     "execution_count": 342,
     "metadata": {},
     "output_type": "execute_result"
    }
   ],
   "source": [
    "a = np.linspace(0, 2*np.pi, 5)\n",
    "np.sin(a)"
   ]
  },
  {
   "cell_type": "markdown",
   "metadata": {
    "slideshow": {
     "slide_type": "fragment"
    }
   },
   "source": [
    "Poglejmo še hitrost izvajanja:"
   ]
  },
  {
   "cell_type": "code",
   "execution_count": 344,
   "metadata": {},
   "outputs": [
    {
     "name": "stdout",
     "output_type": "stream",
     "text": [
      "1.69 µs ± 378 ns per loop (mean ± std. dev. of 7 runs, 100 loops each)\n"
     ]
    }
   ],
   "source": [
    "%timeit -n100 np.sin(a)"
   ]
  },
  {
   "cell_type": "markdown",
   "metadata": {
    "slideshow": {
     "slide_type": "subslide"
    }
   },
   "source": [
    "### Podatkovni tipi"
   ]
  },
  {
   "cell_type": "markdown",
   "metadata": {},
   "source": [
    "``numpy`` ima vnaprej definirane podatkovne tipe (statično). Celoten seznam možnih tipov je naveden v [dokumentaciji](http://docs.scipy.org/doc/numpy/reference/arrays.dtypes.html).\n",
    "\n",
    "Osredotočili se bomo predvsem na sledeče tipe:\n",
    "\n",
    "* ``int`` - celo število (poljubno veliko)\n",
    "* ``float`` - število s plavajočo vejico ([dokumentacija](https://docs.python.org/dev/library/functions.html#float))\n",
    "* ``complex`` - kompleksno število s plavajočo vejico\n",
    "* ``object`` - python objekt."
   ]
  },
  {
   "cell_type": "markdown",
   "metadata": {
    "slideshow": {
     "slide_type": "subslide"
    }
   },
   "source": [
    "Poglejmo si nekaj primerov (cela števila, število s plavajočo vejico in kompleksna števila):"
   ]
  },
  {
   "cell_type": "code",
   "execution_count": 111,
   "metadata": {
    "slideshow": {
     "slide_type": "-"
    }
   },
   "outputs": [
    {
     "data": {
      "text/plain": [
       "array([0, 1, 2, 3, 4])"
      ]
     },
     "execution_count": 111,
     "metadata": {},
     "output_type": "execute_result"
    }
   ],
   "source": [
    "np.arange(5, dtype=int)"
   ]
  },
  {
   "cell_type": "code",
   "execution_count": 112,
   "metadata": {
    "slideshow": {
     "slide_type": "-"
    }
   },
   "outputs": [
    {
     "data": {
      "text/plain": [
       "array([0., 1., 2., 3., 4.])"
      ]
     },
     "execution_count": 112,
     "metadata": {},
     "output_type": "execute_result"
    }
   ],
   "source": [
    "np.arange(5, dtype=float)"
   ]
  },
  {
   "cell_type": "code",
   "execution_count": 113,
   "metadata": {
    "slideshow": {
     "slide_type": "-"
    }
   },
   "outputs": [
    {
     "data": {
      "text/plain": [
       "array([0.+0.j, 1.+0.j, 2.+0.j, 3.+0.j, 4.+0.j])"
      ]
     },
     "execution_count": 113,
     "metadata": {},
     "output_type": "execute_result"
    }
   ],
   "source": [
    "np.arange(5, dtype=complex)"
   ]
  },
  {
   "cell_type": "markdown",
   "metadata": {
    "slideshow": {
     "slide_type": "subslide"
    }
   },
   "source": [
    "### Spreminjanje elementov numeričnega polja (`numpy.array`)"
   ]
  },
  {
   "cell_type": "markdown",
   "metadata": {},
   "source": [
    "Podatke spreminjamo na podoben način kakor pri navadnih seznamih; v kolikor uporabljamo rezanje, moramo paziti, da so na levi in desni strani enačaja podatki iste oblike (`array.shape`)."
   ]
  },
  {
   "cell_type": "markdown",
   "metadata": {
    "slideshow": {
     "slide_type": "subslide"
    }
   },
   "source": [
    "Poglejmo si primer, ko matriki ničel dimenzije `3 x 4` spremenimo element z indeksom `[2, 3]`:"
   ]
  },
  {
   "cell_type": "code",
   "execution_count": 346,
   "metadata": {},
   "outputs": [
    {
     "data": {
      "text/plain": [
       "array([[  0.,   0.,   0.,   0.],\n",
       "       [  0.,   0.,   0.,   0.],\n",
       "       [  0.,   0.,   0., 100.]])"
      ]
     },
     "execution_count": 346,
     "metadata": {},
     "output_type": "execute_result"
    }
   ],
   "source": [
    "a = np.zeros((3, 4))\n",
    "a[2, 3] = 100\n",
    "a"
   ]
  },
  {
   "cell_type": "markdown",
   "metadata": {
    "slideshow": {
     "slide_type": "subslide"
    }
   },
   "source": [
    "Sedaj spremenimo še elemente prvih dveh vrstic in prvih dveh stolpcev v vrednost 1:"
   ]
  },
  {
   "cell_type": "code",
   "execution_count": 348,
   "metadata": {},
   "outputs": [
    {
     "data": {
      "text/plain": [
       "array([[  1.,   1.,   0.,   0.],\n",
       "       [  1.,   1.,   0.,   0.],\n",
       "       [  0.,   0.,   0., 100.]])"
      ]
     },
     "execution_count": 348,
     "metadata": {},
     "output_type": "execute_result"
    }
   ],
   "source": [
    "a[:2, :2] = np.ones((2, 2))\n",
    "a"
   ]
  },
  {
   "cell_type": "markdown",
   "metadata": {
    "slideshow": {
     "slide_type": "subslide"
    }
   },
   "source": [
    "Z 2 pomnožimo stolpec z indeksom 1:"
   ]
  },
  {
   "cell_type": "code",
   "execution_count": 349,
   "metadata": {},
   "outputs": [
    {
     "data": {
      "text/plain": [
       "array([[  1.,   2.,   0.,   0.],\n",
       "       [  1.,   2.,   0.,   0.],\n",
       "       [  0.,   0.,   0., 100.]])"
      ]
     },
     "execution_count": 349,
     "metadata": {},
     "output_type": "execute_result"
    }
   ],
   "source": [
    "a[:,1] = 2 * a[:,1]\n",
    "a"
   ]
  },
  {
   "cell_type": "markdown",
   "metadata": {
    "slideshow": {
     "slide_type": "subslide"
    }
   },
   "source": [
    "Bodite pozorni na to, da na tak način naredimo *pogled* (view) na podatke (**ne naredimo kopije podatkov**). \n",
    "\n",
    "Za primer najprej naredimo novo ime `pogled`:"
   ]
  },
  {
   "cell_type": "code",
   "execution_count": 350,
   "metadata": {},
   "outputs": [
    {
     "data": {
      "text/plain": [
       "array([0., 0., 0.])"
      ]
     },
     "execution_count": 350,
     "metadata": {},
     "output_type": "execute_result"
    }
   ],
   "source": [
    "pogled = a[:, 2]\n",
    "pogled"
   ]
  },
  {
   "cell_type": "markdown",
   "metadata": {
    "slideshow": {
     "slide_type": "subslide"
    }
   },
   "source": [
    "Sedaj spremenimo izbrane vrednosti numeričnega polja `a`:"
   ]
  },
  {
   "cell_type": "code",
   "execution_count": 353,
   "metadata": {
    "slideshow": {
     "slide_type": "-"
    }
   },
   "outputs": [
    {
     "data": {
      "text/plain": [
       "array([[  1.,   2.,   5.,   0.],\n",
       "       [  1.,   2.,   5.,   0.],\n",
       "       [  0.,   0.,   5., 100.]])"
      ]
     },
     "execution_count": 353,
     "metadata": {},
     "output_type": "execute_result"
    }
   ],
   "source": [
    "a[:, 2] = 5\n",
    "a"
   ]
  },
  {
   "cell_type": "markdown",
   "metadata": {
    "slideshow": {
     "slide_type": "subslide"
    }
   },
   "source": [
    "Vrednosti `pogled` nismo spreminjali. Ker pa ime kaže na isto mesto kakor `a[:, 2]`, so vrednosti spremenjene:"
   ]
  },
  {
   "cell_type": "code",
   "execution_count": 356,
   "metadata": {},
   "outputs": [
    {
     "data": {
      "text/plain": [
       "array([5., 5., 5.])"
      ]
     },
     "execution_count": 356,
     "metadata": {},
     "output_type": "execute_result"
    }
   ],
   "source": [
    "pogled"
   ]
  },
  {
   "cell_type": "markdown",
   "metadata": {
    "slideshow": {
     "slide_type": "subslide"
    }
   },
   "source": [
    "Če želimo kopijo, moramo narediti tako:"
   ]
  },
  {
   "cell_type": "code",
   "execution_count": 357,
   "metadata": {},
   "outputs": [
    {
     "data": {
      "text/plain": [
       "array([5., 5., 5.])"
      ]
     },
     "execution_count": 357,
     "metadata": {},
     "output_type": "execute_result"
    }
   ],
   "source": [
    "kopija = a[:, 2].copy()\n",
    "kopija"
   ]
  },
  {
   "cell_type": "markdown",
   "metadata": {},
   "source": [
    "in rezultat `kopija` ostane nespremenjen:"
   ]
  },
  {
   "cell_type": "code",
   "execution_count": 359,
   "metadata": {
    "slideshow": {
     "slide_type": "-"
    }
   },
   "outputs": [
    {
     "data": {
      "text/plain": [
       "array([5., 5., 5.])"
      ]
     },
     "execution_count": 359,
     "metadata": {},
     "output_type": "execute_result"
    }
   ],
   "source": [
    "a[:, 2] = 2\n",
    "kopija"
   ]
  },
  {
   "cell_type": "markdown",
   "metadata": {
    "slideshow": {
     "slide_type": "subslide"
    }
   },
   "source": [
    "## Osnove matričnega računanja"
   ]
  },
  {
   "cell_type": "markdown",
   "metadata": {},
   "source": [
    "Če želite ponoviti matematične osnove matričnega računanja, potem sledite tej [povezavi](http://www.fmf.uni-lj.si/~kosir/poucevanje/skripta/matrike.pdf) (gre za kratek in dober pregled prof. dr. T. Koširja). Pogledali bomo, kako matrične račune izvedemo s pomočjo paketa `numpy`."
   ]
  },
  {
   "cell_type": "markdown",
   "metadata": {
    "slideshow": {
     "slide_type": "subslide"
    }
   },
   "source": [
    "Najprej definirajmo matriki $\\mathbf{A}$ in $\\mathbf{B}$:"
   ]
  },
  {
   "cell_type": "code",
   "execution_count": 360,
   "metadata": {},
   "outputs": [],
   "source": [
    "A = np.array([[1, 2], [3, 2]])\n",
    "B = np.array([[1, 1], [2, 2]])"
   ]
  },
  {
   "cell_type": "markdown",
   "metadata": {},
   "source": [
    "ter vektorja $\\mathbf{x}$ in $\\mathbf{y}$."
   ]
  },
  {
   "cell_type": "code",
   "execution_count": 361,
   "metadata": {},
   "outputs": [],
   "source": [
    "x = np.array([1, 2])\n",
    "y = np.array([3, 4])"
   ]
  },
  {
   "cell_type": "markdown",
   "metadata": {
    "slideshow": {
     "slide_type": "subslide"
    }
   },
   "source": [
    "Skalarni produkt dveh vektorjev izvedemo s funkcijo `dot()` ([dokumentacija](https://docs.scipy.org/doc/numpy/reference/generated/numpy.dot.html)):\n",
    "```python\n",
    "numpy.dot(a, b, out=None)\n",
    "```\n",
    "kjer argumenta `a` in `b` predstavljata numerični polji `numpy.array` (poljubne dimenzije), ki jih želimo množiti. Če sta `a` in `b` dimenzije 1 se izvede skalarni produkt. Pri dimenziji 2 (matrike) se izračuna produkt matrik. Za uporabo funkcije `dot()` pri dimenzijah več kot 2: glejte [dokumentacijo](https://docs.scipy.org/doc/numpy/reference/generated/numpy.dot.html)."
   ]
  },
  {
   "cell_type": "markdown",
   "metadata": {
    "slideshow": {
     "slide_type": "subslide"
    }
   },
   "source": [
    "Poglejmo primer množenja dveh vektorjev, to lahko izvedemo tako:"
   ]
  },
  {
   "cell_type": "code",
   "execution_count": 362,
   "metadata": {},
   "outputs": [
    {
     "data": {
      "text/plain": [
       "11"
      ]
     },
     "execution_count": 362,
     "metadata": {},
     "output_type": "execute_result"
    }
   ],
   "source": [
    "np.dot(x, y)"
   ]
  },
  {
   "cell_type": "markdown",
   "metadata": {
    "slideshow": {
     "slide_type": "-"
    }
   },
   "source": [
    "ali tudi tako:"
   ]
  },
  {
   "cell_type": "code",
   "execution_count": 363,
   "metadata": {},
   "outputs": [
    {
     "data": {
      "text/plain": [
       "11"
      ]
     },
     "execution_count": 363,
     "metadata": {},
     "output_type": "execute_result"
    }
   ],
   "source": [
    "x.dot(y)"
   ]
  },
  {
   "cell_type": "markdown",
   "metadata": {
    "slideshow": {
     "slide_type": "subslide"
    }
   },
   "source": [
    "Zgoraj smo omenili, da `numpy.array` ne sledi dosledno matematičnemu zapisu. Če bi, bi namreč eden od vektorjev moral biti vrstični, drugi stolpični. `numpy` to poenostavi in zato je koda lažje berljiva in krajša."
   ]
  },
  {
   "cell_type": "markdown",
   "metadata": {
    "slideshow": {
     "slide_type": "subslide"
    }
   },
   "source": [
    "Poglejmo sedaj množenje matrike z vektorjem (opazimo, da transponiranje `x` ni potrebno):"
   ]
  },
  {
   "cell_type": "code",
   "execution_count": 365,
   "metadata": {},
   "outputs": [
    {
     "data": {
      "text/plain": [
       "array([5, 7])"
      ]
     },
     "execution_count": 365,
     "metadata": {},
     "output_type": "execute_result"
    }
   ],
   "source": [
    "np.dot(A, x)"
   ]
  },
  {
   "cell_type": "markdown",
   "metadata": {
    "slideshow": {
     "slide_type": "subslide"
    }
   },
   "source": [
    "Lahko pa seveda pripravimo matematično korektno transponirano obliko vektorja (ampak vidimo, da je zapis neroden):"
   ]
  },
  {
   "cell_type": "code",
   "execution_count": 127,
   "metadata": {},
   "outputs": [
    {
     "data": {
      "text/plain": [
       "array([[5],\n",
       "       [7]])"
      ]
     },
     "execution_count": 127,
     "metadata": {},
     "output_type": "execute_result"
    }
   ],
   "source": [
    "A.dot(np.transpose([x]))"
   ]
  },
  {
   "cell_type": "markdown",
   "metadata": {},
   "source": [
    "Transponiranje ima sicer tudi kratko obliko, prek atributa `T`, npr. za matriko $\\mathbf{A}$:"
   ]
  },
  {
   "cell_type": "code",
   "execution_count": 366,
   "metadata": {},
   "outputs": [
    {
     "data": {
      "text/plain": [
       "array([[1, 3],\n",
       "       [2, 2]])"
      ]
     },
     "execution_count": 366,
     "metadata": {},
     "output_type": "execute_result"
    }
   ],
   "source": [
    "A.T"
   ]
  },
  {
   "cell_type": "markdown",
   "metadata": {
    "slideshow": {
     "slide_type": "subslide"
    }
   },
   "source": [
    "Poglejmo si primer množenja dveh matrik:"
   ]
  },
  {
   "cell_type": "code",
   "execution_count": 367,
   "metadata": {},
   "outputs": [
    {
     "data": {
      "text/plain": [
       "array([[5, 5],\n",
       "       [7, 7]])"
      ]
     },
     "execution_count": 367,
     "metadata": {},
     "output_type": "execute_result"
    }
   ],
   "source": [
    "np.dot(A, B)"
   ]
  },
  {
   "cell_type": "markdown",
   "metadata": {
    "slideshow": {
     "slide_type": "subslide"
    }
   },
   "source": [
    "Od Pythona 3.5 naprej se za množenje matrik (in vektorjev) uporablja tudi operator `@` ([dokumentacija](https://docs.scipy.org/doc/numpy/reference/generated/numpy.matmul.html#numpy.matmul)), ki omogoča kratek in pregleden zapis.\n",
    "\n",
    "Zgornji primeri zapisani z operatorjem `@`:"
   ]
  },
  {
   "cell_type": "code",
   "execution_count": 370,
   "metadata": {},
   "outputs": [
    {
     "data": {
      "text/plain": [
       "11"
      ]
     },
     "execution_count": 370,
     "metadata": {},
     "output_type": "execute_result"
    }
   ],
   "source": [
    "x @ y"
   ]
  },
  {
   "cell_type": "code",
   "execution_count": 371,
   "metadata": {},
   "outputs": [
    {
     "data": {
      "text/plain": [
       "array([5, 7])"
      ]
     },
     "execution_count": 371,
     "metadata": {},
     "output_type": "execute_result"
    }
   ],
   "source": [
    "A @ x"
   ]
  },
  {
   "cell_type": "code",
   "execution_count": 372,
   "metadata": {},
   "outputs": [
    {
     "data": {
      "text/plain": [
       "array([[5, 5],\n",
       "       [7, 7]])"
      ]
     },
     "execution_count": 372,
     "metadata": {},
     "output_type": "execute_result"
    }
   ],
   "source": [
    "A @ B"
   ]
  },
  {
   "cell_type": "markdown",
   "metadata": {
    "slideshow": {
     "slide_type": "subslide"
    }
   },
   "source": [
    "**Vektorski produkt** izračunamo s funkcijo `numpy.cross()` ([dokumentacija](https://docs.scipy.org/doc/numpy/reference/generated/numpy.cross.html)):\n",
    "```python\n",
    "numpy.cross(a, b, axisa=-1, axisb=-1, axisc=-1, axis=None)\n",
    "```\n",
    "kjer `a` in `b` definirata komponente vektorjev. Če sta podani samo dve komponenti ($x$ in $y$), se izračuna skalarna vrednost (komponenta $z$); če so podane tri komponente, je rezultat tudi vektor s tremi komponentami. Uporaba funkcije je možna tudi na večdimenzijskih numeričnih poljih in temu so namenjeni preostali argumenti (glejte dokumentacijo)."
   ]
  },
  {
   "cell_type": "markdown",
   "metadata": {
    "slideshow": {
     "slide_type": "subslide"
    }
   },
   "source": [
    "Primer vektorskega produkta ravninskih vektorjev:"
   ]
  },
  {
   "cell_type": "code",
   "execution_count": 378,
   "metadata": {},
   "outputs": [
    {
     "data": {
      "text/plain": [
       "array(1)"
      ]
     },
     "execution_count": 378,
     "metadata": {},
     "output_type": "execute_result"
    }
   ],
   "source": [
    "x = np.array([1, 0])\n",
    "y = np.array([0, 1])\n",
    "np.cross(x, y)"
   ]
  },
  {
   "cell_type": "markdown",
   "metadata": {
    "slideshow": {
     "slide_type": "subslide"
    }
   },
   "source": [
    "Primer vektorskega produkta prostorskih vektorjev:"
   ]
  },
  {
   "cell_type": "code",
   "execution_count": 379,
   "metadata": {},
   "outputs": [
    {
     "data": {
      "text/plain": [
       "array([0, 0, 1])"
      ]
     },
     "execution_count": 379,
     "metadata": {},
     "output_type": "execute_result"
    }
   ],
   "source": [
    "x = np.array([1, 0, 0])\n",
    "y = np.array([0, 1, 0])\n",
    "np.cross(x, y)"
   ]
  },
  {
   "cell_type": "markdown",
   "metadata": {
    "slideshow": {
     "slide_type": "subslide"
    }
   },
   "source": [
    "### Nekatere funkcije knjižnice ``numpy``\n",
    "\n",
    "Pogledali si bomo še nekatere funkcije, ki jih bolj ali manj pogosto potrebujemo."
   ]
  },
  {
   "cell_type": "markdown",
   "metadata": {},
   "source": [
    "Enotsko matriko definiramo s funkcijo `numpy.identity()` ([dokumentacija](https://docs.scipy.org/doc/numpy/reference/generated/numpy.identity.html)):\n",
    "```python\n",
    "numpy.identity(n, dtype=None)\n",
    "```\n",
    "kjer argument `n` definira število vrstic in stolpcev pravokotne matrike. Tip `dtype` je privzeto `float`."
   ]
  },
  {
   "cell_type": "markdown",
   "metadata": {
    "slideshow": {
     "slide_type": "subslide"
    }
   },
   "source": [
    "Primer enotske matrike:"
   ]
  },
  {
   "cell_type": "code",
   "execution_count": 381,
   "metadata": {},
   "outputs": [
    {
     "data": {
      "text/plain": [
       "array([[1., 0., 0.],\n",
       "       [0., 1., 0.],\n",
       "       [0., 0., 1.]])"
      ]
     },
     "execution_count": 381,
     "metadata": {},
     "output_type": "execute_result"
    }
   ],
   "source": [
    "A = np.identity(3)\n",
    "A"
   ]
  },
  {
   "cell_type": "markdown",
   "metadata": {
    "slideshow": {
     "slide_type": "subslide"
    }
   },
   "source": [
    "Do diagonalnih elementov matrike dostopamo s pomočjo funkcije `numpy.diagonal()` ([dokumentacija](https://docs.scipy.org/doc/numpy/reference/generated/numpy.diagonal.html))\n",
    "```python\n",
    "numpy.diagonal(a, offset=0, axis1=0, axis2=1)\n",
    "```\n",
    "Če je matrika dvodimenzijska, potem funkcija s privzetimi argumenti vrne diagonalno os. Če je dimenzija višja od 2, se uporabi osi `axis1` in `axis2`, da se izloči dvodimenzijsko polje, nato pa določi diagonalo glede na elemente `[i, i+offset]`."
   ]
  },
  {
   "cell_type": "markdown",
   "metadata": {
    "slideshow": {
     "slide_type": "subslide"
    }
   },
   "source": [
    "Poglejmo primer izločanja diagonale:"
   ]
  },
  {
   "cell_type": "code",
   "execution_count": 385,
   "metadata": {
    "slideshow": {
     "slide_type": "-"
    }
   },
   "outputs": [
    {
     "data": {
      "text/plain": [
       "array([1., 1., 1.])"
      ]
     },
     "execution_count": 385,
     "metadata": {},
     "output_type": "execute_result"
    }
   ],
   "source": [
    "np.diagonal(A)"
   ]
  },
  {
   "cell_type": "markdown",
   "metadata": {},
   "source": [
    "in uporabe `offset=1` za sosednjo diagonalo (najprej pripravimo nesimetirčno matriko):"
   ]
  },
  {
   "cell_type": "code",
   "execution_count": 137,
   "metadata": {},
   "outputs": [
    {
     "data": {
      "text/plain": [
       "array([10.,  0.])"
      ]
     },
     "execution_count": 137,
     "metadata": {},
     "output_type": "execute_result"
    }
   ],
   "source": [
    "A[0, 1] = 10\n",
    "np.diagonal(A, offset=1)"
   ]
  },
  {
   "cell_type": "markdown",
   "metadata": {
    "slideshow": {
     "slide_type": "subslide"
    }
   },
   "source": [
    "Podobno sintakso kot `numpy.diagonal()` ima funkcija `numpy.trace()`, ki izračuna vsoto (sled) diagonalnih elementov ([dokumentacija](https://docs.scipy.org/doc/numpy/reference/generated/numpy.trace.html)):\n",
    "```python\n",
    "numpy.trace(a, offset=0, axis1=0, axis2=1, \n",
    "            dtype=None, out=None)\n",
    "```"
   ]
  },
  {
   "cell_type": "markdown",
   "metadata": {
    "slideshow": {
     "slide_type": "subslide"
    }
   },
   "source": [
    "Primer sledi diagonale:"
   ]
  },
  {
   "cell_type": "code",
   "execution_count": 386,
   "metadata": {},
   "outputs": [
    {
     "data": {
      "text/plain": [
       "3.0"
      ]
     },
     "execution_count": 386,
     "metadata": {},
     "output_type": "execute_result"
    }
   ],
   "source": [
    "np.trace(A)"
   ]
  },
  {
   "cell_type": "markdown",
   "metadata": {},
   "source": [
    "in potem sosednje diagonale:"
   ]
  },
  {
   "cell_type": "code",
   "execution_count": 387,
   "metadata": {},
   "outputs": [
    {
     "data": {
      "text/plain": [
       "0.0"
      ]
     },
     "execution_count": 387,
     "metadata": {},
     "output_type": "execute_result"
    }
   ],
   "source": [
    "np.trace(A, offset=1)"
   ]
  },
  {
   "cell_type": "markdown",
   "metadata": {
    "slideshow": {
     "slide_type": "subslide"
    }
   },
   "source": [
    "Pogosto nas zanimata največji ali najmanjši element nekega numeričnega polja. `numpy` je tukaj zelo splošen. Poglejmo si na primeru funkcije `numpy.max()` ([dokumentacija](https://docs.scipy.org/doc/numpy-1.13.0/reference/generated/numpy.amax.html)):\n",
    "```python\n",
    "numpy.max(a, axis=None, out=None)\n",
    "```\n",
    "Izpostavimo argument `axis`, ki pove, čez kateri indeks iščemo maksimalno vrednost. Če je `axis=None` se določi največja vrednost v celotnem polju."
   ]
  },
  {
   "cell_type": "markdown",
   "metadata": {
    "slideshow": {
     "slide_type": "subslide"
    }
   },
   "source": [
    "Primer izračuna največje vrednosti celotnega polja (prej poglejmo `A`):"
   ]
  },
  {
   "cell_type": "code",
   "execution_count": 391,
   "metadata": {},
   "outputs": [
    {
     "data": {
      "text/plain": [
       "array([[ 1.,  0., 10.],\n",
       "       [ 0.,  1.,  0.],\n",
       "       [ 0.,  0.,  1.]])"
      ]
     },
     "execution_count": 391,
     "metadata": {},
     "output_type": "execute_result"
    }
   ],
   "source": [
    "A"
   ]
  },
  {
   "cell_type": "code",
   "execution_count": 394,
   "metadata": {},
   "outputs": [
    {
     "data": {
      "text/plain": [
       "array([10.,  1.,  1.])"
      ]
     },
     "execution_count": 394,
     "metadata": {},
     "output_type": "execute_result"
    }
   ],
   "source": [
    "np.max(A, axis=1)"
   ]
  },
  {
   "cell_type": "markdown",
   "metadata": {
    "slideshow": {
     "slide_type": "subslide"
    }
   },
   "source": [
    "Primer izračuna največje vrednosti čez vrstice (torej po stolpcih):"
   ]
  },
  {
   "cell_type": "code",
   "execution_count": 142,
   "metadata": {},
   "outputs": [
    {
     "data": {
      "text/plain": [
       "array([ 1., 10.,  1.])"
      ]
     },
     "execution_count": 142,
     "metadata": {},
     "output_type": "execute_result"
    }
   ],
   "source": [
    "np.max(A, axis=0)"
   ]
  },
  {
   "cell_type": "markdown",
   "metadata": {
    "slideshow": {
     "slide_type": "subslide"
    }
   },
   "source": [
    "Primer izračuna največje vrednosti čez stolpce (torej po vrsticah):"
   ]
  },
  {
   "cell_type": "code",
   "execution_count": 143,
   "metadata": {},
   "outputs": [
    {
     "data": {
      "text/plain": [
       "array([10.,  1.,  1.])"
      ]
     },
     "execution_count": 143,
     "metadata": {},
     "output_type": "execute_result"
    }
   ],
   "source": [
    "np.max(A, axis=1)"
   ]
  },
  {
   "cell_type": "markdown",
   "metadata": {
    "slideshow": {
     "slide_type": "subslide"
    }
   },
   "source": [
    "Par funkcije `max()` je `numpy.argmax()`, kateri določi indekse največje vrednosti.\n",
    "\n",
    "Primer uporabe:"
   ]
  },
  {
   "cell_type": "code",
   "execution_count": 398,
   "metadata": {},
   "outputs": [
    {
     "data": {
      "text/plain": [
       "array([[ 1.,  0., 10.],\n",
       "       [ 0.,  1.,  0.],\n",
       "       [ 0.,  0., 30.]])"
      ]
     },
     "execution_count": 398,
     "metadata": {},
     "output_type": "execute_result"
    }
   ],
   "source": [
    "A"
   ]
  },
  {
   "cell_type": "code",
   "execution_count": 401,
   "metadata": {},
   "outputs": [
    {
     "data": {
      "text/plain": [
       "array([0, 1, 2], dtype=int64)"
      ]
     },
     "execution_count": 401,
     "metadata": {},
     "output_type": "execute_result"
    }
   ],
   "source": [
    "np.argmax(A, axis=0)"
   ]
  },
  {
   "cell_type": "markdown",
   "metadata": {
    "slideshow": {
     "slide_type": "subslide"
    }
   },
   "source": [
    "### Linearna algebra z ``numpy``"
   ]
  },
  {
   "cell_type": "markdown",
   "metadata": {},
   "source": [
    "Pozneje bomo linearno algebro bolj podrobno spoznali in bomo sami pisali algoritme. Tukaj si poglejmo nekatere osnove, ki so vgrajene v modul `numpy`.\n",
    "\n",
    "Za primer najprej definirajmo matriko in vektor:"
   ]
  },
  {
   "cell_type": "code",
   "execution_count": 402,
   "metadata": {},
   "outputs": [],
   "source": [
    "A = np.array([[4, -2],\n",
    "              [-2, 4]])\n",
    "b = np.array([1, 2])"
   ]
  },
  {
   "cell_type": "markdown",
   "metadata": {
    "slideshow": {
     "slide_type": "subslide"
    }
   },
   "source": [
    "Inverzno matriko izračunamo z uporabo funkcije `numpy.linalg.inv()` ([dokumentacija](https://docs.scipy.org/doc/numpy/reference/generated/numpy.linalg.inv.html)):\n",
    "```python\n",
    "numpy.linalg.inv(a)\n",
    "```"
   ]
  },
  {
   "cell_type": "raw",
   "metadata": {},
   "source": [
    "Primer:"
   ]
  },
  {
   "cell_type": "code",
   "execution_count": 404,
   "metadata": {
    "slideshow": {
     "slide_type": "-"
    }
   },
   "outputs": [
    {
     "data": {
      "text/plain": [
       "array([[0.33333333, 0.16666667],\n",
       "       [0.16666667, 0.33333333]])"
      ]
     },
     "execution_count": 404,
     "metadata": {},
     "output_type": "execute_result"
    }
   ],
   "source": [
    "np.linalg.inv(A)"
   ]
  },
  {
   "cell_type": "markdown",
   "metadata": {
    "slideshow": {
     "slide_type": "subslide"
    }
   },
   "source": [
    "Sistem linearnih enačb, ki ga definirata matrika koeficientov `a` in vektor konstant `b`, rešimo s pomočjo funkcije `numpy.linalg.solve()` ([dokumentacija](https://docs.scipy.org/doc/numpy/reference/generated/numpy.linalg.solve.html)):\n",
    "```python\n",
    "numpy.linalg.solve(a, b)\n",
    "```"
   ]
  },
  {
   "cell_type": "markdown",
   "metadata": {
    "slideshow": {
     "slide_type": "subslide"
    }
   },
   "source": [
    "Primer:"
   ]
  },
  {
   "cell_type": "code",
   "execution_count": 405,
   "metadata": {
    "slideshow": {
     "slide_type": "-"
    }
   },
   "outputs": [
    {
     "data": {
      "text/plain": [
       "array([0.66666667, 0.83333333])"
      ]
     },
     "execution_count": 405,
     "metadata": {},
     "output_type": "execute_result"
    }
   ],
   "source": [
    "rešitev = np.linalg.solve(A, b)\n",
    "rešitev"
   ]
  },
  {
   "cell_type": "markdown",
   "metadata": {
    "slideshow": {
     "slide_type": "subslide"
    }
   },
   "source": [
    "Enakost elementov numeričnega polja `a` in `b` (znotraj določene tolerance) preverimo s funkcijo `numpy.isclose()` ([dokumentacija](https://docs.scipy.org/doc/numpy/reference/generated/numpy.isclose.html)):\n",
    "```python\n",
    "numpy.isclose(a, b, rtol=1e-05, atol=1e-08, equal_nan=False)\n",
    "```"
   ]
  },
  {
   "cell_type": "markdown",
   "metadata": {},
   "source": [
    "Primer:"
   ]
  },
  {
   "cell_type": "code",
   "execution_count": 148,
   "metadata": {
    "slideshow": {
     "slide_type": "-"
    }
   },
   "outputs": [
    {
     "data": {
      "text/plain": [
       "array([ True,  True])"
      ]
     },
     "execution_count": 148,
     "metadata": {},
     "output_type": "execute_result"
    }
   ],
   "source": [
    "np.isclose(np.dot(A, rešitev), b)"
   ]
  },
  {
   "cell_type": "markdown",
   "metadata": {
    "slideshow": {
     "slide_type": "subslide"
    }
   },
   "source": [
    "## Vektorizacija algoritmov"
   ]
  },
  {
   "cell_type": "markdown",
   "metadata": {},
   "source": [
    "V tem poglavju želimo izpostaviti vektorizacijo algoritmov. Glede na to kako Python in `numpy` delujeta se je potrebno izogibati zankam. Bistveno hitreje lahko izvajamo izračune, če jih uspemo vektorizirati; to pomeni, da izračune izvajamo na nivoju vektorjev (oz. numeričnih polj) in ne elementov."
   ]
  },
  {
   "cell_type": "markdown",
   "metadata": {
    "slideshow": {
     "slide_type": "subslide"
    }
   },
   "source": [
    "Za primer si najprej pripravimo podatke (dva vektorja dolžine 1000)"
   ]
  },
  {
   "cell_type": "code",
   "execution_count": 406,
   "metadata": {
    "slideshow": {
     "slide_type": "-"
    }
   },
   "outputs": [],
   "source": [
    "N = 1000\n",
    "a = np.arange(N)\n",
    "b = np.arange(N)"
   ]
  },
  {
   "cell_type": "markdown",
   "metadata": {
    "slideshow": {
     "slide_type": "subslide"
    }
   },
   "source": [
    "Izračunajmo skalarni produkt vektorjev z uporabo zanke `for`:"
   ]
  },
  {
   "cell_type": "code",
   "execution_count": 407,
   "metadata": {},
   "outputs": [
    {
     "data": {
      "text/plain": [
       "332833500"
      ]
     },
     "execution_count": 407,
     "metadata": {},
     "output_type": "execute_result"
    }
   ],
   "source": [
    "c = 0\n",
    "for i in range(N):\n",
    "    c += a[i] * b[i]\n",
    "c"
   ]
  },
  {
   "cell_type": "markdown",
   "metadata": {
    "slideshow": {
     "slide_type": "subslide"
    }
   },
   "source": [
    "Izmerimo hitrost:"
   ]
  },
  {
   "cell_type": "code",
   "execution_count": 408,
   "metadata": {
    "slideshow": {
     "slide_type": "-"
    }
   },
   "outputs": [
    {
     "name": "stdout",
     "output_type": "stream",
     "text": [
      "929 µs ± 65.4 µs per loop (mean ± std. dev. of 7 runs, 100 loops each)\n"
     ]
    }
   ],
   "source": [
    "%%timeit -n100\n",
    "c = 0\n",
    "for i in range(N):\n",
    "    c += a[i] * b[i]"
   ]
  },
  {
   "cell_type": "markdown",
   "metadata": {
    "slideshow": {
     "slide_type": "subslide"
    }
   },
   "source": [
    "Isti rezultat pridobimo še v vektorski obliki:"
   ]
  },
  {
   "cell_type": "code",
   "execution_count": 410,
   "metadata": {},
   "outputs": [
    {
     "name": "stdout",
     "output_type": "stream",
     "text": [
      "3.84 µs ± 663 ns per loop (mean ± std. dev. of 7 runs, 100 loops each)\n"
     ]
    }
   ],
   "source": [
    "%%timeit -n100\n",
    "c = a @ b"
   ]
  },
  {
   "cell_type": "markdown",
   "metadata": {},
   "source": [
    "Vidimo, da je vektorski način bistveno hitrejši (za še hitrejši način glejte `numba` v dodatku)!"
   ]
  },
  {
   "cell_type": "markdown",
   "metadata": {
    "slideshow": {
     "slide_type": "slide"
    }
   },
   "source": [
    "# Modul ``matplotlib``"
   ]
  },
  {
   "cell_type": "markdown",
   "metadata": {},
   "source": [
    "V Pythonu imamo več možnosti za prikaz rezultatov v grafični obliki. Najbolj uporabni paketi so:\n",
    "\n",
    "* [`matplotlib`](http://matplotlib.org/) za visoko kakovostne, visoko prilagodljive slike (relativno počasno),\n",
    "* [`pyqtgraph`](http://www.pyqtgraph.org/) za kakovostne in prilagodljive uporabniške vmesnike (zelo hitro),\n",
    "* [`bokeh`](https://bokeh.pydata.org/en/latest/) za interaktiven prikaz v brskalniku (relativno hitro)."
   ]
  },
  {
   "cell_type": "markdown",
   "metadata": {
    "slideshow": {
     "slide_type": "subslide"
    }
   },
   "source": [
    "Obstaja še veliko drugih; dober pregled je naredil Jake VanderPlas na konferenci [PyCon 2017](https://www.youtube.com/watch?v=FytuB8nFHPQ) (sicer avtor paketa za deklerativno vizualizacijo: *Altair*)."
   ]
  },
  {
   "cell_type": "markdown",
   "metadata": {
    "slideshow": {
     "slide_type": "subslide"
    }
   },
   "source": [
    "## Osnovna uporaba\n",
    "\n",
    "Najbolj razširjen in najbolj splošno uporabljen je paket [`matplotlib`](http://matplotlib.org/):\n",
    "<img width=\"400\" src=\"http://matplotlib.org/_static/logo2.svg\">\n",
    "\n",
    "Sposobnosti paketa najbolje prikazuje [galerija](http://matplotlib.org/gallery.html#). Gre za zelo sofisticiran paket in tukaj si bomo na podlagi primerov pogledali nekatere osnove."
   ]
  },
  {
   "cell_type": "markdown",
   "metadata": {
    "slideshow": {
     "slide_type": "subslide"
    }
   },
   "source": [
    "Pri uporabi vam lahko koristi [plonk listek](https://github.com/rougier/matplotlib-cheatsheet):\n",
    "<img width=500 src=\"https://github.com/rougier/matplotlib-cheatsheet/blob/master/matplotlib-cheatsheet.png?raw=true\">"
   ]
  },
  {
   "cell_type": "markdown",
   "metadata": {
    "slideshow": {
     "slide_type": "subslide"
    }
   },
   "source": [
    "Tipično uvozimo `matplotlib.pyplot` kot `plt`:"
   ]
  },
  {
   "cell_type": "code",
   "execution_count": 153,
   "metadata": {},
   "outputs": [],
   "source": [
    "import matplotlib.pyplot as plt"
   ]
  },
  {
   "cell_type": "markdown",
   "metadata": {
    "slideshow": {
     "slide_type": "-"
    }
   },
   "source": [
    "Znotraj *Jupyter notebooka* obstajata dva načina prikaza slike (v oglatem oklepaju je magic ukaz za proženje):\n",
    "\n",
    "1. `[%matplotlib inline]   `: slike so vključene v notebook (**medvrstični** način),\n",
    "1. `[%matplotlib widget]   `: slike so interaktivno vključene v notebook (**medvrstični interaktivni** način), zahteva namestitev paketa **ipympl**,\n",
    "\n",
    "3. `[%matplotlib notebook] `: slike so interaktivno vključene v notebook (**medvrstični interaktivni** način).\n",
    "\n",
    "Opomba: *interaktivni način se v pasivni, spletni/pdf verziji te knjige ne prikaže pravilno*."
   ]
  },
  {
   "cell_type": "markdown",
   "metadata": {
    "slideshow": {
     "slide_type": "subslide"
    }
   },
   "source": [
    "Tukaj bomo najpogosteje uporabljali *medvrstični* način:"
   ]
  },
  {
   "cell_type": "code",
   "execution_count": 154,
   "metadata": {},
   "outputs": [],
   "source": [
    "%matplotlib inline"
   ]
  },
  {
   "cell_type": "markdown",
   "metadata": {
    "slideshow": {
     "slide_type": "subslide"
    }
   },
   "source": [
    "Kratek primer:"
   ]
  },
  {
   "cell_type": "code",
   "execution_count": 155,
   "metadata": {},
   "outputs": [
    {
     "data": {
      "image/png": "[encoded data removed]",
      "text/plain": [
       "<Figure size 432x288 with 1 Axes>"
      ]
     },
     "metadata": {
      "needs_background": "light"
     },
     "output_type": "display_data"
    }
   ],
   "source": [
    "t = np.linspace(1, 130, 44000)\n",
    "žvižg = np.sin(t**2)\n",
    "plt.plot(t, žvižg, label='Žvižg')\n",
    "plt.xlim(1, 10)\n",
    "plt.title('Žvižg: $t^2$ (podpora za LaTeX: $\\\\sqrt{\\\\frac{a}{b}}$)')\n",
    "plt.legend();\n",
    "plt.show()"
   ]
  },
  {
   "cell_type": "markdown",
   "metadata": {
    "slideshow": {
     "slide_type": "subslide"
    }
   },
   "source": [
    "Mimogrede, zakaj to imenujemo žvižg (oz. kvadraten žvižg)? Da dobimo odgovor, podatke predvajamo na zvočnik:"
   ]
  },
  {
   "cell_type": "code",
   "execution_count": 156,
   "metadata": {},
   "outputs": [
    {
     "data": {
      "text/html": [
       "\n",
       "                <audio  controls=\"controls\" >\n",
       "                    <source src=\"data:audio/wav;base64,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\" type=\"audio/wav\" />\n",
       "                    Your browser does not support the audio element.\n",
       "                </audio>\n",
       "              "
      ],
      "text/plain": [
       "<IPython.lib.display.Audio object>"
      ]
     },
     "metadata": {},
     "output_type": "display_data"
    }
   ],
   "source": [
    "from IPython.display import Audio, display\n",
    "display(Audio(data=žvižg, rate=44000))"
   ]
  },
  {
   "cell_type": "markdown",
   "metadata": {
    "slideshow": {
     "slide_type": "subslide"
    }
   },
   "source": [
    "Aktivirajmo sedaj interaktivni način (glejte tudi ``%matplotlib``):"
   ]
  },
  {
   "cell_type": "code",
   "execution_count": 157,
   "metadata": {},
   "outputs": [],
   "source": [
    "%matplotlib notebook\n",
    "%matplotlib notebook"
   ]
  },
  {
   "cell_type": "code",
   "execution_count": 158,
   "metadata": {
    "slideshow": {
     "slide_type": "-"
    }
   },
   "outputs": [
    {
     "data": {
      "application/javascript": [
       "/* Put everything inside the global mpl namespace */\n",
       "/* global mpl */\n",
       "window.mpl = {};\n",
       "\n",
       "mpl.get_websocket_type = function () {\n",
       "    if (typeof WebSocket !== 'undefined') {\n",
       "        return WebSocket;\n",
       "    } else if (typeof MozWebSocket !== 'undefined') {\n",
       "        return MozWebSocket;\n",
       "    } else {\n",
       "        alert(\n",
       "            'Your browser does not have WebSocket support. ' +\n",
       "                'Please try Chrome, Safari or Firefox ≥ 6. ' +\n",
       "                'Firefox 4 and 5 are also supported but you ' +\n",
       "                'have to enable WebSockets in about:config.'\n",
       "        );\n",
       "    }\n",
       "};\n",
       "\n",
       "mpl.figure = function (figure_id, websocket, ondownload, parent_element) {\n",
       "    this.id = figure_id;\n",
       "\n",
       "    this.ws = websocket;\n",
       "\n",
       "    this.supports_binary = this.ws.binaryType !== undefined;\n",
       "\n",
       "    if (!this.supports_binary) {\n",
       "        var warnings = document.getElementById('mpl-warnings');\n",
       "        if (warnings) {\n",
       "            warnings.style.display = 'block';\n",
       "            warnings.textContent =\n",
       "                'This browser does not support binary websocket messages. ' +\n",
       "                'Performance may be slow.';\n",
       "        }\n",
       "    }\n",
       "\n",
       "    this.imageObj = new Image();\n",
       "\n",
       "    this.context = undefined;\n",
       "    this.message = undefined;\n",
       "    this.canvas = undefined;\n",
       "    this.rubberband_canvas = undefined;\n",
       "    this.rubberband_context = undefined;\n",
       "    this.format_dropdown = undefined;\n",
       "\n",
       "    this.image_mode = 'full';\n",
       "\n",
       "    this.root = document.createElement('div');\n",
       "    this.root.setAttribute('style', 'display: inline-block');\n",
       "    this._root_extra_style(this.root);\n",
       "\n",
       "    parent_element.appendChild(this.root);\n",
       "\n",
       "    this._init_header(this);\n",
       "    this._init_canvas(this);\n",
       "    this._init_toolbar(this);\n",
       "\n",
       "    var fig = this;\n",
       "\n",
       "    this.waiting = false;\n",
       "\n",
       "    this.ws.onopen = function () {\n",
       "        fig.send_message('supports_binary', { value: fig.supports_binary });\n",
       "        fig.send_message('send_image_mode', {});\n",
       "        if (fig.ratio !== 1) {\n",
       "            fig.send_message('set_dpi_ratio', { dpi_ratio: fig.ratio });\n",
       "        }\n",
       "        fig.send_message('refresh', {});\n",
       "    };\n",
       "\n",
       "    this.imageObj.onload = function () {\n",
       "        if (fig.image_mode === 'full') {\n",
       "            // Full images could contain transparency (where diff images\n",
       "            // almost always do), so we need to clear the canvas so that\n",
       "            // there is no ghosting.\n",
       "            fig.context.clearRect(0, 0, fig.canvas.width, fig.canvas.height);\n",
       "        }\n",
       "        fig.context.drawImage(fig.imageObj, 0, 0);\n",
       "    };\n",
       "\n",
       "    this.imageObj.onunload = function () {\n",
       "        fig.ws.close();\n",
       "    };\n",
       "\n",
       "    this.ws.onmessage = this._make_on_message_function(this);\n",
       "\n",
       "    this.ondownload = ondownload;\n",
       "};\n",
       "\n",
       "mpl.figure.prototype._init_header = function () {\n",
       "    var titlebar = document.createElement('div');\n",
       "    titlebar.classList =\n",
       "        'ui-dialog-titlebar ui-widget-header ui-corner-all ui-helper-clearfix';\n",
       "    var titletext = document.createElement('div');\n",
       "    titletext.classList = 'ui-dialog-title';\n",
       "    titletext.setAttribute(\n",
       "        'style',\n",
       "        'width: 100%; text-align: center; padding: 3px;'\n",
       "    );\n",
       "    titlebar.appendChild(titletext);\n",
       "    this.root.appendChild(titlebar);\n",
       "    this.header = titletext;\n",
       "};\n",
       "\n",
       "mpl.figure.prototype._canvas_extra_style = function (_canvas_div) {};\n",
       "\n",
       "mpl.figure.prototype._root_extra_style = function (_canvas_div) {};\n",
       "\n",
       "mpl.figure.prototype._init_canvas = function () {\n",
       "    var fig = this;\n",
       "\n",
       "    var canvas_div = (this.canvas_div = document.createElement('div'));\n",
       "    canvas_div.setAttribute(\n",
       "        'style',\n",
       "        'border: 1px solid #ddd;' +\n",
       "            'box-sizing: content-box;' +\n",
       "            'clear: both;' +\n",
       "            'min-height: 1px;' +\n",
       "            'min-width: 1px;' +\n",
       "            'outline: 0;' +\n",
       "            'overflow: hidden;' +\n",
       "            'position: relative;' +\n",
       "            'resize: both;'\n",
       "    );\n",
       "\n",
       "    function on_keyboard_event_closure(name) {\n",
       "        return function (event) {\n",
       "            return fig.key_event(event, name);\n",
       "        };\n",
       "    }\n",
       "\n",
       "    canvas_div.addEventListener(\n",
       "        'keydown',\n",
       "        on_keyboard_event_closure('key_press')\n",
       "    );\n",
       "    canvas_div.addEventListener(\n",
       "        'keyup',\n",
       "        on_keyboard_event_closure('key_release')\n",
       "    );\n",
       "\n",
       "    this._canvas_extra_style(canvas_div);\n",
       "    this.root.appendChild(canvas_div);\n",
       "\n",
       "    var canvas = (this.canvas = document.createElement('canvas'));\n",
       "    canvas.classList.add('mpl-canvas');\n",
       "    canvas.setAttribute('style', 'box-sizing: content-box;');\n",
       "\n",
       "    this.context = canvas.getContext('2d');\n",
       "\n",
       "    var backingStore =\n",
       "        this.context.backingStorePixelRatio ||\n",
       "        this.context.webkitBackingStorePixelRatio ||\n",
       "        this.context.mozBackingStorePixelRatio ||\n",
       "        this.context.msBackingStorePixelRatio ||\n",
       "        this.context.oBackingStorePixelRatio ||\n",
       "        this.context.backingStorePixelRatio ||\n",
       "        1;\n",
       "\n",
       "    this.ratio = (window.devicePixelRatio || 1) / backingStore;\n",
       "\n",
       "    var rubberband_canvas = (this.rubberband_canvas = document.createElement(\n",
       "        'canvas'\n",
       "    ));\n",
       "    rubberband_canvas.setAttribute(\n",
       "        'style',\n",
       "        'box-sizing: content-box; position: absolute; left: 0; top: 0; z-index: 1;'\n",
       "    );\n",
       "\n",
       "    // Apply a ponyfill if ResizeObserver is not implemented by browser.\n",
       "    if (this.ResizeObserver === undefined) {\n",
       "        if (window.ResizeObserver !== undefined) {\n",
       "            this.ResizeObserver = window.ResizeObserver;\n",
       "        } else {\n",
       "            var obs = _JSXTOOLS_RESIZE_OBSERVER({});\n",
       "            this.ResizeObserver = obs.ResizeObserver;\n",
       "        }\n",
       "    }\n",
       "\n",
       "    this.resizeObserverInstance = new this.ResizeObserver(function (entries) {\n",
       "        var nentries = entries.length;\n",
       "        for (var i = 0; i < nentries; i++) {\n",
       "            var entry = entries[i];\n",
       "            var width, height;\n",
       "            if (entry.contentBoxSize) {\n",
       "                if (entry.contentBoxSize instanceof Array) {\n",
       "                    // Chrome 84 implements new version of spec.\n",
       "                    width = entry.contentBoxSize[0].inlineSize;\n",
       "                    height = entry.contentBoxSize[0].blockSize;\n",
       "                } else {\n",
       "                    // Firefox implements old version of spec.\n",
       "                    width = entry.contentBoxSize.inlineSize;\n",
       "                    height = entry.contentBoxSize.blockSize;\n",
       "                }\n",
       "            } else {\n",
       "                // Chrome <84 implements even older version of spec.\n",
       "                width = entry.contentRect.width;\n",
       "                height = entry.contentRect.height;\n",
       "            }\n",
       "\n",
       "            // Keep the size of the canvas and rubber band canvas in sync with\n",
       "            // the canvas container.\n",
       "            if (entry.devicePixelContentBoxSize) {\n",
       "                // Chrome 84 implements new version of spec.\n",
       "                canvas.setAttribute(\n",
       "                    'width',\n",
       "                    entry.devicePixelContentBoxSize[0].inlineSize\n",
       "                );\n",
       "                canvas.setAttribute(\n",
       "                    'height',\n",
       "                    entry.devicePixelContentBoxSize[0].blockSize\n",
       "                );\n",
       "            } else {\n",
       "                canvas.setAttribute('width', width * fig.ratio);\n",
       "                canvas.setAttribute('height', height * fig.ratio);\n",
       "            }\n",
       "            canvas.setAttribute(\n",
       "                'style',\n",
       "                'width: ' + width + 'px; height: ' + height + 'px;'\n",
       "            );\n",
       "\n",
       "            rubberband_canvas.setAttribute('width', width);\n",
       "            rubberband_canvas.setAttribute('height', height);\n",
       "\n",
       "            // And update the size in Python. We ignore the initial 0/0 size\n",
       "            // that occurs as the element is placed into the DOM, which should\n",
       "            // otherwise not happen due to the minimum size styling.\n",
       "            if (fig.ws.readyState == 1 && width != 0 && height != 0) {\n",
       "                fig.request_resize(width, height);\n",
       "            }\n",
       "        }\n",
       "    });\n",
       "    this.resizeObserverInstance.observe(canvas_div);\n",
       "\n",
       "    function on_mouse_event_closure(name) {\n",
       "        return function (event) {\n",
       "            return fig.mouse_event(event, name);\n",
       "        };\n",
       "    }\n",
       "\n",
       "    rubberband_canvas.addEventListener(\n",
       "        'mousedown',\n",
       "        on_mouse_event_closure('button_press')\n",
       "    );\n",
       "    rubberband_canvas.addEventListener(\n",
       "        'mouseup',\n",
       "        on_mouse_event_closure('button_release')\n",
       "    );\n",
       "    // Throttle sequential mouse events to 1 every 20ms.\n",
       "    rubberband_canvas.addEventListener(\n",
       "        'mousemove',\n",
       "        on_mouse_event_closure('motion_notify')\n",
       "    );\n",
       "\n",
       "    rubberband_canvas.addEventListener(\n",
       "        'mouseenter',\n",
       "        on_mouse_event_closure('figure_enter')\n",
       "    );\n",
       "    rubberband_canvas.addEventListener(\n",
       "        'mouseleave',\n",
       "        on_mouse_event_closure('figure_leave')\n",
       "    );\n",
       "\n",
       "    canvas_div.addEventListener('wheel', function (event) {\n",
       "        if (event.deltaY < 0) {\n",
       "            event.step = 1;\n",
       "        } else {\n",
       "            event.step = -1;\n",
       "        }\n",
       "        on_mouse_event_closure('scroll')(event);\n",
       "    });\n",
       "\n",
       "    canvas_div.appendChild(canvas);\n",
       "    canvas_div.appendChild(rubberband_canvas);\n",
       "\n",
       "    this.rubberband_context = rubberband_canvas.getContext('2d');\n",
       "    this.rubberband_context.strokeStyle = '#000000';\n",
       "\n",
       "    this._resize_canvas = function (width, height, forward) {\n",
       "        if (forward) {\n",
       "            canvas_div.style.width = width + 'px';\n",
       "            canvas_div.style.height = height + 'px';\n",
       "        }\n",
       "    };\n",
       "\n",
       "    // Disable right mouse context menu.\n",
       "    this.rubberband_canvas.addEventListener('contextmenu', function (_e) {\n",
       "        event.preventDefault();\n",
       "        return false;\n",
       "    });\n",
       "\n",
       "    function set_focus() {\n",
       "        canvas.focus();\n",
       "        canvas_div.focus();\n",
       "    }\n",
       "\n",
       "    window.setTimeout(set_focus, 100);\n",
       "};\n",
       "\n",
       "mpl.figure.prototype._init_toolbar = function () {\n",
       "    var fig = this;\n",
       "\n",
       "    var toolbar = document.createElement('div');\n",
       "    toolbar.classList = 'mpl-toolbar';\n",
       "    this.root.appendChild(toolbar);\n",
       "\n",
       "    function on_click_closure(name) {\n",
       "        return function (_event) {\n",
       "            return fig.toolbar_button_onclick(name);\n",
       "        };\n",
       "    }\n",
       "\n",
       "    function on_mouseover_closure(tooltip) {\n",
       "        return function (event) {\n",
       "            if (!event.currentTarget.disabled) {\n",
       "                return fig.toolbar_button_onmouseover(tooltip);\n",
       "            }\n",
       "        };\n",
       "    }\n",
       "\n",
       "    fig.buttons = {};\n",
       "    var buttonGroup = document.createElement('div');\n",
       "    buttonGroup.classList = 'mpl-button-group';\n",
       "    for (var toolbar_ind in mpl.toolbar_items) {\n",
       "        var name = mpl.toolbar_items[toolbar_ind][0];\n",
       "        var tooltip = mpl.toolbar_items[toolbar_ind][1];\n",
       "        var image = mpl.toolbar_items[toolbar_ind][2];\n",
       "        var method_name = mpl.toolbar_items[toolbar_ind][3];\n",
       "\n",
       "        if (!name) {\n",
       "            /* Instead of a spacer, we start a new button group. */\n",
       "            if (buttonGroup.hasChildNodes()) {\n",
       "                toolbar.appendChild(buttonGroup);\n",
       "            }\n",
       "            buttonGroup = document.createElement('div');\n",
       "            buttonGroup.classList = 'mpl-button-group';\n",
       "            continue;\n",
       "        }\n",
       "\n",
       "        var button = (fig.buttons[name] = document.createElement('button'));\n",
       "        button.classList = 'mpl-widget';\n",
       "        button.setAttribute('role', 'button');\n",
       "        button.setAttribute('aria-disabled', 'false');\n",
       "        button.addEventListener('click', on_click_closure(method_name));\n",
       "        button.addEventListener('mouseover', on_mouseover_closure(tooltip));\n",
       "\n",
       "        var icon_img = document.createElement('img');\n",
       "        icon_img.src = '_images/' + image + '.png';\n",
       "        icon_img.srcset = '_images/' + image + '_large.png 2x';\n",
       "        icon_img.alt = tooltip;\n",
       "        button.appendChild(icon_img);\n",
       "\n",
       "        buttonGroup.appendChild(button);\n",
       "    }\n",
       "\n",
       "    if (buttonGroup.hasChildNodes()) {\n",
       "        toolbar.appendChild(buttonGroup);\n",
       "    }\n",
       "\n",
       "    var fmt_picker = document.createElement('select');\n",
       "    fmt_picker.classList = 'mpl-widget';\n",
       "    toolbar.appendChild(fmt_picker);\n",
       "    this.format_dropdown = fmt_picker;\n",
       "\n",
       "    for (var ind in mpl.extensions) {\n",
       "        var fmt = mpl.extensions[ind];\n",
       "        var option = document.createElement('option');\n",
       "        option.selected = fmt === mpl.default_extension;\n",
       "        option.innerHTML = fmt;\n",
       "        fmt_picker.appendChild(option);\n",
       "    }\n",
       "\n",
       "    var status_bar = document.createElement('span');\n",
       "    status_bar.classList = 'mpl-message';\n",
       "    toolbar.appendChild(status_bar);\n",
       "    this.message = status_bar;\n",
       "};\n",
       "\n",
       "mpl.figure.prototype.request_resize = function (x_pixels, y_pixels) {\n",
       "    // Request matplotlib to resize the figure. Matplotlib will then trigger a resize in the client,\n",
       "    // which will in turn request a refresh of the image.\n",
       "    this.send_message('resize', { width: x_pixels, height: y_pixels });\n",
       "};\n",
       "\n",
       "mpl.figure.prototype.send_message = function (type, properties) {\n",
       "    properties['type'] = type;\n",
       "    properties['figure_id'] = this.id;\n",
       "    this.ws.send(JSON.stringify(properties));\n",
       "};\n",
       "\n",
       "mpl.figure.prototype.send_draw_message = function () {\n",
       "    if (!this.waiting) {\n",
       "        this.waiting = true;\n",
       "        this.ws.send(JSON.stringify({ type: 'draw', figure_id: this.id }));\n",
       "    }\n",
       "};\n",
       "\n",
       "mpl.figure.prototype.handle_save = function (fig, _msg) {\n",
       "    var format_dropdown = fig.format_dropdown;\n",
       "    var format = format_dropdown.options[format_dropdown.selectedIndex].value;\n",
       "    fig.ondownload(fig, format);\n",
       "};\n",
       "\n",
       "mpl.figure.prototype.handle_resize = function (fig, msg) {\n",
       "    var size = msg['size'];\n",
       "    if (size[0] !== fig.canvas.width || size[1] !== fig.canvas.height) {\n",
       "        fig._resize_canvas(size[0], size[1], msg['forward']);\n",
       "        fig.send_message('refresh', {});\n",
       "    }\n",
       "};\n",
       "\n",
       "mpl.figure.prototype.handle_rubberband = function (fig, msg) {\n",
       "    var x0 = msg['x0'] / fig.ratio;\n",
       "    var y0 = (fig.canvas.height - msg['y0']) / fig.ratio;\n",
       "    var x1 = msg['x1'] / fig.ratio;\n",
       "    var y1 = (fig.canvas.height - msg['y1']) / fig.ratio;\n",
       "    x0 = Math.floor(x0) + 0.5;\n",
       "    y0 = Math.floor(y0) + 0.5;\n",
       "    x1 = Math.floor(x1) + 0.5;\n",
       "    y1 = Math.floor(y1) + 0.5;\n",
       "    var min_x = Math.min(x0, x1);\n",
       "    var min_y = Math.min(y0, y1);\n",
       "    var width = Math.abs(x1 - x0);\n",
       "    var height = Math.abs(y1 - y0);\n",
       "\n",
       "    fig.rubberband_context.clearRect(\n",
       "        0,\n",
       "        0,\n",
       "        fig.canvas.width / fig.ratio,\n",
       "        fig.canvas.height / fig.ratio\n",
       "    );\n",
       "\n",
       "    fig.rubberband_context.strokeRect(min_x, min_y, width, height);\n",
       "};\n",
       "\n",
       "mpl.figure.prototype.handle_figure_label = function (fig, msg) {\n",
       "    // Updates the figure title.\n",
       "    fig.header.textContent = msg['label'];\n",
       "};\n",
       "\n",
       "mpl.figure.prototype.handle_cursor = function (fig, msg) {\n",
       "    var cursor = msg['cursor'];\n",
       "    switch (cursor) {\n",
       "        case 0:\n",
       "            cursor = 'pointer';\n",
       "            break;\n",
       "        case 1:\n",
       "            cursor = 'default';\n",
       "            break;\n",
       "        case 2:\n",
       "            cursor = 'crosshair';\n",
       "            break;\n",
       "        case 3:\n",
       "            cursor = 'move';\n",
       "            break;\n",
       "    }\n",
       "    fig.rubberband_canvas.style.cursor = cursor;\n",
       "};\n",
       "\n",
       "mpl.figure.prototype.handle_message = function (fig, msg) {\n",
       "    fig.message.textContent = msg['message'];\n",
       "};\n",
       "\n",
       "mpl.figure.prototype.handle_draw = function (fig, _msg) {\n",
       "    // Request the server to send over a new figure.\n",
       "    fig.send_draw_message();\n",
       "};\n",
       "\n",
       "mpl.figure.prototype.handle_image_mode = function (fig, msg) {\n",
       "    fig.image_mode = msg['mode'];\n",
       "};\n",
       "\n",
       "mpl.figure.prototype.handle_history_buttons = function (fig, msg) {\n",
       "    for (var key in msg) {\n",
       "        if (!(key in fig.buttons)) {\n",
       "            continue;\n",
       "        }\n",
       "        fig.buttons[key].disabled = !msg[key];\n",
       "        fig.buttons[key].setAttribute('aria-disabled', !msg[key]);\n",
       "    }\n",
       "};\n",
       "\n",
       "mpl.figure.prototype.handle_navigate_mode = function (fig, msg) {\n",
       "    if (msg['mode'] === 'PAN') {\n",
       "        fig.buttons['Pan'].classList.add('active');\n",
       "        fig.buttons['Zoom'].classList.remove('active');\n",
       "    } else if (msg['mode'] === 'ZOOM') {\n",
       "        fig.buttons['Pan'].classList.remove('active');\n",
       "        fig.buttons['Zoom'].classList.add('active');\n",
       "    } else {\n",
       "        fig.buttons['Pan'].classList.remove('active');\n",
       "        fig.buttons['Zoom'].classList.remove('active');\n",
       "    }\n",
       "};\n",
       "\n",
       "mpl.figure.prototype.updated_canvas_event = function () {\n",
       "    // Called whenever the canvas gets updated.\n",
       "    this.send_message('ack', {});\n",
       "};\n",
       "\n",
       "// A function to construct a web socket function for onmessage handling.\n",
       "// Called in the figure constructor.\n",
       "mpl.figure.prototype._make_on_message_function = function (fig) {\n",
       "    return function socket_on_message(evt) {\n",
       "        if (evt.data instanceof Blob) {\n",
       "            /* FIXME: We get \"Resource interpreted as Image but\n",
       "             * transferred with MIME type text/plain:\" errors on\n",
       "             * Chrome.  But how to set the MIME type?  It doesn't seem\n",
       "             * to be part of the websocket stream */\n",
       "            evt.data.type = 'image/png';\n",
       "\n",
       "            /* Free the memory for the previous frames */\n",
       "            if (fig.imageObj.src) {\n",
       "                (window.URL || window.webkitURL).revokeObjectURL(\n",
       "                    fig.imageObj.src\n",
       "                );\n",
       "            }\n",
       "\n",
       "            fig.imageObj.src = (window.URL || window.webkitURL).createObjectURL(\n",
       "                evt.data\n",
       "            );\n",
       "            fig.updated_canvas_event();\n",
       "            fig.waiting = false;\n",
       "            return;\n",
       "        } else if (\n",
       "            typeof evt.data === 'string' &&\n",
       "            evt.data.slice(0, 21) === 'data:image/png;base64'\n",
       "        ) {\n",
       "            fig.imageObj.src = evt.data;\n",
       "            fig.updated_canvas_event();\n",
       "            fig.waiting = false;\n",
       "            return;\n",
       "        }\n",
       "\n",
       "        var msg = JSON.parse(evt.data);\n",
       "        var msg_type = msg['type'];\n",
       "\n",
       "        // Call the  \"handle_{type}\" callback, which takes\n",
       "        // the figure and JSON message as its only arguments.\n",
       "        try {\n",
       "            var callback = fig['handle_' + msg_type];\n",
       "        } catch (e) {\n",
       "            console.log(\n",
       "                \"No handler for the '\" + msg_type + \"' message type: \",\n",
       "                msg\n",
       "            );\n",
       "            return;\n",
       "        }\n",
       "\n",
       "        if (callback) {\n",
       "            try {\n",
       "                // console.log(\"Handling '\" + msg_type + \"' message: \", msg);\n",
       "                callback(fig, msg);\n",
       "            } catch (e) {\n",
       "                console.log(\n",
       "                    \"Exception inside the 'handler_\" + msg_type + \"' callback:\",\n",
       "                    e,\n",
       "                    e.stack,\n",
       "                    msg\n",
       "                );\n",
       "            }\n",
       "        }\n",
       "    };\n",
       "};\n",
       "\n",
       "// from http://stackoverflow.com/questions/1114465/getting-mouse-location-in-canvas\n",
       "mpl.findpos = function (e) {\n",
       "    //this section is from http://www.quirksmode.org/js/events_properties.html\n",
       "    var targ;\n",
       "    if (!e) {\n",
       "        e = window.event;\n",
       "    }\n",
       "    if (e.target) {\n",
       "        targ = e.target;\n",
       "    } else if (e.srcElement) {\n",
       "        targ = e.srcElement;\n",
       "    }\n",
       "    if (targ.nodeType === 3) {\n",
       "        // defeat Safari bug\n",
       "        targ = targ.parentNode;\n",
       "    }\n",
       "\n",
       "    // pageX,Y are the mouse positions relative to the document\n",
       "    var boundingRect = targ.getBoundingClientRect();\n",
       "    var x = e.pageX - (boundingRect.left + document.body.scrollLeft);\n",
       "    var y = e.pageY - (boundingRect.top + document.body.scrollTop);\n",
       "\n",
       "    return { x: x, y: y };\n",
       "};\n",
       "\n",
       "/*\n",
       " * return a copy of an object with only non-object keys\n",
       " * we need this to avoid circular references\n",
       " * http://stackoverflow.com/a/24161582/3208463\n",
       " */\n",
       "function simpleKeys(original) {\n",
       "    return Object.keys(original).reduce(function (obj, key) {\n",
       "        if (typeof original[key] !== 'object') {\n",
       "            obj[key] = original[key];\n",
       "        }\n",
       "        return obj;\n",
       "    }, {});\n",
       "}\n",
       "\n",
       "mpl.figure.prototype.mouse_event = function (event, name) {\n",
       "    var canvas_pos = mpl.findpos(event);\n",
       "\n",
       "    if (name === 'button_press') {\n",
       "        this.canvas.focus();\n",
       "        this.canvas_div.focus();\n",
       "    }\n",
       "\n",
       "    var x = canvas_pos.x * this.ratio;\n",
       "    var y = canvas_pos.y * this.ratio;\n",
       "\n",
       "    this.send_message(name, {\n",
       "        x: x,\n",
       "        y: y,\n",
       "        button: event.button,\n",
       "        step: event.step,\n",
       "        guiEvent: simpleKeys(event),\n",
       "    });\n",
       "\n",
       "    /* This prevents the web browser from automatically changing to\n",
       "     * the text insertion cursor when the button is pressed.  We want\n",
       "     * to control all of the cursor setting manually through the\n",
       "     * 'cursor' event from matplotlib */\n",
       "    event.preventDefault();\n",
       "    return false;\n",
       "};\n",
       "\n",
       "mpl.figure.prototype._key_event_extra = function (_event, _name) {\n",
       "    // Handle any extra behaviour associated with a key event\n",
       "};\n",
       "\n",
       "mpl.figure.prototype.key_event = function (event, name) {\n",
       "    // Prevent repeat events\n",
       "    if (name === 'key_press') {\n",
       "        if (event.which === this._key) {\n",
       "            return;\n",
       "        } else {\n",
       "            this._key = event.which;\n",
       "        }\n",
       "    }\n",
       "    if (name === 'key_release') {\n",
       "        this._key = null;\n",
       "    }\n",
       "\n",
       "    var value = '';\n",
       "    if (event.ctrlKey && event.which !== 17) {\n",
       "        value += 'ctrl+';\n",
       "    }\n",
       "    if (event.altKey && event.which !== 18) {\n",
       "        value += 'alt+';\n",
       "    }\n",
       "    if (event.shiftKey && event.which !== 16) {\n",
       "        value += 'shift+';\n",
       "    }\n",
       "\n",
       "    value += 'k';\n",
       "    value += event.which.toString();\n",
       "\n",
       "    this._key_event_extra(event, name);\n",
       "\n",
       "    this.send_message(name, { key: value, guiEvent: simpleKeys(event) });\n",
       "    return false;\n",
       "};\n",
       "\n",
       "mpl.figure.prototype.toolbar_button_onclick = function (name) {\n",
       "    if (name === 'download') {\n",
       "        this.handle_save(this, null);\n",
       "    } else {\n",
       "        this.send_message('toolbar_button', { name: name });\n",
       "    }\n",
       "};\n",
       "\n",
       "mpl.figure.prototype.toolbar_button_onmouseover = function (tooltip) {\n",
       "    this.message.textContent = tooltip;\n",
       "};\n",
       "\n",
       "///////////////// REMAINING CONTENT GENERATED BY embed_js.py /////////////////\n",
       "// prettier-ignore\n",
       "var _JSXTOOLS_RESIZE_OBSERVER=function(A){var t,i=new WeakMap,n=new WeakMap,a=new WeakMap,r=new WeakMap,o=new Set;function s(e){if(!(this instanceof s))throw new TypeError(\"Constructor requires 'new' operator\");i.set(this,e)}function h(){throw new TypeError(\"Function is not a constructor\")}function c(e,t,i,n){e=0 in arguments?Number(arguments[0]):0,t=1 in arguments?Number(arguments[1]):0,i=2 in arguments?Number(arguments[2]):0,n=3 in arguments?Number(arguments[3]):0,this.right=(this.x=this.left=e)+(this.width=i),this.bottom=(this.y=this.top=t)+(this.height=n),Object.freeze(this)}function d(){t=requestAnimationFrame(d);var s=new WeakMap,p=new Set;o.forEach((function(t){r.get(t).forEach((function(i){var r=t instanceof window.SVGElement,o=a.get(t),d=r?0:parseFloat(o.paddingTop),f=r?0:parseFloat(o.paddingRight),l=r?0:parseFloat(o.paddingBottom),u=r?0:parseFloat(o.paddingLeft),g=r?0:parseFloat(o.borderTopWidth),m=r?0:parseFloat(o.borderRightWidth),w=r?0:parseFloat(o.borderBottomWidth),b=u+f,F=d+l,v=(r?0:parseFloat(o.borderLeftWidth))+m,W=g+w,y=r?0:t.offsetHeight-W-t.clientHeight,E=r?0:t.offsetWidth-v-t.clientWidth,R=b+v,z=F+W,M=r?t.width:parseFloat(o.width)-R-E,O=r?t.height:parseFloat(o.height)-z-y;if(n.has(t)){var k=n.get(t);if(k[0]===M&&k[1]===O)return}n.set(t,[M,O]);var S=Object.create(h.prototype);S.target=t,S.contentRect=new c(u,d,M,O),s.has(i)||(s.set(i,[]),p.add(i)),s.get(i).push(S)}))})),p.forEach((function(e){i.get(e).call(e,s.get(e),e)}))}return s.prototype.observe=function(i){if(i instanceof window.Element){r.has(i)||(r.set(i,new Set),o.add(i),a.set(i,window.getComputedStyle(i)));var n=r.get(i);n.has(this)||n.add(this),cancelAnimationFrame(t),t=requestAnimationFrame(d)}},s.prototype.unobserve=function(i){if(i instanceof window.Element&&r.has(i)){var n=r.get(i);n.has(this)&&(n.delete(this),n.size||(r.delete(i),o.delete(i))),n.size||r.delete(i),o.size||cancelAnimationFrame(t)}},A.DOMRectReadOnly=c,A.ResizeObserver=s,A.ResizeObserverEntry=h,A}; // eslint-disable-line\n",
       "mpl.toolbar_items = [[\"Home\", \"Reset original view\", \"fa fa-home icon-home\", \"home\"], [\"Back\", \"Back to previous view\", \"fa fa-arrow-left icon-arrow-left\", \"back\"], [\"Forward\", \"Forward to next view\", \"fa fa-arrow-right icon-arrow-right\", \"forward\"], [\"\", \"\", \"\", \"\"], [\"Pan\", \"Left button pans, Right button zooms\\nx/y fixes axis, CTRL fixes aspect\", \"fa fa-arrows icon-move\", \"pan\"], [\"Zoom\", \"Zoom to rectangle\\nx/y fixes axis, CTRL fixes aspect\", \"fa fa-square-o icon-check-empty\", \"zoom\"], [\"\", \"\", \"\", \"\"], [\"Download\", \"Download plot\", \"fa fa-floppy-o icon-save\", \"download\"]];\n",
       "\n",
       "mpl.extensions = [\"eps\", \"jpeg\", \"pdf\", \"png\", \"ps\", \"raw\", \"svg\", \"tif\"];\n",
       "\n",
       "mpl.default_extension = \"png\";/* global mpl */\n",
       "\n",
       "var comm_websocket_adapter = function (comm) {\n",
       "    // Create a \"websocket\"-like object which calls the given IPython comm\n",
       "    // object with the appropriate methods. Currently this is a non binary\n",
       "    // socket, so there is still some room for performance tuning.\n",
       "    var ws = {};\n",
       "\n",
       "    ws.close = function () {\n",
       "        comm.close();\n",
       "    };\n",
       "    ws.send = function (m) {\n",
       "        //console.log('sending', m);\n",
       "        comm.send(m);\n",
       "    };\n",
       "    // Register the callback with on_msg.\n",
       "    comm.on_msg(function (msg) {\n",
       "        //console.log('receiving', msg['content']['data'], msg);\n",
       "        // Pass the mpl event to the overridden (by mpl) onmessage function.\n",
       "        ws.onmessage(msg['content']['data']);\n",
       "    });\n",
       "    return ws;\n",
       "};\n",
       "\n",
       "mpl.mpl_figure_comm = function (comm, msg) {\n",
       "    // This is the function which gets called when the mpl process\n",
       "    // starts-up an IPython Comm through the \"matplotlib\" channel.\n",
       "\n",
       "    var id = msg.content.data.id;\n",
       "    // Get hold of the div created by the display call when the Comm\n",
       "    // socket was opened in Python.\n",
       "    var element = document.getElementById(id);\n",
       "    var ws_proxy = comm_websocket_adapter(comm);\n",
       "\n",
       "    function ondownload(figure, _format) {\n",
       "        window.open(figure.canvas.toDataURL());\n",
       "    }\n",
       "\n",
       "    var fig = new mpl.figure(id, ws_proxy, ondownload, element);\n",
       "\n",
       "    // Call onopen now - mpl needs it, as it is assuming we've passed it a real\n",
       "    // web socket which is closed, not our websocket->open comm proxy.\n",
       "    ws_proxy.onopen();\n",
       "\n",
       "    fig.parent_element = element;\n",
       "    fig.cell_info = mpl.find_output_cell(\"<div id='\" + id + \"'></div>\");\n",
       "    if (!fig.cell_info) {\n",
       "        console.error('Failed to find cell for figure', id, fig);\n",
       "        return;\n",
       "    }\n",
       "    fig.cell_info[0].output_area.element.on(\n",
       "        'cleared',\n",
       "        { fig: fig },\n",
       "        fig._remove_fig_handler\n",
       "    );\n",
       "};\n",
       "\n",
       "mpl.figure.prototype.handle_close = function (fig, msg) {\n",
       "    var width = fig.canvas.width / fig.ratio;\n",
       "    fig.cell_info[0].output_area.element.off(\n",
       "        'cleared',\n",
       "        fig._remove_fig_handler\n",
       "    );\n",
       "    fig.resizeObserverInstance.unobserve(fig.canvas_div);\n",
       "\n",
       "    // Update the output cell to use the data from the current canvas.\n",
       "    fig.push_to_output();\n",
       "    var dataURL = fig.canvas.toDataURL();\n",
       "    // Re-enable the keyboard manager in IPython - without this line, in FF,\n",
       "    // the notebook keyboard shortcuts fail.\n",
       "    IPython.keyboard_manager.enable();\n",
       "    fig.parent_element.innerHTML =\n",
       "        '<img src=\"' + dataURL + '\" width=\"' + width + '\">';\n",
       "    fig.close_ws(fig, msg);\n",
       "};\n",
       "\n",
       "mpl.figure.prototype.close_ws = function (fig, msg) {\n",
       "    fig.send_message('closing', msg);\n",
       "    // fig.ws.close()\n",
       "};\n",
       "\n",
       "mpl.figure.prototype.push_to_output = function (_remove_interactive) {\n",
       "    // Turn the data on the canvas into data in the output cell.\n",
       "    var width = this.canvas.width / this.ratio;\n",
       "    var dataURL = this.canvas.toDataURL();\n",
       "    this.cell_info[1]['text/html'] =\n",
       "        '<img src=\"' + dataURL + '\" width=\"' + width + '\">';\n",
       "};\n",
       "\n",
       "mpl.figure.prototype.updated_canvas_event = function () {\n",
       "    // Tell IPython that the notebook contents must change.\n",
       "    IPython.notebook.set_dirty(true);\n",
       "    this.send_message('ack', {});\n",
       "    var fig = this;\n",
       "    // Wait a second, then push the new image to the DOM so\n",
       "    // that it is saved nicely (might be nice to debounce this).\n",
       "    setTimeout(function () {\n",
       "        fig.push_to_output();\n",
       "    }, 1000);\n",
       "};\n",
       "\n",
       "mpl.figure.prototype._init_toolbar = function () {\n",
       "    var fig = this;\n",
       "\n",
       "    var toolbar = document.createElement('div');\n",
       "    toolbar.classList = 'btn-toolbar';\n",
       "    this.root.appendChild(toolbar);\n",
       "\n",
       "    function on_click_closure(name) {\n",
       "        return function (_event) {\n",
       "            return fig.toolbar_button_onclick(name);\n",
       "        };\n",
       "    }\n",
       "\n",
       "    function on_mouseover_closure(tooltip) {\n",
       "        return function (event) {\n",
       "            if (!event.currentTarget.disabled) {\n",
       "                return fig.toolbar_button_onmouseover(tooltip);\n",
       "            }\n",
       "        };\n",
       "    }\n",
       "\n",
       "    fig.buttons = {};\n",
       "    var buttonGroup = document.createElement('div');\n",
       "    buttonGroup.classList = 'btn-group';\n",
       "    var button;\n",
       "    for (var toolbar_ind in mpl.toolbar_items) {\n",
       "        var name = mpl.toolbar_items[toolbar_ind][0];\n",
       "        var tooltip = mpl.toolbar_items[toolbar_ind][1];\n",
       "        var image = mpl.toolbar_items[toolbar_ind][2];\n",
       "        var method_name = mpl.toolbar_items[toolbar_ind][3];\n",
       "\n",
       "        if (!name) {\n",
       "            /* Instead of a spacer, we start a new button group. */\n",
       "            if (buttonGroup.hasChildNodes()) {\n",
       "                toolbar.appendChild(buttonGroup);\n",
       "            }\n",
       "            buttonGroup = document.createElement('div');\n",
       "            buttonGroup.classList = 'btn-group';\n",
       "            continue;\n",
       "        }\n",
       "\n",
       "        button = fig.buttons[name] = document.createElement('button');\n",
       "        button.classList = 'btn btn-default';\n",
       "        button.href = '#';\n",
       "        button.title = name;\n",
       "        button.innerHTML = '<i class=\"fa ' + image + ' fa-lg\"></i>';\n",
       "        button.addEventListener('click', on_click_closure(method_name));\n",
       "        button.addEventListener('mouseover', on_mouseover_closure(tooltip));\n",
       "        buttonGroup.appendChild(button);\n",
       "    }\n",
       "\n",
       "    if (buttonGroup.hasChildNodes()) {\n",
       "        toolbar.appendChild(buttonGroup);\n",
       "    }\n",
       "\n",
       "    // Add the status bar.\n",
       "    var status_bar = document.createElement('span');\n",
       "    status_bar.classList = 'mpl-message pull-right';\n",
       "    toolbar.appendChild(status_bar);\n",
       "    this.message = status_bar;\n",
       "\n",
       "    // Add the close button to the window.\n",
       "    var buttongrp = document.createElement('div');\n",
       "    buttongrp.classList = 'btn-group inline pull-right';\n",
       "    button = document.createElement('button');\n",
       "    button.classList = 'btn btn-mini btn-primary';\n",
       "    button.href = '#';\n",
       "    button.title = 'Stop Interaction';\n",
       "    button.innerHTML = '<i class=\"fa fa-power-off icon-remove icon-large\"></i>';\n",
       "    button.addEventListener('click', function (_evt) {\n",
       "        fig.handle_close(fig, {});\n",
       "    });\n",
       "    button.addEventListener(\n",
       "        'mouseover',\n",
       "        on_mouseover_closure('Stop Interaction')\n",
       "    );\n",
       "    buttongrp.appendChild(button);\n",
       "    var titlebar = this.root.querySelector('.ui-dialog-titlebar');\n",
       "    titlebar.insertBefore(buttongrp, titlebar.firstChild);\n",
       "};\n",
       "\n",
       "mpl.figure.prototype._remove_fig_handler = function (event) {\n",
       "    var fig = event.data.fig;\n",
       "    if (event.target !== this) {\n",
       "        // Ignore bubbled events from children.\n",
       "        return;\n",
       "    }\n",
       "    fig.close_ws(fig, {});\n",
       "};\n",
       "\n",
       "mpl.figure.prototype._root_extra_style = function (el) {\n",
       "    el.style.boxSizing = 'content-box'; // override notebook setting of border-box.\n",
       "};\n",
       "\n",
       "mpl.figure.prototype._canvas_extra_style = function (el) {\n",
       "    // this is important to make the div 'focusable\n",
       "    el.setAttribute('tabindex', 0);\n",
       "    // reach out to IPython and tell the keyboard manager to turn it's self\n",
       "    // off when our div gets focus\n",
       "\n",
       "    // location in version 3\n",
       "    if (IPython.notebook.keyboard_manager) {\n",
       "        IPython.notebook.keyboard_manager.register_events(el);\n",
       "    } else {\n",
       "        // location in version 2\n",
       "        IPython.keyboard_manager.register_events(el);\n",
       "    }\n",
       "};\n",
       "\n",
       "mpl.figure.prototype._key_event_extra = function (event, _name) {\n",
       "    var manager = IPython.notebook.keyboard_manager;\n",
       "    if (!manager) {\n",
       "        manager = IPython.keyboard_manager;\n",
       "    }\n",
       "\n",
       "    // Check for shift+enter\n",
       "    if (event.shiftKey && event.which === 13) {\n",
       "        this.canvas_div.blur();\n",
       "        // select the cell after this one\n",
       "        var index = IPython.notebook.find_cell_index(this.cell_info[0]);\n",
       "        IPython.notebook.select(index + 1);\n",
       "    }\n",
       "};\n",
       "\n",
       "mpl.figure.prototype.handle_save = function (fig, _msg) {\n",
       "    fig.ondownload(fig, null);\n",
       "};\n",
       "\n",
       "mpl.find_output_cell = function (html_output) {\n",
       "    // Return the cell and output element which can be found *uniquely* in the notebook.\n",
       "    // Note - this is a bit hacky, but it is done because the \"notebook_saving.Notebook\"\n",
       "    // IPython event is triggered only after the cells have been serialised, which for\n",
       "    // our purposes (turning an active figure into a static one), is too late.\n",
       "    var cells = IPython.notebook.get_cells();\n",
       "    var ncells = cells.length;\n",
       "    for (var i = 0; i < ncells; i++) {\n",
       "        var cell = cells[i];\n",
       "        if (cell.cell_type === 'code') {\n",
       "            for (var j = 0; j < cell.output_area.outputs.length; j++) {\n",
       "                var data = cell.output_area.outputs[j];\n",
       "                if (data.data) {\n",
       "                    // IPython >= 3 moved mimebundle to data attribute of output\n",
       "                    data = data.data;\n",
       "                }\n",
       "                if (data['text/html'] === html_output) {\n",
       "                    return [cell, data, j];\n",
       "                }\n",
       "            }\n",
       "        }\n",
       "    }\n",
       "};\n",
       "\n",
       "// Register the function which deals with the matplotlib target/channel.\n",
       "// The kernel may be null if the page has been refreshed.\n",
       "if (IPython.notebook.kernel !== null) {\n",
       "    IPython.notebook.kernel.comm_manager.register_target(\n",
       "        'matplotlib',\n",
       "        mpl.mpl_figure_comm\n",
       "    );\n",
       "}\n"
      ],
      "text/plain": [
       "<IPython.core.display.Javascript object>"
      ]
     },
     "metadata": {},
     "output_type": "display_data"
    },
    {
     "data": {
      "text/html": [
       "<img src=\"data:image/png;base64,iVBORw0KGgoAAAANSUhEUgAADEwAAAgyCAYAAADPSuE6AAAgAElEQVR4XuzdCZjlV10n7k+v6WydrbMn3RW2BAiEELJ1qwgCIoKyS9iSdhudcfmr4zpuuOtfccZxHMclnRAWWSKLoiAiIOm0SQgQCJCwpJfsSWdPOp3eap5v/JVea+reutV1q+ou73keH7r7nt9Z3nPuTZXP+dyzKAoBAgQIECBAgAABAgQIECBAgAABAgQIECBAgAABAgQIECBAgAABAgQIECBAgAABAgQIECBAYMgEFg3ZfEyHAAECBAgQIECAAAECBAgQIECAAAECBAgQIECAAAECBAgQIECAAAECBAgQIECAAAECBAgQIBCBCZuAAAECBAgQIECAAAECBAgQIECAAAECBAgQIECAAAECBAgQIECAAAECBAgQIECAAAECBAgQGDoBgYmhW1ITIkCAAAECBAgQIECAAAECBAgQIECAAAECBAgQIECAAAECBAgQIECAAAECBAgQIECAAAECBAQm7AECBAgQIECAAAECBAgQIECAAAECBAgQIECAAAECBAgQIECAAAECBAgQIECAAAECBAgQIEBg6AQEJoZuSU2IAAECBAgQIECAAAECBAgQIECAAAECBAgQIECAAAECBAgQIECAAAECBAgQIECAAAECBAgQEJiwBwgQIECAAAECBAgQIECAAAECBAgQIECAAAECBAgQIECAAAECBAgQIECAAAECBAgQIECAAIGhExCYGLolNSECBAgQIECAAAECBAgQIECAAAECBAgQIECAAAECBAgQIECAAAECBAgQIECAAAECBAgQIEBAYMIeIECAAAECBAgQIECAAAECBAgQIECAAAECBAgQIECAAAECBAgQIECAAAECBAgQIECAAAECBIZOQGBi6JbUhAgQIECAAAECBAgQIECAAAECBAgQIECAAAECBAgQIECAAAECBAgQIECAAAECBAgQIECAAAGBCXuAAAECBAgQIECAAAECBAgQIECAAAECBAgQIECAAAECBAgQIECAAAECBAgQIECAAAECBAgQGDoBgYmhW1ITIkCAAAECBAgQIECAAAECBAgQIECAAAECBAgQIECAAAECBAgQIECAAAECBAgQIECAAAECBAQm7AECBAgQIECAAAECBAgQIECAAAECBAgQIECAAAECBAgQIECAAAECBAgQIECAAAECBAgQIEBg6AQEJoZuSU2IAAECBAgQIECAAAECBAgQIECAAAECBAgQIECAAAECBAgQIECAAAECBAgQIECAAAECBAgQEJiwBwgQIECAAAECBAgQIECAAAECBAgQIECAAAECBAgQIECAAAECBAgQIECAAAECBAgQIECAAIGhExCYGLolNSECBAgQIECAAAECBAgQIECAAAECBAgQIECAAAECBAgQIECAAAECBAgQIECAAAECBAgQIEBAYMIeIECAAAECBAgQIECAAAECBAgQIECAAAECBAgQIECAAAECBAgQIECAAAECBAgQIECAAAECBIZOQGBi6JbUhAgQIECAAAECBAgQIECAAAECBAgQIECAAAECBAgQIECAAAECBAgQIECAAAECBAgQIECAAAGBCXuAAAECBAgQIECAAAECBAgQIECAAAECBAgQIECAAAECBAgQIECAAAECBAgQIECAAAECBAgQGDoBgYmhW1ITIkCAAAECBAgQIECAAAECBAgQIECAAAECBAgQIECAAAECBAgQIECAAAECBAgQIECAAAECBAQm7AECBAgQIECAAAECBAgQIECAAAECBAgQIECAAAECBAgQIECAAAECBAgQIECAAAECBAgQIEBg6AQEJoZuSU2IAAECBAgQIECAAAECBAgQIECAAAECBAgQIECAAAECBAgQIECAAAECBAgQIECAAAECBAgQEJiwBwgQIECAAAECBAgQIECAAAECBAgQIECAAAECBAgQIECAAAECBAgQIECAAAECBAgQIECAAIGhExCYGLolNSECBAgQIECAAAECBAgQIECAAAECBAgQIECAAAECBAgQIECAAAECBAgQIECAAAECBAgQIEBAYMIeIECAAAECBAgQIECAAAECBAgQIECAAAECBAgQIECAAAECBAgQIECAAAECBAgQIECAAAECBIZOQGBi6JbUhAgQIECAAAECBAgQIECAAAECBAgQIECAAAECBAgQIECAAAECBAgQIECAAAECBAgQIECAAAGBCXuAAAECBAgQIECAAAECBAgQIECAAAECBAgQIECAAAECBAgQIECAAAECBAgQIECAAAECBAgQGDoBgYmhW1ITIkCAAAECBAgQIECAAAECBAgQIECAAAECBAgQIECAAAECBAgQIECAAAECBAgQIECAAAECBAQm7AECBAgQIECAAAECBAgQIECAAAECBAgQIECAAAECBAgQIECAAAECBAgQIECAAAECBAgQIEBg6AQEJoZuSU2IAAECBAgQIECAAAECBAgQIECAAAECBAgQIECAAAECBAgQIECAAAECBAgQIECAAAECBAgQEJiwBwgQIECAAAECBAgQIECAAAECBAgQIECAAAECBAgQIECAAAECBAgQIECAAAECBAgQIECAAIGhExCYGLolNSECBAgQIECAAAECBAgQIECAAAECBAgQIECAAAECBAgQIECAAAECBAgQIECAAAECBAgQIEBAYMIeIECAAAECBAgQIECAAAECBAgQIECAAAECBAgQIECAAAECBAgQIECAAAECBAgQIECAAAECBIZOQGBi6JbUhAgQIECAAAECBAgQIECAAAECBAgQIECAAAECBAgQIECAAAECBAgQIECAAAECBAgQIECAAAGBCXuAAAECBAgQIECAAAECBAgQIECAAAECBAgQIECAAAECBAgQIECAAAECBAgQIECAAAECBAgQGDoBgYmhW1ITIkCAAAECBAgQIECAAAECBAgQIECAAAECBAgQIECAAAECBAgQIECAAAECBAgQIECAAAECBAQm7AECBAgQIECAAAECBAgQIECAAAECBAgQIECAAAECBAgQIECAAAECBAgQIECAAAECBAgQIEBg6AQEJoZuSU2IAAECBAgQIECAAAECBAgQIECAAAECBAgQIECAAAECBAgQIECAAAECBAgQIECAAAECBAgQEJiwBwgQIECAAAECBAgQIECAAAECBAgQIECAAAECBAgQIECAAAECBAgQIECAAAECBAgQIECAAIGhExCYGLolNSECBAgQIECAAAECBAgQIECAAAECBAgQIECAAAECBAgQIECAAAECBAgQIECAAAECBAgQIEBAYMIeIECAAAECBAgQIECAAAECBAgQIECAAAECBAgQIECAAAECBAgQIECAAAECBAgQIECAAAECBIZOQGBi6JbUhAgQIECAAAECBAgQIECAAAECBAgQIECAAAECBAgQIECAAAECBAgQIECAAAECBAgQIECAAAGBCXuAAAECBAgQIECAAAECBAgQIECAAAECBAgQIECAAAECBAgQIECAAAECBAgQIECAAAECBAgQGDoBgYmhW1ITIkCAAAECBAgQIECAAAECBAgQIECAAAECBAgQIECAAAECBAgQIECAAAECBAgQIECAAAECBAQm7AECBAgQIECAAAECBAgQIECAAAECBAgQIECAAAECBAgQIECAAAECBAgQIECAAAECBAgQIEBg6AQEJoZuSU2IAAECBAgQIECAAAECBAgQIECAAAECBAgQIECAAAECBAgQIECAAAECBAgQIECAAAECBAgQEJiwBwgQIECAAAECBAgQIECAAAECBAgQIECAAAECBAgQIECAAAECBAgQIECAAAECBAgQIECAAIGhExCYGLolNSECBAgQIECAAAECBAgQIECAAAECBAgQIECAAAECBAgQIECAAAECBAgQIECAAAECBAgQIEBAYMIeIECAAAECBAgQIECAAAECBAgQIECAAAECBAgQIECAAAECBAgQIECAAAECBAgQIECAAAECBIZOQGBi6JbUhAgQIECAAAECBAgQIECAAAECBAgQIECAAAECBAgQIECAAAECBAgQIECAAAECBAgQIECAAAGBCXuAAAECBAgQIECAAAECBAgQIECAAAECBAgQIECAAAECBAgQIECAAAECBAgQIECAAAECBAgQGDoBgYmhW1ITIkCAAAECBAgQIECAAAECBAgQIECAAAECBAgQIECAAAECBAgQIECAAAECBAgQIECAAAECBAQm7AECBAgQIECAAAECBAgQIECAAAECBAgQIECAAAECBAgQIECAAAECBAgQIECAAAECBAgQIEBg6AQEJoZuSU2IAAECBAi0FfjVJL/SvLo+ySUDbLUlyZpm/P3480zZXtiM73lJPjmA1hcl2dCM+y1Jav8onQXGm5e3JhmDRYAAAQIECBAgQIAAAQIECBAgQIAAAQIECBAgQIAAAQIECBAgQIAAAQILK9CPBwwXVkTvBAgQIDDXAq0H3Sf3tTfJg0luS3JtksuTfDhJ/bsyewGBidkbdtuCwES3UsNVbxgCE9+a5BPNslyapIIzCgECBAgQIECAAAECBAgQIECAAAECBAgQIECAAAECBAgQIECAAAECBAZSQGBiIJfNoAkQIDDQAp0CE1NN7Lokb0xy/UDPuj8GLzAxf+sgMDF/1v3Uk8BEP62GsRAgQIAAAQIECBAgQIAAAQIECBAgQIAAAQIECBAgQIAAAQIECBAgMPICAhMjvwUAECBAYN4FWgMT707ymZYRLElybJIXJHlGy7/fneS8JDfN+2iHq0OBiflbT4GJ+bPup54EJvppNYyFAAECBAgQIECAAAECBAgQIECAAAECBAgQIECAAAECBAgQIECAAIGRFxCYGPktAIAAAQLzLtAamFifpA6WT1XqtT9PUiGKKh9I8op5H60O+1WgdR/1488zwxCY6Ne17+dxCUz08+oYGwECBAgQIECAAAECBAgQIECAAAECBAgQIECAAAECBAgQIECAAAECIyfQjwcMR24RTJgAAQIjJtBtYKJYfifJzzY+e5McneS+EfMy3akFBCbsjH4UEJjox1UxJgIECBAgQIAAAQIECBAgQIAAAQIECBAgQIAAAQIECBAgQIAAAQIERlZAYGJkl97ECRAgsGACMwlMnJrkhpaRvjDJP04x8nOSXJjkuUlOTHJgku1Jvpjkw0n+MsmjbWY8lmTzfmh8Ksm3TnpuqkP85yX54STflOSEZhw1p/cm+ZMkj3XZ99IkFyR5WZLnJDkmSf13/K4km5K8K8nfTNPWryb5laZOp9s9Jpo5Isn3JnlxkqcmWZVkZ5Jbk3yiuQHkui7HP5Nq3930e3aSI5PcneT6JJcmeXeSOpQ+k8BE2b0xSbV7VhO82Z3k9iRXJHlnko/PYIDPSvIjSZ7frOmDSW5K8p7G5KHm5pTak1Wel+STbdqvPVFrWnv3GUlWJzkoSbVxSzO+2r/XdjG+Xu+/i5JsaPp9S5LaP/tb6r1Se6ZKrWO1vax539banJak9lu9b2s//6+W+p367KVf9fPEJN/fvLefkmRlkgprPdB8TtTYPtas544pBjaTwESt8/cl+c4kpzfvr/qcqvdX7Ze6peQzbSZ/fpIrm9e+mqQ+K7spP5Xk95uK72jeF5Ofm2qtumlbHQIECBAgQIAAAQIECBAgQIAAAQIECBAgQIAAAQIECBAgQIAAAQIECPSdgMBE3y2JAREgQGDoBWYSmFg+KVDw+iYYMIG0IsmfJXnTNGp1ALkOZU91aH2uAhOLk/x2kp9pgg1TDfELSSoEUqGHTqUOR78tyZOmqVchjtc0AYOpqs4kMFGHxutg9WEd+qzD4XWw/SeS7OnBzq2gS4UXXt6hrb9P8rokZbemqdfp55kzmnDKk6cZ398leUOS+6ep94tNcGBJm3pfa8Zf6z5dYOIHkvxpktor05W/SPJfkuzqULH1vdWL/TeXgYlfSvK+JBV2ald+N8nPdXi9134/2uz5+tyZrlTdP56iUreBiRc07+njp3l/Vbjkh9oEqyooMbGv6zPiX6YbdJIKOD2zqfftSf5himcEJrqAVIUAAQIECBAgQIAAAQIECBAgQIAAAQIECBAgQIAAAQIECBAgQIAAgcEQEJgYjHUySgIECAyTwEwCE3W7wD0tk6+D9B9s/l63BtQ3vbfe8nBVE4p4uAkX1I0Chzf166B5fZP/5APC9Q3yP9glcB1Yr4BFler7RZOea53bryX55eZGhjqMXzckVKjg2Um+q+WQ/EeSfEeH/l+S5K+THNDUqVsHag5bk+xrDkzXvOrb+avc2BxCr1sPJpduAxM19jrQPlE+n+TTSe5oxnFmM+Zagyp1u0WFWWZT6meSug2k1eLqJP+U5JHmBoJaz0OaAEQdtJ8uMFHWFZI5tBlY3Qjwt0m+lKQOxdftH3VLxMTPQ7VGdfC89s9UpQ7vVwhmotR6fyjJnc3NJjW+uuHkG02g4xVNxXY3TEy0V7eM1M0FNa66TaP+fnSSc5OsbRnfxc2NBO2ce73/5iowUfu5bm+oWxW2Nete+7rCOXXbwtNbJljhmLpVpNN69MKv3kO1lhOlwgi192pc9T6r91fdglE3xdSfZxOYqPf0B5obNqq/CunU59rXm/1dn2m19hOlbj+pcEPddNFaKrzz680//O8k/3maN2CFh+q9XKVCZHWbSc1tchGYmAbSywQIECBAgAABAgQIECBAgAABAgQIECBAgAABAgQIECBAgAABAgQIDI6AwMTgrJWREiBAYFgEZhKYeGWSy1smXt+M/sXm762H+nc2N0i01q1qRzU3FkwEG+omhzqkXYfSZ1p+PMl/bx56qDk4XbcctJbWudW/14H/Vye5eVK9b0ny0SR1Q0aVOrhfYY/JpcIZn2tCHxX4+P+aGzUmH5yuQEDdQPDapoENSb53iva6CUzUIf860F6lDlXX7R2fmKKtuu3i/Y1nvVy3KdQtGPtbfjjJnzQPV7CkDuu/Y1JjJzV9PidJfZP/xM8xU/08U7b1bfp1ML/KZ5K8qjmg39psrUUdXp8InLSzq71XbSxrHv6jJP81ye6WxuqGjLpxY/2k8bULTJT1wc2cKhQyVTmrWY863F6lDuxvbFO31/tvrgITE8Ovw/71f62GdTNG2VY4qcoNSZ7aZr699PvnJN/c9FNBp99o1nBy13WzSIVs6jOnQkSTy3Q3TBzTBGNWNQ9WYKpuv2kNhtVL9bnx9pag1K8kqc+81lKBoc3N++DeJHVbRacbSOrGmJ9qGvi9JD/bxlVgog2MfyZAgAABAgQIECBAgAABAgQIECBAgAABAgQIECBAgAABAgQIECBAYPAEBCYGb82MmAABAoMu0G1gor5tvr51f+KwdIUOJg6N160R9c3vddi8SqfD+nWIvUIHpzZ169BxHT6eSalvn69D9XWYu8IK9fe/n6KB1rlV2KAO2ddB5qlKHVj+6eaF/z/Jz0xRqQIIFVio8uYkl3UYdN32UF4VJqjAwROnCAdMF5iow+BfS3JKkkeT1E0SdWNFu1K3KdSB9rr1ob6Rf8J4JrZVt/otuwpEVKkgwh+0aaQOnFefEwGHqjbVzzM/0IRL6vUKyDwtyfY2bdYB+PoW/yr1jfsVsqhbIlpL3aJRtx1UqVsqag9MVWqP1K0WE4fvq067wES3TnVTxrVN5doDtRemKr3ef3MZmPjTJBWSmarU7R/lP7Ef6saJL3eLNUW9bvwqBFX7+IEmaDU5lNRt99MFJn4zyS80jX2leY/VDRlTlQre1K0iVWp85TH55pgKM03cslMBswoxTVXqPVafoRWqqNLJVGCi29VWjwABAgQIECBAgAABAgQIECBAgAABAgQIECBAgAABAgQIECBAgACBvhcQmOj7JTJAAgQIDJ1Ap8BEHeqtA/HflqS+5f3JLbP/vpbDw9+f5M+b1+rGiQomdCqvSfKepkIFLU6egWodtq5vn58IZ9Qh7zrsPVVpndtPJvnDDv2c3dxAUVX+MckLJ9Wt2zHuSFJBiLop4VldjPn1Lbcy/Ock/3vSM9MFJr4ryQebZ/5Hc6PFdN3+WZIKJ1SpUEIdAp9pqbn/Q/PQnc3B8Ap9tCu/NOnb9qf6eeaKJOuaBupb9d86zaA+nOQlTZ26XaD6mCh1kL5uAKiD/FVabzqZqtkKS9SemSizDUxUOxUSqUDK1iR188hUpZf7r9qfq8BE3ShR78Fa63albuqoPVylbmCYfNvINMv5/7w8nd+OJBWuqqBQBbI63dTQqe/pAhP1+VNBoyp148nEbS7t2ry+CTfU6/W595eTKraGKirUVbduTFVe3BLyqvBNBavaFYGJme4u9QkQIECAAAECBAgQIECAAAECBAgQIECAAAECBAgQIECAAAECBAgQ6FsBgYm+XRoDI0CAwNAKtB7q7naSFTyoAMJEubTlW/brYHsdcO9U6qB7fTP7AU2lOnBeB8+nK/WN7lclOaGpWLce1O0H7Urr3E6b5naGlc232VdbU4U+6tviL286+p0kPz/dYJvAwpeaehuSfO+kZ6YLTPxRkh9tnqkD1h/tos861F6H26t0uumjU1Ot46ogzA9O028FMybmWVUn/zxT61zrPRFwqMP5dVC9U6mxX9JUqBsiKuQwUVoPkNcNHHUDRadS46mwS4V/qnQTmKjD+s9o2q69UX9vnVcFdZ7QtLciyVS3EvRy/1VXcxWY+Jck509j+GNJKrRTpZvAy2z9rmwZ09uTVP/3dbH/J1fpFJiom1tuah7oNphRt+HU+6NK7c8KSLSWQ5u9dlAT8qjPqgr3TC7vTHJB8481t//ZYW4CE/ux8B4hQIAAAQIECBAgQIAAAQIECBAgQIAAAQIECBAgQIAAAQIECBAgQKA/BQQm+nNdjIoAAQLDLDCTwMSmJL+d5G8mgbQebn5pkrodYLpS36pet0VUeVGSj03zQB1ErlsKJm6vqG+Cr5sq9nV4rnVudYB7Z4e69d/gibY2txyGn3jkLc0tG9PNq93rZVI2rWW6wMSnknzL/naY5KeT/P5+PP+uJK9rnvsvSf5kmjYWJ6kbASYCMJN/nqlAw41NG9uTHN3FmCqs8IWm3m0ttwDUP/2nlltF3pvktV20V/vrBU29ToGJJyapta6bAerQezfl+OaQ/OS6vdx/1fZcBSbe3bLe7ebbenNChQZ+rU3FXvm13q5SXdV795+S1HuiAh7XNLdPTLc+nQIT9bkzEUL6TJK6ZWa68rIkH2oq1efexK0prc9VwOMNHd4/9VlWt3nUZ1Ld7lGhinpftCsCE9OtitcJECBAgAABAgQIECBAgAABAgQIECBAgAABAgQIECBAgAABAgQIEBgYAYGJgVkqAyVAgMDQCLQe6q6D03VweKLsTfJQkjqw/tk2h8Kr7leS1A0OVc5rboGYDugjSb69qVSH86vvdmVJE9L4jqZCHZZ+bhcHplvn1s1/Yzsdrv7jJBUe2N8y+ZaEame6wMT1SZ6+vx027dfh/5mWmazNRNu3Jzmu+ctk63ObQ+718g1JntrFgKqtarNKHZavw+UT5eea4E79/U+T1G0P05XWEEi7wMQLk3xgBkGJiT7rpoLaa5NLL/dftT1XgYm6Iaba7lS66bvXftXnW5McMcXA6kaPek/VzS0VmmkXnOr0nv6eJH/VtF17fuLzpZNDfb5VcKzTXi6Hf2jq1I049UxraQ2fVPjiu6exF5iY7t3tdQIECBAgQIAAAQIECBAgQIAAAQIECBAgQIAAAQIECBAgQIAAAQIEBkagm8OcAzMZAyVAgACBgRBoPdRdB3kv2Y9Rz3Vgom44mDgUvzVJHcCvb2ifrvTywHodzK+bDar8bfNN99P13/r6zVOEQqYLTFS44NSmkf+R5JaZdJikvgG//m+mZRQDE6uSfLXlcP7VSf6iucmg3Cs4VIf0J0rr7R8CE8lc+JX1yuYGkQoz1G0Ox06xmStAVaGDiYBNa5WFCEzUjSvbWm5Fqfdw7a2J8okkFYKo8qokdVtOpyIwMdNPMPUJECBAgAABAgQIECBAgAABAgQIECBAgAABAgQIECBAgAABAgQIEOhbAYGJvl0aAyNAgMDQCvQiMFGH8s9vhF6a5MNdaNVNFmc19V6U5GNtnvmpJL/fvPZAkrVJvtxF+1Wll4GJ30zyC02/v5Hkl7ocQ6dq0wUmNjbzrTZekOTjPeizmyZab2OoWzUqsNKp1AHxHUkOaCpN/nnmKUlubF7bnuToLgZxepIvNvXqhpMTW56p4EoFWKrU7QKv7aK92l9lWGWqGyZ+ornNoF7/YJJXdri1oOpcl+SZTXsCE8lc+E21rE9qbpd5eZKXJKm9V6XeK980xQOdAhP1ufPR5pn6PDq7i31Un29/09Srz70KcUxVfjfJzzQvtH5erG4+l+o9cm+S45PsmqZfgYkuFkYVAgQIECBAgAABAgQIECBAgAABAgQIECBAgAABAgQIECBAgAABAgQGQ0BgYjDWySgJECAwTAK9CEzUrRQXNigVJKgDwp3K8iQVfljRVFrTfCP75GfqUPTlzaHoPUnqW+b/cQb4vQxMvDHJZU3fdcPEy2YwjnZVpwtM1A0H39c8/F+T/EEP+uymidZx/VnLzRrtnn1aki+1vDj555kKUtR6TwQqTu7itow3J7m0abO+kf/5Le23HiCvb+6fuIWj09zqRpJjmgpTBSbek+Q1zevPTfLPHRqbvH8FJpK58Jtur35LE7Sq9ahyZpLPT3qoU2BiLMnmpv6jSQ7vIrzwy0ne0jyzIcn3thlk63uiPoeekKTGUqGrCl9VqSBSBZIUAgQIECBAgAABAgQIECBAgAABAgQIECBAgAABAgQIECBAgAABAgQIjIyAwMTILLWJEiBAoG8EehGY+P4kf97M6AtJzphmdq9ubgaoajcnqW9dn1yek+RTSQ5qXqg+/nKGar0MTByXpG46qP9W1+HqOmx91wzHM7n6dIGJujnh3c1D1yYpk/kord+8f3qbtZIAACAASURBVEeSCjhUYKVd+cUkv97y4lQ/z1zR8m38dWvIW6eZSIVSvrOpU23XQfWJckiSe5JMHJR/RpLrO7RXNw98uuX1qQITrTdQVACjghjtyquSvK/lRYGJf70hZuIGj175dbPX/z7Ji5uKr2t5v0w82ykwUXXq8+ekpnKt619P02ndelK3n1SpMNPFHeq33qJTIZ/6PPtKktOaZ85LclU3k1SHAAECBAgQIECAAAECBAgQIECAAAECBAgQIECAAAECBAgQIECAAAECwyIgMDEsK2keBAgQGByBXgQm6pvZb0lycDPtum3ibW0I6laJzyZ5avP6ryX5lUl1K0BRB4krpFDlt5tvZp+pai8DE9V3hRcqxFClvlH/e2YwoPpv/MTh7YnHpgtMVCDg601goZ6pb6Ovb6XvpkzVXzfPVZ2lScruxOaBn0zyh20eXpXkxiRHtrw+1c8zraGau5PUN/Bvb9Nm3fBQt0pUO/uSPCXJNybV/asW/w8l+e42bVUb1Va1OVGmCky0tlfrWus7VamwRu3fJ7e8KDCRzIVfN/u1NTDxXUn+ZtJD0wUm6jac/9Y8U2GGuqXisTYdt9568lATtHiwwyB/NMkfNa9XsOL/tAQk6j0zEZzoZp7qECBAgAABAgQIECBAgAABAgQIECBAgAABAgQIECBAgAABAgQIECBAYCgEBCaGYhlNggABAgMl0IvARE24gg+/1Mx8Z5I3TPFt7XWo/u1JvqOpVzc0PH3SwfmVSTa2fIt7hRQumCJs0A1yrwMTT0xSNz0c1nRe30b/Y0lubTOYCpK8IsmPN9++PzkgMF1gopptvY2jwgN128LvJdnRps+6+aLs6xvtX9gNUps6Fc744+a13UnqsHgdim8tJyR5f5JzmvWZ+Dlmqp9nKihzXRN+qDbq2/df2XzDf2ubdRvEB5Ic1fzjhiTfO8UYn5XkmibcUS9XoONnk9RYJ0r1WXOomwDq4PzEuKYKTPxwSxhlc5JvT/K1Sf1WkOddSdZOak9gIuml35ok72zWrsIwj7TZo69p1mNJcwPK8VOEcKYLTByT5EtJKvhTpQIYb0xy76Q+631cY6o9VaVCXvWZ16lUm3UrzbIkFax4b7MX65kKafxWl+/Pi5LU+6DK1uZ2my4fVY0AAQIECBAgQIAAAQIECBAgQIAAAQIECBAgQIAAAQIECBAgQIAAAQL9JSAw0V/rYTQECBAYBYFeBSbqVoJ/nPRN/v+S5JNJHk7ypOYWgCMa1F1JXpbkHyYh/0KS32z+rYIX9ef63+nKzc0NEK31eh2YqLYrhFAH+g9qOqoD+jXHzyW5L8mBSY5NckaSs5rD0lX16CkOc3cTmKhn63B1fRP+RKl+Pp7khsa2QiZ1mP/Zzc0NVa8OgZ8+HVqH1+tnko8keVFLnbr145+aA+z17fgvT1I3LrwvydlJ6qB7lXY/z9T4yurQpl6FPupGgBpr3aZxXpJva3n++iTnN3OcaqiTXSroUAfsK4hTYY66deKk5naKLzThlWpnqsBE3Y5S3/o/catGresHk9StAxVUeWYT9KkD82V/QJIKd1QRmPjX22V65Vehn1rLKvXevzpJrV/dTFJrUTfP1BrWLSUTpd0tNNMFJur5lzTv6Qo2VKn3V6193e5S86rwUe3DiVLrX4GavV28v+qzYuL2k4nQTs2h5lifWd0UgYlulNQhQIAAAQIECBAgQIAAAQIECBAgQIAAAQIECBAgQIAAAQIECBAgQGAgBAQmBmKZDJIAAQJDJdCrwEShVFjgz5sbDjoh1beu17e4f2KKSq0hgplAf6o52Nz6zFwEJqr9CiK8LcmZXQ6wbiqo8MRDk+p3G5iox16V5H8mqW/Rn67Uwez3JHnddBWneb1CIXWrRAVb2pWPJnltc6B9usBEtVE3Q9Q37VeAplOpb/p/fZL7p6lX3/RfN5vULQNTlW80B9Z/OsmFTYWpAhP1UgU6PtwcyG/X7ceaG08ubwkHCUz8q1av/E5OUu/dxV3s3z1Jfj9JBa0mwhGtj3UTmKj6FYSq93SFMTqVS5P8pySPdTG2qlK3qNReaS0VOqpgULdFYKJbKfUIECBAgAABAgQIECBAgAABAgQIECBAgAABAgQIECBAgAABAgQIEOh7AYGJvl8iAyRAgMDQCfQyMDGBc06SOuRb38xe3/RfQYp7knyxuVHg4iR1u8BUZRACExPjrm+Zf0WStc08D2++Eb9uOKjbHzY1tzRc08Vc1ye5ZJrdVbcaXJDkxUme09xaUd+AXzd43Jrky0kqOFKH/ie+ob8XG7bmWOOrda0bQrYnqdsf6oD5O5uD6jMJp9Q3+Vdgpm6oqEP2dftG3ehwR5JPJ3lHc4tDt2OvNn6kuXWgAiXlUUGJuvni/yR5sLGdLjBR/a1K8uNNSKRCHRXEuLO5QeRdTdijDuHXTRnPbQYoMPHvK9Urv9oTtc/rFo8K2dSNDBO30zyQ5KvNGlSAof7crnQbmKjnKyD0fUlemuQZSY5K8mjz3qr13pDkM91uyqZe3Zxye5IjW56rz8Yad7dFYKJbKfUIECBAgAABAgQIECBAgAABAgQIECBAgAABAgQIECBAgAABAgQIEOh7AYGJvl8iAyRAgAABAj0TeEuSX25ae3OSy3rWsoYIECBAgAABAgQIECBAgAABAgQIECBAgAABAgQIECBAgAABAgQIECBAgAABAn0mIDDRZwtiOAQIECBAYA4Ffi/JTzftvzLJ++ewL00TIECAAAECBAgQIECAAAECBAgQIECAAAECBAgQIECAAAECBAgQIECAAAECBBZUQGBiQfl1ToAAAQIE5lXg3Ule2/R4bpKr57V3nREgQIAAAQIECBAgQIAAAQIECBAgQIAAAQIECBAgQIAAAQIECBAgQIAAAQIE5lFAYGIesXVFgAABAgQWUODwJF9PclSSnc3/7ljA8eiaAAECBAgQIECAAAECBAgQIECAAAECBAgQIECAAAECBAgQIECAAAECBAgQIDCnAgITc8qrcQIECBAgsKACK5P8YJKjk7wmySnNaN6Z5A0LOjKdEyBAgAABAgQIECBAgAABAgQIECBAgAABAgQIECBAgAABAgQIECBAgAABAgTmWEBgYo6BNU+AAAECBBZQYCzJ5kn935xkbZJbFnBcuiZAgAABAgQIECBAgAABAgQIECBAgAABAgQIECBAgAABAgQIECBAgAABAgQIzLmAwMScE+uAAAECBAgsmMBEYGJnkq1JPpzkd5PctWAj0jEBAgQIECBAgAABAgQIECBAgAABAgQIECBAgAABAgQIECBAgAABAgQIECBAYJ4EBCbmCVo3BAgQIECAAAECBAgQIECAAAECBAgQIECAAAECBAgQIECAAAECBAgQIECAAAECBAgQIECAwPwJCEzMn7WeCBAgQIAAAQIECBAgQIAAAQIECBAgQIAAAQIECBAgQIAAAQIECBAgQIAAAQIECBAgQIAAgXkSEJiYJ2jdECBAgAABAgQIECBAgAABAgQIECBAgAABAgQIECBAgAABAgQIECBAgAABAgQIECBAgAABAvMnIDAxf9Z6IkCAAAECBAgQIECAAAECBAgQIECAAAECBAgQIECAAAECBAgQIECAAAECBAgQIECAAAECBOZJQGBinqB1Q4AAAQIECBAgQIAAAQIECBAgQIAAAQIECBAgQIAAAQIECBAgQIAAAQIECBAgQIAAAQIECMyfgMDE/FnriQABAgQIECBAgAABAgQIECBAgAABAgQIECBAgAABAgQIECBAgAABAgQIECBAgAABAgQIEJgnAYGJeYLWDQECBAgQIECAAAECBAgQIECAAAECBAgQIECAAAECBAgQIECAAAECBAgQIECAAAECBAgQIDB/AgIT82c9rD0tSfLEZnL3JRkf1omaFwECBAgQIECAAAECBAh0FKj/H8MRTY1vJNnLiwABAgQIECBAgAABAgQIECBAgAABAgQIECBAgAABAgQIECCwkAICEwupPxx9PyXJjcMxFbMgQIAAAQIECBAgQIAAgR4JnJrkqz1qSzMECBAgQIAAAQIECBAgQIAAAQIECBAgQIAAAQIECBAgQIAAgf0SEJjYLzYPtQgITNgOBAgQIECAAAECBAgQIDBZQGDCniBAgAABAgQIECBAgAABAgQIECBAgAABAgQIECBAgAABAgQWXEBgYsGXYOAHcHSSu2oWN9xwQ4466qiBn5AJECBAgAABAgQIECBAgMDMBe65556cdtppEw8ek+TumbfiCQIECBAgQIAAAQIECBAgQIAAAQIECBAgQIAAAQIECBAgQIBA7wQEJnpnOaotrZo4BHP33Xdn1ar6q0KAAAECBAgQIECAAAECoyawffv2HH10ZeofL/WH7aNmYL4ECBAgQIAAAQIECBAgQIAAAQIECBAgQIAAAQIECBAgQIBAfwkITPTXegziaAQmBnHVjJkAAQIECBAgQIAAAQI9FhCY6DGo5ggQIECAAAECBAgQIECAAAECBAgQIECAAAECBAgQIECAAIFZCwhMzJpw5BsQmBj5LQCAAAECBAgQIECAAAECicCEXUCAAAECBAgQIECAAAECBAgQIECAAAECBAgQIECAAAECBAj0m4DARL+tyOCNR2Bi8NbMiAkQIECAAAECBAgQINBzAYGJnpNqkAABAgQIECBAgAABAgQIECBAgAABAgQIECBAgAABAgQIEJilgMDELAE9HoEJm4AAAQIECBAgQIAAAQIE3DBhDxAgQIAAAQIECBAgQIAAAQIECBAgQIAAAQIECBAgQIAAAQJ9JyAw0XdLMnADEpgYuCUzYAIECBAgQIAAAQIECPRewA0TvTfVIgECBAgQIECAAAECBAgQIECAAAECBAgQIECAAAECBAgQIDA7AYGJ2fl5Om6YsAkIECBAgAABAgQIECBAIG6YsAkIECBAgAABAgQIECBAgAABAgQIECBAgAABAgQIECBAgACBvhMQmOi7JRm4AblhYuCWzIAJECBAgAABAgQIECDQewE3TPTeVIsECBAgQIAAAQIECBAgQIAAAQIECBAgQIAAAQIECBAgQIDA7AQEJmbn52k3TNgDBAgQIECAAAECBAgQIBA3TNgEBAgQIECAAAECBAgQIECAAAECBAgQIECAAAECBAgQIECAQP8JCEz035oM2ojcMDFoK2a8BAgQIECAAAECBAgQmAMBN0zMAaomCRAgQIAAAQIECBAgQIAAAQIECBAgQIAAAQIECBAgQIAAgVkJCEzMis/DccOETUCAAAECBAgQIECAAAECbpiwBwgQIECAAAECBAgQIECAAAECBAgQIECAAAECBAgQIECAAIE+FBCY6MNFGbAhuWFiwBbMcAkQIECAAAECBAgQIDAXAm6YmAtVbRIgQIAAAQIECBAgQIAAAQIECBAgQIAAAQIECBAgQIAAAQKzERCYmI2eZ0tAYMI+IECAAAECBAgQIECAAIEITNgEBAgQIECAAAECBAgQIECAAAECBAgQIECAAAECBAgQIECAQL8JCEz024oM3ngEJgZvzYyYAAECBAgQIECAAAECPRcQmOg5qQYJECBAgAABAgQIECBAgAABAgQIECBAgAABAgQIECBAgACBWQoITMwSsMPjY0k2d9n8a5K8r8u6U1VbluSHklyQ5NQkBya5NcnfJ/nvSW6aRdvTPSowMZ2Q1wkQIECAAAECBAgQIDACAgITI7DIpkiAAAECBAgQIECAAAECBAgQIECAAAECBAgQIECAAAECBAZMQGBi7hZsvgITxyT5aJJntZnKI0nemOQDczRVgYk5gtUsAQIECBAgQIAAAQIEBklAYGKQVstYCRAgQIAAAQIECBAgQIAAAQIECBAgQIAAAQIECBAgQIDAaAgITMzdOrcGJur2h3d06OrRJHv3YyiLk2xMcl7z/G8leVuSh5KsS/IHSWocO5u/f3Y/+pjuEYGJ6YS8ToAAAQIECBAgQIAAgREQEJgYgUU2RQIECBAgQIAAAQIECBAgQIAAAQIECBAgQIAAAQIECBAgMGACAhNzt2CtgYn1SS6Zg64uSrKhafdHkvyvSX2cnOQLSQ5P8skkz5uDMQhMzAGqJgkQIECAAAECBAgQIDBoAgITg7ZixkuAAAECBAgQIECAAAECBAgQIECAAAECBAgQIECAAAECBIZfQGBi7tZ4PgITdWPEmUm+luTUJONTTOeXkvxa8+/PTPLFHk9ZYKLHoJojQIAAAQIECBAgQIDAIAoITAziqhkzAQIECBAgQIAAAQIECBAgQIAAAQIECBAgQIAAAQIECBAYbgGBiblb37kOTKxOsrUZ/q8n+eU2U3likq83r1WdqtvLIjDRS01tESBAgAABAgQIECBAYEAFBCYGdOEMmwABAgQIECBAgAABAgQIECBAgAABAgQIECBAgAABAgQIDLGAwMTcLe5UgYnlSXb1qMtXJPnrpq0XJ/loh3bvSHJskg8meXmP+p9oRmCix6CaI0CAAAECBAgQIECAwCAKCEwM4qoZMwECBAgQIECAAAECBAgQIECAAAECBAgQIECAAAECBAgQGG4BgYm5W9/WwMRXkxyd5Igke5qbIT6Z5I+TfH4/h/DzSX6refbJLbdITNXcxiRrk9Q4Tt3P/to9JjDRY1DNESBAgAABAgQIECBAoJ3AXQ/uzDErV/QlkMBEXy6LQREgQIAAAQIECBAgQIAAAQIECBAgQIAAAQIECBAgQIAAgZEWEJiYu+VvDUy062U8ye8m+YUk9eeZlLcm+YnmgUOTPNzh4bqJom6kuDfJUTPppKlboYh25cgkN9aLd999d1at6lR1P3r2CAECBAgQIECAAAECBEZcYO++8Xz8K3dmw8YtuXbbfbny556fVYcc0HcqAhN9tyQGRIAAAQIECBAgQIAAAQIECBAgQIAAAQIECBAgQIAAAQIERl5AYGLutsDqJH+Z5N1JrklySxNqODnJS5uQRN06UeXXkvzKDIfyZ0l+oHlmWXNzRbsm3pHk9Ul2JdmfUzVdhTkEJma4gqoTIECAAAECBAgQIECgg8CDO3fnPdfcnLdt2ppt9+74t5o/+cKn5Me+rS4a7K8iMNFf62E0BAgQIECAAAECBAgQIECAAAECBAgQIECAAAECBAgQIECAQCIwsXC74MQkVySpmyh2JzktyU0zGE5rYGJpkr0dnn17kjcITMxAV1UCBAgQIECAAAECBAgskMBNdz+cS6/ckvdde0se2fX//qp3zKEH5IqffX6WL128QCOculuBib5aDoMhQIAAAQIECBAgQIAAAQIECBAgQIAAAQIECBAgQIAAAQIEIjCx0JvgZUk+1Azi55P8zgwG9NYkP9HUP7S5vaLd45cneWWSe5McNYM+Jqqu6vDMkUlurNfdMLEfsh4hQIAAAQIECBAgQIBAkvHx8fzz17Znw8bN+eSNd3c0eerxK/NnbzorJx95UF/ZCUz01XIYDAECBAgQIECAAAECBAgQIECAAAECBAgQIECAAAECBAgQICAwseB7oG6GeCjJiiTvTfLaGYzoF5L8ZlP/SUm+0eHZusliXZKvJXnKDPropmqFKR4/zSMw0Q2XOgQIECBAgAABAgQIEPh3gR279uTyz96aSzZuzjfufqQtzeJFyQufdmzWrzsl555yZBYt6r8LIwUm7GwCBAgQIECAAAECBAgQIECAAAECBAgQIECAAAECBAgQIECg3wT674RFvwnN/XhuTXJCko8ledEMuqsbI+rmiCovTvLRDs/enuS45jaL755BH91UFZjoRkkdAgQIECBAgAABAgQItAjcfO+OvG3Tlrz7mpvz4M49bW1Wrlia152zOm86b03f3SgxedACE7Y4AQIECBAgQIAAAQIECBAgQIAAAQIECBAgQIAAAQIECBAg0G8CAhMLuyLLkzyY5IAk70nyPTMYzuokW5v6b0nyq22ePSXJTc1rv5zk12fQRzdVBSa6UVKHAAECBAgQIECAAIGRFxgfH89Vm+/Nho2b87Ev35l94+1Jnnj0wblo3Sl55Zkn5uAD6nLC/i8CE/2/RkZIgAABAgQIECBAgAABAgQIECBAgAABAgQIECBAgAABAgRGTUBgYmFX/OVJ3t8M4eeS/O4Mh/PZJGcmuTHJU5NMddzmvyX5jabdZyb54gz7mK66wMR0Ql4nQIAAAQIECBAgQGCkBXbu3psPXXdbNmzckq/cXpn59uV5px79eFDim5+0KosXD9av7AITI73NTZ4AAQIECBAgQIAAAQIECBAgQIAAAQIECBAgQIAAAQIECPSlwGCdvuhLwraDOjnJzR2GXDdEfDpJ/e+uJKcm2TLDKa5PcnHzzA8n+dNJz5/YBCSOSPLPSZ47w/a7qS4w0Y2SOgQIECBAgAABAgQIjJzAnQ/uzGWbtuadV2/LvY/Ur31Tl4OWL8lrzjopF64dyxOOPmRgnQQmBnbpDJwAAQIECBAgQIAAAQIECBAgQIAAAQIECBAgQIAAAQIECAytgMDE3C3t9iRXJPlgkmuT3J5kT5IKUrwkyU8nObLp/heT/OYUQ5m4MeJTSb51iteXNH2cl2Rv08alSR5Osi7JHyQ5JcnO5u91I0Wvi8BEr0W1R4AAAQIECBAgQIDAQAt8btt9j98m8XdfvD179k11EeC/Tu/kIw/MheeP5bVnn5yVK5YN9Jxr8AITA7+EJkCAAAECBAgQIECAAAECBAgQIECAAAECBAgQIECAAAECBIZOQGBi7pb0/iSHTdP87iRvaROWqEenC0xUnWOSfDTJs9r09UiSNyV5/xxNVWBijmA1S4AAAQIECBAgQIDA4Ajs3rvv8YBEBSU+f3P9Oti+rH3iUblo7Vi+7anHZsni4fm1XGBicParkRIgQIAAAQIECBAgQIAAAQIECBAgQIAAAQIECBAgQIAAgVERGJ6TGf23Yq9I8k1JzklyUpKjkqxI8kCSryb5ZJK/SLK5w9C7CUzU48uT/FCSC5KcmuTAJLck+UiSP0xy0xzyCEzMIa6mCRAgQIAAAQIECBDob4F7Hn4s77xqW95+1dbc+eBjbQd7wNLFecWZJ+aidWM57biV/T2p/RydwMR+wnmMAAECBAgQIECAAAECBAgQIECAAAECBAgQIECAAAECBAgQmDMBgYk5ox2ZhgUmRmapTZQAAQIECBAgQIAAgQmBL9/2YDZs3JwPXndbdu3Z1xbmuJUr8qbz1+SCc1bnyIMr6z68RWBieNfWzAgQIECAAAECBAgQIECAAAECBAgQIECAAAECBAgQIECAwKAKCEwM6sr1z7gFJvpnLYyEAAECBAgQIECAAIE5FNi7bzwf+/Id2bBxS67afG/Hns5ac0QuWjuWF59+XJYtWTyHo+qfpgUm+mctjIQAAQIECBAgQIAAAQIECBAgQIAAAQIECBAgQIAAAQIECBD4VwGBCTthtgICE7MV9DwBAgQIECBAgAABAn0t8MCO3Xn3Z7bl0iu35tb7H2071mVLFuWlzzzh8aDEGScf3tdzmovBCUzMhao2CRAgQIAAAQIECBAgQIAAAQIECBAgQIAAAQIECBAgQIAAgdkICEzMRs+zJSAwYR8QIECAAAECBAgQIDCUAl+/6+FccuXmXH7trXl09962c1x1yPK8/tw1eeO5q3PMyhVDadHNpAQmulFShwABAgQIECBAgAABAgQIECBAgAABAgQIECBAgAABAgQIEJhPAYGJ+dQezr4EJoZzXc2KAAECBAgQIECAwEgK7Ns3nk999e5cvHFzPv217R0NTj9xZdavPSUvPeP4HLB0yUh6tU5aYGLktwAAAgQIECBAgAABAgQIECBAgAABAgQIECBAgAABAgQIECDQdwICE323JAM3IIGJgVsyAyZAgAABAgQIECBAYLLAw4/tyeXX3pJLr9ySm7Y/0hZo8aLkxacfl/XrTslz1hyRRYv8Wj2BJTDhfUWAAAECBAgQIECAAAECBAgQIECAAAECBAgQIECAAAECBAj0m4CTHf22IoM3HoGJwVszIyZAgAABAgQIECBAoBHYds+OXLppS95zzc156LE9bV0OO3BZXnfOyXnz+WM58fAD+U0hIDBhWxAgQIAAAQIECBAgQIAAAQIECBAgQIAAAQIECBAgQIAAAQL9JiAw0W8rMnjjEZgYvDUzYgIECBAgQIAAAQIjLTA+Pp5N37gnG67ckn/8yp0ZH2/P8eRjDnn8NolXnHliDly+ZKTdppu8wMR0Ql4nQIAAAQIECBAgQIAAAQIECBAgQIAAAQIECBAgQIAAAQIE5ltAYGK+xYevP4GJ4VtTMyJAgAABAgQIECAwlAI7d+/NBz53ay65cktuuOOhtnNctCh5/qnHPB6UWPeko7Ko/kGZVkBgYloiFQgQIECAAAECBAgQIECAAAECBAgQIECAAAECBAgQIECAAIF5FnDqY57Bh7A7gYkhXFRTIkCAAAECBAgQIDBMArc/8Ggu27Q177p6W+7bsbvt1A45YGlefdZJuWjtWMZWHTxMBPMyF4GJeWHWCQECBAgQIECAAAECBAgQIECAAAECBAgQIECAAAECBAgQIDADAYGJGWCpOqWAwISNQYAAAQIECBAgQIBA3wmMj4/ns9vuy8Ubt+Qj19+RvfvG245x7KiDcuHascfDEoeuWNZ3cxmUAQlMDMpKGScBAgQIECBAgAABAgQIECBAgAABAgQIECBAgAABAgQIEBgdAYGJ0VnruZqpwMRcyWqXAAECBAgQIECAAIEZC+zasy8f/uJt2bBxS75wywMdn/+mJ63K+nVjed6px2TxYr8ezxh70gMCE7MV9DwBAgQIECBAgAABAgQIECBAgAABAgQIECBAgAABAgQIECDQawEnQnotOnrtCUyM3pqbMQECBAgQIECAAIG+E7j7ocfyjqu25h1XbUv9uV1ZsWxxXvnsk3LR2rE85dhD+24eFz8CXwAAIABJREFUgzwggYlBXj1jJ0CAAAECBAgQIECAAAECBAgQIECAAAECBAgQIECAAAECwykgMDGc6zqfsxKYmE9tfREgQIAAAQIECBAg8B8Err/1gVy8cXP+9rrbs2vvvrY6Jxy2Im9eO5bXnX1yDj9oOcU5EBCYmANUTRIgQIAAAQIECBAgQIAAAQIECBAgQIAAAQIECBAgQIAAAQKzEhCYmBWfh5MITNgGBAgQIECAAAECBAjMq8CevfvyD1++Mxs2bs41W+7r2Pc5Y0fmonVjedHTjs3SJYvndZyj1pnAxKituPkSIECAAAECBAgQIECAAAECBAgQIECAAAECBAgQIECAAIH+FxCY6P816vcRCkz0+woZHwECBAgQIECAAIEhEbh/x6781TU357JNW3Pr/Y+2ndXyJYvzsjNOyPp1Yzn9xMOGZPb9Pw2Bif5fIyMkQIAAAQIECBAgQIAAAQIECBAgQIAAAQIECBAgQIAAAQKjJiAwMWor3vv5Ckz03lSLBAgQIECAAAECBAi0CHz1zoeyYeOWvP9zt2Tn7n1tbY4+9IC88dw1ef25q1N/VuZXQGBifr31RoAAAQIECBAgQIAAAQIECBAgQIAAAQIECBAgQIAAAQIECEwvIDAxvZEanQUEJuwQAgQIECBAgAABAgR6LrBv33g+ceNdjwclrvj69o7tP/Okwx6/TeI7n3FCli9d3POxaLA7AYGJ7pzUIkCAAAECBAgQIECAAAECBAgQIECAAAECBAgQIECAAAECBOZPQGBi/qyHtSeBiWFdWfMiQIAAAQIECBAgsAACD+3cnfd+5pZcumlLtt6zo+0IlixelO84/bisX3dKnr368Cxa5NfbBViu/9ClwMRCr4D+CRAgQIAAAQIECBAgQIAAAQIECBAgQIAAAQIECBAgQIAAgckCTpTYE7MVEJiYraDnCRAgQIAAAQIECBDIlu2P5JIrt+R9196Shx/b01bkiIOW5YJzVudN56/J8YcdSK6PBAQm+mgxDIUAAQIECBAgQIAAAQIECBAgQIAAAQIECBAgQIAAAQIECBB4XEBgwkaYrYDAxGwFPU+AAAECBAgQIEBgRAXGx8dzxde355KNW/JPN96V8fH2EKcee2jWrxvLy888MSuWLRlRsf6etsBEf6+P0REgQIAAAQIECBAgQIAAAQIECBAgQIAAAQIECBAgQIAAgVEUEJgYxVXv7ZwFJnrrqTUCBAgQIECAAAECQy/w6K69+evP3fJ4UOJrdz3cdr6LFiUveOqxjwclzn/CUVlU/6D0rYDARN8ujYERIECAAAECBAgQIECAAAECBAgQIECAAAECBAgQIECAAIGRFXDaZGSXvmcTF5joGaWGCBAgQIAAAQIECAy3wK33P5q3bdqSv7r65jzw6O62kz30gKV57dkn58Lzx7L6qIOGG2WIZicwMUSLaSoECBAgQIAAAQIECBAgQIAAAQIECBAgQIAAAQIECBAgQGBIBAQmhmQhF3AaAhMLiK9rAgQIECBAgAABAv0uMD4+nmu23JdLrtycj37pzuzdN952yE9YdXAuWjeWVz37pBx8wNJ+n5rxTRIQmLAlCBAgQIAAAQIECBAgQIAAAQIECBAgQIAAAQIECBAgQIAAgX4TEJjotxUZvPEITAzemhkxAQIECBAgQIAAgTkXeGzP3vzNdbdnw8bN+dJtD3bs71uecnTWrxvLc598dBYv9mvqnC/OHHUgMDFHsJolQIAAAQIECBAgQIAAAQIECBAgQIAAAQIECBAgQIAAAQIE9lvASZT9pvNgIyAwYSsQIECAAAECBAgQIPBvAnc9tDNv/5dteedVW7P94V1tZQ5ctiSvPuukXLh2TZ50zKEEh0BAYGIIFtEUCBAgQIAAAQIECBAgQIAAAQIECBAgQIAAAQIECBAgQIDAkAkITAzZgi7AdAQmFgBdlwQIECBAgAABAgT6TeALt9yfDRu35G+/cFt27x1vO7yTjjgwF54/lteefXIOO3BZv03DeGYhIDAxCzyPEiBAgAABAgQIECBAgAABAgQIECBAgAABAgQIECBAgAABAnMiIDAxJ6wj1ajAxEgtt8kSIECAAAECBAgQ+HeB3Xv35SPX35ENGzfns9vu70hz7ilHZv26U/LCpx2bJYv9KjqM+0hgYhhX1ZwIECBAgAABAgQIECBAgAABAgQIECBAgAABAgQIECBAgMBgCzilMtjr1w+jF5joh1UwBgIECBAgQIAAAQLzKHDvI7vyrqu35bJNW3PHgzvb9rx86eJ89xkn5KJ1Y3n6CYfN4wh1tRACAhMLoa5PAgQIECBAgAABAgQIECBAgAABAgQIECBAgAABAgQIECBAoJOAwIT9MVsBgYnZCnqeAAECBAgQIECAwIAI3HDHg9lwxZZ84PO35rE9+9qO+tiVB+RN563JBeeszlGHHDAgszPM2QoITMxW0PMECBAgQIAAAQIECBAgQIAAAQIECBAgQIAAAQIECBAgQIBArwUEJnotOnrtCUyM3pqbMQECBAgQIECAwAgJ7N03no9/5c5s2Lglm266p+PMn3Xy4Vm/biwvecbxWbZk8QgpmWoJCEzYBwQIECBAgAABAgQIECBAgAABAgQIECBAgAABAgQIECBAgEC/CQhM9NuKDN54BCYGb82MmAABAgQIECBAgMC0Ag/u3J33XHNz3rZpa7bdu6Nt/aWLF+U7n3l8Llo7ljNXHzFtuyoMr4DAxPCurZkRIECAAAECBAgQIECAAAECBAgQIECAAAECBAgQIECAAIFBFRCYGNSV659xC0z0z1oYCQECBAgQIECAAIFZC9x098O55Moted+1t2THrr1t2zvy4OV5w7mr88bz1uTYlStm3a8GBl9AYGLw19AMCBAgQIAAAQIECBAgQIAAAQIECBAgQIAAAQIECBAgQIDAsAkITAzbis7/fAQm5t9cjwQIECBAgAABAgR6KjA+Pp5//tr2bNi4OZ+88e6ObT/1+JVZv24s33XGCVmxbElPx6GxwRYQmBjs9TN6AgQIECBAgAABAgQIECBAgAABAgQIECBAgAABAgQIECAwjAICE8O4qvM7J4GJ+fXWGwECBAgQIECAAIGeCezYtSeXf/bWXLJxc75x9yNt2128KHnR0457PChxzilHZtEiv0r2bBGGqCGBiSFaTFMhQIAAAQIECBAgQIAAAQIECBAgQIAAAQIECBAgQIAAAQJDIuCUy5As5AJOQ2BiAfF1TYAAAQIECBAgQGB/BG6+d0fetmlL3n3NzXlw5562TaxcsTSvO2d13nTempx85EH705VnRkhAYGKEFttUCRAgQIAAAQIECBAgQIAAAQIECBAgQIAAAQIECBAgQIDAgAgITAzIQvXxMAUm+nhxDI0AAQIECBAgQIDAhMD4+Hiu2nxvNmzcnI99+c7sG29v88SjD85F607Jq559Yg5avhQiga4EBCa6YlKJAAECBAgQIECAAAECBAgQIECAAAECBAgQIECAAAECBAgQmEcBgYl5xB7SrgQmhnRhTYsAAQIECBAgQGA4BHbu3psPff62bLhyS75y+4MdJ/W8U4/O+nWn5JuetCqLF/t1cTh2wPzNQmBi/qz1RIAAAQIECBAgQIAAAQIECBAgQIAAAQIECBAgQIAAAQIECHQn4ARMd05qtRcQmLA7CBAgQIAAAQIECPShwJ0P7sxlm7bmnVdvy72P7Go7woOXL8mrzzopF64dyxOOPqQPZ2JIgyIgMDEoK2WcBAgQIECAAAECBAgQIECAAAECBAgQIECAAAECBAgQIEBgdAQEJkZnredqpgITcyWrXQIECBAgQIAAAQL7IfC5bfdlw8Yt+bsv3p49+8bbtnDykQfmwvPH8tqzT87KFcv2oyePEPiPAgITdgQBAgQIECBAgAABAgQIECBAgAABAgQIECBAgAABAgQIECDQbwICE/22IoM3HoGJwVszIyZAgAABAgQIEBgygV179uXvr789F2/ckutuvr/j7NY+8aisX3dKnn/aMVmy2K+EQ7YVFnQ6AhMLyq9zAgQIECBAgAABAgQIECBAgAABAgQIECBAgAABAgQIECBAYAoBp2Nsi9kKCEzMVtDzBAgQIECAAAECBPZT4J6HH8s7r9qWy/5la+566LG2rRywdHFeceaJuWjdWE47buV+9uYxAp0FBCbsEAIECBAgQIAAAQIECBAgQIAAAQIECBAgQIAAAQIECBAgQKDfBAQm+m1FBm88AhODt2ZGTIAAAQIECBAgMOACX77twWzYuDkfvO621O0S7crxh63Im85fkwvOXp0jDl4+4LM2/H4XEJjo9xUyPgIECBAgQIAAAQIECBAgQIAAAQIECBAgQIAAAQIECBAgMHoCAhOjt+a9nrHARK9FtUeAAAECBAgQIEBgCoG9+8bzsS/fkQ0bt+Sqzfd2NDprzRFZv24s3/7047JsyWKeBOZFQGBiXph1QoAAAQIECBAgQIAAAQIECBAgQIAAAQIECBAgQIAAAQIECMxAQGBiBliqTikgMGFjECBAgAABAgQIEJhDgQd27M67P7Mtl165Nbfe/2jbnpYtWZSXPvOEx4MSzzzp8DkckaYJTC0gMGFnECBAgAABAgQIECBAgAABAgQIECBAgAABAgQIECBAgAABAv0mIDDRbysyeOMRmBi8NTNiAgQIECBAgACBARD4+l0P55IrN+fya2/No7v3th3xqkOW5w3nrskbzl2dY1auGICZGeKwCghMDOvKmhcBAgQIECBAgAABAgQIECBAgAABAgQIECBAgAABAgQIEBhcAYGJwV27fhm5wES/rIRxECBAgAABAgQIDLzAvn3j+dRX787FGzfn01/b3nE+p5+4MuvXnpKXnnF8Dli6ZODnbgKDLyAwMfhraAYECBAgQIAAAQIECBAgQIAAAQIECBAgQIAAAQIECBAgQGDYBAQmhm1F538+AhPzb65HAgQIECBAgACBIRN4+LE9ufzaW3LplVty0/ZH2s5uyeJF+fanH5v1607Jc9YckUWL/Eo3ZFthoKcjMDHQy2fwBAgQIECAAAECBAgQIECAAAECBAgQIECAAAECBAgQIEBgKAWcrhnKZZ3XSQlMzCu3zggQIECAAAECBIZJYNs9O3LJlVvy3s/cnIce29N2aocduCwXnLM6bzp/TU48/MBhIjCXIRIQmBiixTQVAgQIECBAgAABAgQIECBAgAABAgQIECBAgAABAgQIECAwJAICE0OykAs4DYGJBcTXNQECBAgQIECAwOAJjI+PZ9M37snFG7fk4zfcmfHx9nN4yrGH5KK1p+QVZ56YA5cvGbzJGvFICQhMjNRymywBAgQIECBAgAABAgQIECBAgAABAgQIECBAgAABAgQIEBgIAYGJgVimvh6kwERfL4/BESBAgAABAgQI9IvAzt1784HP3fr4jRI33PFQ22EtWpR822nHPB6UWPeko7Ko/kEhMAACAhMDsEiGSIAAAQIECBAgQIAAAQIECBAgQIAAAQIECBAgQIAAAQIERkzAyZsRW/A5mK7AxBygapIAAQIECBAgQGB4BG5/4NFctmlr3nX1tty3Y3fbiR1ywNK85jkn5cLzxzK26uDhATCTkREQmBiZpTZRAgQIECBAgAABAgQIECBAgAABAgQIECBAgAABAgQIECAwMAICEwOzVH07UIGJvl0aAyNAgAABAgQIEFgogfHx8Xx22325eOOWfOT6O7J333jboYwddVAuXDuWV591Ug5dsWyhhqxfArMWEJiYNaEGCBAgQIAAAQIECBAgQIAAAQIECBAgQIAAAQIECBAgQIAAgR4LCEz0GHQEmxOYGMFFN2UCBAgQIECAAIGpBXbt2ZcPf/G2bNi4JV+45YGOTN/85FW5aO1YnnfqMVm82K9m9tTgCwhMDP4amgEBAgQIECBAgAABAgQIECBAgAABAgQIECBAgAABAgQIEBg2Aadyhm1F538+AhPzb65HAgQIECBAgACBPhO4+6HH8o6rtuYdV21L/bldWbFscV757JOyfu1YnnzsoX02C8MhMDsBgYnZ+XmaAAECBAgQIECAAAECBAgQIECAAAECBAgQIECAAAECBAgQ6L2AwETvTUetRYGJUVtx8yVAgAABAgQIEPg3getvfSAXb9ycv73u9uzau6+tzAmHrcib147ldWefnMMPWk6QwFAKCEwM5bKaFAECBAgQIECAAAECBAgQIECAAAECBAgQIECAAAECBAgQGGgBgYmBXr6+GLzARF8sg0EQIECAAAECBAjMl8Cevfvy0S/dmUuu3JxrttzXsdtzxo7MRevG8qKnHZulSxbP1xD1Q2BBBAQmFoRdpwQIECBAgAABAgQIECBAgAABAgQIECBAgAABAgQIECBAgEAHAYEJ22O2AgITsxX0PAECBAgQIECAwEAI3L9jV9519c25bNOW3PbAzrZjXr5kcV52xglZv24sp5942EDMzSAJ9EJAYKIXitogQIAAAQIECBAgQIAAAQIECBAgQIAAAQIECBAgQIAAAQIEeikgMNFLzdFsS2BiNNfdrAkQIECAAAECIyPw1TsfyoaNW/L+z92Snbv3tZ330YcekDeeuyavP3d16s8KgVETEJgYtRU3XwIECBAgQIAAAQIECBAgQIAAAQIECBAgQIAAAQIECBAg0P8CAhP9v0b9PkKBiX5fIeMjQIAAAQIECBCYscC+feP5pxvuyiVXbskVX9/e8fkzTjos69edkpc84/gsX7p4xn15gMCwCAhMDMtKmgcBAgQIECBAgAABAgQIECBAgAABAgQIECBAgAABAgQIEBgeAYGJ4VnLhZqJwMRCyeuXAAECBAgQIECg5wIP7dyd937mlly6aUu23rOjbftLFi/Kd5x+3ONBiWevPjyLFvnVqueLocGBExCYGLglM2ACBAgQIECAAAECBAgQIECAAAECBAgQIECAAAECBAgQIDD0Ak71DP0Sz/kEBSbmnFgHBAgQIECAAAECcy2wZfsjj98m8b5rb8nDj+1p290RBy3L689dnTeetybHH3bgXA9L+wQGSkBgYqCWy2AJECBAgAABAgQIECBAgAABAgQIECBAgAABAgQIECBAgMBICAhMjMQyz+kkBSbmlFfjBAgQIECAAAECcyUwPj6eK76+PZf8X/buBErO8rwT/b+7tW8ISSBAWwuz74vY1LGJEzvegrcYY4xBajtxFk/WmeTmOneSyc3Ek2SSTDy+duKMDxKLDbEdryHY1/siCSP2xeyotYAkJIT2vbvuaV1NQiOq1UtVdX1VvzrHB6T+vvd9nt/zHlM65/vrW9aV7z7xQkql8judccLkdHa05x0XzMq40W3VKsm6BAotIDBR6PEpngABAgQIECBAgAABAgQIECBAgAABAgQIECBAgAABAgQINKSAwERDjrWmTQlM1JTbZgQIECBAgAABAsMV2LO/O1+6f92hoMRTL+wsu1xLS/KGM2ceCkpccfL0tPT+hg8BAmUFBCYcDgIECBAgQIAAAQIECBAgQIAAAQIECBAgQIAAAQIECBAgQKDeBDzxU28TKV49AhPFm5mKCRAgQIAAAQJNKfDc1j25eUVXbr97bbbtOVDWYPK4UblmwZzccEV75k6f0JRWmiYwFAGBiaGouYcAAQIECBAgQIAAAQIECBAgQIAAAQIECBAgQIAAAQIECBCopoDARDV1m2NtgYnmmLMuCRAgQIAAAQKFFCiVSlnZ9VKWLFuVbz66IT2l8m2cPGNiFne055cump2JY0cVsl9FExhJAYGJkdS3NwECBAgQIECAAAECBAgQIECAAAECBAgQIECAAAECBAgQIPBqAgITzsVwBQQmhivofgIECBAgQIAAgYoL7DvYna8/uP5QUOLR57f3u/7rTjsunR3tufLU49La6o9IFR+GBZtGQGCiaUatUQIECBAgQIAAAQIECBAgQIAAAQIECBAgQIAAAQIECBAgUBgBTwMVZlR1W6jARN2ORmEECBAgQIAAgeYTeGH73tz6kzX53E9WZ/PO/WUBxo9uy3sunp1FC9tzyvGTmg9KxwSqICAwUQVUSxIgQIAAAQIECBAgQIAAAQIECBAgQIAAAQIECBAgQIAAAQLDEhCYGBafm5MITDgGBAgQIECAAAECIy7w4Nqth94mccfD63Ogu1S2ntnHjs+iK9rz3kvm5Jjxo0e8bgUQaCQBgYlGmqZeCBAgQIAAAQIECBAgQIAAAQIECBAgQIAAAQIECBAgQIBAYwgITNR+jq1Jfpik4/DWq5O0D7GMxUmWDPDe45JsHuC1g7lMYGIwWq4lQIAAAQIECBComMCB7p5845ENh4IS963Z2u+6l588LYsXzs8bz5qZtlZ/DKrYECxE4GUCAhOOAwECBAgQIECAAAECBAgQIECAAAECBAgQIECAAAECBAgQIFBvAp4Uqv1E/kOST7xsW4GJ2s/AjgQIECBAgAABAgUW2LJrf267e01uWbE6G7bvLdvJmFGteecFJx0KSpx10pQCd6x0AsUQEJgoxpxUSYAAAQIECBAgQIAAAQIECBAgQIAAAQIECBAgQIAAAQIEmklAYKK2056b5NEkY5NsSDInSaUCE2cnWdNPOzur1Ko3TFQJ1rIECBAgQIAAAQJ9BR7fsD1LftyVrzzwXPYd7CnLM3PK2Fx/+bxce+ncTJ/U+9XbhwCBWggITNRC2R4ECBAgQIAAAQIECBAgQIAAAQIECBAgQIAAAQIECBAgQIDAYAQEJgajNfxr70zy5iQfS9KR5MoKBibmJ+kafomDXkFgYtBkbiBAgAABAgQIEBioQHdPKd95bGOWLOvKimdf7Pe2C+dOzeKF7XnruSdmdFvrQLdwHQECFRIQmKgQpGUIECBAgAABAgQIECBAgAABAgQIECBAgAABAgQIECBAgACBigkITFSM8qgLXZ/k5iRPJzk3yTcEJo5q5gICBAgQIECAAIEmFdi+90A+v3JtblrRlbVb9pRVGNXakredd2I6O+bngjlTm1RL2wTqQ0Bgoj7moAoCBAgQIECAAAECBAgQIECAAAECBAgQIECAAAECBAgQIEDg3wUEJmpzGo5L8liS6Ul+Psl3k3xfYKI2+HYhQIAAAQIECBAojsCzm3Zm6fKufPHeddm9v7ts4dMnjsn7L5ubD1w+LzOnjCtOgyol0MACAhMNPFytESBAgAABAgQIECBAgAABAgQIECBAgAABAgQIECBAgACBggoITNRmcLcnuSbJTUkWH96yWoGJMUn216atQ7vMSLKp9182bdqUGTN6f+lDgAABAgQIECBAYOACPT2l/OjpzVmybFW+/8Shr5ZlP2eeOCWdHe15+/knZdzotoFv4koCBKouIDBRdWIbECBAgAABAgQIECBAgAABAgQIECBAgAABAgQIECBAgAABAoMUEJgYJNgQLr8qydeSbE5y5uF/9i5T6cDEg0lOT9L71+vuPfxGizuT/D9J1g+h7oHeIjAxUCnXESBAgAABAgQI9BHYte9gvnTfukNvlHhm066yOq0tyS+cdcKhoMSl86elpcUfYxwlAvUoIDBRj1NREwECBAgQIECAAAECBAgQIECAAAECBAgQIECAAAECBAgQaG4BTxpVd/5Tkvw0yawki5Lc/LLtKh2YKNfJjiQfTPLFYbTa32sjpiV5ondtb5gYhrBbCRAgQIAAAQJNJLB2y+7cvKIrt69cmx17D5btfMq4UXnfpXNz/eXzMmfahCYS0iqBYgoITBRzbqomQIAAAQIECBAgQIAAAQIECBAgQIAAAQIECBAgQIAAAQKNLCAwUd3p/kOSX03ynSRveMVWlQhMXJPkbUm+cviNEmuTlA6/aeIDSX4zyagkvU+hvSXJt4fYbu+aR/0ITByVyAUECBAgQIAAgaYVKJVK+cmqLVmybFW+9dON6ennG+Ypx0/K4oXtefdFszJhTO/XWR8CBIogIDBRhCmpkQABAgQIECBAgAABAgQIECBAgAABAgQIECBAgAABAgQINJeAwET15n1lku8l2Zfk3CRPv2KrSgQmjlb9zyW5M8mYJE8mOStJ99FuepWfC0wMAc0tBAgQIECAAAECyd4D3fnaA89nyfKuPLZ+e78krz/9uHR2zM9rT52RlhZ/VHF+CBRNQGCiaBNTLwECBAgQIECAAAECBAgQIECAAAECBAgQIECAAAECBAgQaHwBTyFVZ8bjkjyU5NQkH03y315lm1oEJnq3/Zskv3d4/yuS3DWElmf0c8+0JE/0/twbJoYg6xYCBAgQIECAQIMKbNy+N7esWJ3P3b0mW3btL9vlxDFtuXrBnNxwxbycfNykBtXQFoHmEBCYaI4565IAAQIECBAgQIAAAQIECBAgQIAAAQIECBAgQIAAAQIECBRJQGCiOtP64yR/muSRJBclOfAq29QqMPEzSX50eP+PJPlUhVvuDVNs6l1TYKLCspYjQIAAAQIECBRQ4L41L2Xpsq7868Prc7Cn/IvK5k6bkEUL23P1gtmZMm50ATtVMgECrxQQmHAmCBAgQIAAAQIECBAgQIAAAQIECBAgQIAAAQIECBAgQIAAgXoTEJiozkSWJlk0hKW/muSdQ7ivv1t633Lx5OEL/ijJxyq8vsBEhUEtR4AAAQIECBAomsD+gz2585H1uXFZVx5cu7Xf8he+Zno6O+bn5844Pm2t/jhStFmrl0B/AgITzgcBAgQIECBAgAABAgQIECBAgAABAgQIECBAgAABAgQIECBQbwKeUKrOROopMPG6JD843OZvJPn7CrcsMFFhUMsRIECAAAECBIoi8OLOffncT9bklrtW54Ud+8qWPXZUa9514aws7mjPGSdMKUp76iRAYJACAhODBHM5AQIECBAgQIAAAQIECBAgQIAAAQIECBAgQIAAAQIECBAgUHUBgYnqEM9NMu0oS38mycVJ1id56+FrtyVZVeGS/i7Jbx+BnjwhAAAgAElEQVRe8/IkP6nw+gITFQa1HAECBAgQIECg3gUefX5blizrytcefD69b5co9znxmHG5/op5ufaSuTl24ph6b0t9BAgMU0BgYpiAbidAgAABAgQIECBAgAABAgQIECBAgAABAgQIECBAgAABAgQqLiAwUXHSAS/4/SRXJlmdpH3Ad/37hZOTtCbpDVmU+7wxyR1JRid5PMnZSco/0TaEIpIITAzNzV0ECBAgQIAAgUIJdPeU8q2fbsiNy7py96ot/dZ+8bxj09nRnjedfUJGt/V+ZfUhQKAZBAQmmmHKeiRAgAABAgQIECBAgAABAgQIECBAgAABAgQIECBAgAABAsUSEJgYuXkNJDDRlWRemVDFBUl+kOSfknwjycNJXkzSluT0JNcm+dXDvz6Q5E1JvleFdgUmqoBqSQIECBAgQIBAvQhs230g/3TPmty0fHWe27qnbFmj21py1XknZXFHe86bPbVeylcHAQI1FBCYqCG2rQgQIECAAAECBAgQIECAAAECBAgQIECAAAECBAgQIECAAIEBCQhMDIipKhdVIjBx/wAq25Sk8/CbJgZw+aAvEZgYNJkbCBAgQIAAAQL1L/D0CzuydHlX/vne57LnQHfZgmdMGpPrLpuX6y6fm+Mnj6v/xlRIgEDVBAQmqkZrYQIECBAgQIAAAQIECBAgQIAAAQIECBAgQIAAAQIECBAgQGCIAgITQ4SrwG3DDUxMSnJNksuTXJRkZpLpSXpn2vumiYeS3JnkpiTbKlBvuSUEJqqIa2kCBAgQIECAQC0FenpK+cGTm3LjslX50VOb+936nFlT0rlwfn7x/BMzdlTvS858CBBodgGBiWY/AfonQIAAAQIECBAgQIAAAQIECBAgQIAAAQIECBAgQIAAAQL1JyAwUX8zKVpFAhNFm5h6CRAgQIAAAQKvENi572D++d51uWl5V57dvKusT1trS9589gnp7GjPxfOOTUuLP044TAQI/LuAwITTQIAAAQIECBAgQIAAAQIECBAgQIAAAQIECBAgQIAAAQIECNSbgCec6m0ixatHYKJ4M1MxAQIECBAgQOCQwJoXd2fp8q584Z612bHvYFmVY8aPzrWXzs31V8zLrKnj6REgQOBVBQQmHAwCBAgQIECAAAECBAgQIECAAAECBAgQIECAAAECBAgQIECg3gQEJuptIsWrR2CieDNTMQECBAgQINDEAqVSKSueeTE3LuvKdx7fmFKpPMZpMydl8cL5edeFszJ+TFsTq2mdAIGBCAhMDETJNQQIECBAgAABAgQIECBAgAABAgQIECBAgAABAgQIECBAgEAtBQQmaqndmHsJTDTmXHVFgAABAgQINJjA3gPd+fL9z2Xpsq48sXFH2e5aWpKfP+P4dHbMz8LXTE9L72/4ECBAYAACAhMDQHIJAQIECBAgQIAAAQIECBAgQIAAAQIECBAgQIAAAQIECBAgUFMBTz/VlLshNxOYaMixaooAAQIECBBoFIH12/bk5hWrc9vda7J194GybU0aOypXL5idRVe0p33GxEZpXx8ECNRQQGCihti2IkCAAAECBAgQIECAAAECBAgQIECAAAECBAgQIECAAAECBAYkIDAxICYX9SMgMOF4ECBAgAABAgTqTKBUKuW+NS/lxmVd+cYjG9LdUypbYfv0CVm0sD3vuXh2Jo8bXWedKIcAgSIJCEwUaVpqJUCAAAECBAgQIECAAAECBAgQIECAAAECBAgQIECAAAECzSEgMNEcc65mlwIT1dS1NgECBAgQIEBgEAL7DnbnjofWZ+nyrjy0blu/d7721Bnp7GjPz552fFpb/bFgEMwuJUCgjIDAhKNBgAABAgQIECBAgAABAgQIECBAgAABAgQIECBAgAABAgQI1JuAJ6PqbSLFq0dgongzUzEBAgQIECDQYAKbduzLZ3+yOrfetSabd+4r29240a1590Wz07mwPafOnNxgCtohQGCkBQQmRnoC9idAgAABAgQIECBAgAABAgQIECBAgAABAgQIECBAgAABAgReKSAw4UwMV0BgYriC7idAgAABAgQIDFHgkee25cZlq/IvD67P/u6esqvMmjo+N1wxL9dcMidTJ4wZ4m5uI0CAQP8CAhNOCAECBAgQIECAAAECBAgQIECAAAECBAgQIECAAAECBAgQIFBvAgIT9TaR4tUjMFG8mamYAAECBAgQKLDAwe6efPPRjVm6fFVWdr3UbyeXtk9LZ0d73njWzIxqay1w10onQKAIAgITRZiSGgkQIECAAAECBAgQIECAAAECBAgQIECAAAECBAgQIECAQHMJCEw017yr0a3ARDVUrUmAAAECBAgQeIXA1t37c9vda3PLiq48v21vWZ8xba256vyTDgUlzpl1DEcCBAjUTEBgombUNiJAgAABAgQIECBAgAABAgQIECBAgAABAgQIECBAgAABAgQGKCAwMUAol5UVEJhwOAgQIECAAAECVRR4cuOOLFnWlS/fvy57D/SU3em4yWNz/eXzcu2lc9P77z4ECBCotYDARK3F7UeAAAECBAgQIECAAAECBAgQIECAAAECBAgQIECAAAECBAgcTUBg4mhCfn40AYGJown5OQECBAgQIEBgkAI9PaV89/EXsmT5qix7+sV+7z5/9jHp7Jift557YsaMah3kTi4nQIBA5QQEJipnaSUCBAgQIECAAAECBAgQIECAAAECBAgQIECAAAECBAgQIECgMgICE5VxbOZVBCaaefp6J0CAAAECBCoqsGPvgXzhnnW5aUVXVr+4u+zaba0tecs5JxwKSlw0d2paWnytr+ggLEaAwJAEBCaGxOYmAgQIECBAgAABAgQIECBAgAABAgQIECBAgAABAgQIECBAoIoCnqyqIm6TLC0w0SSD1iYBAgQIECBQPYFVm3flpuVd+eK967Jz38GyGx07YXTef9ncfODyeTnxmPHVK8jKBAgQGIKAwMQQ0NxCgAABAgQIECBAgAABAgQIECBAgAABAgQIECBAgAABAgQIVFVAYKKqvE2xuMBEU4xZkwQIECBAgEClBUqlUn789OYsWdaV7z3xQkql8jucccLkdHa05x0XzMq40W2VLsV6BAgQqIiAwERFGC1CgAABAgQIECBAgAABAgQIECBAgAABAgQIECBAgAABAgQIVFBAYKKCmE26lMBEkw5e2wQIECBAgMDQBPbs786X7l+Xpcu68tQLO8su0tKSvPHMmensmJ/LT56Wlt7f8CFAgEAdCwhM1PFwlEaAAAECBAgQIECAAAECBAgQIECAAAECBAgQIECAAAECBJpUwFNXTTr4CrYtMFFBTEsRIECAAAECjSvw3NY9uXlFV26/e2227TlQttHJ40blmgVzsmhhe+ZMm9C4IDojQKDhBAQmGm6kGiJAgAABAgQIECBAgAABAgQIECBAgAABAgQIECBAgAABAoUXEJgo/AhHvAGBiREfgQIIECBAgACBehUolUpZ2fVSlixblW8+uiE9pfKVnjxjYhZ3tOeXLpqdiWNH1WtL6iJAgEBZAYEJh4MAAQIECBAgQIAAAQIECBAgQIAAAQIECBAgQIAAAQIECBCoNwGBiXqbSPHqEZgo3sxUTIAAAQIECFRZYN/B7nz9wfWHghKPPr+9392uPO24dHa053WnHpfWVl/PqzwayxMgUEUBgYkq4lqaAAECBAgQIECAAAECBAgQIECAAAECBAgQIECAAAECBAgQGJKAJ7KGxOamlwkITDgOBAgQIECAAIHDAi9s35tb71qdz929Jpt37i/rMmFM26E3SSxa2J5Tjp/EjwABAg0hIDDREGPUBAECBAgQIECAAAECBAgQIECAAAECBAgQIECAAAECBAgQaCgBgYmGGueINCMwMSLsNiVAgAABAgTqSeDBtVsPvU3ijofX50B3qWxps48dn0VXtOe9l8zJMeNH11MLaiFAgMCwBQQmhk1oAQIECBAgQIAAAQIECBAgQIAAAQIECBAgQIAAAQIECBAgQKDCAgITFQZtwuUEJppw6FomQIAAAQIEkgPdPfnGIxsOBSXuW7O1X5LLT56Wzo75ecOZM9PW6iu480OAQGMKCEw05lx1RYAAAQIECBAgQIAAAQIECBAgQIAAAQIECBAgQIAAAQIEiizgaa0iT68+aheYqI85qIIAAQIECBCokcCWXftz291rcsuK1dmwfW/ZXceMas07LzgpixfOz1knTalRdbYhQIDAyAkITIycvZ0JECBAgAABAgQIECBAgAABAgQIECBAgAABAgQIECBAgACBVxcQmHAyhisgMDFcQfcTIECAAAEChRB4fMP2LPlxV77ywHPZd7CnbM0zp4zN9ZfPy7WXzs30SWML0ZsiCRAgUAkBgYlKKFqDAAECBAgQIECAAAECBAgQIECAAAECBAgQIECAAAECBAgQqKSAwEQlNZtzLYGJ5py7rgkQIECAQFMIdPeU8p3HNmbJsq6sePbFfnu+cO7UdHbMz1vOOSGj21qbwkeTBAgQeLmAwITzQIAAAQIECBAgQIAAAQIECBAgQIAAAQIECBAgQIAAAQIECNSbgMBEvU2kePUITBRvZiomQIAAAQIEjiKwbc+BfOGetblpRVfWbtlT9upRrS1523knHgpKXDBnKlcCBAg0tYDARFOPX/MECBAgQIAAAQIECBAgQIAAAQIECBAgQIAAAQIECBAgQKAuBQQm6nIshSpKYKJQ41IsAQIECBAg0J/AM5t25qblXfniveuye3932UunTxyT6y6bm+sun5eZU8ZBJUCAAIEkAhOOAQECBAgQIECAAAECBAgQIECAAAECBAgQIECAAAECBAgQIFBvAgIT9TaR4tUjMFG8mamYAAECBAgQeJlAT08pP3xqU5Yu78r3n9jUr81ZJ05JZ0d7rjr/pIwb3caRAAECBF4mIDDhOBAgQIAAAQIECBAgQIAAAQIECBAgQIAAAQIECBAgQIAAAQL1JiAwUW8TKV49AhPFm5mKCRAgQIAAgSS79h3Ml+5bdygo8cymXWVNWluSXzjrhENBiUvnT0tLi6/QDhABAgReTUBgwrkgQIAAAQIECBAgQIAAAQIECBAgQIAAAQIECBAgQIAAAQIE6k3A0171NpHi1SMwUbyZqZgAAQIECDS1wNotu3Pziq7cvnJtduw9WNZiyrhRufbSufnA5fMyZ9qEpjbTPAECBAYiIDAxECXXECBAgAABAgQIECBAgAABAgQIECBAgAABAgQIECBAgAABArUUEJiopXZj7iUw0Zhz1RUBAgQIEGgogVKplLue3ZIly1bl249tTE+pfHunHD8pixe2590XzcqEMaMaykEzBAgQqKaAwEQ1da1NgAABAgQIECBAgAABAgQIECBAgAABAgQIECBAgAABAgQIDEVAYGIoau55uYDAhPNAgAABAgQI1K3A3gPd+doDz2fJ8q48tn57v3W+/vTj0tkxP689dUZaWnxNrtuhKowAgboVEJio29EojAABAgQIECBAgAABAgQIECBAgAABAgQIECBAgAABAgQINK2AJ8GadvQVa1xgomKUFiJAgAABAgQqJbBx+97csmJ1Pnf3mmzZtb/sshPHtOXqBXOyaGF75s+YWKntrUOAAIGmFBCYaMqxa5oAAQIECBAgQIAAAQIECBAgQIAAAQIECBAgQIAAAQIECNS1gMBEXY+nEMUJTBRiTIokQIAAAQLNIXDfmpeydFlX/vXh9TnYUyrb9NxpEw6FJK5eMDtTxo1uDhxdEiBAoMoCAhNVBrY8AQIECBAgQIAAAQIECBAgQIAAAQIECBAgQIAAAQIECBAgMGgBgYlBk7nhFQICE44EAQIECBAgMKIC+w/25M5H1ufGZV15cO3WfmvpOGV6OhfOz+vPOD5trb4Kj+jgbE6AQMMJCEw03Eg1RIAAAQIECBAgQIAAAQIECBAgQIAAAQIECBAgQIAAAQIECi/gKbHCj3DEGxCYGPERKIAAAQIECDSnwOad+3LbT9bklrtW54Ud+8oijB3VmndfNCuLF87P6SdMbk4sXRMgQKAGAgITNUC2BQECBAgQIECAAAECBAgQIECAAAECBAgQIECAAAECBAgQIDAoAYGJQXG5+FUEBCYcCwIECBAgQKCmAo8+vy1LlnXlaw8+n963S5T7nHjMuFx/xbxce8ncHDtxTE1rtBkBAgSaUUBgohmnrmcCBAgQIECAAAECBAgQIECAAAECBAgQIECAAAECBAgQIFDfAgIT9T2fIlQnMFGEKamRAAECBAgUXOBgd0++/djG3LisK3ev2tJvNwvmHZvOjvn5hbNnZnRba8E7Vz4BAgSKIyAwUZxZqZQAAQIECBAgQIAAAQIECBAgQIAAAQIECBAgQIAAAQIECDSLgMBEs0y6en0KTFTP1soECBAgQKDpBbbtPpDbV67JzStW57mte8p6jG5ryVXnnXQoKHHu7GOa3g0AAQIERkJAYGIk1O1JgAABAgQIECBAgAABAgQIECBAgAABAgQIECBAgAABAgQI9CcgMOF8DFdAYGK4gu4nQIAAAQIEjhB4+oUdWbKsK1+677nsOdBdVmjGpDG57rJ5ue7yuTl+8jiSBAgQIDCCAgITI4hvawIECBAgQIAAAQIECBAgQIAAAQIECBAgQIAAAQIECBAgQOBVBQQmHIzhCghMDFfQ/QQIECBAgMAhgZ6eUn7w5KbcuGxVfvTU5n5Vzpk1JZ0L5+cXzz8xY0e1ESRAgACBOhAQmKiDISiBAAECBAgQIECAAAECBAgQIECAAAECBAgQIECAAAECBAgQ6CMgMOFADFdAYGK4gu4nQIAAAQJNLrBz38F88Z61uWnF6qzavKusRltrS9589gnp7GjPxfOOTUuLr7JNfnS0T4BAnQkITNTZQJRDgAABAgQIECBAgAABAgQIECBAgAABAgQIECBAgAABAgQIxFNmDsFwBQQmhivofgIECBAg0KQCa17cnaXLu/KFe9Zmx76DZRWmThid910yNzdcMS8nTR3fpFraJkCAQP0LCEzU/4xUSIAAAQIECBAgQIAAAQIECBAgQIAAAQIECBAgQIAAAQIEmk1AYKLZJl75fgUmKm9qRQIECBAg0LACpVIpK555MTcu68p3Ht+YUql8q6fNnJTOjvl55wWzMn5MW8OaaIwAAQKNIiAw0SiT1AcBAgQIECBAgAABAgQIECBAgAABAgQIECBAgAABAgQIEGgcAYGJxpnlSHUiMDFS8vYlQIAAAQIFEth7oDtfvv+5LF3WlSc27ihbeUtL8vNnHH8oKLHwNdPT0vsbPgQIECBQCAGBiUKMSZEECBAgQIAAAQIECBAgQIAAAQIECBAgQIAAAQIECBAgQKCpBDyB1lTjrkqzAhNVYbUoAQIECBBoDIHnt+7JLXetzm13r8nW3QfKNjVp7Ki8d8Gc3HDFvLTPmNgYzeuCAAECTSYgMNFkA9cuAQIECBAgQIAAAQIECBAgQIAAAQIECBAgQIAAAQIECBAogIDARAGGVOclCkzU+YCUR4AAAQIEai1QKpVy7+qXsmR5V77xyIZ095TKltA+fUIWL2zPexbMSW9owocAAQIEiisgMFHc2amcAAECBAgQIECAAAECBAgQIECAAAECBAgQIECAAAECBAg0qoDARKNOtnZ9CUzUztpOBAgQIECgrgX2HezOHQ+tz5JlXXn4uW391vraU2eks6M9P3va8Wlt9ZW0rgerOAIECAxQQGBigFAuI0CAAAECBAgQIECAAAECBAgQIECAAAECBAgQIECAAAECBGom4Om0mlE37EYCEw07Wo0RIECAAIGBCWzasS+f/cnq3HrXmmzeua/sTeNGt+bdF81O58L2nDpz8sAWdxUBAgQIFEZAYKIwo1IoAQIECBAgQIAAAQIECBAgQIAAAQIECBAgQIAAAQIECBBoGgGBiaYZddUaFZioGq2FCRAgQIBAfQs8vG5blixflX95cH32d/eULXbW1PG54Yp5ueaSOZk6YUx9N6U6AgQIEBiygMDEkOncSIAAAQIECBAgQIAAAQIECBAgQIAAAQIECBAgQIAAAQIECFRJQGCiSrBNtKzARBMNW6sECBAgQOBgd0+++ejGLFm2KvesfqlfkEvbp6Wzoz1vPGtmRrW1wiNAgACBBhcQmGjwAWuPAAECBAgQIECAAAECBAgQIECAAAECBAgQIECAAAECBAgUUEBgooBDq7OSBSbqbCDKIUCAAAEC1RDYunt/brt7bW5Z0ZXnt+0tu8WYtta8/YKTsnhhe86ZdUw1SrEmAQIECNSpgMBEnQ5GWQQIECBAgAABAgQIECBAgAABAgQIECBAgAABAgQIECBAoIkFBCaaePgVal1gokKQliFAgAABAvUo8OTGHVmyrCtfvn9d9h7oKVvicZPH5vrL5+X9l83NjElj67EVNREgQIBAlQUEJqoMbHkCBAgQIECAAAECBAgQIECAAAECBAgQIECAAAECBAgQIEBg0AICE4Mmc8MrBAQmHAkCBAgQINBgAj09pXz38ReyZPmqLHv6xX67O3/2MensmJ+3nntixoxqbTAJ7RAgQIDAYAQEJgaj5VoCBAgQIECAAAECBAgQIECAAAECBAgQIECAAAECBAgQIECgFgICE7VQbuw9BCYae766I0CAAIEmEtix90C+cM+63LSiK6tf3F2281GtLXnLuSems6M9F809tomEtEqAAAEC/QkITDgfBAgQIECAAAECBAgQIECAAAECBAgQIECAAAECBAgQIECAQL0JCEzU20SKV4/ARPFmpmICBAgQINBHYNXmXblpeVe+cM/a7NrfXVbn2Amj8/7L5ub6y9tzwjHjKBIgQIAAgT4CAhMOBAECBAgQIECAAAECBAgQIECAAAECBAgQIECAAAECBAgQIFBvAgIT9TaR4tUjMFG8mamYAAECBAikVCrlx09vzpJlXfneEy+kVCqPcsYJk/PBjvl5+wUnZdzoNnoECBAgQOBVBQQmHAwCBAgQIECAAAECBAgQIECAAAECBAgQIECAAAECBAgQIECg3gQEJuptIsWrR2CieDNTMQECBAg0scDu/Qfz5fufy9JlXXnqhZ1lJVpakjeeOTOdHfNz+cnT0tL7Gz4ECBAgQKAfAYEJx4MAAQIECBAgQIAAAQIECBAgQIAAAQIECBAgQIAAAQIECBCoNwFPvtXbRIpXj8BE8WamYgIECBBoQoF1L+3OLStW5/aVa7Ntz4GyApPHjco1C+Zk0cL2zJk2oQmltEyAAAECQxUQmBiqnPsIECBAgAABAgQIECBAgAABAgQIECBAgAABAgQIECBAgACBagkITFRLtnnWFZhonlnrlAABAgQKJlAqlbKy66UsWbYq33x0Q3pK5Rs4ecbELO5ozy9dNDsTx44qWKfKJUCAAIF6EBCYqIcpqIEAAQIECBAgQIAAAQIECBAgQIAAAQIECBAgQIAAAQIECBB4uYDAhPMwXAGBieEKup8AAQIECFRYYN/B7nz9wfWHghKPPr+939WvPO24dHa053WnHpfWVl8NKzwKyxEgQKCpBAQmmmrcmiVAgAABAgQIECBAgAABAgQIECBAgAABAgQIECBAgAABAoUQ8FRcIcZU10UKTNT1eBRHgAABAs0k8ML2vbn1rtX53N1rsnnn/rKtTxjTduhNEosWtueU4yc1E5FeCRAgQKCKAgITVcS1NAECBAgQIECAAAECBAgQIECAAAECBAgQIECAAAECBAgQIDAkAYGJIbG56WUCAhOOAwECBAgQGGGBB9duPfQ2iTseXp8D3aWy1cw+dnwWL2zP1Qvm5Jjxo0e4atsTIECAQKMJCEw02kT1Q4AAAQIECBAgQIAAAQIECBAgQIAAAQIECBAgQIAAAQIEii8gMFH8GY50BwITIz0B+xMgQIBAUwoc6O7JnY9syNJlq3Lfmq39Glx+8rR0dszPG86cmbZWX/+a8sBomgABAjUQEJioAbItCBAgQIAAAQIECBAgQIAAAQIECBAgQIAAAQIECBAgQIAAgUEJeGJuUFwufhUBgQnHggABAgQI1FBgy679ue3uNbllxeps2L637M5jRrXmXRfMyqKF7TnrpCk1rNBWBAgQINCsAgITzTp5fRMgQIAAAQIECBAgQIAAAQIECBAgQIAAAQIECBAgQIAAgfoVEJio39kUpTKBiaJMSp0ECBAgUGiBx9Zvz9JlXfnKA89l38Gesr3MnDI2N1zRnmsvnZtpE8cUumfFEyBAgECxBAQmijUv1RIgQIAAAQIECBAgQIAAAQIECBAgQIAAAQIECBAgQIAAgWYQEJhohilXt0eBier6Wp0AAQIEmligu6eUbz+2MUuWrcpdz27pV+LCuVPT2TE/bznnhIxua21iNa0TIECAwEgJCEyMlLx9CRAgQIAAAQIECBAgQIAAAQIECBAgQIAAAQIECBAgQIAAgXICAhPOxnAFBCaGK+h+AgQIECDwCoFtew7kC/eszU0rurJ2y56yPqNaW/K28048FJS4YM5UjgQIECBAYEQFBCZGlN/mBAgQIECAAAECBAgQIECAAAECBAgQIECAAAECBAgQIECAwKsICEzU/lj0/pXPP0zScXjr1Unah1lG7xyvT7IoyblJpiRZn+R7Sf5nkgeGuX5/twtMVBHX0gQIECDQXALPbNqZm5Z35Yv3rsvu/d1lm58+cUyuu2xurrt8XmZOGddcSLolQIAAgboVEJio29EojAABAgQIECBAgAABAgQIECBAgAABAgQIECBAgAABAgQINK2AwETtR/8fknziZdsONzAxIclXk7yhTCsHkvxOkk9VqVWBiSrBWpYAAQIEmkOgp6eUHz61KUuXd+X7T2zqt+mzTpySzo72XHX+SRk3uq05gHRJgAABAoUREJgozKgUSoAAAQIECBAgQIAAAQIECBAgQIAAAQIECBAgQIAAAQIEmkZAYKK2o3L3gGsAACAASURBVJ6b5NEkY5NsSDInyXADE59PcvXhNv4+ySeTvJDkwiR/meSCJKUkVyW5owrtCkxUAdWSBAgQIND4Arv2HcyX7luXJcu78uymXWUbbm1J3nT2CensmJ9L2o9NS4uvb41/OnRIgACBYgoITBRzbqomQIAAAQIECBAgQIAAAQIECBAgQIAAAQIECBAgQIAAAQKNLOCJu9pO984kb07ysSQdSa4cZmDiZ5N873ALf53k91/RzpQkDySZn+SpJGclOVjhlgUmKgxqOQIECBBobIG1W3bn5hVduX3l2uzYW/4/y1PGjcq1l87N9VfMy+xje18o5UOAAAECBOpbQGCivuejOgIECBAgQIAAAQIECBAgQIAAAQIECBAgQIAAAQIECBAg0IwCAhO1m/r1SW5O8nSSc5N8owKBiS8leVeSbUlmJXm1v576f+/b2+nbk3y9wi0LTFQY1HIECBAg0HgCpVIpdz27JUuWrcq3H9uYnt53P5X5nHL8pCxe2J53XzQrE8aMajwMHREgQIBAwwoITDTsaDVGgAABAgQIECBAgAABAgQIECBAgAABAgQIECBAgAABAgQKKyAwUZvRHZfksSTTk/x8ku8m+f4wAxPjkryYpPevnL4lyQ1lWhmfZGuSMUluTPKhCrcsMFFhUMsRIECAQOMI7D3Qna898HyWLO/KY+u399vYz51xfDo72vMzp8xIS4uvaI1zCnRCgACB5hEQmGieWeuUAAECBAgQIECAAAECBAgQIECAAAECBAgQIECAAAECBAgURcDTeLWZ1O1JrklyU5LFh7ccbmDiwiT3HV7r15J8up9W7kpyWZIHk1xQ4ZYFJioMajkCBAgQKL7Ahm17c8tdXbnt7rXZsmt/2YYmjmnL1QvmZNHC9syfMbH4jeuAAAECBJpaQGCiqceveQIECBAgQIAAAQIECBAgQIAAAQIECBAgQIAAAQIECBAgUJcCAhPVH8tVSb6WZHOSMw//s3fX4QYmrk3yucPlvzHJt/tp5bNJ3p9k7+E3UpQq2LbARAUxLUWAAAECxRa4b81LWbKsK3c+vD4He8r/53butAmHQhJXL5idKeNGF7tp1RMgQIAAgcMCAhOOAgECBAgQIECAAAECBAgQIECAAAECBAgQIECAAAECBAgQIFBvAgIT1Z3IlCQ/TTIryaIkN79su+EGJn4ryccPr3dukkf6aeVvk/zu4Z/31rRjkG33hiLKfaYleaL3h5s2bcqMGf1dOshdXU6AAAECBAoisOKZF/MX33g8D67d2m/FHadMT+fC+Xn9GcenrdXXsIKMV5kECBAgMEABgYkBQrmMAAECBAgQIECAAAECBAgQIECAAAECBAgQIECAAAECBAgQqJmAJ/WqS/0PSX41yXeSvOEVWw03MPHRJH9+eM1TkzzdTyu91/Ve3/s5Kcn6QbY9oDdSCEwMUtXlBAgQINAQArfetTp/8rVH013mjRJjR7Xm3RfNyuKF83P6CZMbomdNECBAgACBVxMQmHAuCBAgQIAAAQIECBAgQIAAAQIECBAgQIAAAQIECBAgQIAAgXoTEJio3kSuTPK9JPuS9L4B4pWBhkoGJk5J8kw/rfzXJH90+OcCE9WbuZUJECBAoIkEenpK+ctvPJ5P//DZV+36xGPG5YYr2vO+S+bk2IljmkhGqwQIECDQrAICE806eX0TIECAAAECBAgQIECAAAECBAgQIECAAAECBAgQIECAAIH6FRCYqM5sxiV5KEnvmx963+zw315lm+EGJn4ryccPr9sbyHikn1b+JsnvHf75lCQ7Btn2jH6un5bkid6fe8PEIFVdToAAAQKFFdh7oDu/9/kH8q8PbziihwXzjk1nx/y86eyZGdXWWtgeFU6AAAECBAYrIDAxWDHXEyBAgAABAgQIECBAgAABAgQIECBAgAABAgQIECBAgAABAtUWEJiojvAfJ/nTwyGGi5IceJVthhuYeH+Szx5e9w1JvtNPK7cmue7w2y7GJylVsO3eMMWm3vUEJiqoaikCBAgQqFuBF3fuy6/cfE/uW7O1T42j21ryl790Xt590ey6rV1hBAgQIECgmgICE9XUtTYBAgQIECBAgAABAgQIECBAgAABAgQIECBAgAABAgQIECAwFAGBiaGoHf2epUkWHf2yI674apJ3DvC+3iDGvYev/bUkn+7nvhVJLj/81ovzB7j+QC8TmBiolOsIECBAoPACz2zamc4lK7Nmy+4+vUwZNyqfvn5BrnjN9ML3qAECBAgQIDBUAYGJocq5jwABAgQIECBAgAABAgQIECBAgAABAgQIECBAgAABAgQIEKiWgMBEdWRrEZgYl+TFJBOS3JRkcZlWeq/blmRMkhuTfKjCLQtMVBjUcgQIECBQnwJ3r9py6M0S2/b0fXHU7GPHZ2nnJTnl+Mn1WbiqCBAgQIBAjQQEJmoEbRsCBAgQIECAAAECBAgQIECAAAECBAgQIECAAAECBAgQIEBgwAICEwOmGtSFc5NMO8odn0lycZL1Sd56+NreYMOqQez0pSTvSrI1yawkff+66/9/oeuS3Hp4zbcn+fog1h/IpQITA1FyDQECBAgUWuCrDzyX3//CQ9nf3dOnj/PnTM1nbliQ4yaPLXR/iidAgAABApUQEJiohKI1CBAgQIAAAQIECBAgQIAAAQIECBAgQIAAAQIECBAgQIAAgUoKCExUUnNwa30/yZVJVidpH9yt/3b165N89/Cv/jLJH75inUlJHkjymiRPJzkrSd+/FnuIG7/sNoGJ4RtagQABAgTqVKBUKuWT33s6f/3/PnlEhW86e2b+7poLM35MW51WrywCBAgQIFBbAYGJ2nrbjQABAgQIECBAgAABAgQIECBAgAABAgQIECBAgAABAgQIEDi6gMDE0Y2qdcVAAhNdSeYdJVTx+SRXHy7yk0l6/7cpyYVJekMUvf8sJbkqyR1VaEZgogqoliRAgACBkRc40N2TP/ryw/n8PeuOKOZDPzM/H33rmWlr9VVq5CelAgIECBCoFwGBiXqZhDoIECBAgAABAgQIECBAgAABAgQIECBAgAABAgQIECBAgACB/y3gKb+ROwuVCkxMSPLVJG8o00rvGyV+J8mnqtSqwESVYC1LgAABAiMnsH3vgXzks/flR09t7lNEbz7iT646O4sWDvXlUCPXk50JECBAgEC1BQQmqi1sfQIECBAgQIAAAQIECBAgQIAAAQIECBAgQIAAAQIECBAgQGCwAgITgxWr3PWVCkz0VtQ7xxuSLEpybpLJSTYk+V6Sjyd5oHJlH7GSwEQVcS1NgAABArUXeG7rnnxwyco8sXFHn83Hj27LJ669MG84a2bti7IjAQIECBAogIDARAGGpEQCBAgQIECAAAECBAgQIECAAAECBAgQIECAAAECBAgQINBkAgITTTbwKrQrMFEFVEsSIECAwMgIPPLctnxw6cq8sGNfnwKOmzw2Ny66JOfOPmZkCrMrAQIECBAogIDARAGGpEQCBAgQIECAAAECBAgQIECAAAECBAgQIECAAAECBAgQINBkAgITTTbwKrQrMFEFVEsSIECAQO0FvvPYxvzmbfdn9/7uPpufNnNSlnRemllTx9e+KDsSIECAAIECCQhMFGhYSiVAgAABAgQIECBAgAABAgQIECBAgAABAgQIECBAgAABAk0iIDDRJIOuYpsCE1XEtTQBAgQI1EbglhVd+ZOvPZqeUt/9fuaUGfnUBy7KlHGja1OIXQgQIECAQIEFBCYKPDylEyBAgAABAgQIECBAgAABAgQIECBAgAABAgQIECBAgACBBhUQmGjQwdawLYGJGmLbigABAgQqK9DTU8rH/vWxfObHq45Y+L0LZufP33VuRre1VnZTqxEgQIAAgQYVEJho0MFqiwABAgQIECBAgAABAgQIECBAgAABAgQIECBAgAABAgQIFFhAYKLAw6uT0gUm6mQQyiBAgACBwQns2d+d3/2nB/KNRzccceN/+oXT8pHXn5KWFl+VBqfqagIECBBoZgGBiWaevt4JECBAgAABAgQIECBAgAABAgQIECBAgAABAgQIECBAgEB9CngKsD7nUqSqBCaKNC21EiBAgMAhgc079+VDN92TB9du7SMypq01//3q8/KOC2aRIkCAAAECBAYpIDAxSDCXEyBAgAABAgQIECBAgAABAgQIECBAgAABAgQIECBAgAABAlUXEJioOnHDbyAw0fAj1iABAgQaS+DpF3amc+ndWbtlT5/Gjhk/Ov94/cW57OTpjdWwbggQIECAQI0EBCZqBG0bAgQIECBAgAABAgQIECBAgAABAgQIECBAgAABAgQIECBAYMACAhMDpnJhGQGBCUeDAAECBAojcNezL+bDN9+T7XsP9ql57rQJWdJ5SV5z3KTC9KJQAgQIECBQbwICE/U2EfUQIECAAAECBAgQIECAAAECBAgQIECAAAECBAgQIECAAAECAhPOwHAFBCaGK+h+AgQIEKiJwJfvX5c/+OJDOdBd6rPfhXOn5jM3LMj0SWNrUodNCBAgQIBAowoITDTqZPVFgAABAgQIECBAgAABAgQIECBAgAABAgQIECBAgAABAgSKKyAwUdzZ1UvlAhP1Mgl1ECBAgMCrCpRKpXziu0/nb7/15BE/f8s5J+R/XHNBxo1uo0eAAAECBAgMU0BgYpiAbidAgAABAgQIECBAgAABAgQIECBAgAABAgQIECBAgAABAgQqLiAwUXHSpltQYKLpRq5hAgQIFEdg/8GefPTLD+eL9647ougPv+7k/OGbz0hrq69DxZmoSgkQIECgngUEJup5OmojQIAAAQIECBAgQIAAAQIECBAgQIAAAQIECBAgQIAAAQLNKeAJweaceyW7FpiopKa1CBAgQKBiAtv2HMiv33pvlj/zYp81e/MRf/qOc3L95fMqtpeFCBAgQIAAgURgwikgQIAAAQIECBAgQIAAAQIECBAgQIAAAQIECBAgQIAAAQIE6k1AYKLeJlK8egQmijczFRMgQKDhBda9tDudS1bmqRd29ul1wpi2fPL9F+X1Zxzf8AYaJECAAAECtRYQmKi1uP0IECBAgAABAgQIECBAgAABAgQIECBAgAABAgQIECBAgACBowkITBxNyM+PJiAwcTQhPydAgACBmgo8tG5rPrj0nmzeua/PvsdPHpsbF1+Sc2YdU9N6bEaAAAECBJpFQGCiWSatTwIECBAgQIAAAQIECBAgQIAAAQIECBAgQIAAAQIECBAgUBwBgYnizKpeKxWYqNfJqIsAAQJNKPCtn27Mb912f/Yc6O7T/RknTD4Uljhp6vgmVNEyAQIECBCojYDARG2c7UKAAAECBAgQIECAAAECBAgQIECAAAECBAgQIECAAAECBAgMXEBgYuBWrnx1AYEJJ4MAAQIE6kJg6bJV+dN/+WlKpb7lvPbUGfnUdRdl8rjRdVGnIggQIECAQKMKCEw06mT1RYAAAQIECBAgQIAAAQIECBAgQIAAAQIECBAgQIAAAQIEiisgMFHc2dVL5QIT9TIJdRAgQKBJBbp7SvnzOx7LjctWHSHwvkvm5M/eeU5Gt7U2qY62CRAgQIBA7QQEJmpnbScCBAgQIECAAAECBAgQIECAAAECBAgQIECAAAECBAgQIEBgYAICEwNzclV5AYEJp4MAAQIERkxg9/6D+e3bH8i3frrxiBr+4M2n59evfE1aWnzdGbEB2ZgAAQIEmkpAYKKpxq1ZAgQIECBAgAABAgQIECBAgAABAgQIECBAgAABAgQIECBQCAFPEBZiTHVdpMBEXY9HcQQIEGhcgU079uWXb1qZB9dt69PkmLbW/PV7z8/bzz+pcZvXGQECBAgQqEMBgYk6HIqSCBAgQIAAAQIECBAgQIAAAQIECBAgQIAAAQIECBAgQIBAkwsITDT5AahA+wITFUC0BAECBAgMTuCpjTvSuXRl1r20p8+NUyeMzv+6YUEuaZ82uAVdTYAAAQIECAxbQGBi2IQWIECAAAECBAgQIECAAAECBAgQIECAAAECBAgQIECAAAECBCosIDBRYdAmXE5gogmHrmUCBAiMpMDypzfnV2+9Nzv2HuxTxrzpE7K089LMnzFxJMuzNwECBAgQaFoBgYmmHb3GCRAgQIAAAQIECBAgQIAAAQIECBAgQIAAAQIECBAgQIBA3QoITNTtaApTmMBEYUalUAIECBRf4J/vXZc//NJDOdBd6tPMxfOOzT9ef3GmTxpb/CZ1QIAAAQIECiogMFHQwSmbAAECBAgQIECAAAECBAgQIECAAAECBAgQIECAAAECBAg0sIDARAMPt0atCUzUCNo2BAgQaGaBUqmUv/v2U/n4d546guFt552Yv7n6/Iwb3dbMRHonQIAAAQIjLiAwMeIjUAABAgQIECBAgAABAgQIECBAgAABAgQIECBAgAABAgQIECDwCgGBCUdiuAICE8MVdD8BAgQI9Cuw/2BP/vCfH8qX7n/uiOt+7crX5A/edHpaW32lcYwIECBAgMBICwhMjPQE7E+AAAECBAgQIECAAAECBAgQIECAAAECBAgQIECAAAECBAi8UsDThc7EcAUEJoYr6H4CBAgQKCuwbfeB/Nqt92bFsy/2uaattSV/9o5z8v7L5tIjQIAAAQIE6kRAYKJOBqEMAgQIECBAgAABAgQIECBAgAABAgQIECBAgAABAgQIECBA4N8EBCYchuEKCEwMV9D9BAgQIPCqAmu37M7iJXfnmU27+vx84pi2fPK6i/Kzpx9PjgABAgQIEKgjAYGJOhqGUggQIECAAAECBAgQIECAAAECBAgQIECAAAECBAgQIECAAIFDAgITDsJwBQQmhivofgIECBA4QuCBtVvzyzetzOad+/v87IQp43Lj4kty1klTqBEgQIAAAQJ1JiAwUWcDUQ4BAgQIECBAgAABAgQIECBAgAABAgQIECBAgAABAgQIECAgMOEMDFtAYGLYhBYgQIAAgZcLfPPRDfnt2+/P3gM9fWDOPHFKbly8ICceMx4YAQIECBAgUIcCAhN1OBQlESBAgAABAgQIECBAgAABAgQIECBAgAABAgQIECBAgACBJhfwhokmPwAVaF9gogKIliBAgACBpFQq5cZlXfmvd/w0pVJfkStPOy6fvO6iTBo7ChUBAgQIECBQpwICE3U6GGURIECAAAECBAgQIECAAAECBAgQIECAAAECBAgQIECAAIEmFhCYaOLhV6h1gYkKQVqGAAECzSzQ3VPKn/3LT7N0edcRDO+/bG7+77efnVFtrc1MpHcCBAgQIFD3AgITdT8iBRIgQIAAAQIECBAgQIAAAQIECBAgQIAAAQIECBAgQIAAgaYTEJhoupFXvGGBiYqTWpAAAQLNJbB7/8H81m3359uPvXBE4//nW87Ih193clpafGVprlOhWwIECBAoooDARBGnpmYCBAgQIECAAAECBAgQIECAAAECBAgQIECAAAECBAgQINDYAp4+bOz51qI7gYlaKNuDAAECDSrwwva9+dBN9+Th57b16XDMqNb8j/dekLedd2KDdq4tAgQIECDQeAICE403Ux0RIECAAAECBAgQIECAAAECBAgQIECAAAECBAgQIECAAIGiCwhMFH2CI1+/wMTIz0AFBAgQKKTAkxt3pHPJyjy3dU+f+o+dMDqfWbQgF8+bVsi+FE2AAAECBJpVQGCiWSevbwIECBAgQIAAAQIECBAgQIAAAQIECBAgQIAAAQIECBAgUL8CAhP1O5uiVCYwUZRJqZMAAQJ1JPDjpzbn12+9Nzv2HexT1fwZE7Nk8SVpnzGxjqpVCgECBAgQIDAQAYGJgSi5hgABAgQIECBAgAABAgQIECBAgAABAgQIECBAgAABAgQIEKilgMBELbUbcy+Bicacq64IECBQNYHP37M2H/3SwznYU+qzxyXtx+Yfr1+QYyeOqdreFiZAgAABAgSqJyAwUT1bKxMgQIAAAQIECBAgQIAAAQIECBAgQIAAAQIECBAgQIAAAQJDExCYGJqbu/5dQGDCaSBAgACBAQmUSqX87beezCe++/QR1191/kn57+85L+NGtw1oLRcRIECAAAEC9ScgMFF/M1ERAQIECBAgQIAAAQIECBAgQIAAAQIECBAgQIAAAQIECBBodgGBiWY/AcPvX2Bi+IZWIECAQMML7DvYnf/jiw/lKw88f0SvH3n9a/If33h6Wlt9LWn4g6BBAgQIEGhoAYGJhh6v5ggQIECAAAECBAgQIECAAAECBAgQIECAAAECBAgQIECAQCEFPJlYyLHVVdECE3U1DsUQIECg/gS27t6fD99yb+5etaVPcW2tLfnzd56T9106t/6KVhEBAgQIECAwaAGBiUGTuYEAAQIECBAgQIAAAQIECBAgQIAAAQIECBAgQIAAAQIECBCosoDARJWBm2B5gYkmGLIWCRAgMFSBNS/uzuKld+fZTbv6LDFp7Kh86rqL8rrTjhvq0u4jQIAAAQIE6kxAYKLOBqIcAgQIECBAgAABAgQIECBAgAABAgQIECBAgAABAgQIECBAIAITDsFwBQQmhivofgIECDSowH1rXsqv3HRPXty1v0+HJx4zLks6L8kZJ0xp0M61RYAAAQIEmlNAYKI5565rAgQIECBAgAABAgQIECBAgAABAgQIECBAgAABAgQIECBQzwICE/U8nWLUJjBRjDmpkgABAjUVuPPh9fmdf3og+w729Nn37JOm5MbFl2TmlHE1rcdmBAgQIECAQPUFBCaqb2wHAgQIECBAgAABAgQIECBAgAABAgQIECBAgAABAgQIECBAYHACAhOD83L1kQICE04FAQIECPybQKlUymd+tCofu/OxlEp9YX7ujOPziWsvzMSxo4gRIECAAAECDSggMNGAQ9USAQIECBAgQIAAAQIECBAgQIAAAQIECBAgQIAAAQIECBAouIDARMEHWAflC0zUwRCUQIAAgXoQONjdkz/9+k9zy12rjyjnA5fPzX+56uyMamuth1LVQIAAAQIECFRBQGCiCqiWJECAAAECBAgQIECAAAECBAgQIECAAAECBAgQIECAAAECBIYlIDAxLD43JxGYcAwIECBAILv2Hcxv3nZ/vvv4C300WlqSj77lzPzya+enpfcXPgQIECBAgEDDCghMNOxoNUaAAAECBAgQIECAAAECBAgQIECAAAECBAgQIECAAAECBAor4MnFwo6ubgoXmKibUSiEAAECIyOwcfvefHDpyjz6/PY+BYwd1Zq/u+aCvOXcE0emMLsSIECAAAECNRUQmKgpt80IECBAgAABAgQIECBAgAABAgQIECBAgAABAgQIECBAgACBAQgITAwAySX9CghMOCAECBBoYoHHN2xP55KVWb9tbx+F6RPH5H8tWpCL5h7bxDpaJ0CAAAECzSUgMNFc89YtAQIECBAgQIAAAQIECBAgQIAAAQIECBAgQIAAAQIECBAogoDARBGmVN81CkzU93xUR4AAgaoJ/PDJTfmNz96XnfsO9tnj5OMmZuniSzN3+oSq7W1hAgQIECBAoP4EBCbqbyYqIkCAAAECBAgQIECAAAECBAgQIECAAAECBAgQIECAAAECzS4gMNHsJ2D4/QtMDN/QCgQIECicwO13r8kffeWRdPeU+tR+6fxp+cfrL87UCWMK15OCCRAgQIAAgeEJCEwMz8/dBAgQIECAAAECBAgQIECAAAECBAgQIECAAAECBAgQIECAQOUFBCYqb9psKwpMNNvE9UuAQFML9PSU8jffeiKf/N4zRzi844KT8lfvOS9jR7U1tZHmCRAgQIBAswoITDTr5PVNgAABAgQIECBAgAABAgQIECBAgAABAgQIECBAgAABAgTqV0Bgon5nU5TKBCaKMil1EiBAYJgCew905/e/+FC+/uDzR6z0Wz93Sn73jaelpcVXi2Eyu50AAQIECBRWQGCisKNTOAECBAgQIECAAAECBAgQIECAAAECBAgQIECAAAECBAgQaFgBTzU27Ghr1pjARM2obUSAAIGRE3hp1/58+JZ7srLrpT5FjGptycfefW7eu2DOyBVnZwIECBAgQKAuBAQm6mIMiiBAgAABAgQIECBAgAABAgQIECBAgAABAgQIECBAgAABAgReJiAw4TgMV0BgYriC7idAgECdC3Rt3pXOpSuzavOuPpVOHjsqf/+Bi/Mzp/b+p8CHAAECBAgQaHYBgYlmPwH6J0CAAAECBAgQIECAAAECBAgQIECAAAECBAgQIECAAAEC9ScgMFF/MylaRQITRZuYegkQIDAIgXtXb8mv3Hxvtuza3+euWVPH58bFl+T0EyYPYjWXEiBAgAABAo0sIDDRyNPVGwECBAgQIECAAAECBAgQIECAAAECBAgQIECAAAECBAgQKKaAwEQx51ZPVQtM1NM01EKAAIEKCtzx0Pr87ucfyP6DPX1WPWfWlNy46JIcP2VcBXezFAECBAgQIFB0AYGJok9Q/QQIECBAgAABAgQIECBAgAABAgQIECBAgAABAgQIECBAoPEEBCYab6a17khgotbi9iNAgECVBUqlUj79w2fzF3c+fsRObzjz+Hz8fRdm4thRVa7C8gQIECBAgEDRBAQmijYx9RIgQIAAAQIECBAgQIAAAQIECBAgQIAAAQIECBAgQIAAgcYXEJho/BlXu0OBiWoLW58AAQI1FDjY3ZM//tqj+dxP1hyx66Ir5uWPrzo7ba2+PtRwJLYiQIAAAQKFERCYKMyoFEqAAAECBAgQIECAAAECBAgQIECAAAECBAgQIECAAAECBJpGwBOPTTPqqjUqMFE1WgsTIECgtgI79x3MRz57X37w5KY+G7e0JP/X287KBzva09L7Cx8CBAgQIECAwKsICEw4FgQIECBAgAABAgQIECBAgAABAgQIECBAgAABAgQIECBAgEC9CXjqsd4mUrx6BCaKNzMVEyBA4AiBrTCkpAAAIABJREFUDdv2pnPpyjy2fnufn40b3Zq/u+bCvPmcE6gRIECAAAECBPoVEJhwQAgQIECAAAECBAgQIECAAAECBAgQIECAAAECBAgQIECAAIF6ExCYqLeJFK8egYnizUzFBAgQ6CPw0+e354NLV2bD9r19fn/GpDH5zKJLcsGcqcQIECBAgAABAkcVEJg4KpELCBAgQIAAAQIECBAgQIAAAQIECBAgQIAAAQIECBAgQIAAgRoLCEzUGLwBtxOYaMChaokAgeYR+P4TL+Qjn70vu/Z392n6NcdNzNLOSzNn2oTmwdApAQIECBAgMCwBgYlh8bmZAAECBAgQIECAAAECBAgQIECAAAECBAgQIECAAAECBAgQqIKAwEQVUJtsSYGJJhu4dgkQaByBz/1kTf7zVx9Jd0+pT1OXnzwtn/7AghwzYXTjNKsTAgQIECBAoOoCAhNVJ7YBAQIECBAgQIAAAQIECBAgQIAAAQIECBAgQIAAAQIECBAgMEgBgYlBgrn8CAGBCYeCAAECBRPo6Snlr775RP7hB88cUfm7L5yVv/il8zJmVGvBulIuAQIECBAgMNICAhMjPQH7EyBAgAABAgQIECBAgAABAgQIECBAgAABAgQIECBAgAABAq8UEJhwJoYrIDAxXEH3EyBAoIYCew905z9+4cHc8dD6I3b97Z8/Nb/zhlPT0uLrQQ1HYisCBAgQINAwAgITDTNKjRAgQIAAAQIECBAgQIAAAQIECBAgQIAAAQIECBAgQIAAgYYR8ERkw4xyxBoRmBgxehsTIEBgcAJbdu3Pr9x8T+5d/VKfG0e1thx6q8R7Lp49uAVdTYAAAQIECBB4mYDAhONAgAABAgQIECBAgAABAgQIECBAgAABAgQIECBAgAABAgQI1JuAwES9TaR49QhMFG9mKiZAoAkFVm3elc4ld6frxd19up88blQ+/YGLs/CU3v879yFAgAABAgQIDF1AYGLodu4kQIAAAQIECBAgQIAAAQIECBAgQIAAAQIECBAgQIAAAQIEqiMgMFEd12ZaVWCimaatVwIECimwsmtLPnzzPXlp94E+9c+aOj5LOy/JqTMnF7IvRRMgQIAAAQL1JSAwUV/zUA0BAgQIECBAgAABAgQIECBAgAABAgQIECBAgAABAgQIECCQCEw4BcMVEJgYrqD7CRAgUEWBrz34fP7T5x/M/u6ePrucN/uYfGbRghw/eVwVd7c0AQIECBAg0EwCAhPNNG29EiBAgAABAgQIECBAgAABAgQIECBAgAABAgQIECBAgACBYggITBRjTvVcpcBEPU9HbQQINK1AqVTK3//gmfzVN544wuCNZ83Mx993QSaMGdW0PhonQIAAAQIEKi8gMFF5UysSIECAAAECBAgQIECAAAECBAgQIECAAAECBAgQIECAAAECwxMQmBien7sTgQmngAABAnUmcKC7J//5K4/k9pVrj6jsgx3z80dvOzNtrb4C1NnYlEOAAAECBAovIDBR+BFqgAABAgQIECBAgAABAgQIECBAgAABAgQIECBAgAABAgQINJyApyWrN9LZSd6RZEGS85LMTDL98HYbk9yb5LYk/5ykNIwy/kuSPxnA/buSTBrAdYO9RGBisGKuJ0CAQBUFduw9kN/47H350VOb++zS0pL88S+elc6O+VXc3dIECBAgQIBAMwsITDTz9PVOgAABAgQIECBAgAABAgQIECBAgAABAgQIECBAgAABAgTqU0Bgonpz+bUkfz+A5X+c5J1JXhzAta92icDEEOHcRoAAgUYTeH7rnnxw6co8vmFHn9bGj27L/7z2wrzxrN7sng8BAgQIECBAoDoCAhPVcbUqAQIECBAgQIAAAQIECBAgQIAAAQIECBAgQIAAAQIECBAgMHQBgYmh2x3tzsVJ3p/kO0nuT/Jckg1JjklyepKPJHnb4UV+lOTKIb5p4uWBicn9FNX7Fovet0xU+uMNE5UWtR4BAgSGIPDIc9vyoZtWZuP2fX3unjFp7P/H3n3H2VmW+eP/zEwmjYRAEkLvvROSYMPedVfEFZWeRIrdRVfXtrri6rrrWpa1gUpCE2FV0K8u9oq6koTQeyfU0EJ6mTm/1+E3uhwmZebMOWeec877/MMrOc9939f1vh5m/nk+eXL2zOk5aIctqtjVEgIECBAgQIDAwAUEJgZu5UoCBAgQIECAAAECBAgQIECAAAECBAgQIECAAAECBAgQIECgMQICE41x3tApZyY5pe/LcmDid1WU8/TAxHDMU2CiiqFZQoAAgVoK/Pqmh/POb1+ZFWt6Krbdc8q4zJk1IztsObaWx9mLAAECBAgQILBeAYEJNwYBAgQIECBAgAABAgQIECBAgAABAgQIECBAgAABAgQIECBQNIHheMC+aAbDWc+0JPP7Cnh/ki9UUYzARBVolhAgQKBVBM7737vziR9cl97ye4Se9nnu7pPyteOmZcKY7lZpVR8ECBAgQIBAwQUEJgo+IOURIECAAAECBAgQIECAAAECBAgQIECAAAECBAgQIECAAIE2FBCYGN6hH5jkmr4S3pXkK1WUIzBRBZolBAgQaHaB3t5SPvuTm3LW7+7o18obp+2Qzxx5YEaO6Gz2NtVPgAABAgQINJGAwEQTDUupBAgQIECAAAECBAgQIECAAAECBAgQIECAAAECBAgQIECgTQQEJoZ30J9J8uG+Eg5LMq+KctYXmBiZZE0Ve1WzZHKSxeWFixcvzuTJ5T/6ECBAgEA9BVat7clpF12Vy657sN8x73v5Xnn3S/ZIR4df8fWcgb0JECBAgACB/gICE+4KAgQIECBAgAABAgQIECBAgAABAgQIECBAgAABAgQIECBAoGgCnqZs/EQmJtkjySlJZicpz+CiJG+pspSnByauTFJ+a0V3kuV9b6/4YZKvJ3miyv03tUxgYlNCvidAgEANBR5dtjonnTs/C++p/LHe3dWRf3/jQTly6g41PM1WBAgQIECAAIGBCwhMDNzKlQQIECBAgAABAgQIECBAgAABAgQIECBAgAABAgQIECBAgEBjBAQmGuNcDiycup6jyqGG8ncfSrKuylKeHpjY0Bblf4K8HMj4bZVnbOy1EeUAyM3lfb1hokpdywgQIDBAgdsXL8usOfNyz2MrKlZsPnpEzjphep6926QB7uQyAgQIECBAgEDtBQQmam9qRwIECBAgQIAAAQIECBAgQIAAAQIECBAgQIAAAQIECBAgQGBoAgITQ/Mb6OoNBSbOSvJfSa4b6Ebrue60JHsm+VGSW5MsSjKi700TJyWZ2fcWi2VJnpvk2irOKg1kjcDEQJRcQ4AAgeoE/nzHoznlvAVZsnJtxQY7ThyTOTNnZI8p46vb2CoCBAgQIECAQI0EBCZqBGkbAgQIECBAgAABAgQIECBAgAABAgQIECBAgAABAgQIECBAoGYCAhM1o9zoRqOSdPddsXlfmOGUJG/oe7PE+5OcUadSjktyXt/ev0zysirOEZioAs0SAgQI1ErgB1fdlw/89zVZ09NbseUhO26Rb544PZPHlX/N+BAgQIAAAQIEhldAYGJ4/Z1OgAABAgQIECBAgAABAgQIECBAgAABAgQIECBAgAABAgQI9BcQmBjeu+IjST7dV8KRSS6tUznf6wtnlLffLskDgzxn8kaun5jk5vL33jAxSFWXEyBAYBMCpVIpX/n1bfmPn93S78pX7r91vvTmqRkzsosjAQIECBAgQKAQAgIThRiDIggQIECAAAECBAgQIECAAAECBAgQIECAAAECBAgQIECAAIGnCQhMDO/t0JnkjiQ7J7k8yfPrVM7T3zLx2iT/U8NzymGKxeX9BCZqqGorAgTaXmBtT28+esm1uXj+on4WJx2+az78mn3T1enXeNvfKAAIECBAgECBBAQmCjQMpRAgQIAAAQIECBAgQIAAAQIECBAgQIAAAQIECBAgQIAAAQJPCXjScvhvhIuTHJVkeZJxdSrn5Ul+1rf3sUm+XcNzBCZqiGkrAgQIlAWeXLU27zj/ylx+2yMVIOV8xD+/bv+c8JxdQBEgQIAAAQIECicgMFG4kSiIAAECBAgQIECAAAECBAgQIECAAAECBAgQIECAAAECBAi0vYDAxPDfAt9PcmSdAxMnJDmnr9XXJLmshm0LTNQQ01YECBC474mVmTXnitzy0LIKjDHdXfnyMVPz0n23hkSAAAECBAgQKKSAwEQhx6IoAgQIECBAgAABAgQIECBAgAABAgQIECBAgAABAgQIECDQ1gICE8M7/pFJ7klSfvr16iSH1KmcS5MckaSUZLskD9bwHIGJGmLaigCB9ha4dtGSzD5nXhYvXV0BMWX8qJw9c0YO2H5CewPpngABAgQIECi0gMBEocejOAIECBAgQIAAAQIECBAgQIAAAQIECBAgQIAAAQIECBAg0JYCAhP1G/u+SW7cxPZfSHJa3zUfS/LpQZZTDiuU/wnyVRtZNzPJnL7vf57kFYM8Y1OXC0xsSsj3BAgQGIDAL298KO/69sKsXNtTcfXeW4/P2bNmZPstxgxgF5cQIECAAAECBIZPQGBi+OydTIAAAQIECBAgQIAAAQIECBAgQIAAAQIECBAgQIAAAQIECKxfQGCifndG+YnXy5KU3+4wP8n9SdYkmZRkRpK3JXlh3/E39P3divWUU34rRPnz2yQvesb3r09yZpILk5TDEOV9Hk8yOsn+SWYnOaZvzZNJntN3TS27Fpiopaa9CBBoS4Fz/3RX/vmH16f3Lz/x+xQO32Nyvnrcodl8dHdbumiaAAECBAgQaC4BgYnmmpdqCRAgQIAAAQIECBAgQIAAAQIECBAgQIAAAQIECBAgQIBAOwgITNRvys947HWDB/0iyXFJHtrAFZsKTFwygBbuTHJ0kj8P4NrBXiIwMVgx1xMgQKBPoKe3lM/8z4351uXlH9OVnzdP3zH/cuQB6e7q5EWAAAECBAgQaAoBgYmmGJMiCRAgQIAAAQIECBAgQIAAAQIECBAgQIAAAQIECBAgQIBAWwkITNRv3If3vUHi+Ul2TTIlybgky5LcneSKJN9J8qtNlLCxwMRWSY5K8uwkBycp/7n8Bovy2y0WJ1mY5Ad956ysU6sCE3WCtS0BAq0tsHJNT/7+ooX56fX983IfeOXeeceLdk9Hh1/TrX0X6I4AAQIECLSWgMBEa81TNwQIECBAgAABAgQIECBAgAABAgQIECBAgAABAgQIECBAoBUEPInZClMc3h4EJobX3+kECDShwOKlq3PSufNz9b1PVFQ/sqsznzvqoBxxyPZN2JWSCRAgQIAAgXYXEJho9ztA/wQIECBAgAABAgQIECBAgAABAgQIECBAgAABAgQIECBAoHgCAhPFm0mzVSQw0WwTUy8BAsMqcNvDSzNzzrwserzyxT9bjO3OWcdPz2G7ThzW+hxOgAABAgQIEKhWQGCiWjnrCBAgQIAAAQIECBAgQIAAAQIECBAgQIAAAQIECBAgQIAAgXoJCEzUS7Z99hWYaJ9Z65QAgSEK/On2R3PqefPz5Kp1FTvtNHFs5syakd23GjfEEywnQIAAAQIECAyfgMDE8Nk7mQABAgQIECBAgAABAgQIECBAgAABAgQIECBAgAABAgQIEFi/gMCEO2OoAgITQxW0ngCBthC4ZOGifPC712RtT6mi36k7bZFvnjA9k8aNagsHTRIgQIAAAQKtKyAw0bqz1RkBAgQIECBAgAABAgQIECBAgAABAgQIECBAgAABAgQIEGhWAYGJZp1cceoWmCjOLFRCgEABBUqlUs745W354i9u6Vfdaw7cJl940yEZ3d1VwMqVRIAAAQIECBAYnIDAxOC8XE2AAAECBAgQIECAAAECBAgQIECAAAECBAgQIECAAAECBAjUX0Bgov7GrX6CwESrT1h/BAhULbBmXW8+/P1r870rF/Xb49QX7JZ/fNU+6ez0q7hqYAsJECBAgACBQgkITBRqHIohQIAAAQIECBAgQIAAAQIECBAgQIAAAQIECBAgQIAAAQIEknhK020wVAGBiaEKWk+AQEsKLFm5Nm8/f0H+ePujFf2V8xGnH3FAjnv2zi3Zt6YIECBAgACB9hUQmGjf2eucAAECBAgQIECAAAECBAgQIECAAAECBAgQIECAAAECBAgUVUBgoqiTaZ66BCaaZ1YqJUCgQQL3PrYis+fOy60PL6s4cezIrnzlmEPz4n2mNKgSxxAgQIAAAQIEGicgMNE4aycRIECAAAECBAgQIECAAAECBAgQIECAAAECBAgQIECAAAECAxMQmBiYk6s2LCAw4e4gQIDA0wSuWfREZs+dn0eWra5w2XrzUfnWiTNywPYTeBEgQIAAAQIEWlJAYKIlx6opAgQIECBAgAABAgQIECBAgAABAgQIECBAgAABAgQIECDQ1AICE009vkIULzBRiDEoggCBIgj87PoH897vXJWVa3sqytlnm/GZM2tGtp0wpghlqoEAAQIECBAgUBcBgYm6sNqUAAECBAgQIECAAAECBAgQIECAAAECBAgQIECAAAECBAgQGIKAwMQQ8Cx9SkBgwo1AgACBJHP+cGdO/9ENKZUqOV6w11b5yjFTM350NycCBAgQIECAQEsLCEy09Hg1R4AAAQIECBAgQIAAAQIECBAgQIAAAQIECBAgQIAAAQIEmlJAYKIpx1aoogUmCjUOxRAg0GiBnt5S/uXHN2TOH+7qd/TRh+2Y0484IN1dnY0uy3kECBAgQIAAgYYLCEw0nNyBBAgQIECAAAECBAgQIECAAAECBAgQIECAAAECBAgQIECAwCYEBCbcIkMVEJgYqqD1BAg0rcCKNevy3u9clZ/f8FC/Hv7xVfvkbS/cLR0dftU27YAVToAAAQIECAxKQGBiUFwuJkCAAAECBAgQIECAAAECBAgQIECAAAECBAgQIECAAAECBBog4CnOBiC3+BECEy0+YO0RILB+gYeXrspJ58zPNYuWVFwwckRnPn/Uwfnbg7dDR4AAAQIECBBoKwGBibYat2YJECBAgAABAgQIECBAgAABAgQIECBAgAABAgQIECBAgEBTCAhMNMWYCl2kwEShx6M4AgTqIXDrQ0szc8683PfEyorttxzbnW+cMD3Td5lYj2PtSYAAAQIECBAotIDARKHHozgCBAgQIECAAAECBAgQIECAAAECBAgQIECAAAECBAgQINCWAgITbTn2mjYtMFFTTpsRIFB0gT/e9khOPX9Blq5aV1HqLpPGZs6sw7Lr5M2K3oL6CBAgQIAAAQJ1ERCYqAurTQkQIECAAAECBAgQIECAAAECBAgQIECAAAECBAgQIECAAIEhCAhMDAHP0qcEBCbcCAQItI3Adxcsyoe+d03W9ZYqep6285ZPvVli4mYj28ZCowQIECBAgACBZwoITLgnCBAgQIAAAQIECBAgQIAAAQIECBAgQIAAAQIECBAgQIAAgaIJCEwUbSLNV4/ARPPNTMUECAxSoFQq5Yu/uDVn/PLWfiv/5qBt8x9HHZzR3V2D3NXlBAgQIECAAIHWEhCYaK156oYAAQIECBAgQIAAAQIECBAgQIAAAQIECBAgQIAAAQIECLSCgMBEK0xxeHsQmBhef6cTIFBngTXrep96q8T3F97X76S3v2j3fOAVe6ez06/TOo/B9gQIECBAgEATCAhMNMGQlEiAAAECBAgQIECAAAECBAgQIECAAAECBAgQIECAAAECBNpMwBOebTbwOrQrMFEHVFsSIFAMgSUr1ubU8+fnf+94rKKgrs6O/MvrD8jRh+1UjEJVQYAAAQIECBAogIDARAGGoAQCBAgQIECAAAECBAgQIECAAAECBAgQIECAAAECBAgQIECgQkBgwg0xVAGBiaEKWk+AQCEF7n1sRWbOuSK3L15eUd+4USPylWMPzQv32qqQdSuKAAECBAgQIDBcAgITwyXvXAIECBAgQIAAAQIECBAgQIAAAQIECBAgQIAAAQIECBAgQGBDAgIT7o2hCghMDFXQegIECidw1b1P5KRz5uWRZWsqattm89E5e+aM7Lfd5oWrWUEECBAgQIAAgeEWEJgY7gk4nwABAgQIECBAgAABAgQIECBAgAABAgQIECBAgAABAgQIEHimgMCEe2KoAgITQxW0ngCBQgn85LoH8/cXLcyqtb0Vde237eZPhSW2mTC6UPUqhgABAgQIECBQFAGBiaJMQh0ECBAgQIAAAQIECBAgQIAAAQIECBAgQIAAAQIECBAgQIDAXwQEJtwLQxUQmBiqoPUECBRCoFQq5VuX35lP/8+NKZUqS3rR3lvly8ccmnGjRhSiVkUQIECAAAECBIooIDBRxKmoiQABAgQIECBAgAABAgQIECBAgAABAgQIECBAgAABAgQItLeAwER7z78W3QtM1ELRHgQIDKtAT28pp/+/63POn+7uV8exz9opn3zd/hnR1TmsNTqcAAECBAgQIFB0AYGJok9IfQQIECBAgAABAgQIECBAgAABAgQIECBAgAABAgQIECBAoP0EBCbab+a17lhgotai9iNAoKECy1evy3suXJhf3vRwv3M//Op9csoLdktHh1+XDR2KwwgQIECAAIGmFBCYaMqxKZoAAQIECBAgQIAAAQIECBAgQIAAAQIECBAgQIAAAQIECLS0gCdAW3q8DWlOYKIhzA4hQKAeAg8/uSqzz5mX6+57smL7kSM688U3HZLXHrRtPY61JwECBAgQIECgJQUEJlpyrJoiQIAAAQIECBAgQIAAAQIECBAgQIAAAQIECBAgQIAAAQJNLSAw0dTjK0TxAhOFGIMiCBAYrMDNDy7N7Lnzct8TKyuWTtxsZL5xwrRM23niYLd0PQECBAgQIECgrQUEJtp6/JonQIAAAQIECBAgQIAAAQIECBAgQIAAAQIECBAgQIAAAQKFFBCYKORYmqoogYmmGpdiCRAoC1x+6yN5+/kLsnT1ugqQ3SZvljmzZmTnSZuBIkCAAAECBAgQGKSAwMQgwVxOgAABAgQIECBAgAABAgQIECBAgAABAgQIECBAgAABAgQI1F1AYKLuxC1/gMBEy49YgwRaS+DieffmI5dcm3W9pYrGZuyyZc46fnq23GxkazWsGwIECBAgQIBAgwQEJhoE7RgCBAgQIECAAAECBAgQIECAAAECBAgQIECAAAECBAgQIEBgwAICEwOmcuEGBAQm3BoECDSFQKlUyhd+fkv+61e39av3dQdvl39/40EZ3d3VFL0okgABAgQIECBQRAGBiSJORU0ECBAgQIAAAQIECBAgQIAAAQIECBAgQIAAAQIECBAgQKC9BQQm2nv+teheYKIWivYgQKCuAqvX9eSD370mP7jq/n7nvOvFe+R9L98rnZ1+JdZ1CDYnQIAAAQIEWl5AYKLlR6xBAgQIECBAgAABAgQIECBAgAABAgQIECBAgAABAgQIECDQdAKeDm26kRWuYIGJwo1EQQQIPF3giRVrcsq5C3LFXY9VwHR1duQzRx6QN8/YCRgBAgQIECBAgEANBAQmaoBoCwIECBAgQIAAAQIECBAgQIAAAQIECBAgQIAAAQIECBAgQKCmAgITNeVsy80EJtpy7Jom0BwCdz+6PLPmzssdi5dXFDx+1Ih89bhD8/w9t2qORlRJgAABAgQIEGgCAYGJJhiSEgkQIECAAAECBAgQIECAAAECBAgQIECAAAECBAgQIECAQJsJCEy02cDr0K7ARB1QbUmAwNAFrrzn8Zx0zvw8tnxNxWbbTRids2fNyD7bbD70Q+xAgAABAgQIECDwVwGBCTcDAQIECBAgQIAAAQIECBAgQIAAAQIECBAgQIAAAQIECBAgUDQBgYmiTaT56hGYaL6ZqZhAywtcdu0D+fuLrsrqdb0Vve6/3eY5e+aMbL356JY30CABAgQIECBAoNECAhONFnceAQIECBAgQIAAAQIECBAgQIAAAQIECBAgQIAAAQIECBAgsCkBgYlNCfl+UwICE5sS8j0BAg0TKJVK+cbv78i/XnZTSqXKY1+yz5T819FTs9moEQ2rx0EECBAgQIAAgXYSEJhop2nrlQABAgQIECBAgAABAgQIECBAgAABAgQIECBAgAABAgQINIeAwERzzKnIVQpMFHk6aiPQRgLrenrzz//v+pz/v/f06/r4Z++cT/ztfhnR1dlGIlolQIAAAQIECDRWQGCisd5OI0CAAAECBAgQIECAAAECBAgQIECAAAECBAgQIECAAAECBDYtIDCxaSNXbFxAYMIdQoDAsAssX70u7/r2lfn1zYsraunoSD76mn3z1sN3TUf5Dz4ECBAgQIAAAQJ1ExCYqButjQkQIECAAAECBAgQIECAAAECBAgQIECAAAECBAgQIECAAIEqBTw9WiWcZX8VEJhwMxAgMKwCDy5Zldlz5+WGB56sqGPUiM7851sOyasO2HZY63M4AQIECBAgQKBdBAQm2mXS+iRAgAABAgQIECBAgAABAgQIECBAgAABAgQIECBAgAABAs0jIDDRPLMqaqUCE0WdjLoItIHAjQ88+VRY4oElqyq6nbTZyHzzxOmZutOWbaCgRQIECBAgQIBAMQQEJooxB1UQIECAAAECBAgQIECAAAECBAgQIECAAAECBAgQIECAAAEC/ycgMOFuGKqAwMRQBa0nQKAqgd/dsjjvuODKLFu9rmL9blttlrkzD8tOk8ZWta9FBAgQIECAAAEC1QkITFTnZhUBAgQIECBAgAABAgQIECBAgAABAgQIECBAgAABAgQIECBQPwGBifrZtsvOAhPtMml9EiiQwHeuuCcfvfS69PSWKqp61q4Tc+bx07LF2JEFqlYpBAgQIECAAIH2EBCYaI8565IAAQIECBAgQIAAAQIECBAgQIAAAQIECBAgQIAAAQIECDSTgMBEM02rmLUKTBRzLqoi0JICvb2l/MfPbs5Xf3N7v/5ef8h2+bc3HpRRI7pasnfyx8K/AAAgAElEQVRNESBAgAABAgSKLiAwUfQJqY8AAQIECBAgQIAAAQIECBAgQIAAAQIECBAgQIAAAQIECLSfgMBE+8281h0LTNRa1H4ECKxXYNXanvzDf1+dH13zQL/v3/OSPXLay/dKR4dfa24fAgQIECBAgMBwCQhMDJe8cwkQIECAAAECBAgQIECAAAECBAgQIECAAAECBAgQIECAAIENCXiy1L0xVAGBiaEKWk+AwCYFHl++JiefOz/z73684toRnR351zccmKOm77jJPVxAgAABAgQIECBQXwGBifr62p0AAQIECBAgQIAAAQIECBAgQIAAAQIECBAgQIAAAQIECBAYvIDAxODNrKgUEJhwRxAgUFeBux5Znllz5+XOR5ZXnDN+1Ih8/fhped4e5R9DPgQIECBAgAABAsMtIDAx3BNwPgECBAgQIECAAAECBAgQIECAAAECBAgQIECAAAECBAgQIPBMAYEJ98RQBQQmhipoPQECGxRYcPdjOemc+Xl8xdqKa7bfYkzmzJqRvbYeT48AAQIECBAgQKAgAgITBRmEMggQIECAAAECBAgQIECAAAECBAgQIECAAAECBAgQIECAAIG/CghMuBmGKiAwMVRB6wkQWK/Aj665P++7+OqsWddb8f2B20/It2ZOz5Txo8kRIECAAAECBAgUSEBgokDDUAoBAgQIECBAgAABAgQIECBAgAABAgQIECBAgAABAgQIECDwlIDAhBthqAICE0MVtJ4AgQqBUqmUM393Rz572U39ZF6275SccfTUjB05ghoBAgQIECBAgEDBBAQmCjYQ5RAgQIAAAQIECBAgQIAAAQIECBAgQIAAAQIECBAgQIAAAQICE+6BIQsITAyZ0AYECPxFYF1Pbz7+w+vz7T/f0w9l5nN3yT/9zX7p6pT1c8cQIECAAAECBIooIDBRxKmoiQABAgQIECBAgAABAgQIECBAgAABAgQIECBAgAABAgQItLeAp07be/616F5gohaK9iBAIMtWr8s7L7gyv71lcYVGR0fyT6/dL7MP35USAQIECBAgQIBAgQUEJgo8HKURIECAAAECBAgQIECAAAECBAgQIECAAAECBAgQIECAAIE2FRCYaNPB17BtgYkaYtqKQLsKPLBkZWbPnZ8bH3iygmB0d2f+8y1T88r9t2lXGn0TIECAAAECBJpGQGCiaUalUAIECBAgQIAAAQIECBAgQIAAAQIECBAgQIAAAQIECBAg0DYCAhNtM+q6NSowUTdaGxNoD4Hr71+S2XPn5aEnV1c0PHncyHzrxBk5eMct2gNClwQIECBAgACBJhcQmGjyASqfAAECBAgQIECAAAECBAgQIECAAAECBAgQIECAAAECBAi0oIDARAsOtcEtCUw0GNxxBFpJ4Nc3P5x3XXBllq/pqWhrjynjMmfmjOw4cWwrtasXAgQIECBAgEBLCwhMtPR4NUeAAAECBAgQIECAAAECBAgQIECAAAECBAgQIECAAAECBJpSQGCiKcdWqKIFJgo1DsUQaB6BC/58dz7+g+vT01uqKPo5u03K14+blglju5unGZUSIECAAAECBAhEYMJNQIAAAQIECBAgQIAAAQIECBAgQIAAAQIECBAgQIAAAQIECBRNQGCiaBNpvnoEJppvZiomMKwCvb2l/NtPb8qZv72jXx1vOHT7fPYNB2XkiM5hrdHhBAgQIECAAAECgxcQmBi8mRUECBAgQIAAAQIECBAgQIAAAQIECBAgQIAAAQIECBAgQIBAfQUEJurr2w67C0y0w5T1SKBGAqvW9uT9F1+dH1/7QL8d//5le+a9L90zHR1+NdWI2zYECBAgQIAAgYYKCEw0lNthBAgQIECAAAECBAgQIECAAAECBAgQIECAAAECBAgQIECAwAAEPJU6ACSXbFRAYMINQoDAgAQeXbY6J587P1fe80TF9d1dHU+9VeLvpu0woH1cRIAAAQIECBAgUEwBgYlizkVVBAgQIECAAAECBAgQIECAAAECBAgQIECAAAECBAgQIECgnQUEJtp5+rXpXWCiNo52IdDSAncsXpZZc+fl7kdXVPQ5fvSInHn8tDx39/KPEh8CBAgQIECAAIFmFhCYaObpqZ0AAQIECBAgQIAAAQIECBAgQIAAAQIECBAgQIAAAQIECLSmgMBEa861kV0JTDRS21kEmlBg3l2PPfVmiSdWrK2ofoctx2TurBnZY8r4JuxKyQQIECBAgAABAs8UEJhwTxAgQIAAAQIECBAgQIAAAQIECBAgQIAAAQIECBAgQIAAAQJFExCYKNpEmq8egYnmm5mKCTRM4IdX359/uPjqrOnprTjz4B0m5JsnzshW40c1rBYHESBAgAABAgQI1FdAYKK+vnYnQIAAAQIECBAgQIAAAQIECBAgQIAAAQIECBAgQIAAAQIEBi8gMDF4MysqBQQm3BEECPQTKJVK+epvbs/nfnpzv+9esd/W+c+3TM2YkV3kCBAgQIAAAQIEWkhAYKKFhqkVAgQIECBAgAABAgQIECBAgAABAgQIECBAgAABAgQIECDQIgICEy0yyGFsQ2BiGPEdTaCIAmt7evOxS67LRfPv7Vfe7Oftmo++dt90dfr1U8TZqYkAAQIECBAgMBQBgYmh6FlLgAABAgQIECBAgAABAgQIECBAgAABAgQIECBAgAABAgQI1EPAE6v1UG2vPQUm2mveuiWwUYGlq9bmHRdcmd/f+kjFdeV8xMf/Zr/MfN6uBAkQIECAAAECBFpUQGCiRQerLQIECBAgQIAAAQIECBAgQIAAAQIECBAgQIAAAQIECBAg0MQCAhNNPLyClC4wUZBBKIPAcAvc/8TKzJ47Lzc9uLSilDHdXTnj6Kl5+X5bD3eJzidAgAABAgQIEKijgMBEHXFtTYAAAQIECBAgQIAAAQIECBAgQIAAAQIECBAgQIAAAQIECFQlIDBRFZtFTxMQmHA7ECCQ6+5b8lRY4uGlqys0tho/KmefOCMH7jCBEgECBAgQIECAQIsLCEy0+IC1R4AAAQIECBAgQIAAAQIECBAgQIAAAQIECBAgQIAAAQIEmlBAYKIJh1awkgUmCjYQ5RBotMCvbnoo7/r2wqxY01Nx9F5bj8vZM2dkhy3HNrok5xEgQIAAAQIECAyDgMDEMKA7kgABAgQIECBAgAABAgQIECBAgAABAgQIECBAgAABAgQIENiogMCEG2SoAgITQxW0nkATC5z3p7vyiR9en95SZRPP22NSvnrstEwY093E3SmdAAECBAgQIEBgMAICE4PRci0BAgQIECBAgAABAgQIECBAgAABAgQIECBAgAABAgQIECDQCAGBifop75DkiCTTkxyUZOskk/qOeyjJgiQXJvlekmc8alxVUeWnkt+W5OgkeycZk+S+JJcl+VKSO6raddOLBCY2beQKAi0n0Ntbymd/clPO+l3/Hy1HTdshnz7ywIwc0dlyfWuIAAECBAgQIEBgwwICE+4OAgQIECBAgAABAgQIECBAgAABAgQIECBAgAABAgQIECBAoGgCAhP1m0g5vPC1AWx/eZLXJ3l0ANdu6JIpSX6a5JANXLA8yXFJLh3CGRtaKjBRB1RbEiiywKq1PTntoqty2XUP9ivz/S/fK+96yR7p6PDrpcgzVBsBAgQIECBAoB4CAhP1ULUnAQIECBAgQIAAAQIECBAgQIAAAQIECBAgQIAAAQIECBAgMBQBT7QORW/ja2cmOSbJL5Ms7HvbQ/np4gl9b4B4Z5LX9m3x+yQvrPJNE+V/wv0PSZ6dpCfJZ5Kcm2Rpkucl+XySXZKs6vvzlTVuWWCixqC2I1BkgUeWrc7J587PwnueqChzZFdn/v2NB+X1U7cvcvlqI0CAAAECBAgQqKOAwEQdcW1NgAABAgQIECBAgAABAgQIECBAgAABAgQIECBAgAABAgQIVCUgMFEVW80WnZnklL7dyoGJ31WxczmYMadv3buSfOUZe+yY5JokWyT5TZIXV3HGxpYITNQY1HYEiipw++JlmTnnitz72MqKEieM6c6Zx0/Ls3ebVNTS1UWAAAECBAgQINAAAYGJBiA7ggABAgQIECBAgAABAgQIECBAgAABAgQIECBAgAABAgQIEBiUgMDEoLhqfvG0JPP7dn1/ki9UcUL5jRFTk9za9+aK0nr2+Kckp/f9/UFJrq3inA0tEZioIaatCBRV4M93PJpTzluQJSvXVpS448QxmTPzsOwxZVxRS1cXAQIECBAgQIBAgwQEJhoE7RgCBAgQIECAAAECBAgQIECAAAECBAgQIECAAAECBAgQIEBgwAICEwOmqsuFB/a9/aG8+freDrGpQ3dKcnffRZ9K8vENLNg9yW1935WvKV9bq4/ARK0k7UOgoAKXLrwvH/zuNVnT01tR4SE7bpFvnjg9k8eNKmjlyiJAgAABAgQIEGikgMBEI7WdRYAAAQIECBAgQIAAAQIECBAgQIAAAQIECBAgQIAAAQIECAxEQGBiIEr1u+YzST7ct/1hSeYN8qgjk3y/b82rkvx0I+sfTLJ1kh8kef0gz9nY5QITNcS0FYEiCZRKpXz5V7fl8z+/pV9Zr9p/m3zpLYdkdHdXkUpWCwECBAgQIECAwDAKCEwMI76jCRAgQIAAAQIECBAgQIAAAQIECBAgQIAAAQIECBAgQIAAgfUKCEw0/saYmGSPJKckmZ2kPIOLkrylilLKYYty6KL82fNpb5FY31Z/SPLcJOUnn/eu4qwNLRGYqCGmrQgURWBtT28+8v1r898LFvUr6eTn75oPv3rfdHb6FVKUeamDAAECBAgQIFAEAYGJIkxBDQQIECBAgAABAgQIECBAgAABAgQIECBAgAABAgQIECBAgMDTBTzt2pj74etJTl3PUcuTlL/7UJJ1VZTyhSSn9a0bn2TZRvYov4mi/EaKx5JMGuRZ5VDEhj7lAMjN5S8XL16cyZM3dukgT3U5AQLDIvDkqrV5x/lX5vLbHqk4v5yP+OTr9s/xz9llWOpyKAECBAgQIECAQLEFBCaKPR/VESBAgAABAgQIECBAgAABAgQIECBAgAABAgQIECBAgACBdhQQmGjM1DcUmDgryX8lua7KMsrrT+5b272J0MUFSY5JsibJqEGeVxrI9QITA1FyDYFiCyx6fEVmz52XWx6qzF+NHdmVLx8zNS/ZZ+tiN6A6AgQIECBAgACBYRMQmBg2egcTIECAAAECBAgQIECAAAECBAgQIECAAAECBAgQIECAAAECGxAQmGjMrVEOKJQDDeXP5kkOTHJKkjf0hRzen+SMKkp5emBiRJKejexxfpJjBSaqULaEQJsIXLtoSWafMy+Ll66u6HjK+FE5e+aMHLD9hDaR0CYBAgQIECBAgEA1AgIT1ahZQ4AAAQIECBAgQIAAAQIECBAgQIAAAQIECBAgQIAAAQIECNRTQGCinrqb3vsjST7dd9mRSS7d9JKKK76Q5LS+vxmfpPKfhK/c7Ht9AY3Hkkwa5DmTN3L9xCQ3l7/3holBqrqcQIEEfnHDQ3n3hQuzcm1l7mqfbcY/FZbYbosxBapWKQQIECBAgAABAkUUEJgo4lTURIAAAQIECBAgQIAAAQIECBAgQIAAAQIECBAgQIAAAQIE2ltAYGJ459+Z5I4kOye5PMnzB1nO0wMXeyS5fSPry/s/L8mtSfYa5Dkbu7wcplhcvkBgooaqtiLQQIFz/nhXPvn/rk9vqfLQ5+85OV899tCMH/2XF+Q0sChHESBAgAABAgQINJ2AwETTjUzBBAgQIECAAAECBAgQIECAAAECBAgQIECAAAECBAgQIECg5QUEJoZ/xBcnOSrJ8iTjBlnOG5KU3xxR/rwqyU83sv6BJNsk+WGSIwZ5zsYuF5ioIaatCDRSoKe3lE//+Mac/Yc7+x37lhk75lOvPyDdXeVclw8BAgQIECBAgACBTQsITGzayBUECBAgQIAAAQIECBAgQIAAAQIECBAgQIAAAQIECBAgQIBAYwUEJhrrvb7Tvp/kyCoDEzslubtv008m+ecNtLNr35ssyl9/PMmnati2wEQNMW1FoFECK9f05L3fWZif3fBQvyM/8Mq9844X7Z6ODr8iGjUP5xAgQIAAAQIEWkFAYKIVpqgHAgQIECBAgAABAgQIECBAgAABAgQIECBAgAABAgQIECDQWgKehh3eeY5Mck+SrZNcneSQKsq5MsnUJDcn2TdJaT17fDTJv/T9/UFJrq3inA0tEZioIaatCDRCYPHS1Tnp3Pm5+t4nKo4b2dWZzx11UI44ZPtGlOEMAgQIECBAgACBFhMQmGixgWqHAAECBAgQIECAAAECBAgQIECAAAECBAgQIECAAAECBAi0gIDARP2GWA4v3LiJ7b+Q5LS+az6W5NNVlDMrydl9696e5OvP2KP85HM5ILFlkt8leWEVZ2xsicBEjUFtR6CeArc9vDQz58zLosdXVhyzxdjunHX89By268R6Hm9vAgQIECBAgACBFhYQmGjh4WqNAAECBAgQIECAAAECBAgQIECAAAECBAgQIECAAAECBAg0qYDARP0G15PksiSXJpmf5P4ka5JMSjIjydueFl64oe/vVqynnL+8MeK3SV60nu+7klye5NlJymeWQxfnJFmW5HlJPp9k1ySr+v5cfiNFLT8CE7XUtBeBOgr86fZHc+p58/PkqnUVp+w8aWzmzJyR3bYaV8fTbU2AAAECBAgQINDqAgITrT5h/REgQIAAAQIECBAgQIAAAQIECBAgQIAAAQIECBAgQIAAgeYTEJio38z+EnTY1Am/SHJckoc2cOGmAhPlZVOS/DTJIRvYY3mS45NcsqliqvheYKIKNEsINFrg+1cuyj9+75qs7an80XToTlvkGydMz6RxoxpdkvMIECBAgAABAgRaTEBgosUGqh0CBAgQIECAAAECBAgQIECAAAECBAgQIECAAAECBAgQINACAgIT9Rvi4X1vkHh+3xseyqGG8j/fXn7zw91JrkjynSS/2kQJAwlMlLcY2ffWiqOT7J1kTJJFSX6S5ItJ7qhTqwITdYK1LYFaCJRKpZzxy9vyxV/c0m+71x64bT7/poMzurv8ohofAgQIECBAgAABAkMTEJgYmp/VBAgQIECAAAECBAgQIECAAAECBAgQIECAAAECBAgQIECAQO0FBCZqb9puOwpMtNvE9ds0AmvW9ebD378237uynJ2q/Jz6wt3yj6/cJ52dfg00zUAVSoAAAQIECBAouIDARMEHpDwCBAgQIECAAAECBAgQIECAAAECBAgQIECAAAECBAgQINCGAp6UbcOh17hlgYkag9qOQC0Elqxcm7edtyB/uuPRiu26Ojty+hH759hn7VyLY+xBgAABAgQIECBA4K8CAhNuBgIECBAgQIAAAQIECBAgQIAAAQIECBAgQIAAAQIECBAgQKBoAgITRZtI89UjMNF8M1Nxiwvc+9iKzJo7L7c9vKyi081GduXLxx6aF+89pcUFtEeAAAECBAgQIDAcAgITw6HuTAIECBAgQIAAAQIECBAgQIAAAQIECBAgQIAAAQIECBAgQGBjAgIT7o+hCghMDFXQegI1FLj63ify1nPm55Flqyt23XrzUTl75ozsv92EGp5mKwIECBAgQIAAAQL/JyAw4W4gQIAAAQIECBAgQIAAAQIECBAgQIAAAQIECBAgQIAAAQIEiiYgMFG0iTRfPQITzTczFbeowM+ufzDv+c7CrFrbW9HhPtuMz5xZM7LthDEt2rm2CBAgQIAAAQIEiiAgMFGEKaiBAAECBAgQIECAAAECBAgQIECAAAECBAgQIECAAAECBAgQeLqAwIT7YagCAhNDFbSeQA0Ezr78znzqxzekVKrc7AV7bZWvHDM140d31+AUWxAgQIAAAQIECBDYsIDAhLuDAAECBAgQIECAAAECBAgQIECAAAECBAgQIECAAAECBAgQKJqAwETRJtJ89QhMNN/MVNxCAj29pXzqRzdk7h/v6tfV0YftlNOP2D/dXZ0t1LFWCBAgQIAAAQIEiiogMFHUyaiLAAECBAgQIECAAAECBAgQIECAAAECBAgQIECAAAECBAi0r4DARPvOvladC0zUStI+BAYpsGLNurznwqvyixsf6rfyQ6/eJ6e+YLd0dPgxP0hWlxMgQIAAAQIECFQpIDBRJZxlBAgQIECAAAECBAgQIECAAAECBAgQIECAAAECBAgQIECAQN0EPElbN9q22Vhgom1GrdEiCTy8dFVOOmd+rlm0pKKskSM684U3HZy/OWi7IpWrFgIECBAgQIAAgTYQEJhogyFrkQABAgQIECBAgAABAgQIECBAgAABAgQIECBAgAABAgQINJmAwESTDayA5QpMFHAoSmptgVseWppZc+blvidWVjS65djufOOE6Zm+y8TWBtAdAQIECBAgQIBAIQUEJgo5FkURIECAAAECBAgQIECAAAECBAgQIECAAAECBAgQIECAAIG2FhCYaOvx16R5gYmaMNqEwMAE/njbIzn1/AVZumpdxYJdJ2+WOTNnZJfJmw1sI1cRIECAAAECBAgQqLGAwESNQW1HgAABAgQIECBAgAABAgQIECBAgAABAgQIECBAgAABAgQIDFlAYGLIhG2/gcBE298CABol8N0Fi/Kh712Tdb2liiOn77zlU2+W2HKzkY0qxTkECBAgQIAAAQIE+gkITLgpCBAgQIAAAQIECBAgQIAAAQIECBAgQIAAAQIECBAgQIAAgaIJCEwUbSLNV4/ARPPNTMVNJlAqlfLFn9+SM351W7/K//bg7fK5Nx6U0d1dTdaVcgkQIECAAAECBFpNQGCi1SaqHwIECBAgQIAAAQIECBAgQIAAAQIECBAgQIAAAQIECBAg0PwCAhPNP8Ph7kBgYrgn4PyWFli9ricf+t61uWThff36fMeLds8/vGLvdHb6Ud7SN4HmCBAgQIAAAQJNIiAw0SSDUiYBAgQIECBAgAABAgQIECBAgAABAgQIECBAgAABAgQIEGgjAU/ZttGw69SqwESdYG1LYMmKtTnlvPn5852PVWB0dXbkX15/QI4+bCdIBAgQIECAAAECBAojIDBRmFEohAABAgQIECBAgAABAgQIECBAgAABAgQIECBAgAABAgQIEOgTEJhwKwxVQGBiqILWE1iPwL2PrcjMOVfk9sXLK74dN2pEvnLsoXnhXltxI0CAAAECBAgQIFAoAYGJQo1DMQQIECBAgAABAgQIECBAgAABAgQIECBAgAABAgQIECBAgEASgQm3wVAFBCaGKmg9gWcILLzn8Zx87vw8smxNxTfbThids2fOyL7bbs6MAAECBAgQIECAQOEEBCYKNxIFESBAgAABAgQIECBAgAABAgQIECBAgAABAgQIECBAgACBthcQmGj7W2DIAAITQya0AYH/E/jJdQ/kvd+5KqvX9Vaw7Lft5k+FJbaZMBoXAQIECBAgQIAAgUIKCEwUciyKIkCAAAECBAgQIECAAAECBAgQIECAAAECBAgQIECAAAECbS0gMNHW469J8wITNWG0SbsLlEqlfOvyO/Pp/7kxpVKlxov33ir/dcyhGTdqRLsz6Z8AAQIECBAgQKDAAgITBR6O0ggQIECAAAECBAgQIECAAAECBAgQIECAAAECBAgQIECAQJsKCEy06eBr2LbARA0xbdWeAut6enP6j27IuX+6ux/Asc/aKZ983f4Z0dXZnji6JkCAAAECBAgQaBoBgYmmGZVCCRAgQIAAAQIECBAgQIAAAQIECBAgQIAAAQIECBAgQIBA2wgITLTNqOvWqMBE3Wht3A4Cy1evy3suXJhf3vRwv3Y/8pp9cvLzd0tHhx/V7XAv6JEAAQIECBAg0OwCAhPNPkH1EyBAgAABAgQIECBAgAABAgQIECBAgAABAgQIECBAgACB1hPwFG7rzbTRHQlMNFrceS0j8NCTqzJ77rxcf/+TFT2NGtGZL775kLzmwG1bpleNECBAgAABAgQItL6AwETrz1iHBAgQIECAAAECBAgQIECAAAECBAgQIECAAAECBAgQIECg2QQEJpptYsWrV2CieDNRURMI3PTgk5k9Z17uX7KqotqJm43MN0+cnkN32rIJulAiAQIECBAgQIAAgf8TEJhwNxAgQIAAAQIECBAgQIAAAQIECBAgQIAAAQIECBAgQIAAAQJFExCYKNpEmq8egYnmm5mKh1ng8lsfydvPX5Clq9dVVLLb5M0yZ9aM7Dxps2Gu0PEECBAgQIAAAQIEBi8gMDF4MysIECBAgAABAgQIECBAgAABAgQIECBAgAABAgQIECBAgACB+goITNTXtx12F5hohynrsWYCF8+7Nx+55Nqs6y1V7HnYLhNz1gnTssXYkTU7y0YECBAgQIAAAQIEGikgMNFIbWcRIECAAAECBAgQIECAAAECBAgQIECAAAECBAgQIECAAAECAxEQmBiIkms2JiAw4f4gMACBUqmUz//slnz517f1u/qIQ7bLv7/xoIwa0TWAnVxCgAABAgQIECBAoJgCAhPFnIuqCBAgQIAAAQIECBAgQIAAAQIECBAgQIAAAQIECBAgQIBAOwsITLTz9GvTu8BEbRzt0sICq9f15IPfvSY/uOr+fl2++yV75H0v3ysdHX4ct/AtoDUCBAgQIECAQFsICEy0xZg1SYAAAQIECBAgQIAAAQIECBAgQIAAAQIECBAgQIAAAQIEmkrAE7pNNa5CFiswUcixKKooAo8vX5NTz1uQK+56rKKkEZ0d+cyRB+ZNM3YsSqnqIECAAAECBAgQIDAkAYGJIfFZTIAAAQIECBAgQIAAAQIECBAgQIAAAQIECBAgQIAAAQIECNRBQGCiDqhttqXARJsNXLsDF7j70eWZNWde7nhkecWi8aNG5GvHTcvhe5b/9/EhQIAAAQIECBAg0BoCAhOtMUddECBAgAABAgQIECBAgAABAgQIEDf7NNkAACAASURBVCBAgAABAgQIECBAgACBVhIQmGilaQ5PLwITw+Pu1IILLLj78Zx87vw8tnxNRaXbTRidObMOy97bjC94B8ojQIAAAQIECBAgMDgBgYnBebmaAAECBAgQIECAAAECBAgQIECAAAECBAgQIECAAAECBAgQqL+AwET9jVv9BIGJVp+w/gYt8D/XPpDTLroqq9f1Vqw9YPvNc/aJMzJl89GD3tMCAgQIECBAgAABAkUXEJgo+oTUR4AAAQIECBAgQIAAAQIECBAgQIAAAQIECBAgQIAAAQIE2k9AYKL9Zl7rjgUmai1qv6YVKJVKOet3d+RfL7upXw8v3WdKzjh6ajYbNaJp+1M4AQIECBAgQIAAgY0JCEy4PwgQIECAAAECBAgQIECAAAECBAgQIECAAAECBAgQIECAAIGiCQhMFG0izVePwETzzUzFdRBY19ObT/zw+lzw53v67X7Cc3bOJ/52/3R1+pFbB3pbEiBAgAABAgQIFERAYKIgg1AGAQIECBAgQIAAAQIECBAgQIAAAQIECBAgQIAAAQIECBAg8FcBT++6GYYqIDAxVEHrm15g2ep1efe3r8yvb15c0UtHR/LR1+ybtx6+azrKf/AhQIAAAQIECBAg0MICAhMtPFytESBAgAABAgQIECBAgAABAgQIECBAgAABAgQIECBAgACBJhXwBG+TDq5AZQtMFGgYSmm8wINLVmX23Hm54YEnKw4f3d2ZL715al51wDaNL8qJBAgQIECAAAECBIZBQGBiGNAdSYAAAQIECBAgQIAAAQIECBAgQIAAAQIECBAgQIAAAQIECGxUQGDCDTJUAYGJoQpa37QCNz7w5FNhiQeWrKroYdJmI/PNE6dn6k5bNm1vCidAgAABAgQIECAwWAGBicGKuZ4AAQIECBAgQIAAAQIECBAgQIAAAQIECBAgQIAAAQIECBCot4DARL2FW39/gYnWn7EO1yPw21sW550XXJllq9dVfLv7VptlzszDstOksdwIECBAgAABAgQItJWAwERbjVuzBAgQIECAAAECBAgQIECAAAECBAgQIECAAAECBAgQIECgKQQEJppiTIUuUmCi0ONRXD0ELrzinnzs0uvS01uq2P7Zu03MmcdNz4Sx3fU41p4ECBAgQIAAAQIECi0gMFHo8SiOAAECBAgQIECAAAECBAgQIECAAAECBAgQIECAAAECBAi0pYDARFuOvaZNC0zUlNNmRRbo7S3lcz+7OV/7ze39yjxy6vb57N8dmFEjuorcgtoIECBAgAABAgQI1E1AYKJutDYmQIAAAQIECBAgQIAAAQIECBAgQIAAAQIECBAgQIAAAQIEqhQQmKgSzrK/CghMuBnaQmDV2p78w39fnR9d80C/ft/z0j1z2sv2TEeHH6ltcTNokgABAgQIECBAYL0CAhNuDAIECBAgQIAAAQIECBAgQIAAAQIECBAgQIAAAQIECBAgQKBoAp7uLdpEmq8egYnmm5mKBynw2PI1OeXc+Zl/9+MVK0d0duSzf3dQ3jhth0Hu6HICBAgQIECAAAECrScgMNF6M9URAQIECBAgQIAAAQIECBAgQIAAAQIECBAgQIAAAQIECBBodgGBiWaf4PDXLzAx/DNQQR0F7nxkeWbNuSJ3Pbqi4pTxo0fkzOOm5bl7lP8X8CFAgAABAgQIECBAQGDCPUCAAAECBAgQIECAAAECBAgQIECAAAECBAgQIECAAAECBAgUTUBgomgTab56BCaab2YqHqDA/Lsey8nnzs/jK9ZWrNh+izGZO2tG9tx6/AB3chkBAgQIECBAgACB1hcQmGj9GeuQAAECBAgQIECAAAECBAgQIECAAAECBAgQIECAAAECBAg0m4DARLNNrHj1CkwUbyYqqoHAj665P++7+OqsWddbsdtBO0zIN0+cninjR9fgFFsQIECAAAECBAgQaB0BgYnWmaVOCBAgQIAAAQIECBAgQIAAAQIECBAgQIAAAQIECBAgQIBAqwgITLTKJIevD4GJ4bN3ch0ESqVSvv7bO/JvP7mp3+4v23frnHH0IRk7ckQdTrYlAQIECBAgQIAAgeYWEJho7vmpngABAgQIECBAgAABAgQIECBAgAABAgQIECBAgAABAgQItKKAwEQrTrWxPQlMNNbbaXUUWNfTm3/6wfW58Ip7+p0y63m75GOv3S9dnX5s1nEEtiZAgAABAgQIEGhiAYGJJh6e0gkQIECAAAECBAgQIECAAAECBAgQIECAAAECBAgQIECAQIsKePK3RQfbwLYEJhqI7aj6CSxdtTbv/PbC/O6WxRWHdHQk//Ta/TL78F3rd7idCRAgQIAAAQIECLSAgMBECwxRCwQIECBAgAABAgQIECBAgAABAgQIECBAgAABAgQIECBAoMUEBCZabKDD0I7AxDCgO7K2Ag8sWZlZc+blpgeXVmw8urszZ7xlal6x/za1PdBuBAgQIECAAAECBFpQQGCiBYeqJQIECBAgQIAAAQIECBAgQIAAAQIECBAgQIAAAQIECBAg0OQCAhNNPsAClC8wUYAhKKF6gevvX5LZc+floSdXV2wyedyofOvE6Tl4xy2q39xKAgQIECBAgAABAm0kIDDRRsPWKgECBAgQIECAAAECBAgQIECAAAECBAgQIECAAAECBAgQaBIBgYkmGVSByxSYKPBwlLZxgV/f/HDedcGVWb6mp+LCPaaMy5yZM7LjxLEICRAgQIAAAQIECBAYoIDAxAChXEaAAAECBAgQIECAAAECBAgQIECAAAECBAgQIECAAAECBAg0TEBgomHULXuQwETLjra1G7vgz3fn4z+4Pj29pYpGn7v7pHztuGmZMKa7tQF0R4AAAQIECBAgQKDGAgITNQa1HQECBAgQIECAAAECBAgQIECAAAECBAgQIECAAAECBAgQIDBkAYGJIRO2/QYCE21/CzQXQG9vKf/205ty5m/v6Ff43x26Q/71DQdm5IjO5mpKtQQIECBAgAABAgQKICAwUYAhKIEAAQIECBAgQIAAAQIECBAgQIAAAQIECBAgQIAAAQIECBCoEBCYcEMMVUBgYqiC1jdMYNXanrz/4qvz42sf6HfmaS/bK+956R7p6PBjsWEDcRABAgQIECBAgEBLCQhMtNQ4NUOAAAECBAgQIECAAAECBAgQIECAAAECBAgQIECAAAECBFpCwJPBLTHGYW1CYGJY+R0+UIFHl63OyefOz5X3PFGxpLurI//2dwflDYfuMNCtXEeAAAECBAgQIECAwHoEBCbcFgQIECBAgAABAgQIECBAgAABAgQIECBAgAABAgQIECBAgEDRBAQmijaR5qtHYKL5ZtZ2Fd+xeFlmzZ2Xux9dUdH75qNH5Mzjp+c5u09qOxMNEyBAgAABAgQIEKi1gMBErUXtR4AAAQIECBAgQIAAAQIECBAgQIAAAQIECBAgQIAAAQIECAxVQGBiqILWC0y4BwotcMWdj+WU8+bniRVrK+rcYcsxmTtrRvaYMr7Q9SuOAAECBAgQIECAQLMICEw0y6TUSYAAAQIECBAgQIAAAQIECBAgQIAAAQIECBAgQIAAAQIE2kdAYKJ9Zl2vTgUm6iVr3yEL/OCq+/KB/74ma3p6K/Y6eMct8s0Tpmer8aOGfIYNCBAgQIAAAQIECBD4/wUEJtwJBAgQIECAAAECBAgQIECAAAECBAgQIECAAAECBAgQIECAQNEEBCaKNpHmq0dgovlm1vIVl0qlfPU3t+dzP725X6+v3H/rfOnNUzNmZFfLO2iQAAECBAgQIECAQCMFBCYaqe0sAgQIECBAgAABAgQIECBAgAABAgQIECBAgAABAgQIECBAYCACAhMDUXLNxgQEJtwfhRJY29Obj11yXS6af2+/ut56+K75yGv2TVenH32FGppiCBAgQIAAAQIEWkJAYKIlxqgJAgQIECBAgAABAgQIECBAgAABAgQIECBAgAABAgQIECDQUgKeGm6pcQ5LMwITw8Lu0PUJPLlqbd55wZX5/a2PVHxdzkf88+v2zwnP2QUcAQIECBAgQIAAAQJ1EhCYqBOsbQkQIECAAAECBAgQIECAAAECBAgQIECAAAECBAgQIECAAIGqBQQmqqazsE9AYMKtUAiB+55Ymdlz5uXmh5ZW1DOmuytfPmZqXrrv1oWoUxEECBAgQIAAAQIEWlVAYKJVJ6svAgQIECBAgAABAgQIECBAgAABAgQIECBAgAABAgQIECDQvAICE807u6JULjBRlEm0cR3X3bcks+fOy8NLV1cobDV+VM4+cUYO3GFCG+tonQABAgQIECBAgEBjBAQmGuPsFAIECBAgQIAAAQIECBAgQIAAAQIECBAgQIAAAQIECBAgQGDgAgITA7dy5foFBCbcGcMq8KubHsq7vr0wK9b0VNSx19bjMmfWYdl+izHDWp/DCRAgQIAAAQIECLSLgMBEu0xanwQIECBAgAABAgQIECBAgAABAgQIECBAgAABAgQIECBAoHkEBCaaZ1ZFrVRgoqiTaYO6zvvTXfnED69Pb6my2cP3mJyvHndoNh/d3QYKWiRAgAABAgQIECBQDAGBiWLMQRUECBAgQIAAAQIECBAgQIAAAQIECBAgQIAAAQIECBAgQIDA/wkITLgbhiogMDFUQesHLdDbW8q/XnZjvvH7O/utfdP0HfLpIw9Md1fnoPe1gAABAgQIECBAgACB6gUEJqq3s5IAAQIECBAgQIAAAQIECBAgQIAAAQIECBAgQIAAAQIECBCoj4DARH1c22lXgYl2mnYBel25pienXXRVfnL9g/2q+YdX7JV3vniPdHT40VaAUSmBAAECBAgQIECgzQQEJtps4NolQIAAAQIECBAgQIAAAQIECBAgQIAAAQIECBAgQIAAAQJNIOCp4iYYUsFLFJgo+IBaqbxHlq3OSefMz1X3PlHR1siuznzuqINyxCHbt1K7eiFAgAABAgQIECDQVAICE001LsUSIECAAAECBAgQIECAAAECBAgQIECAAAECBAgQIECAAIG2EBCYaIsx17VJgYm68tr8LwK3Pbwss+ZekXsfW1mBMmFMd846flqetdskWAQIECBAgAABAgQIDKOAwMQw4juaAAECBAgQIECAAAECBAgQIECAAAECBAgQIECAAAECBAgQWK+AwIQbY6gCAhNDFbR+kwL/e8ejOfW8BVmycm3FtTtNHJs5s2Zk963GbXIPFxAgQIAAAQIECBAgUF8BgYn6+tqdAAECBAgQIECAAAECBAgQIECAAAECBAgQIECAAAECBAgQGLyAwMTgzQa6YkSSFyV5RZLnJNk7yZZJViS5K8mvk3w9yU0D3XAD181MMmeAe2yV5JEBXjvQywQmBirluqoELl14Xz7w3auztqdUsX7qTlvkmydMz6Rxo6ra1yICBAgQIECAAAECBGorIDBRW0+7ESBAgAABAgQIECBAgAABAgQIECBAgAABAgQIECBAgAABAkMXEJgYuuGGdrgmyYGb2H5dko8k+dwQyhCYGAKepcUVKJVK+fKvbsvnf35LvyJffcA2+eKbD8no7q7iNqAyAgQIECBAgAABAm0mIDDRZgPXLgECBAgQIECAAAECBAgQIECAAAECBAgQIECAAAECBAgQaAIBgYn6Dan8Fomd+t4kcXGSPya5P8lmSV6S5PQkO/Ydf2qSs6os5emBif2T3LORfZZVecbGlnnDRB1Q233LNet685FLrs13FyzqR3HKC3bLh161Tzo7/fhq9/tE/wQIECBAgAABAsUSEJgo1jxUQ4AAAQIECBAgQIAAAQIECBAgQIAAAQIECBAgQIAAAQIECCSeOK7fXVB+a8TZSW7cwBHbJlmQpPzfx/r+u6aKcp4emNg1STmo0ciPwEQjtdvgrCUr1+YdFyzIH257tKLbcj7ik0cckOOfvXMbKGiRAAECBAgQIECAQPMJCEw038xUTIAAAQIECBAgQIAAAQIECBAgQIAAAQIECBAgQIAAAQIEWl1AYGJ4J/z+JP/RV8ILk/yuinIEJqpAs6SYAoseX5HZc+fllocqX4YydmRXvnLMoXnxPlOKWbiqCBAgQIAAAQIECBCIwISbgAABAgQIECBAgAABAgQIECBAgAABAgQIECBAgAABAgQIECiagMDE8E7klUl+0lfCMUkurKIcgYkq0CwpnsA1i57IW8+Zn8VLV1cUN2X8qJw9c0YO2H5C8YpWEQECBAgQIECAAAECfxUQmHAzECBAgAABAgQIECBAgAABAgQIECBAgAABAgQIECBAgAABAkUTEJgY3omckOScvhL+JsmPqyhnfYGJkUnWVLFXNUsmJ1lcXrh48eJMnlz+ow+BwQn84oaH8u4LF2bl2p6KhftsM/6psMR2W4wZ3IauJkCAAAECBAgQIECg4QICEw0ndyABAgQIECBAgAABAgQIECBAgAABAgQIECBAgAABAgQIECCwCQGBieG9RX6U5LVJepNsneSRKsp5emDi6iR7JxmdZFWSG5NcluTLSR6oYu+BLBGYGIiSazYoMPcPd+b0H92Q3lLlJc/fc3K+euyhGT+6mx4BAgQIECBAgAABAk0gIDDRBENSIgECBAgQIECAAAECBAgQIECAAAECBAgQIECAAAECBAgQaDMBgYnhG/jLk/ys7/gLkxxTZSlPD0xsaIulSWYn+W6VZ2zstRETk9xc3tcbJqrUbdNlPb2lfPrHN+bsP9zZT+AtM3bMp15/QLq7OttUR9sECBAgQIAAAQIEmk9AYKL5ZqZiAgQIECBAgAABAgQIECBAgAABAgQIECBAgAABAgQIECDQ6gICE8Mz4R2SzO97q8TjSQ5Ocm+Vpby57y0Vl/a9UaK8T/nf6i+/aeK4JO9OMiLJuiSvTvKLKs55xr/9v/4dBCaqkG3TJSvX9OS931mYn93wUD+BD75q77z9hbuno8OPpza9PbRNgAABAgQIECDQpAICE006OGUTIECAAAECBAgQIECAAAECBAgQIECAAAECBAgQIECAAIEWFvBEcuOHOz7Jb5IcmqQ3yZFJfljHMl6S5LIkI5PckmS/JD2DPE9gYpBgLt+wwOKlq3PSOfNy9aIlFReN7OrM5990cP724O3wESBAgAABAgQIECDQhAICE004NCUTIECAAAECBAgQIECAAAECBAgQIECAAAECBAgQIECAAIEWFxCYaOyAR/eFF17Ud+w7knytASV8Psn7+s55TpL/HeSZkzdy/cQkN5e/94aJQaq24eW3Pbw0M+fMy6LHV1Z0v8XY7nzjhOmZsUv5dvIhQIAAAQIECBAgQKAZBQQmmnFqaiZAgAABAgQIECBAgAABAgQIECBAgAABAgQIECBAgAABAq0tIDDRuPmW3/BwaZJX9x35wSSfa9Dxhyf5fd9Z70zy1RqeWw5TLC7vJzBRQ9UW3OqPtz+St523IE+uWlfR3c6TxmburMOy6+TNWrBrLREgQIAAAQIECBBoHwGBifaZtU4JECBAgAABAgQIECBAgAABAgQIECBAgAABAgQIECBAgECzCAhMNGZSI5J8N8kRfcd9IsnpjTn6qVP2THJL33kfTfKZGp4tMFFDzFbd6nsLFuVD378ma3tKFS1O23nLnHX8tEwaN6pVW9cXAQIECBAgQIAAgbYREJhom1FrlAABAgQIECBAgAABAgQIECBAgAABAgQIECBAgAABAgQINI2AwET9R9WV5MIkR/Ud9e9J/rH+x1ac8IIkv+37m3ck+VoNzxeYqCFmq21VKpXyn7+8NV/6xa39WnvtQdvm80cdnNHd5f9FfAgQIECAAAECBAgQaHYBgYlmn6D6CRAgQIAAAQIECBAgQIAAAQIECBAgQIAAAQIECBAgQIBA6wkITNR3pp1Jzk1ybN8xX07y7voeud7dv5TkvX3fPDvJn2tYg8BEDTFbaas163qfeqvE96+8r19bb3vh7vngK/dOZ6cfQa00c70QIECAAAECBAi0t4DARHvPX/cECBAgQIAAAQIECBAgQIAAAQIECBAgQIAAAQIECBAgQKCIAp5Wrt9UyrbfSPLWviO+leTkJKUaHjk+STmUsWQje748yY+TdCe5Kcn+SXprWIPARA0xW2WrJSvW5m3nL8if7ni0oqWuzo586ogDcsyzdmqVVvVBgAABAgQIECBAgECfgMCEW4EAAQIECBAgQIAAAQIECBAgQIAAAQIECBAgQIAAAQIECBAomoDARP0m8p9J3tO3/SVJZm4iqPD/sXcfUJKVdd6Af5NgyBmUpIACoiDgwOq65hxQUREzjHndFXU97rr67RrXNax5zcqACbOiYlhdA4Z1BQRBkShJyTkzqb/zft757O7pUNV9b9Wtquee42Gm671veP5VdXs893fflUnK/yYfFya5S5KLktx10ov7J/lJki8k+W6SM5KUO9QXJdkryTOSvLj6+6okj0ryo5qXLDBRM+igd3fJtbdm+TEn5bwrb56wlE02WJQPPuvAPHiv7Qd9ieZPgAABAgQIECBAgMAUAgIT3hYECBAgQIAAAQIECBAgQIAAAQIECBAgQIAAAQIECBAgQIBA2wQEJpqrSLc7SbwxyRummM5sgYlTO1jCVUmWVztNdNC8qyYCE11xDXfj0y65Pi849qRcffPE7M+dNl+ao488KPvsuPlwA1gdAQIECBAgQIAAgREWEJgY4eJbOgECBAgQIECAAAECBAgQIECAAAECBAgQIECAAAECBAgQaKmAwERzhelFYGLTJIcnuW+SA5PskGSbJKWuZaeJ05N8J8mxSW5oaKkCEw3BDlq33/vd5Xn550/N7avWTpj6Pe68eY4+clnuvMVGg7Yk8yVAgAABAgQIECBAoAsBgYkusDQlQIAAAQIECBAgQIAAAQIECBAgQIAAAQIECBAgQIAAAQIEeiIgMNET5qEeRGBiqMvb2eKO/tkFefMJZ2ZsUkzoQXtulw8+68BsuuHizjrSigABAgQIECBAgACBgRUQmBjY0pk4AQIECBAgQIAAAQIECBAgQIAAAQIECBAgQIAAAQIECBAYWgGBiaEtbc8WJjDRM+r2DbRm7Vje/K0zc8wvLlxvcs/8q13zpifcM4sXLWzfxM2IAAECBAgQIECAAIHaBQQmaifVIQECBAgQIECAAAECBAgQIECAAAECBAgQIECAAAECBAgQIDBPAYGJeQI6PQITI/omuHXl6hx13Kn5we+vXE/gnx+zd170wN2zYIGvmBF9e1g2AQIECBAgQIDACAoITIxg0S2ZAAECBAgQIECAAAECBAgQIECAAAECBAgQIECAAAECBAi0XMDdzC0v0ABMT2BiAIpU9xSvvOn2PP+Yk3PGn26Y0PUGixfmPU/bP4/b7851D6k/AgQIECBAgAABAgRaLiAw0fICmR4BAgQIECBAgAABAgQIECBAgAABAgQIECBAgAABAgQIEBhBAYGJESx6zUsWmKgZtO3dnXPFTVm+4qT86frbJkx1q42X5BNHLMt97rJ125dgfgQIECBAgAABAgQINCAgMNEAqi4JECBAgAABAgQIECBAgAABAgQIECBAgAABAgQIECBAgACBeQkITMyLz8lJBCZG6G3w8/Ouzks+fUpuumP1hFXvtu0mWXHkQbnrtpuMkIalEiBAgAABAgQIECAwXkBgwvuBAAECBAgQIECAAAECBAgQIECAAAECBAgQIECAAAECBAgQaJuAwETbKjJ48xGYGLyazWnGXzr5kvzzV8/I6rVjE84/6K5b5WPPWZatNtlgTv06iQABAgQIECBAgACB4RAQmBiOOloFAQIECBAgQIAAAQIECBAgQIAAAQIECBAgQIAAAQIECBAYJgGBiWGqZn/WIjDRH/eejTo2Npb3fP+cvP+H56035iH33jHvfOp+WbpkUc/mYyACBAgQIECAAAECBNopIDDRzrqYFQECBAgQIECAAAECBAgQIECAAAECBAgQIECAAAECBAgQGGUBgYlRrn49axeYqMexlb3csXpNXvOVM/K1U/+03vz+7iF75FWP2CsLF/oaaWXxTIoAAQIECBAgQIBAjwUEJnoMbjgCBAgQIECAAAECBAgQIECAAAECBAgQIECAAAECBAgQIEBgVgF3Os9KpMEsAgITQ/oWuf7WlXnRp0/Jry64dsIKFy1ckH970r3y9IN3HdKVWxYBAgQIECBAgAABAnMREJiYi5pzCBAgQIAAAQIECBAgQIAAAQIECBAgQIAAAQIECBAgQIAAgSYFBCaa1B2NvgUmhrDOF19za4485lf5w1W3TFjdphsuzoeedWAeuOd2Q7hqSyJAgAABAgQIECBAYD4CAhPz0XMuAQIECBAgQIAAAQIECBAgQIAAAQIECBAgQIAAAQIECBAg0ISAwEQTqqPVp8DEkNX71IuvywuOPTnX3LJywsruvMXSrFh+UPa+0+ZDtmLLIUCAAAECBAgQIECgDgGBiToU9UGAAAECBAgQIECAAAECBAgQIECAAAECBAgQIECAAAECBAjUKSAwUafmaPYlMDFEdf/OGZflFV84LXesXjthVffccfMcfeRB2WHzpUO0WkshQIAAAQIECBAgQKBOAYGJOjX1RYAAAQIECBAgQIAAAQIECBAgQIAAAQIECBAgQIAAAQIECNQhIDBRh+Jo9yEwMQT1Hxsbyyd/dkH+7du/z9jYxAU9dO/t84FnHJBNNlw8BCu1BAIECBAgQIAAAQIEmhIQmGhKVr8ECBAgQIAAAQIECBAgQIAAAQIECBAgQIAAAQIECBAgQIDAXAUEJuYq57x1AgITA/5eWL1mbd74zTPz6V9etN5Knn3fXfOGQ+6ZxYsWDvgqTZ8AAQIECBAgQIAAgaYFBCaaFtY/AQIECBAgQIAAAQIECBAgQIAAAQIECBAgQIAAAQIECBAg0K2AwES3YtpPFhCYGOD3xC13rM7Ljjs1PzzrygmrWLAgee1j7pEXPGC3sl0NZAAAIABJREFULCh/cRAgQIAAAQIECBAgQGAWAYEJbxECBAgQIECAAAECBAgQIECAAAECBAgQIECAAAECBAgQIECgbQLuhG5bRQZvPgITg1ez/zfjK268Pc875qT87tIbJ6xgw8UL897D989j9r3zgK7MtAkQIECAAAECBAgQ6IeAwEQ/1I1JgAABAgQIECBAgAABAgQIECBAgAABAgQIECBAgAABAgQIzCQgMOH9MV8BgYn5Cvbh/LMuvzHPW3FSLr3h9gmjb7PJBvn4Ecty4K5b9WFWhiRAgAABAgQIECBAYJAFBCYGuXrmToAAAQIECBAgQIAAAQIECBAgQIAAAQIECBAgQIAAAQIEhlNAYGI469rLVQlM9FK7hrF+eu5V+dvP/Do337F6Qm+7b7dJjjny4Oy6zcY1jKILAgQIECBAgAABAgRGTUBgYtQqbr0ECBAgQIAAAQIECBAgQIAAAQIECBAgQIAAAQIECBAgQKD9AgIT7a9R22coMNH2Co2b3xdOujiv+9pvs3rt2IRZH7zb1vnYc+6TLTfeYIBWY6oECBAgQIAAAQIECLRJQGCiTdUwFwIECBAgQIAAAQIECBAgQIAAAQIECBAgQIAAAQIECBAgQKAICEx4H8xXQGBivoI9OH/t2rG86/tn54M/On+90Z60/455+1P3y4aLF/VgJoYgQIAAAQIECBAgQGBYBQQmhrWy1kWAAAECBAgQIECAAAECBAgQIECAAAECBAgQIECAAAECBAZXQGBicGvXlpkLTLSlEtPM447Va/LqL52eb/zm0vVaHPXQu+WVj9gzCxb4Kmh5GU2PAAECBAgQIECAQOsFBCZaXyITJECAAAECBAgQIECAAAECBAgQIECAAAECBAgQIECAAAECIyfgLumRK3ntCxaYqJ20vg6vu2VlXvzpU/KrC6+d0OnihQvy1ifvm6ct26W+wfREgAABAgQIECBAgMBICwhMjHT5LZ4AAQIECBAgQIAAAQIECBAgQIAAAQIECBAgQIAAAQIECLRSQGCilWUZqEkJTLS0XBddc0uOXHFSLrj6lgkz3GzDxfnws++Tv7l7KZ2DAAECBAgQIECAAAEC9QgITNTjqBcCBAgQIECAAAECBAgQIECAAAECBAgQIECAAAECBAgQIECgPgGBifosR7UngYkWVv6Ui67LCz91cq69ZeWE2e205UY5+siDstedNmvhrE2JAAECBAgQIECAAIFBFhCYGOTqmTsBAgQIECBAgAABAgQIECBAgAABAgQIECBAgAABAgQIEBhOAYGJ4axrL1clMNFL7Q7GOuH0y/LKL56WlavXTmh9r502z9FHHJTtN1/aQS+aECBAgAABAgQIECBAoDsBgYnuvLQmQIAAAQIECBAgQIAAAQIECBAgQIAAAQIECBAgQIAAAQIEmhcQmGjeeNhHEJhoSYXHxsbysRP/kH//zlnrzejh99g+73v6Adlkw8Utma1pECBAgAABAgQIECAwbAICE8NWUeshQIAAAQIECBAgQIAAAQIECBAgQIAAAQIECBAgQIAAAQKDLyAwMfg17PcKBCb6XYEkq9eszeu/8bt89n8vXm82R/71XfMvj98nixb6uLegVKZAgAABAgQIECBAYGgFBCaGtrQWRoAAAQIECBAgQIAAAQIECBAgQIAAAQIECBAgQIAAAQIEBlbAHdQDW7rWTFxgos+luPmO1fn7z/06Pz77qgkzWbAg+T+P2yfP/5vd+jxDwxMgQIAAAQIECBAgMAoCAhOjUGVrJECAAAECBAgQIECAAAECBAgQIECAAAECBAgQIECAAAECgyUgMDFY9WrjbAUm+liVy2+4PcuPOSm/v+zGCbNYumRh3nv4AXn0ve7Ux9kZmgABAgQIECBAgACBURIQmBilalsrAQIECBAgQIAAAQIECBAgQIAAAQIECBAgQIAAAQIECBAYDAGBicGoU5tnKTDRp+qceemNed4xJ+XyG2+fMINtN90gnzjioOy/y5Z9mplhCRAgQIAAAQIECBAYRQGBiVGsujUTIECAAAECBAgQIECAAAECBAgQIECAAAECBAgQIECAAIF2CwhMtLs+gzA7gYk+VOkn51yVl37mlNyycs2E0ffYbpMcs/zg7LL1xn2YlSEJECBAgAABAgQIEBhlAYGJUa6+tRMgQIAAAQIECBAgQIAAAQIECBAgQIAAAQIECBAgQIAAgXYKCEy0sy6DNCuBiR5X63P/e3H+5fjfZs3asQkj33f3rfPRZy/LFhsv6fGMDEeAAAECBAgQIECAAIFEYMK7gAABAgQIECBAgAABAgQIECBAgAABAgQIECBAgAABAgQIEGibgMBE2yoyePMRmOhRzdauHcs7vnd2PvKT89cb8ckH7JS3PWW/bLB4YY9mYxgCBAgQIECAAAECBAhMFBCY8I4gQIAAAQIECBAgQIAAAQIECBAgQIAAAQIECBAgQIAAAQIE2iYgMNG2igzefAQmelCz21etyau+9JuccPpl64328ofdPa94+N2zYIGPcw9KYQgCBAgQIECAAAECBKYREJjw1iBAgAABAgQIECBAgAABAgQIECBAgAABAgQIECBAgAABAgTaJuAO67ZVZPDmIzDRcM2uvWVlXvSpk3PyRddNGGnJogX59yfvl6feZ+eGZ6B7AgQIECBAgAABAgQIzC4gMDG7kRYECBAgQIAAAQIECBAgQIAAAQIECBAgQIAAAQIECBAgQIBAbwUEJnrrPYyjCUw0WNULrr4ly1f8Khdec+uEUTZbujgfffZ98td3K/wOAgQIECBAgAABAgQI9F9AYKL/NTADAgQIECBAgAABAgQIECBAgAABAgQIECBAgAABAgQIECBAYKKAwIR3xHwFBCbmKzjN+SdfeG1e+KmTc92tqya02GnLjXLM8oNy9x02a2hk3RIgQIAAAQIECBAgQKB7AYGJ7s2cQYAAAQIECBAgQIAAAQIECBAgQIAAAQIECBAgQIAAAQIECDQrIDDRrO8o9C4w0UCVv/mbS/OqL/0mK1evndD7vXfeIh8/Ylm232xpA6PqkgABAgQIECBAgAABAnMXEJiYu50zCRAgQIAAAQIECBAgQIAAAQIECBAgQIAAAQIECBAgQIAAgWYEBCaacR2lXgUmaqz22NhYPvyT8/OO7569Xq+P2GeHvP/pB2SjDRbVOKKuCBAgQIAAAQIECBAgUI+AwEQ9jnohQIAAAQIECBAgQIAAAQIECBAgQIAAAQIECBAgQIAAAQIE6hMQmKjPclR7EpioqfKr1qzNvx7/2xz3q0vW6/F5998tr3vcPbJooY9sTdy6IUCAAAECBAgQIECgZgGBiZpBdUeAAAECBAgQIECAAAECBAgQIECAAAECBAgQIECAAAECBAjMW8Dd1/MmHPkOBCZqeAvcdPuq/N3nTs2J51w1obcFC5J/ffw+WX7/3WoYRRcECBAgQIAAAQIECBBoTkBgojlbPRMgQIAAAQIECBAgQIAAAQIECBAgQIAAAQIECBAgQIAAAQJzExCYmJubs/4iIDAxz3fDZTfcluUrTspZl980oaeNlizK+59xQB6xzw7zHMHpBAgQIECAAAECBAgQaF5AYKJ5YyMQIECAAAECBAgQIECAAAECBAgQIECAAAECBAgQIECAAAEC3QkITHTnpfX6AgIT83hX/O7SG/K8Y07KFTfeMaGXbTfdMEcfuSz77bzlPHp3KgECBAgQIECAAAECBHonIDDRO2sjESBAgAABAgQIECBAgAABAgQIECBAgAABAgQIECBAgAABAp0JCEx05qTV9AICE3N8d/zorCvz95/7dW5ZuWZCD3ffftOsWH5Qdt5q4zn27DQCBAgQIECAAAECBAj0XkBgovfmRiRAgAABAgQIECBAgAABAgQIECBAgAABAgQIECBAgAABAgRmFhCY8A6Zr4DAxBwEP/PLi/Kvx/82a8cmnvzXe2yTDz/7PtlioyVz6NUpBAgQIECAAAECBAgQ6J+AwET/7I1MgAABAgQIECBAgAABAgQIECBAgAABAgQIECBAgAABAgQITC0gMOGdMV8BgYkuBNeuHcvbv3tWPnriH9Y766n32TlvPXTfbLB4YRc9akqAAAECBAgQIECAAIF2CAhMtKMOZkGAAAECBAgQIECAAAECBAgQIECAAAECBAgQIECAAAECBAj8RUBgwrthvgICEx0K3r5qTf7hi6fl22dcvt4Z//CIPfOyh94tCxb4SHbIqRkBAgQIECBAgAABAi0TEJhoWUFMhwABAgQIECBAgAABAgQIECBAgAABAgQIECBAgAABAgQIEIi7s70J5isgMNGB4DU335EXfOrknHrx9RNaL1m0IO946n459ICdO+hFEwIECBAgQIAAAQIECLRXQGCivbUxMwIECBAgQIAAAQIECBAgQIAAAQIECBAgQIAAAQIECBAgMKoCAhOjWvn61i0wMYvl+VfdnOUrTsrF1946oeXmSxfnY89dlvvuvk191dATAQIECBAgQIAAAQIE+iQgMNEneMMSIECAAAECBAgQIECAAAECBAgQIECAAAECBAgQIECAAAEC0woITHhzzFdAYGIGwV9dcG1e+KmTc8Ntqya02mXrjbLiyINyt+03m6+/8wkQIECAAAECBAgQINAKAYGJVpTBJAgQIECAAAECBAgQIECAAAECBAgQIECAAAECBAgQIECAAIFxAgIT3g7zFRCYmEbw+NP+lFd/6fSsXLN2Qov9d9kynzhiWbbddMP52jufAAECBAgQIECAAAECrREQmGhNKUyEAAECBAgQIECAAAECBAgQIECAAAECBAgQIECAAAECBAgQqAQEJrwV5isgMDFJcGxsLB/80Xn5j/86Zz3bR91zh7z38AOy0QaL5uvufAIECBAgQIAAAQIECLRKQGCiVeUwGQIECBAgQIAAAQIECBAgQIAAAQIECBAgQIAAAQIECBAgQCCJwIS3wXwFBCbGCa5aszav+9oZ+eLJf1zP9QV/s1v++bH3yKKFPnbzfdM5nwABAgQIECBAgACB9gkITLSvJmZEgAABAgQIECBAgAABAgQIECBAgAABAgQIECBAgAABAgRGXcCd26P+Dpj/+gUmKsMbb1+Vv/vsr/PTc6+eoFryEW94wj3z3Pvddf7aeiBAgAABAgQIECBAgEBLBQQmWloY0yJAgAABAgQIECBAgAABAgQIECBAgAABAgQIECBAgAABAiMsIDAxwsWvaekCE0n+dP1ted6Kk3L2FTdNYN1oyaL85zMPyMPusUNN3LohQIAAAQIECBAgQIBAOwUEJtpZF7MiQIAAAQIECBAgQIAAAQIECBAgQIAAAQIECBAgQIAAAQKjLCAwMcrVr2ftIx+Y+O2fbsjyY07KVTfdMUF0+802zNFHHpR77bRFPdJ6IUCAAAECBAgQIECAQIsFBCZaXBxTI0CAAAECBAgQIECAAAECBAgQIECAAAECBAgQIECAAAECIyogMDGiha9x2SMdmPjv31+Rlx13am5duWYC6V47bJajlx+UnbbcqEZqXREgQIAAAQIECBAgQKC9AgIT7a2NmREgQIAAAQIECBAgQIAAAQIECBAgQIAAAQIECBAgQIAAgVEVEJgY1crXt+6RDUx8+n8uzOu/8busHZuI+YC7b5sPPuvAbL50SX3KeiJAgAABAgQIECBAgEDLBQQmWl4g0yNAgAABAgQIECBAgAABAgQIECBAgAABAgQIECBAgAABAiMoIDAxgkWveckjF5hYu3Ysb/327/OJn12wHuXhy3bJWw69V5YsWlgzs+4IECBAgAABAgQIECDQbgGBiXbXx+wIECBAgAABAgQIECBAgAABAgQIECBAgAABAgQIECBAgMAoCghMjGLV613zSAUmblu5Jq/8wmn57u8uX0/x1Y/aKy998B5ZsMDHqt63mN4IECBAgAABAgQIEBgEAYGJQaiSORIgQIAAAQIECBAgQIAAAQIECBAgQIAAAQIECBAgQIAAgdEScGf3aNW7idWOTGDi6pvvyPOPPTm/ueT6CY4bLFqYdx62X564/05N+OqTAAECBAgQIECAAAECAyEgMDEQZTJJAgQIECBAgAABAgQIECBAgAABAgQIECBAgAABAgQIECAwUgICEyNV7kYWOxKBifOuvDnLj/lVLrn2tgmIW268JB97zrIcvNvWjeDqlAABAgQIECBAgAABAoMiIDAxKJUyTwIECBAgQIAAAQIECBAgQIAAAQIECBAgQIAAAQIECBAgMDoCAhOjU+umVjr0gYlf/uGavOhTJ+fG21dPMNx1642zYvlB2WO7TZuy1S8BAgQIECBAgAABAgQGRkBgYmBKZaIECBAgQIAAAQIECBAgQIAAAQIECBAgQIAAAQIECBAgQGBkBAQmRqbUjS10qAMTXzv1j/nHL5+eVWvGJgAesOuW+cRzl2WbTTdsDFbHBAgQIECAAAECBAgQGCQBgYlBqpa5EiBAgAABAgQIECBAgAABAgQIECBAgAABAgQIECBAgACB0RAQmBiNOje5yqEMTIyNjeUDPzwv7/7+OevZPXbfO+XdT9s/S5csatJV3wQIECBAgAABAgQIEBgoAYGJgSqXyRIgQIAAAQIECBAgQIAAAQIECBAgQIAAAQIECBAgQIAAgZEQEJgYiTI3usihC0ysXL02r/3aGfnyKX9cD+7FD9w9//TovbNwoY9Oo+8qnRMgQIAAAQIECBAgMHACAhMDVzITJkCAAAECBAgQIECAAAECBAgQIECAAAECBAgQIECAAAECQy/gru+hL3HjCxyqwMQNt63K337mlPzi/GsmwJV8xJueeK88+753aRzUAAQIECBAgAABAgQIEBhEAYGJQayaORMgQIAAAQIECBAgQIAAAQIECBAgQIAAAQIECBAgQIAAgeEWEJgY7vr2YnVDE5j443W3ZvmKk3LulTdPcNtkg0X5z2cdmIfstX0vPI1BgAABAgQIECBAgACBgRQQmBjIspk0AQIECBAgQIAAAQIECBAgQIAAAQIECBAgQIAAAQIECBAYagGBiebKuzjJg5M8Msn9kuyVZKsktya5MMmPknwkyVk1TaHU8jlJjkiyb5LNk1xWjfP+JKfVNM7kboYiMHH6H6/P8445OVfffMeE9e2w+YY5+siDcs8dt2iIT7cECBAgQIAAAQIECBAYDgGBieGoo1UQIECAAAECBAgQIECAAAECBAgQIECAAAECBAgQIECAAIFhEhCYaK6ap1fBhZlGWJ3ktUneOc9pbJzk+CQPn6afVUlekeRD8xxnqtMHPjDx/TOvyFHHnZrbVq2ZsL6977RZViw/KHfeYqMG2HRJgAABAgQIECBAgACB4RIQmBiueloNAQIECBAgQIAAAQIECBAgQIAAAQIECBAgQIAAAQIECBAYBgGBieaqWHaR2LXa4eGLSX6R5NIkmyR5aJI3JdmlGv7FST42j6mU/g+rzv9wkg8muTLJAUnenmT/JGNJDklywjzGmerUgQ5MrPj5BXnTt87MWNEZdzxwz+3ywWcekM2WLqmZS3cECBAgQIAAAQIECBAYTgGBieGsq1URIECAAAECBAgQIECAAAECBAgQIECAAAECBAgQIECAAIFBFhCYaK56ZdeIo5P8fpoh7pzklCTlv9dW/105h+k8uApllFP/I8mrJ/WxeZLTkuyW5Nwk+yQpO1vUdQxkYGLN2rG85YQzs+LnJdcy8XjGwbvkTU+8V5YsWliXkX4IECBAgAABAgQIECAw9AICE0NfYgskQIAAAQIECBAgQIAAAQIECBAgQIAAAQIECBAgQIAAAQIDJyAw0d+SvaoKOZRZPCjJiXOYzleTHJrkhiQ7Jbllij6ek+RT1c+fkOSbcxhnulMGLjBx68rVefnnT8v3z7xivTX906P3zksetHsWLPDRqPE9oisCBAgQIECAAAECBEZAQGBiBIpsiQQIECBAgAABAgQIECBAgAABAgQIECBAgAABAgQIECBAYMAE3BXe34I9Ksl3qyk8M8lxXU5naZJrkmyc5NNJnjvN+RsluT7JBtWuF8/vcpyZmg9UYOLKm27PC449Oaf/seRL/nJssHhh3nXYvXPIvXeskUZXBAgQIECAAAECBAgQGB0BgYnRqbWVEiBAgAABAgQIECBAgAABAgQIECBAgAABAgQIECBAgACBQREQmOhvpUrA4dhqCo9PckKX0zkgya+rc16S5KMznP/LJH+V5DdJ9u9ynJmaD0xg4twrbsqRK07Kn66/bcJ6ttp4ST7+3GVZdteta2TRFQECBAgQIECAAAECBEZLQGBitOpttQQIECBAgAABAgQIECBAgAABAgQIECBAgAABAgQIECBAYBAEBCb6W6VvJXlckrVJdkhydZfTeUaSz1XnPCLJD2Y4/7NJyi4Wt1c7Uox1OdZ0zQciMPGL867Oiz9zSm66ffWEddx1m42zYvnB2W3bTWri0A0BAgQIECBAgAABAgRGU0BgYjTrbtUECBAgQIAAAQIECBAgQIAAAQIECBAgQIAAAQIECBAgQKDNAgIT/atOCTj8VzX8cVWYodvZHJXkfdVJ+yb57QwdvDvJK6vXN09yUxeDlVDEdEfZluHs8uJVV12VbbedqWkXI9bY9Cun/DGv+erpWbVmYkZk2V22yseeuyxbb7JBjaPpigABAgQIECBAgAABAqMpIDAxmnW3agIECBAgQIAAAQIECBAgQIAAAQIECBAgQIAAAQIECBAg0GYBgYn+VGfnJCdXu0pcl+TeSS6Zw1Rem+TfqvPunuS8Gfoo7Ur7cuyY5LIuxutoN4o2Bibe94Nz854fnLPeUh+/353zH4fdO0uXLOqCQVMCBAgQIECAAAECBAgQmE5AYMJ7gwABAgQIECBAgAABAgQIECBAgAABAgQIECBAgAABAgQIEGibgMBE7yuyWZIfJzkwydokhyb5xhynMT4wcbck58/Qz1uSvK56fWQCEx/5yfl523fOmsDytw/eI69+5F5ZuNDbf47vO6cRIECAAAECBAgQIEBgPQGBCW8KAgQIECBAgAABAgQIECBAgAABAgQIECBAgAABAgQIECBAoG0C7hjvbUWWJvlOkgdXw740yYfnMYWjkryvOn/fJL+doa93JfmH6vXNk9zUxbjbztB26yRnl9fbuMPE2NhYXvf13+Zz/3txFi1ckLc86V55xsG7drF0TQkQIECAAAECBAgQIECgEwGBiU6UtCFAgAABAgQIECBAgAABAgQIECBAgAABAgQIECBAgAABAgR6KSAw0TvtDZJ8PcljqiH/Mck75zn8M5N8turj4Un+e4b+PpPkWUnuSLJRkrF5jr3u9BKmuKr8pY2BiTKv1WvW5uVfOC1PW7ZLHrTndjUtWzcECBAgQIAAAQIECBAgMF5AYML7gQABAgQIECBAgAABAgQIECBAgAABAgQIECBAgAABAgQIEGibgMBEbyqyOMmXkzyxGu71Sd5Uw9AHJjml6uclST46Q5//k+S+SU5Pcu8axl7XResDEzWuVVcECBAgQIAAAQIECBAgMI2AwIS3BgECBAgQIECAAAECBAgQIECAAAECBAgQIECAAAECBAgQINA2AYGJ5iuyKMlxSQ6rhnpHkn+qadilSa5JsnGSY5McOU2/pd0NScouF0cneX5N45duBCZqxNQVAQIECBAgQIAAAQIEBlVAYGJQK2feBAgQIECAAAECBAgQIECAAAECBAgQIECAAAECBAgQIEBgeAUEJpqt7cIkn0ryrGqY/0zyspqH/GqSQ5Ncn2SnJLdO0X8Z/zPVz5+Q5Js1zkFgokZMXREgQIAAAQIECBAgQGBQBQQmBrVy5k2AAAECBAgQIECAAAECBAgQIECAAAECBAgQIECAAAECBIZXQGCiudoW24+P283hk0lemGSs5iEfkuSHVZ9vT/KaSf1vmuS0JHskOS/JPklW1TgHgYkaMXVFgAABAgQIECBAgACBQRUQmBjUypk3AQIECBAgQIAAAQIECBAgQIAAAQIECBAgQIAAAQIECBAYXgGBieZq+74kR1Xdfy3JkUnWzjDcyiTlf5OPC5PcJclFSe46zflfTHJY9doHk5T/XZXkgCQlRFH+W4IahyQ5oeYlC0zUDKo7AgQIECBAgAABAgQIDKKAwMQgVs2cCRAgQIAAAQIECBAgQIAAAQIECBAgQIAAAQIECBAgQIDAcAsITDRX3253knhjkjdMMZ1OAhMbJzk+ycOnWU7ZUeIVST7UwHIFJhpA1SUBAgQIECBAgAABAgQGTUBgYtAqZr4ECBAgQIAAAQIECBAgQIAAAQIECBAgQIAAAQIECBAgQGD4BQQmmqtxLwMTZRWlls9NckSSfZNsluTyJD9KUna7OK2hpQpMNASrWwIECBAgQIAAAQIECAySgMDEIFXLXAkQIECAAAECBAgQIECAAAECBAgQIECAAAECBAgQIECAwGgICEyMRp2bXKXARJO6+iZAgAABAgQIECBAgMCACAhMDEihTJMAAQIECBAgQIAAAQIECBAgQIAAAQIECBAgQIAAAQIECIyQgMDECBW7oaUKTDQEq1sCBAgQIECAAAECBAgMkoDAxCBVy1wJECBAgAABAgQIECBAgAABAgQIECBAgAABAgQIECBAgMBoCAhMjEadm1ylwESTuvomQIAAAQIECBAgQIDAgAgITAxIoUyTAAECBAgQIECAAAECBAgQIECAAAECBAgQIECAAAECBAiMkIDAxAgVu6GlCkw0BKtbAgQIECBAgAABAgQIDJKAwMQgVctcCRAgQIAAAQIECBAgQIAAAQIECBAgQIAAAQIECBAgQIDAaAgITIxGnZtcpcBEk7r6JkCAAAECBAgQIECAwIAICEwMSKFMkwABAgQIECBAgAABAgQIECBAgAABAgQIECBAgAABAgQIjJCAwMQIFbuhpQpMNASrWwIECBAgQIBO3lJxAAAgAElEQVQAAQIECAySgMDEIFXLXAkQIECAAAECBAgQIECAAAECBAgQIECAAAECBAgQIECAwGgICEyMRp2bXKXARJO6+iZAgAABAgQIECBAgMCACAhMDEihTJMAAQIECBAgQIAAAQIECBAgQIAAAQIECBAgQIAAAQIECIyQgMDECBW7oaUKTDQEq1sCBAgQIECAAAECBAgMkoDAxCBVy1wJECBAgAABAgQIECBAgAABAgQIECBAgAABAgQIECBAgMBoCAhMjEadm1ylwESTuvomQIAAAQIECBAgQIDAgAgITAxIoUyTAAECBAgQIECAAAECBAgQIECAAAECBAgQIECAAAECBAiMkIDAxAgVu6GlCkw0BKtbAgQIECBAgAABAgQIDJKAwMQgVctcCRAgQIAAAQIECBAgQIAAAQIECBAgQIAAAQIECBAgQIDAaAgITIxGnZtcpcBEk7r6JkCAAAECBAgQIECAwIAICEwMSKFMkwABAgQIECBAgAABAgQIECBAgAABAgQIECBAgAABAgQIjJCAwMQIFbuhpQpMNASrWwIECBAgQIAAAQIECAySgMDEIFXLXAkQIECAAAECBAgQIECAAAECBAgQIECAAAECBAgQIECAwGgICEyMRp2bXKXARJO6+iZAgAABAgQIECBAgMCACAhMDEihTJMAAQIECBAgQIAAAQIECBAgQIAAAQIECBAgQIAAAQIECIyQgMDECBW7oaUKTDQEq1sCBAgQIECAAAECBAgMkoDAxCBVy1wJECBAgAABAgQIECBAgAABAgQIECBAgAABAgQIECBAgMBoCAhMjEadm1ylwESTuvomQIAAAQIECBAgQIDAgAgITAxIoUyTAAECBAgQIECAAAECBAgQIECAAAECBAgQIECAAAECBAiMkIDAxAgVu6GlbpfkytL3WWedlW222aahYXRLgAABAgQIECBAgAABAm0WuOaaa7L33nuvm+L2Sa5q83zNjQABAgQIECBAgAABAgQIECBAgAABAgQIECBAgAABAgQIEBh+AYGJ4a9x0yvcM8nZTQ+ifwIECBAgQIAAAQIECBAYKIG9kpwzUDM2WQIECBAgQIAAAQIECBAgQIAAAQIECBAgQIAAAQIECBAgQGDoBAQmhq6kPV+QwETPyQ1IgAABAgQIECBAgACB1gsITLS+RCZIgAABAgQIECBAgAABAgQIECBAgAABAgQIECBAgAABAgSGX0BgYvhr3PQKFyXZoxrkuiRjTQ84h/63HrcLRrlp59o59OGUZgTUphnX+faqLvMVbO58tWnOdr49q818BZs7X22as51Pz+oyH71mz1WbZn3n0/sg1Kb8fwxbVYs8P8ma+SzYuQQIECBAgAABAgQIECBAgAABAgQIECBAgAABAgQIECBAgACB+QoITMxX0PmDILBtkquqiW6X5OpBmPSIzFFt2llodWlnXcqs1EZt2ivQ3pn53LSzNurSzrq41rS3LmrT7tqYHQECBAgQIECAAAECBAgQIECAAAECBAgQIECAAAECBAgQINBSAYGJlhbGtGoVcENerZy1dqY2tXLW1pm61EZZe0dqUztpbR2qTW2UtXekNrWT1tKhutTC2EgnatMIay2dqk0tjDohQIAAAQIECBAgQIAAAQIECBAgQIAAAQIECBAgQIAAAQIERklAYGKUqj26a3VjUXtrrzbtrI26tLMuZVZqozbtFWjvzHxu2lkbdWlnXVxr2lsXtWl3bcyOAAECBAgQIECAAAECBAgQIECAAAECBAgQIECAAAECBAgQaKmAwERLC2NatQq4Ia9Wzlo7U5taOWvrTF1qo6y9I7WpnbS2DtWmNsraO1Kb2klr6VBdamFspBO1aYS1lk7VphZGnRAgQIAAAQIECBAgQIAAAQIECBAgQIAAAQIECBAgQIAAAQKjJCAwMUrVHt21urGovbVXm3bWRl3aWZcyK7VRm/YKtHdmPjftrI26tLMurjXtrYvatLs2ZkeAAAECBAgQIECAAAECBAgQIECAAAECBAgQIECAAAECBAi0VEBgoqWFMa1aBdyQVytnrZ2pTa2ctXWmLrVR1t6R2tROWluHalMbZe0dqU3tpLV0qC61MDbSido0wlpLp2pTC6NOCBAgQIAAAQIECBAgQIAAAQIECBAgQIAAAQIECBAgQIAAgVESEJgYpWqP7lrdWNTe2qtNO2ujLu2sS5mV2qhNewXaOzOfm3bWRl3aWRfXmvbWRW3aXRuzI0CAAAECBAgQIECAAAECBAgQIECAAAECBAgQIECAAAECBFoqIDDR0sKYFgECBAgQIECAAAECBAgQIECAAAECBAgQIECAAAECBAgQIECAAAECBAgQIECAAAECBAgQIDB3AYGJuds5kwABAgQIECBAgAABAgQIECBAgAABAgQIECBAgAABAgQIECBAgAABAgQIECBAgAABAgQIEGipgMBESwtjWgQIECBAgAABAgQIECBAgAABAgQIECBAgAABAgQIECBAgAABAgQIECBAgAABAgQIECBAgMDcBQQm5m7nTAIECBAgQIAAAQIECBAgQIAAAQIECBAgQIAAAQIECBAgQIAAAQIECBAgQIAAAQIECBAgQKClAgITLS2MaREgQIAAAQIECBAgQIAAAQIECBAgQIAAAQIECBAgQIAAAQIECBAgQIAAAQIECBAgQIAAAQJzFxCYmLudMwkQIECAAAECBAgQIECAAAECBAgQIECAAAECBAgQIECAAAECBAgQIECAAAECBAgQIECAAIGWCghMtLQwpkWAAAECBAgQIECAAAECBAgQIECAAAECBAgQIECAAAECBAgQIECAAAECBAgQIECAAAECBAjMXUBgYu52ziRAgAABAgQIECBAgAABAgQIECBAgAABAgQIECBAgAABAgQIECBAgAABAgQIECBAgAABAgRaKiAw0dLCmBYBAgQIECBAgAABAgQIECBAgAABAgQIECBAgAABAgQIECBAgAABAgQIECBAgAABAgQIECAwdwGBibnbOZMAAQIECBAgQIAAAQIECBAgQIAAAQIECBAgQIAAAQIECBAgQIAAAQIECBAgQIAAAQIECBBoqYDAREsLM0LT2j3JsiQHVf+9T5LNqvUvT3JMjRbl/f6cJEck2TfJ5kkuS/KjJO9PclqHYz0xyQuTlLluneTKJL9I8sEkJ3bYxyA060VtSq0fm+RhVf3LmJskuTHJmUm+neRjSa6ZAeyuSS7oEPSwJF/usG1bm/WiLkcmWdEhwHZJrp6lrc9MUtf32ViHdVnX7NgkpZ7jjwdX33uddFW+m0/upGGL2yxOUtb8yCT3S7JXkq2S3JrkwsriI0nOqmkNrjWdQfaqLq4zndVjfKte1ca1pr21ca3pvjY7Jym/75R/1+yXZIck21TdXJHklCTHJflKkm59p5rNkiQvSfKM6rq2UZI/JflOkvcm+UMHS6jretXBUJoQIECAAAECBAgQIECAAAECBAgQIECAAAECBAgQIECAAAECBPonIDDRP3sj/1lgphuG6rrBuIyzcZLjkzx8GvhVSV6R5EMzFGZhFeAooYupjrKWtyV57ZAUt+na7Jjk/CRLZ/EqN+M/M8n3p2k3aoGJputSmOu6idVn5i9v2rq+z7q9yfJVSd496bMzaoGJ06uQ3ExfNaur7+53zvP727Wmc8Be1MV1pvN6jG/Zi9q41rS7Nq413denhBc+3MFpP0vypFnCwLN1s32S7yXZf5qGtyR5dpKvz9BRHder2ebpdQIECBAgQIAAAQIECBAgQIAAAQIECBAgQIAAAQIECBAgQIBAKwQEJlpRhpGexLobsq6tnrx6XZKnVSJ13WBcuvtikrK7QDnKzUxlN4iyM8QBSd5e3XBU5nJIkhOmqcg7kry6eu1L1XkXJdk7yZuSPKR67aUd3jDV9sI3XZt1QYfbq6ftfqt6kn3ZTaI8lfepSV5XBSpKm/sm+c0UaOMDE+Vmtc/OAHtbkjVth59lfk3XpQw/PjBxzyQXzzCnm2d4zWem/u+zTTt4/5bvsAcmKSGAnarvuvGnjQ9MlB1efjpDn2UXhrUdjNnmJmUXiV2rnSTKtaDsCHRptZvNQ6vv712qBby42tVmrutxrelcrhd1cZ3pvB7jW/aiNq417a6Na0339Sm/O5WA738nObXa7eHyJFtUO0D8XZLHVd2W6+6D5rjTRAmj/rz6vbj8TvvWJJ9KclOS+yd5V5Ly3Vd+dy5///U0S6njetW9kjMIECBAgAABAgQIECBAgAABAgQIECBAgAABAgQIECBAgAABAn0QEJjoA7ohJwiUcMTJSf5Q/XT8jbx1BSbG9/kf40IP6yayeZLTkuyW5Nwk+1Q3Go+f6N2TnJlkcZISllgX6ljXpvy83PxUbuovoY89qv8Ocrmbrk158vfLkpSalJDEVEcJoZQbz8p3VbkJ/PFTNBofmKjrPdPmujVdl7L28YGJ8rkoN892e/jMJE18n81Wh3Ljf6lXuaHym0meMMUJ4+dVPmM/nq3TAX+97BpxdJLfT7OOO1eBvfLfEt4r/105hzW71nSH1ou6uM50V5N1rXtRG9eadtdmttm51swmNPXrH03youqlEpg4cQ7djP8d7e+rEPj4bkptyi4xW1bX93WB7vFt6rhezWHqTiFAgAABAgQIECBAgAABAgQIECBAgAABAgQIECBAgAABAgQI9EdAYKI/7kadXqCJG4y/muTQJDdUT1u/ZYrhn1M9nbW8VG4wLjcajz/eneSV1ZPWd09SdpaYfDxg3I1PRyX5wJAVuonadEJUalGCEuUG5vLE41WTThq1wMRksybqUkdgwmemP4GJsivLW6o3yVOSlO+/md4zoxCY6OR75lVVeKu0netNrK41nUh316aOunQyoutMJ0oT29RRG9ea7t07OaOO2sw2jmvNbEJTv36fKiheXi11Kr8rdXuUHSPKDnkl5L3XNLtU/Eu1e1Lpe78kZ0wapI7rVbfz1p4AAQIECBAgQIAAAQIECBAgQIAAAQIECBAgQIAAAQIECBAg0DcBgYm+0Rt4GoG6b/5eWu1esHGSTyd57jTjbpTk+iQbVE8if/6kducnKUGJsovEA2eo3sVJypNdf5jkYUNW5bpr0ynPvyd5TdW4PC38skknCkwkP6pM6tpho46bWH1m+hOYOCdJ2d2j7NpSPi9T7ZQwajtMdPJd86gk360aPjPJcZ2cNK6Na02XYB02n29dOhwmrjOdSv2lXR21ca3p3r2TM+qozWzjuNbMJjT16/tWuz+UV6faHWK2XncdF9p+c5J/neaEstPdedVrpU1pu+6o63o121y9ToAAAQIECBAgQIAAAQIECBAgQIAAAQIECBAgQIAAAQIECBBojYDARGtKYSKVQN035ZcnsJYnsZbjJUk+OoP0L5P8VZLfJNl/XLutklxb/f1tSf55hj4+n+TwajeLLYesqnXXplOeo5OUIEA5yg4Tk3cImSowUYIvU90o3umYg9SuibpMdRNrN6Y+M39+BzVRm5nem/dP8rOqQdnhpux0M9UxVWCim/oO0uej07mWMN2xVeOyo80JnZ5YtXOt6RKsw+bzrUuHw8R1plOpv7SrozauNd27d3JGHbVxrelEuvs2bx3374iDk5zUZRdlx7x1O0c9Osn3Zjj/8iQ7JDk+yZPGtavjetXltDUnQIAAAQIECBAgQIAAAQIECBAgQIAAAQIECBAgQIAAAQIECPRXQGCiv/5GX1+g7huMn5Hkc9Uwj0jygxnQP5ukPFn89iRlR4qxqu39kvyi+vMLk3xihj7+Lclrq9en2g1hkGted206sSg7f5RdO7ZNckaS/aY4aXxgojzxeLsk5Yb91dVTeH+c5D+TnNbJgAPYpom6jL+JtQSI9kpSnkhcPhu/T/KdynTybh/r+Hxm/izRRG1meot+PMkLqgYHJjl1msbj5/W7JHepwkglZFSeSF2+J0vgYt3TqQfwY9H1lL+V5HFJ1lY3mF7dZQ+uNV2Cddh8vnXpZBjXmU6U1m9TR21ca+ZmP9tZddTGtWY25c5f3zrJ3ZK8KMnzkpR/f38hydM77+L/tyyh7RK6KEfZTWqm6/TPk/x1kvK7cfk9bt1Rx/VqDlN3CgECBAgQIECAAAECBAgQIECAAAECBAgQIECAAAECBAgQIECgfwICE/2zN/LUAnXfYFyesP6+aqh9k/x2Bvh3J3ll9frmSW6q/vyE6ums5a+HJCk3ok13jB+v3NxfbvIflqPu2nTiMj6A8uIkH5vipPGBien6LOGXt1dhlnVBmE7GH4Q2TdRl/E2s0xmUz0e58e/LUzTwmfkzShO1ma4e5abv8jTp8t11epJ7z/DmHT+v6ZqV8MSrqmDMIHwO5jPHEqb7r6qD46rgXLf9udZ0KzZ7+zrqMvsoietMJ0oT29RVG9ea7u1nO6Ou2rjWzCY98+sfSVJ+b518lF3SymuvqYK93Y4y/t8qmyW5eYYOyk4UZUeKskveNuPa1XG96nbe2hMgQIAAAQIECBAgQIAAAQIECBAgQIAAAQIECBAgQIAAAQIE+iogMNFXfoNPIVD3DcZlt4dyM2Q5ZnsS63S7Q5RdJ8ruE+WYbZeKsgPFupv6y1Nd/2eIqlx3bWajeVSSE5IsSvLLJA+Y5uayXZN8snpa70lJ/ljdQLZLksdXIYmy60Q53pTk9bMNPGCvN1GXw6un7X+92lHikmrHlfKE4mcneVmSxVU9HjPFzi0+M39+EzVRm+nenuPN/yHJe2Z4H9+/CkOUsEsJV5TPTNk9ZI8kT0nyj0k2qc4voZgVA/aZ6Ga6Oyc5udpV4roqaFLe790erjXdis3cvq66zDYr15nZhNZ/vc7auNZ07z/TGXXWxrVmfrWZLjBR/o1QdnCaKcA908jl/PJvjXIsmSV0sW7nvBKA3HBcp3Vcr+an42wCBAgQIECAAAECBAgQIECAAAECBAgQIECAAAECBAgQIECAQI8FBCZ6DG64WQXqvsF4/E1Bd0ty/gwzeEuS11Wv75jksurP429EfniS/56hjxck+Xj1usDErOWetsE9k/wsyZZJrkmyLMmFc+xup6qvshPFqiR7J/nDHPtq42l1f2Y6WeNDk3wnyQZJzkmyT5I14070mfkzRi9rU3ZIKIGu1UnKe/7KTgo5TZt7JTkxyVbVk6l3S3LjPPpr66nl6dw/TnJgkrXVk7i/McfJutbMEW6K0+qsy0yzcp3pvma9qs26mbnWdF6jXtXGtaazmpSAQgk0lKPs/FR2uXtRkidX1+myg9P7O+tqQqvxgYkSXB3/u9fk7j6T5FlJZgpMzPXfRnOYulMIECBAgAABAgQIECBAgAABAgQIECBAgAABAgQIECBAgAABAv0TEJjon72Rpxao+wbjo5K8rxqq3Kw00xNd35WkPJm9HOXmppuqPz8hyfHVnw9J8q0ZileevL/uBqj9kpwxRIWuuzbT0eye5KdJSmil1KCEVH41T8dSt3U3Qv9zkrfNs782nd6rukxe8/jPy/2qXUDWtfGZ+bNEr2pTnip+UZKF1fv8iTW8Qcd/lz0jyedr6LNNXSytQj+lRuV4aZIPz2OCrjXzwBt3at11cZ2ppy6ll17VxrWm+5r1qjauNd3XZvIZ48N1hyYpO3l1c7w7ySurE0pI5uYZTv5KFdC4Nsk249rVcb3qZs7aEiBAgAABAgQIECBAgAABAgQIECBAgAABAgQIECBAgAABAgT6LiAw0fcSmMAkgbpvMO7mSffrnsR6R5KNkoxVcys7Rfy8+nPZQeKTM1Rt/C4V5Snvlw5RheuuzVQ0u1RPti+7QdyW5DFJflKDYXkKbwlflJsKv5TkaTX02ZYuelGXqdb6N1Wwpbz2d0k+NK6Rz8yfMXpVm/E3YJanV3+thjdnuTH2kqqfdyb5xxr6bEsXZWeUcpNq+X4pR1lbWeN8Dtea+ej9+dwm6uI6M/+69LI2rjXd16tXn5syM9ea7usz+YwSbCy7nN2l2v3sAV122c1uRmWntvsnOTfJnuPGqeN61eW0NSdAgAABAgQIECBAgAABAgQIECBAgAABAgQIECBAgAABAgQI9FdAYKK//kZfX6DuG4wPTHJKNcxLknx0BvT/SXLfJKcnufe4dlsnuab6e9mZoOxQMN1xXJKnJ7khyZZDVuC6azOZ585VWOJuSUpopexS8F81Gv6p2rXi+0keWWO//e6q6bpMt767JzmnevF1Sd7qM7MeVa9qc3Z1M+TV1Xt8VQ1vyiVJVlb9fDzJi2rosw1dlPDUl5Os24Xj9UneVMPEXGvmh9hUXVxn5leXcnavauNa032tel0b15ruazTVGV9McliSW5Js2mWXJRRZdo4ox6OTfG+G8y9Lcqcpdp6q43rV5bQ1J0CAAAECBAgQIECAAAECBAgQIECAAAECBAgQIECAAAECBAj0V0Bgor/+Rl9foO4bjMuOAiXssHGSY5McOQ16aVdCDuVJvUcnef6kduVpsLtVux2UOU53XJRk1yQ/TPKwIStw3bUZz7NDkh8n2TvJ6iRPqW7wqouw1PXGJBsmKTeqHV5Xxy3op8m6zLS8B47b/eOlST7sM7MeVy9qc78kv6hGfl+SV9T0nizfY+X7rBzvSPJPNfXbz24WJSmhtnKjat3rcq2Ze2WbrIvrzNzrUs7sVW1ca7qvU69r41rTfY2mO+OrSQ6dY2Bi/LX5jUneMM0g5d8s5d8u5fjXJG8e166u61V9InoiQIAAAQIECBAgQIAAAQIECBAgQIAAAQIECBAgQIAAAQIECDQsIDDRMLDuuxZo4gbjdTcmXZ9kpyS3TjGrZyX5TPXzsrPBNye1eXeSVyZZUwUnLpmij/sn+Vn186OSfKDr1bf7hCZqU1a8TRWWuFfl+8wq1FCnxpOSfK3q8DVJ3l5n533uq6m6zLas9yZ5edWo7Mzyvz4z65H1ojZl15x1uz8ckOS02QrX4eslePGeqm3ZNecLHZ7X1mYLk3wqSfmuL8d/JnlZzZN1reketBd1cZ3pvi7ljF7VZrbZudasL9SP2rjWzPZO7ez1EuC9OEkJCv8myf6dnTah1a+TlOt92fHjHknGpuij7Pz1lurn+yU5Y1KbOq5Xc5i6UwgQIECAAAECBAgQIECAAAECBAgQIECAAAECBAgQIECAAAEC/REQmOiPu1GnF2jiBuOHVDs+lFHLjfLlhvnxx6bVTcZ7JDkvyT5JVk1qs2eS3yVZXN04XG4gHn+Un/8kyV8nKcGM3ZNcN2SFbqI2W1S1ObC64avsAFJuau7m2CXJVAGWdX2Up/H+tNr5Y2WSvZJc2M0ALW9bd102q26ULTuuTHc8IskJSZYkOSvJPZOs9ZlZj6vu2kweoDwl+vIk5XPU6Y2XpWZbJ7lihvreu/o+K/2WHXrK91nZoWVQj/K7zsfH7Rz0ySQvnOYm0/ms0bWmO71e1cV1pru6lNa9qI1rTfd16VVtXGvmVpsSXvj9LKeuC2CXZv8nyb/NYajl1W545dS/TfKRSX2UcHgJSGyV5MQkD5pijDquV3OYulMIECBAgAABAgQIECBAgAABAgQIECBAgAABAgQIECBAgAABAv0REJjoj7tR/yJQQgrbjQMpN85/sPp7eTJquSl73VFu2D1zCrxy8/tdklyU5K7T4H4xyWHVa6X/8r+rqie0lhBFeVJreULrIZPGHN/dO5K8uvpB6e9t1VNiyw34b07y0Oq1lyb58BAUuenabJLk+0nuV1kV28k3fU1mvK3ahWL8z6+udvY4PskpSS5LsjpJCVI8tqpZuUG8HHO9Oa1N5Wy6LuVpxyX8U3YU+G510125aX5RFTZ5RpIXV38vwaJHJfnRNEA+M818n63jLrX4XPWXsgNOeRL7bMeW1WfkK9V3XdmR4srqpN2SPDlJ2V1io+pnzxm3+85sfbf19fclKbv+lKPsNFOCWZMDPuPnXoJV5X+TD9eaeivci7q4zsytZr2ojWtNe2szeWauNZ3VquxC950kX09ycpJLq2tJ2UntoCQvGRdeKP+eKT+bate7dTtGlN/FSvBy8lF+Hys72pXdvcqYJXRxbJKbk5Td7t5V7YZ3e/X3siPFVEcd/zbqTEYrAgQIECBAgAABAgQIECBAgAABAgQIECBAgAABAgQIECBAgECfBQQm+lwAw+eYJEd06DDdjUOd3MS6cZJyQ/3Dpxmr3PhdbhL+0AxzWZj8v/mWG4inOsoNTiVE8doO19P2Zk3XZvzT9zu1KE/E/fGkxmVHj/IE8ZmOUt83zvFJvp3OrVftmq5LuYn11A4WUwJH5SnH40NNk0/zmZkecj7fZ+t6/V6SR1Y74pQnSpeazHaUwEQnu9/cUoUMjp6twwF4fd3Np51OtXxXvGGKxq41nQp21q4XdXGd6awWk1v1ojauNe2tzeSZudZ0VqtOPzc/SPLsGXZ6mi0wUWazfZJSl/I5muoo1/Dy75USEpzuqOPfRp3JaEWAAAECBAgQIECAAAECBAgQIECAAAECBAgQIECAAAECBAgQ6LOAwESfC2D4ngUmCnV5vz+3Cmjsm2SzJJdXT8cvT1MuT1rv5HhikhcmWZZkq+om5V9Uu1aUm6CH5Wj6xvy6bmQ9NMnfJDk4yc5JypN8lya5Ick5VcDiE0kuGJLCNF2XTZMcXj25uOz4skNlWj4/ZaeJ06snKJenGRfjTg6fmfWV5huYKAGJi5OUUEoJgz2pk0JUO4OUp4WXJ1OX77Adq/ouroIU5anX5WbOEpQo34/DcHR6E+u6tc4nMOFa0/k7phd1cZ3pvB7jW/aiNq417a3N+Jm51nRep/K76IOSPKDa4aGEGsr7vOz8UHbB+1WSzyf54SxddhKYKF1sUO1aUa7pZbe7sjPUH6vdwd6T5A8dTL2ufxt1MJQmBAgQIECAAAECBAgQIECAAAECBAgQIECAAAECBAgQIECAAIH+CQhM9M+14c4AACAASURBVM/eyAQIECBAgAABAgQIECBAgAABAgQIECBAgAABAgQIECBAgAABAgQIECBAgAABAgQIECBAgEBDAgITDcHqlgABAgQIECBAgAABAgQIECBAgAABAgQIECBAgAABAgQIECBAgAABAgQIECBAgAABAgQIEOifgMBE/+yNTIAAAQIECBAgQIAAAQIECBAgQIAAAQIECBAgQIAAAQIECBAgQIAAAQIECBAgQIAAAQIECDQkIDDREKxuCRAgQIAAAQIECBAgQIAAAQIECBAgQIAAAQIECBAgQIAAAQIECBAgQIAAAQIECBAgQIAAgf4JCEz0z97IBAgQIECAAAECBAgQIECAAAECBAgQIECAAAECBAgQIECAAAECBAgQIECAAAECBAgQIECAQEMCAhMNweqWAAECBAgQIECAAAECBAgQIECAAAECBAgQIECAAAECBAgQIECAAAECBAgQIECAAAECBAgQ6J+AwET/7I1MgAABAgQIECBAgAABAgQIECBAgAABAgQIECBAgAABAgQIECBAgAABAgQIECBAgAABAgQINCQgMNEQrG4JECBAgAABAgQIECBAgAABAgQIECBAgAABAgQIECBAgAABAgQIECBAgAABAgQIECBAgACB/gkITPTP3sgECBAgQIAAAQIECBAgQIAAAQIECBAgQIAAAQIECBAgQIAAAQIECBAgQIAAAQIECBAgQIBAQwICEw3B6pYAAQIECBAgQIAAAQIECBAgQIAAAQIECBAgQIAAAQIECBAgQIAAAQIECBAgQIAAAQIECBDon4DARP/sjUyAAAECBAgQIECAAAECBAgQIECAAAECBAgQIECAAAECBAgQIECAAAECBAgQIECAAAECBAg0JCAw0RCsbgkQIECAAAECBAgQIECAAAECBAgQIECAAAECBAgQIECAAAECBAgQIECAAAECBAgQIECAAIH+CQhM9M/eyAQIECBAgAABAgQIECBAgAABAgQIECBAgAABAgQIECBAgAABAgQIECBAgAABAgQIECBAgEBDAgITDcHqlgABAgQIECBAgAABAgQIECBAgAABAgQIECBAgAABAgQIECBAgAABAgQIECBAgAABAgQIEOifgMBE/+yNTIAAAQIECBAgQIAAAQIECBAgQIAAAQIECBAgQIAAAQIECBAgQIAAAQIECBAgQIAAAQIECDQkIDDREKxuCRAgQIAAAQIECBAgQIAAAQIECBAgQIAAAQIECBAgQIAAAQIECBAgQIAAAQIECBAgQIAAgf4JCEz0z97IBAgQIECAAAECBAgQIECAAAECBAgQIECAAAECBAgQIECAAAECBAgQIECAAAECBAgQIECAQEMCAhMNweqWAAECBAgQIECAAAECBAgQIECAAAECBAgQIECAAAECBAgQIECAAAECBAgQIECAAAECBAgQ6J+AwET/7I1MgAABAgQIzF1gqyQnJtk0ySOTnJtkSZJjkzwlyROSfG/u3TuTAAECBAgQIECAAAECBAgQIECAAAECBAgQIECAAAECBAgQIECAAAECBAgQGHQBgYlBr6D5EyBAgACB0RXYMcnPqtDE05K8NsnDkhye5Mujy2LlBAgQIECAAAECBAgQIECAAAECBAgQIECAAAECBAgQIECAAAECBAgQIECAQBEQmPA+IECAAAECBAZZYI8qNHGnahEvTPKJQV6QuRMgQIAAAQIECBAgQIAAAQIECBAgQIAAAQIECBAgQIAAAQIECBAgQIAAAQL1CAhM1OOoFwIECBAgQIAAAQIECBAgQIAAAQIECBAgQIAAAQIECBAgQIAAAQIECBAgQIAAAQIECBAgQKBFAgITLSqGqRAgQIAAAQIECBAgQIAAAQIECBAgQIAAAQIECBAgQIAAAQIECBAgQIAAAQIECBAgQIAAAQL1CAhM1OOoFwIECBAgQKC3AlsneVaSRyTZN8m2STZIcl2Ss5L8IslxSc7o7bTmPdoxSY6Y1MsNSbacR89HJlkxxfkPSfLjefTrVAIECBAgQIAAAQIECBAgQIAAAQIECBAgQIAAAQIECBAgQIAAAQIECBAg0GoBgYlWl8fkCBAgQIAAgUkC5XeXf0zy2iSbd6DzvSR/m+SCDtq2oUm3gYl9kvyumvijkvzXFIsQmGhDZc2BAAECBAgQIECAAAECBAgQIECAAAECBAgQIECAAAECBAgQIECAAAECBHouIDDRc3IDEiBAgAABAnMUWFLtGvGU6vwrk3y4CglcnOS2JDskOThJafO4JOV3neVJShBhEI51gYmfJXlMNeGxJLdMM/nnJjm2em2bJNdO0W5xkqXVzx+Q5NvVn+0wMQjvCHMkQIAAAQIECBAgQIAAAQIECBAgQIAAAQIECBAgQIAAAQIECBAgQIAAgTkLCEzMmc6JBAgQIECAQI8F3pvk5dWYX01yRJKbZ5jDAUk+meT9AxiY+EmSB3fgW9b2smoHjd07aF/6/FHVTmCiAzBNCBAgQIAAAQIECBAgQIAAAQIECBAgQIAAAQIECBAgQIAAAQIECBAgQGBwBQQmBrd2Zk6AAAECBEZJ4H5JflEt+MQk5Wb/tR0AlJ0Vdkpyfgdt29Bk3Q4TnQYmikmx+VKSp3WwAIGJDpA0IUCAAAECBAgQIECAAAECBAgQIECAAAECBAgQIECAAAECBAgQIECAAIHhEBCYGI46WgUBAgQIEBh2geOTPCHJWJJ9kpw1xwWX332WJXl8kocm2SvJVkluS3JRkh8m+UCS82bp/x5Jjqp2gdg1yeIkVye5Msn/JvlOkjLnbo9OAhOLqp01ShhkpuOwJF+e1EBgotuKaE+AAAECBAgQIECAAAECBAgQIECAAAECBAgQIECAAAECBAgQIECAAAECAysgMDGwpTNxAgQIECAwMgIbJ7k+yZIkZXeJB81j5U9M8vVZzr89yRFJvjhNu7KTw2eq+UzX1Q1JtpzDPDsJTJTAyO866HvPJOdOaicw0QGcJgQIECBAgAABAgQIECBAgAABAgQIECBAgAABAgQIECBAgAABAgQIECAwHAICE8NRR6sgQIAAAQLDLFB2gvjvaoFvSvL6eSz2cUlekuTbSc5IckWSa5Jsm2TfJH9f7RpxR5IDk5w5aawtklySZLMk5yd5Q5L/SXJtko2S3K06/5AkB81hnp0EJsoOE2WsskvGcdUYZaeMSyeNd/MU4wtMzKEoTiFAgAABAgQIECBAgAABAgQIECBAgAABAgQIECBAgAABAgQIECBAgACBwRQQmBjMupk1AQIECBAYJYEXJPl4teCnJ/lCw4svO0sclmRFkudNGqsEIb5R/Wz/JL+peS6dBCbWDVnCGiU8cnWS7Tqch8BEh1CaESBAgAABAgQIECBAgAABAgQIECBAgAABAgQIECBAgAABAgQIECBAgMDgCwhMDH4NrYAAAQIECAy7wD8leVu1yEcn+V7DC35skhOS/CnJzpPGOjTJV6uflZBCCSvUeXQTmCjBjRLg+H6SR3Y4CYGJDqE0I0CAAAECBAgQIECAAAECBAgQIECAAAECBAgQIECAAAECBAgQIECAAIHBFxCYGPwaWgEBAgQIEBh2gboDEwuTPC3JU5MckGSHJJtMg7hZkpvHvbZ7kvOSlN+hvp3klUnOqbEA3QQm/phkpyRvT/KaDucgMNEhlGYECBAgQIAAAQIECBAgQIAAAQIECBAgQIAAAQIECBAgQIAAAQIECBAgMPgCAhODX0MrIECAAAECwy7wgiQfrxb59CRfmMeCt6l2j/irDvvYJUkJJow/3pPkFeN+cHaSnyY5MckPklzWYd9TNes0MFF2t7iy6uDwJF/scEyBiQ6hNCNAgAABAgQIECBAgAABAgQIECBAgAABAgQIECBAgAABAgQIECBAgACBwRcQmBj8GloBAQIECBAYdoGHVUGEss43JnnDPBb8rSSPS7KmCmF8o9oh4vokd1T9PrAKVZS/7pbkwknjld+flid5eZL9Jr22ttp54lVz3Hmi08DEo5J8txp7zyTndmgiMNEhlGYECBAgQIAAAQIECBAgQIAAAQIECBAgQIAAAQIECBAgQIAAAQIECBAgMPgCAhODX0MrIECAAAECwy6wcZISaFiS5CdJyk3/czlK+OEP1YlHJfnANJ0cmuSr1WtTBSbGn7ZTkvsluX+Sxye5W/XidUkOnCJsMdu8Ow1MvCbJvye5KckWScZm67h6XWCiQyjNCBAgQIAAAQIECBAgQIAAAQIECBAgQIAAAQIECBAgQIAAAQIECBAgQGDwBQQmBr+GVkCAAAECBEZBoOwEcUgVDLhHkrPnsOgnJ/lKdd5WVQhjqm7KDhavr16YLTAx+fwXJvm/7N1PyO6JGMbxq8ww8m9qhoWFHREpITULNSQrEVn4U8YGhZqFUlKsWLARWQyxQmaJUkpkKGUpZCFRSiKUicSMnvqp43TOeN9rmul65v2c3cx57ud3P597czbffvcd//MzSe695J4XDSbuT/LWJA8kOb0R46J/BBMXlfI5AgQIECBAgAABAgQIECBAgAABAgQIECBAgAABAgQIECBAgAABAgQIEDh7AcHE2Z/QDyBAgAABAldC4K4kPzp+6Q+S3J3koQv88tuSnN4C8askb0vy1WPmziR/usH8LUl+cc2bIi4bTJy+8jdJnpfkO0lef4Edr/3IRYOJ044vTPK5JB+8xDMEE5fA8lECBAgQIECAAAECBAgQIECAAAECBAgQIECAAAECBAgQIECAAAECBAgQOG8BwcR538/2BAgQIEDgKgl8NskHjh98elPEu5I8+AgAL03ypSMqOIUIr0ry4+Pz70nyhRvMfirJh675/9cHE6f//l2Sf97kuc9M8vskT03ytSRvv+SBLhpM/DHJHUk+meQjl3iGYOISWD5KgAABAgQIECBAgAABAgQIECBAgAABAgQIECBAgAABAgQIECBAgAABAuctIJg47/vZngABAgQIXCWBJyf5epI3HT/6D0k+f7zJ4bdJ/pHkOUlekeTNSd6Y5PRvnXcnOYUITzreHvH8I7T4eJJvHG+aeFGSe5O8JcnPkrz4eMb1wcRp5n1J7j+ee/rsn5M8K8nLknw0ycuP2Tck+dYlD3TRYOKnSV6S5NdJ3nH8rn8dz/rbIzxTMHHJg/g4AQIECBAgQIAAAQIECBAgQIAAAQIECBAgQIAAAQIECBAgQIAAAQIECJyvgGDifG9ncwIECBAgcBUFTv92Ob1R4cNJnnEBgG8eb6U4BRWnP3cdocPTbjL73SSfTvLt4+9vFEx87P889+EknzjiiQus+D8fuWgw8f7jzRnXf/8pljjFGw/d5MGCictexOcJECBAgAABAgQIECBAgAABAgQIECBAgAABAgQIECBAgAABAgQIECBA4GwFBBNnezqLEyBAgACBKy1wR5J3Jnnd8aaFO5Pcerzt4ZdJfpjkK0l+fgOlFxzRxWn22Un+cryh4fT5LyZ5dZLvHXPXBxO3J3ltktckeWWS5x7fcXq7wynKOD33viQ/Ka9z0WDi9PX3JHnv8fuffjzvgWP/mz1eMFEexhgBAgQIECBAgAABAgQIECBAgAABAgQIECBAgAABAgQIECBAgAABAgQInJ+AYOL8bmZjAgQIECBA4IkrcJlgolEQTDRqZggQIECAAAECBAgQIECAAAECBAgQIECAAAECBAgQIECAAAECBAgQIEDgLAUEE2d5NksTIECAAAECT1ABwcQT9LB+FgECBAgQIECAAAECBAgQIECAAAECBAgQIECAAAECBAgQIECAAAECBAg8/gKCicff3BMJECBAgAABAjcT+G8wce3f/zXJ7Y+C7J4kX77B/N1Jvv8ovtcoAQIECBAgQIAAAQIECBAgQIAAAQIECBAgQIAAAQIECBAgQIAAAQIECBCYFhBMTJ/HcgQIECBAgMAVExBMXLGD+7kECBAgQIAAAQIECBAgQIAAAQIECBAgQIAAAQIECBAgQIAAAQIECBAg8NgJCCYeO1vfTIAAAQIECBC4rMBTktx63dDDSR687Bdd8/lbktx2g/m/J/n3o/heowQIECBAgAABAgQIECBAgAABAgQIECBAgAABAgQIECBAgAABAgQIECBAYFpAMDF9HssRIECAAAECBAgQIECAAAECBAgQIECAAAECBAgQIECAAAECBAgQIECAAAECBAgQIECAAAECjYBgolEzQ4AAAQIECBAgQIAAAQIECBAgQIAAAQIECBAgQIAAAQIECBAgQIAAAQIECBAgQIAAAQIECEwLCCamz2M5AgQIECBAgAABAgQIECBAgAABAgQIECBAgAABAgQIECBAgAABAgQIECBAgAABAgQIECBAoBEQTDRqZggQIECAAAECBAgQIECAAAECBAgQIECAAAECBAgQIECAAAECBAgQIECAAAECBAgQIECAAIFpAcHE9HksR4AAAQIECBAgQIAAAQIECBAgQIAAAQIECBAgQIAAAQIECBAgQIAAAQIECBAgQIAAAQIECDQCgolGzQwBAgQIECBAgAABAgQIECBAgAABAgQIECBAgAABAgQIECBAgAABAgQIECBAgAABAgQIECAwLSCYmD6P5QgQIECAAAECBAgQIECAAAECBAgQIECAAAECBAgQIECAAAECBAgQIECAAAECBAgQIECAAIFGQDDRqJkhQIAAAQIECBAgQIAAAQIECBAgQIAAAQIECBAgQIAAAQIECBAgQIAAAQIECBAgQIAAAQIEpgUEE9PnsRwBAgQIECBAgAABAgQIECBAgAABAgQIECBAgAABAgQIECBAgAABAgQIECBAgAABAgQIECDQCAgmGjUzBAgQIECAAAECBAgQIECAAAECBAgQIECAAAECBAgQIECAAAECBAgQIECAAAECBAgQIECAwLSAYGL6PJYjQIAAAQIECBAgQIAAAQIECBAgQIAAAQIECBAgQIAAAQIECBAgQIAAAQIECBAgQIAAAQIEGgHBRKNmhgABAgQIECBAgAABAgQIECBAgAABAgQIECBAgAABAgQIECBAgAABAgQIECBAgAABAgQIEJgWEExMn8dyBAgQIECAAAECBAgQIECAAAECBAgQIECAAAECBAgQIECAAAECBAgQIECAAAECBAgQIECAQCMgmGjUzBAgQIAAAQIECBAgQIAAAQIECBAgQIAAAQIECBAgQIAAAQIECBAgQIAAAQIECBAgQIAAAQLTAoKJ6fNYjgABAgQIECBAgAABAgQIECBAgAABAgQIECBAgAABAgQIECBAgAABAgQIECBAgAABAgQIEGgEBBONmhkCBAgQIECAAAECBAgQIECAAAECBAgQIECAAAECBAgQIECAAAECBAgQIECAAAECBAgQIEBgWkAwMX0eyxEgQIAAAQIECBAgQIAAAQIECBAgQIAAAQIECBAgQIAAAQIECBAgQIAAAQIECBAgQIAAAQKNgGCiUTNDgAABAgQIECBAgAABAgQIECBAgAABAgQIECBAgAABAgQIECBAgAABAgQIECBAgAABAgQITAsIJqbPYzkCBAgQIECAAAECBAgQIECAAAECBAgQIECAAAECBAgQIECAAAECBAgQIECAAAECBAgQIECgERBMNGpmCBAgQIAAAQIECBAgQIAAAQIECBAgQIAAAQIECBAgQIAAAQIECBAgQIAAAQIECBAgQIAAgWkBwcT0eSxHgAABAgQIECBAgAABAgQIECBAgAABAgQIECBAgAABAgQIECBAgAABAgQIECBAgAABAgQINAKCiUbNDAECBAgQIECAAAECBAgQIECAAAECBAgQIECAAAECBAgQIECAAAECBAgQIECAAAECBAgQIDAtIJiYPo/lCBAgQIAAAQIECBAgQIAAAQIECBAgQIAAAQIECBAgQIAAAQIECBAgQIAAAQIECBAgQIAAgUZAMNGomSFAgAABAgQIECBAgAABAgQIECBAgAABAgQIECBAgAABAgQIECBAgAABAgQIECBAgAABAgSmBQQT0+exHAECBAgQIECAAAECBAgQIECAAAECBAgQIECAAAECBAgQIECAAAECBAgQIECAAAECBAgQINAICCYaNTMECBAgQIAAAQIECBAgQIAAAQIECBAgQIAAAQIECBAgQIAAAQIECBAgQIAAAQIECBAgQIDAtIBgYvo8liNAgAABAgQIECBAgAABAgQIECBAgAABAgQIECBAgAABAgQIECBAgAABAgQIECBAgAABAgQaAcFEo2aGAAECBAgQIECAAAECBAgQIECAAAECBAgQIECAAAECBAgQIECAAAECBAgQIECAAAECBAgQmBYQTEyfx3IECBAgQIAAAQIECBAgQIAAAQIECBAgQIAAAQIECBAgQIAAAQIECBAgQIAAAQIECBAgQIBAIyCYaNTMECBAgAABAgQIECBAgAABAgQIECBAgAABAgQIECBAgAABAgQIECBAgAABAgQIECBAgAABAtMCgonp81iOAAECBAgQIECAAAECBAgQIECAAAECBAgQIECAAAECBAgQIECAAAECBAgQIECAAAECBAgQaAQEE42aGQIECBAgQIAAAQIECBAgQIAAAQIECBAgQIAAAQIECBAgQIAAAQIECBAgQIAAAQIECBAgQGBaQDAxfR7LESBAgAABAgQIECBAgAABAgQIECBAgAABAgQIECBAgAABAgQIECBAgAABAgQIECBAgAABAo2AYKJRM0OAAAECBAgQIECAAAECBAgQIECAAAECBAgQIECAAAECBAgQIECAAAECBAgQIECAAAECBAhMCwgmps9jOQIECBAgQIAAAQIECBAgQIAAAQIECBAgQIAAAQIECBAgQIAAAQIECBAgQIAAAQIECBAgQKAREEw0amYIECBAgAABAgQIECBAgAABAgQIECBAgAABAgQIECBAgAABAgQIECBAgAABAgQIECBAgACBaQHBxPR5LEeAAAECBAgQIECAAAECBAgQIECAAAECBAgQIECAAAECBAgQIECAAAECBAgQIECAAAECBAg0AoKJRs0MAQIECBAgQIAAAQIECBAgQIAAAQIECBAgQIAAAQIECBAgQIAAAQIECBAgQIAAAQIECBAgMC0gmJg+j+UIECBAgAABAgQIECBAgAABAgQIECBAgAABAgQIECBAgAABAgQIECBAgAABAgQIECBAgACBRkAw0aiZIUCAAAECBAgQIECAAAECBAgQIECAAAECBAgQIECAAAECBAgQIECAAAECBAgQIECAAAECBKYFBBPT57EcAQIECBAgQIAAAQIECBAgQIAAAQIECBAgQIAAAQIECBAgQIAAAQIECBAgQIAAAQIECBAg0AgIJho1MwQIECBAgAABAgQIECBAgAABAgQIECBAgAABAgQIECBAgAABAgQIECBAgAABAgQIECBAgMC0gGBi+jyWI0CAAAECBAgQIECAAAECBAgQIECAAAECBAgQIECAAAECBAgQIECAAAECBAgQIECAAAECBBoBwUSjZoYAAQIECBAgQIAAAQIECBAgQIAAAQIECBAgQIAAAQIECBAgQIAAAQIECBAgQIAAAQIECBCYFhBMTJ/HcgQIECBAgAABAgQIECBAgAABAgQIECBAgAABAgQIECBAgAABAgQIECBAgAABAgQIECBAgEAjIJho1MwQIECAAAECBAgQIECAAAECBAgQIECAAAECBAgQIECAAAECBAgQIECAAAECBAgQIECAAAEC0wKCienzWI4AAQIECBAgQIAAAQIECBAgQIAAAQIECBAgQIAAAQIECBAgQIAAAQIECBAgQIAAAQIECBBoBAQTjZoZAgQIECBAgAABAgQIECBAgAABAgQIECBAgAABAgQIECBAgAABAgQIECBAgAABAgQIECBAYFpAMDF9HssRIECAAAECBAgQIECAAAECBAgQIECAAAECBAgQIECAAAECBAgQIECAAAECBAgQIECAAAECjYBgolEzQ4AAAQIECBAgQIAAAQIECBAgQIAAAQIECBAgQIAAAQIECBAgQIAAAQIECBAgQIAAAQIECEwLCCamz2M5AgQIECBAgAABAgQIECBAgAABAgQIECBAgAABAgQIECBAgAABAgQIECBAgAABAgQIECBAoBEQTDRqZggQIECAAAECBAgQIECAAAECBAgQIECAAAECBAgQIECAAAECBAgQIECAAAECBAgQIECAAIFpAcHE9HksR4AAAQIECBAgQIAAAQIECBAgQIAAAQIECBAgQIAAAQIECBAgQIAAAQIECBAgQIAAAQIECDQCgolGzQwBAgQIECBAgAABAgQIECBAgAABAgQIECBAgAABAgQIECBAgAABAgQIECBAgAABAgQIECAwLSCYmD6P5QgQIECAAAECBAgQIECAAAECBAgQIECAAAECBAgQIECAAAECBAgQIECAAAECBAgQIECAAIFGQDDRqJkhQIAAAQIECBAgQIAAAQIECBAgQIAAAQIECBAgQIAAAQIECBAgQIAAAQIECBAgQIAAAQIEpgUEE9PnsRwBAgQIECBAgAABAgQIECBAgAABAgQIECBAgAABAgQIECBAgAABAgQIECBAgAABAgQIECDQCAgmGjUzBAgQIECAAAECBAgQIECAAAECBAgQIECAAAECBAgQIECAAAECBAgQIECAAAECBAgQIECAwLSAYGL6PJYjQIAAAQIECBAgQIAAAQIECBAgQIAAAQIECBAgQIAAAQIECBAgQIAAAQIECBAgQIAAAQIEGgHBRKNmhgABAgQIECBAgAABAgQIECBAgAABAgQIECBAgAABAgQIECBAgAABAgQIECBAgAABAgQIEJgWEExMn8dyBAgQIECAAAECBAgQIECAAAECBAgQIECAAAECBAgQIECAAAECBAgQIECAAAECBAgQIECAQCMgmGjUzBAgQIAAAQIECBAgQIAAAQIECBAgQIAAHzq7LQAAIABJREFUAQIECBAgQIAAAQIECBAgQIAAAQIECBAgQIAAAQLTAoKJ6fNYjgABAgQIECBAgAABAgQIECBAgAABAgQIECBAgAABAgQIECBAgAABAgQIECBAgAABAgQIEGgEBBONmhkCBAgQIECAAAECBAgQIECAAAECBAgQIECAAAECBAgQIECAAAECBAgQIECAAAECBAgQIEBgWkAwMX0eyxEgQIAAAQIECBAgQIAAAQIECBAgQIAAAQIECBAgQIAAAQIECBAgQIAAAQIECBAgQIAAAQKNgGCiUTNDgAABAgQIECBAgAABAgQIECBAgAABAgQIECBAgAABAgQIECBAgAABAgQIECBAgAABAgQITAsIJqbPYzkCBAgQIECAAAECBAgQIECAAAECBAgQIECAAAECBAgQIECAAAECBAgQIECAAAECBAgQIECgERBMNGpmCBAgQIAAAQIECBAgQIAAAQIECBAgQIAAAQIECBAgQIAAAQIECBAgQIAAAQIECBAgQIAAgWkBwcT0eSxHgAABAgQIECBAgAABAgQIECBAgAABAgQIECBAgAABAgQIECBAgAABAgQIECBAgAABAgQINAKCiUbNDAECBAgQIECAAAECBAgQIECAAAECBAgQIECAAAECBAgQIECAAAECBAgQIECAAAECBAgQIDAtIJiYPo/lCBAgQIAAAQIECBAgQIAAAQIECBAgQIAAAQIECBAgQIAAAQIECBAgQIAAAQIECBAgQIAAgUZAMNGomSFAgAABAgQIECBAgAABAgQIECBAgAABAgQIECBAgAABAgQIECBAgAABAgQIECBAgAABAgSmBQQT0+exHAECBAgQIECAAAECBAgQIECAAAECBAgQIECAAAECBAgQIECAAAECBAgQIECAAAECBAgQINAICCYaNTMECBAgQIAAAQIECBAgQIAAAQIECBAgQIAAAQIECBAgQIAAAQIECBAgQIAAAQIECBAgQIDAtIBgYvo8liNAgAABAgQIECBAgAABAgQIECBAgAABAgQIECBAgAABAgQIECBAgAABAgQIECBAgAABAgQaAcFEo2aGAAECBAgQIECAAAECBAgQIECAAAECBAgQIECAAAECBAgQIECAAAECBAgQIECAAAECBAgQmBYQTEyfx3IECBAgQIAAAQIECBAgQIAAAQIECBAgQIAAAQIECBAgQIAAAQIECBAgQIAAAQIECBAgQIBAIyCYaNTMECBAgAABAgQIECBAgAABAgQIECBAgAABAgQIECBAgAABAgQIECBAgAABAgQIECBAgAABAtMCgonp81iOAAECBAgQIECAAAECBAgQIECAAAECBAgQIECAAAECBAgQIECAAAECBAgQIECAAAECBAgQaAQEE42aGQIECBAgQIAAAQIECBAgQIAAAQIECBAgQIAAAQIECBAgQIAAAQIECBAgQIAAAQIECBAgQGBaQDAxfR7LESBAgAABAgQIECBAgAABAgQIECBAgAABAgQIECBAgAABAgQIECBAgAABAgQIECBAgAABAo2AYKJRM0OAAAECBAgQIECAAAECBAgQIECAAAECBAgQIECAAAECBAgQIECAAAECBAgQIECAAAECBAhMCwgmps9jOQIECBAgQIAAAQIECBAgQIAAAQIECBAgQIAAAQIECBAgQIAAAQIECBAgQIAAAQIECBAgQKAREEw0amYIECBAgAABAgQIECBAgAABAgQIECBAgAABAgQIECBAgAABAgQIECBAgAABAgQIECBAgACBaQHBxPR5LEeAAAECBAgQIECAAAECBAgQIECAAAECBAgQIECAAAECBAgQIECAAAECBAgQIECAAAECBAg0AoKJRs0MAQIECBAgQIAAAQIECBAgQIAAAQIECBAgQIAAAQIECBAgQIAAAQIECBAgQIAAAQIECBAgMC0gmJg+j+UIECBAgAABAgQIECBAgAABAgQIECBAgAABAgQIECBAgAABAgQIECBAgAABAgQIECBAgACBRkAw0aiZIUCAAAECBAgQIECAAAECBAgQIECAAAECBAgQIECAAAECBAgQIECAAAECBAgQIECAAAECBKYFBBPT57EcAQIECBAgQIAAAQIECBAgQIAAAQIECBAgQIAAAQIECBAgQIAAAQIECBAgQIAAAQIECBAg0AgIJho1MwQIECBAgAABAgQIECBAgAABAgQIECBAgAABAgQIECBAgAABAgQIECBAgAABAgQIECBAgMC0gGBi+jyWI0CAAAECBAgQIECAAAECBAgQIECAAAECBAgQIECAAAECBAgQIECAAAECBAgQIECAAAECBBoBwUSjZoYAAQIECBAgQIAAAQIECBAgQIAAAQIECBAgQIAAAQIECBAgQIAAAQIECBAgQIAAAQIECBCYFhBMTJ/HcgQIECBAgAABAgQIECBAgAABAgQIECBAgAABAgQIECBAgAABAgQIECBAgAABAgQIECBAgEAjIJho1MwQIECAAAECBAgQIECAAAECBAgQIECAAAECBAgQIECAAAECBAgQIECAAAECBAgQIECAAAEC0wKCienzWI4AAQIECBAgQIAAAQIECBAgQIAAAQIECBAgQIAAAQIECBAgQIAAAQIECBAgQIAAAQIECBBoBAQTjZoZAgQIECBAgAABAgQIECBAgAABAgQIECBAgAABAgQIECBAgAABAgQIECBAgAABAgQIECBAYFpAMDF9HssRIECAAAECBAgQIECAAAECBAgQIECAAAECBAgQIECAAAECBAgQIECAAAECBAgQIECAAAECjYBgolEzQ4AAAQIECBAgQIAAAQIECBAgQIAAAQIECBAgQIAAAQIECBAgQIAAAQIECBAgQIAAAQIECEwLCCamz2M5AgQIECBAgAABAgQIECBAgAABAgQIECBAgAABAgQIECBAgAABAgQIECBAgAABAgQIECBAoBEQTDRqZggQIECAAAECBAgQIECAAAECBAgQIECAAAECBAgQIECAAAECBAgQIECAAAECBAgQIECAAIFpAcHE9HksR4AAAQIECBAgQIAAAQIECBAgQIAAAQIECBAgQIAAAQIECBAgQIAAAQIECBAgQIAAAQIECDQCgolGzQwBAgQIECBAgAABAgQIECBAgAABAgQIECBAgAABAgQIECBAgAABAgQIECBAgAABAgQIECAwLSCYmD6P5QgQIECAAAECBAgQIECAAAECBAgQIECAAAECBAgQIECAAAECBAgQIECAAAECBAgQIECAAIFGQDDRqJkhQIAAAQIECBAgQIAAAQIECBAgQIAAAQIECBAgQIAAAQIECBAgQIAAAQIECBAgQIAAAQIEpgUEE9PnsRwBAgQIECBAgAABAgQIECBAgAABAgQIECBAgAABAgQIECBAgAABAgQIECBAgAABAgQIECDQCAgmGjUzBAgQIECAAAECBAgQIECAAAECBAgQIECAAAECBAgQIECAAAECBAgQIECAAAECBAgQIECAwLSAYGL6PJYjQIAAAQIECBAgQIAAAQIECBAgQIAAAQIECBAgQIAAAQIECBAgQIAAAQIECBAgQIAAAQIEGgHBRKNmhgABAgQIECBAgAABAgQIECBAgAABAgQIECBAgAABAgQIECBAgAABAgQIECBAgAABAgQIEJgWEExMn8dyBAgQIECAAAECBAgQIECAAAECBAgQIECAAAECBAgQIECAAAECBAgQIECAAAECBAgQIECAQCMgmGjUzBAgQIAAAQIECBAgQIAAAQIECBAgQIAAAQIECBAgQIAAAQIECBAgQIAAAQIECBAgQIAAAQLTAoKJ6fNYjgABAgQIECBAgAABAgQIECBAgAABAgQIECBAgAABAgQIECBAgAABAgQIECBAgAABAgQIEGgEBBONmhkCBAgQIECAAAECBAgQIECAAAECBAgQIECAAAECBAgQIECAAAECBAgQIECAAAECBAgQIEBgWkAwMX0eyxEgQIAAAQIECBAgQIAAAQIECBAgQIAAAQIECBAgQIAAAQIECBAgQIAAAQIECBAgQIAAAQKNgGCiUTNDgAABAgQIECBAgAABAgQIECBAgAABAgQIECBAgAABAgQIECBAgAABAgQIECBAgAABAgQITAsIJqbPYzkCBAgQIECAAAECBAgQIECAAAECBAgQIECAAAECBAgQIECAAAECBAgQIECAAAECBAgQIECgERBMNGpmCBAgQIAAAQIECBAgQIAAAQIECBAgQIAAAQIECBAgQIAAAQIECBAgQIAAAQIECBAgQIAAgWkBwcT0eSxHgAABAgQIECBAgAABAgQIECBAgAABAgQIECBAgAABAgQIECBAgAABAgQIECBAgAABAgQINAKCiUbNDAECBAgQIECAAAECBAgQIECAAAECBAgQIECAAAECBAgQIECAAAECBAgQIECAAAECBAgQIDAtIJiYPo/lCBAgQIAAAQIECBAgQIAAAQIECBAgQIAAAQIECBAgQIAAAQIECBAgQIAAAQIECBAgQIAAgUZAMNGomSFAgAABAgQIECBAgAABAgQIECBAgAABAgQIECBAgAABAgQIECBAgAABAgQIECBAgAABAgSmBQQT0+exHAECBAgQIECAAAECBAgQIECAAAECBAgQIECAAAECBAgQIECAAAECBAgQIECAAAECBAgQINAICCYaNTMECBAgQIAAAQIECBAgQIAAAQIECBAgQIAAAQIECBAgQIAAAQIECBAgQIAAAQIECBAgQIDAtIBgYvo8liNAgAABAgQIECBAgAABAgQIECBAgAABAgQIECBAgAABAgQIECBAgAABAgQIECBAgAABAgQaAcFEo2aGAAECBAgQIECAAAECBAgQIECAAAECBAgQIECAAAECBAgQIECAAAECBAgQIECAAAECBAgQmBYQTEyfx3IECBAgQIAAAQIECBAgQIAAAQIECBAgQIAAAQIECBAgQIAAAQIECBAgQIAAAQIECBAgQIBAIyCYaNTMECBAgAABAgQIECBAgAABAgQIECBAgAABAgQIECBAgAABAgQIECBAgAABAgQIECBAgAABAtMCgonp81iOAAECBAgQIECAAAECBAgQIECAAAECBAgQIECAAAECBAgQIECAAAECBAgQIECAAAECBAgQaAQEE42aGQIECBAgQIAAAQIECBAgQIAAAQIECBAgQIAAAQIECBAgQIAAAQIECBAgQIAAAQIECBAgQGBaQDAxfR7LESBAgAABAgQIECBAgAABAgQIECBAgAABAgQIECBAgAABAgQIECBAgAABAgQIECBAgAABAo2AYKJRM0OAAAECBAgQIECAAAECBAgQIECAAAECBAgQIECAAAECBAgQIECAAAECBAgQIECAAAECBAhMCwgmps9jOQIECBAgQIAAAQIECBAgQIAAAQIECBAgQIAAAQIECBAgQIAAAQIECBAgQIAAAQIECBAgQKAREEw0amYIECBAgAABAgQIECBAgAABAgQIECBAgAABAgQIECBAgAABAgQIECBAgAABAgQIECBAgACBaQHBxPR5LEeAAAECBAgQIECAAAECBAgQIECAAAECBAgQIECAAAECBAgQIECAAAECBAgQIECAAAECBAg0AoKJRs0MAQIECBAgQIAAAQIECBAgQIAAAQIECBAgQIAAAQIECBAgQIAAAQIECBAgQIAAAQIECBAgMC0gmJg+j+UIECBAgAABAgQIECBAgAABAgQIECBAgAABAgQIECBAgAABAgQIECBAgAABAgQIECBAgACBRkAw0aiZIUCAAAECBAgQIECAAAECBAgQIECAAAECBAgQIECAAAECBAgQIECAAAECBAgQIECAAAECBKYFBBPT57EcAQIECBAgQIAAAQIECBAgQIAAAQIECBAgQIAAAQIECBAgQIAAAQIECBAgQIAAAQIECBAg0AgIJho1MwQIECBAgAABAgQIECBAgAABAgQIECBAgAABAgQIECBAgAABAgQIECBAgAABAgQIECBAgMC0gGBi+jyWI0CAAAECBAgQIECAAAECBAgQIECAAAECBAgQIECAAAECBAgQIECAAAECBAgQIECAAAECBBoBwUSjZoYAAQIECBAgQIAAAQIECBAgQIAAAQIECBAgQIAAAQIECBAgQIAAAQIECBAgQIAAAQIECBCYFhBMTJ/HcgQIECBAgAABAgQIECBAgAABAgQIECBAgAABAgQIECBAgAABAgQIECBAgAABAgQIECBAgEAjIJho1MwQIECAAAECBAgQIECAAAECBAgQIECAAAECBAgQIECAAAECBAgQIECAAAECBAgQIECAAAEC0wKCienzWI4AAQIECBAgQIAAAQIECBAgQIAAAQIECBAgQIAAAQIECBAgQIAAAQIECBAgQIAAAQIECBBoBAQTjZoZAgQIECBAgAABAgQIECBAgAABAgQIECBAgAABAgQIECBAgAABAgQIECBAgAABAgQIECBAYFpAMDF9HssRIECAAAECBAgQIECAAAECBAgQIECAAAECBAgQIECAAAECBAgQIECAAAECBAgQIECAAAECjYBgolEzQ4AAAQIECBAgQIAAAQIECBAgQIAAAQIECBAgQIAAAQIECBAgQIAAAQIECBAgQIAAAQIECEwLCCamz2M5AgQIECBAgAABAgQIECBAgAABAgQIECBAgAABAgQIECBAgAABAgQIECBAgAABAgQIECBAoBEQTDRqZggQIECAAAECBAgQIECAAAECBAgQIECAAAECBAgQIECAAAECBAgQIECAAAECBAgQIECAAIFpAcHE9HksR4AAAQIECBAgQIAAAQIECBAgQIAAAQIECBAgQIAAAQIECBAgQIAAAQIECBAgQIAAAQIECDQCgolGzQwBAgQIECBAgAABAgQIECBAgAABAgQIECBAgAABAgQIECBAgAABAgQIECBAgAABAgQIECAwLSCYmD6P5QgQIECAAAECBAgQIECAAAECBAgQIECAAAECBAgQIECAAAECBAgQIECAAAECBAgQIECAAIFGQDDRqJkhQIAAAQIECBAgQIAAAQIECBAgQIAAAQIECBAgQIAAAQIECBAgQIAAAQIECBAgQIAAAQIEpgUEE9PnsRwBAgQIECBAgAABAgQIECBAgAABAgQIECBAgAABAgQIECBAgAABAgQIECBAgAABAgQIECDQCAgmGjUzBAgQIECAAAECBAgQIECAAAECBAgQIECAAAECBAgQIECAAAECBAgQIECAAAECBAgQIECAwLSAYGL6PJYjQIAAAQIECBAgQIAAAQIECBAgQIAAAQIECBAgQIAAAQIECBAgQIAAAQIECBAgQIAAAQIEGgHBRKNmhgABAgQIECBAgAABAgQIECBAgAABAgQIECBAgAABAgQIECBAgAABAgQIECBAgAABAgQIEJgWEExMn8dyBAgQIECAAAECBAgQIECAAAECBAgQIECAAAECBAgQIECAAAECBAgQIECAAAECBAgQIECAQCMgmGjUzBAgQIAAAQIECBAgQIAAAQIECBAgQIAAAQIECBAgQIAAAQIECBAgQIAAAQIECBAgQIAAAQLTAoKJ6fNYjgABAgQIECBAgAABAgQIECBAgAABAgQIECBAgAABAgQIECBAgAABAgQIECBAgAABAgQIEGgEBBONmhkCBAgQIECAAAECBAgQIECAAAECBAgQIECAAAECBAgQIECAAAECBAgQIECAAAECBAgQIEBgWkAwMX0eyxEgQIAAAQIECBAgQIAAAQIECBAgQIAAAQIECBAgQIAAAQIECBAgQIAAAQIECBAgQIAAAQKNgGCiUTNDgAABAgQIECBAgAABAgQIECBAgAABAgQIECBAgAABAgQIECBAgAABAgQIECBAgAABAgQITAsIJqbPYzkCBAgQIECAAAECBAgQIECAAAECBAgQIECAAAECBAgQIECAAAECBAgQIECAAAECBAgQIECgERBMNGpmCBAgQIAAAQIECBAgQIAAAQIECBAgQIAAAQIECBAgQIAAAQIECBAgQIAAAQIECBAgQIAAgWkBwcT0eSxHgAABAgQIECBAgAABAgQIECBAgAABAgQIECBAgAABAgQIECBAgAABAgQIECBAgAABAgQINAKCiUbNDAECBAgQIECAAAECBAgQIECAAAECBAgQIECAAAECBAgQIECAAAECBAgQIECAAAECBAgQIDAtIJiYPo/lCBAgQIAAAQIECBAgQIAAAQIECBAgQIAAAQIECBAgQIAAAQIECBAgQIAAAQIECBAgQIAAgUZAMNGomSFAgAABAgQIECBAgAABAgQIECBAgAABAgQIECBAgAABAgQIECBAgAABAgQIECBAgAABAgSmBQQT0+exHAECBAgQIECAAAECBAgQIECAAAECBAgQIECAAAECBAgQIECAAAECBAgQIECAAAECBAgQINAICCYaNTMECBAgQIAAAQIECBAgQIAAAQIECBAgQIAAAQIECBAgQIAAAQIECBAgQIAAAQIECBAgQIDAtIBgYvo8liNAgAABAgQIECBAgAABAgQIECBAgAABAgQIECBAgAABAgQIECBAgAABAgQIECBAgAABAgQaAcFEo2aGAAECBAgQIECAAAECBAgQIECAAAECBAgQIECAAAECBAgQIECAAAECBAgQIECAAAECBAgQmBYQTEyfx3IECBAgQIAAAQIECBAgQIAAAQIECBAgQIAAAQIECBAgQIAAAQIECBAgQIAAAQIECBAgQIBAIyCYaNTMECBAgAABAgQIECBAgAABAgQIECBAgAABAgQIECBAgAABAgQIECBAgAABAgQIECBAgAABAtMCgonp81iOAAECBAgQIECAAAECBAgQIECAAAECBAgQIECAAAECBAgQIECAAAECBAgQIECAAAECBAgQaAQEE42aGQIECBAgQIAAAQIECBAgQIAAAQIECBAgQIAAAQIECBAgQIAAAQIECBAgQIAAAQIECBAgQGBaQDAxfR7LESBAgAABAgQIECBAgAABAgQIECBAgAABAgQIECBAgAABAgQIECBAgAABAgQIECBAgAABAo2AYKJRM0OAAAECBAgQIECAAAECBAgQIECAAAECBAgQIECAAAECBAgQIECAAAECBAgQIECAAAECBAhMCwgmps9jOQIECBAgQIAAAQIECBAgQIAAAQIECBAgQIAAAQIECBAgQIAAAQIECBAgQIAAAQIECBAgQKAREEw0amYIECBAgAABAgQIECBAgAABAgQIECBAgAABAgQIECBAgAABAgQIECBAgAABAgQIECBAgACBaQHBxPR5LEeAAAECBAgQIECAAAECBAgQIECAAAECBAgQIECAAAECBAgQIECAAAECBAgQIECAAAECBAg0AoKJRs0MAQIECBAgQIAAAQIECBAgQIAAAQIECBAgQIAAAQIECBAgQIAAAQIECBAgQIAAAQIECBAgMC0gmJg+j+UIECBAgAABAgQIECBAgAABAgQIECBAgAABAgQIECBAgAABAgQIECBAgAABAgQIECBAgACBRkAw0aiZIUCAAAECBAgQIECAAAECBAgQIECAAAECBAgQIECAAAECBAgQIECAAAECBAgQIECAAAECBKYFBBPT57EcAQIECBAgQIAAAQIECBAgQIAAAQIECBAgQIAAAQIECBAgQIAAAQIECBAgQIAAAQIECBAg0AgIJho1MwQIECBAgAABAgQIECBAgAABAgQIECBAgAABAgQIECBAgAABAgQIECBAgAABAgQIECBAgMC0gGBi+jyWI0CAAAECBAgQIECAAAECBAgQIECAAAECBAgQIECAAAECBAgQIECAAAECBAgQIECAAAECBBoBwUSjZoYAAQIECBAgQIAAAQIECBAgQIAAAQIECBAgQIAAAQIECBAgQIAAAQIECBAgQIAAAQIECBCYFhBMTJ/HcgQIECBAgAABAgQIECBAgAABAgQIECBAgAABAgQIECBAgAABAgQIECBAgAABAgQIECBAgEAjIJho1MwQIECAAAECBAgQIECAAAECBAgQIECAAAECBAgQIECAAAECBAgQIECAAAECBAgQIECAAAEC0wKCienzWI4AAQIECBAgQIAAAQIECBAgQIAAAQIECBAgQIAAAQIECBAgQIAAAQIECBAgQIAAAQIECBBoBAQTjZoZAgQIECBAgAABAgQIECBAgAABAgQIECBAgAABAgQIECBAgAABAgQIECBAgAABAgQIECBAYFpAMDF9HssRIECAAAECBAgQIECAAAECBAgQIECAAAECBAgQIECAAAECBAgQIECAAAECBAgQIECAAAECjYBgolEzQ4AAAQIECBAgQIAAAQIECBAgQIAAAQIECBAgQIAAAQIECBAgQIAAAQIECBAgQIAAAQIECEwLCCamz2M5AgQIECBAgAABAgQIECBAgAABAgQIECBAgAABAgQIECBAgAABAgQIECBAgAABAgQIECBAoBEQTDRqZggQIECAAAECBAgQIECAAAECBAgQIECAAAECBAgQIECAAAECBAgQIECAAAECBAgQIECAAIFpAcHE9HksR4AAAQIECBAgQIAAAQIECBAgQIAAAQIECBAgQIAAAQIECBAgQIAAAQIECBAgQIAAAQIECDQCgolGzQwBAgQIECBAgAABAgQIECBAgAABAgQIECBAgAABAgQIECBAgAABAgQIECBAgAABAgQIECAwLSCYmD6P5QgQIECAAAECBAgQIECAAAECBAgQIECAAAECBAgQIECAAAECBAgQIECAAAECBAgQIECAAIFGQDDRqJkhQIAAAQIECBAgQIAAAQIECBAgQIAAAQIECBAgQIAAAQIECBAgQIAAAQIECBAgQIAAAQIEpgUEE9PnsRwBAgQIECBAgAABAgQIECBAgAABAgQIECBAgAABAgQIECBAgAABAgRSHyLiAAAgAElEQVQIECBAgAABAgQIECDQCAgmGjUzBAgQIECAAAECBAgQIECAAAECBAgQIECAAAECBAgQIECAAAECBAgQIECAAAECBAgQIECAwLSAYGL6PJYjQIAAAQIECBAgQIAAAQIECBAgQIAAAQIECBAgQIAAAQIECBAgQIAAAQIECBAgQIAAAQIEGgHBRKNmhgABAgQIECBAgAABAgQIECBAgAABAgQIECBAgAABAgQIECBAgAABAgQIECBAgAABAgQIEJgWEExMn8dyBAgQIECAAAECBAgQIECAAAECBAgQIECAAAECBAgQIECAAAECBAgQIECAAAECBAgQIECAQCMgmGjUzBAgQIAAAQIECBAgQIAAAQIECBAgQIAAAQIECBAgQIAAAQIECBAgQIAAAQIECBAgQIAAAQLTAoKJ6fNYjgABAgQIECBAgAABAgQIECBAgAABAgQIECBAgAABAgQIECBAgAABAgQIECBAgAABAgQIEGgEBBONmhkCBAgQIECAAAECBAgQIECAAAECBAgQIECAAAECBAgQIECAAAECBAgQIECAAAECBAgQIEBgWkAwMX0eyxEgQIAAAQIECBAgQIAAAQIECBAgQIAAAQIECBAgQIAAAQIECBAgQIAAAQIECBAgQIAAAQKNgGCiUTNDgAABAgQIECBAgAABAgQIECBAgAABAgQIECBAgAABAgQIECBAgAABAgQIECBAgAABAgQITAsIJqbPYzkCBAgQIECAAAECBAgQIECAAAECBAgQIECAAAECBAgQIECAAAECBAgQIECAAAECBAgQIECgERBMNGpmCBAgQIAAAQIECBAgQIAAAQIECBAgQIAAAQIECBAgQIAAAQIECBAgQIAAAQIECBAgQIAAgWkBwcT0eSxHgAABAgQIECBAgAABAgQIECBAgAABAgQIECBAgAABAgQIECBAgAABAgQIECBAgAABAgQINAKCiUbNDAECBAgQIECAAAECBAgQIECAAAECBAgQIECAAAECBAgQIECAAAECBAgQIECAAAECBAgQIDAtIJiYPo/lCBAgQIAAAQIECBAgQIAAAQIECBAgQIAAAQIECBAgQIAAAQIECBAgQIAAAQIECBAgQIAAgUZAMNGomSFAgAABAgQIECBAgAABAgQIECBAgAABAgQIECBAgAABAgQIECBAgAABAgQIECBAgAABAgSmBQQT0+exHAECBAgQIECAAAECBAgQIECAAAECBAgQIECAAAECBAgQIECAAAECBAgQIECAAAECBAgQINAICCYaNTMECBAgQIAAAQIECBAgQIAAAQIECBAgQIAAAQIECBAgQIAAAQIECBAgQIAAAQIECBAgQIDAtIBgYvo8liNAgAABAgQIECBAgAABAgQIECBAgAABAgQIECBAgAABAgQIECBAgAABAgQIECBAgAABAgQaAcFEo2aGAAECBAgQIECAAAECBAgQIECAAAECBAgQIECAAAECBAgQIECAAAECBAgQIECAAAECBAgQmBYQTEyfx3IECBAgQIAAAQIECBAgQIAAAQIECBAgQIAAAQIECBAgQIAAAQIECBAgQIAAAQIECBAgQIBAIyCYaNTMECBAgAABAgQIECBAgAABAgQIECBAgAABAgQIECBAgAABAgQIECBAgAABAgQIECBAgAABAtMCgonp81iOAAECBAgQIECAAAECBAgQIECAAAECBAgQIECAAAECBAgQIECAAAECBAgQIECAAAECBAgQaAQEE42aGQIECBAgQIAAAQIECBAgQIAAAQIECBAgQIAAAQIECBAgQIAAAQIECBAgQIAAAQIECBAgQGBaQDAxfR7LESBAgAABAgQIECBAgAABAgQIECBAgAABAgQIECBAgAABAgQIECBAgAABAgQIECBAgAABAo2AYKJRM0OAAAECBAgQIECAAAECBAgQIECAAAECBAgQIECAAAECBAgQIECAAAECBAgQIECAAAECBAhMCwgmps9jOQIECBAgQIAAAQIECBAgQIAAAQIECBAgQIAAAQIECBAgQIAAAQIECBAgQIAAAQIECBAgQKAREEw0amYIECBAgAABAgQIECBAgAABAgQIECBAgAABAgQIECBAgAABAgQIECBAgAABAgQIECBAgACBaQHBxPR5LEeAAAECBAgQIECAAAECBAgQIECAAAECBAgQIECAAAECBAgQIECAAAECBAgQIECAAAECBAg0AoKJRs0MAQIECBAgQIAAAQIECBAgQIAAAQIECBAgQIAAAQIECBAgQIAAAQIECBAgQIAAAQIECBAgMC0gmJg+j+UIECBAgAABAgQIECBAgAABAgQIECBAgAABAgQIECBAgAABAgQIECBAgAABAgQIECBAgACBRkAw0aiZIUCAAAECBAgQIECAAAECBAgQIECAAAECBAgQIECAAAECBAgQIECAAAECBAgQIECAAAECBKYFBBPT57EcAQIECBAgQIAAAQIECBAgQIAAAQIECBAgQIAAAQIECBAgQIAAAQIECBAgQIAAAQIECBAg0AgIJho1MwQIECBAgAABAgQIECBAgAABAgQIECBAgAABAgQIECBAgAABAgQIECBAgAABAgQIECBAgMC0gGBi+jyWI0CAAAECBAgQIECAAAECBAgQIECAAAECBAgQIECAAAECBAgQIECAAAECBAgQIECAAAECBBoBwUSjZoYAAQIECBAgQIAAAQIECBAgQIAAAQIECBAgQIAAAQIECBAgQIAAAQIECBAgQIAAAQIECBCYFhBMTJ/HcgQIECBAgAABAgQIECBAgAABAgQIECBAgAABAgQIECBAgAABAgQIECBAgAABAgQIECBAgEAjIJho1MwQIECAAAECBAgQIECAAAECBAgQIECAAAECBAgQIECAAAECBAgQIECAAAECBAgQIECAAAEC0wKCienzWI4AAQIECBAgQIAAAQIECBAgQIAAAQIECBAgQIAAAQIECBAgQIAAAQIECBAgQIAAAQIECBBoBAQTjZoZAgQIECBAgAABAgQIECBAgAABAgQIECBAgAABAgQIECBAgAABAgQIECBAgAABAgQIECBAYFpAMDF9HssRIECAAAECBAgQIECAAAECBAgQIECAAAECBAgQIECAAAECBAgQIECAAAECBAgQIECAAAECjYBgolEzQ4AAAQIECBAgQIAAAQIECBAgQIAAAQIECBAgQIAAAQIECBAgQIAAAQIECBAgQIAAAQIECEwLCCamz2M5AgQIECBAgAABAgQIECBAgAABAgQIECBAgAABAgQIECBAgAABAgQIECBAgAABAgQIECBAoBEQTDRqZggQIECAAAECBAgQIECAAAECBAgQIECAAAECBAgQIECAAAECBAgQIECAAAECBAgQIECAAIFpAcHE9HksR4AAAQIECBAgQIAAAQIECBAgQIAAAQIECBAgQIAAAQIECBAgQIAAAQIECBAgQIAAAQIECDQCgolGzQwBAgQIECBAgAABAgQIECBAgAABAgQIECBAgAABAgQIECBAgAABAgQIECBAgAABAgQIECAwLSCYmD6P5QgQIECAAAECBAgQIECAAAECBAgQIECAAAECBAgQIECAAAECBAgQIECAAAECBAgQIECAAIFGQDDRqJkhQIAAAQIECBAgQIAAAQIECBAgQIAAAQIECBAgQIAAAQIECBAgQIAAAQIECBAgQIAAAQIEpgUEE9PnsRwBAgQIECBAgAABAgQIECBAgAABAgQIECBAgAABAgQIECBAgAABAgQIECBAgAABAgQIECDQCAgmGjUzBAgQIECAAAECBAgQIECAAAECBAgQIECAAAECBAgQIECAAAECBAgQIECAAAECBAgQIECAwLSAYGL6PJYjQIAAAQIECBAgQIAAAQIECBAgQIAAAQIECBAgQIAAAQIECBAgQIAAAQIECBAgQIAAAQIEGgHBRKNmhgABAgQIECBAgAABAgQIECBAgAABAgQIECBAgAABAgQIECBAgAABAgQIECBAgAABAgQIEJgWEExMn8dyBAgQIECAAAECBAgQIECAAAECBAgQIECAAAECBAgQIECAAAECBAgQIECAAAECBAgQIECAQCMgmGjUzBAgQIAAAQIECBAgQIAAAQIECBAgQIAAAQIECBAgQIAAAQIECBAgQIAAAQIECBAgQIAAAQLTAoKJ6fNYjgABAgQIECBAgAABAgQIECBAgAABAgQIECBAgAABAgQIECBAgAABAgQIECBAgAABAgQIEGgEBBONmhkCBAgQIECAAAECBAgQIECAAAECBAgQIECAAAECBAgQIECAAAECBAgQIECAAAECBAgQIEBgWkAwMX0eyxEgQIAAAQIECBAgQIAAAQIECBAgQIAAAQIECBAgQIAAAQIECBAgQIAAAQIECBAgQIAAAQKNgGCiUTNDgAABAgQIECBAgAABAgQIECBAgAABAgQIECBAgAABAgQIECBAgAABAgQIECBAgAABAgQITAsIJqbPYzkCBAgQIECAAAECBAgQIECAAAECBAgQIECAAAECBAgQIECAAAECBAgQIECAAAECBAgQIECgERBMNGpmCBAgQIAAAQIECBAgQIAAAQIECBAgQIAAAQIECBAgQIAAAQIECBAgQIAAAQIECBAgQIAAgWkBwcT0eSxHgAABAgQIECBAgAABAgQIECBAgAABAgQIECBAgAABAgQIECBAgAABAgQIECBAgAABAgQINAKCiUbNDAECBAgQIECAAAECBAgQIECAAAECBAgQIECAAAECBAgQIECAAAECBAgQIECAAAECBAgQIDAtIJiYPo/lCBAgQIAAAQIECBAgQIAAAQIECBAgQIAAAQIECBAgQIAAAQIECBAgQIAAAQIECBAgQIAAgUZAMNGomSFAgAABAgQIECBAgAABAgQIECBAgAABAgQIECBAgAABAgQIECBAgAABAgQIECBAgAABAgSmBQQT0+exHAECBAgQIECAAAECBAgQIECAAAECBAgQIECAAAECBAgQIECAAAECBAgQIECAAAECBAgQINAICCYaNTMECBAgQIAAAQIECBAgQIAAAQIECBAgQIAAAQIECBAgQIAAAQIECBAgQIAAAQIECBAgQIDAtIBgYvo8liNAgAABAgQIECBAgAABAgQIECBAgAABAgQIECBAgAABAgQIECBAgAABAgQIECBAgAABAgQaAcFEo2aGAAECBAgQIECAAAECBAgQIECAAAECBAgQIECAAAECBAgQIECAAAECBAgQIECAAAECBAgQmBYQTEyfx3IECBAgQIAAAQIECBAgQIAAAQIECBAgQIAAAQIECBAgQIAAAQIECBAgQIAAAQIECBAgQIBAIyCYaNTMECBAgAABAgQIECBAgAABAgQIECBAgAABAgQIECBAgAABAgQIECBAgAABAgQIECBAgAABAtMCgonp81iOAAECBAgQIECAAAECBAgQIECAAAECBAgQIECAAAECBAgQIECAAAECBAgQIECAAAECBAgQaAQEE42aGQIECBAgQIAAAQIECBAgQIAAAQIECBAgQIAAAQIECBAgQIAAAQIECBAgQIAAAQIECBAgQGBaQDAxfR7LESBAgAABAgQIECBAgAABAgQIECBAgAABAgQIECBAgAABAgQIECBAgAABAgQIECBAgAABAo2AYKJRM0OAAAECBAgQIECAAAECBAgQIECAAAECBAgQIECAAAECBAgQIECAAAECBAgQIECAAAECBAhMCwgmps9jOQIECBAgQIAAAQIECBAgQIAAAQIECBAgQIAAAQIECBAgQIAAAQIECBAgQIAAAQIECBAgQKAREEw0amYIECBAgAABAgQIECBAgAABAgQIECBAgAABAgQIECBAgAABAgQIECBAgAABAgQIECBAgACBaQHBxPR5LEeAAAECBAgQIECAAAECBAgQIECAAAECBAgQIECAAAECBAgQIECAAAECBAgQIECAAAECBAg0AoKJRs0MAQIECBAgQIAAAQIECBAgQIAAAQIECBAgQIAAAQIECBAgQIAAAQIECBAgQIAAAQIECBAgMC0gmJg+j+UIECBAgAABAgQIECBAgAABAgQIECBAgAABAgQIECBAgAABAgQIECBAgAABAgQIECBAgACBRkAw0aiZIUCAAAECBAgQIECAAAECBAgQIECAAAECBAgQIECAAAECBAgQIECAAAECBAgQIECAAAECBKYFBBPT57EcAQIECBAgQIAAAQIECBAgQIAAAQIECBAgQIAAAQIECBAgQIAAAQIECBAgQIAAAQIECBAg0AgIJho1MwQIECBAgAABAgQIECBAgAABAgQIECBAgAABAgQIECBAgAABAgQIECBAgAABAgQIECBAgMC0gGBi+jyWI0CAAAECBAgQIECAAAECBAgQIECAAAECBAgQIECAAAECBAgQIECAAAECBAgQIECAAAECBBoBwUSjZoYAAQIECBAgQIAAAQIECBAgQIAAAQIECBAgQIAAAQIECBAgQIAAAQIECBAgQIAAAQIECBCYFhBMTJ/HcgQIECBAgAABAgQIECBAgAABAgQIECBAgAABAgQIECBAgAABAgQIECBAgAABAgQIECBAgEAjIJho1MwQIECAAAECBAgQIECAAAECBAgQIECAAAECBAgQIECAAAECBAgQIECAAAECBAgQIECAAAEC0wKCienzWI4AAQIECBAgQIAAAQIECBAgQIAAAQIECBAgQIAAAQIECBAgQIAAAQIECBAgQIAAAQIECBBoBAQTjZoZAgQIECBAgAABAgQIECBAgAABAgQIECBAgAABAgQIECBAgAABAgQIECBAgAABAgQIECBAYFpAMDF9HssRIECAAAECBAgQIECAAAECBAgQIECAAAECBAgQIECAAAECBAgQIECAAAECBAgQIECAAAECjYBgolEzQ4AAAQIECBAgQIAAAQIECBAgQIAAAQIECBAgQIAAAQIECBAgQIAAAQIECBAgQIAAAQIECEwLCCamz2M5AgQIECBAgAABAgQIECBAgAABAgQIECBAgAABAgQIECBAgAABAgQIECBAgAABAgQIECBAoBEQTDRqZggQIECAAAECBAgQIECAAAECBAgQIECAAAECBAgQIECAAAECBAgQIECAAAECBAgQIECAAIFpAcHE9HksR4AAAQIECBAgQIAAAQIECBAgQIAAAQIECBAgQIAAAQIECBAgQIAAAQIECBAgQIAAAQIECDQCgolGzQwBAgQIECBAgAABAgQIECBAgAABAgQIECBAgAABAgQIECBAgAABAgQIECBAgAABAgQIECAwLSCYmD6P5QgQIECAAAECBAgQIECAAAECBAgQIECAAAECBAgQIECAAAECBAgQIECAAAECBAgQIECAAIFGQDDRqJkhQIAAAQIECBAgQIAAAQIECBAgQIAAAQIECBAgQIAAAQIECBAgQIAAAQIECBAgQIAAAQIEpgUEE9PnsRwBAgQIECBAgAABAgQIECBAgAABAgQIECBAgAABAgQIECBAgAABAgQIECBAgAABAgQIECDQCAgmGjUzBAgQIECAAAECBAgQIECAAAECBAgQIECAAAECBAgQIECAAAECBAgQIECAAAECBAgQIECAwLSAYGL6PJYjQIAAAQIECBAgQIAAAQIECBAgQIAAAQIECBAgQIAAAQIECBAgQIAAAQIECBAgQIAAAQIEGgHBRKNmhgABAgQIECBAgAABAgQIECBAgAABAgQIECBAgAABAgQIECBAgAABAgQIECBAgAABAgQIEJgWEExMn8dyBAgQIECAAAECBAgQIECAAAECBAgQIECAAAECBAgQIECAAAECBAgQIECAAAECBAgQIECAQCMgmGjUzBAgQIAAAQIECBAgQIAAAQIECBAgQIAAAQIECBAgQIAAAQIECBAgQIAAAQIECBAgQIAAAQLTAoKJ6fNYjgABAgQIECBAgAABAgQIECBAgAABAgQIECBAgAABAgQIECBAgAABAgQIECBAgAABAgQIEGgEBBONmhkCBAgQIECAAAECBAgQIECAAAECBAgQIECAAAECBAgQIECAAAECBAgQIECAAAECBAgQIEBgWkAwMX0eyxEgQIAAAQIECBAgQIAAAQIECBAgQIAAAQIECBAgQIAAAQIECBAgQIAAAQIECBAgQIAAAQKNgGCiUTNDgAABAgQIECBAgAABAgQIECBAgAABAgQIECBAgAABAgQIECBAgAABAgQIECBAgAABAgQITAsIJqbPYzkCBAgQIECAAAECBAgQIECAAAECBAgQIECAAAECBAgQIECAAAECBAgQIECAAAECBAgQIECgERBMNGpmCBAgQIAAAQIECBAgQOA/7NsxDQAAAMIw/67xwLWjAkhIuSFAgAABAgQIECBAgAABAgQIECBAgAABAgQIECBAgAABAgQIECBAIC3gMJGeRzkCBAgQIECAAAECBAgQIECAAAECBAgQIECAAAECBAgQIECAAAECBAgQIECAAAECBAgQIEDgEXCYeNRkCBAgQIAAAQIECBAgQIAAAQIECBAgQIAAAQIECBAgQIAAAQIECBAgQIAAAQIECBAgQIAAgbSAw0R6HuUIECBAgAABAgQIECBAgAABAgQIECBAgAABAgQIECBAgAABAgQIECBAgAABAgQIECBAgACBR8Bh4lGTIUCAAAECBAgQIECAAAECBAgQIECAAAECBAgQIECAAAECBAgQIECAAAECBAgQIECAAAECBNICDhPpeZQjQIAAAQIECBAgQIAAAQIECBAgQIAAAQIECBAgQIAAAQIECBAgQIAAAQIECBAgQIAAAQIEHgGHiUdNhgABAgQIECBAgAABAgQIECBAgAABAgQIECBAgAABAgQIECBAgAABAgQIECBAgAABAgQIEEgLOEyk51GOAAECBAgQIECAAAECBAgQIECAAAECBAgQIECAAAECBAgQIECAAAECBAgQIECAAAECBAgQeAQcJh41GQIECBAgQIAAAQIECBAgQIAAAQIECBAgQIAAAQIECBAgQIAAAQIECBAgQIAAAQIECBAgQCAt4DCRnkc5AgQIECBAgAABAgQIECBAgAABAgQIECBAgAABAgQIECBAgAABAgQIECBAgAABAgQIECBA4BFwmHjUZAgQIECAAAECBAgQIECAAAECBAgQIECAAAECBAgQIECAAAECBAgQIECAAAECBAgQIECAAIG0gMNEeh7lCBAgQIAAAQIECBAgQIAAAQIECBAgQIAAAQIECBAgQIAAAQIECBAgQIAAAQIECBAgQIAAgUfAYeJRkyFAgAABAgQIECBAgAABAgQIECBAgAABAgQIECBAgAABAgQIECBAgAABAgQIECBAgAABAgTSAg4T6XmUI0CAAAECBAgQIECAAAECBAgQIECAAAECBAgQIECAAAECBAgQIECAAAECBAgQIECAAAECBB4Bh4lHTYYAAQIECBAgQIAAAQIECBAgQIAAAQIECBAgQIAAAQIECBAgQIAAAQIECBAgQIAAAQIECBBICzhMpOdRjgABAgQIECBAgAABAgQIECBAgAABAgQIECBAgAABAgQIECBAgAABAgQIECBAgAABAgQIEHgEHCYeNRkCBAgQIECAAAECBAgQIECAAAECBAgQIECAAAECBAgQIECAAAECBAgQIECAAAECBAgQIEAgLeAwkZ5HOQIECBAgQIAAAQIECBAgQIAAAQIECBAgQIAAAQIECBAgQIAAAQIECBAgQIAAAQIECBAgQOARcJh41GQIECBAgAABAgQIECBAgAABAgQIECBAgAABAgQIECBAgAABAgQIECBAgAABAgQIECBAgACBtIDDRHoe5QgQIECAAAECBAgQIECAAAECBAgQIECAAAECBAgQIECAAAECBAgQIECAAAECBAgQIECAAIFHwGHiUZMhQIAAAQIECBAgQIAAAQIECBAgQIAAAQIECBAgQIAAAQIECBAgQIAAAQIECBAgQIAAAQIE0gIOE+l5lCNAgAABAgQIECBAgAABAgQIECBAgAABAgQIECBAgAABAgQIECBAgAABAgQIECBAgAABAgQeAYeJR02GAAECBAgQIECAAAECBAgQIECAAAECBAgQIECAAAECBAgQIECAAAECBAgQIECAAAECBAgQSAs4TKTnUY4AAQIECBAgQIAAAQIECBAgQIAAAQIECBAgQIAAAQIECBAgQIAAAQIECBAgQIAAAQIECBB4BBwmHjUZAgQIECBAgAABAgQIECBAgAABAgQIECBAgAABAgQIECBAgAABAgQIECBAgAABAgQIECBAIC3gMJGeRzkCBAgQIECAAAECBAgQIECAAAECBAgQIECAAAECBAgQIECAAAECBAgQIECAAAECBAgQIEDgEXCYeNRkCBAgQIAAAQIECBAgQIAAAQIECBAgQIAAAQIECBAgQIAAAQIECBAgQIAAAQIECBAgQIAAgbSAw0R6HuUIECBAgAABAgQIECBAgAABAgQIECBAgAABAgQIECBAgAABAgQIECBAgAABAgQIECBAgACBR8Bh4lGTIUCAAAECBAgQIECAAAECBAgQIECAAAECBAgQIECAAAECBAgQIECAAAECBAgQIECAAAECBNICDhPpeZQjQIAAAQIECBAgQIAAAQIECBAgQIAAAQIECBAgQIAAAQIECBAgQIAAAQIECBAgQIAAAQIEHgGHiUdNhgABAgQIECBAgAABAgQIECBAgAABAgQIECBAgAABAgQIECBAgAABAgQIECBAgAABAgQIEEgLOEyk51GOAAECBAgQIECAAAECBAgQIECAAAECBAgQIECAAAECBAgQIECAAAECBAgQIECAAAECBAgQeAQcJh41GQIECBAgQIAAAQIECBAgQIAAAQIECBAgQIAAAQIECBAgQIAAAQIECBAgQCRCrJIAACAASURBVIAAAQIECBAgQCAt4DCRnkc5AgQIECBAgAABAgQIECBAgAABAgQIECBAgAABAgQIECBAgAABAgQIECBAgAABAgQIECBA4BFwmHjUZAgQIECAAAECBAgQIECAAAECBAgQIECAAAECBAgQIECAAAECBAgQIECAAAECBAgQIECAAIG0gMNEeh7lCBAgQIAAAQIECBAgQIAAAQIECBAgQIAAAQIECBAgQIAAAQIECBAgQIAAAQIECBAgQIAAgUfAYeJRkyFAgAABAgQIECBAgAABAgQIECBAgAABAgQIECBAgAABAgQIECBAgAABAgQIECBAgAABAgTSAg4T6XmUI0CAAAECBAgQIECAAAECBAgQIECAAAECBAgQIECAAAECBAgQIECAAAECBAgQIECAAAECBB4Bh4lHTYYAAQIECBAgQIAAAQIECBAgQIAAAQIECBAgQIAAAQIECBAgQIAAAQIECBAgQIAAAQIECBBICzhMpOdRjgABAgQIECBAgAABAgQIECBAgAABAgQIECBAgAABAgQIECBAgAABAgQIECBAgAABAgQIEHgEHCYeNRkCBAgQIECAAAECBAgQIECAAAECBAgQIECAAAECBAgQIECAAAECBAgQIECAAAECBAgQIEAgLeAwkZ5HOQIECBAgQIAAAQIECBAgQIAAAQIECBAgQIAAAQIECBAgQIAAAQIECBAgQIAAAQIECBAgQOARcJh41GQIECBAgAABAgQIECBAgAABAgQIECBAgAABAgQIECBAgAABAgQIECBAgAABAgQIECBAgACBtIDDRHoe5QgQIECAAAECBAgQIECAAAECBAgQIECAAAECBAgQIECAAAECBAgQIECAAAECBAgQIECAAIFHwGHiUZMhQIAAAQIECBAgQIAAAQIECBAgQIAAAQIECBAgQIAAAQIECBAgQIAAAQIECBAgQIAAAQIE0gIOE+l5lCNAgAABAgQIECBAgAABAgQIECBAgAABAgQIECBAgAABAgQIECBAgAABAgQIECBAgAABAgQeAYeJR02GAAECBAgQIECAAAECBAgQIECAAAECBAgQIECAAAECBAgQIECAAAECBAgQIECAAAECBAgQSAs4TKTnUY4AAQIECBAgQIAAAQIECBAgQIAAAQIECBAgQIAAAQIECBAgQIAAAQIECBAgQIAAAQIECBB4BBwmHjUZAgQIECBAgAABAgQIECBAgAABAgQIECBAgAABAgQIECBAgAABAgQIECBAgAABAgQIECBAIC3gMJGeRzkCBAgQIECAAAECBAgQIECAAAECBAgQIECAAAECBAgQIECAAAECBAgQIECAAAECBAgQIEDgEXCYeNRkCBAgQIAAAQIECBAgQIAAAQIECBAgQIAAAQIECBAgQIAAAQIECBAgQIAAAQIECBAgQIAAgbSAw0R6HuUIECBAgAABAgQIECBAgAABAgQIECBAgAABAgQIECBAgAABAgQIECBAgAABAgQIECBAgACBR8Bh4lGTIUCAAAECBAgQIECAAAECBAgQIECAAAECBAgQIECAAAECBAgQIECAAAECBAgQIECAAAECBNICDhPpeZQjQIAAAQIECBAgQIAAAQIECBAgQIAAAQIECBAgQIAAAQIECBAgQIAAAQIECBAgQIAAAQIEHgGHiUdNhgABAgQIECBAgAABAgQIECBAgAABAgQIECBAgAABAgQIECBAgAABAgQIECBAgAABAgQIEEgLOEyk51GOAAECBAgQIECAAAECBAgQIECAAAECBAgQIECAAAECBAgQIECAAAECBAgQIECAAAECBAgQeAQcJh41GQIECBAgQIAAAQIECBAgQIAAAQIECBAgQIAAAQIECBAgQIAAAQIECBAgQIAAAQIECBAgQCAt4DCRnkc5AgQIECBAgAABAgQIECBAgAABAgQIECBAgAABAgQIECBAgAABAgQIECBAgAABAgQIECBA4BFwmHjUZAgQIECAAAECBAgQIECAAAECBAgQIECAAAECBAgQIECAAAECBAgQIECAAAECBAgQIECAAIG0gMNEeh7lCBAgQIAAAQIECBAgQIAAAQIECBAgQIAAAQIECBAgQIAAAQIECBAgQIAAAQIECBAgQIAAgUfAYeJRkyFAgAABAgQIECBAgAABAgQIECBAgAABAgQIECBAgAABAgQIECBAgAABAgQIECBAgAABAgTSAg4T6XmUI0CAAAECBAgQIECAAAECBAgQIECAAAECBAgQIECAAAECBAgQIECAAAECBAgQIECAAAECBB4Bh4lHTYYAAQIECBAgQIAAAQIECBAgQIAAAQIECBAgQIAAAQIECBAgQIAAAQIECBAgQIAAAQIECBBICzhMpOdRjgABAgQIECBAgAABAgQIECBAgAABAgQIECBAgAABAgQIECBAgAABAgQIECBAgAABAgQIEHgEHCYeNRkCBAgQIECAAAECBAgQIECAAAECBAgQIECAAAECBAgQIECAAAECBAgQIECAAAECBAgQIEAgLeAwkZ5HOQIECBAgQIAAAQIECBAgQIAAAQIECBAgQIAAAQIECBAgQIAAAQIECBAgQIAAAQIECBAgQOARcJh41GQIECBAgAABAgQIECBAgAABAgQIECBAgAABAgQIECBAgAABAgQIECBAgAABAgQIECBAgACBtIDDRHoe5QgQIECAAAECBAgQIECAAAECBAgQIECAAAECBAgQIECAAAECBAgQIECAAAECBAgQIECAAIFHwGHiUZMhQIAAAQIECBAgQIAAAQIECBAgQIAAAQIECBAgQIAAAQIECBAgQIAAAQIECBAgQIAAAQIE0gIOE+l5lCNAgAABAgQIECBAgAABAgQIECBAgAABAgQIECBAgAABAgQIECBAgAABAgQIECBAgAABAgQeAYeJR02GAAECBAgQIECAAAECBAgQIECAAAECBAgQIECAAAECBAgQIECAAAECBAgQIECAAAECBAgQSAs4TKTnUY4AAQIECBAgQIAAAQIECBAgQIAAAQIECBAgQIAAAQIECBAgQIAAAQIECBAgQIAAAQIECBB4BBwmHjUZAgQIECBAgAABAgQIECBAgAABAgQIECBAgAABAgQIECBAgAABAgQIECBAgAABAgQIECBAIC3gMJGeRzkCBAgQIECAAAECBAgQIECAAAECBAgQIECAAAECBAgQIECAAAECBAgQIECAAAECBAgQIEDgEXCYeNRkCBAgQIAAAQIECBAgQIAAAQIECBAgQIAAAQIECBAgQIAAAQIECBAgQIAAAQIECBAgQIAAgbSAw0R6HuUIECBAgAABAgQIECBAgAABAgQIECBAgAABAgQIECBAgAABAgQIECBAgAABAgQIECBAgACBR8Bh4lGTIUCAAAECBAgQIECAAAECBAgQIECAAAECBAgQIECAAAECBAgQIECAAAECBAgQIECAAAECBNICDhPpeZQjQIAAAQIECBAgQIAAAQIECBAgQIAAAQIECBAgQIAAAQIECBAgQIAAAQIECBAgQIAAAQIEHgGHiUdNhgABAgQIECBAgAABAgQIECBAgAABAgQIECBAgAABAgQIECBAgAABAgQIECBAgAABAgQIEEgLOEyk51GOAAECBAgQIECAAAECBAgQIECAAAECBAgQIECAAAECBAgQIECAAAECBAgQIECAAAECBAgQeAQcJh41GQIECBAgQIAAAQIECBAgQIAAAQIECBAgQIAAAQIECBAgQIAAAQIECBAgQIAAAQIECBAgQCAt4DCRnkc5AgQIECBAgAABAgQIECBAgAABAgQIECBAgAABAgQIECBAgAABAgQIECBAgAABAgQIECBA4BFwmHjUZAgQIECAAAECBAgQIECAAAECBAgQIECAAAECBAgQIECAAAECBAgQIECAAAECBAgQIECAAIG0gMNEeh7lCBAgQIAAAQIECBAgQIAAAQIECBAgQIAAAQIECBAgQIAAAQIECBAgQIAAAQIECBAgQIAAgUfAYeJRkyFAgAABAgQIECBAgAABAgQIECBAgAABAgQIECBAgAABAgQIECBAgAABAgQIECBAgAABAgTSAg4T6XmUI0CAAAECBAgQIECAAAECBAgQIECAAAECBAgQIECAAAECBAgQIECAAAECBAgQIECAAAECBB4Bh4lHTYYAAQIECBAgQIAAAQIECBAgQIAAAQIECBAgQIAAAQIECBAgQIAAAQIECBAgQIAAAQIECBBICzhMpOdRjgABAgQIECBAgAABAgQIECBAgAABAgQIECBAgAABAgQIECBAgAABAgQIECBAgAABAgQIEHgEHCYeNRkCBAgQIECAAAECBAgQIECAAAECBAgQIECAAAECBAgQIECAAAECBAgQIECAAAECBAgQIEAgLeAwkZ5HOQIECBAgQIAAAQIECBAgQIAAAQIECBAgQIAAAQIECBAgQIAAAQIECBAgQIAAAQIECBAgQOARcJh41GQIECBAgAABAgQIECBAgAABAgQIECBAgAABAgQIECBAgAABAgQIECBAgAABAgQIECBAgACBtIDDRHoe5QgQIECAAAECBAgQIECAAAECBAgQIECAAAECBAgQIECAAAECBAgQIECAAAECBAgQIECAAIFHwGHiUZMhQIAAAQIECBAgQIAAAQIECBAgQIAAAQIECBAgQIAAAQIECBAgQIAAAQIECBAgQIAAAQIE0gIOE+l5lCNAgAABAgQIECBAgAABAgQIECBAgAABAgQIECBAgAABAgQIECBAgAABAgQIECBAgAABAgQeAYeJR02GAAECBAgQIECAAAECBAgQIECAAAECBAgQIECAAAECBAgQIECAAAECBAgQIECAAAECBAgQSAs4TKTnUY4AAQIECBAgQIAAAQIECBAgQIAAAQIECBAgQIAAAQIECBAgQIAAAQIECBAgQIAAAQIECBB4BBwmHjUZAgQIECBAgAABAgQIECBAgAABAgQIECBAgAABAgQIECBAgAABAgQIECBAgAABAgQIECBAIC3gMJGeRzkCBAgQIECAAAECBAgQIECAAAECBAgQIECAAAECBAgQIECAAAECBAgQIECAAAECBAgQIEDgEXCYeNRkCBAgQIAAAQIECBAgQIAAAQIECBAgQIAAAQIECBAgQIAAAQIECBAgQIAAAQIECBAgQIAAgbSAw0R6HuUIECBAgAABAgQIECBAgAABAgQIECBAgAABAgQIECBAgAABAgQIECBAgAABAgQIECBAgACBR8Bh4lGTIUCAAAECBAgQIECAAAECBAgQIECAAAECBAgQIECAAAECBAgQIECAAAECBAgQIECAAAECBNICDhPpeZQjQIAAAQIECBAgQIAAAQIECBAgQIAAAQIECBAgQIAAAQIECBAgQIAAAQIECBAgQIAAAQIEHgGHiUdNhgABAgQIECBAgAABAgQIECBAgAABAgQIECBAgAABAgQIECBAgAABAgQIECBAgAABAgQIEEgLOEyk51GOAAECBAgQIECAAAECBAgQIECAAAECBAgQIECAAAECBAgQIECAAAECBAgQIECAAAECBAgQeAQcJh41GQIECBAgQIAAAQIECBAgQIAAAQIECBAgQIAAAQIECBAgQIAAAQIECBAgQIAAAQIECBAgQCAt4DCRnkc5AgQIECBAgAABAgQIECBAgAABAgQIECBAgAABAgQIECBAgAABAgQIECBAgAABAgQIECBA4BFwmHjUZAgQIECAAAECBAgQIECAAAECBAgQIECAAAECBAgQIECAAAECBAgQIECAAAECBAgQIECAAIG0gMNEeh7lCBAgQIAAAQIECBAgQIAAAQIECBAgQIAAAQIECBAgQIAAAQIECBAgQIAAAQIECBAgQIAAgUfAYeJRkyFAgAABAgQIECBAgAABAgQIECBAgAABAgQIECBAgAABAgQIECBAgAABAgQIECBAgAABAgTSAg4T6XmUI0CAAAECBAgQIECAAAECBAgQIECAAAECBAgQIECAAAECBAgQIECAAAECBAgQIECAAAECBB4Bh4lHTYYAAQIECBAgQIAAAQIECBAgQIAAAQIECBAgQIAAAQIECBAgQIAAAQIECBAgQIAAAQIECBBICzhMpOdRjgABAgQIECBAgAABAgQIECBAgAABAgQIECBAgAABAgQIECBAgAABAgQIECBAgAABAgQIEHgEHCYeNRkCBAgQIECAAAECBAgQIECAAAECBAgQIECAAAECBAgQIECAAAECBAgQIECAAAECBAgQIEAgLeAwkZ5HOQIECBAgQIAAAQIECBAgQIAAAQIECBAgQIAAAQIECBAgQIAAAQIECBAgQIAAAQIECBAgQOARcJh41GQIECBAgAABAgQIECBAgAABAgQIECBAgAABAgQIECBAgAABAgQIECBAgAABAgQIECBAgACBtIDDRHoe5QgQIECAAAECBAgQIECAAAECBAgQIECAAAECBAgQIECAAAECBAgQIECAAAECBAgQIECAAIFHwGHiUZMhQIAAAQIECBAgQIAAAQIECBAgQIAAAQIECBAgQIAAAQIECBAgQIAAAQIECBAgQIAAAQIE0gIOE+l5lCNAgAABAgQIECBAgAABAgQIECBAgAABAgQIECBAgAABAgQIECBAgAABAgQIECBAgAABAgQeAYeJR02GAAECBAgQIECAAAECBAgQIECAAAECBAgQIECAAAECBAgQIECAAAECBAgQIECAAAECBAgQSAs4TKTnUY4AAQIECBAgQIAAAQIECBAgQIAAAQIECBAgQIAAAQIECBAgQIAAAQIECBAgQIAAAQIECBB4BBwmHjUZAgQIECBAgAABAgQIECBAgAABAgQIECBAgAABAgQIECBAgAABAgQIECBAgAABAgQIECBAIC3gMJGeRzkCBAgQIECAAAECBAgQIECAAAECBAgQIECAAAECBAgQIECAAAECBAgQIECAAAECBAgQIEDgEXCYeNRkCBAgQIAAAQIECBAgQIAAAQIECBAgQIAAAQIECBAgQIAAAQIECBAgQIAAAQIECBAgQIAAgbSAw0R6HuUIECBAgAABAgQIECBAgAABAgQIECBAgAABAgQIECBAgAABAgQIECBAgAABAgQIECBAgACBR8Bh4lGTIUCAAAECBAgQIECAAAECBAgQIECAAAECBAgQIECAAAECBAgQIECAAAECBAgQIECAAAECBNICDhPpeZQjQIAAAQIECBAgQIAAAQIECBAgQIAAAQIECBAgQIAAAQIECBAgQIAAAQIECBAgQIAAAQIEHgGHiUdNhgABAgQIECBAgAABAgQIECBAgAABAgQIECBAgAABAgQIECBAgAABAgQIECBAgAABAgQIEEgLOEyk51GOAAECBAgQIECAAAECBAgQIECAAAECBAgQIECAAAECBAgQIECAAAECBAgQIECAAAECBAgQeAQcJh41GQIECBAgQIAAAQIECBAgQIAAAQIECBAgQIAAAQIECBAgQIAAAQIECBAgQIAAAQIECBAgQCAt4DCRnkc5AgQIECBAgAABAgQIECBAgAABAgQIECBAgAABAgQIECBAgAABAgQIECBAgAABAgQIECBA4BFwmHjUZAgQIECAAAECBAgQIECAAAECBAgQIECAAAECBAgQIECAAAECBAgQIECAAAECBAgQIECAAIG0gMNEeh7lCBAgQIAAAQIECBAgQIAAAQIECBAgQIAAAQIECBAgQIAAAQIECBAgQIAAAQIECBAgQIAAgUfAYeJRkyFAgAABAgQIECBAgAABAgQIECBAgAABAgQIECBAgAABAgQIECBAgAABAgQIECBAgAABAgTSAg4T6XmUI0CAAAECBAgQIECAAAECBAgQIECAAAECBAgQIECAAAECBAgQIECAAAECBAgQIECAAAECBB4Bh4lHTYYAAQIECBAgQIAAAQIECBAgQIAAAQIECBAgQIAAAQIECBAgQIAAAQIECBAgQIAAAQIECBBICzhMpOdRjgABAgQIECBAgAABAgQIECBAgAABAgQIECBAgAABAgQIECBAgAABAgQIECBAgAABAgQIEHgEHCYeNRkCBAgQIECAAAECBAgQIECAAAECBAgQIECAAAECBAgQIECAAAECBAgQIECAAAECBAgQIEAgLeAwkZ5HOQIECBAgQIAAAQIECBAgQIAAAQIECBAgQIAAAQIECBAgQIAAAQIECBAgQIAAAQIECBAgQOARcJh41GQIECBAgAABAgQIECBAgAABAgQIECBAgAABAgQIECBAgAABAgQIECBAgAABAgQIECBAgACBtIDDRHoe5QgQIECAAAECBAgQIECAAAECBAgQIECAAAECBAgQIECAAAECBAgQIECAAAECBAgQIECAAIFHwGHiUZMhQIAAAQIECBAgQIAAAQIECBAgQIAAAQIECBAgQIAAAQIECBAgQIAAAQIECBAgQIAAAQIE0gIOE+l5lCNAgAABAgQIECBAgAABAgQIECBAgAABAgQIECBAgAABAgQIECBAgAABAgQIECBAgAABAgQeAYeJR02GAAECBAgQIECAAAECBAgQIECAAAECBAgQIECAAAECBAgQIECAAAECBAgQIECAAAECBAgQSAs4TKTnUY4AAQIECBAgQIAAAQIECBAgQIAAAQIECBAgQIAAAQIECBAgQIAAAQIECBAgQIAAAQIECBB4BBwmHjUZAgQIECBAgAABAgQIECBAgAABAgQIECBAgAABAgQIECBAgAABAgQIECBAgAABAgQIECBAIC3gMJGeRzkCBAgQIECAAAECBAgQIECAAAECBAgQIECAAAECBAgQIECAAAECBAgQIECAAAECBAgQIEDgEXCYeNRkCBAgQIAAAQIECBAgQIAAAQIECBAgQIAAAQIECBAgQIAAAQIECBAgQIAAAQIECBAgQIAAgbSAw0R6HuUIECBAgAABAgQIECBAgAABAgQIECBAgAABAgQIECBAgAABAgQIECBAgAABAgQIECBAgACBR8Bh4lGTIUCAAAECBAgQIECAAAECBAgQIECAAAECBAgQIECAAAECBAgQIECAAAECBAgQIECAAAECBNICDhPpeZQjQIAAAQIECBAgQIAAAQIECBAgQIAAAQIECBAgQIAAAQIECBAgQIAAAQIECBAgQIAAAQIEHgGHiUdNhgABAgQIECBAgAABAgQIECBAgAABAgQIECBAgAABAgQIECBAgAABAgQIECBAgAABAgQIEEgLOEyk51GOAAECBAgQIECAAAECBAgQIECAAAECBAgQIECAAAECBAgQIECAAAECBAgQIECAAAECBAgQeAQcJh41GQIECBAgQIAAAQIECBAgQIAAAQIECBAgQIAAAQIECBAgQIAAAQIECBAgQIAAAQIECBAgQCAt4DCRnkc5AgQIECBAgAABAgQIECBAgAABAgQIECBAgAABAgQIECBAgAABAgQIECBAgAABAgQIECBA4BFwmHjUZAgQIECAAAECBAgQIECAAAECBAgQIECAAAECBAgQIECAAAECBAgQIECAAAECBAgQIECAAIG0gMNEeh7lCBAgQIAAAQIECBAgQIAAAQIECBAgQIAAAQIECBAgQIAAAQIECBAgQIAAAQIECBAgQIAAgUfAYeJRkyFAgAABAgQIECBAgAABAgQIECBAgAABAgQIECBAgAABAgQIECBAgAABAgQIECBAgAABAgTSAg4T6XmUI0CAAAECBAgQIECAAAECBAgQIECAAAECBAgQIECAAAECBAgQIECAAAECBAgQIECAAAECBB4Bh4lHTYYAAQIECBAgQIAAAQIECBAgQIAAAQIECBAgQIAAAQIECBAgQIAAAQIECBAgQIAAAQIECBBICzhMpOdRjgABAgQIECBAgAABAgQIECBAgAABAgQIECBAgAABAgQIECBAgAABAgQIECBAgAABAgQIEHgEHCYeNRkCBAgQIECAAAECBAgQIECAAAECBAgQIECAAAECBAgQIECAAAECBAgQIECAAAECBAgQIEAgLeAwkZ5HOQIECBAgQIAAAQIECBAgQIAAAQIECBAgQIAAAQIECBAgQIAAAQIECBAgQIAAAQIECBAgQOARcJh41GQIECBAgAABAgQIECBAgAABAgQIECBAgAABAgQIECBAgAABAgQIECBAgAABAgQIECBAgACBtIDDRHoe5QgQIECAAAECBAgQIECAAAECBAgQIECAAAECBAgQIECAAAECBAgQIECAAAECBAgQIECAAIFHwGHiUZMhQIAAAQIECBAgQIAAAQIECBAgQIAAAQIECBAgQIAAAQIECBAgQIAAAQIECBAgQIAAAQIE0gIOE+l5lCNAgAABAgQIECBAgAABAgQIECBAgAABAgQIECBAgAABAgQIECBAgAABAgQIECBAgAABAgQeAYeJR02GAAECBAgQIECAAAECBAgQIECAAAECBAgQIECAAAECBAgQIECAAAECBAgQIECAAAECBAgQSAs4TKTnUY4AAQIECBAgQIAAAQIECBAgQIAAAQIECBAgQIAAAQIECBAgQIAAAQIECBAgQIAAAQIECBB4BBwmHjUZAgQIECBAgAABAgQIECBAgAABAgQIECBAgAABAgQIECBAgAABAgQIECBAgAABAgQIECBAIC3gMJGeRzkCBAgQIECAAAECBAgQIECAAAECBAgQIECAAAECBAgQIECAAAECBAgQIECAAAECBAgQIEDgEXCYeNRkCBAgQIAAAQIECBAgQIAAAQIECBAgQIAAAQIECBAgQIAAAQIECBAgQIAAAQIECBAgQIAAgbSAw0R6HuUIECBAgAABAgQIECBAgAABAgQIECBAgAABAgQIECBAgAABAgQIECBAgAABAgQIECBAgACBR8Bh4lGTIUCAAAECBAgQIECAAAECBAgQIECAAAECBAgQ2qmZhAAAIABJREFUIECAAAECBAgQIECAAAECBAgQIECAAAECBNICDhPpeZQjQIAAAQIECBAgQIAAAQIECBAgQIAAAQIECBAgQIAAAQIECBAgQIAAAQIECBAgQIAAAQIEHgGHiUdNhgABAgQIECBAgAABAgQIECBAgAABAgQIECBAgAABAgQIECBAgAABAgQIECBAgAABAgQIEEgLOEyk51GOAAECBAgQIECAAAECBAgQIECAAAECBAgQIECAAAECBAgQIECAAAECBAgQIECAAAECBAgQeAQcJh41GQIECBAgQIAAAQIECBAgQIAAAQIECBAgQIAAAQIECBAgQIAAAQIECBAgQIAAAQIECBAgQCAt4DCRnkc5AgQIECBAgAABAgQIECBAgAABAgQIECBAgAABAgQIECBAgAABAgQIECBAgAABAgQIECBA4BFwmHjUZAgQIECAAAECBAgQIECAAAECBAgQIECAAAECBAgQIECAAAECBAgQIECAAAECBAgQIECAAIG0gMNEeh7lCBAgQIAAAQIECBAgQIAAAQIECBAgQIAAAQIECBAgQIAAAQIECBAgQIAAAQIECBAgQIAAgUfAYeJRkyFAgAABAgQIECBAgAABAgQIECBAgAABAgQIECBAgAABAgQIECBAgAABAgQIECBAgAABAgTSAg4T6XmUI0CAAAECBAgQIECAAAECBAgQIECAAAECBAgQIECAAAECBAgQIECAAAECBAgQIECAAAECBB4Bh4lHTYYAAQIECBAgQIAAAQIECBAgQIAAAQIECBAgQIAAAQIECBAgQIAAAQIECBAgQIAAAQIECBBICzhMpOdRjgABAgQIECBAgAABAgQIECBAgAABAgQIECBAgAABAgQIECBAgAABAgQIECBAgAABAgQIEHgEHCYeNRkCBAgQIECAAAECBAgQIECAAAECBAgQIECAAAECBAgQIECAAAECBAgQIECAAAECBAgQIEAgLeAwkZ5HOQIECBAgQIAAAQIECBAgQIAAAQIECBAgQIAAAQIECBAgQIAAAQIECBAgQIAAAQIECBAgQOARcJh41GQIECBAgAABAgQIECBAgAABAgQIECBAgAABAgQIECBAgAABAgQIECBAgAABAgQIECBAgACBtIDDRHoe5QgQIECAAAECBAgQIECAAAECBAgQIECAAAECBAgQIECAAAECBAgQIECAAAECBAgQIECAAIFHwGHiUZMhQIAAAQIECBAgQIAAAQIECBAgQIAAAQIECBAgQIAAAQIECBAgQIAAAQIECBAgQIAAAQIE0gIOE+l5lCNAgAABAgQIECBAgAABAgQIECBAgAABAgQIECBAgAABAgQIECBAgAABAgQIECBAgAABAgQeAYeJR02GAAECBAgQIECAAAECBAgQIECAAAECBAgQIECAAAECBAgQIECAAAECBAgQIECAAAECBAgQSAs4TKTnUY4AAQIECBAgQIAAAQIECBAgQIAAAQIECBAgQIAAAQIECBAgQIAAAQIECBAgQIAAAQIECBB4BBwmHjUZAgQIECBAgAABAgQIECBAgAABAgQIECBAgAABAgQIECBAgAABAgQIECBAgAABAgQIECBAIC3gMJGeRzkCBAgQIECAAAECBAgQIECAAAECBAgQIECAAAECBAgQIECAAAECBAgQIECAAAECBAgQIEDgEXCYeNRkCBAgQIAAAQIECBAgQIAAAQIECBAgQIAAAQIECBAgQIAAAQIECBAgQIAAAQIECBAgQIAAgbSAw0R6HuUIECBAgAABAgQIECBAgAABAgQIECBAgAABAgQIECBAgAABAgQIECBAgAABAgQIECBAgACBR8Bh4lGTIUCAAAECBAgQIECAAAECBAgQIECAAAECBAgQIECAAAECBAgQIECAAAECBAgQIECAAAECBNICDhPpeZQjQIAAAQIECBAgQIAAAQIECBAgQIAAAQIECBAgQIAAAQIECBAgQIAAAQIECBAgQIAAAQIEHgGHiUdNhgABAgQIECBAgAABAgQIECBAgAABAgQIECBAgAABAgQIECBAgAABAgQIECBAgAABAgQIEEgLOEyk51GOAAECBAgQIECAAAECBAgQIECAAAECBAgQIECAAAECBAgQIECAAAECBAgQIECAAAECBAgQeAQcJh41GQIECBAgQIAAAQIECBAgQIAAAQIECBAgQIAAAQIECBAgQIAAAQIECBAgQIAAAQIECBAgQCAt4DCRnkc5AgQIECBAgAABAgQIECBAgAABAgQIECBAgAABAgQIECBAgAABAgQIECBAgAABAgQIECBA4BFwmHjUZAgQIECAAAECBAgQIECAAAECBAgQIECAAAECBAgQIECAAAECBAgQIECAAAECBAgQIECAAIG0gMNEeh7lCBAgQIAAAQIECBAgQIAAAQIECBAgQIAAAQIECBAgQIAAAQIECBAgQIAAAQIECBAgQIAAgUfAYeJRkyFAgAABAgQIECBAgAABAgQIECBAgAABAgQIECBAgAABAgQIECBAgAABAgQIECBAgAABAgTSAg4T6XmUI0CAAAECBAgQIECAAAECBAgQIECAAAECBAgQIECAAAECBAgQIECAAAECBAgQIECAAAECBB4Bh4lHTYYAAQIECBAgQIAAAQIECBAgQIAAAQIECBAgQIAAAQIECBAgQIAAAQIECBAgQIAAAQIECBBICzhMpOdRjgABAgQIECBAgAABAgQIECBAgAABAgQIECBAgAABAgQIECBAgAABAgQIECBAgAABAgQIEHgEHCYeNRkCBAgQIECAAAECBAgQIECAAAECBAgQIECAAAECBAgQIECAAAECBAgQIECAAAECBAgQIEAgLeAwkZ5HOQIECBAgQIAAAQIECBAgQIAAAQIECBAgQIAAAQIECBAgQIAAAQIECBAgQIAAAQIECBAgQOARcJh41GQIECBAgAABAgQIECBAgAABAgQIECBAgAABAgQIECBAgAABAgQIECBAgAABAgQIECBAgACBtIDDRHoe5QgQIECAAAECBAgQIECAAAECBAgQIECAAAECBAgQIECAAAECBAgQIECAAAECBAgQIECAAIFHwGHiUZMhQIAAAQIECBAgQIAAAQIECBAgQIAAAQIECBAgQIAAAQIECBAgQIAAAQIECBAgQIAAAQIE0gIOE+l5lCNAgAABAgQIECBAgAABAgQIECBAgAABAgQIECBAgAABAgQIECBAgAABAgQIECBAgAABAgQeAYeJR02GAAECBAgQIECAAAECBAgQIECAAAECBAgQIECAAAECBAgQIECAAAECBAgQIECAAAECBAgQSAs4TKTnUY4AAQIECBAgQIAAAQIECBAgQIAAAQIECBAgQIAAAQIECBAgQIAAAQIECBAgQIAAAQIECBB4BBwmHjUZAgQIECBAgAABAgQIECBAgAABAgQIECBAgAABAgQIECBAgAABAgQIECBAgAABAgQIECBAIC3gMJGeRzkCBAgQIECAAAECBAgQIECAAAECBAgQIECAAAECBAgQIECAAAECBAgQIECAAAECBAgQIEDgEXCYeNRkCBAgQIAAAQIECBAgQIAAAQIECBAgQIAAAQIECBAgQIAAAQIECBAgQIAAAQIECBAgQIAAgbSAw0R6HuUIECBAgAABAgQIECBAgAABAgQIECBAgAABAgQIECBAgAABAgQIECBAgAABAgQIECBAgACBR8Bh4lGTIUCAAAECBAgQIECAAAECBAgQIECAAAECBAgQIECAAAECBAgQIECAAAECBAgQIECAAAECBNICDhPpeZQjQIAAAQIECBAgQIAAAQIECBAgQIAAAQIECBAgQIAAAQIECBAgQIAAAQIECBAgQIAAAQIEHgGHiUdNhgABAgQIECBAgAABAgQIECBAgAABAgQIECBAgAABAgQIECBAgAABAgQIECBAgAABAgQIEEgLOEyk51GOAAECBAgQIECAAAECBAgQIECAAAECBAgQIECAAAECBAgQIECAAAECBAgQIECAAAECBAgQeAQcJh41GQIECBAgQIAAAQIECBAgQIAAAQIECBAgQIAAAQIECBAgQIAAAQIECBAgQIAAAQIECBAgQCAt4DCRnkc5AgQIECBAgAABAgQIECBAgAABAgQIECBAgAABAgQIECBAgAABAgQIECBAgAABAgQIECBA4BFwmHjUZAgQIECAAAECBAgQIECAAAECBAgQIECAAAECBAgQIECAAAECBAgQIECAAAECBAgQIECAAIG0gMNEeh7lCBAgQIAAAQIECBAgQIAAAQIECBAgQIAAAQIECBAgQIAAAQIECBAgQIAAAQIECBAgQIAAgUfAYeJRkyFAgAABAgQIECBAgAABAgQIECBAgAABAgQIECBAgAABAgQIECBAgAABAgQIECBAgAABAgTSAg4T6XmUI0CAAAECBAgQIECAAAECBAgQIECAAAECBAgQIECAAAECBAgQIECAAAECBAgQIECAAAECBB4Bh4lHTYYAAQIECBAgQIAAAQIECBAgQIAAAQIECBAgQIAAAQIECBAgQIAAAQIECBAgQIAAAQIECBBICzhMpOdRjgABAgQIECBAgAABAgQIECBAgAABAgQIECBAgAABAgQIECBAgAABAgQIECBAgAABAgQIEHgEHCYeNRkCBAgQIECAAAECBAgQIECAAAECBAgQIECAAAECBAgQIECAAAECBAgQIECAAAECBAgQIEAgLeAwkZ5HOQIECBAgQIAAAQIECBAgQIAAAQIECBAgQIAAAQIECBAgQIAAAQIECBAgQIAAAQIECBAgQOARcJh41GQIECBAgAABAgQIECBAgAABAgQIECBAgAABAgQIECBAgAABAgQIECBAgAABAgQIECBAgACBtIDDRHoe5QgQIECAAAECBAgQIECAAAECBAgQIECAAAECBAgQIECAAAECBAgQIECAAAECBAgQIECAAIFHwGHiUZMhQIAAAQIECBAgQIAAAQIECBAgQIAAAQIECBAgQIAAAQIECBAgQIAAAQIECBAgQIAAAQIE0gIOE+l5lCNAgAABAgQIECBAgAABAgQIECBAgAABAgQIECBAgAABAgQIECBAgAABAgQIECBAgAABAgQeAYeJR02GAAECBAgQIECAAAECBAgQIECAAAECBAgQIECAAAECBAgQIECAAAECBAgQIECAAAECBAgQSAs4TKTnUY4AAQIECBAgQIAAAQIECBAgQIAAAQIECBAgQIAAAQIECBAgQIAAAQIECBAgQIAAAQIECBB4BBwmHjUZAgQIECBAgAABAgQIECBAgAABAgQIECBAgAABAgQIECBAgAABAgQIECBAgAABAgQIECBAIC3gMJGeRzkCBAgQIECAAAECBAgQIECAAAECBAgQIECAAAECBAgQIECAAAECBAgQIECAAAECBAgQIEDgEXCYeNRkCBAgQIAAAQIECBAgQIAAAQIECBAgQIAAAQIECBAgQIAAAQIECBAgQIAAAQIECBAgQIAAgbSAw0R6HuUIECBAgAABAgQIECBAgAABAgQIECBAgAABAgQIECBAgAABAgQIECBAgAABAgQIECBAgACBR8Bh4lGTIUCAAAECBAgQIECAAAECBAgQIECAAAECBAgQIECAAAECBAgQIECAAAECBAgQIECAAAECBNICDhPpeZQjQIAAAQIECBAgQIAAAQIECBAgQIAAAQIECBAgQIAAAQIECBAgQIAAAQIECBAgQIAAAQIEHgGHiUdNhgABAgQIECBAgAABAgQIECBAgAABAgQIECBAgAABAgQIECBAgAABAgQIECBAgAABAgQIEEgLOEyk51GOAAECBAgQIECAAAECBAgQIECAAAECBAgQIECAAAECBAgQIECAAAECBAgQIECAAAECBAgQeAQcJh41GQIECBAgQIAAAQIECBAgQIAAAQIECBAgQIAAAQIECBAgQIAAAQIECBAgQIAAAQIECBAgQCAt4DCRnkc5AgQIECBAgAABAgQIECBAgAABAgQIECBAgAABAgQIECBAgAABAgQIECBAgAABAgQIECBA4BFwmHjUZAgQIECAAAECBAgQIECAAAECBAgQIECAAAECBAgQIECAAAECBAgQIECAAAECBAgQIECAAIG0gMNEeh7lCBAgQIAAAQIECBAgQIAAAQIECBAgQIAAAQIECBAgQIAAAQIECBAgQIAAAQIECBAgQIAAgUfAYeJRkyFAgAABAgQIECBAgAABAgQIECBAgAABAgQIECBAgAABAgQIECBAgAABAgQIECBAgAABAgTSAg4T6XmUI0CAAAECBAgQIECAAAECBAgQIECAAAECBAgQIECAAAECBAgQIECAAAECBAgQIECAAAECBB4Bh4lHTYYAAQIECBAgQIAAAQIECBAgQIAAAQIECBAgQIAAAQIECBAgQIAAAQIECBAgQIAAAQIECBBICzhMpOdRjgABAgQIECBAgAABAgQIECBAgAABAgQIECBAgAABAgQIECBAgAABAgQIECBAgAABAgQIEHgEHCYeNRkCBAgQIECAAAECBAgQIECAAAECBAgQIECAAAECBAgQIECAAAECBAgQIECAAAECBAgQIEAgLeAwkZ5HOQIECBAgQIAAAQIECBAgQIAAAQIECBAgQIAAAQIECBAgQIAAAQIECBAgQIAAAQIECBAgQOARcJh41GQIECBAgAABAgQIECBAgAABAgQIECBAgAABAgQIECBAgAABAgQIECBAgAABAgQIECBAgACBtIDDRHoe5QgQIECAAAECBAgQIECAAAECBAgQIECAAAECBAgQIECAAAECBAgQIECAAAECBAgQIECAAIFHwGHiUZMhQIAAAQIECBAgQIAAAQIECBAgQIAAAQIECBAgQIAAAQIECBAgQIAAAQIECBAgQIAAAQIE0gIOE+l5lCNAgAABAgQIECBAgAABAgQIECBAgAABAgQIECBAgAABAgQIECBAgAABAgQIECBAgAABAgQeAYeJR02GAAECBAgQIECAAAECBAgQIECAAAECBAgQIECAAAECBAgQIECAAAECBAgQIECAAAECBAgQSAs4TKTnUY4AAQIECBAgQIAAAQIECBAgQIAAAQIECBAgQIAAAQIECBAgQIAAAQIECBAgQIAAAQIECBB4BBwmHjUZAgQIECBAgAABAgQIECBAgAABAgQIECBAgAABAgQIECBAgAABAgQIECBAgAABAgQIECBAIC3gMJGeRzkCBAgQIECAAAECBAgQIECAAAECBAgQIECAAAECBAgQIECAAAECBAgQIECAAAECBAgQIEDgEXCYeNRkCBAgQIAAAQIECBAgQIAAAQIECBAgQIAAAQIECBAgQIAAAQIECBAgQIAAAQIECBAgQIAAgbSAw0R6HuUIECBAgAABAgQIECBAgAABAgQIECBAgAABAgQIECBAgAABAgQIECBAgAABAgQIECBAgACBR8Bh4lGTIUCAAAECBAgQIECAAAECBAgQIECAAAECBAgQIECAAAECBAgQIECAAAECBAgQIECAAAECBNICDhPpeZQjQIAAAQIECBAgQIAAAQIECBAgQIAAAQIECBAgQIAAAQIECBAgQIAAAQIECBAgQIAAAQIEHgGHiUdNhgABAgQIECBAgAABAgQIECBAgAABAgQIECBAgAABAgQIECBAgAABAgQIECBAgAABAgQIEEgLOEyk51GOAAECBAgQIECAAAECBAgQIECAAAECBAgQIECAAAECBAgQIECAAAECBAgQIECAAAECBAgQeAQcJh41GQIECBAgQIAAAQIECBAgQIAAAQIECBAgQIAAAQIECBAgQIAAAQIECBAgQIAAAQIECBAgQCAt4DCRnkc5AgQIECBAgAABAgQIECBAgAABAgQIECBAgAABAgQIECBAgAABAgQIECBAgAABAgQIECBA4BFwmHjUZAgQIECAAAECBAgQIECAAAECBAgQIECAAAECBAgQIECAAAECBAgQIECAAAECBAgQIECAAIG0gMNEeh7lCBAgQIAAAQIECBAgQIAAAQIECBAgQIAAAQIECBAgQIAAAQIECBAgQIAAAQIECBAgQIAAgUfAYeJRkyFAgAABAgQIECBAgAABAgQIECBAgAABAgQIECBAgAABAgQIECBAgAABAgQIECBAgAABAgTSAg4T6XmUI0CAAAECBAgQIECAAAECBAgQIECAAAECBAgQIECAAAECBAgQIECAAAECBAgQIECAAAECBB4Bh4lHTYYAAQIECBAgQIAAAQIECBAgQIAAAQIECBAgQIAAAQIECBAgQIAAAQIECBAgQIAAAQIECBBICzhMpOdRjgABAgQIECBAgAABAgQIECBAgAABAgQIECBAgAABAgQIECBAgAABAgQIECBAgAABAgQIEHgEHCYeNRkCBAgQIECAAAECBAgQIECAAAECBAgQIECAAAECBAgQIECAAAECBAgQIECAAAECBAgQIEAgLeAwkZ5HOQIECBAgQIAAAQIECBAgQIAAAQIECBAgQIAAAQIECBAgQIAAAQIECBAgQIAAAQIECBAgQOARcJh41GQIECBAgAABAgQIECBAgAABAgQIECBAgAABAgQIECBAgAABAgQIECBAgAABAgQIECBAgACBtIDDRHoe5QgQIECAAAECBAgQIECAAAECBAgQIECAAAECBAgQIECAAAECBAgQIECAAAECBAgQIECAAIFHwGHiUZMhQIAAAQIECBAgQIAAAQIECBAgQIAAAQIECBAgQIAAAQIECBAgQIAAAQIECBAgQIAAAQIE0gIOE+l5lCNAgAABAgQIECBAgAABAgQIECBAgAABAgQIECBAgAABAgQIECBAgAABAgQIECBAgAABAgQeAYeJR02GAAECBAgQIECAAAECBAgQIECAAAECBAgQIECAAAECBAgQIECAAAECBAgQIECAAAECBAgQSAs4TKTnUY4AAQIECBAgQIAAAQIECBAgQIAAAQIECBAgQIAAAQIECBAgQIAAAQIECBAgQIAAAQIECBB4BBwmHjUZAgQIECBAgAABAgQIECBAgAABAgQIECBAgAABAgQIECBAgAABAgQIECBAgAABAgQIECBAIC3gMJGeRzkCBAgQIECAAAECBAgQIECAAAECBAgQIECAAAECBAgQIECAAAECBAgQIECAAAECBAgQIEDgEXCYeNRkCBAgQIAAAQIECBAgQIAAAQIECBAgQIAAAQIECBAgQIAAAQIECBAgQIAAAQIECBAgQIAAgbSAw0R6HuUIECBAgAABAgQIECBAgAABAgQIECBAgAABAgQIECBAgAABAgQIECBAgAABAgQIECBAgACBR8Bh4lGTIUCAAAECBAgQIECAAAECBAgQIECAAAECBAgQIECAAAECBAgQIECAAAECBAgQIECAAAECBNICDhPpeZQjQIAAAQIECBAgQIAAAQIECBAgQIAAAQIECBAgQIAAAQIECBAgQIAAAQIECBAgQIAAAQIEHgGHiUdNhgABAgQIECBAgAABAgQIECBAgAABAgQIECBAgAABAgQIECBAgAABAgQIECBAgAABAgQIEEgLOEyk51GOAAECBAgQIECAAAECBAgQIECAAAECBAgQIECAAAECBAgQIECAAAECBAgQIECAAAECBAgQeAQcJh41GQIECBAgQIAAAQIECBAgQIAAAQIECBAgQIAAAQIECBAgQIAAAQIECBAgQIAAAQIECBAgQCAt4DCRnkc5AgQIECBAgAABAgQIECBAgAABAgQIECBAgAABAgQIECBAgAABAgQIECBAgAABAgQIECBA4BFwmHjUZAgQIECAAAECBAgQIECAAAECBAgQIECAAAECBAgQIECAAAECBAgQIECAAAECBAgQIECAAIG0gMNEeh7lCBAgQIAAAQIECBAgQIAAAQIECBAgQIAAAQIECBAgQIAAAQIECBAgQIAAAQIECBAgQIAAgUfAYeJRkyFAgAABAgQIECBAgAABAgQIECBAgAABAgQIECBAgAABAgQIECBAgAABAgQIECBAgAABAgTSAg4T6XmUI0CAAAECBAgQIECAAAECBAgQIECAAAECBAgQIECAAAECBAgQIECAAAECBAgQIECAAAECBB4Bh4lHTYYAAQIECBAgQIAAAQIECBAgQIAAAQIECBAgQIAAAQIECBAgQIAAAQIECBAgQIAAAQIECBBICzhMpOdRjgABAgQIECBAgAABAgQIECBAgAABAgQIECBAgAABAgQIECBAgAABAgQIECBAgAABAgQIEHgEHCYeNRkCBAgQIECAAAECBAgQIECAAAECBAgQIECAAAECBAgQIECAAAECBAgQIECAAAECBAgQIEAgLeAwkZ5HOQIECBAgQIAAAQIECBAgQIAAAQIECBAgQIAAAQIECBAgQIAAAQIECBAgQIAAAQIECBAgQOARcJh41GQIECBAgAABAgQIECBAgAABAgQIECBAgAABAgQIECBAgAABAgQIECBAgAABAgQIECBAgACBtIDDRHoe5QgQIECAAAECBAgQIECAAAECBAgQIECAAAECBAgQIECAAAECBAgQIECAAAECBAgQIECAAIFHwGHiUZMhQIAAAQIECBAgQIAAAQIECBAgQIAAAQIECBAgQIAAAQIECBAgQIAAAQIECBAgQIAAAQIE0gIOE+l5lCNAgAABAgQIECBAgAABAgQIECBAgAABAgQIECBAgAABAgQIECBAgAABAgQIECBAgAABAgQeAYeJR02GAAECBAgQIECAAAECBAgQIECAAAECBAgQIECAAAECBAgQIECAAAECBAgQIECAAAECBAgQSAs4TKTnUY4AAQIECBAgQIAAAQIECBAgQIAAAQIECBAgQIAAAQIECBAgQIAAAQIECBAgQIAAAQIECBB4BBwmHjUZAgQIECBAgAABAgQNam/IAAAgAElEQVQIECBAgAABAgQIECBAgAABAgQIECBAgAABAgQIECBAgAABAgQIECBAIC3gMJGeRzkCBAgQIECAAAECBAgQIECAAAECBAgQIECAAAECBAgQIECAAAECBAgQIECAAAECBAgQIEDgEXCYeNRkCBAgQIAAAQIECBAgQIAAAQIECBAgQIAAAQIECBAgQIAAAQIECBAgQIAAAQIECBAgQIAAgbSAw0R6HuUIECBAgAABAgQIECBAgAABAgQIECBAgAABAgQIECBAgAABAgQIECBAgAABAgQIECBAgACBR8Bh4lGTIUCAAAECBAgQIECAAAECBAgQIECAAAECBAgQIECAAAECBAgQIECAAAECBAgQIECAAAECBNICDhPpeZQjQIAAAQIECBAgQIAAAQIECBAgQIAAAQIECBAgQIAAAQIECBAgQIAAAQIECBAgQIAAAQIEHgGHiUdNhgABAgQIECBAgAABAgQIECBAgAABAgQIECBAgAABAgQIECBAgAABAgQIECBAgAABAgQIEEgLOEyk51GOAAECBAgQIECAAAECBAgQIECAAAECBAgQIECAAAECBAgQIECAAAECBAgQIECAAAECBAgQeAQcJh41GQIECBAgQIAAAQIECBAgQIAAAQIECBAgQIAAAQIECBAgQIAAAQIECBAgQIAAAQIECBAgQCAt4DCRnkc5AgQIECBAgAABAgQIECBAgAABAgQIECBAgAABAgQIECBAgAABAgQIECBAgAABAgQIECBA4BFwmHjUZAgQIECAAAECBAgQIECAAAECBAgQIECAAAECBAgQIECAAAECBAgQIECAAAECBAgQIECAAIG0gMNEeh7lCBAgQIAAAQIECBAgQIAAAQIECBAgQIAAAQIECBAgQIAAAQIECBAgQIAAAQIECBAgQIAAgUfAYeJRkyFAgAABAgQIECBAgAABAgQIECBAgAABAgQIECBAgAABAgQIECBAgAABAgQIECBAgAABAgTSAg4T6XmUI0CAAAECBAgQIECAAAECBAgQIECAAAECBAgQIECAAAECBAgQIECAAAECBAgQIECAAAECBB4Bh4lHTYYAAQIECBAgQIAAAQIECBAgQIAAAQIECBAgQIAAAQIECBAgQIAAAQIECBAgQIAAAQIECBBICzhMpOdRjgABAgQIECBAgAABAgQIECBAgAABAgQIECBAgAABAgQIECBAgAABAgQIECBAgAABAgQIjH07pgEAAEAY5t81HnZxVAAJKTcEioDDRFGTIUCAAAECBAgQIECAAAECBAgQIECAAAECBAgQIECAAAECBAgQIECAAAECBAgQIECAAAECBK4FHCau51GOAAECBAgQIECAAAECBAgQIECAAAECBAgQIECAAAECBAgQIECAAAECBAgQIECAAAECBAgQKAIOE0VNhgABAgQIECBAgAABAgQIECBAgAABAgQIECBAgAABAgQIECBAgAABAgQIECBAgAABAgQIELgWcJi4nkc5AgQIECBAgAABAgQIECBAgAABAgQIECBAgAABAgQIECBAgAABAgQIECBAgAABAgQIECBAoAg4TBQ1GQIECBAgQIAAAQIECBAgQIAAAQIECBAgQIAAAQIECBAgQIAAAQIECBAgQIAAAQIECBAgQOBawGHieh7lCBAgQIAAAQIECBAgQIAAAQIECBAgQIAAAQIECBAgQIAAAQIECBAgQIAAAQIECBAgQIAAgSLgMFHUZAgQIECAAAECBAgQIECAAAECBAgQIECAAAECBAgQIECAAAECBAgQIECAAAECBAgQIECAAIFrAYeJ63mUI0CAAAECBAgQIECAAAECBAgQIECAAAECBAgQIECAAAECBAgQIECAAAECBAgQIECAAAECBIqAw0RRkyFAgAABAgQIECBAgAABAgQIECBAgAABAgQIECBAgAABAgQIECBAgAABAgQIECBAgAABAgSuBRwmrudRjgABAgQIECBAgAABAgQIECBAgAABAgQIECBAgAABAgQIECBAgAABAgQIECBAgAABAgQIECgCDhNFTYYAAQIECBAgQIAAAQIECBAgQIAAAQIECBAgQIAAAQIECBAgQIAAAQIECBAgQIAAAQIECBC4FnCYuJ5HOQIECBAgQIAAAQIECBAgQIAAAQIECBAgQIAAAQIECBAgQIAAAQIECBAgQIAAAQIECBAgQKAIOEwUNRkCBAgQIECAAAECBAgQIECAAAECBAgQIECAAAECBAgQIECAAAECBAgQIECAAAECBAgQIEDgWsBh4noe5QgQIECAAAECBAgQIECAAAECBAgQIECAAAECBAgQIECAAAECBAgQIECAAAECBAgQIECAAIEi4DBR1GQIECBAgAABAgQIECBAgAABAgQIECBAgAABAgQIECBAgAABAgQIECBAgAABAgQIECBAgACBawGHiet5lCNAgAABAgQIECBAgAABAgQIECBAgAABAgQIECBAgAABAgQIECBAgAABAgQIECBAgAABAgSKgMNEUZMhQIAAAQIECBAgQIAAAQIECBAgQIAAAQIECBAgQIAAAQIECBAgQIAAAQIECBAgQIAAAQIErgUcJq7nUY4AAQIECBAgQIAAAQIECBAgQIAAAQIECBAgQIAAAQIECBAgQIAAAQIECBAgQIAAAQIECBAoAg4TRU2GAAECBAgQIECAAAECBAgQIECAAAECBAgQIECAAAECBAgQIECAAAECBAgQIECAAAECBAgQuBZwmLieRzkCBAgQIECAAAECBAgQIECAAAECBAgQIECAAAECBAgQIECAAAECBAgQIECAAAECBAgQIECgCDhMFDUZAgQIECBAgAABAgQIECBAgAABAgQIECBAgAABAgQIECBAgAABAgQIECBAgAABAgQIECBA4FrAYeJ6HuUIECBAgAABAgQIECBAgAABAgQIECBAgAABAgQIECBAgAABAgQIECBAgAABAgQIECBAgACBIuAwUdRkCBAgQIAAAQIECBAgQIAAAQIECBAgQIAAAQIECBAgQIAAAQIECBAgQIAAAQIECBAgQIAAgWsBh4nreZQjQIAAAQIECBAgQIAAAQIECBAgQIAAAQIECBAgQIAAAQIECBAgQIAAAQIECBAgQIAAAQIEioDDRFGTIUCAAAECBAgQIECAAAECBAgQIECAAAECBAgQIECAAAECBAgQIECAAAECBAgQIECAAAECBK4FHCau51GOAAECBAgQIECAAAECBAgQIECAAAECBAgQIECAAAECBAgQIECAAAECBAgQIECAAAECBAgQKAIOE0VNhgABAgQIECBAgAABAgQIECBAgAABAgQIECBAgAABAgQIECBAgAABAgQIECBAgAABAgQIELgWcJi4nkc5AgQIECBAgAABAgQIECBAgAABAgQIECBAgAABAgQIECBAgAABAgQIECBAgAABAgQIECBAoAg4TBQ1GQIECBAgQIAAAQIECBAgQIAAAQIECBAgQIAAAQIECBAgQIAAAQIECBAgQIAAAQIECBAgQOBawGHieh7lCBAgQIAAAQIECBAgQIAAAQIECBAgQIAAAQIECBAgQIAAAQIECBAgQIAAAQIECBAgQIAAgSLgMFHUZAgQIECAAAECBAgQIECAAAECBAgQIECAAAECBAgQIECAAAECBAgQIECAAAECBAgQIECAAIFrAYeJ63mUI0CAAAECBAgQIECAAAECBAgQIECAAAECBAgQIECAAAECBAgQIECAAAECBAgQIECAAAECBIqAw0RRkyFAgAABAgQIECBAgAABAgQIECBAgAABAgQIECBAgAABAgQIECBAgAABAgQIECBAgAABAgSuBRwmrudRjgABAgQIECBAgAABAgQIECBAgAABAgQIECBAgAABAgQIECBAgAABAgQIECBAgAABAgQIECgCDhNFTYYAAQIECBAgQIAAAQIECBAgQIAAAQIECBAgQIAAAQIECBAgQIAAAQIECBAgQIAAAQIECBC4FnCYuJ5HOQIECBAgQIAAAQIECBAgQIAAAQIECBAgQIAAAQIECBAgQIAAAQIECBAgQIAAAQIECBAgQKAIOEwUNRkCBAgQIECAAAECBAgQIECAAAECBAgQIECAAAECBAgQIECAAAECBAgQIECAAAECBAgQIEDgWsBh4noe5QgQIECAAAECBAgQIECAAAECBAgQIECAAAECBAgQIECAAAECBAgQIECAAAECBAgQIECAAIEi4DBR1GQIECBAgAABAgQIECBAgAABAgQIECBAgAABAgQIECBAgAABAgQIECBAgAABAgQIECBAgACBawGHiet5lCNAgAABAgQIECBAgAABAgQIECBAgAABAgQIECBAgAABAgQIECBAgAABAgQIECBAgAABAgSKgMNEUZMhQIAAAQIECBAgQIAAAQIECBAgQIAAAQIECBAgQIAAAQIECBAgQIAAAQIECBAgQIAAAQIErgUcJq7nUY4AAQIECBAgQIAAAQIECBAgQIAAAQIECBAgQIAAAQIECBAgQIAAAQIECBAgQIAAAQIECBAoAg4TRU2GAAECBAgQIECAAAECBAgQIECAAAECBAgQIECAAAECBAgQIECAAAECBAgQIECAAAECBAgQuBZwmLieRzkCBAgQIECAAAECBAgQIECAAAECBAgQIECAAAECBAgQIECAAAECBAgQIECAAAECBAgQIECgCDhMFDUZAgQIECBAgAABAgQIECBAgAABAgQIECBAgAABAgQIECBAgAABAgQIECBAgAABAgQIECBA4FrAYeJ6HuUIECBAgAABAgQIECBAgAABAgQIECBAgAABAgQIECBAgAABAgQIECBAgAABAgQIECBAgACBIuAwUdRkCBAgQIAAAQIECBAgQIAAAQIECBAgQIAAAQIECBAgQIAAAQIECBAgQIAAAQIECBAgQIAAgWsBh4nreZQjQIAAAQIECBAgQIAAAQIECBAgQIAAAQIECBAgQIAAAQIECBAgQIAAAQIECBAgQIAAAQIEioDDRFGTIUCAAAECBAgQIECAAAECBAgQIECAAAECBAgQIECAAAECBAgQIECAAAECBAgQIECAAAECBK4FHCau51GOAAECBAgQIECAAAECBAgQIECAAAECBAgQIECAAAECBAgQIECAAAECBAgQIECAAAECBAgQKAIOE0VNhgABAgQIECBAgAABAgQIECBAgAABAgQIECBAgAABAgQIECBAgAABAgQIECBAgAABAgQIELgWcJi4nkc5AgQIECBAgAABAgQIECBAgAABAgQIECBAgAABAgQIECBAgAABAgQIECBAgAABAgQIECBAoAg4TBQ1GQIECBAgQIAAAQIECBAgQIAAAQIECBAgQIAAAQIECBAgQIAAAQIECBAgQIAAAQIECBAgQOBawGHieh7lCBAgQIAAAQIECBAgQIAAAQIECBAgQIAAAQIECBAgQIAAAQIECBAgQIAAAQIECBAgQIAAgSLgMFHUZAgQIECAAAECBAgQIECAAAECBAgQIECAAAECBAgQIECAAAECBAgQIECAAAECBAgQIECAAIFrAYeJ63mUI0CAAAECBAgQIECAAAECBAgQIECAAAECBAgQIECAAAECBAgQIECAAAECBAgQIECAAAECBIqAw0RRkyFAgAABAgQIECBAgAABAgQIECBAgAABAgQIECBAgAABAgQIECBAgAABAgQIECBAgAABAgSuBRwmrudRjgABAgQIECBAgAABAgQIECBAgAABAgQIECBAgAABAgQIECBAgAABAgQIECBAgAABAgQIECgCDhNFTYYAAQIECBAgQIAAAQIECBAgQIAAAQIECBAgQIAAAQIECBAgQIAAAQIECBAgQIAAAQIECBC4FnCYuJ5HOQIECBAgQIAAAQIECBAgQIAAAQIECBAgQIAAAQIECBAgQIAAAQIECBAgQIAAAQIECBAgQKAIOEwUNRkCBAgQIECAAAECBAgQIECAAAECBAgQIECAAAECBAgQIECAAAECBAgQIECAAAECBAgQIEDgWsBh4noe5QgQIECAAAECBAgQIECAAAECBAgQIECAAAECBAgQIECAAAECBAgQIECAAAECBAgQIECAAIEi4DBR1GQIECBAgAABAgQIECBAgAABAgQIECBAgAABAgQIECBAgAABAgQIECBAgAABAgQIECBAgACBawGHiet5lCNAgAABAgQIECBAgAABAgQIECBAgAABAgQIECBAgAABAgQIECBAgAABAgQIECBAgAABAgSKgMNEUZMhQIAAAQIECBAgQIAAAQIECBAgQIAAAQIECBAgQIAAAQIECBAgQIAAAQIECBAgQIAAAQIErgUcJq7nUY4AAQIECBAgQIAAAQIECBAgQIAAAQIECBAgQIAAAQIECBAgQIAAAQIECBAgQIAAAQIECBAoAg4TRU2GAAECBAgQIECAAAECBAgQIECAAAECBAgQIECAAAECBAgQIECAAAECBAgQIECAAAECBAgQuBZwmLieRzkCBAgQIECAAAECBAgQIECAAAECBAgQIECAAAECBAgQIECAAAECBAgQIECAAAECBAgQIECgCDhMFDUZAgQIECBAgAABAgQIECBAgAABAgQIECBAgAABAgQIECBAgAABAgQIECBAgAABAgQIECBA4FrAYeJ6HuUIECBAgAABAgQIECBAgAABAgQIECBAgAABAgQIECBAgAABAgQIECBAgAABAgQIECBAgACBIuAwUdRkCBAgQIAAAQIECBAgQIAAAQIECBAgQIAAAQIECBAgQIAAAQIECBAgQIAAAQIECBAgQIAAgWsBh4nreZQjQIAAAQIECBAgQIAAAQIECBAgQIAAAQIECBAgQIAAAQIECBAgQIAAAQIECBAgQIAAAQIEioDDRFGTIUCAAAECBAgQIECAAAECBAgQIECAAAECBAgQIECAAAECBAgQIECAAAECBAgQIECAAAECBK4FHCau51GOAAECBAgQIECAAAECBAgQIECAAAECBAgQIECAAAECBAgQIECAAAECBAgQIECAAAECBAgQKAIOE0VNhgABAgQIECBAgAABAgQIECBAgAABAgQIECBAgAABAgQIECBAgAABAgQIECBAgAABAgQIELgWcJi4nkc5AgQIECBAgAABAgQIECBAgAABAgQIECBAgAABAgQIECBAgAABAgQIECBAgAABAgQIECBAoAg4TBQ1GQIECBAgQIAAAQIECBAgQIAAAQIECBAgQIAAAQIECBAgQIAAAQIECBAgQIAAAQIECBAgQOBawGHieh7lCBAgQIAAAQIECBAgQIAAAQIECBAgQIAAAQIECBAgQIAAAQIECBAgQIAAAQIECBAgQIAAgSLgMFHUZAgQIECAAAECBAgQIECAAAECBAgQIECAAAECBAgQIECAAAECBAgQIECAAAECBAgQIECAAIFrAYeJ63mUI0CAAAECBAgQIECAAAECBAgQIECAAAECBAgQIECAAAECBAgQIECAAAECBAgQIECAAAECBIqAw0RRkyFAgAABAgQIECBAgAABAgQIECBAgAABAgQIECBAgAABAgQIECBAgAABAgQIECBAgAABAgSuBRwmrudRjgABAgQIECBAgAABAgQIECBAgAABAgQIECBAgAABAgQIECBAgAABAgQIECBAgAABAgQIECgCDhNFTYYAAQIECBAgQIAAAQIECBAgQIAAAQIECBAgQIAAAQIECBAgQIAAAQIECBAgQIAAAQIECBC4FnCYuJ5HOQIECBAgQIAAAQIECBAgQIAAAQIECBAgQIAAAQIECBAgQIAAAQIECBAgQIAAAQIECBAgQKAIOEwUNRkCBAgQIECAAAECBAgQIECAAAECBAgQIECAAAECBAgQIECAAAECBAgQIECAAAECBAgQIEDgWsBh4noe5QgQIECAAAECBAgQIECAAAECBAgQIECAAAECBAgQIECAAAECBAgQIECAAAECBAgQIECAAIEi4DBR1GQIECBAgAABAgQIECBAgAABAgQIECBAgAABAgQIECBAgAABAgQIECBAgAABAgQIECBAgACBawGHiet5lCNAgAABAgQIECBAgAABAgQIECBAgAABAgQIECBAgAABAgQIECBAgAABAgQIECBAgAABAgSKgMNEUZMhQIAAAQIECBAgQIAAAQIECBAgQIAAAQIECBAgQIAAAQIECBAgQIAAAQIECBAgQIAAAQIErgUcJq7nUY4AAQIECBAgQIAAAQIECBAgQIAAAQIECBAgQIAAAQIECBAgQIAAAQIECBAgQIAAAQIECBAoAg4TRU2GAAECBAgQIECAAAECBAgQIECAAAECBAgQIECAAAECBAgQIECAAAECBAgQIECAAAECBAgQuBZwmLieRzkCBAgQIECAAAECBAgQIECAAAECBAgQIECAAAECBAgQIECAAAECBAgQIECAAAECBAgQIECgCDhMFDUZAgQIECBAgAABAgQIECBAgAABAgQIECBAgAABAgQIECBAgAABAgQIECBAgAABAgQIECBA4FrAYeJ6HuUIECBAgAABAgQIECBAgAABAgQIECBAgAABAgQIECBAgAABAgQIECBAgAABAgQIECBAgACBIuAwUdRkCBAgQIAAAQIECBAgQIAAAQIECBAgQIAAAQIECBAgQIAAAQIECBAgQIAAAQIECBAgQIAAgWsBh4nreZQjQIAAAQIECBAgQIAAAQIECBAgQIAAAQIECBAgQIAAAQIECBAgQIAAAQIECBAgQIAAAQIEioDDRFGTIUCAAAECBAgQIECAAAECBAgQIECAAAECBAgQIECAAAECBAgQIECAAAECBAgQIECAAAECBK4FHCau51GOAAECBAgQIECAAAECBAgQIECAAAECBAgQIECAAAECBAgQIECAAAECBAgQIECAAAECBAgQKAIOE0VNhgABAgQIECBAgAABAgQIECBAgAABAgQIECBAgAABAgQIECBAgAABAgQIECBAgAABAgQIELgWcJi4nkc5AgQIECBAgAABAgQIECBAgAABAgQIECBAgAABAgQIECBAgAABAgQIECBAgAABAgQIECBAoAg4TBQ1GQIECBAgQIAAAQIECBAgQIAAAQIECBAgQIAAAQIECBAgQIAAAQIECBAgQIAAAQIECBAgQOBawGHieh7lCBAgQIAAAQIECBAgQIAAAQIECBAgQIAAAQIECBAgQIAAAQIECBAgQIAAAQIECBAgQIAAgSLgMFHUZAgQIECAAAECBAgQIECAAAECBAgQIECAAAECBAgQIECAAAECBAgQIECAAAECBAgQIECAAIFrAYeJ63mUI0CAAAECBAgQIECAAAECBAgQIECAAAECBAgQIECAAAECBAgQIECAAAECBAgQIECAAAECBIqAw0RRkyFAgAABAgQIECBAgAABAgQIECBAgAABAgQIECBAgAABAgQIECBAgAABAgQIECBAgAABAgSuBRwmrudRjgABAgQIECBAgAABAgQIECBAgAABAgQIECBAgAABAgQIECBAgAABAgQIECBAgAABAgQIECgCDhNFTYYAAQIECBAgQIAAAQIECBAgQIAAAQIECBAgQIAAAQIECBAgQIAAAQIECBAgQIAAAQIECBC4FnCYuJ5HOQIECBAgQIAAAQIECBAgQIAAAQIECBAgQIAAAQIECBAgQIAAAQIECBAgQIAAAQIECBAgQKAIOEwUNRkCBAgQIECAAAECBAgQIECAAAECBAgQIECAAAECBAgQIECAAAECBAgQIECAAAECBAgQIEDgWsBh4noe5QgQIECAAAECBAgQIECAAAECBAgQIECAAAECBAgQIECAAAECBAgQIECAAAECBAgQIECAAIEi4DBR1GQIECBAgAABAgQIECBAgAABAgQIECBAgAABAgQIECBAgAABAgQIECBAgAABAgQIECBAgACBawGHiet5lCNAgAABAgQIECBAgAABAgQIECBAgAABAgQIECBAgAABAgQIECBAgAABAgQIECBAgAABAgSKgMNEUZMhQIAAAQIECBAgQIAAAQIECBAgQIAAAQIECBAgQIAAAQIECBAgQIAAAQIECBAgQIAAAQIErgUcJq7nUY4AAQIECBAgQIAAAQIECBAgQIAAAQIECBAgQIAAAQIECBAgQIAAAQIECBAgQIAAAQIECBAoAg4TRU2GAAECBAgQIECAAAECBAgQIECAAAECBAgQIECAAAECBAgQIECAAAECBAgQIECAAAECBAgQuBZwmLieRzkCBAgQIECAAAECBAgQIECAAAECBAgQIECAAAECBAgQIECAAAECBAgQIECAAAECBAgQIECgCDhMFDUZAgQIECBAgAABAgQIECBAgAABAgQIECBAgAABAgQIECBAgAABAgQIECBAgAABAgQIECBA4FrAYeJ6HuUIECBAgAABAgQIECBAgAABAgQIECBAgAABAgQIECBAgAABAgQIECBAgAABAgQIECBAgACBIuAwUdRkCBAgQIAAAQIECBAgQIAAAQIECBAgQIAAAQIECBAgQIAAAQIECBAgQIAAAQIECBAgQIAAgWsBh4nreZQjQIAAAQIECBAgQIAAAQIECBAgQIAAAQIECBAgQIAAAQIECBAgQIAAAQIECBAgQIAAAQIEioDDRFGTIUCAAAECBAgQIECAAAECBAgQIECAAAECBAgQIECAAAECBAgQIECAAAECBAgQIECAAAECBK4FHCau51GOAAECBAgQIECAAAECBAgQIECAAAECBAgQIECAAAECBAgQIECAAAECBAgQIECAAAECBAgQKAIOE0VNhgABAgQIECBAgAABAgQIECBAgAABAgQIECBAgAABAgQIECBAgAABAgQIECBAgAABAgQIELgWcJi4nkc5AgQIECBAgAABAgQIECBAgAABAgQIECBAgAABAgQIECBAgGg14OYAACAASURBVAABAgQIECBAgAABAgQIECBAoAg4TBQ1GQIECBAgQIAAAQIECBAgQIAAAQIECBAgQIAAAQIECBAgQIAAAQIECBAgQIAAAQIECBAgQOBawGHieh7lCBAgQIAAAQIECBAgQIAAAQIECBAgQIAAAQIECBAgQIAAAQIECBAgQIAAAQIECBAgQIAAgSLgMFHUZAgQIECAAAECBAgQIECAAAECBAgQIECAAAECBAgQIECAAAECBAgQIECAAAECBAgQIECAAIFrAYeJ63mUI0CAAAECBAgQIECAAAECBAgQIECAAAECBAgQIECAAAECBAgQIECAAAECBAgQIECAAAECBIqAw0RRkyFAgAABAgQIECBAgAABAgQIECBAgAABAgQIECBAgAABAgQIECBAgAABAgQIECBAgAABAgSuBRwmrudRjgABAgQIECBAgAABAgQIECBAgAABAgQIECBAgAABAgQIECBAgAABAgQIECBAgAABAgQIECgCDhNFTYYAAQIECBAgQIAAAQIECBAgQIAAAQIECBAgQIAAAQIECBAgQIAAAQIECBAgQIAAAQIECBC4FnCYuJ5HOQIECBAgQIAAAQIECBAgQIAAAQIECBAgQIAAAQIECBAgQIAAAQIECBAgQIAAAQIECBAgQKAIOEwUNRkCBAgQIECAAAECBAgQIECAAAECBAgQIECAAAECBAgQIECAAAECBAgQIECAAAECBAgQIEDgWsBh4noe5QgQIECAAAECBAgQIECAAAECBAgQIECAAAECBAgQIECAAAECBAgQIECAAAECBAgQIECAAIEi4DBR1GQIECBAgAABAgQIECBAgAABAgQIECBAgAABAgQIECBAgAABAgQIECBAgAABAgQIECBAgACBawGHiet5lCNAgAABAgQIECBAgAABAgQIECBAgAABAgQIECBAgAABAgQIECBAgAABAgQIECBAgAABAgSKgMNEUZMhQIAAAQIECBAgQIAAAQIECBAgQIAAAQIECBAgQIAAAQIECBAgQIAAAQIECBAgQIAAAQIErgUcJq7nUY4AAQIECBAgQIAAAQIECBAgQIAAAQIECBAgQIAAAQIECBAgQIAAAQIECBAgQIAAAQIECBAoAg4TRU2GAAECBAgQIECAAAECBAgQIECAAAECBAgQIECAAAECBAgQIECAAAECBAgQIECAAAECBAgQuBZwmLieRzkCBAgQIECAAAECBAgQIECAAAECBAgQIECAAAECBAgQIECAAAECBAgQIECAAAECBAgQIECgCDhMFDUZAgQIECBAgAABAgQIECBAgAABAgQIECBAgAABAgQIECBAgAABAgQIECBAgAABAgQIECBA4FrAYeJ6HuUIECBAgAABAgQIECBAgAABAgQIECBAgAABAgQIECBAgAABAgQIECBAgAABAgQIECBAgACBIuAwUdRkCBAgQIAAAQIECBAgQIAAAQIECBAgQIAAAQIECBAgQIAAAQIECBAgQIAAAQIECBAgQIAAgWsBh4nreZQjQIAAAQIECBAgQIAAAQIECBAgQIAAAQIECBAgQIAAAQIECBAgQIAAAQIECBAgQIAAAQIEioDDRFGTIUCAAAECBAgQIECAAAECBAgQIECAAAECBAgQIECAAAECBAgQIECAAAECBAgQIECAAAECBK4FHCau51GOAAECBAgQIECAAAECBAgQIECAAAECBAgQIECAAAECBAgQIECAAAECBAgQIECAAAECBAgQKAIOE0VNhgABAgQIECBAgAABAgQIECBAgAABAgQIECBAgAABAgQIECBAgAABAgQIECBAgAABAgQIELgWcJi4nkc5AgQIECBAgAABAgQIECBAgAABAgQIECBAgAABAgQIECBAgAABAgQIECBAgAABAgQIECBAoAg4TBQ1GQIECBAgQIAAAQIECBAgQIAAAQIECBAgQIAAAQIECBAgQIAAAQIECBAgQIAAAQIECBAgQOBawGHieh7lCBAgQIAAAQIECBAgQIAAAQIECBAgQIAAAQIECBAgQIAAAQIECBAgQIAAAQIECBAgQIAAgSLgMFHUZAgQIECAAAECBAgQIECAAAECBAgQIECAAAECBAgQIECAAAECBAgQIECAAAECBAgQIECAAIFrAYeJ63mUI0CAAAECBAgQIECAAAECBAgQIECAAAECBAgQIECAAAECBAgQIECAAAECBAgQIECAAAECBIqAw0RRkyFAgAABAgQIECBAgAABAgQIECBAgAABAgQIECBAgAABAgQIECBAgAABAgQIECBAgAABAgSuBRwmrudRjgABAgQIECBAgAABAgQIECBAgAABAgQIECBAgAABAgQIECBAgAABAgQIECBAgAABAgQIECgCDhNFTYYAAQIECBAgQIAAAQIECBAgQIAAAQIECBAgQIAAAQIECBAgQIAAAQIECBAgQIAAAQIECBC4FnCYuJ5HOQIECBAgQIAAAQIECBAgQIAAAQIECBAgQIAAAQIECBAgQIAAAQIECBAgQIAAAQIECBAgQKAIOEwUNRkCBAgQIECAAAECBAgQIECAAAECBAgQIECAAAECBAgQIECAAAECBAgQIECAAAECBAgQIEDgWsBh4noe5QgQIECAAAECBAgQIECAAAECBAgQIECAAAECBAgQIECAAAECBAgQIECAAAECBAgQIECAAIEi4DBR1GQIECBAgAABAgQIECBAgAABAgQIECBAgAABAgQIECBAgAABAgQIECBAgAABAgQIECBAgACBawGHiet5lCNAgAABAgQIECBAgAABAgQIECBAgAABAgQIECBAgAABAgQIECBAgAABAgQIECBAgAABAgSKgMNEUZMhQIAAAQIECBAgQIAAAQIECBAgQIAAAQIECBAgQIAAAQIECBAgQIAAAQIECBAgQIAAAQIErgUcJq7nUY4AAQIECBAgQIAAAQIECBAgQIAAAQIECBAgQIAAAQIECBAgQIAAAQIECBAgQIAAAQIECBAoAg4TRU2GAAECBAgQIECAAAECBAgQIECAAAECBAgQIECAAAECBAgQIECAAAECBAgQIECAAAECBAgQuBZwmLieRzkCBAgQIECAAAECBAgQIECAAAECBAgQIECAAAECBAgQIECAAAECBAgQIECAAAECBAgQIECgCDhMFDUZAgQIECBAgAABAgQIECBAgAABAgQIECBAgAABAgQIECBAgAABAgQIECBAgAABAgQIECBA4FrAYeJ6HuUIECBAgAABAgQIECBAgAABAgQIECBAgAABAgQIECBAgAABAgQIECBAgAABAgQIECBAgACBIuAwUdRkCBAgQIAAAQIECBAgQIAAAQIECBAgQIAAAQIECBAgQIAAAQIECBAgQIAAAQIECBAgQIAAgWsBh4nreZQjQIAAAQIECBAgQIAAAQIECBAgQIAAAQIECBAgQIAAAQIECBAgQIAAAQIECBAgQIAAAQIEioDDRFGTIUCAAAECBAgQIECAAAECBAgQIECAAAECBAgQIECAAAECBAgQIECAAAECBAgQIECAAAECBK4FHCau51GOAAECBAgQIECAAAECBAgQIECAAAECBAgQIECAAAECBAgQIECAAAECBAgQIECAAAECBAgQKAIOE0VNhgABAgQIECBAgAABAgQIECBAgAABAgQIECBAgAABAgQIECBAgAABAgQIECBAgAABAgQIELgWcJi4nkc5AgQIECBAgAABAgQIECBAgAABAgQIECBAgAABAgQIECBAgAABAgQIECBAgAABAgQIECBAoAg4TBQ1GQIECBAgQIAAAQIECBAgQIAAAQIECBAgQIAAAQIECBAgQIAAAQIECBAgQIAAAQIECBAgQOBawGHieh7lCBAgQIAAAQIECBAgQIAAAQIECBAgQIAAAQIECBAgQIAAAQIECBAgQIAAAQIECBAgQIAAgSLgMFHUZAgQIECAAAECBAgQIECAAAECBAgQIECAAAECBAgQIECAAAECBAgQIECAAAECBAgQIECAAIFrAYeJ63mUI0CAAAECBAgQIECAAAECBAgQIECAAAECBAgQIECAAAECBAgQIECAAAECBAgQIECAAAECBIqAw0RRkyFAgAABAgQIECBAgAABAgQIECBAgAABAgQIECBAgAABAgQIECBAgAABAgQIECBAgAABAgSuBRwmrudRjgABAgQIECBAgAABAgQIECBAgAABAgQIECBAgAABAgQIECBAgAABAgQIECBAgAABAgQIECgCDhNFTYYAAQIECBAgQIAAAQIECBAgQIAAAQIECBAgQIAAAQIECBAgQIAAAQIECBAgQIAAAQIECBC4FnCYuJ5HOQIECBAgQIAAAQIECBAgQIAAAQIECBAgQIAAAQIECBAgQIAAAQIECBAgQIAAAQIECBAgQKAIOEwUNRkCBAgQIECAAAECBAgQIECAAAECBAgQIECAAAECBAgQIECAAAECBAgQIECAAAECBAgQIEDgWsBh4noe5QgQIECAAAECBAgQIECAAAECBAgQIECAAAECBAgQIECAAAECBAgQIECAAAECBAgQIECAAIEi4DBR1GQIECBAgAABAgQIECBAgAABAgQIECBAgAABAgQIECBAgAABAgQIECBAgAABAgQIECBAgACBawGHiet5lCNAgAABAgQIECBAgAABAgQIECBAgAABAgQIECBAgAABAgQIECBAgAABAgQIECBAgAABAgSKgMNEUZMhQIAAAQIECBAgQIAAAQIECBAgQIAAAQIECBAgQIAAAQIECBAgQIAAAQIECBAgQIAAAQIErgUcJq7nUY4AAQIECBAgQIAAAQIECBAgQIAAAQIECBAgQIAAAQIECBAgQIAAAQIECBAgQIAAAQIECBAoAg4TRU2GAAECBAgQIECAAAECBAgQIECAAAECBAgQIECAAAECBAgQIECAAAECBAgQIECAAAECBAgQuBZwmLieRzkCBAgQIECAAAECBAgQIECAAAECBAgQIECAAAECBAgQIECAAAECBAgQIECAAAECBAgQIECgCDhMFDUZAgQIECBAgAABAgQIECBAgAABAgQIECBAgAABAgQIECBAgAABAgQIECBAgAABAgQIECBA4FrAYeJ6HuUIECBAgAABAgQIECBAgAABAgQIECBAgAABAgQIECBAgAABAgQIECBAgAABAgQIECBAgACBIuAwUdRkCBAgQIAAAQIECBAgQIAAAQIECBAgQIAAAQIECBAgQIAAAQIECBAgQIAAAQIECBAgQIAAgWsBh4nreZQjQIAAAQIECBAgQIAAAQIECBAgQIAAAQIECBAgQIAAAQIECBAgQIAAAQIECBAgQIAAAQIEioDDRFGTIUCAAAECBAgQIECAAAECBAgQIECAAAECBAgQIECAAAECBAgQIECAAAECBAgQIECAAAECBK4FHCau51GOAAECBAgQIECAAAECBAgQIECAAAECBAgQIECAAAECBAgQIECAAAECBAgQIECAAAECBAgQKAIOE0VNhgABAgQIECBAgAABAgQIECBAgAABAgQIECBAgAABAgQIECBAgAABAgQIECBAgAABAgQIELgWcJi4nkc5AgQIECBAgAABAgQIECBAgAABAgQIECBAgAABAgQIECBAgAABAgQIECBAgAABAgQIECBAoAg4TBQ1GQIECBAgQIAAAQIECBAgQIAAAQIECBAgQIAAAQIECBAgQIAAAQIECBAgQIAAAQIECBAgQOBawGHieh7lCBAgQIAAAQIECBAgQIAAAQIECBAgQIAAAQIECBAgQIAAAQIECBAgQIAAAQIECBAgQIAAgSLgMFHUZAgQIECAAAECBAgQIECAAAECBAgQIECAAAECBAgQIECAAAECBAgQIECAAAECBAgQIECAAIFrAYeJ63mUI0CAAAECBAgQIECAAAECBAgQIECAAAECBAgQIECAAAECBAgQIECAAAECBAgQIECAAAECBIqAw0RRkyFAgAABAgQIECBAgAABAgQIECBAgAABAgQIECBAgAABAgQIECBAgAABAgQIECBAgAABAgSuBRwmrudRjgABAgQIECBAgAABAgQIECBAgAABAgQIECBAgAABAgQIECBAgAABAgQIECBAgAABAgQIECgCDhNFTYYAAQIECBAgQIAAAQIECBAgQIAAAQIECBAgQIAAAQIECBAgQIAAAQIECBAgQIAAAQIECBC4FnCYuJ5HOQIECBAgQIAAAQIECBAgQIAAAQIECBAgQIAAAQIECBAgQIAAAQIECBAgQIAAAQIECBAgQKAIOEwUNRkCBAgQIECAAAECBAgQIECAAAECBAgQIECAAAECBAgQIECAAAECBAgQIECAAAECBAgQIEDgWsBh4noe5QgQIECAAAECBAgQIECAAAECBAgQIECAAAECBAgQIECAAAECBAgQIECAAAECBAgQIECAAIEi4DBR1GQIECBAgAABAgQIECBAgAABAgQIECBAgAABAgQIECBAgAABAgQIECBAgAABAgQIECBAgACBawGHiet5lCNAgAABAgQIECBAgAABAgQIECBAgAABAgQIECBAgAABAgQIECBAgAABAgQIECBAgAABAgSKgMNEUZMhQIAAAQIECBAgQIAAAQIECBAgQIAAAQIECBAgQIAAAQIECBAgQIAAAQIECBAgQIAAAQIErgUcJq7nUY4AAQIECBAgQIAAAQIECBAgQIAAAQIECBAgQIAAAQIECBAgQIAAAQIECBAgQIAAAQIECBAoAg4TRU2GAAECBAgQIECAAAECBAgQIECAAAECBAgQIECAAAECBAgQIECAAAECBAgQIECAAAECBAgQuBZwmLieRzkCBAgQIECAAAECBAgQIECAAAECBAgQIECAAAECBAgQIECAAAECBAgQIECAAAECBAgQIECgCDhMFDUZAgQIECBAgAABAgQIECBAgAABAgQIECBAgAABAgQIECBAgAABAgQIECBAgAABAgQIECBA4FrAYeJ6HuUIECBAgAABAgQIECBAgAABAgQIECBAgAABAgQIECBAgAABAgQIECBAgAABAgQIECBAgACBIuAwUdRkCBAgQIAAAQIECBAgQIAAAQIECBAgQIAAAQIECBAgQIAAAQIECBAgQIAAAQIECBAgQIAAgWsBh4nreZQjQIAAAQIECBAgQIAAAQIECBAgQIAAAQIECBAgQIAAAQIECBAgQIAAAQIECBAgQIAAAQIEioDDRFGTIUCAAAECBAgQIECAAAECBAgQIECAAAECBAgQIECAAAECBAgQIECAAAECBAgQIECAAAECBK4FHCau51GOAAECBAgQIECAAAECBAgQIECAAAECBAgQIECAAAECBAgQIECAAAECBAgQIECAAAECBAgQKAIOE0VNhgABAgQIECBAgAABAgQIECBAgAABAgQIECBAgAABAgQIECBAgAABAgQIECBAgAABAgQIELgWcJi4nkc5AgQIECBAgAABAgQIECBAgAABAgQIECBAgAABAgQIECBAgAABAgQIECBAgAABAgQIECBAoAg4TBQ1GQIECBAgQIAAAQIECBAgQIAAAQIECBAgQIAAAQIECBAgQIAAAQIECBAgQIAAAQIECBAgQOBawGHieh7lCBAgQIAAAQIECBAgQIAAAQIECBAgQIAAAQIECBAgQIAAAQIECBAgQIAAAQIECBAgQIAAgSLgMFHUZAgQIECAAAECBAgQIECAAAECBAgQIECAAAECBAgQIECAAAECBAgQIECAAAECBAgQIECAAIFrAYeJ63mUI0CAAAECBAgQIECAAAECBAgQIECAAAECBAgQIECAAAECBAgQIECAAAECBAgQIECAAAECBIqAw0RRkyFAgAABAgQIECBAgAABAgQIECBAgAABAgQIECBAgAABAgQIECBAgAABAgQIECBAgAABAgSuBRwmrudRjgABAgQIECBAgAABAgQIECBAgAABAgQIECBAgAABAgQIECBAgAABAgQIECBAgAABAgQIECgCDhNFTYYAAQIECBAgQIAAAQIECBAgQIAAAQIECBAgQIAAAQIECBAgQIAAAQIECBAgQIAAAQIECBC4FnCYuJ5HOQIECBAgQIAAAQIECBAgQIAAAQIECBAgQIAAAQIECBAgQIAAAQIECBAgQIAAAQIECBAgQKAIOEwUNRkCBAgQIECAAAECBAgQIECAAAECBAgQIECAAAECBAgQIECAAAECBAgQIECAAAECBAgQIEDgWsBh4noe5QgQIECAAAECBAgQIECAAAECBAgQIECAAAECBAgQIECAAAECBAgQIECAAAECBAgQIECAAIEi4DBR1GQIECBAgAABAgQIECBAgAABAgQIECBAgAABAgQIECBAgAABAgQIECBAgAABAgQIECBAgACBawGHiet5lCNAgAABAgQIECBAgAABAgQIECBAgAABAgQIECBAgAABAgQIECBAgAABAgQIECBAgAABAgSKgMNEUZMhQIAAAQIECBAgQIAAAQIECBAgQIAAAQIECBAgQIAAAQIECBAgQIAAAQIECBAgQIAAAQIErgUcJq7nUY4AAQIECBAgQIAAAQIECBAgQIAAAQIECBAgQIAAAQIECBAgQIAAAQIECBAgQIAAAQIECBAoAg4TRU2GAAECBAgQIECAAAECBAgQIECAAAECBAgQIECAAAECBAgQIECAAAECBAgQIECAAAECBAgQuBZwmLieRzkCBAgQIECAAAECBAgQIECAAAECBAgQIECAAAECBAgQIECAAAECBAgQIECAAAECBAgQIECgCDhMFDUZAgQIECBAgAABAgQIECBAgAABAgQIECBAgAABAgQIECBAgAABAgQIECBAgAABAgQIECBA4FrAYeJ6HuUIECBAgAABAgQIECBAgAABAgQIECBAgAABAgQIECBAgAABAgQIECBAgAABAgQIECBAgACBIuAwUdRkCBAgQIAAAQIECBAgQIAAAQIECBAgQIAAAQIECBAgQIAAAQIECBAgQIAAAQIECBAgQIAAgWsBh4nreZQjQIAAAQIECBAgQIAAAQIECBAgQIAAAQIECBAgQIAAAQIECBAgQIAAAQIECBAgQIAAAQIEioDDRFGTIUCAAAECBAgQIECAAAECBAgQIECAAAECBAgQIECAAAECBAgQIECAAAECBAgQIECAAAECBK4FHCau51GOAAECBAgQIECAAAECBAgQIECAAAECBAgQIECAAAECBAgQIECAAAECBAgQIECAAAECBAgQKAIOE0VNhgABAgQIECBAgAABAgQIECBAgAABAgQIECBAgAABAgQIECBAgAABAgQIECBAgAABAgQIELgWcJi4nkc5AgQIECBAgAABAgQIECBAgAABAgQIECBAgAABAgQIECBAgAABAgQIECBAgAABAgQIECBAoAg4TBQ1GQIECBAgQIAAAQIECBAgQIAAAQIECBAgQIAAAQIECBAgQIAAAQIECBAgQIAAAQIECBAgQOBawGHieh7lCBAgQIAAAQIECBAgQIAAAQIECBAgQIAAAQIECBAgQIAAAQIECBAgQIAAAQIECBAgQIAAgSLgMFHUZAgQIECAAAECBAgQIECAAAECBAgQIECAAAECBAgQIECAAAECBAgQIECAAAECBAgQIECAAIFrAYeJ63mUI0CAAAECBAgQIECAAAECBAgQIECAAAECBAgQIECAAAECBAgQIECAAAECBAgQIECAAAECBIqAw0RRkyFAgAABAgQIECBAgAABAgQIECBAgAABAgQIECBAgAABAgQIECBAgAABAgQIECBAgAABAgSuBRwmrudRjgABAgQIECBAgAABAgQIECBAgAABAgQIECBAgAABAgQIECBAgAABAgQIECBAgAABAgQIECgCDhNFTYYAAQIECBAgQIAAAQIECBAgQIAAAQIECBAgQIAAAQIECBAgQIAAAQIECBAgQIAAAQIECBC4FnCYuJ5HOQIECBAgQIAAAQIECBAgQIAAAQIECBAgQIAAAQIECBAgQIAAAQIECBAgQIAAAQIECBAgQKAIOEwUNRkCBAgQIECAAAECBAgQIECAAAECBAgQIECAAAECBAgQIECAAAECBAgQIECAAAECBAgQIEDgWsBh4noe5QgQIECAAAECBAgQIECAAAECBAgQIECAAAECBAgQIECAAAECBAgQIECAAAECBAgQIECAAIEi4DBR1GQIECBAgAABAgQIECBAgAABAgQIECBAgAABAgQIECBAgAABAgQIECBAgAABAgQIECBAgACBawGHiet5lCNAgAABAgQIECBAgAABAgQIECBAgAABAgQIECBAgAABAgQIECBAgAABAgQIECBAgAABAgSKgMNEUZMhQIAAAQIECBAgQIAAAQIECBAgQIAAAQIECBAgQIAAAQIECBAgQIAAAQIECBAgQIAAAQIErgUcJq7nUY4AAQIECBAgQIAAAQIECBAgQIAAAQIECBAgQIAAAQIECBAgQIAAAQIECBAgQIAAAQIECBAoAg4TRU2GAAECBAgQIECAAAECBAgQIECAAAECBAgQIECAAAECBAgQIECAAAECBAgQIECAAAECBAgQuBZwmLieRzkCBAgQIECAAAECBAgQIECAAAECBAgQIECAAAECBAgQIECAAAECBAgQIECAAAECBAgQIECgCDhMFDUZAgQIECBAgAABAgQIECBAgAABAgQIECBAgAABAgQIECBAgAABAgQIECBAgAABAgQIECBA4FrAYeJ6HuUIECBAgAABAgQIECBAgAABAgQIECBAgAABAgQIECBAgAABAgQIECBAgAABAgQIECBAgACBIuAwUdRkCBAgQIAAAQIECBAgQIAAAQIECBAgQIAAAQIECBAgQIAAAQIECBAgQIAAAQIECBAgQIAAgWsBh4nreZQjQIAAAQIECBAgQIAAAQIECBAgmDUkuQAAIABJREFUQIAAAQIECBAgQIAAAQIECBAgQIAAAQIECBAgQIAAAQIEioDDRFGTIUCAAAECBAgQIECAAAECBAgQIECAAAECBAgQIECAAAECBAgQIECAAAECBAgQIECAAAECBK4FHCau51GOAAECBAgQIECAAAECBAgQIECAAAECBAgQIECAAAECBAgQIECAAAECBAgQIECAAAECBAgQKAIOE0VNhgABAgQIECBAgAABAgQIECBAgAABAgQIECBAgAABAgQIECBAgAABAgQIECBAgAABAgQIELgWcJi4nkc5AgQIECBAgAABAgQIECBAgAABAgQIECBAgAABAgQIECBAgAABAgQIECBAgAABAgQIECBAoAg4TBQ1GQIECBAgQIAAAQIECBAgQIAAAQIECBAgQIAAAQIECBAgQIAAAQIECBAgQIAAAQIECBAgQOBawGHieh7lCBAgQIAAAQIECBAgQIAAAQIECBAgQIAAAQIECBAgQIAAAQIECBAgQIAAAQIECBAgQIAAgSLgMFHUZAgQIECAAAECBAgQIECAAAECBAgQIECAAAECBAgQIECAAAECBAgQIECAAAECBAgQIECAAIFrAYeJ63mUI0CAAAECBAgQIECAAAECBAgQIECAAAECBAgQIECAAAECBAgQIECAAAECBAgQIECAAAECBIqAw0RRkyFAgAABAgQIECBAgAABAgQIECBAgAABAgQIECBAgAABAgQIECBAgAABAgQIECBAgAABAgSuBRwmrudRjgABAgQIECBAgAABAgQIECBAgAABAgQIECBAgAABAgQIECBAgAABAgQIECBAgAABAgQIECgCDhNFTYYAAQIECBAgQIAAAQIECBAgQIAAAQIECBAgQIAAAQIECBAgQIAAAQIECBAgQIAAAQIECBC4FnCYuJ5HOQIECBAgQIAAAQIECBAgQIAAAQIECBAgQIAAAQIECBAgQIAAAQIECBAgQIAAAQIECBAgQKAIOEwUNRkCBAgQIECAAAECBAgQIECAAAECBAgQIECAAAECBAgQIECAAAECBAgQIECAAAECBAgQIEDgWsBh4noe5QgQIECAAAECBAgQIECAAAECBAgQIECAAAECBAgQIECAAAECBAgQIECAAAECBAgQIECAAIEi4DBR1GQIECBAgAABAgQIECBAgAABAgQIECBAgAABAgQIECBAgAABAgQIECBAgAABAgQIECBAgACBawGHiet5lCNAgAABAgQIECBAgAABAgQIECBAgAABAgQIECBAgAABAgQIECBAgAABAgQIECBAgAABAgSKgMNEUZMhQIAAAQIECBAgQIAAAQIECBAgQIAAAQIECBAgQIAAAQIECBAgQIAAAQIECBAgQIAAAQIErgUcJq7nUY4AAQIECBAgQIAAAQIECBAgQIAAAQIECBAgQIAAAQIECBAgQIAAAQIECBAgQIAAAQIECBAoAg4TRU2GAAECBAgQIECAAAECBAgQIECAAAECBAgQIECAAAECBAgQIECAAAECBAgQIECAAAECBAgQuBZwmLieRzkCBAgQIECAAAECBAgQIECAAAECBAgQIECAAAECBAgQIECAAAECBAgQIECAAAECBAgQIECgCDhMFDUZAgQIECBAgAABAgQIECBAgAABAgQIECBAgAABAgQIECBAgAABAgQIECBAgAABAgQIECBA4FrAYeJ6HuUIECBAgAABAgQIECBAgAABAgQIECBAgAABAgQIECBAgAABAgQIECBAgAABAgQIECBAgACBIuAwUdRkCBAgQIAAAQIECBAgQIAAAQIECBAgQIAAAQIECBAgQIAAAQIECBAgQIAAAQIECBAgQIAAgWsBh4nreZQjQIAAAQIECBAgQIAAAQIECBAgQIAAAQIECBAgQIAAAQIECBAgQIAAAQIECBAgQIAAAQIEioDDRFGTIUCAAAECBAgQIECAAAECBAgQIECAAAECBAgQIECAAAECBAgQIECAAAECBAgQIECAAAECBK4FHCau51GOAAECBAgQIECAAAECBAgQIECAAAECBAgQIECAAAECBAgQIECAAAECBAgQIECAAAECBAgQKAIOE0VNhgABAgQIECBAgAABAgQIECBAgAABAgQIECBAgAABAgQIECBAgAABAgQIECBAgAABAgQIELgWcJi4nkc5AgQIECBAgAABAgQIECBAgAABAgQIECBAgAABAgQIECBAgAABAgQIECBAgAABAgQIECBAoAg4TBQ1GQIECBAgQIAAAQIECBAgQIAAAQIECBAgQIAAAQIECBAgQIAAAQIECBAgQIAAAQIECBAgQOBawGHieh7lCBAgQIAAAQIECBAgQIAAAQIECBAgQIAAAQIECBAgQIAAAQIECBAgQIAAAQIECBAgQIAAgSLgMFHUZAgQIECAAAECBAgQIECAAAECBAgQIECAAAECBAgQIECAAAECBAgQIECAAAECBAgQIECAAIFrAYeJ63mUI0CAAAECBAgQIECAAAECBAgQIECAAAECBAgQIECAAAECBAgQIECAAAECBAgQIECAAAECBIqAw0RRkyFAgAABAgQIECBAgAABAgQIECBAgAABAgQIECBAgAABAgQIECBAgAABAgQIECBAgAABAgSuBRwmrudRjgABAgQIECBAgAABAgQIECBAgAABAgQIECBAgAABAgQIECBAgAABAgQIECBAgAABAgQIECgCDhNFTYYAAQIECBAgQIAAAQIECBAgQIAAAQIECBAgQIAAAQIECBAgQIAAAQIECBAgQIAAAQIECBC4FnCYuJ5HOQIECBAgQIAAAQIECBAgQIAAAQIECBAgQIAAAQIECBAgQIAAAQIECBAgQIAAAQIECBAgQKAIOEwUNRkCBAgQIECAAAECBAgQIECAAAECBAgQIECAAAECBAgQIECAAAECBAgQIECAAAECBAgQIEDgWsBh4noe5QgQIECAAAECBAgQIECAAAECBAgQIECAAAECBAgQIECAAAECBAgQIECAAAECBAgQIECAAIEi4DBR1GQIECBAgAABAgQIECBAgAABAgQIECBAgAABAgQIECBAgAABAgQIECBAgAABAgQIECBAgACBawGHiet5lCNAgAABAgQIECBAgAABAgQIECBAgAABAgQIECBAgAABAgQIECBAgAABAgQIECBAgAABAgSKgMNEUZMhQIAAAQIECBAgQIAAAQIECBAgQIAAAQIECBAgQIAAAQIECBAgQIAAAQIECBAgQIAAAQIErgUcJq7nUY4AAQIECBAgQIAAAQIECBAgQIAAAQIECBAgQIAAAQIECBAgQIAAAQIECBAgQIAAAQIECBAoAg4TRU2GAAECBAgQIECAAAECBAgQIECAAAECBAgQIECAAAECBAgQIECAAAECBAgQIECAAAECBAgQuBZwmLieRzkCBAgQIECAAAECBAgQIECAAAECBAgQIECAAAECBAgQIECAAAECBAgQIECAAAECBAgQIECgCDhMFDUZAgQIECBAgAABAgQIECBAgAABAgQIECBAgAABAgQIECBAgAABAgQIECBAgAABAgQIECBA4FrAYeJ6HuUIECBAgAABAgQIECBAgAABAgQIECBAgAABAgQIECBAgAABAgQIECBAgAABAgQIECBAgACBIuAwUdRkCBAgQIAAAQIECBAgQIAAAQIECBAgQIAAAQIECBAgQIAAAQIECBAgQIAAAQIECBAgQIAAgWsBh4nreZQjQIAAAQIECBAgQIAAAQIECBAgQIAAAQIECBAgQIAAAQIECBAgQIAAAQIECBAgQIAAAQIEioDDRFGTIUCAAAECBAgQIECAAAECBAgQIECAAAECBAgQIECAAAECBAgQIECAAAECBAgQIECAAAECBK4FHCau51GOAAECBAgQIECAAAECBAgQIECAAAECBAgQIECAAAECBAgQIECAAAECBAgQIECAAAECBAgQKAIOE0VNhgABAgQIECBAgAABAgQIECBAgAABAgQIECBAgAABAgQIECBAgAABAgQIECBAgAABAgQIELgWcJi4nkc5AgQIECBAgAABAgQIECBAgAABAgQIECBAgAABAgQIECBAgAABAgQIECBAgAABAgQIECBAoAg4TBQ1GQIECBAgQIAAAQIECBAgQIAAAQIECBAgQIAAAQIECBAgQIAAAQIECBAgQIAAAQIECBAgQOBawGHieh7lCBAgQIAAAQIECBAgQIAAAQIECBAgQIAAAQIECBAgQIAAAQIECBAgQIAAAQIECBAgQIAAgSLgMFHUZAgQIECAAAECBAgQIECAAAECBAgQIECAAAECBAgQIECAAAECBAgQIECAAAECBAgQIECAAIFrAYeJ63mUI0CAAAECBAgQIECAAAECBAgQIECAAAECBAgQIECAAAECBAgQIECAAAECBAgQIECAAAECBIqAw0RRkyFAgAABAgQIECBAgAABAgQIECBAgAABAgQIECBAgAABAgQIECBAgAABAgQIECBAgAABAgSuBRwmrudRjgABAgQIECBAgAABAgQIECBAgAABAgQIECBAgAABAgQIECBAgAABAgQIECBAgAABAgQIECgCDhNFTYYAAQIECBAgQIAAAQIECBAgQIAAAQIECBAgQIAAAQIECBAgQIAAAQIECBAgQIAAAQIECBC4FnCYuJ5HOQIECBAgQIAAAQIECBAgQIAAAQIECBAgQIAAAQIECBAgQIAAAQIECBAgQIAAAQIECBAgQKAIOEwUNRkCBAgQIECAAAECBAgQIECAAAECBAgQIECAAAECBAgQIECAAAECBAgQIECAAAECBAgQIEDgWsBh4noe5QgQIECAAAECBAgQIECAAAECBAgQIECAAAECBAgQIECAAAECBAgQIECAAAECBAgQIECAAIEi4DBR1GQIECBAgAABAgQIECBAgAABAgQIECBAgAABAgQIECBAgAABAgQIECBAgAABAgQIECBAgACBawGHiet5lCNAgAABAgQIECBAgAABAgQIECBAgAABAgQIECBAgACBsW/HNAAAAAjD/LvGwy6OCiAh5YYAAQIECBAgQIAAAQIECBAgQIAAgSLgMFHUZAgQIECAAAECBAgQIECAAAECBAgQIECAAAECBAgQIECAAAECBAgQIECAAAECBAgQIECAAIFrAYeJ63mUI0CAAAECBAgQIECAAAECBAgQIECAAAECBAgQIECAAAECBAgQIECAAAECBAgQIECAAAECBIqAw0RRkyFAgAABAgQIECBAgAABAgQIECBAgAABAgQIECBAgAABAgQIECBAgAABAgQIECBAgAABAgSuBRwmrudRjgABAgQIECBAgAABAgQIECBAgAABAgQIECBAgAABAgQIECBAgAABAgQIECBAgAABAgQIECgCDhNFTYYAAQIECBAgQIAAAQIECBAgQIAAAQIECBAgQIAAAQIECBAgQIAAAQIECBAgQIAAAQIECBC4FnCYuJ5HOQIECBAgQIAAAQIECBAgQIAAAQIECBAgQIAAAQIECBAgQIAAAQIECBAgQIAAAQIECBAgQKAIOEwUNRkCBAgQIECAAAECBAgQIECAAAECBAgQIECAAAECBAgQIECAAAECBAgQIECAAAECBAgQIEDgWsBh4noe5QgQIECAAAECBAgQIECAAAECBAgQIECAAAECBAgQIECAAAECBAgQIECAAAECBAgQIECAAIEi4DBR1GQIECBAgAABAgQIECBAgAABAgQIECBAgAABAgQIECBAgAABAgQIECBAgAABAgQIECBAgACBawGHiet5lCNAgAABAgQIECBAgAABAgQIECBAgAABAgQIECBAgAABAgQIECBAgAABAgQIECBAgAABAgSKgMNEUZMhQIAAAQIECBAgQIAAAQIECBAgQIAAAQIECBAgQIAAAQIECBAgQIAAAQIECBAgQIAAAQIErgUcJq7nUY4AAQIECBAgQIAAAQIECBAgQIAAAQIECBAgQIAAAQIECBAgQIAAAQIECBAgQIAAAQIECBAoAg4TRU2GAAECBAgQIECAAAECBAgQIECAAAECBAgQIECAAAECBAgQIECAAAECBAgQIECAAAECBAgQuBZwmLieRzkCBAgQIECAAAECBAgQIECAAAECBAgQIECAAAECBAgQIECAAAECBAgQIECAAAECBAgQIECgCDhMFDUZAgQIECBAgAABAgQIECBAgAABAgQIECBAgAABAgQIECBAgAABAgQIECBAgAABAgQIECBA4FrAYeJ6HuUIECBAgAABAgQIECBAgAABAgQIECBAgAABAgQIECBAgAABAgQIECBAgAABAgQIECBAgACBIuAwUdRkCBAgQIAAAQIECBAgQIAAAQIECBAgQIAAAQIECBAgQIAAAQIECBAgQIAAAQIECBAgQIAAgWsBh4nreZQjQIAAAQIECBAgQIAAAQIECBAgQIAAAQIECBAgQIAAAQIECBAgQIAAAQIECBAgQIAAAQIEioDDRFGTIUCAAAECBAgQIECAAAECBAgQIECAAAECBAgQIECAAAECBAgQIECAAAECBAgQIECAAAECBK4FHCau51GOAAECBAgQIECAAAECBAgQIECAAAECBAgQIECAAAECBAgQIECAAAECBAgQIECAAAECBAgQKAIOE0VNhgABAgQIECBAgAABAgQIECBAgAABAgQIECBAgAABAgQIECBAgAABAgQIECBAgAABAgQIELgWcJi4nkc5AgQIECBAgAABAgQIECBAgAABAgQIECBAgAABAgQIECBAgAABAgQIECBAgAABAgQIECBAoAg4TBQ1GQIECBAgQIAAAQIECBAgQIAAAQIECBAgQIAAAQIECBAgQIAAAQIECBAgQIAAAQIECBAgQOBawGHieh7lCBAgQIAAAQIECBAgQIAAAQIECBAgQIAAAQIECBAgQIAAAQIECBAgQIAAAQIECBAgQIAAgSLgMFHUZAgQIECAAAECBAgQIECAAAECBAgQIECAAAECBAgQIECAAAECBAgQIECAAAECBAgQIECAAIFrAYeJ63mUI0CAAAECBAgQIECAAAECBAgQIECAAAECBAgQIECAAAECBAgQIECAAAECBAgQIECAAAECBIqAw0RRkyFAgAABAgQIECBAgAABAgQIECBAgAABAgQIECBAgAABAgQIECBAgAABAgQIECBAgAABAgSuBRwmrudRjgABAgQIECBAgAABAgQIECBAgAABAgQIECBAgAABAgQIECBAgAABAgQIECBAgAABAgQIECgCDhNFTYYAAQIECBAgQIAAAQIECBAgQIAAAQIECBAgQIAAAQIECBAgQIAAAQIECBAgQIAAAQIECBC4FnCYuJ5HOQIECBAgQIAAAQIECBAgQIAAAQIECBAgQIAAAQIECBAgQIAAAQIECBAgQIAAAQIECBAgQKAIOEwUNRkCBAgQIECAAAECBAgQIECAAAECBAgQIECAAAECBAgQIECAAAECBAgQIECAAAECBAgQIEDgWsBh4noe5QgQIECAAAECBAgQIECAAAECBAgQIECAAAECBAgQIECAAAECBAgQIECAAAECBAgQIECAAIEi4DBR1GQIECBAgAABAgQIECBAgAABAgQIECBAgAABAgQIECBAgAABAgQIECBAgAABAgQIECBAgACBawGHiet5lCNAgAABAgQIECBAgAABAgQIECBAgAABAgQIECBAgAABAgQIECBAgAABAgQIECBAgAABAgSKgMNEUZMhQIAAAQIECBAgQIAAAQIECBAgQIAAAQIECBAgQIAAAQIECBAgQIAAAQIECBAgQIAAAQIErgUcJq7nUY4AAQIECBAgQIAAAQIECBAgQIAAAQIECBAgQIAAAQIECBAgQIAAAQIECBAgQIAAAQIECBAoAg4TRU2GAAECBAgQIECAAAECBAgQIECAAAECBAgQIECAAAECBAgQIECAAAECBAgQIECAAAECBAgQuBZwmLieRzkCBAgQIECAAAECBAgQIECAAAECBAgQIECAAAECBAgQIECAAAECBAgQIECAAAECBAgQIECgCDhMFDUZAgQIECBAgAABAgQIECBAgAABAgQIECBAgAABAgQIECBAgAABAgQIECBAgAABAgQIECBA4FrAYeJ6HuUIECBAgAABAgQIECBAgAABAgQIECBAgAABAgQIECBAgAABAgQIECBAgAABAgQIECBAgACBIuAwUdRkCBAgQIAAAQIECBAgQIAAAQIECBAgQIAAAQIECBAgQIAAAQIECBAgQIAAAQIECBAgQIAAgWsBh4nreZQjQIAAAQIECBAgQIAAAQIECBAgQIAAAQIECBAgQIAAAQIECBAgQIAAAQIECBAgQIAAAQIEioDDRFGTIUCAAAECBAgQIECAAAECBAgQIECAAAECBAgQIECAAAECBAgQIECAAAECBAgQIECAAAECBK4FHCau51GOAAECBAgQIECAAAECBAgQIECAAAECBAgQIECAAAECBAgQIECAAAECBAgQIECAAAECBAgQKAIOE0VNhgABAgQIECBAgAABAgQIECBAgAABAgQIECBAgAABAgQIECBAgAABAgQIECBAgAABAgQIELgWcJi4nkc5AgQIECBAgAABAgQIECBAgAABAgQIECBAgAABAgQIECBAgAABAgQIECBAgAABAgQIECBAoAg4TBQ1GQIECBAgQIAAAQIECBAgQIAAAQIECBAgQIAAAQIECBAgQIAAAQIECBAgQIAAAQIECBAgQOBawGHieh7lCBAgQIAAAQIECBAgQIAAAQIECBAgQIAAAQIECBAgQIAAAQIECBAgQIAAAQIECBAgQIAAgSLgMFHUZAgQIECAAAECBAgQIECAAAECBAgQIECAAAECBAgQIECAAAECBAgQIECAAAECBAgQIECAAIFrAYeJ63mUI0CAAAECBAgQIECAAAECBAgQIECAAAECBAgQIECAAAECBAgQIECAAAECBAgQIECAAAECBIqAw0RRkyFAgAABAgQIECBAgAABAgQIECBAgAABAgQIECBAgAABAgQIECBAgAABAgQIECBAgAABAgSuBRwmrudRjgABAgQIECBAgAABAgQIECBAgAABAgQIECBAgAABAgQIECBAgAABAgQIECBAgAABAgQIECgCDhNFTYYAAQIECBAgQIAAAQIECBAgQIAAAQIECBAgQIAAAQIECBAgQIAAAQIECBAgQIAAAQIECBC4FnCYuJ5HOQIECBAgQIAAAQIECBAgQIAAAQIECBAgQIAAAQIECBAgQIAAAQIECBAgQIAAAQIECBAgQKAIOEwUNRkCBAgQIECAAAECBAgQIECAAAECBAgQIECAAAECBAgQIECAAAECBAgQIECAAAECBAgQIEDgWsBh4noe5QgQIECAAAECBAgQIECAAAECBAgQIECAAAECBAgQIECAAAECBAgQIECAAAECBAgQIECAAIEi4DBR1GQIECBAgAABAgQIECBAgAABAgQIECBAgAABAgQIECBAgAABAgQIECBAgAABAgQIECBAgACBawGHiet5lCNAgAABAgQIECBAgAABAgQIECBAgAABAgQIECBAgAABAgQIECBAgAABAgQIECBAgAABAgSKgMNEUZMhQIAAAQIECBAgQIAAAQIECBAgQIAAAQIECBAgQIAAAQIECBAgQIAAAQIECBAgQIAAAQIErgUcJq7nUY4AAQIECBAgQIAAAQIECBAgQIAAAQIECBAgQIAAAQIECBAgQIAAAQIECBAgQIAAAQIECBAoAg4TRU2GAAECBAgQIECAAAECBAgQIECAAAECBAgQIECAAAECBAgQIECAAAECBAgQIECAAAECBAgQuBZwmLieRzkCBAgQIECAAAECBAgQIECAAAECBAgQIECAAAECBAgQIECAAAECBAgQIECAAAECBAgQIECgCDhMFDUZAgQIECBAgAABAgQIECBAgAABAgQIECBAgAABAgQIECBAgAABAgQIECBAgAABAgQIECBA4FrAYeJ6HuUIECBAgAABAgQIECBAgAABAgQIECBAgAABAgQIECBAgAABAgQIECBAgAABAgQIECBAgACBIuAwUdRkCBAgQIAAAQIECBAgQIAAAQIECBAgQIAAAQIECBAgQIAAAQIECBAgQIAAAQIECBAgQIAAgWsBh4nreZQjQIAAAQIECBAgQIAAAQIECBAgQIAAAQIECBAgQIAAAQIECBAgQIAAAQIECBAgQIAAAQIEioDDRFGTIUCAAAECBAgQIECAAAECBAgQIECAAAECBAgQIECAAAECBAgQIECAAAECBAgQIECAAAECBK4FHCau51GOAAECBAgQIECAAAECBAgQIECAAAECBAgQIECAAAECBAgQIECAAAECBAgQIECAAAECBAgQKAIOE0VNhgABAgQIECBAgAABAgQIECBAgAABAgQIECBAgAABAgQIECBAgAABAgQIECBAgAABAgQIELgWcJi4nkc5AgQIECBAgAABAgQIECBAgAABAgQIECBAgAABAgQIECBAgAABAgQIECBAgAABAgQIECBAoAg4TBQ1GQIECBAgQIAAAQIECBAgQIAAAQIECBAgQIAAAQIECBAgQIAAAQIECBAgQIAAAQIECBAgQOBawGHieh7lCBAgQIAAAQIECBAgQIAAAQIECBAgQIAAAQIECBAgQIAAAQIECBAgQIAAAQIECBAgQIAAgSLgMFHUZAgQIECAAAECBAgQIECAAAECBAgQIECAAAECBAgQIECAAAECBAgQIECAAAECBAgQIECAAIFrAYeJ63mUI0CAAAECBAgQIECAAAECBAgQIECAAAECBAgQIECAAAECBAgQIECAAAECBAgQIECAAAECBIqAw0RRkyFAgAABAgQIECBAgAABAgQIECBAgAABAgQIECBAgAABAgQIECBAgAABAgQ3X3pvAAAgAElEQVQIECBAgAABAgSuBRwmrudRjgABAgQIECBAgAABAgQIECBAgAABAgQIECBAgAABAgQIECBAgAABAgQIECBAgAABAgQIECgCDhNFTYYAAQIECBAgQIAAAQIECBAgQIAAAQIECBAgQIAAAQIECBAgQIAAAQIECBAgQIAAAQIECBC4FnCYuJ5HOQIECBAgQIAAAQIECBAgQIAAAQIECBAgQIAAAQIECBAgQIAAAQIECBAgQIAAAQIECBAgQKAIOEwUNRkCBAgQIECAAAECBAgQIECAAAECBAgQIECAAAECBAgQIECAAAECBAgQIECAAAECBAgQIEDgWsBh4noe5QgQIECAAAECBAgQIECAAAECBAgQIECAAAECBAgQIECAAAECBAgQIECAAAECBAgQIECAAIEi4DBR1GQIECBAgAABAgQIECBAgAABAgQIECBAgAABAgQIECBAgAABAgQIECBAgAABAgQIECBAgACBawGHiet5lCNAgAABAgQIECBAgAABAgQIECBAgAABAgQIECBAgAABAgQIECBAgAABAgQIECBAgAABAgSKgMNEUZMhQIAAAQIECBAgQIAAAQIECBAgQIAAAQIECBAgQIAAAQIECBAgQIAAAQIECBAgQIAAAQIErgUcJq7nUY4AAQIECBAgQIAAAQIECBAgQIAAAQIECBAgQIAAAQIECBAgQIAAAQIECBAgQIAAAQIECBAoAg4TRU2GAAECBAgQIECAAAECBAgQIECAAAECBAgQIECAAAECBAgQIECAAAECBAgQIECAAAECBAgQuBZwmLieRzkCBAgQIECAAAECBAgQIECAAAECBAgQIECAAAECBAgQIECAAAECBAgQIECAAAECBAgQIECgCDhMFDUZAgQIECBAgAABAgQIECBAgAABAgQIECBAgAABAgQIECBAgAABAgQIECBAgAABAgQIECBA4FrAYeJ6HuUIECBAgAABAgQIECBAgAABAgQIECBAgAABAgQIECBAgAABAgQIECBAgAABAgQIECBAgACBIuAwUdRkCBAgQIAAAQIECBAgQIAAAQIECBAgQIAAAQIECBAgQIAAAQIECBAgQIAAAQIECBAgQIAAgWsBh4nreZQjQIAAAQIECBAgQIAAAQIECBAgQIAAAQIECBAgQIAAAQIECBAgQIAAAQIECBAgQIAAAQIEioDDRFGTIUCAAAECBAgQIECAAAECBAgQIECAAAECBAgQIECAAAECBAgQIECAAAECBAgQIECAAAECBK4FHCau51GOAAECBAgQIECAAAECBAgQIECAAAECBAgQIECAAAECBAgQIECAAAECBAgQIECAAAECBAgQKAIOE0VNhgABAgQIECBAgAABAgQIECBAgAABAgQIECBAgAABAgQIECBAgAABAgQIECBAgAABAgQIELgWcJi4nkc5AgQIECBAgAABAgQIECBAgAABAgQIECBAgAABAgQIECBAgAABAgQIECBAgAABAgQIECBAoAg4TBQ1GQIECBAgQIAAAQIECBAgQIAAAQIECBAgQIAAAQIECBAgQIAAAQIECBAgQIAAAQIECBAgQOBawGHieh7lCBAgQIAAAQIECBAgQIAAAQIECBAgQIAAAQIECBAgQIAAAQIECBAgQIAAAQIECBAgQIAAgSLgMFHUZAgQIECAAAECBAgQIECAAAECBAgQIECAAAECBAgQIECAAAECBAgQIECAAAECBAgQIECAAIFrAYeJ63mUI0CAAAECBAgQIECAAAECBAgQIECAAAECBAgQIECAAAECBAgQIECAAAECBAgQIECAAAECBIqAw0RRkyFAgAABAgQIECBAgAABAgQIECBAgAABAgQIECBAgAABAgQIECBAgAABAgQIECBAgAABAgSuBRwmrudRjgABAgQIECBAgAABAgQIECBAgAABAgQIECBAgAABAgQIECBAgAABAgQIECBAgAABAgQIECgCDhNFTYYAAQIECBAgQIAAAQIECBAgQIAAAQIECBAgQIAAAQIECBAgQIAAAQIECBAgQIAAAQIECBC4FnCYuJ5HOQIECBAgQIAAAQIECBAgQIAAAQIECBAgQIAAAQIECBAgQIAAAQIECBAgQIAAAQIECBAgQKAIOEwUNRkCBAgQIECAAAECBAgQIECAAAECBAgQIECAAAECBAgQIECAAAECBAgQIECAAAECBAgQIEDgWsBh4noe5QgQIECAAAECBAgQIECAAAECBAgQIECAAAECBAgQIECAAAECBAgQIECAAAECBAgQIECAAIEi4DBR1GQIECBAgAABAgQIECBAgAABAgQIECBAgAABAgQIECBAgAABAgQIECBAgAABAgQIECBAgACBawGHiet5lCNAgAABAgQIECBAgAABAgQIECBAgAABAgQIECBAgAABAgQIECBAgAABAgQIECBAgAABAgSKgMNEUZMhQIAAAQIECBAgQIAAAQIECBAgQIAAAQIECBAgQIAAAQIECBAgQIAAAQIECBAgQIAAAQIErgUcJq7nUY4AAQIECBAgQIAAAQIECBAgQIAAAQIECBAgQIAAAQIECBAgQIAAAQIECBAgQIAAAQIECBAoAg4TRU2GAAECBAgQIECAAAECBAgQIECAAAECBAgQIECAAAECBAgQIECAAAECBAgQIECAAAECBAgQuBZwmLieRzkCBAgQIECAAAECBAgQIECAAAECBAgQIECAAAECBAgQIECAAAECBAgQIECAAAECBAgQIECgCDhMFDUZAgQIECBAgAABAgQIECBAgAABAgQIECBAgAABAgQIECBAgAABAgQIECBAgAABAgQIECBA4FrAYeJ6HuUIECBAgAABAgQIECBAgAABAgQIECBAgAABAgQIECBAgAABAgQIECBAgAABAgQIECBAgACBIuAwUdRkCBAgQIAAAQIECBAgQIAAAQIECBAgQIAAAQIECBAgQIAAAQIECBAgQIAAAQIECBAgQIAAgWsBh4nreZQjQIAAAQIECBAgQIAAAQIECBAgQIAAAQIECBAgQIAAAQIECBAgQIAAAQIECBAgQIAAAQIEioDDRFGTIUCAAAECBAgQIECAAAECBAgQIECAAAECBAgQIECAAAECBAgQIECAAAECBAgQIECAAAECBK4FHCau51GOAAECBAgQIECAAAECBAgQIECAAAECBAgQIECAAAECBAgQIECAAAECBAgQIECAAAECBAgQKAIOE0VNhgABAgQIECBAgAABAgQIECBAgAABAgQIECBAgAABAgQIECBAgAABAgQIECBAgAABAgQIELgWcJi4nkc5AgQIECBAgAABAgQIECBAgAABAgQIECBAgAABAgQIECBAgAABAgQIECBAgAABAgQIECBAoAg4TBQ1GQIECBAgQIAAAQIECBAgQIAAAQIECBAgQIAAAQIECBAgQIAAAQIECBAgQIAAAQIECBAgQOBawGHieh7lCBAgQIAAAQIECBAgQIAAAQIECBAgQIAAAQIECBAgQIAAAQIECBAgQIAAAQIECBAgQIAAgSLgMFHUZAgQIECAAAECBAgQIECAAAECBAgQIECAAAECBAgQIECAAAECBAgQIECAAAECBAgQIECAAIFrAYeJ63mUI0CAAAECBAgQIECAAAECBAgQIECAAAECBAgQIECAAAECBAgQIECAAAECBAgQIECAAAECBIqAw0RRkyFAgAABAgQIECBAgAABAgQIECBAgAABAgQIECBAgAABAgQIECBAgAABAgQIECBAgAABAgSuBRwmrudRjgABAgQIECBAgAABAgQIECBAgAABAgQIECBAgAABAgQIECBAgAABAgQIECBAgAABAgQIECgCDhNFTYYAAQIECBAgQIAAAQIECBAgQIAAAQIECBAgQIAAAQIECBAgQIAAAQIECBAgQIAAAQIECBC4FnCYuJ5HOQIECBAgQIAAAQIECBAgQIAAAQIECBAgQIAAAQIECBAgQIAAAQIECBAgQIAAAQIECBAgQKAIOEwUNRkCBAgQIECAAAECBAgQIECAAAECBAgQIECAAAECBAgQIECAAAECBAgQIECAAAECBAgQIEDgWsBh4noe5QgQIECAAAECBAgQIECAAAECBAgQIECAAAECBAgQIECAAAECBAgQIECAAAECBAgQIECAAIEi4DBR1GQIECBAgAABAgQIECBAgAABAgQIECBAgAABAgQIECBAgAABAgQIECBAgAABAgQIECBAgACBawGHiet5lCNAgAABAgQIECBAgAABAgQIECBAgAABAgQIECBAgAABAgQIECBAgAABAgQIECBAgAABAgSKgMNEUZMhQIAAAQIECBAgQIAAAQIECBAgQIAAAQIECBAgQIAAAQIECBAgQIAAAQIECBAgQIAAAQIErgUcJq7nUY4AAQIECBAgQIAAAQIECBAgQIAAAQIECBAgQIAAAQIECBAgQIAAAQIECBAgQIAAAQIECBAoAg4TRU2GAAECBAgQIECAAAECBAgQIECAAAECBAgQIECAAAECBAgQIECAAAECBAgQIECAAAECBAgQuBZwmLieRzkCBAgQIECAAAECBAgQIECAAAECBAgQIECAAAECBAgQIECAAAECBAgQIECAAAECBAgQIECgCDhMFDUZAgQIECBAgAABAgQIECBAgAABAgQIECBAgAABAgQIECBAgAABAgQIECBAgAABAgQIECBA4FrAYeJ6HuUIECBAgAABAgQIECBAgAABAgQIECBAgAABAgQIECBAgAABAgQIECBAgAABAgQIECBAgACBIuAwUdRkCBAgQIAAAQIECBAgQIAAAQIECBAgQIAAAQIECBAgQIAAAQIECBAgQIAAAQIECBAgQIAAgWsBh4nreZQjQIAAAQIECBAgQIAAAQIECBAgQIAAAQIECBAgQIAAAQIECBAgQIAAAQIECBAgQIAAAQIEioDDRFGTIUCAAAECBAgQIECAAAECBAgQIECAAAECBAgQIECAAAECBAgQIECAAAECBAgQIECAAAECBK4FHCau51GOAAECBAgQIECAAAECBAgQIECAAAECBAgQIECAAAECBAgQIECAAAECBAgQIECAAAECBAgQKAIOE0VNhgABAgQIECBAgAABAgQIECBAgAABAgQIECBAgAABAgQIECBAgAABAgQIECBAgAABAgQIELgWcJi4nkc5AgQIECBAgAABAgQIECBAgAABAgQIECBAgAABAgQIECBAgAABAgQIECBAgAABAgQIECBAoAg4TBQ1GQIECBAgQIAAAQIECBAgQIAAAQIECBAgQIAAAQIECBAgQIAAAQIECBAgQIAAAQIECBAgQOBawGHieh7lCBAgQIAAAQIECBAgQIAAAQIECBAgQIAAAQIECBAgQIAAAQIECBAgQIAAAQIECBAgQIAAgSLgMFHUZAgQIECAAAECBAgQIECAAAECBAgQIECAAAECBAgQIECAAAECBAgQIECAAAECBAgQIECAAIFrAYeJ63mUI0CAAAECBAgQIECAAAECBAgQIECAAAECBAgQIECAAAECBAgQIECAAAECBAgQIECAAAECBIqAw0RRkyFAgAABAgQIECBAgAABAgQIECBAgAABAgQIECBAgAABAgQIECBAgAABAgQIECBAgAABAgSuBRwmrudRjgABAgQIECBAgAABAgQIECBAgAABAgQIECBAgAABAgQIECBAgAABAgQIECBAgAABAgQIECgCDhNFTYYAAQIECBAgQIAAAQIECBAgQIAAAQIECBAgQIAAAQIECBAgQIAAAQIECBAgQIAAAQIECBC4FnCYuJ5HOQIECBAgQIAAAQIECBAgQIAAAQIECBAgQIAAAQIECBAgQIAAAQIECBAgQIAAAQIECBAgQKAIOEwUNRkCBAgQIECAAAECBAgQIECAAAECBAgQIECAAAECBAgQIECAAAECBAgQIECAAAECBAgQIEDgWsBh4noe5QgQIECAAAECBAgQIECAAAECBAgQIECAAAECBAgQIECAAAECBAgQIECAAAECBAgQIECAAIEi4DBR1GQIECBAgAABAgQIECBAgAABAgQIECBAgAABAgQIECBAgAABAgQIECBAgAABAgQIECBAgACBawGHiet5lCNAgAABAgQIECBAgAABAgQIECBAgAABAgQIECBAgAABAgQIECBAgAABAgQIECBAgAABAgSKgMNEUZMhQIAAAQIECBAgQIAAAQIECBAgQIAAAQIECBAgQIAAAQIECBAgQIAAAQIECBAgQIAAAQIErgUcJq7nUY4AAQIECBAgQIAAAQIECBAgQIAAAQIECBAgQIAAAQIECBAgQIAAAQIECBAgQIAAAQIECBAoAg4TRU2GAAECBAgQIECAAAECBAgQIECAAAECBAgQIECAAAECBAgQIECAAAECBAgQIECAAAECBAgQuBZwmLieRzkCBAgQIECAAAECBAgQIECAAAECBAgQIECAAAECBAgQIECAAAECBAgQIECAAAECBAgQIECgCDhMFDUZAgQIECBAgAABAgQIECBAgAABAgQIECBAgAABAgQIECBAgAABAgQIECBAgAABAgQIECBA4FrAYeJ6HuUIECBAgAABAgQIECBAgAABAgQIECBAgAABAgQIECBAgAABAgQIECBAgAABAgQIECBAgACBIuAwUdRkCBAgQIAAAQIECBAgQIAAAQIECBAgQIAAAQIECBAgQIAAAQIECBAgQIAAAQIECBAgQIAAgWsBh4nreZQjQIAAAQIECBAgQIAAAQIECBAgQIAAAQIECBAgQIAAAQIECBAgQIAAAQIECBAgQIAAAQIEioDDRFGTIUCAAAECBAgQIECAAAECBAgQIECAAAECBAgQIECAAAECBAgQIECAAAECBAgQIECAAAECBK4FHCau51GOAAECBAgQIECAAAECBAgQIECAAAECBAgQIECAAAECBAgQIECAAAECBAgQIECAAAECBAgQKAIOE0VNhgABAgQIECBAgAABAgQIECBAgAABAgQIECBAgAABAgQIECBAgAABAgQIECBAgAABAgQIELgWcJi4nkc5AgQIECBAgAABAgQIECBAgAABAgQIECBAgAABAgQIECBAgAABAgQIECBAgAABAgQIECBAoAg4TBQ1GQIECBAgQIAAAQIECBAgQIAAAQIECBAgQIAAAQIECBAgQIAAAQIECBAgQIAAAQIECBAgQOBawGHieh7lCBAgQIAAAQIECBAgQIAAAQIECBAgQIAAAQIECBAgQIAAAQIECBAgQIAAAQIECBAgQIAAgSLgMFHUZAgQIECAAAECBAgQIECAAAECBAgQIECAAAECBAgQIECAAAECBAgQIECAAAECBAgQIECAAIFrAYeJ63mUI0CAAAECBAgQIECAAAECBAgQIECAAAECBAgQIECAAAECBAgQIECAAAECBAgQIECAAAECBIqAw0RRkyFAgAABAgQIECBAgAABAgQIECBAgAABAgQIECBAgAABAgQIECBAgAABAgQIECBAgAABAgSuBRwmrudRjgABAgQIECBAgAABAgQIECBAgAABAgQIECBAgAABAgQIECBAgAABAgQIECBAgAABAgQIECgCDhNFTYYAAQIECBAgQIAAAQIECBAgQIAAAQIECBAgQIAAAQIECBAgQIAAAQIECBAgQIAAAQIECBC4FnCYuJ5HOQIECBAgQIAAAQIECBAgQIAAAQIECBAgQIAAAQIECBAgQIAAAQIECBAgQIAAAQIECBAgQKAIOEwUNRkCBAgQIECAAAECBAgQIECAAAECBAgQIECAAAECBAgQIECAAAECBAgQIECAAAECBAgQIEDgWsBh4noe5QgQIECAAAECBAgQIECAAAECBAgQIECAAAECBAgQIECAAAECBAgQIECAAAECBAgQIECAAIEi4DBR1GQIECBAgAABAgQIECBAgAABAgQIECBAgAABAgQIECBAgAABAgQIECBAgAABAgQIECBAgACBawGHiet5lCNAgAABAgQIECBAgAABAgQIECBAgAABAgQIECBAgAABAgQIECBAgAABAgQIECBAgAABAgSKgMNEUZMhQIAAAQIECBAgQIAAAQIECBAgQIAAAQIECBAgQIAAAQIECBAgQIAAAQIECBAgQIAAAQIErgUcJq7nUY4AAQIECBAgQIAAAQIECBAgQIAAAQIECBAgQIAAAQIECBAgQIAAAQIECBAgQIAAAQIECBAoAg4TRU2GAAECBAgQIECAAAECBAgQIECAAAECBAgQIECAAAECBAgQIECAAAECBAgQIECAAAECBAgQuBZwmLieRzkCBAgQIECAAAECBAgQIECAAAECBAgQIECAAAECBAgQIECAAAECBAgQIECAAAECBAgQIECgCDhMFDUZAgQIECBAgAABAgQIECBAgAABAgQIECBAgAABAgQIECBAgAABAgQIECBAgAABAgQIECBA4FrAYeJ6HuUIECBAgAABAgQIECBAgAABAgQIECBAgAABAgQIECBAgAABAgQIECBAgAABAgQIECBAgACBIuAwUdRkCBAgQIAAAQIECBAgQIAAAQIECBAgQIAAAQIECBAgQIAAAQIECBAgQIAAAQIECBAgQIAAgWsBh4nreZQjQIAAAQIECBAgQIAAAQIECBAgQIAAAQIECBAgQIAAAQIECBAgQIAAAQIECBAgQIAAAQIEioDDRFGTIUCAAAECBAgQIECAAAECBAgQIECAAAECBAgQIECAAAECBAgQIECAAAECBAgQIECAAAECBK4FHCau51GOAAECBAgQIECAAAECBAgQIECAAAECBAgQIECAAAECBAgQIECAAAECBAgQIECAAAECBAgQKAIOE0VNhgABAgQIECBAgAABAgQIECBAgAABAgQIECBAgAABAgQIECBAgAABAgQIECBAgAABAgQIELgWcJi4nkc5AgQIECBAgAABAgQIECBAgAABAgQIECBAgAABAgQIECBAgAABAgQIECBAgAABAgQIECBAoAg4TBQ1GQIECBAgQIAAAQIECBAgQIAAAQIECBAgQIAAAQIECBAgQIAAAQIECBAgQIAAAQIECBAgQOBawGHieh7lCBAgQIAAAQIECBAgQIAAAQIECBAgQIAAAQIECBAgQIAAAQIECBAgQIAAAQIECBAgQIAAgSLgMFHUZAgQIECAAAECBAgQIECAAAECBAgQIECAAAECBAgQIECAAAECBAgQIECAAAECBAgQIECAAIFrAYeJ63mUI0CAAAECBAgQIECAAAECBAgQIECAAAECBAgQIECAAAECBAgQIECAAAECBAgQIECAAAECBIqAw0RRkyFAgAABAgQIECBAgAABAgQIECBAgAABAgQIECBAgAABAgQIECBAgAABAgQIECBAgAABAgSuBRwmrudRjgABAgQIECBAgAABAgQIECBAgAABAgQIECBAgAABAgQIECBAgAABAgQIECBAgAABAgQIECgCDhNFTYYAAQIECBAgQIAAAQIECBAgQIAAAQIECBAgQIAAAQIECBAgQIAAAQIECBAgQIAAAQIECBC4FnCYuJ5HOQIECBAgQIAAAQIECBAgQIAAAQIECBAgQIAAAQIECBAgQIAAAQIECBAgQIAAAQIECBAgQKAIOEwUNRkCBAgQIECAAAECBAgQIECAAAECBAgQIECAAAECBAgQIECAAAECBAgQIECAAAECBAgQIEDgWsBh4noe5QgQIECAAAECBAgQIECAAAECBAgQIECAAAECBAgQIECAAAECBAgQIECAAAECBAgQIECAAIEi4DBR1GQIECBAgAABAgQIECBAgAABAgQIECBAgAABAgQIECBAgAABAgQIECBAgAABAgQIECBAgACBawGHiet5lCNAgAABAgQIECBAgAABAgQIECBAgAABAgQIECBAgAABAgQIECBAgAABAgQIECBAgAABAgSKgMNEUZMhQIAAAQIECBAgQIAAAQIECBAgQIAAAQIECBAgQIAAAQIECBAgQIAAAQIECBAgQIAAAQIErgUcJq7nUY4AAQIECBAgQIAAAQIECBAgQIAAAQIECBAgQIAAAQIECBAgQIAAAQIECBAgQIAAAQIECBAoAg4TRU2GAAECBAgQIECAAAECBAgQIECAAAECBAgQIECAAAECBAgQIECAAAECBAgQIECAAAECBAgQuBZwmLieRzkCBAgQIECAAAECBAgQIECAAAECBAgQIECAAAECBAgQIECAAAECBAgQIECAAAECBAgQIECgCDhMFDUZAgQIECBAgAABAgQIECBAgAABAgQIECBAgAABAgQIECBAgAABAgQIECBAgAABAgQIECBA4FrAYeJ6HuUIECBAgAABAgQIECBAgAABAgQIECBAgAABAgQIECBAgAABAgQIECBAgAABAgQIECBAgACBIuAwUdRkCBAgQIAAAQIECBAgQIAAAQIECBAgQIAAAQIECBAgQIAAAQIECBAgQIAAAQIECBAgQIAAgWsBh4nreZQjQIAAAQIECBAgQIAAAQIECBAgQIAAAQIECBAgQIAAAQIECBAgQIAAAQIECBAgQIAAAQIEioDDRFGTIUCAAAECBAgQIECAAAECBAgQIECAAAECBAgQIECAAAECBAgQIECAAAECBAgQIECAAAECBK4FHCau51GOAAECBAgQIECAAAECBAgQIECAAAECBAgQIECAAAECBAgQIECAAAECBAgQIECAAAECBAgQKAIOE0VNhgABAgQIECBAgAABAgQIECBAgAABAgQIECBAgAABAgQIECBAgAABAgQIECBAgAABAgQIELgWcJi4nkc5AgQIECBAgAABAgQIECBAgAABAgQIECBAgAABAgQIECBAgAABAgQIECBAgAABAgQIECBAoAg4TBQ1GQIECBAgQIAAAQIECBAgQIAAAQIECBAgQIAAAWX/wxQAACAASURBVAIECBAgQIAAAQIECBAgQIAAAQIECBAgQOBawGHieh7lCBAgQIAAAQIECBAgQIAAAQIECBAgQIAAAQIECBAgQIAAAQIECBAgQIAAAQIECBAgQIAAgSLgMFHUZAgQIECAAAECBAgQIECAAAECBAgQIECAAAECBAgQIECAAAECBAgQIECAAAECBAgQIECAAIFrAYeJ63mUI0CAAAECBAgQIECAAAECBAgQIECAAAECBAgQIECAAAECBAgQIECAAAECBAgQIECAAAECBIqAw0RRkyFAgAABAgQIECBAgAABAgQIECBAgAABAgQIECBAgAABAgQIECBAgAABAgQIECBAgAABAgSuBRwmrudRjgABAgQIECBAgAABAgQIECBAgAABAgQIECBAgAABAgQIECBAgAABAgQIECBAgAABAgQIECgCDhNFTYYAAQIECBAgQIAAAQIECBAgQIAAAQIECBAgQIAAAQIECBAgQIAAAQIECBAgQIAAAQIECBC4FnCYuJ5HOQIECBAgQIAAAQIECBAgQIAAAQIECBAgQIAAAQIECBAgQIAAAQIECBAgQIAAAQIECBAgQKAIOEwUNRkCBAgQIECAAAECBAgQIECAAAECBAgQIECAAAECBAgQIECAAAECBAgQIECAAAECBAgQIEDgWsBh4noe5QgQIECAAAECBAgQIECAAAECBAgQIECAAAECBAgQIECAAAECBAgQIECAAAECBAgQIECAAIEi4DBR1GQIECBAgAABAgQIECBAgAABAgQIECBAgAABAgQIECBAgAABAgQIECBAgAABAgQIECBAgACBawGHiet5lCNAgAABAgQIECBAgAABAgQIECBAgAABAgQIECBAgAABAgQIECBAgAABAgQIECBAgAABAgSKgMNEUZMhQIAAAQIECBAgQIAAAQIECBAgQIAAAQIECBAgQIAAAQIECBAgQIAAAQIECBAgQIAAAQIErgUcJq7nUY4AAQIECBAgQIAAAQIECBAgQIAAAQIECBAgQIAAAQIECBAgQIAAAQIECBAgQIAAAQIECBAoAg4TRU2GAAECBAgQIECAAAECBAgQIECAAAECBAgQIECAAAECBAgQIECAAAECBAgQIECAAAECBAgQuBZwmLieRzkCBAgQIECAAAECBAgQIECAAAECBAgQIECAAAECBAgQIECAAAECBAgQIECAAAECBAgQIECgCDhMFDUZAgQIECBAgAABAgQIECBAgAABAgQIECBAgAABAgQIECBAgAABAgQIECBAgAABAgQIECBA4FrAYeJ6HuUIECBAgAABAgQIECBAgAABAgQIECBAgAABAgQIECBAgAABAgQIECBAgAABAgQIECBAgACBIuAwUdRkCBAgQIAAAQIECBAgQIAAAQIECBAgQIAAAQIECBAgQIAAAQIECBAgQIAAAQIECBAgQIAAgWsBh4nreZQjQIAAAQIECBAgQIAAAQIECBAgQIAAAQIECBAgQIAAAQIECBAgQIAAAQIECBAgQIAAAQIEioDDRFGTIUCAAAECBAgQIECAAAECBAgQIECAAAECBAgQIECAAAECBAgQIECAAAECBAgQIECAAAECBK4FHCau51GOAAECBAgQIECAAAECBAgQIECAAAECBAgQIECAAAECBAgQIECAAAECBAgQIECAAAECBAgQKAIOE0VNhgABAgQIECBAgAABAgQIECBAgAABAgQIECBAgAABAgQIECBAgAABAgQIECBAgAABAgQIELgWcJi4nkc5AgQIECBAgAABAgQIECBAgAABAgQIECBAgAABAgQIECBAgAABAgQIECBAgAABAgQIECBAoAg4TBQ1GQIECBAgQIAAAQIECBAgQIAAAQIECBAgQIAAAQIECBAgQIAAAQIECBAgQIAAAQIECBAgQOBawGHieh7lCBAgQIAAAQIECBAgQIAAAQIECBAgQIAAAQIECBAgQIAAAQIECBAgQIAAAQIECBAgQIAAgSLgMFHUZAgQIECAAAECBAgQIECAAAECBAgQIECAAAECBAgQIECAAAECBAgQIECAAAECBAgQIECAAIFrAYeJ63mUI0CAAAECBAgQIECAAAECBAgQIECAAAECBAgQIECAAAECBAgQIECAAAECBAgQIECAAAECBIqAw0RRkyFAgAABAgQIECBAgAABAgQIECBAgAABAgQIECBAgAABAgQIECBAgAABAgQIECBAgAABAgSuBRwmrudRjgABAgQIECBAgAABAgQIECBAgAABAgQIECBAgAABAgQIECBAgAABAgQIECBAgAABAgQIECgCDhNFTYYAAQIECBAgQIAAAQIECBAgQIAAAQIECBAgQIAAAQIECBAgQIAAAQIECBAgQIAAAQIECBC4FnCYuJ5HOQIECBAgQIAAAQIECBAgQIAAAQIECBAgQIAAAQIECBAgQIAAAQIECBAgQIAAAQIECBAgQKAIOEwUNRkCBAgQIECAAAECBAgQIECAAAECBAgQIECAAAECBAgQIECAAAECBAgQIECAAAECBAgQIEDgWsBh4noe5QgQIECAAAECBAgQIECAAAECBAgQIECAAAECBAgQIECAAAECBAgQIECAAAECBAgQIECAAIEi4DBR1GQIECBAgAABAgQIECBAgAABAgQIECBAgAABAgQIECBAgAABAgQIECBAgAABAgQIECBAgACBawGHiet5lCNAgAABAgQIECBAgAABAgQIECBAgAABAgQIECBAgAABAgQIECBAgAABAgQIECBAgAABAgSKgMNEUZMhQIAAAQIECBAgQIAAAQIECBAgQIAAAQIECBAgQIAAAQIECBAgQIAAAQIECBAgQIAAAQIErgUcJq7nUY4AAQIECBAgQIAAAQIECBAgQIAAAQIECBAgQIAAAQIECBAgQIAAAQIECBAgQIAAAQIECBAoAg4TRU2GAAECBAgQIECAAAECBAgQIECAAAECBAgQIECAAAECBAgQIECAAAECBAgQIECAAAECBAgQuBZwmLieRzkCBAgQIECAAAECBAgQIECAAAECBAgQIECAAAECBAgQIECAAAECBAgQIECAAAECBAgQIECgCDhMFDUZAgQIECBAgAABAgQIECBAgAABAgQIECBAgAABAgQIECBAgAABAgQIECBAgAABAgQIECBA4FrAYeJ6HuUIECBAgAABAgQIECBAgAABAgQIECBAgAABAgQIECBAgAABAgQIECBAgAABAgQIECBAgACBIuAwUdRkCBAgQIAAAQIECBAgQIAAAQIECBAgQIAAAQIECBAgQIAAAQIECBAgQIAAAQIECBAgQIAAgWsBh4nreZQjQIAAAQIECBAgQIAAAQIECBAgQIAAAQIECBAgQIAAAQIECBAgQIAAAQIECBAgQIAAAQIEioDDRFGTIUCAAAECBAgQIECAAAECBAgQIECAAAECBAgQIECAAAECBAgQIECAAAECBAgQIECAAAECBK4FHCau51GOAAECBAgQIECAAAECBAgQIECAAAECBAgQIECAAAECBAgQIECAAAECBAgQIECAAAECBAgQKAIOE0VNhgABAgQIECBAgAABAgQIECBAgAABAgQIECBAgAABAgQIECBAgAABAgQIECBAgAABAgQIELgWcJi4nkc5AgQIECBAgAABAgQIECBAgAABAgQIECBAgAABAgQIECBAgAABAgQIECBAgAABAgQIECBAoAg4TBQ1GQIECBAgQIAAAQIECBAgQIAAAQIECBAgQIAAAQIECBAgQIAAAQIECBAgQIAAAQIECBAgQOBawGHieh7lCBAgQIAAAQIECBAgQIAAAQIECBAgQIAAAQIECBAgQIAAAQIECBAgQIAAAQIECBAgQIAAgSLgMFHUZAgQIECAAAECBAgQIECAAAECBAgQIECAAAECBAgQIECAAAECBAgQIECAAAECBAgQIECAAIFrAYeJ63mUI0CAAAECBAgQIECAAAECBAgQIECAAAECBAgQIECAAAECBAgQIECAAAECBAgQIECAAAECBIqAw0RRkyFAgAABAgQIECBAgAABAgQIECBAgAABAgQIECBAgAABAgQIECBAgAABAgQIECBAgAABAgSuBRwmrudRjgABAgQIECBAgAABAgQIECBAgAABAgQIECBAgAABAgQIECBAgAABAgQIECBAgAABAgQIECgCDhNFTYYAAQIECBAgQIAAAQIECBAgQIAAAQIECBAgQIAAAQIECBAgQIAAAQIECBAgQIAAAQIECBC4FnCYuJ5HOQIECBAgQIAAAQIECBAgQIAAAQIECBAgQIAAAQIECBAgQIAAAQIECBAgQIAAAQIECBAgQKAIOEwUNRkCBAgQIECAAAECBAgQIECAAAECBAgQIECAAAECBAgQIECAAAECBAgQIECAAAECBAgQIEDgWsBh4noe5QgQIECAAAECBAgQIECAAAECBAgQIECAAAECBAgQIECAAAECBAgQIECAAAECBAgQIECAAIEi4DBR1GQIECBAgAABAgQIECBAgAABAgQIECBAgAABAgQIECBAgAABAgQIECBAgAABAgQIECBAgACBawGHiet5lCNAgAABAgQIECBAgAABAgQIECBAgAABAgQIECBAgAABAgQIECBAgAABAgQIECBAgAABAgSKgMNEUZMhQIAAAQIECBAgQIAAAQIECBAgQIAAAQIECBAgQIAAAQIECBAgQIAAAQIECBAgQIAAAQIErgUcJq7nUY4AAQIECBAgQIAAAQIECBAgQIAAAQIECBAgQIAAAQIECBAgQIAAAQIECBAgQIAAAQIECBAoAg4TRU2GAAECBAgQIECAAAECBAgQIECAAAECBAgQIECAAAECBAgQIECAAAECBAgQIECAAAECBAgQuBZwmLieRzkCBAgQIECAAAECBAgQIECAAAECBAgQIECAAAECBAgQIECAAAECBAgQIECAAAECBAgQIECgCDhMFDUZAgQIECBAgAABAgQIECBAgAABAgQIECBAgAABAgQIECBAgAABAgQIECBAgAABAgQIECBA4FrAYeJ6HuUIECBAgAABAgQIECBAgAABAgQIECBAgAABAgQIECBAgAABAgQIECBAgAABAgQIECBAgACBIuAwUdRkCBAgQIAAAQIECBAgQIAAAQIECBAgQIAAAQIECBAgQIAAAQIECBAgQIAAAQIECBAgQIAAgWsBh4nreZQjQIAAAQIECBAgQIAAAQIECBAgQIAAAQIECBAgQIAAAQIECBAgQIAAAQIECBAgQIAAAQIEioDDRFGTIUCAAAECBAgQIECAAAECBAgQIECAAAECBAgQIECAAAECBAgQIECAAAECBAgQIECAAAECBK4FHCau51GOAAECBAgQIECAAAECBAgQIECAAAECBAgQIECAAAECBAgQIECAAAECBAgQIECAAAECBAgQKAIOE0VNhgABAgQIECBAgAABAgQIECBAgAABAgQIECBAgAABAgQIECBAgAABAgQIECBAgAABAgQIELgWcJi4nkc5AgQIECBAgAABAgQIECBAgAABAgQIECBAgAABAgQIECBAgAABAgQIECBAgAABAgQIECBAoAg4TBQ1GQIECBAgQIAAAQIECBAgQIAAAQIECBAgQIAAAQIECBAgQIAAAQIECBAgQIAAAQIECBAgQOBawGHieh7lCBAgQIAAAQIECBAgQIAAAQIECBAgQIAAAQIECBAgQIAAAQIECBAgQIAAAQIECBAgQIAAgSLgMFHUZAgQIECAAAECBAgQIECAAAECBAgQIECAAAECBAgQIECAAAECBAgQIECAAAECBAgQIECAAIFrAYeJ63mUI0CAAAECBAgQIECAAAECBAgQIECAAAECBAgQIECAAAECBAgQIECAAAECBAgQIECAAAECBIqAw0RRkyFAgAABAgQIECBAgAABAgQIECBAgAABAgQIECBAgAABAgQIECBAgAABAgQIECBAgAABAgSuBRwmrudRjgABAgQIECBAgAABAgQIECBAgAABAgQIECBAgAABAgQIECBAgAABAgQIECBAgAABAgQIECgCDhNFTYYAAQIECBAgQIAAAQIECBAgQIAAAQIECBAgQIAAAQIECBAgQIAAAQIECBAgQIAAAQIECBC4FnCYuJ5HOQIECBAgQIAAAQIECBAgQIAAAQIECBAgQIAAAQIECBAgQIAAAQIECBAgQIAAAQIECBAgQKAIOEwUNRkCBAgQIECAAAECBAgQIECAAAECBAgQIECAAAECBAgQIECAAAECBAgQIECAAAECBAgQIEDgWsBh4noe5QgQIECAAAECBAgQIECAAAECBAgQIECAAAECBAgQIECAAAECBAgQIECAAAECBAgQIECAAIEi4DBR1GQIECBAgAABAgQIECBAgAABAgQIECBAgAABAgQIECBAgAABAgQIECBAgAABAgQIECBAgACBawGHiet5lCNAgAABAgQIECBAgAABAgQIECBAgAABAgQIECBAgAABAgQIECBAgAABAgQIECBAgAABAgSKgMNEUZMhQIAAAQIECBAgQIAAAQIECBAgQIAAAQIECBAgQIAAAQIECBAgQIAAAQIECBAgQIAAAQIErgUcJq7nUY4AAQIECBAgQIAAAQIECBAgQIAAAQIECBAgQIAAAQIECBAgQIAAAQIECBAgQIAAAQIECBAoAg4TRU2GAAECBAgQIECAAAECBAgQIECAAAECBAgQIECAAAECBAgQIECAAAECBAgQIECAAAECBAgQuBZwmLieRzkCBAgQIECAAAECBAgQIECAAAECBAgQIECAAAECBAgQIECAAAECBAgQIECAAAECBAgQIECgCDhMFDUZAgQIECBAgAABAgQIECBAgAABAgQIECBAgAABAgQIECBAgAABAgQIECBAgAABAgQIECBA4FrAYeJ6HuUIECBAgAABAgQIECBAgAABAgQIECBAgAABAgQIECBAgAABAgQIECBAgAABAgQIECBAgACBIuAwUdRkCBAgQIAAAQIECBAgQIAAAQIECBAgQIAAAQIECBAgQIAAAQIECBAgQIAAAQIECBAgQIAAgWsBh4nreZQjQIAAAQIECBAgQIAAAQIECBAgQIAAAQIECBAgQIAAAQIECBAgQIAAAQIECBAgQIAAAQIEioDDRFGTIUCAAAECBAgQIECAAAECBAgQIECAAAECBAgQIECAAAECBAgQIECAAAECBAgQIECAAAECBK4FHCau51GOAAECBAgQIECAAAECBAgQIECAAAECBAgQIECAAAECBAgQIECAAAECBAgQIECAAAECBAgQKAIOE0VNhgABAgQIECBAgAABAgQIECBAgAABAgQIECBAgAABAgQIECBAgAABAgQIECBAgAABAgQIELgWcJi4nkc5AgQIECBAgAABAgQIECBAgAABAgQIECBAgAABAgQIECBAgAABAgQIECBAgAABAgQIECBAoAg4TBQ1GQIECBAgQIAAAQIECBAgQIAAAQIECBAgQIAAAQIECBAgQIAAAQIECBAgQIAAAQIECBAgQOBawGHieh7lCBAgQIAAAQIECBAgQIAAAQIECBAgQIAAAQIECBAgQIAAAQIECBAgQIAAAQIECBAgQIAAgSLgMFHUZAgQIECAAAECBAgQIECAAAECBAgQIECAAAECBAgQIECAAAECBAgQIECAAAECBAgQIECAAIFrAYeJ63mUI0CAAAECBAgQIECAAAECBAgQIECAAAECBAgQIECAAAECBAgQIECAAAECBAgQIECAAAECBIqAw0RRkyFAgAABAgQIECBAgAABAgQIECBAgAABAgQIECBAgAABAgQIECBAgAABAgQIECBAgAABAgSuBRwmrudRjgABAgQIECBAgAABAgQIECBAgAABAgQIECBAgAABAgQIECBAgAABAgQIECBAgAABAgQIECgCDhNFTYYAAQIECBAgQIAAAQIECBAgQIAAAQIECBAgQIAAAQIECBAgQIAAAQIECBAgQIAAAQIECBC4FnCYuJ5HOQIECBAgQIAAAQIECBAgQIAAAQIECBAgQIAAAQIECBAgQIAAAQIECBAgQIAAAQIECBAgQKAIOEwUNRkCBAgQIECAAAECBAgQIECAAAECBAgQIECAAAECBAgQIECAAAECBAgQIECAAAECBAgQIEDgWsBh4noe5QgQIECAAAECBAgQIECAAAECBAgQIECAAAECBAgQIECAAAECBAgQIECAAAECBAgQIECAAIEi4DBR1GQIECBAgAABAgQIECBAgAABAgQIECBAgAABAgQIECBAgAABAgQIECBAgAABAgQIECBAgACBawGHiet5lCNAgAABAgQIECBAgAABAgQIECBAgAABAgQIECBAgAABAgQIECBAgAABAgQIECBAgAABAgSKgMNEUZMhQIAAAQIECBAgQIAAAQIECBAgQIAAAQIECBAgQIAAAQIECBAgQIAAAQIECBAgQIAAAQIErgUcJq7nUY4AAQIECBAgQIAAAQIECBAgQIAAAQIECBAgQIAAAQIECBAgQIAAAQIECBAgQIAAAQIECBAoAg4TRU2GAAECBAgQIECAAAECBAgQIECAAAECBAgQIECAAAECBAgQIECAAAECBAgQIECAAAECBAgQuBZwmLieRzkCBAgQIECAAAECBAgQIECAAAECBAgQIECAAAECBAgQIECAAAECBAgQIECAAAECBAgQIECgCDhMFDUZAgQIECBAgAABAgQIECBAgAABAgQIECBAgAABAgQIECBAgAABAgQIECBAgAABAgQIECBA4FrAYeJ6HuUIECBAgAABAgQIECCw9u2YBgAAAGGYf9d42MVRASSk3BAgQIAAAQIECBAgQIAAAQIECBAgQIAAAQIECBAgQIAAAQIECBAgQKAIOEwUNRkCBAgQIECAAAECBAgQIECAAAECBAgQIECAAAECBAgQIECAAAECBAgQIECAAAECBAgQIEDgWsBh4noe5QgQIECAAAECBAgQIECAAAECBAgQIECAAAECBAgQIECAAAECBAgQIECAAAECBAgQIECAAIEi4DBR1GQIECBAgAABAgQIECBAgAABAgQIECBAgAABAgQIECBAgAABAgQIECBAgAABAgQIECBAgACBawGHiet5lCNAgAABAgQIECBAgAABAgQIECBAgAABAgQIECBAgAABAgQIECBAgAABAgQIECBAgAABAgSKgMNEUZMhQIAAAQIECBAgQIAAAQIECBAgQIAAAQIECBAgQIAAAQIECBAgQIAAAQIECBAgQIAAAQIErgUcJq7nUY4AAQIECBAgQIAAAQIECBAgQIAAAQIECBAgQIAAAQIECBAgQIAAAQIECBAgQIAAAQIECBAoAg4TRU2GAAECBAgQIECAAAECBAgQIECAAAECBAgQIECAAAECBAgQIECAAAECBAgQIECAAAECBAgQuBZwmLieRzkCBAgQIECAAAECBAgQIECAAAECBAgQIECAAAECBAgQIECAAAECBAgQIECAAAECBAgQIECgCDhMFDUZAgQIECBAgAABAgQIECBAgAABAgQIECBAgAABAgQIECBAgAABAgQIECBAgAABAgQIECBA4FrAYeJ6HuUIECBAgAABAgQIECBAgAABAgQIECBAgAABAgQIECBAgAABAgQIECBAgAABAgQIECBAgACBIuAwUdRkCBAgQIAAAQIECBAgQIAAAQIECBAgQIAAAQIECBAgQIAAAQIECBAgQIAAAQIECBAgQIAAgWsBh4nreZQjQIAAAQIECBAgQIAAAQIECBAgQIAAAQIECBAgQIAAAQIECBAgQIAAAQIECBAgQIAAAQIEioDDRFGTIUCAAAECBAgQIECAAAECBAgQIECAAAECBAgQIECAAAECBAgQIECAAAECBAgQIECAAAECBK4FHCau51GOAAECBAgQIECAAAECBAgQIECAAAECBAgQIECAAAECBAgQIECAAAECBAgQIECAAAECBAgQKAIOE0VNhgABAgQIECBAgAABAgQIECBAgAABAgQIECBAgAABAgQIECBAgAABAgQIECBAgAABAgQIELgWcJi4nkc5AgQIECBAgAABAgQIECBAgAABAgQIECBAgAABAgQIECBAgAABAgQIECBAgAABAgQIECBAoAg4TBQ1GQIECBAgQIAAAQIECBAgQIAAAQIECBAgQIAAAQIECBAgQIAAAQIECBAgQIAAAQIECBAgQOBawGHieh7lCBAgQIAAAQIECBAgQIAAAQIECBAgQIAAAQIECBAgQIAAAQIECBAgQIAAAQIECBAgQIAAgSLgMFHUZAgQIECAAAECBAgQIECAAAECBAgQIECAAAECBAgQIECAAAECBAgQIECAAAECBAgQIECAAIFrAYeJ63mUI0CAAAECBAgQIECAAAECBAgQIECAAAECBAgQIECAAAECBAgQIECAAAECBAgQIECAAAECBIqAw0RRkyFAgAABAgQIECBAgAABAgQIECBAgAABAgQIECBAgAABAgQIECBAgAABAgQIECBAgAABAgSuBRwmrudRjgABAgQIECBAgAABAgQIECBAgAABAgQIECBAgAABAgQIECBAgAABAgQIECBAgAABAgQIECgCDhNFTYYAAQIECBAgQIAAAQIECBAgQIAAAQIECBAgQIAAAQIECBAgQIAAAQIECBAgQIAAAQIECBC4FnCYuJ5HOQIECBAgQIAAAQIECBAgQIAAAQIECBAgQIAAAQIECBAgQIAAAQIECBAgQIAAAQIECBAgQKAIOEwUNRkCBAgQIECAAAECBAgQIECAAAECBAgQIECAAAECBAgQIECAAAECBAgQIECAAAECBAgQIEDgWsBh4noe5QgQIECAAAECBAgQIECAAAECBAgQIECAAAECBAgQIECAAAECBAgQIECAAAECBAgQIECAe6fcwgAAAz1JREFUAIEi4DBR1GQIECBAgAABAgQIECBAgAABAgQIECBAgAABAgQIECBAgAABAgQIECBAgAABAgQIECBAgACBawGHiet5lCNAgAABAgQIECBAgAABAgQIECBAgAABAgQIECBAgAABAgQIECBAgAABAgQIECBAgAABAgSKgMNEUZMhQIAAAQIECBAgQIAAAQIECBAgQIAAAQIECBAgQIAAAQIECBAgQIAAAQIECBAgQIAAAQIErgUcJq7nUY4AAQIECBAgQIAAAQIECBAgQIAAAQIECBAgQIAAAQIECBAgQIAAAQIECBAgQIAAAQIECBAoAg4TRU2GAAECBAgQIECAAAECBAgQIECAAAECBAgQIECAAAECBAgQIECAAAECBAgQIECAAAECBAgQuBZwmLieRzkCBAgQIECAAAECBAgQIECAAAECBAgQIECAAAECBAgQIECAAAECBAgQIECAAAECBAgQIECgCDhMFDUZAgQIECBAgAABAgQIECBAgAABAgQIECBAgAABAgQIECBAgAABAgQIECBAgAABAgQIECBA4FrAYeJ6HuUIECBAgAABAgQIECBAgAABAgQIECBAgAABAgQIECBAgAABAgQIECBAgAABAgQIECBAgACBIuAwUdRkCBAgQIAAAQIECBAgQIAAAQIECBAgQIAAAQIECBAgQIAAAQIECBAgQIAAAQIECBAgQIAAgWsBh4nreZQjQIAAAQIECBAgQIAAAQIECBAgQIAAAQIECBAgQIAAAQIECBAgQIAAAQIECBAgQIAAAQIEioDDRFGTIUCAAAECBAgQIECAAAECBAgQIECAAAECBAgQIECAAAECBAgQIECAAAECBAgQIECAAAECBK4FHCau51GOAAECBAgQIECAAAECBAgQIECAAAECBAgQIECAAAECBAgQIECAAAECBAgQIECAAAECBAgQKAIOE0VNhgABAgQIECBAgAABAgQIECBAgAABAgQIECBAgAABAgQIECBAgAABAgQIECBAgAABAgQIELgWcJi4nkc5AgQIECBAgAABAgQIECBAgAABAgQIECBAgAABAgQIECBAgAABAgQIECBAgAABAgQIECBAoAgMgswMmXBdriYAAAAASUVORK5CYII=\" width=\"1165.926008289903\">"
      ],
      "text/plain": [
       "<IPython.core.display.HTML object>"
      ]
     },
     "metadata": {},
     "output_type": "display_data"
    }
   ],
   "source": [
    "plt.plot([1,2,3], [2,4,5]);"
   ]
  },
  {
   "cell_type": "markdown",
   "metadata": {},
   "source": [
    "Zgornjo sliko lahko sedaj interaktivno klikamo in tudi dopolnjujemo s kodo:"
   ]
  },
  {
   "cell_type": "code",
   "execution_count": 159,
   "metadata": {},
   "outputs": [],
   "source": [
    "plt.title('Pozneje dodani naslov!')\n",
    "plt.xlabel('Čas [$t$]');"
   ]
  },
  {
   "cell_type": "markdown",
   "metadata": {
    "slideshow": {
     "slide_type": "subslide"
    }
   },
   "source": [
    "## Interaktivna uporaba"
   ]
  },
  {
   "cell_type": "markdown",
   "metadata": {},
   "source": [
    "Pri tem predmetu bomo večkrat uporabljali interaktivnost pri delu z grafičnimi prikazi. V ta namen najprej uvozimo `interact` iz paketa `ipywidgets`:"
   ]
  },
  {
   "cell_type": "code",
   "execution_count": 160,
   "metadata": {},
   "outputs": [],
   "source": [
    "from ipywidgets import interact"
   ]
  },
  {
   "cell_type": "markdown",
   "metadata": {
    "slideshow": {
     "slide_type": "subslide"
    }
   },
   "source": [
    "Potem definiramo sliko kot funkcijo z argumenti `amplituda`, `fr`, `faza` in `dušenje`:"
   ]
  },
  {
   "cell_type": "code",
   "execution_count": 161,
   "metadata": {},
   "outputs": [],
   "source": [
    "def slika(amplituda=1, fr=10, faza=0, dušenje=0.):\n",
    "    t = np.linspace(0, 1, 200)\n",
    "    f = amplituda * np.sin(2*np.pi*fr*t - faza) * np.exp(-dušenje*2*np.pi*fr*t)\n",
    "    plt.plot(t, f)\n",
    "    plt.ylim(-5, 5)\n",
    "    plt.show()"
   ]
  },
  {
   "cell_type": "markdown",
   "metadata": {
    "slideshow": {
     "slide_type": "subslide"
    }
   },
   "source": [
    "Gremo nazaj na medvrstično uporabo in kličemo funkcijo za izris slike (privzeti argumenti):"
   ]
  },
  {
   "cell_type": "code",
   "execution_count": 162,
   "metadata": {},
   "outputs": [
    {
     "data": {
      "image/png": "[encoded data removed]",
      "text/plain": [
       "<Figure size 432x288 with 1 Axes>"
      ]
     },
     "metadata": {
      "needs_background": "light"
     },
     "output_type": "display_data"
    }
   ],
   "source": [
    "%matplotlib inline\n",
    "slika()"
   ]
  },
  {
   "cell_type": "markdown",
   "metadata": {
    "slideshow": {
     "slide_type": "subslide"
    }
   },
   "source": [
    "Če funkcijo za izris slike pošljemo v funkcijo `interact`, slednja poskrbi za interaktivne gumbe, s katerimi lahko spreminajmo parametre klicanja funkcije `slika`:"
   ]
  },
  {
   "cell_type": "code",
   "execution_count": 163,
   "metadata": {
    "slideshow": {
     "slide_type": "-"
    }
   },
   "outputs": [
    {
     "data": {
      "application/vnd.jupyter.widget-view+json": {
       "model_id": "23c219ee1a764ad49f7e712fa3f7cd39",
       "version_major": 2,
       "version_minor": 0
      },
      "text/plain": [
       "interactive(children=(IntSlider(value=1, description='amplituda', max=3, min=-1), IntSlider(value=10, descript…"
      ]
     },
     "metadata": {},
     "output_type": "display_data"
    }
   ],
   "source": [
    "interact(slika);"
   ]
  },
  {
   "cell_type": "markdown",
   "metadata": {
    "slideshow": {
     "slide_type": "subslide"
    }
   },
   "source": [
    "Razpon parametov lahko tudi sami definiramo:"
   ]
  },
  {
   "cell_type": "code",
   "execution_count": 164,
   "metadata": {
    "slideshow": {
     "slide_type": "-"
    }
   },
   "outputs": [
    {
     "data": {
      "application/vnd.jupyter.widget-view+json": {
       "model_id": "eee1f279639a4da69d88a344226366e4",
       "version_major": 2,
       "version_minor": 0
      },
      "text/plain": [
       "interactive(children=(IntSlider(value=1, description='amplituda', max=5, min=1), IntSlider(value=10, descripti…"
      ]
     },
     "metadata": {},
     "output_type": "display_data"
    }
   ],
   "source": [
    "interact(slika, amplituda=(1, 5, 1), dušenje=(0, 1, 0.05), fr=(10, 100, 1), faza=(0, 2*np.pi, np.pi/180));"
   ]
  },
  {
   "cell_type": "markdown",
   "metadata": {
    "slideshow": {
     "slide_type": "subslide"
    }
   },
   "source": [
    "## Napredna uporaba"
   ]
  },
  {
   "cell_type": "markdown",
   "metadata": {},
   "source": [
    "### Prikaz več funkcij\n",
    "\n",
    "Poglejmo si preprost primer prikaza več funkcij (najprej, opcijsko, definirajmo fonte za izpis v pdf):"
   ]
  },
  {
   "cell_type": "code",
   "execution_count": 173,
   "metadata": {},
   "outputs": [],
   "source": [
    "from matplotlib import rc\n",
    "rc('font',**{'family':'serif'})\n",
    "plt.rcParams['pdf.fonttype'] = 42"
   ]
  },
  {
   "cell_type": "code",
   "execution_count": 174,
   "metadata": {
    "slideshow": {
     "slide_type": "subslide"
    }
   },
   "outputs": [
    {
     "data": {
      "image/png": "[encoded data removed]",
      "text/plain": [
       "<Figure size 432x288 with 1 Axes>"
      ]
     },
     "metadata": {
      "needs_background": "light"
     },
     "output_type": "display_data"
    }
   ],
   "source": [
    "x = np.linspace(0, 10, 100)\n",
    "\n",
    "y1 = np.sin(x)\n",
    "y2 = np.sin(x+1)\n",
    "y3 = np.sin(x**1.2)\n",
    "\n",
    "plt.plot(x, y1, '-', label='$\\sin(x)$ - to je LaTeX izpis', linewidth = 2);\n",
    "plt.plot(x, y2, '.', label='sin(x+1) - to ni', linewidth = 2);\n",
    "plt.plot(x, y3, '--', label='$\\sin(x^{1.2})$ - to spet je: čšž', linewidth = 2);\n",
    "plt.legend(loc=(1.01,0)); \n",
    "plt.savefig('data/prvi plot.pdf')"
   ]
  },
  {
   "cell_type": "markdown",
   "metadata": {
    "slideshow": {
     "slide_type": "subslide"
    }
   },
   "source": [
    "### Prikaz več slik\n",
    "\n",
    "Več slik prikažemo s pomočjo metode `subplot`, ki definira mrežo in lego naslednjega izrisala.\n",
    "```python\n",
    "plt.subplot(2, 2, 1)\n",
    "plt.plot(x, y1, 'r')\n",
    "plt.subplot(2, 2, 2)\n",
    "plt.plot(x, y2, 'g')\n",
    "```\n",
    "V primeru zgoraj `plt.subplot(2, 2, 1)` pomeni: mreža naj bo `2 x 2`, riši v sliko 1 (levo zgoraj). Naslednjič se kliče `plt.subplot(2, 2, 2)` kar pomeni mreža `2 x 2`, riši v sliko 2 (desno zgoraj) in tako naprej. Opazimo, da se indeks slik začne z 1; lahko bi rekli, da gre za nekonsistentnost v Pythonu, razlog pa je v tem, da je bil `matplotlib` rojen v ideji, da bi uporabnikom Pythona uporabil čimbolj podoben način izrisa, kakor so ga poznali v Matlabu (kjer se indeks začne z 1)."
   ]
  },
  {
   "cell_type": "markdown",
   "metadata": {
    "slideshow": {
     "slide_type": "subslide"
    }
   },
   "source": [
    "Delujoči primer je:"
   ]
  },
  {
   "cell_type": "code",
   "execution_count": 175,
   "metadata": {},
   "outputs": [
    {
     "data": {
      "image/png": "[encoded data removed]",
      "text/plain": [
       "<Figure size 432x288 with 4 Axes>"
      ]
     },
     "metadata": {
      "needs_background": "light"
     },
     "output_type": "display_data"
    }
   ],
   "source": [
    "plt.subplot(2, 2, 1)\n",
    "plt.plot(x, y1, 'r')\n",
    "plt.subplot(2, 2, 2)\n",
    "plt.plot(x, y2, 'g')\n",
    "plt.subplot(2, 2, 3)\n",
    "plt.plot(x, y2*y3, 'b')\n",
    "plt.subplot(2, 2, 4)\n",
    "plt.plot(x, y2+y3, 'k', linewidth=5);\n",
    "plt.grid()"
   ]
  },
  {
   "cell_type": "markdown",
   "metadata": {
    "slideshow": {
     "slide_type": "subslide"
    }
   },
   "source": [
    "### Histogram\n",
    "\n",
    "Generirajmo 10000 normalno porazdeljenih vzorcev in jih prikažimo v obliki histograma:"
   ]
  },
  {
   "cell_type": "code",
   "execution_count": 176,
   "metadata": {},
   "outputs": [
    {
     "data": {
      "image/png": "[encoded data removed]",
      "text/plain": [
       "<Figure size 432x288 with 1 Axes>"
      ]
     },
     "metadata": {
      "needs_background": "light"
     },
     "output_type": "display_data"
    }
   ],
   "source": [
    "np.random.seed(0)\n",
    "x = np.random.normal(size=10000)\n",
    "plt.hist(x);"
   ]
  },
  {
   "cell_type": "markdown",
   "metadata": {
    "slideshow": {
     "slide_type": "subslide"
    }
   },
   "source": [
    "## Uporaba primerov iz ``matplotlib.org``"
   ]
  },
  {
   "cell_type": "markdown",
   "metadata": {},
   "source": [
    "Primere iz [galerije](http://matplotlib.org/gallery.html) lahko uvozimo s pomočjo magične funkcije `%load`.\n",
    "\n",
    "Poskusite:\n",
    "\n",
    "* `%load http://matplotlib.org/mpl_examples/lines_bars_and_markers/fill_demo.py`\n",
    "* `%load http://matplotlib.org/examples/widgets/slider_demo.py`"
   ]
  },
  {
   "cell_type": "markdown",
   "metadata": {
    "slideshow": {
     "slide_type": "slide"
    }
   },
   "source": [
    "# Nekaj vprašanj za razmislek!"
   ]
  },
  {
   "cell_type": "markdown",
   "metadata": {},
   "source": [
    "1. Naredite slovar lokalno nameščenih modulov (uporabite izpeljevanje slovarjev, ključ naj bo ime modula, vrednost naj bo verzija).\n",
    "2. S pomočjo slovarja iz prejšnje točke čimbolj preprosto preverite, ali so nameščeni sledeči moduli: ['numpy', 'scipy', 'matplotlib', 'pandas', 'pyjamas', 'openpyxl'].\n",
    "3. Namestite poljubni modul iz https://pypi.org in ga preizkusite.\n",
    "4. Pretvorite navaden Pythonov seznam v ``numpy`` numerično polje. Preverite tip enega in drugega.\n",
    "5. Raziščite funkcije ``np.ones``, ``np.zeros_like``, ``np.arange``, ``np.linspace`` (ali zadnja funkcija lahko vrne korak?).\n",
    "6. Prikažite uporabo rezanja.\n",
    "7. Prikažite razliko med vrstičnim in stolpičnim vektorjem. Prikažite tipične matematične operacije med vektorji in matrikami.\n",
    "8. Ustvarite matriko ničel dimenzije 3 x 2 in drugi stolpec zapolnite z vektorjem enic.\n",
    "9. Ustvarite enotsko matriko dimenzije 5 podatkovnega tipa ``complex``.\n",
    "10. Ustvarite enotsko matriko dimenzije ``N`` in izračunajte vsoto poljubnga stolpca. Poskusite najti najhitrejši (vektoriziran) način in ga primerjajte s pristopom v zanki. Namig: np.sum().\n",
    "11. V matriki iz prejšnje točke zamenjajte poljubna stolpca, nato še poljubni vrstici. Preverite hitrost vaše implementacije.\n",
    "12. S pomočjo funkcije ``np.random.rand`` ustvarite dvorazsežno matriko poljubne dimenzije in najdite največjo in najmanjšo vrednost. Preverite možnost ``axis`` v funkciji ``np.max`` ali ``np.min``.\n",
    "13. V matriki iz prejšnje točke najdite indeks, kjer se nahaja največja vrednost.\n",
    "14. Na primeru preprostega diagrama prikažite razliko med *inline* in *interaktivno* uporabo knjižnice ``matplotlib``.\n",
    "15. Na primeru preprostega diagrama prikažite uporabo vsaj 5 različnih tipov črte in 5 različnih barv.\n",
    "16. Raziščite primere http://matplotlib.org/gallery.html. Za primer si podrobneje poglejte enega od zgledov na temo zaznamb *annotation*. Izbrani primer namestite na vaš računalnik.\n",
    "17. Na primeru preprostega diagrama prikažite uporabo zaznamb.\n",
    "18. Dodatno: Naredite preprosto animacijo.\n",
    "19. Dodatno: Izrišite več krogov naključne lege in velikosti ter poljubne barve. Ob kliku se krogom naj spremeni barva."
   ]
  },
  {
   "cell_type": "markdown",
   "metadata": {
    "slideshow": {
     "slide_type": "slide"
    }
   },
   "source": [
    "# Dodatno"
   ]
  },
  {
   "cell_type": "markdown",
   "metadata": {},
   "source": [
    "### `numba`"
   ]
  },
  {
   "cell_type": "markdown",
   "metadata": {},
   "source": [
    "Paket `numba` se v zadnjem obdobju zelo razvija in lahko numerično izvajanje še dodatno pohitri (tudi v povezavi z grafičnimi karticami oz. GPU procesorji). \n",
    "\n",
    "Za zgled tukaj uporabimo `jit` ([just-in-time compilation](http://numba.pydata.org/numba-doc/dev/reference/jit-compilation.html)) iz paketa `numba`:"
   ]
  },
  {
   "cell_type": "code",
   "execution_count": 177,
   "metadata": {},
   "outputs": [],
   "source": [
    "from numba import jit"
   ]
  },
  {
   "cell_type": "markdown",
   "metadata": {
    "slideshow": {
     "slide_type": "subslide"
    }
   },
   "source": [
    "`jit` uporabimo kot [dekorator](https://docs.python.org/3/glossary.html#term-decorator) funkcije, ki jo želimo pohitriti:"
   ]
  },
  {
   "cell_type": "code",
   "execution_count": 178,
   "metadata": {},
   "outputs": [],
   "source": [
    "@jit\n",
    "def skalarni_produkt(a, b):\n",
    "    c = 0\n",
    "    for i in range(N):\n",
    "        c += a[i] * b[i]\n",
    "    return c"
   ]
  },
  {
   "cell_type": "markdown",
   "metadata": {
    "slideshow": {
     "slide_type": "subslide"
    }
   },
   "source": [
    "Sedaj definirajmo vektorja:"
   ]
  },
  {
   "cell_type": "code",
   "execution_count": 179,
   "metadata": {},
   "outputs": [],
   "source": [
    "N = 1000\n",
    "a = np.arange(N)\n",
    "b = np.arange(N)"
   ]
  },
  {
   "cell_type": "markdown",
   "metadata": {},
   "source": [
    "Preverimo hitrost `numpy` skalarnega produkta:"
   ]
  },
  {
   "cell_type": "code",
   "execution_count": 180,
   "metadata": {},
   "outputs": [
    {
     "name": "stdout",
     "output_type": "stream",
     "text": [
      "3.42 µs ± 733 ns per loop (mean ± std. dev. of 7 runs, 1000 loops each)\n"
     ]
    }
   ],
   "source": [
    "%%timeit -n1000\n",
    "a @ b"
   ]
  },
  {
   "cell_type": "markdown",
   "metadata": {
    "slideshow": {
     "slide_type": "subslide"
    }
   },
   "source": [
    "Preverimo še hitrost `numba` pohitrene verzije. Prvi klic izvedemo, da se izvede kompilacija, potem merimo čas:"
   ]
  },
  {
   "cell_type": "code",
   "execution_count": 181,
   "metadata": {},
   "outputs": [
    {
     "data": {
      "text/plain": [
       "332833500"
      ]
     },
     "execution_count": 181,
     "metadata": {},
     "output_type": "execute_result"
    }
   ],
   "source": [
    "skalarni_produkt(a, b)"
   ]
  },
  {
   "cell_type": "code",
   "execution_count": 182,
   "metadata": {},
   "outputs": [
    {
     "name": "stdout",
     "output_type": "stream",
     "text": [
      "1.17 µs ± 291 ns per loop (mean ± std. dev. of 7 runs, 1000 loops each)\n"
     ]
    }
   ],
   "source": [
    "%%timeit -n1000\n",
    "skalarni_produkt(a, b)"
   ]
  },
  {
   "cell_type": "markdown",
   "metadata": {},
   "source": [
    "Vidimo, da smo še izboljšali hitrost!"
   ]
  },
  {
   "cell_type": "markdown",
   "metadata": {
    "slideshow": {
     "slide_type": "subslide"
    }
   },
   "source": [
    "## `matplotlib`: animacije, povratni klic, XKCD stil"
   ]
  },
  {
   "cell_type": "markdown",
   "metadata": {},
   "source": [
    "Z `matplotlib` lahko pripravimo tudi **animacije**. Dva primera lahko najdete tukaj:\n",
    "\n",
    "* [Preprosta animacija](./moduli/matplotlib_animacija.py),\n",
    "* [Dvojno nihalo](./moduli/animacija_dvojno_nihalo.py).\n",
    "\n",
    "Več v [dokumentaciji](https://matplotlib.org/api/animation_api.html#animation)."
   ]
  },
  {
   "cell_type": "markdown",
   "metadata": {
    "slideshow": {
     "slide_type": "subslide"
    }
   },
   "source": [
    "Slika s **povratnim klicem** (angl. *call back*):\n",
    "\n",
    "* [Risanje črte](./moduli/matplotlib_klik.py).\n",
    "\n",
    "Pripravite lahko tudi *na roko* narisane slike (**XKCD stil**):\n",
    "\n",
    "* [XKCD stil](./moduli/xkcd_stil.py)."
   ]
  },
  {
   "cell_type": "markdown",
   "metadata": {
    "slideshow": {
     "slide_type": "subslide"
    }
   },
   "source": [
    "## Za najbolj zagrete"
   ]
  },
  {
   "cell_type": "markdown",
   "metadata": {},
   "source": [
    "1. Naučite se še kaj novega na [chrisalbon.com](http://chrisalbon.com/)."
   ]
  }
 ],
 "metadata": {
  "anaconda-cloud": {},
  "celltoolbar": "Slideshow",
  "kernelspec": {
   "display_name": "Python 3 (ipykernel)",
   "language": "python",
   "name": "python3"
  },
  "language_info": {
   "codemirror_mode": {
    "name": "ipython",
    "version": 3
   },
   "file_extension": ".py",
   "mimetype": "text/x-python",
   "name": "python",
   "nbconvert_exporter": "python",
   "pygments_lexer": "ipython3",
   "version": "3.10.6"
  },
  "latex_envs": {
   "bibliofile": "biblio.bib",
   "cite_by": "apalike",
   "current_citInitial": 1,
   "eqLabelWithNumbers": true,
   "eqNumInitial": 0
  },
  "livereveal": {
   "theme": "sky",
   "transition": "default",
   "width": 1200
  },
  "nav_menu": {},
  "toc": {
   "base_numbering": 1,
   "nav_menu": {
    "height": "371px",
    "width": "252px"
   },
   "number_sections": true,
   "sideBar": true,
   "skip_h1_title": false,
   "title_cell": "Kazalo",
   "title_sidebar": "Kazalo",
   "toc_cell": true,
   "toc_position": {},
   "toc_section_display": "block",
   "toc_window_display": false
  },
  "toc_position": {
   "height": "548px",
   "left": "0px",
   "right": "1006px",
   "top": "106px",
   "width": "212px"
  }
 },
 "nbformat": 4,
 "nbformat_minor": 4
}
