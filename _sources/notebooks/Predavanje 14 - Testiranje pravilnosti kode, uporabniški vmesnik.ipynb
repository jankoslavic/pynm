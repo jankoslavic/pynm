{
 "cells": [
  {
   "cell_type": "markdown",
   "metadata": {
    "slideshow": {
     "slide_type": "slide"
    }
   },
   "source": [
    "# Testiranje pravilnosti kode, uporabniški vmesnik"
   ]
  },
  {
   "cell_type": "markdown",
   "metadata": {
    "slideshow": {
     "slide_type": "slide"
    }
   },
   "source": [
    "# Testiranje pravilnosti kode"
   ]
  },
  {
   "cell_type": "markdown",
   "metadata": {},
   "source": [
    "Kadar razvijamo bolj obsežno kodo in pri tem sodeluje več oseb, se pojavi potreba po avtomatskem testiranju pravilnosti kode. To pomeni, da poleg kode, ki ima določen rezultat, definiramo tudi testirne funkcije; slednje preverjajo ali prve vračajo pričakovani rezultat."
   ]
  },
  {
   "cell_type": "markdown",
   "metadata": {
    "slideshow": {
     "slide_type": "subslide"
    }
   },
   "source": [
    "Preprosti primer je:\n",
    "\n",
    "```python\n",
    "# vsebina datoteke test_prvi.py (mapa moduli)\n",
    "def kvadrat(x):\n",
    "    return x**2 + 1 # očitna napaka glede na ime funkcije\n",
    "\n",
    "def test_kvadrat():\n",
    "    assert kvadrat(2) == 4\n",
    "```"
   ]
  },
  {
   "cell_type": "markdown",
   "metadata": {
    "slideshow": {
     "slide_type": "subslide"
    }
   },
   "source": [
    "Če poženemo funkcijo `test_kvadrat()` se testira pravilnost `kvadrat(2) == 4`; v primeru, da je rezultat `True` se ne zgodi nič, če pa je rezultat `False` se sproži `AssertionError()` (glejte [dokumentacijo](https://docs.python.org/reference/simple_stmts.html#assert) za ukaz `assert`). Ker funkcija `kvadrat()` vrne `x**2+1`, bo testiranje neuspešno. \n",
    "\n",
    "Verjetno se sprašujete v čem je smisel takega *testiranja pravilnosti*. Ko koda postaja obsežna in na njej dela veliko oseb, postane nujno tudi prepletena. Tako se lahko zgodi, da razvijalec doda novo funkcionalnost in nehote poruši obstoječo. Če so vse funkcionalnosti testirane, bo testiranje zaznalo neustreznost predlagane spremembe."
   ]
  },
  {
   "cell_type": "markdown",
   "metadata": {
    "slideshow": {
     "slide_type": "subslide"
    }
   },
   "source": [
    "Večina paketov ima tako dodano testiranje pravilnosti; za primer si lahko pogledate izvorno kodo paketa *NumPy*, ki se nahaja na [githubu](https://github.com/numpy/numpy/tree/master/numpy/); če pogledate [vsebino](https://github.com/numpy/numpy/tree/master/numpy/linalg) podmodula `numpy.linalg` za linearno algebro:\n",
    "\n",
    "<img width=400 src='./fig/github_numpy_linalg.png'>\n",
    "\n",
    "opazimo podmapo `tests`. Slednja je v celoti namenjena testiranju in vsebuje množico Python datotek, ki preverjajo ustreznost podmodula."
   ]
  },
  {
   "cell_type": "markdown",
   "metadata": {
    "slideshow": {
     "slide_type": "subslide"
    }
   },
   "source": [
    "Obstaja več možnosti testiranja kode, pogosto se uporabljajo sledeče:\n",
    "\n",
    "* [`unittest`](https://docs.python.org/library/unittest.html) (je vgrajen v Python),\n",
    "* [`nose`](http://nose.readthedocs.io/en/latest/),\n",
    "* [`pytest`](https://docs.pytest.org/).\n",
    "\n",
    "Vsi trije pristopi imajo podobno funkcionalnost. V zadnjem obdobju pa se najpogosteje uporablja `pytest` (npr. NumPy/SciPy), katerega osnove si bomo tukaj pogledali."
   ]
  },
  {
   "cell_type": "markdown",
   "metadata": {},
   "source": [
    "## pytest\n",
    "\n",
    "Modul `pytest` je vključen v Anaconda distribucijo Pythona, sicer pa ga namestimo z ukazom `pip` ali `conda`.\n",
    "\n",
    "Nekatere lastnosti:\n",
    "\n",
    "* vrne opis testa, ki ni bil uspešen,\n",
    "* samodejno iskanje testnih modulov in funkcij,\n",
    "* lahko vključuje `unittest` in `nose` teste."
   ]
  },
  {
   "cell_type": "markdown",
   "metadata": {
    "slideshow": {
     "slide_type": "subslide"
    }
   },
   "source": [
    "Če v ukazni vrstici poženete `pytest`, bo program sam poiskal trenutno mapo in vse podmape za datoteke oblike `test_*.py` ali `*_test.py` (napredno iskanje je navedeno v [dokumentaciji](https://docs.pytest.org/en/latest/goodpractices.html#test-discovery))."
   ]
  },
  {
   "cell_type": "markdown",
   "metadata": {},
   "source": [
    "Če v ukazni vrstici poženemo ukaz:\n",
    "```\n",
    "pytest\n",
    "```\n",
    "bomo dobili tako poročilo:"
   ]
  },
  {
   "cell_type": "markdown",
   "metadata": {
    "slideshow": {
     "slide_type": "subslide"
    }
   },
   "source": [
    "```\n",
    "============================= test session starts =============================\n",
    "platform win32 -- Python 3.6.2, pytest-3.2.1, py-1.4.34, pluggy-0.4.0\n",
    "rootdir: c:\\pypinm\\moduli, inifile:\n",
    "collected 4 items\n",
    "\n",
    "test_orodja.py ...\n",
    "test_prvi.py F\n",
    "\n",
    "================================== FAILURES ===================================\n",
    "________________________________ test_kvadrat _________________________________\n",
    "\n",
    "    def test_kvadrat():\n",
    ">       assert kvadrat(2) == 4\n",
    "E       assert 5 == 4\n",
    "E        +  where 5 = kvadrat(2)\n",
    "\n",
    "test_prvi.py:5: AssertionError\n",
    "===================== 1 failed, 3 passed in 0.65 seconds ======================\n",
    "```"
   ]
  },
  {
   "cell_type": "markdown",
   "metadata": {
    "slideshow": {
     "slide_type": "-"
    }
   },
   "source": [
    "Iz poročila vidimo, da je program našel dve datoteki (`test_orodja.py` in `test_prvi.py`) in da je prišlo do napake pri eni funkciji (`test_kvadrat`), tri funkcije pa so uspešno prestale test."
   ]
  },
  {
   "cell_type": "markdown",
   "metadata": {
    "slideshow": {
     "slide_type": "subslide"
    }
   },
   "source": [
    "Za osnovno uporabo pri numeričnih izračunih je treba še izpostaviti modul `numpy.testing` ([dokumentacija](http://docs.scipy.org/doc/numpy/reference/routines.testing.html#)), ki nudi podporo za testiranje numeričnih polj. \n",
    "\n",
    "Izbrane funkcije so:\n",
    "\n",
    "* `assert_allclose(dejansko, pričakovano[, rtol, ...])` ([dokumentacija](https://docs.scipy.org/doc/numpy/reference/generated/numpy.testing.assert_allclose.html#numpy.testing.assert_allclose)) preveri enakost do zahtevane natančnosti,\n",
    "* `assert_array_less(x, y[, err_msg, verbose])` ([dokumentacija](https://docs.scipy.org/doc/numpy/reference/generated/numpy.testing.assert_array_less.html#numpy.testing.assert_array_less)) preveri, ali so elementi `x` manjši od elementov `y`,\n",
    "* `assert_string_equal(dejansko, pričakovano)` ([dokumentacija](https://docs.scipy.org/doc/numpy/reference/generated/numpy.testing.assert_string_equal.html#numpy.testing.assert_string_equal)) preveri enakost niza."
   ]
  },
  {
   "cell_type": "markdown",
   "metadata": {
    "slideshow": {
     "slide_type": "subslide"
    }
   },
   "source": [
    "### Zgled: `test_orodja.py`:\n",
    "\n",
    "V datoteki `test_orodja.py` so pripravljene funkcije za testiranje modula `orodja.py`. \n",
    "\n",
    "Tako so najprej pripravljeni podatki:\n",
    "```python\n",
    "zacetna = np.asarray([[1, 2, 3],\n",
    "                      [4, 5, 6],\n",
    "                      [7, 8, 9]])\n",
    "zamenjana_0_1_stolpca = np.asarray([[2, 1, 3],\n",
    "                                    [5, 4, 6],\n",
    "                                    [8, 7, 9]])\n",
    "```"
   ]
  },
  {
   "cell_type": "markdown",
   "metadata": {
    "slideshow": {
     "slide_type": "subslide"
    }
   },
   "source": [
    "Potem je definirana funkcija, ki kliče funkcijo `orodja.zamenjaj_stolpca()` in rezultat primerja s pričakovanim `zamenjana_0_1_stolpca`:\n",
    "\n",
    "```python\n",
    "def test_stolpec():\n",
    "    a = zacetna.copy() # naredimo kopijo podatkov\n",
    "    b = orodja.zamenjaj_stolpca(a, 0, 1) # b (in tudi a) imata zamenjane stolpce\n",
    "    np.testing.assert_allclose(b, zamenjana_0_1_stolpca)\n",
    "```"
   ]
  },
  {
   "cell_type": "markdown",
   "metadata": {},
   "source": [
    "Če funkcija `orodja.zamenjaj_stolpca()` deluje pravilno, se klicanje `pytest` v ukazni vrstici uspešno zaključi. Za preostale teste poglejte datoteko `test_orodja.py` in [dokumentacijo](https://docs.pytest.org/) paketa `pytest`."
   ]
  },
  {
   "cell_type": "markdown",
   "metadata": {
    "slideshow": {
     "slide_type": "slide"
    }
   },
   "source": [
    "# Grafični uporabniški vmesnik"
   ]
  },
  {
   "cell_type": "markdown",
   "metadata": {
    "slideshow": {
     "slide_type": "subslide"
    }
   },
   "source": [
    "Uporabniški vmesnik se uporablja za interakcijo uporabnika s programsko kodo. Uporabniški vmesniki so lahko preko ukazne vrstice ali grafični. Za preproste uporabniške vmesnike preko ukazne vrstice je najbolje, da uporabimo kar [`argparse`](https://docs.python.org/3/library/argparse.html), sicer pa se bomo tukaj predvsem osredotočili na **grafični uporabniški vmesnik**.\n",
    "\n",
    "## Grafični uporabniški vmesnik znotraj brskalnika\n",
    "V zadnjem obdobju je opaziti veliko napora pri podpori razvoja grafičnih vmesnikov znotraj okolja *Jupyter notebook* ali *Jupyter lab*. Takšen pristop ima predvsem to prednost, da je nadgradnja v obliki spletne aplikacije relativno enostavna, glejte npr.: [Dashboarding with Jupyter Notebooks, Voila and Widgets | SciPy 2019 | M. Breddels and M. Renou](https://www.youtube.com/watch?v=VtchVpoSdoQ)."
   ]
  },
  {
   "cell_type": "markdown",
   "metadata": {
    "slideshow": {
     "slide_type": "subslide"
    }
   },
   "source": [
    "## Grafični uporabniški vmesnik znotraj operacijskega sistema\n",
    "v okviru tega poglavja si bomo pogledali klasične uporabniške vmesnike, ki jih poganjamo v okviru določenega operacijskega sistema. Tudi za programiranje grafičnega uporabniškega vmesnika obstaja veliko različnih načinov/modulov. Nekaj najpogosteje uporabljenih:\n",
    "\n",
    "* [PyQt](https://riverbankcomputing.com/software/pyqt/intro) temelji na [Qt](https://www.qt.io/), ki predstavlja najbolj razširjeno platforma za uporabniške vmesnike,\n",
    "* [PySide](https://wiki.qt.io/PySide) podobno kakor *PyQt*, vendar s širšo licenco [LGPL](http://qt-project.org/wiki/PySide), a žal tudi slabšo podporo (tukaj je dobra knjiga: [PySide GUI Application Development - SE](https://www.packtpub.com/application-development/pyside-gui-application-development-second-edition)),\n",
    "* [Kivy](http://kivy.org/) za hiter razvoj modernih uporabniških vmesnikov (ni tako zrel kakor npr. Qt),\n",
    "* [wxWidgets](https://www.wxwidgets.org/) široko uporabljena prosta platforma za izdelavo uporabniških vmesnikov."
   ]
  },
  {
   "cell_type": "markdown",
   "metadata": {
    "slideshow": {
     "slide_type": "subslide"
    }
   },
   "source": [
    "Med vsemi naštetimi si bomo podrobneje pogledali *PyQt*, ki je verjetno najboljša in tudi najbolj dozorela izbira (za komercialno uporabo pa žal ni brezplačna). \n",
    "\n",
    "Velja omeniti, da uporabniški vmesnik lahko:\n",
    "\n",
    "* *rišemo* s [QtDesignerjem](http://doc.qt.io/qt-5/qtdesigner-manual.html) (glejte [video](https://www.youtube.com/watch?v=GLqrzLIIW2E)), ali \n",
    "* *kodiramo*.\n",
    "\n",
    "Tukaj bomo uporabniški vmesnik *kodirali*."
   ]
  },
  {
   "cell_type": "markdown",
   "metadata": {
    "slideshow": {
     "slide_type": "subslide"
    }
   },
   "source": [
    "## Zgled"
   ]
  },
  {
   "cell_type": "markdown",
   "metadata": {},
   "source": [
    "Najprej uvozimo paket za interakcijo in z grafičnimi objekti:"
   ]
  },
  {
   "cell_type": "code",
   "execution_count": 1,
   "metadata": {},
   "outputs": [],
   "source": [
    "from PyQt5 import QtCore     # za interakcijo \n",
    "from PyQt5 import QtWidgets  # grafični objekti"
   ]
  },
  {
   "cell_type": "markdown",
   "metadata": {},
   "source": [
    "Potrebovali bomo tudi modul `sys` za poganjanje programa:"
   ]
  },
  {
   "cell_type": "code",
   "execution_count": 2,
   "metadata": {},
   "outputs": [],
   "source": [
    "import sys"
   ]
  },
  {
   "cell_type": "markdown",
   "metadata": {
    "slideshow": {
     "slide_type": "subslide"
    }
   },
   "source": [
    "Uporabniški vmesnik tipično gradimo na razredu `QtWidgets.QMainWindow` ([dokumentacija](http://doc.qt.io/qt-5/qmainwindow.html)), ki ima  spodaj prikazano strukturo:\n",
    "\n",
    "<img width=350 src=\"http://doc.qt.io/qt-5/images/mainwindowlayout.png\">"
   ]
  },
  {
   "cell_type": "markdown",
   "metadata": {
    "slideshow": {
     "slide_type": "subslide"
    }
   },
   "source": [
    "Bistveni grafični elementi, ki jih pri takem uporabniškem vmesniku uporabimo, so:\n",
    "\n",
    "* *Menu Bar*,\n",
    "* *Toolbars*,\n",
    "* *Dock Widgets*,\n",
    "* *Central Widget*,\n",
    "* *Status bar*."
   ]
  },
  {
   "cell_type": "markdown",
   "metadata": {
    "slideshow": {
     "slide_type": "subslide"
    }
   },
   "source": [
    "Ni potrebno definirati vseh; spodaj si bomo pogledali primer, ko bomo definirali *Status bar*, *Central Widget* in *Menu Bar*. Ponavadi vse elemente definiramo pri inicializaciji instance razreda (metoda `__init__`). \n",
    "\n",
    "Tukaj izpostavimo, da grafični vmesnik temelji na t. i. *Widgetih*, (za na primer gumb, tabelo, datum itd.). Prikaz nekaterih možnosti je prikazan v:\n",
    "\n",
    "* [Qt 5 Windows galeriji](https://doc.qt.io/qt-5/gallery.html),\n",
    "* [Qt5 galeriji](https://doc.qt.io/qt-5/gallery.html).\n",
    "\n",
    "Zelo enostaven uporabniški vmesnik (z vrstičnimi komentarji kode) je prikazan spodaj."
   ]
  },
  {
   "cell_type": "code",
   "execution_count": 3,
   "metadata": {
    "slideshow": {
     "slide_type": "subslide"
    }
   },
   "outputs": [],
   "source": [
    "import sys\n",
    "from PyQt5 import QtCore\n",
    "from PyQt5 import QtGui\n",
    "from PyQt5 import QtWidgets\n",
    "\n",
    "class GlavnOkno(QtWidgets.QMainWindow):\n",
    "    \"\"\" Glavno okno podeduje `QtWidgets.QMainWindow`\n",
    "    \"\"\"\n",
    "\n",
    "    def __init__(self):\n",
    "        \"\"\" Konstruktor GlavnoOkno objekta\n",
    "        \"\"\"\n",
    "        QtWidgets.QMainWindow.__init__(self) # konstruktor starša\n",
    "        self.setWindowTitle('Naslovno okno programa')\n",
    " \n",
    "        # status bar\n",
    "        self.moj_status_bar = QtWidgets.QStatusBar() # novi widget\n",
    "        self.moj_status_bar.showMessage('Ta tekst po 10s izgine', 10000)\n",
    "        self.setStatusBar(self.moj_status_bar) # tukaj se self.moj_status_bar priredi predpripravljenemu v QMainWindow\n",
    "\n",
    "        # central widget\n",
    "        self.gumb1 = QtWidgets.QPushButton('Gumb 1') # Gumb z napisom 'Gumb 1'\n",
    "        self.gumb1.pressed.connect(self.akcija_pri_pritisku_gumba1) # povežemo pritisk s funkcijo za akcijo\n",
    "        self.setCentralWidget(self.gumb1) # dodamo gumb v `CentralWidget`\n",
    "        \n",
    "        # menuji\n",
    "        self.moj_izhod_akcija = QtWidgets.QAction('&Izhod', \n",
    "                                             self, shortcut=QtGui.QKeySequence.Close,\n",
    "                                             statusTip=\"Izhod iz programa\",\n",
    "                                             triggered=self.close)\n",
    "        self.moj_datoteka_menu = self.menuBar().addMenu('&Datoteka') # menu 'Datoteka'\n",
    "        self.moj_datoteka_menu.addAction(self.moj_izhod_akcija) # povezava do zgoraj definirane akcije `self.moj_izhod_akcija`\n",
    "        \n",
    "    def akcija_pri_pritisku_gumba1(self):\n",
    "        QtWidgets.QMessageBox.about(self,\n",
    "                                'Naslov :)',\n",
    "                                'Tole se sproži pri pritisku gumba.')"
   ]
  },
  {
   "cell_type": "markdown",
   "metadata": {
    "slideshow": {
     "slide_type": "subslide"
    }
   },
   "source": [
    "Program potem poženemo znotraj stavka `try`:"
   ]
  },
  {
   "cell_type": "code",
   "execution_count": 4,
   "metadata": {},
   "outputs": [
    {
     "name": "stdout",
     "output_type": "stream",
     "text": [
      "Zapiram okno.\n"
     ]
    }
   ],
   "source": [
    "try:\n",
    "    app = QtWidgets.QApplication(sys.argv)\n",
    "    mainWindow = GlavnOkno()\n",
    "    mainWindow.show()\n",
    "    app.exec_()\n",
    "    sys.exit(0)\n",
    "except SystemExit:\n",
    "    print('Zapiram okno.')\n",
    "except:\n",
    "    print(sys.exc_info())"
   ]
  },
  {
   "cell_type": "markdown",
   "metadata": {
    "slideshow": {
     "slide_type": "subslide"
    }
   },
   "source": [
    "Za naprednejši zgled glejte datoteki:\n",
    "\n",
    "* [preprosti_uporabniski_vmesnik.py](./moduli/preprosti_uporabniski_vmesnik.py),\n",
    "* [uporabniski_vmesnik.py](./moduli/uporabniski_vmesnik.py) in \n",
    "* [brskalnik.py](./moduli/brskalnik.py)."
   ]
  },
  {
   "cell_type": "markdown",
   "metadata": {
    "slideshow": {
     "slide_type": "subslide"
    }
   },
   "source": [
    "Nekaj komentarjev na ``uporabniski_vmesnik.py``:\n",
    "\n",
    "1. Poglejte prepis dogodka ``mouseDoubleClickEvent`` in prepišite podedovan dogodek ``keyPressEvent``, ki naj ob pritisku katerekoli tipke zapre program (če se nahajate v TextEdit polju, potem seveda pritisk tipke izpiše vrednost te tipke).\n",
    "2. Dodajte še kakšen *Widget* s [seznama](http://doc.qt.io/qt-5/gallery-windows.html).\n",
    "3. Spremenite program, da se bo vedno izrisovala funkcija sinus, v vpisno polje ``function_text`` pa boste zapisali število diskretnih točk (sedaj je točk 100).  Povežite polje z ustreznimi funkcijami.\n",
    "4. Uredite lovljenje napak pri zgornji spremembi."
   ]
  },
  {
   "cell_type": "markdown",
   "metadata": {
    "slideshow": {
     "slide_type": "slide"
    }
   },
   "source": [
    "# Nekaj vprašanj za razmislek!"
   ]
  },
  {
   "cell_type": "markdown",
   "metadata": {},
   "source": [
    "1. V PyCharm-u pripravite modul, ki bo imel dve funkciji:\n",
    "    * za množenje matrike in vektorja,\n",
    "    * za množenje dveh matrik.\n",
    "2. Za modul zgoraj pripravite skripto za testiranje (uporabite ``numpy.testing``).\n",
    "3. V ``uporabniski_vmesnik_simple.py`` inicializijski metodi ``__init__`` zakomentirajte vse klice na metode ``self.init ...`` razen na metodo: ``self.init_status_bar()``. Poženite program v navadnem načinu. Nastavite *break* točko na ``self.setGeometry(50, 50, 600, 400)`` in poženite program v *debug* načinu.\n",
    "4. Nadaljujte prejšnjo točko in poiščite bližnjico za pomikanje po vrsticah:\n",
    "    * s preskokom vrstice,\n",
    "    * z vstopom v vrstico.\n",
    "\n",
    "    Vstopite v ``init_status_bar(self)`` in se ustavite pri vrstici ``self.setStatusBar(self.status_bar)``. Odprite konzolo (*console*) in prek ukazne vrstice spremenite vrednost ``self.status_bar.showMessage()``.\n",
    "5. Odkomentirajte prej (zgoraj) zakomentirane vrstice. Dodajte tretji gumb, ki naj program zapre.\n",
    "6. Dodajte še kakšen *Widget* s [seznama](http://doc.qt.io/qt-5/gallery-windows.html)."
   ]
  }
 ],
 "metadata": {
  "anaconda-cloud": {},
  "celltoolbar": "Slideshow",
  "kernelspec": {
   "display_name": "Python 3 (ipykernel)",
   "language": "python",
   "name": "python3"
  },
  "language_info": {
   "codemirror_mode": {
    "name": "ipython",
    "version": 3
   },
   "file_extension": ".py",
   "mimetype": "text/x-python",
   "name": "python",
   "nbconvert_exporter": "python",
   "pygments_lexer": "ipython3",
   "version": "3.10.6"
  },
  "latex_envs": {
   "bibliofile": "biblio.bib",
   "cite_by": "apalike",
   "current_citInitial": 1,
   "eqLabelWithNumbers": true,
   "eqNumInitial": 0
  },
  "livereveal": {
   "theme": "sky",
   "transition": "default",
   "width": 1200
  },
  "nav_menu": {},
  "toc": {
   "base_numbering": 1,
   "nav_menu": {
    "height": "120px",
    "width": "252px"
   },
   "number_sections": true,
   "sideBar": true,
   "skip_h1_title": false,
   "title_cell": "Kazalo",
   "title_sidebar": "Kazalo",
   "toc_cell": true,
   "toc_position": {},
   "toc_section_display": "block",
   "toc_window_display": false
  }
 },
 "nbformat": 4,
 "nbformat_minor": 4
}
