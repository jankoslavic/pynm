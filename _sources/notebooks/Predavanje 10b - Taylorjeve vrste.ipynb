{
 "cells": [
  {
   "cell_type": "markdown",
   "metadata": {
    "slideshow": {
     "slide_type": "slide"
    }
   },
   "source": [
    "<font size=\"2\"> [github.com/jankoslavic/pypinm](http://github.com/jankoslavic/pypinm)</font>\n",
    "\n",
    "[Prof. dr. Janko Slavič](http://www.ladisk.si/~slavic)\n",
    "\n",
    "<center>\n",
    "<img width=300 src=\"./fig/ladisk.png\">\n",
    "<br>\n",
    "<font size=\"7\" color=\"f00e0e\" face=\"garamond\"><b>Taylorjeve vrste</b></font>\n",
    "<br>\n",
    "<font size=\"2\">September 2022</font>\n",
    "</center>"
   ]
  },
  {
   "cell_type": "markdown",
   "metadata": {
    "toc": "true"
   },
   "source": [
    "<h1>Kazalo<span class=\"tocSkip\"></span></h1>\n",
    "<div class=\"toc\"><ul class=\"toc-item\"><li><span><a href=\"#Uvod\" data-toc-modified-id=\"Uvod-1\"><span class=\"toc-item-num\">1&nbsp;&nbsp;</span>Uvod</a></span></li><li><span><a href=\"#Razvoj-funkcije-sin-v-vrsto\" data-toc-modified-id=\"Razvoj-funkcije-sin-v-vrsto-2\"><span class=\"toc-item-num\">2&nbsp;&nbsp;</span>Razvoj funkcije sin v vrsto</a></span></li></ul></div>"
   ]
  },
  {
   "cell_type": "markdown",
   "metadata": {
    "slideshow": {
     "slide_type": "slide"
    }
   },
   "source": [
    "# Uvod"
   ]
  },
  {
   "cell_type": "code",
   "execution_count": 1,
   "metadata": {},
   "outputs": [],
   "source": [
    "import sympy as sym\n",
    "sym.init_printing()\n",
    "import matplotlib.pyplot as plt\n",
    "%matplotlib inline\n",
    "import numpy as np"
   ]
  },
  {
   "cell_type": "code",
   "execution_count": 23,
   "metadata": {},
   "outputs": [],
   "source": [
    "f = sym.Function('f')\n",
    "x, h, x0 = sym.symbols('x, h, x0')"
   ]
  },
  {
   "cell_type": "markdown",
   "metadata": {
    "slideshow": {
     "slide_type": "subslide"
    }
   },
   "source": [
    "Definicija **Taylorjeve vrste**:"
   ]
  },
  {
   "cell_type": "code",
   "execution_count": 24,
   "metadata": {},
   "outputs": [
    {
     "data": {
      "image/png": "[encoded data removed]",
      "text/latex": [
       "$\\displaystyle f{\\left(x_{0} \\right)} + \\left(x - x_{0}\\right) \\frac{d}{d x_{0}} f{\\left(x_{0} \\right)} + \\frac{\\left(x - x_{0}\\right)^{2} \\frac{d^{2}}{d x_{0}^{2}} f{\\left(x_{0} \\right)}}{2} + O\\left(\\left(x - x_{0}\\right)^{3}; x\\rightarrow x_{0}\\right)$"
      ],
      "text/plain": [
       "                                          2                               \n",
       "                                      2  d                                \n",
       "                              (x - x₀) ⋅────(f(x₀))                       \n",
       "                                           2                              \n",
       "                  d                     dx₀            ⎛        3        ⎞\n",
       "f(x₀) + (x - x₀)⋅───(f(x₀)) + ───────────────────── + O⎝(x - x₀) ; x → x₀⎠\n",
       "                 dx₀                    2                                 "
      ]
     },
     "execution_count": 24,
     "metadata": {},
     "output_type": "execute_result"
    }
   ],
   "source": [
    "f(x).series(x, x0, n=3).doit()"
   ]
  },
  {
   "cell_type": "markdown",
   "metadata": {},
   "source": [
    "$f$ je funkcija, $x$ je spremenljivka, $x_0$ je vrednost okoli katere razvijamo vrsto."
   ]
  },
  {
   "cell_type": "markdown",
   "metadata": {
    "slideshow": {
     "slide_type": "subslide"
    }
   },
   "source": [
    "Če Taylorjevo vrsto razvijemo okoli $x_0=0$, dobimo t.i. **Maclaurin vrsto**"
   ]
  },
  {
   "cell_type": "code",
   "execution_count": 4,
   "metadata": {},
   "outputs": [
    {
     "data": {
      "image/png": "[encoded data removed]",
      "text/latex": [
       "$\\displaystyle f{\\left(0 \\right)} + x \\left. \\frac{d}{d \\xi} f{\\left(\\xi \\right)} \\right|_{\\substack{ \\xi=0 }} + \\frac{x^{2} \\left. \\frac{d^{2}}{d \\xi^{2}} f{\\left(\\xi \\right)} \\right|_{\\substack{ \\xi=0 }}}{2} + \\frac{x^{3} \\left. \\frac{d^{3}}{d \\xi^{3}} f{\\left(\\xi \\right)} \\right|_{\\substack{ \\xi=0 }}}{6} + O\\left(x^{4}\\right)$"
      ],
      "text/plain": [
       "                             ⎛  2      ⎞│         ⎛  3      ⎞│           \n",
       "                           2 ⎜ d       ⎟│       3 ⎜ d       ⎟│           \n",
       "                          x ⋅⎜───(f(ξ))⎟│      x ⋅⎜───(f(ξ))⎟│           \n",
       "                             ⎜  2      ⎟│         ⎜  3      ⎟│           \n",
       "         ⎛d       ⎞│         ⎝dξ       ⎠│ξ=0      ⎝dξ       ⎠│ξ=0    ⎛ 4⎞\n",
       "f(0) + x⋅⎜──(f(ξ))⎟│    + ────────────────── + ────────────────── + O⎝x ⎠\n",
       "         ⎝dξ      ⎠│ξ=0           2                    6                 "
      ]
     },
     "execution_count": 4,
     "metadata": {},
     "output_type": "execute_result"
    }
   ],
   "source": [
    "f(x).series(x, x0=0, n=4).doit()"
   ]
  },
  {
   "cell_type": "markdown",
   "metadata": {
    "slideshow": {
     "slide_type": "slide"
    }
   },
   "source": [
    "# Razvoj funkcije sin v vrsto"
   ]
  },
  {
   "cell_type": "code",
   "execution_count": 27,
   "metadata": {},
   "outputs": [
    {
     "data": {
      "image/png": "[encoded data removed]",
      "text/latex": [
       "$\\displaystyle x - \\frac{x^{3}}{6} + O\\left(x^{4}\\right)$"
      ],
      "text/plain": [
       "     3        \n",
       "    x     ⎛ 4⎞\n",
       "x - ── + O⎝x ⎠\n",
       "    6         "
      ]
     },
     "execution_count": 27,
     "metadata": {},
     "output_type": "execute_result"
    }
   ],
   "source": [
    "sym.series(sym.sin(x), x, x0=0, n=4)"
   ]
  },
  {
   "cell_type": "code",
   "execution_count": 28,
   "metadata": {},
   "outputs": [
    {
     "data": {
      "image/png": "[encoded data removed]",
      "text/latex": [
       "$\\displaystyle x - \\frac{x^{3}}{6} + O\\left(x^{4}\\right)$"
      ],
      "text/plain": [
       "     3        \n",
       "    x     ⎛ 4⎞\n",
       "x - ── + O⎝x ⎠\n",
       "    6         "
      ]
     },
     "execution_count": 28,
     "metadata": {},
     "output_type": "execute_result"
    }
   ],
   "source": [
    "sym.series(sym.sin(x), x, x0=0, n=4)"
   ]
  },
  {
   "cell_type": "code",
   "execution_count": 29,
   "metadata": {
    "slideshow": {
     "slide_type": "subslide"
    }
   },
   "outputs": [],
   "source": [
    "x0 = sym.pi/4\n",
    "n = 2\n",
    "sinO2 = sym.lambdify(x, sym.series(sym.sin(x), x, x0=x0, n=n).removeO(), modules='numpy')\n",
    "n = 4\n",
    "sinO4 = sym.lambdify(x, sym.series(sym.sin(x), x, x0=x0, n=n).removeO(), modules='numpy')\n",
    "n = 6\n",
    "sinO6 = sym.lambdify(x, sym.series(sym.sin(x), x, x0=x0, n=n).removeO(), modules='numpy')"
   ]
  },
  {
   "cell_type": "code",
   "execution_count": 30,
   "metadata": {
    "slideshow": {
     "slide_type": "subslide"
    }
   },
   "outputs": [
    {
     "data": {
      "image/png": "[encoded data removed]",
      "text/plain": [
       "<Figure size 432x288 with 1 Axes>"
      ]
     },
     "metadata": {
      "needs_background": "light"
     },
     "output_type": "display_data"
    }
   ],
   "source": [
    "xx = np.linspace(-np.pi/2, np.pi/2, 100)\n",
    "plt.plot(xx, np.sin(xx), label='$\\sin$')\n",
    "plt.plot(xx, sinO2(xx), label='$\\sin O(x^2)$')\n",
    "plt.plot(xx, sinO4(xx), label='$\\sin O(x^4)$')\n",
    "plt.plot(xx, sinO6(xx), label='$\\sin O(x^6)$')\n",
    "plt.legend();"
   ]
  },
  {
   "cell_type": "markdown",
   "metadata": {
    "slideshow": {
     "slide_type": "slide"
    }
   },
   "source": [
    "Premik $x_0=\\pi/2$"
   ]
  },
  {
   "cell_type": "code",
   "execution_count": 31,
   "metadata": {},
   "outputs": [
    {
     "data": {
      "image/png": "[encoded data removed]",
      "text/latex": [
       "$\\displaystyle 1 + O\\left(\\left(x - \\frac{\\pi}{2}\\right)^{2}; x\\rightarrow \\frac{\\pi}{2}\\right)$"
      ],
      "text/plain": [
       "     ⎛       2       ⎞\n",
       "     ⎜⎛    π⎞       π⎟\n",
       "1 + O⎜⎜x - ─⎟ ; x → ─⎟\n",
       "     ⎝⎝    2⎠       2⎠"
      ]
     },
     "execution_count": 31,
     "metadata": {},
     "output_type": "execute_result"
    }
   ],
   "source": [
    "sym.series(sym.sin(x), x, x0=sym.pi/2, n=2)"
   ]
  },
  {
   "cell_type": "code",
   "execution_count": 32,
   "metadata": {},
   "outputs": [
    {
     "data": {
      "image/png": "[encoded data removed]",
      "text/latex": [
       "$\\displaystyle 1 - \\frac{\\left(x - \\frac{\\pi}{2}\\right)^{2}}{2} + O\\left(\\left(x - \\frac{\\pi}{2}\\right)^{4}; x\\rightarrow \\frac{\\pi}{2}\\right)$"
      ],
      "text/plain": [
       "           2                     \n",
       "    ⎛    π⎞                      \n",
       "    ⎜x - ─⎟     ⎛       4       ⎞\n",
       "    ⎝    2⎠     ⎜⎛    π⎞       π⎟\n",
       "1 - ──────── + O⎜⎜x - ─⎟ ; x → ─⎟\n",
       "       2        ⎝⎝    2⎠       2⎠"
      ]
     },
     "execution_count": 32,
     "metadata": {},
     "output_type": "execute_result"
    }
   ],
   "source": [
    "sym.series(sym.sin(x), x, x0=sym.pi/2, n=4)"
   ]
  },
  {
   "cell_type": "code",
   "execution_count": 33,
   "metadata": {
    "slideshow": {
     "slide_type": "subslide"
    }
   },
   "outputs": [
    {
     "data": {
      "image/png": "[encoded data removed]",
      "text/latex": [
       "$\\displaystyle - \\frac{\\sqrt{2} \\left(x - \\frac{\\pi}{4}\\right)^{3}}{12} - \\frac{\\sqrt{2} \\left(x - \\frac{\\pi}{4}\\right)^{2}}{4} + \\frac{\\sqrt{2} \\left(x - \\frac{\\pi}{4}\\right)}{2} + \\frac{\\sqrt{2}}{2}$"
      ],
      "text/plain": [
       "            3             2                  \n",
       "     ⎛    π⎞       ⎛    π⎞       ⎛    π⎞     \n",
       "  √2⋅⎜x - ─⎟    √2⋅⎜x - ─⎟    √2⋅⎜x - ─⎟     \n",
       "     ⎝    4⎠       ⎝    4⎠       ⎝    4⎠   √2\n",
       "- ─────────── - ─────────── + ────────── + ──\n",
       "       12            4            2        2 "
      ]
     },
     "execution_count": 33,
     "metadata": {},
     "output_type": "execute_result"
    }
   ],
   "source": [
    "n=4\n",
    "sym.series(sym.sin(x), x, x0=x0, n=n).removeO()"
   ]
  },
  {
   "cell_type": "code",
   "execution_count": 34,
   "metadata": {},
   "outputs": [],
   "source": [
    "x0_ = sym.pi/2\n",
    "#n = 2\n",
    "#sinO2 = sym.lambdify(x, sym.series(sym.sin(x), x, x0=x0_, n=n).removeO(), modules='numpy')\n",
    "n = 4\n",
    "sinO4 = sym.lambdify(x, sym.series(sym.sin(x), x, x0=x0_, n=n).removeO(), modules='numpy')\n",
    "n = 6\n",
    "sinO6 = sym.lambdify(x, sym.series(sym.sin(x), x, x0=x0_, n=n).removeO(), modules='numpy')"
   ]
  },
  {
   "cell_type": "code",
   "execution_count": 35,
   "metadata": {
    "slideshow": {
     "slide_type": "subslide"
    }
   },
   "outputs": [
    {
     "data": {
      "image/png": "[encoded data removed]",
      "text/plain": [
       "<Figure size 432x288 with 1 Axes>"
      ]
     },
     "metadata": {
      "needs_background": "light"
     },
     "output_type": "display_data"
    }
   ],
   "source": [
    "xx = np.linspace(-np.pi, np.pi, 100)\n",
    "plt.plot(xx, np.sin(xx), label='$\\sin$')\n",
    "plt.plot(xx, sinO4(xx), label='$\\sin O(x^4)$')\n",
    "plt.plot(xx, sinO6(xx), label='$\\sin O(x^6)$')\n",
    "plt.legend();"
   ]
  },
  {
   "cell_type": "code",
   "execution_count": 36,
   "metadata": {},
   "outputs": [
    {
     "data": {
      "image/png": "[encoded data removed]",
      "text/latex": [
       "$\\displaystyle 1 + x + O\\left(x^{2}\\right)$"
      ],
      "text/plain": [
       "         ⎛ 2⎞\n",
       "1 + x + O⎝x ⎠"
      ]
     },
     "execution_count": 36,
     "metadata": {},
     "output_type": "execute_result"
    }
   ],
   "source": [
    "sym.series(sym.exp(x), x, x0=0, n=2)"
   ]
  },
  {
   "cell_type": "code",
   "execution_count": 38,
   "metadata": {},
   "outputs": [],
   "source": [
    "x0_ = 0.\n",
    "n = 2\n",
    "expO2 = sym.lambdify(x, sym.series(sym.exp(x), x, x0=x0_, n=n).removeO(), modules='numpy')\n",
    "n = 4\n",
    "expO4 = sym.lambdify(x, sym.series(sym.exp(x), x, x0=x0_, n=n).removeO(), modules='numpy')\n",
    "n = 6\n",
    "expO6 = sym.lambdify(x, sym.series(sym.exp(x), x, x0=x0_, n=n).removeO(), modules='numpy')"
   ]
  },
  {
   "cell_type": "code",
   "execution_count": 40,
   "metadata": {
    "slideshow": {
     "slide_type": "subslide"
    }
   },
   "outputs": [
    {
     "data": {
      "image/png": "[encoded data removed]",
      "text/plain": [
       "<Figure size 432x288 with 1 Axes>"
      ]
     },
     "metadata": {
      "needs_background": "light"
     },
     "output_type": "display_data"
    }
   ],
   "source": [
    "xx = np.linspace(-.1, .1, 100)\n",
    "plt.plot(xx, np.exp(xx), label='$\\sin$')\n",
    "plt.plot(xx, expO2(xx), label='$\\sin O(x^2)$')\n",
    "plt.plot(xx, expO4(xx), label='$\\sin O(x^4)$')\n",
    "plt.plot(xx, expO6(xx), label='$\\sin O(x^6)$')\n",
    "plt.legend();"
   ]
  },
  {
   "cell_type": "code",
   "execution_count": null,
   "metadata": {},
   "outputs": [],
   "source": []
  }
 ],
 "metadata": {
  "anaconda-cloud": {},
  "celltoolbar": "Slideshow",
  "kernelspec": {
   "display_name": "Python 3 (ipykernel)",
   "language": "python",
   "name": "python3"
  },
  "language_info": {
   "codemirror_mode": {
    "name": "ipython",
    "version": 3
   },
   "file_extension": ".py",
   "mimetype": "text/x-python",
   "name": "python",
   "nbconvert_exporter": "python",
   "pygments_lexer": "ipython3",
   "version": "3.10.6"
  },
  "latex_envs": {
   "bibliofile": "biblio.bib",
   "cite_by": "apalike",
   "current_citInitial": 1,
   "eqLabelWithNumbers": true,
   "eqNumInitial": 0
  },
  "livereveal": {
   "theme": "sky",
   "transition": "default",
   "width": 1200
  },
  "nav_menu": {},
  "toc": {
   "base_numbering": 1,
   "nav_menu": {
    "height": "11.99074px",
    "width": "1.99074px"
   },
   "number_sections": true,
   "sideBar": true,
   "skip_h1_title": false,
   "title_cell": "Kazalo",
   "title_sidebar": "Kazalo",
   "toc_cell": true,
   "toc_position": {},
   "toc_section_display": "block",
   "toc_window_display": false
  }
 },
 "nbformat": 4,
 "nbformat_minor": 4
}
