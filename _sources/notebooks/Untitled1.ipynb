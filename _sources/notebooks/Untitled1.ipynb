{
 "cells": [
  {
   "cell_type": "markdown",
   "id": "0ba5d785-12ce-4b26-b5dd-d2149b7a70e5",
   "metadata": {
    "@deathbeds/jupyterlab-fonts": {
     "styles": {
      "": {
       "body[data-jp-deck-mode='presenting'] &": {
        "top": "0"
       }
      }
     }
    },
    "editable": true,
    "slideshow": {
     "slide_type": ""
    },
    "tags": []
   },
   "source": [
    "# Avto\n",
    "\n",
    "Kako kaj"
   ]
  },
  {
   "cell_type": "markdown",
   "id": "14477b16-0678-4dcc-98b4-ffa7a1a6a891",
   "metadata": {
    "@deathbeds/jupyterlab-fonts": {
     "styles": {
      "": {
       "body[data-jp-deck-mode='presenting'] &": {
        "height": "12.954452614379086%",
        "left": "3.0126953125%",
        "position": "fixed",
        "top": "48.28635620915033%",
        "width": "84.87141927083334%"
       }
      }
     }
    },
    "editable": true,
    "slideshow": {
     "slide_type": "fragment"
    },
    "tags": []
   },
   "source": [
    "# Vlabk\n",
    "\n",
    "$a=\\sqrt{b}$"
   ]
  },
  {
   "cell_type": "code",
   "execution_count": null,
   "id": "9f09e6b4-27da-419d-ba14-c977b5a8a7df",
   "metadata": {
    "editable": true,
    "slideshow": {
     "slide_type": ""
    },
    "tags": []
   },
   "outputs": [],
   "source": []
  }
 ],
 "metadata": {
  "kernelspec": {
   "display_name": "Python 3 (ipykernel)",
   "language": "python",
   "name": "python3"
  },
  "language_info": {
   "codemirror_mode": {
    "name": "ipython",
    "version": 3
   },
   "file_extension": ".py",
   "mimetype": "text/x-python",
   "name": "python",
   "nbconvert_exporter": "python",
   "pygments_lexer": "ipython3",
   "version": "3.12.5"
  },
  "toc": {
   "base_numbering": 1
  }
 },
 "nbformat": 4,
 "nbformat_minor": 5
}
