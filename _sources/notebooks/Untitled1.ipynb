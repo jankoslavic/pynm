{
 "cells": [
  {
   "cell_type": "code",
   "execution_count": 23,
   "id": "4d7e1cf3",
   "metadata": {},
   "outputs": [],
   "source": [
    "R = 5.025\n",
    "r = 1.95"
   ]
  },
  {
   "cell_type": "code",
   "execution_count": 24,
   "id": "6f8dd226",
   "metadata": {},
   "outputs": [
    {
     "data": {
      "text/plain": [
       "1.3508980006777365"
      ]
     },
     "execution_count": 24,
     "metadata": {},
     "output_type": "execute_result"
    }
   ],
   "source": [
    "A = (R+2*r)/((R+r)*r/R+2*r)\n",
    "A"
   ]
  },
  {
   "cell_type": "code",
   "execution_count": 22,
   "id": "cdcf9522",
   "metadata": {},
   "outputs": [
    {
     "data": {
      "text/plain": [
       "4.2005899705014755"
      ]
     },
     "execution_count": 22,
     "metadata": {},
     "output_type": "execute_result"
    }
   ],
   "source": [
    "r/R*A*8"
   ]
  },
  {
   "cell_type": "code",
   "execution_count": null,
   "id": "513b9df9",
   "metadata": {},
   "outputs": [],
   "source": []
  }
 ],
 "metadata": {
  "kernelspec": {
   "display_name": "Python 3 (ipykernel)",
   "language": "python",
   "name": "python3"
  },
  "language_info": {
   "codemirror_mode": {
    "name": "ipython",
    "version": 3
   },
   "file_extension": ".py",
   "mimetype": "text/x-python",
   "name": "python",
   "nbconvert_exporter": "python",
   "pygments_lexer": "ipython3",
   "version": "3.10.6"
  },
  "toc": {
   "base_numbering": 1,
   "nav_menu": {},
   "number_sections": true,
   "sideBar": true,
   "skip_h1_title": false,
   "title_cell": "Table of Contents",
   "title_sidebar": "Contents",
   "toc_cell": false,
   "toc_position": {},
   "toc_section_display": true,
   "toc_window_display": false
  }
 },
 "nbformat": 4,
 "nbformat_minor": 5
}
