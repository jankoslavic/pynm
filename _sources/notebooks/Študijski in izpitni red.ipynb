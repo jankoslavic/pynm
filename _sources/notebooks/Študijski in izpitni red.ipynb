{
 "cells": [
  {
   "cell_type": "markdown",
   "metadata": {
    "slideshow": {
     "slide_type": "slide"
    }
   },
   "source": [
    "# Študijski in izpitni red: 2024/25 "
   ]
  },
  {
   "cell_type": "markdown",
   "metadata": {
    "slideshow": {
     "slide_type": "slide"
    }
   },
   "source": [
    "## Predavanja / vaje"
   ]
  },
  {
   "cell_type": "markdown",
   "metadata": {
    "slideshow": {
     "slide_type": "fragment"
    }
   },
   "source": [
    "**Predavanja**: \n",
    "\n",
    "* **Ponedeljek** 11:00 V/2: **Prof. dr. Janko Slavič** (DS-P3, 01 4771 226, janko.slavic@fs.uni-lj.si)\n",
    "\n",
    "**Vaje**:\n",
    "\n",
    "| Ura  | as. dr. Domen Gorjup | as. dr. Klemen Zaletelj | as. Gašper Krivic |\n",
    "| ---  | ---------------- | ------------------- | ----------------- |\n",
    "| 8:00 |   **Č1** (II/1)  |   **Č2** (I/4)      |                   |\n",
    "| 10:00|                  |   **Č3** (I/4)      |                   |\n",
    "| 12:00|   **Č5** (II/1)  |                     |   **Č4** (I/4)    |\n",
    "| 8:00 |                  |                     |   **P1** (I/4)    |\n",
    "| 10:00|   **P2** (II/1)  |                     |   **P3** (I/4)    |\n",
    "     "
   ]
  },
  {
   "cell_type": "markdown",
   "metadata": {
    "slideshow": {
     "slide_type": "subslide"
    }
   },
   "source": [
    "**Govorilne ure:**\n",
    "* **četrtek 11:30 - 12:00** v učilnici **II/1**, **po predhodni najavi asistentu**.\n",
    "\n",
    "\n",
    "**Asistenti:**\n",
    "* as. dr. Domen Gorjup (DS-P5, 01 4771 228, domen.gorjup@fs.uni-lj.si)\n",
    "* as. dr. Klemen Zaletelj (DS-P5, 01 4771 228, klemen.zaletelj@fs.uni-lj.si)\n",
    "* as. Gašper Krivic (DS-P5, 01 4771 228, gasper.krivic@fs.uni-lj.si)"
   ]
  },
  {
   "cell_type": "markdown",
   "metadata": {
    "slideshow": {
     "slide_type": "subslide"
    }
   },
   "source": [
    "**Spremljanje sprotnega študija, obvestila itd**\n",
    "\n",
    "Sproten študij bomo izvajali s pomočjo: [moj.ladisk.si](http://moj.ladisk.si/). Za prijavo uporabite email, ki ga imate v VIS-u: [video prikaz prijave](https://youtu.be/e3_NUBwOjQ4).\n"
   ]
  },
  {
   "cell_type": "markdown",
   "metadata": {},
   "source": [
    "**Spletna učilnica (e-ucilnica.fs.uni-lj.si)**\n",
    "\n",
    "\n",
    "Vsebine, povezane s predmetom, najdete tudi v [e-učilnici](https://e-ucilnica.fs.uni-lj.si/course/view.php?id=140).\n"
   ]
  },
  {
   "cell_type": "markdown",
   "metadata": {
    "slideshow": {
     "slide_type": "slide"
    }
   },
   "source": [
    "## Sprotni študij\n",
    "![Sprotni študij](./fig/flowchart_pridobitev_ocene.png)"
   ]
  },
  {
   "cell_type": "markdown",
   "metadata": {
    "slideshow": {
     "slide_type": "subslide"
    }
   },
   "source": [
    "### Sestava ocene\n",
    "\n",
    "* 5% sodelovanje pri predavanjih\n",
    "* 20% sodelovanje pri vajah* (vsaj 50%)\n",
    "* 10% tedenske domače naloge (vsaj 50%)\n",
    "* 30% individualni projekt (vsaj 50%)\n",
    "* 35% preizkus iz teorije (vsaj 50%): [glejte pretekle preizkuse](https://github.com/jankoslavic/pynm/blob/main/primeri%20nalog%20in%20izpita/NM_teorija.pdf)\n",
    "\n",
    "\\* Na predavanja in vaje morate priti pripravljeni; uporabili bomo nekatere principe obratnega učenja!"
   ]
  },
  {
   "cell_type": "markdown",
   "metadata": {
    "slideshow": {
     "slide_type": "subslide"
    }
   },
   "source": [
    "### Sodelovanje na vajah\n",
    "\n",
    "Sodelovenje na vajah se ocenjuje s kratkimi, napovedanimi pisnimi testi.\n",
    "\n",
    "Testi se izvajajo na vajah v računalniški učilnici, praviloma na začetku vaje. Rešujejo se v okolju VS Code in se oddajajo ter ocenjujejo v sistemu sprotnega dela moj.ladisk.si (na enak način, kot domače naloge).\n",
    "\n",
    "### Popravljanje ocen sodelovanja na vajah\n",
    "\n",
    "Popravljati je mogoče *oceno enega kratkega testa*, v dogovorjenem terminu, praviloma na koncu semestra. Ocena, dobljena pri popravljanju, je utežena z 0.75.\n",
    "\n",
    "V primeru upravičene odsotnosti (npr. zdravniško opravičilo) je možno oceno testa na zamujeni vaji pridobiti zgolj na prvem naslednjem terminu govorilnih ur."
   ]
  },
  {
   "cell_type": "markdown",
   "metadata": {
    "slideshow": {
     "slide_type": "subslide"
    }
   },
   "source": [
    "### Individualni projekt\n",
    "\n",
    "Se navezuje na poljubno vsebino katerega-koli predmeta na FS in ga študent definira sam.\n",
    "Projekt mora vsebovati sledeče vsebine: \n",
    "* *simbolno reševanje*, \n",
    "* *sistemi linearnih enačb*, \n",
    "* *interpolacija ali aproksimacija*,\n",
    "* *iskanje ničel*, \n",
    "* *integriranje ali odvajanje*, \n",
    "* *reševanje diferencialnih enačb*.  "
   ]
  },
  {
   "cell_type": "markdown",
   "metadata": {
    "slideshow": {
     "slide_type": "subslide"
    }
   },
   "source": [
    "Ocena individualnega projekta je sestavljena iz: \n",
    "* *numerična pravilnost* (30%), \n",
    "* *struktura, urejenost, uporaba lastnih modulov, stil kode (docstringi)* (30%), \n",
    "* *lasten odnos / kreativni dodatek* (30%),* \n",
    "* *pripravljeni testi kode in/ali uporabniški vmesnik* (10%)."
   ]
  },
  {
   "cell_type": "markdown",
   "metadata": {
    "slideshow": {
     "slide_type": "subslide"
    }
   },
   "source": [
    "**Navodila za oddajo projekta:**\n",
    "* Rok za oddajo projekta je naveden spodaj, med pomembnimi datumi.\n",
    "* Za izdelavo projekta uporabite **predlogo**, ki jo najdete [tukaj](https://github.com/jankoslavic/pynm/blob/main/projekt/Individualni%20projekt%20-%20predloga.ipynb)\n",
    "* Projekt oddajte v obliki ``zip`` datoteke z imenom: **Ime in priimek, vpisna številka.zip**. Primer: ``Janez Novak, 23201111.zip``.\n",
    "* Velikost ``zip`` datoteke naj ne presega **20 MB**.\n",
    "* **ZIP oddate v [e-učilnici](https://e-ucilnica.fs.uni-lj.si/course/view.php?id=140#section-1).**\n",
    "\n",
    "**Pred oddajo:**\n",
    "1. v projektu zakomentirajte (dodajte **#**) morebitno namestitev dodatnih paketov in funkcije, kot je na primer ``%%timeit``:\n",
    "```\n",
    "# !pip install ime_paketa\n",
    "# %%timeit\n",
    "```\n",
    "\n",
    "2. Preverite, da imate poti do slik in drugih datotek podane v *relativni* obliki (npr. `'slika.jpg'`, **ne pa** `'D:\\Numerične metode\\projekt\\slika.jpg'`).\n",
    "\n",
    "3. naredite ``Kernel`` $\\to$ ``Restart`` in nato ``Cell`` $\\to$ ``Run All``. Prepričajte, da se vse celice izvedejo pravilno."
   ]
  },
  {
   "cell_type": "markdown",
   "metadata": {
    "slideshow": {
     "slide_type": "subslide"
    }
   },
   "source": [
    "\\* Kot **kreativni dodatek** se tretira programska vsebina, ki na predavanjih in vajah ni bila posebej obravnavana. Kot na primer:\n",
    "\n",
    "\n",
    "* animacija rezultatov z uporabo matplotlib-a,\n",
    "* druge oblike naprednih prikazov (Plotly, Bokeh, vispy, pyqtgraph, VTK...),\n",
    "* avtomatsko branje podatkov iz spleta, pošiljanje rezultatov po elektronski pošti,\n",
    "* strojno generiranje poročila,\n",
    "* uporaba knjižnjice Pandas, zapis rezultatov v bazo podatkov, MS Excel,\n",
    "* uporaba platform Raspberry Pi, Arduino, zajem podatkov,\n",
    "* izdelava spletne aplikacije (Flask, Django),\n",
    "* uporaba modulov in knjižnic, kot so scikit-learn, TensorFlow, PyOpenCV.\n"
   ]
  },
  {
   "cell_type": "markdown",
   "metadata": {},
   "source": [
    "**Plagiatorstvo pri individualnem projektu**\n",
    "\n",
    "Vsi oddani individualni projekti so pregledani s sistemom za ugotavljanje plagiatorstva.\n",
    "\n",
    "Sistem preverja podobnost oddanih dokumentov z vsemi ostalimi projekti iz trenutnega in preteklih študijskih let. Kot plagiat je označeno vsako ujemanje teksta in postopkov oddane kode (tudi v primeru, da je ta uporabljena v drugačnem kontekstu, drugem vrstnem redu, z zamenjanimi imeni spremenljivk itd.). Iz pregleda je izvzeta vsebina predlog za predavanja, objavljenih v tem repozitoriju.\n",
    "\n",
    "Če se znatni del vsebine vašega projekta ujema z drugim projektom, tega ne moremo oceniti kot vaše samostojno delo. To pomeni, da **niste opravili vaj in nimate pogoja za pristop k izpitu**."
   ]
  },
  {
   "cell_type": "markdown",
   "metadata": {
    "slideshow": {
     "slide_type": "slide"
    }
   },
   "source": [
    "### Domače naloge (moj.ladisk.si)\n",
    "\n",
    "**Splošna navodila za reševanje**\n",
    "\n",
    "Tedenske domače naloge vam dodelimo v sistemu [moj.ladisk.si](https://moj.ladisk.si/). Domače naloge rešujete v okolju Jupyter Notebook.\n",
    "\n",
    "\n",
    "* Datoteke, ki jih prenesete s spleta, shranite v obliki `.zip` arhiva (če vaš brskalnik datoteki ne doda končnice `.zip`, to storite sami).\n",
    "\n",
    "* Arhiv z datotekami, ki ga prenesete s spleta, **razpakirate v celoti**.\n",
    "* V mapi z razpakiranimi datotekami odprete ukazno okno in poženete ukaz `jupyter notebook`.\n",
    "* Celice v `.ipynb` datoteki z domačo nalogo poganjate po vrsti (tudi celice povsem na vrhu datoteke!).\n",
    "* Rezultati so pri reševanju posredovani v spletni sistem moj.ladisk.si in se samodejno sprotno preverjajo. Pri reševanju je **nujna povezava s spletom**.\n",
    "\n",
    "\n",
    "Pripravili smo tudi [video navodila za reševanje](https://youtu.be/wedX7AdORvY)."
   ]
  },
  {
   "cell_type": "markdown",
   "metadata": {
    "slideshow": {
     "slide_type": "subslide"
    }
   },
   "source": [
    "**Časovna omejitev reševanja domačih nalog**\n",
    "\n",
    "Domače naloge imajo definiran čas *okna za reševanje*:\n",
    "* Do odprtja okna za reševanje je možno **predčasno reševanje naloge brez časovne omejitve**.\n",
    "\n",
    "* V oknu za reševanje je dovoljen čas reševanja naloge omejen. Časovna omejitev teče od trenutka, ko *znotraj okna za reševanje* nalogo prvič odprete.\n",
    "* Po zaprtju okna se naloga zapre, reševanje **ni več možno**.\n",
    "\n",
    "Svetujemo vam, da *čim večji del naloge rešite v času predčasnega reševanja, pred odprtjem okna za reševanje*.\n",
    "\n",
    "**Uporaba Jokerja za premik obveznosti**\n",
    "\n",
    "Vsakemu študentu sta pri predmetu na voljo dva Jokerja, ki jih lahko uporabite za premik obveznosti v prihodnost.\n",
    "* Z uporabo Jokerja lahko okno za reševanje domače naloge premaknete za $\\leq$ 14 dni naprej.\n",
    "* Uporaba jokerja **ni možna, če ste nalogo že odprli**.\n",
    "* Pred pričetkom okna za reševanje je za premik naloge potreben en Joker, v času okna za reševanje pa dva."
   ]
  },
  {
   "cell_type": "markdown",
   "metadata": {
    "slideshow": {
     "slide_type": "subslide"
    }
   },
   "source": [
    "### Predlog ocene na podlagi sprotnega študija\n",
    "\n",
    "Predlog ocene:\n",
    "* 50,0 do 57,5%: 6/6\n",
    "* 62,5 do 67,5%: 7/7\n",
    "* 72,5 do 77,5%: 8/8\n",
    "* 82,5 do 87,5%: 9/9\n",
    "* 92,5 do 100%: 10/10\n",
    "\n",
    "(Nedefinirana področja so vmesne ocene.)\n",
    "   \n",
    "Individualni projekt in predlog ocene se zagovarja na ustnem zagovoru.\n",
    "\n",
    "Pri zagovoru upoštevamo tudi kvalitativno oceno sodelovanja na vajah in predavanjih.\n",
    "\n",
    "Če izpolnjujete pogoje sprotnega dela (vaje, DN, projekt) imate **eno** možnost opravljanja preizkusa le iz teorije na zimskih izpitnih rokih po koncu semestra."
   ]
  },
  {
   "cell_type": "markdown",
   "metadata": {
    "slideshow": {
     "slide_type": "subslide"
    }
   },
   "source": [
    "### Pomembni datumi\n",
    "\n",
    "1. Oddaja individualnega projekta: **7. jan 2025 do 12h** \\*\n",
    "1. Preizkus iz teorije se piše na kateremkoli zimskem izpitnem roku (imate eno možnost).\n",
    "1. Zagovori: po izpitnem roku.\n",
    "\n",
    "\\* V primeru oddaje vsaj 1 teden **pred rokom**, se uspeh množi z $1.1$; v primeru **zamude** pa se upeh množi z $0.9^n$, kjer je $n$ število začetih dni zamude."
   ]
  },
  {
   "cell_type": "markdown",
   "metadata": {
    "slideshow": {
     "slide_type": "slide"
    }
   },
   "source": [
    "## Izpit"
   ]
  },
  {
   "cell_type": "markdown",
   "metadata": {},
   "source": [
    "**Izpolnjevanje pogojev za pristop k izpitu**: vsak posamični dogodek (razen teorije in sodelovanja pri predvanjih), ki sestavlja oceno mora biti večji od 40%.\n",
    "\n",
    "Izpit se opravlja v dveh delih: 60 min za tri teoretična vprašanja ([glejte primer izpita](https://github.com/jankoslavic/pynm/tree/main/primeri%20nalog%20in%20izpita)) in 50 min preverjanje uporabe numeričnih metod za računalnikom (tipično dve nalogi, s sabo imate lahko poljubne pisne vire, dostopa do interneta ni).\n",
    "\n",
    "Za pozitivno oceno morata biti oba dela pozitivna."
   ]
  },
  {
   "cell_type": "markdown",
   "metadata": {
    "slideshow": {
     "slide_type": "slide"
    }
   },
   "source": [
    "## Literatura"
   ]
  },
  {
   "cell_type": "markdown",
   "metadata": {},
   "source": [
    "1. Slavič J.: Programiranje in numerične metode s Pythonom, [izvršljiva knjiga](https://github.com/jankoslavic/pynm/tree/main/notebooks) ali [spletna knjiga](https://jankoslavic.github.io/pynm/README.html), 2015-\n",
    "1. Petrišič J.: Uvod v Matlab za inženirje, 2011\n",
    "1. Demšar J. Python za programerje, 2012 (glejte spletno učilnico: http://goo.gl/n4pVUe)\n",
    "1. Nicolas P. Rougier: From Python to Numpy, 2017 [spletna knjiga](http://www.labri.fr/perso/nrougier/from-python-to-numpy/)\n",
    "1. Kiusalaas J: Numerical Methods in Engineering with Python 3, 2013\n",
    "1. Fangohr H. Python for Computational Science and Engineering, 2014  (dosegljiva na spletu: http://goo.gl/nCOfY0)\n",
    "1. Bucky R. Python 3.4 Programming Tutorials (videi dosegljivi na: http://goo.gl/ie6nfD)\n",
    "1. [Projekt TOMO](https://www.projekt-tomo.si) (več vsebin, glejte predvsem predmete na FMF in FRI)\n",
    "1. [Scipy Lecture Notes](http://www.scipy-lectures.org/)\n",
    "1. Uporaba paketov Numpy, Scipy itd za inženirje [Mr. P Solver (YouTube)](https://www.youtube.com/channel/UCKaYxkHrmsQePZFpzF9b7sQ)\n",
    "\n",
    "\n",
    "Nekatere spletne učilnice na temo Pythona najdete na [pinm.ladisk.si](http://pinm.ladisk.si/9/katera-so-najbolj%C5%A1e-spletne-u%C4%8Dilnice-za-u%C4%8Denje-pythona)"
   ]
  },
  {
   "cell_type": "markdown",
   "metadata": {
    "slideshow": {
     "slide_type": "slide"
    }
   },
   "source": [
    "## Pogoji za poslušanje v naprej?"
   ]
  },
  {
   "cell_type": "markdown",
   "metadata": {},
   "source": [
    "Predmeta ni mogoče opravljati v naprej."
   ]
  }
 ],
 "metadata": {
  "anaconda-cloud": {},
  "celltoolbar": "Slideshow",
  "hide_input": false,
  "kernelspec": {
   "display_name": "Python 3 (ipykernel)",
   "language": "python",
   "name": "python3"
  },
  "language_info": {
   "codemirror_mode": {
    "name": "ipython",
    "version": 3
   },
   "file_extension": ".py",
   "mimetype": "text/x-python",
   "name": "python",
   "nbconvert_exporter": "python",
   "pygments_lexer": "ipython3",
   "version": "3.11.6"
  },
  "latex_envs": {
   "bibliofile": "biblio.bib",
   "cite_by": "apalike",
   "current_citInitial": 1,
   "eqLabelWithNumbers": true,
   "eqNumInitial": 0
  },
  "livereveal": {
   "theme": "sky",
   "transition": "default",
   "width": 1200
  },
  "nav_menu": {},
  "toc": {
   "base_numbering": 1,
   "nav_menu": {
    "height": "209px",
    "width": "252px"
   },
   "number_sections": true,
   "sideBar": true,
   "skip_h1_title": false,
   "title_cell": "Kazalo",
   "title_sidebar": "Kazalo",
   "toc_cell": false,
   "toc_position": {},
   "toc_section_display": "block",
   "toc_window_display": false
  },
  "varInspector": {
   "cols": {
    "lenName": 16,
    "lenType": 16,
    "lenVar": 40
   },
   "kernels_config": {
    "python": {
     "delete_cmd_postfix": "",
     "delete_cmd_prefix": "del ",
     "library": "var_list.py",
     "varRefreshCmd": "print(var_dic_list())"
    },
    "r": {
     "delete_cmd_postfix": ") ",
     "delete_cmd_prefix": "rm(",
     "library": "var_list.r",
     "varRefreshCmd": "cat(var_dic_list()) "
    }
   },
   "types_to_exclude": [
    "module",
    "function",
    "builtin_function_or_method",
    "instance",
    "_Feature"
   ],
   "window_display": false
  }
 },
 "nbformat": 4,
 "nbformat_minor": 4
}
