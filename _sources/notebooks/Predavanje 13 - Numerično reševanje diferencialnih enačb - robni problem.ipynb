{
 "cells": [
  {
   "cell_type": "markdown",
   "metadata": {
    "slideshow": {
     "slide_type": "slide"
    }
   },
   "source": [
    "# Numerično reševanje diferencialnih enačb - robni problem"
   ]
  },
  {
   "cell_type": "markdown",
   "metadata": {
    "slideshow": {
     "slide_type": "slide"
    }
   },
   "source": [
    "## Reševanje dvotočkovnih robnih problemov"
   ]
  },
  {
   "cell_type": "markdown",
   "metadata": {},
   "source": [
    "Pod dvotočkovnim robnim problemom razumemo navadno diferencialno enačbo drugega reda oblike:\n",
    "\n",
    "$$\\ddot y=f(t, y, \\dot y),$$\n",
    "\n",
    "ob predpisanih *robnih pogojih*:\n",
    "\n",
    "$$y(a)=\\alpha\\qquad\\textrm{in}\\qquad y(b)=\\beta.$$"
   ]
  },
  {
   "cell_type": "markdown",
   "metadata": {
    "slideshow": {
     "slide_type": "subslide"
    }
   },
   "source": [
    "Metode, ki smo jih spoznali pri reševanju *začetnih problemov*, tukaj neposredno niso uporabne, ker nimamo podanega odvoda v začetni točki pri $t=a$.\n",
    "\n",
    "V nadaljevanju si bomo pogledali dva različna pristopa k reševanju robnih problemov:\n",
    "\n",
    "1. t. i. **strelska metoda**,\n",
    "2. **metoda končnih razlik**."
   ]
  },
  {
   "cell_type": "markdown",
   "metadata": {
    "slideshow": {
     "slide_type": "slide"
    }
   },
   "source": [
    "## Strelska metoda"
   ]
  },
  {
   "cell_type": "markdown",
   "metadata": {},
   "source": [
    "Rešujemo robni problem:\n",
    "\n",
    "$$\\ddot y=f(t, y, \\dot y),\\qquad y(a)=\\alpha,\\quad y(b)=\\beta,$$\n",
    "\n",
    "ki ga prevedemo na začetni problem tako, da si izberemo:\n",
    "\n",
    "$$\\dot y (a)=u.$$"
   ]
  },
  {
   "cell_type": "markdown",
   "metadata": {
    "slideshow": {
     "slide_type": "subslide"
    }
   },
   "source": [
    "Problem rešimo z numeričnimi metodami reševanja začetnega problema in rešitev označimo z $\\theta(u, t)$.\n",
    "\n",
    "Robni problem rešimo, ko izberemo $u$ tako, da velja:\n",
    "\n",
    "$$r(u)=\\theta(u,b)-\\beta=0.$$\n",
    "\n",
    "Dobili smo nelinearno enačbo, ki jo moramo rešiti; za izračun vrednosti mejnih preostankov $r(u)$ moramo numerično rešiti začetni problem."
   ]
  },
  {
   "cell_type": "markdown",
   "metadata": {
    "slideshow": {
     "slide_type": "subslide"
    }
   },
   "source": [
    "Za rešitev enačbe $r(u)=0$ lahko uporabimo sekantno metodo. Izberemo $u_0$ in $u_1$ in na $i$-tem koraku izračunamo:\n",
    "\n",
    "$$u_{i+1}=u_i-r(u_i)\\,\\frac{u_{i}-u_{i-1}}{r(u_{i})-r(u_{i-1})},\\qquad i=2,3,\\dots$$\n",
    "\n",
    "Zaključimo, ko je:\n",
    "\n",
    "$$\\left|r(u_{i+1})\\right|<\\epsilon.$$"
   ]
  },
  {
   "cell_type": "markdown",
   "metadata": {
    "slideshow": {
     "slide_type": "subslide"
    }
   },
   "source": [
    "Rešitev strelske metode je obremenjena z napako metode reševanja nelinearne enačbe $\\epsilon$ in z napako numerične metode za reševanje začetnega problema."
   ]
  },
  {
   "cell_type": "markdown",
   "metadata": {
    "slideshow": {
     "slide_type": "subslide"
    }
   },
   "source": [
    "### Numerični zgled: poševni met"
   ]
  },
  {
   "cell_type": "markdown",
   "metadata": {},
   "source": [
    "Na sliki je prikazan izstrelek mase $m$, ki ga izstrelimo s hitrostjo $\\textbf{v}_0$.\n",
    "![Poševni met](./fig/posevni_met.png)"
   ]
  },
  {
   "cell_type": "markdown",
   "metadata": {
    "slideshow": {
     "slide_type": "subslide"
    }
   },
   "source": [
    "Velikost sile upora zraka je $|\\textbf{F}|=c\\,|\\textbf{v}|^2$, potem sta gibalni enačbi:\n",
    "\n",
    "$$x''(t)=-F_x/m\\qquad\\ddot y(t)=-F_y/m-g.$$\n",
    "\n",
    "Komponente sile so (glejte izpeljavo pri poglavju iz reševanja začetnega problema sistema diferencialnih enačb):\n",
    "\n",
    "$$F_x=-c\\,x'\\,\\sqrt{x'^2+y'^2},\\qquad F_y=-c\\,y'\\,\\sqrt{x'^2+y'^2}.$$"
   ]
  },
  {
   "cell_type": "markdown",
   "metadata": {
    "slideshow": {
     "slide_type": "subslide"
    }
   },
   "source": [
    "#### Vertikalni met\n",
    "\n",
    "Najprej predpostavimo, da je $\\varphi=90$° in torej v $x$ smeri nimamo gibanja. Zanima nas rešitev, ko izstrelek izstrelimo iz višine $y=0\\,$m in mora pri času $t=b=1\\,$s biti na višini $y(b)=10\\,$m. Definirali smo robni problem:\n",
    "\n",
    "$$y''(t)=F_y\\,/m-g,\\qquad y(0)=0,\\quad y(1)=10.$$"
   ]
  },
  {
   "cell_type": "markdown",
   "metadata": {
    "slideshow": {
     "slide_type": "subslide"
    }
   },
   "source": [
    "Najprej moramo enačbo drugega reda:\n",
    "\n",
    "$$y''=f(t, y, y') = F_y/m-g$$\n",
    "\n",
    "preoblikovati na sistem dveh enačb prvega reda. Uporabimo $y_i=y^{i}$ ter upoštevamo $F_y=-c\\,y'\\,\\sqrt{y'^2}$."
   ]
  },
  {
   "cell_type": "markdown",
   "metadata": {
    "slideshow": {
     "slide_type": "subslide"
    }
   },
   "source": [
    "Odvajamo $y_i'=y_{i+1}$ in pripravimo sistem enačb prvega reda:\n",
    "\n",
    "$$\n",
    "\\begin{array}{rcl}\n",
    "y'_0&=&y_1\\\\\n",
    "y'_1&=&-c\\,y'\\,\\sqrt{y'^2}/m-g\n",
    "\\end{array}\n",
    "$$"
   ]
  },
  {
   "cell_type": "markdown",
   "metadata": {
    "slideshow": {
     "slide_type": "subslide"
    }
   },
   "source": [
    "Pripravimo seznam funkcij desnih strani:"
   ]
  },
  {
   "cell_type": "code",
   "execution_count": 1,
   "metadata": {},
   "outputs": [],
   "source": [
    "def f_vert(t, y, g=9.81, m=1., c=0.5):\n",
    "    return np.array([y[1], -g-c*y[1]*np.sqrt(y[1]**2)/m])"
   ]
  },
  {
   "cell_type": "markdown",
   "metadata": {
    "slideshow": {
     "slide_type": "subslide"
    }
   },
   "source": [
    "Uvozimo modula `numpy` in `scipy.integrate.solve_ivp`:"
   ]
  },
  {
   "cell_type": "code",
   "execution_count": 2,
   "metadata": {},
   "outputs": [],
   "source": [
    "import numpy as np\n",
    "from scipy.integrate import solve_ivp"
   ]
  },
  {
   "cell_type": "markdown",
   "metadata": {
    "slideshow": {
     "slide_type": "subslide"
    }
   },
   "source": [
    "ter pripravimo funkcijo za izračun mejnega preostanka pri času $b$ v odvisnosti od začetne hitrosti $v_0$ (privzeti zračni upor je $c=0.1$):"
   ]
  },
  {
   "cell_type": "code",
   "execution_count": 3,
   "metadata": {},
   "outputs": [],
   "source": [
    "def r(v0=100., t=None, ciljna_lega=10., g=9.81, m=1., c=0.1):\n",
    "    def f_vert_tmp(t, y): # pripravimo funkcijo z željenimi parametri\n",
    "        return f_vert(t, y, g=g, m=m, c=c)\n",
    "    sol = solve_ivp(f_vert_tmp, t_span=(t[0], t[-1]), y0=np.array([0., v0]))\n",
    "    r = sol.y[0,-1] - ciljna_lega\n",
    "    return r"
   ]
  },
  {
   "cell_type": "markdown",
   "metadata": {
    "slideshow": {
     "slide_type": "subslide"
    }
   },
   "source": [
    "Preverimo mejni preostanek pri začetnem pogoju $v_0=y'=50$ m/s:"
   ]
  },
  {
   "cell_type": "code",
   "execution_count": 4,
   "metadata": {},
   "outputs": [
    {
     "data": {
      "text/plain": [
       "5.634550939997352"
      ]
     },
     "execution_count": 4,
     "metadata": {},
     "output_type": "execute_result"
    }
   ],
   "source": [
    "t = np.linspace(0, 1, 100)\n",
    "r(v0=50., t=t)"
   ]
  },
  {
   "cell_type": "markdown",
   "metadata": {},
   "source": [
    "Opazimo, da je masa pri 1 sekundi 5,635 m nad ciljno višino.\n",
    "\n",
    "Naš cilj je, da pri 1 sekundi masa doseže lego 10 m z natančnostjo `1e-6`:"
   ]
  },
  {
   "cell_type": "code",
   "execution_count": 5,
   "metadata": {},
   "outputs": [],
   "source": [
    "ciljna_lega = 10\n",
    "epsilon = 1e-6"
   ]
  },
  {
   "cell_type": "markdown",
   "metadata": {
    "slideshow": {
     "slide_type": "subslide"
    }
   },
   "source": [
    "Izvedimo sedaj sekantno metodo:"
   ]
  },
  {
   "cell_type": "code",
   "execution_count": 6,
   "metadata": {
    "slideshow": {
     "slide_type": "-"
    }
   },
   "outputs": [
    {
     "name": "stdout",
     "output_type": "stream",
     "text": [
      "Novi približek je 5.644178759347213, napaka je -9.67253633180436.\n",
      "Novi približek je 33.67258709458855, napaka je 2.218701772528018.\n",
      "Novi približek je 28.442965190719487, napaka je 0.8225839451367207.\n",
      "Novi približek je 25.361704474139344, napaka je -0.10153714557799809.\n",
      "Novi približek je 25.700255797214545, napaka je 0.004276366407140131.\n",
      "Novi približek je 25.6865735228251, napaka je 2.1630891907875593e-05.\n",
      "Novi približek je 25.686503962732044, napaka je -4.623817773108385e-09.\n",
      "Rešitev 25.686503962732044\n"
     ]
    }
   ],
   "source": [
    "x0 = 100\n",
    "x1 = 50\n",
    "for i in range(10):\n",
    "    f0 = r(v0=x0, t=t, ciljna_lega=ciljna_lega)\n",
    "    f1 = r(v0=x1, t=t, ciljna_lega=ciljna_lega)\n",
    "    x2 = x1 - f1 * (x1 - x0)/(f1 - f0)\n",
    "    err = r(v0=x2, t=t, ciljna_lega=ciljna_lega)\n",
    "    print(f'Novi približek je {x2}, napaka je {err}.')\n",
    "    x0 = x1\n",
    "    x1 = x2\n",
    "    if abs(err)<epsilon:\n",
    "        rešitev = x2\n",
    "        print(f'Rešitev {rešitev}')\n",
    "        break"
   ]
  },
  {
   "cell_type": "markdown",
   "metadata": {
    "slideshow": {
     "slide_type": "subslide"
    }
   },
   "source": [
    "Poglejmo si sedaj izračunano rešitev:"
   ]
  },
  {
   "cell_type": "code",
   "execution_count": 7,
   "metadata": {},
   "outputs": [],
   "source": [
    "sol = solve_ivp(lambda t, y: f_vert(t, y, c=0.1),\n",
    "                t_span=(t[0], t[-1]), y0=np.array([0., rešitev]),\n",
    "                t_eval=t\n",
    "               )"
   ]
  },
  {
   "cell_type": "markdown",
   "metadata": {
    "slideshow": {
     "slide_type": "subslide"
    }
   },
   "source": [
    "Zgoraj smo uporabili `lambda` izraz ([dokumentacija](https://docs.python.org/3/tutorial/controlflow.html#lambda-expressions)). Izraz `lambda t, y: f_vert(t, y, c=0.1)` je ekvivalenten:\n",
    "\n",
    "```python\n",
    "def ime_funkcije(t, y):\n",
    "    return f_vert(t, y, c=0.1)\n",
    "```"
   ]
  },
  {
   "cell_type": "markdown",
   "metadata": {
    "slideshow": {
     "slide_type": "subslide"
    }
   },
   "source": [
    "Uvozimo `matplotlib`:"
   ]
  },
  {
   "cell_type": "code",
   "execution_count": 8,
   "metadata": {},
   "outputs": [],
   "source": [
    "import matplotlib.pyplot as plt\n",
    "%matplotlib inline"
   ]
  },
  {
   "cell_type": "markdown",
   "metadata": {
    "slideshow": {
     "slide_type": "subslide"
    }
   },
   "source": [
    "Prikažemo rezultat:"
   ]
  },
  {
   "cell_type": "code",
   "execution_count": 9,
   "metadata": {},
   "outputs": [
    {
     "data": {
      "image/png": "[encoded data removed]",
      "text/plain": [
       "<Figure size 640x480 with 1 Axes>"
      ]
     },
     "metadata": {},
     "output_type": "display_data"
    }
   ],
   "source": [
    "plt.title('Vertikalni met')\n",
    "plt.hlines(ciljna_lega,0., 1, 'C3', linestyles='dashed', label='Ciljna lega', alpha=0.5)\n",
    "plt.plot(sol.t, sol.y[0], label='Lega $y$')\n",
    "plt.xlabel('$t$ [s]')\n",
    "plt.legend(loc=4)\n",
    "plt.show()"
   ]
  },
  {
   "cell_type": "markdown",
   "metadata": {
    "slideshow": {
     "slide_type": "subslide"
    }
   },
   "source": [
    "#### Poševni met\n",
    "\n",
    "Poglejmo si sedaj splošen poševni met (diferencialne enačbe so definirana že zgoraj). Najprej moramo sistem diferencialnih enačb drugega reda preoblikovati v sistem enačb prvega reda. \n",
    "\n",
    "Uporabimo:\n",
    "\n",
    "$$y_0=x,~ y_1=x',~ y_2=y,~ y_3=y'$$"
   ]
  },
  {
   "cell_type": "markdown",
   "metadata": {
    "slideshow": {
     "slide_type": "subslide"
    }
   },
   "source": [
    "in dobimo sistem diferencialnih enačb prvega reda:\n",
    "\n",
    "$$\n",
    "\\begin{array}{rcl}\n",
    "y_0'&=&y_1\\\\\n",
    "y_1'&=&F_x/m\\\\\n",
    "y_2'&=&y_3\\\\\n",
    "y_3'&=&F_y/m-g.\\\\\n",
    "\\end{array}\n",
    "$$"
   ]
  },
  {
   "cell_type": "markdown",
   "metadata": {
    "slideshow": {
     "slide_type": "subslide"
    }
   },
   "source": [
    "Pripravimo seznam funkcij desnih strani:"
   ]
  },
  {
   "cell_type": "code",
   "execution_count": 10,
   "metadata": {},
   "outputs": [],
   "source": [
    "def f_poševno(t, y, g=9.81, m=1., c=0.1):\n",
    "    x, vx, yy, vy = y\n",
    "    return np.array([vx, -c*vx*np.sqrt(vx**2+vy**2)/m, vy, -g-c*vy*np.sqrt(vx**2+vy**2)/m])"
   ]
  },
  {
   "cell_type": "markdown",
   "metadata": {
    "slideshow": {
     "slide_type": "subslide"
    }
   },
   "source": [
    "Pripravimo še funkcijo za izračun mejnega preostanka pri času $b=1$ v odvisnosti od vektorja začetne hitrosti $\\mathbf{v}_0$:"
   ]
  },
  {
   "cell_type": "code",
   "execution_count": 11,
   "metadata": {},
   "outputs": [],
   "source": [
    "def r_poševno(v0=[5., 100.], t=None, ciljna_lega=np.array([10, 5.]), g=9.81, m=1., c=0.1):\n",
    "    sol = solve_ivp(lambda t, y: f_poševno(t, y, g=g, m=m, c=c),\n",
    "                      t_span=(t[0], t[-1]),\n",
    "                      y0=[0, v0[0], 0, v0[1]])\n",
    "    r = sol.y[0:3:2, -1] - ciljna_lega\n",
    "    return r"
   ]
  },
  {
   "cell_type": "markdown",
   "metadata": {
    "slideshow": {
     "slide_type": "subslide"
    }
   },
   "source": [
    "Preverimo mejni preostanek pri začetnem pogoju $\\mathbf{v}_0=[100., 100.]\\,$m/s:"
   ]
  },
  {
   "cell_type": "code",
   "execution_count": 12,
   "metadata": {
    "scrolled": true
   },
   "outputs": [
    {
     "data": {
      "text/plain": [
       "array([ 9.66195325, 11.84726075])"
      ]
     },
     "execution_count": 12,
     "metadata": {},
     "output_type": "execute_result"
    }
   ],
   "source": [
    "r_poševno(v0=[100., 100.],t=t)"
   ]
  },
  {
   "cell_type": "markdown",
   "metadata": {
    "slideshow": {
     "slide_type": "subslide"
    }
   },
   "source": [
    "Za iskanje korena sistema nelinearnih funkcij smo že spoznali funkcijo ``scipy.optimize.root`` ([dokumentacija](https://docs.scipy.org/doc/scipy/reference/generated/scipy.optimize.root.html)):\n",
    "\n",
    "```python\n",
    "root(fun, x0, args=(), method='hybr', jac=None,\n",
    "     tol=None, callback=None, options=None)\n",
    "```\n",
    "Najprej jo uvozimo:"
   ]
  },
  {
   "cell_type": "code",
   "execution_count": 13,
   "metadata": {},
   "outputs": [],
   "source": [
    "from scipy import optimize"
   ]
  },
  {
   "cell_type": "markdown",
   "metadata": {
    "slideshow": {
     "slide_type": "subslide"
    }
   },
   "source": [
    "Potem uporabimo z začetnim ugibanjem $\\mathbf{v}_0$:"
   ]
  },
  {
   "cell_type": "code",
   "execution_count": 14,
   "metadata": {},
   "outputs": [],
   "source": [
    "rešitev = optimize.root(r_poševno, np.array([100., 100.]), args=(t))"
   ]
  },
  {
   "cell_type": "markdown",
   "metadata": {
    "slideshow": {
     "slide_type": "subslide"
    }
   },
   "source": [
    "Rešitev je:"
   ]
  },
  {
   "cell_type": "code",
   "execution_count": 15,
   "metadata": {},
   "outputs": [
    {
     "data": {
      "text/plain": [
       " message: The solution converged.\n",
       " success: True\n",
       "  status: 1\n",
       "     fun: [ 1.101e-13 -3.357e-13]\n",
       "       x: [ 1.938e+01  1.655e+01]\n",
       "    nfev: 17\n",
       "    fjac: [[-9.339e-01  3.575e-01]\n",
       "           [-3.575e-01 -9.339e-01]]\n",
       "       r: [-4.078e-01  2.409e-01 -3.754e-01]\n",
       "     qtf: [ 1.067e-09 -1.311e-09]"
      ]
     },
     "execution_count": 15,
     "metadata": {},
     "output_type": "execute_result"
    }
   ],
   "source": [
    "rešitev"
   ]
  },
  {
   "cell_type": "markdown",
   "metadata": {
    "slideshow": {
     "slide_type": "subslide"
    }
   },
   "source": [
    "Atribut `rešitev.x` vsebuje vektor izračunanih rešitev (`[19.37894314,  16.55482478]`). Preverimo mejni preostanek pri izračunani rešitvi:"
   ]
  },
  {
   "cell_type": "code",
   "execution_count": 16,
   "metadata": {},
   "outputs": [
    {
     "data": {
      "text/plain": [
       "array([ 1.10134124e-13, -3.35731443e-13])"
      ]
     },
     "execution_count": 16,
     "metadata": {},
     "output_type": "execute_result"
    }
   ],
   "source": [
    "r_poševno(v0=rešitev.x, t=t)"
   ]
  },
  {
   "cell_type": "markdown",
   "metadata": {},
   "source": [
    "Poglejmo si sedaj izračunano rešitev:"
   ]
  },
  {
   "cell_type": "code",
   "execution_count": 17,
   "metadata": {},
   "outputs": [],
   "source": [
    "sol = solve_ivp(lambda t, y: f_poševno(t, y, g=9.81, m=1., c=.1),\n",
    "                t_span=(t[0], t[-1]),\n",
    "                y0=[0, rešitev.x[0], 0, rešitev.x[1]],\n",
    "                t_eval=t)"
   ]
  },
  {
   "cell_type": "markdown",
   "metadata": {
    "slideshow": {
     "slide_type": "subslide"
    }
   },
   "source": [
    "Prikažemo rezultat:"
   ]
  },
  {
   "cell_type": "code",
   "execution_count": 18,
   "metadata": {},
   "outputs": [
    {
     "data": {
      "image/png": "[encoded data removed]",
      "text/plain": [
       "<Figure size 640x480 with 1 Axes>"
      ]
     },
     "metadata": {},
     "output_type": "display_data"
    }
   ],
   "source": [
    "plt.title('Poševni met')\n",
    "plt.hlines(10,0., 1, 'C3', linestyles='dashed', label='Ciljna lega za $x$', alpha=0.5)\n",
    "plt.hlines(5,0., 1, 'C4', linestyles='dashed', label='Ciljna lega za $y$', alpha=0.5)\n",
    "plt.plot(sol.t, sol.y[0], label='Lega $x$', color='C3')\n",
    "plt.plot(sol.t, sol.y[2], label='Lega $y$', color='C4')\n",
    "plt.xlabel('$t$ [s]')\n",
    "plt.legend()\n",
    "plt.show()"
   ]
  },
  {
   "cell_type": "markdown",
   "metadata": {
    "slideshow": {
     "slide_type": "subslide"
    }
   },
   "source": [
    "### Uporaba `scipy.integrate.solve_bvp`"
   ]
  },
  {
   "cell_type": "markdown",
   "metadata": {},
   "source": [
    "Namesto `scipy.integrate.solve_ivp` in `scipy.optimize` lahko uporabimo vgrajeno funkcijo za reševanje robnih problemov `scipy.integrate.solve_bvp` (BVP - *angl.* Boundary Value Problem):\n",
    "```python\n",
    "scipy.integrate.solve_bvp(fun, bc, x, y, \n",
    "                          p=None, S=None, fun_jac=None, bc_jac=None, \n",
    "                          tol=0.001, max_nodes=1000, verbose=0)\n",
    "```"
   ]
  },
  {
   "cell_type": "markdown",
   "metadata": {
    "slideshow": {
     "slide_type": "subslide"
    }
   },
   "source": [
    "Pojasnilo vseh argumentov je v [dokumentaciji](https://docs.scipy.org/doc/scipy/reference/generated/scipy.integrate.solve_bvp.html#scipy-integrate-solve-bvp), tukaj bomo izpostavili nekatere:\n",
    "\n",
    "* `fun` je desna stran (`func(t, y...)`),\n",
    "* `bc` je mejni preostanek: `bc(y(a), y(b)) = 0`\n",
    "* `x` numerično polje (dimenzija `(m)`) neodvisne spremenljivke `x[0]=a` in `x[-1]=b`,\n",
    "* `y` numerično polje (dimenzija `(n, m)`) začetnih vrednosti."
   ]
  },
  {
   "cell_type": "markdown",
   "metadata": {
    "slideshow": {
     "slide_type": "subslide"
    }
   },
   "source": [
    "Rezultat klicanja `solve_bvp` je objekt z atributi (izbrani):\n",
    "\n",
    "* `x` vrednosti neodvisne spremenljivke pri katerih je izračunan rezultat,\n",
    "* `y` rezultat,\n",
    "* `sol` rezultat v obliki kubičnega zlepka,\n",
    "* `success` je `True`, če je bila rešitev konvergirala."
   ]
  },
  {
   "cell_type": "markdown",
   "metadata": {
    "slideshow": {
     "slide_type": "subslide"
    }
   },
   "source": [
    "Poglejmo primer:"
   ]
  },
  {
   "cell_type": "code",
   "execution_count": 19,
   "metadata": {},
   "outputs": [],
   "source": [
    "from scipy.integrate import solve_bvp"
   ]
  },
  {
   "cell_type": "markdown",
   "metadata": {},
   "source": [
    "Definirajmo neodvisno spremenljivko"
   ]
  },
  {
   "cell_type": "code",
   "execution_count": 20,
   "metadata": {},
   "outputs": [],
   "source": [
    "t = np.linspace(0, 1, 15)"
   ]
  },
  {
   "cell_type": "markdown",
   "metadata": {
    "slideshow": {
     "slide_type": "subslide"
    }
   },
   "source": [
    "In mejni preostanek (želimo, da je pri času `b` lega $x=10$ m in $y=5$ m):"
   ]
  },
  {
   "cell_type": "code",
   "execution_count": 21,
   "metadata": {},
   "outputs": [],
   "source": [
    "def mejni_preostanek(ya, yb):\n",
    "    return np.array([ya[0], ya[2], yb[0]-10, yb[2]-5])"
   ]
  },
  {
   "cell_type": "markdown",
   "metadata": {
    "slideshow": {
     "slide_type": "subslide"
    }
   },
   "source": [
    "Definirajmo še začetne vrednosti hitrosti (kot začetno ugibanje):"
   ]
  },
  {
   "cell_type": "code",
   "execution_count": 22,
   "metadata": {},
   "outputs": [],
   "source": [
    "y0 = np.zeros((4, t.size))\n",
    "y0[1] = 5   # hitrost v x smeri\n",
    "y0[3] = 100 # hitrost v y smeri"
   ]
  },
  {
   "cell_type": "markdown",
   "metadata": {
    "slideshow": {
     "slide_type": "subslide"
    }
   },
   "source": [
    "In rešimo robni problem in opis rezultata"
   ]
  },
  {
   "cell_type": "code",
   "execution_count": 23,
   "metadata": {},
   "outputs": [],
   "source": [
    "sol = solve_bvp(lambda t, y: f_poševno(t, y, g=9.81, m=1., c=.1), \n",
    "                bc=mejni_preostanek, x=t, y=y0)"
   ]
  },
  {
   "cell_type": "code",
   "execution_count": 24,
   "metadata": {},
   "outputs": [
    {
     "data": {
      "text/plain": [
       "'The algorithm converged to the desired accuracy.'"
      ]
     },
     "execution_count": 24,
     "metadata": {},
     "output_type": "execute_result"
    }
   ],
   "source": [
    "sol.message"
   ]
  },
  {
   "cell_type": "markdown",
   "metadata": {
    "slideshow": {
     "slide_type": "subslide"
    }
   },
   "source": [
    "Prikažimo rezultat:"
   ]
  },
  {
   "cell_type": "code",
   "execution_count": 25,
   "metadata": {},
   "outputs": [
    {
     "data": {
      "image/png": "[encoded data removed]",
      "text/plain": [
       "<Figure size 640x480 with 1 Axes>"
      ]
     },
     "metadata": {},
     "output_type": "display_data"
    }
   ],
   "source": [
    "plt.title('Poševni met')\n",
    "plt.hlines(10,0., 1, 'C3', linestyles='dashed', label='Ciljna lega za $x$', alpha=0.5)\n",
    "plt.hlines(5,0., 1, 'C4', linestyles='dashed', label='Ciljna lega za $y$', alpha=0.5)\n",
    "plt.plot(sol.x, sol.y[0], label='Lega $x$', color='C3')\n",
    "plt.plot(sol.x, sol.y[2], label='Lega $y$', color='C4')\n",
    "plt.xlabel('$t$ [s]')\n",
    "plt.legend()\n",
    "plt.show()"
   ]
  },
  {
   "cell_type": "markdown",
   "metadata": {
    "slideshow": {
     "slide_type": "subslide"
    }
   },
   "source": [
    "### Numerični zgled: nosilec z obremenitvijo"
   ]
  },
  {
   "cell_type": "markdown",
   "metadata": {
    "slideshow": {
     "slide_type": "-"
    }
   },
   "source": [
    "Poglejmo si nosilec:\n",
    "![Nosilec](./fig/nosilec.png)"
   ]
  },
  {
   "cell_type": "markdown",
   "metadata": {
    "slideshow": {
     "slide_type": "subslide"
    }
   },
   "source": [
    "Poves $w(x)$ nosilca popiše diferencialna enačba četrtega reda:\n",
    "\n",
    "$$-E\\,I\\frac{\\textrm{d}^4}{\\textrm{d}x^4}w(x)+q(x)=0.$$\n",
    "\n",
    "Znane konstante so $E,I,l$ in je $q(x)$ porazdeljena obremenitev.\n",
    "\n",
    "Robni pogoji (členkasto vpet nosilec):\n",
    "\n",
    "$$w(0)=w(l)=0\\quad\\textrm{in}\\quad w''(0)=w''(l)=0$$"
   ]
  },
  {
   "cell_type": "markdown",
   "metadata": {
    "slideshow": {
     "slide_type": "subslide"
    }
   },
   "source": [
    "Parametri so: \n",
    "\n",
    "* $I=2.1\\cdot10^{-5}\\,$m$^4$, \n",
    "* $E=2.1\\cdot10^{11}\\,N/$m$^2$, \n",
    "* $l=10\\,$m. \n",
    "\n",
    "Porazdeljena obremenitev $q(x)$ bo definirana pozneje."
   ]
  },
  {
   "cell_type": "markdown",
   "metadata": {
    "slideshow": {
     "slide_type": "subslide"
    }
   },
   "source": [
    "Najprej moramo diferencialno enačbo četrtega reda preoblikovati v sistem diferencialnih enačb prvega reda. \n",
    "Uporabimo:\n",
    "\n",
    "$$y_0=w,~ y_1=w',~ y_2=w'',~ y_3=w'''$$\n",
    "\n",
    "in dobimo sistem diferencialnih enačb prvega reda:\n",
    "\n",
    "$$\n",
    "\\begin{array}{rcl}\n",
    "y_0'&=&y_1\\\\\n",
    "y_1'&=&y_2\\\\\n",
    "y_2'&=&y_3\\\\\n",
    "y_3'&=&q(x)/(EI).\\\\\n",
    "\\end{array}\n",
    "$$"
   ]
  },
  {
   "cell_type": "markdown",
   "metadata": {
    "slideshow": {
     "slide_type": "subslide"
    }
   },
   "source": [
    "Pripravimo različne porazdeljene obremenitve:"
   ]
  },
  {
   "cell_type": "code",
   "execution_count": 26,
   "metadata": {},
   "outputs": [],
   "source": [
    "def q_konstanta(x, F_0=1e3, l=10):\n",
    "    return -F_0*np.ones_like(x)\n",
    "\n",
    "def q_trikotna(x, F_0=1e3, l=10):\n",
    "    return -F_0*x/l\n",
    "\n",
    "def q_pol_sinusna(x, F_0=1e3, l=10):\n",
    "    return -F_0*np.sin(np.pi*x/l)"
   ]
  },
  {
   "cell_type": "markdown",
   "metadata": {
    "slideshow": {
     "slide_type": "subslide"
    }
   },
   "source": [
    "Definirajmo dolžino (ostale parametre, $I, E$, bomo uporabili privzete):"
   ]
  },
  {
   "cell_type": "code",
   "execution_count": 27,
   "metadata": {},
   "outputs": [],
   "source": [
    "l = 10."
   ]
  },
  {
   "cell_type": "code",
   "execution_count": 28,
   "metadata": {
    "slideshow": {
     "slide_type": "subslide"
    }
   },
   "outputs": [
    {
     "data": {
      "image/png": "[encoded data removed]",
      "text/plain": [
       "<Figure size 640x480 with 1 Axes>"
      ]
     },
     "metadata": {},
     "output_type": "display_data"
    }
   ],
   "source": [
    "x = np.linspace(0, l, 15)\n",
    "plt.fill_between(x, q_konstanta(x), alpha=0.4, label='Konstantna')\n",
    "plt.fill_between(x, q_pol_sinusna(x), alpha=0.4, label='Pol-sinusna')\n",
    "plt.fill_between(x, q_trikotna(x), alpha=0.4, label='Trikotna')\n",
    "plt.title('Porazdeljena obremenitev $q(x)$')\n",
    "plt.legend()\n",
    "plt.show()"
   ]
  },
  {
   "cell_type": "markdown",
   "metadata": {
    "slideshow": {
     "slide_type": "subslide"
    }
   },
   "source": [
    "Pripravimo seznam funkcij desne strani:"
   ]
  },
  {
   "cell_type": "code",
   "execution_count": 29,
   "metadata": {},
   "outputs": [],
   "source": [
    "def f_nosilec_konstanta(x, y, E=2.1e11, I=2.1e-5):\n",
    "    return np.array([y[1], y[2], y[3], q_konstanta(x)/(E*I)], dtype=float)\n",
    "def f_nosilec_pol_sinusna(x, y, E=2.1e11, I=2.1e-5):\n",
    "    return np.array([y[1], y[2], y[3], q_pol_sinusna(x)/(E*I)])\n",
    "def f_nosilec_trikotna(x, y, E=2.1e11, I=2.1e-5):\n",
    "    return np.array([y[1], y[2], y[3], q_trikotna(x)/(E*I)])"
   ]
  },
  {
   "cell_type": "markdown",
   "metadata": {
    "slideshow": {
     "slide_type": "subslide"
    }
   },
   "source": [
    "Definirajmo sedaj robne pogoje oz. mejni preostanek (poves in moment sta na robovih enaka nič):"
   ]
  },
  {
   "cell_type": "code",
   "execution_count": 30,
   "metadata": {},
   "outputs": [],
   "source": [
    "def mejni_nosilec(ya, yb):\n",
    "    return np.array([ya[0], ya[2], yb[0], yb[2]])"
   ]
  },
  {
   "cell_type": "markdown",
   "metadata": {
    "slideshow": {
     "slide_type": "subslide"
    }
   },
   "source": [
    "Definirajmo še začetne vrednosti hitrosti (kot začetno ugibanje):"
   ]
  },
  {
   "cell_type": "code",
   "execution_count": 31,
   "metadata": {},
   "outputs": [],
   "source": [
    "y0 = np.zeros((4, x.size), dtype=float)\n",
    "y0[1] = 1. # w'\n",
    "y0[3] = 1. # w'''"
   ]
  },
  {
   "cell_type": "markdown",
   "metadata": {
    "slideshow": {
     "slide_type": "subslide"
    }
   },
   "source": [
    "In rešimo robni problem (za vse tri tipe obremenitve):"
   ]
  },
  {
   "cell_type": "code",
   "execution_count": 32,
   "metadata": {},
   "outputs": [],
   "source": [
    "sol_ko = solve_bvp(f_nosilec_konstanta, bc=mejni_nosilec, x=x, y=y0)\n",
    "sol_pol_sin = solve_bvp(f_nosilec_pol_sinusna, bc=mejni_nosilec, x=x, y=y0)\n",
    "sol_trikotna = solve_bvp(f_nosilec_trikotna, bc=mejni_nosilec, x=x, y=y0)"
   ]
  },
  {
   "cell_type": "markdown",
   "metadata": {
    "slideshow": {
     "slide_type": "subslide"
    }
   },
   "source": [
    "Rezultat prikažimo za konstantno obremenitev:"
   ]
  },
  {
   "cell_type": "code",
   "execution_count": 33,
   "metadata": {},
   "outputs": [
    {
     "data": {
      "image/png": "[encoded data removed]",
      "text/plain": [
       "<Figure size 640x480 with 1 Axes>"
      ]
     },
     "metadata": {},
     "output_type": "display_data"
    }
   ],
   "source": [
    "plt.fill_between(sol_ko.x, sol_ko.y[0], label='Poves $w$', alpha=0.5)\n",
    "plt.fill_between(sol_ko.x, sol_ko.y[1], label='Naklon $w\\'$', alpha=0.5)\n",
    "plt.title('Konstantna obremenitev')\n",
    "plt.legend()\n",
    "plt.show()"
   ]
  },
  {
   "cell_type": "markdown",
   "metadata": {
    "slideshow": {
     "slide_type": "subslide"
    }
   },
   "source": [
    "In primerjavo povesa za različne tipe obremenitve:"
   ]
  },
  {
   "cell_type": "code",
   "execution_count": 34,
   "metadata": {},
   "outputs": [
    {
     "data": {
      "image/png": "[encoded data removed]",
      "text/plain": [
       "<Figure size 640x480 with 1 Axes>"
      ]
     },
     "metadata": {},
     "output_type": "display_data"
    }
   ],
   "source": [
    "plt.fill_between(sol_ko.x, sol_ko.y[0], label='Konstantna $w$', alpha=0.5)\n",
    "plt.fill_between(sol_pol_sin.x, sol_pol_sin.y[0], label='Pol-sinusna $w$', alpha=0.5)\n",
    "plt.fill_between(sol_trikotna.x, sol_trikotna.y[0], label='Trikotna $w$', alpha=0.5)\n",
    "plt.title('Poves pri različnem tipu obremenitve')\n",
    "plt.legend()\n",
    "plt.show()"
   ]
  },
  {
   "cell_type": "markdown",
   "metadata": {
    "slideshow": {
     "slide_type": "slide"
    }
   },
   "source": [
    "## Metoda končnih razlik"
   ]
  },
  {
   "cell_type": "code",
   "execution_count": 35,
   "metadata": {},
   "outputs": [
    {
     "data": {
      "image/jpeg": "[encoded data removed]",
      "text/html": [
       "\n",
       "        <iframe\n",
       "            width=\"800\"\n",
       "            height=\"300\"\n",
       "            src=\"https://www.youtube.com/embed/YozKGsNYZ6Y\"\n",
       "            frameborder=\"0\"\n",
       "            allowfullscreen\n",
       "            \n",
       "        ></iframe>\n",
       "        "
      ],
      "text/plain": [
       "<IPython.lib.display.YouTubeVideo at 0x1d2231a3b10>"
      ]
     },
     "execution_count": 35,
     "metadata": {},
     "output_type": "execute_result"
    }
   ],
   "source": [
    "from IPython.display import YouTubeVideo\n",
    "YouTubeVideo('YozKGsNYZ6Y', width=800, height=300)"
   ]
  },
  {
   "cell_type": "markdown",
   "metadata": {},
   "source": [
    "Rešujemo robni problem:\n",
    "\n",
    "$$y''=f(t, y, y'),\\qquad y(a)=\\alpha,\\quad y(b)=\\beta.$$\n",
    "\n",
    "Velja torej: \n",
    "\n",
    "$$a=t_0,\\quad b=t_{n-1}.$$\n",
    "\n",
    "Pri metodi končnih razlik za reševanje robnega problema uporabimo diferenčno shemo. Predpostavimo, da imamo interval $[a,b]$, na katerem rešujemo diferencialno enačbo (neodvisna spremenljivka) razdeljeno na enake podintervale (točk je $n$):\n",
    "\n",
    "$$t=[t_0, t_1,\\dots, t_{n-1}].$$"
   ]
  },
  {
   "cell_type": "markdown",
   "metadata": {
    "slideshow": {
     "slide_type": "subslide"
    }
   },
   "source": [
    "Odvode nadomestimo s centralno diferenčno shemo:\n",
    "\n",
    "|    Odvod$\\downarrow$ $\\backslash$ Vrednosti $\\rightarrow$   |$y_{i-2}$|$y_{i-1}$ | $y_{i}$   |$y_{i+1}$ |$y_{i+2}$|\n",
    "|:--------:|:-------------------:|:----------:|:----------:|:----------:|:----------:|\n",
    "|$y_i'=\\frac{1}{h}\\cdot$| 0     | -0.5 | 0 | 0.5 | 0|\n",
    "|$y_i''=\\frac{1}{h^2}\\cdot$| 0 | 1 | -2 | 1 | 0|\n",
    "|$y_i'''=\\frac{1}{h^3}\\cdot$| -0.5 | 1 | 0 | -1 | 0.5|\n",
    "|$y_i^{(4)}=\\frac{1}{h^4}\\cdot$| 1 | -4 | 6 | -4 | 1|\n",
    "\n",
    "Prikazana centralna diferenčna shema ima napako drugega reda $\\mathcal{O}(h^{2})$."
   ]
  },
  {
   "cell_type": "markdown",
   "metadata": {
    "slideshow": {
     "slide_type": "subslide"
    }
   },
   "source": [
    "V $i$-ti točki navadno differencialno enačbo drugega reda s centralimi diferencami zapišemo:\n",
    "\n",
    "$$\\frac{1}{h^2}\\left(y_{i-1}-2\\,y_{i}+y_{i+1}\\right)+\\mathcal{O}(h^{2})=f\\left(t_i, y_i, \n",
    "\\frac{1}{2h}\\left(-y_{i-1}+y_{i+1}\\right)+\\mathcal{O}(h^{2})\\right).$$"
   ]
  },
  {
   "cell_type": "markdown",
   "metadata": {
    "slideshow": {
     "slide_type": "subslide"
    }
   },
   "source": [
    "Če zanemarimo napako metode:\n",
    "\n",
    "$$\\frac{1}{h^2}\\left(y_{i-1}-2\\,y_{i}+y_{i+1}\\right)=f\\left(t_i, y_i, \n",
    "\\frac{1}{2h}\\left(-y_{i-1}+y_{i+1}\\right)\\right),\\qquad i=1,2,\\dots,n-2.$$\n",
    "\n",
    "Zgornjo enačbo lahko zapišemo za $n-2$ notranjih točk, kar pomeni, da nam do rešljivega sistema enačb za $n$ neznank manjkata še dve enačbi. Ti dve enačbi sta robna pogoja:\n",
    "\n",
    "$$y_0=\\alpha,\\quad y_{n-1}=\\beta.$$"
   ]
  },
  {
   "cell_type": "markdown",
   "metadata": {
    "slideshow": {
     "slide_type": "subslide"
    }
   },
   "source": [
    "V primeru linearnega robnega problema moramo za izračun $n$ neznank $y_i$ rešiti sistem $n$ linearnih enačb (če je pa nelinearen, pa sistem nelinearnih enačb)."
   ]
  },
  {
   "cell_type": "markdown",
   "metadata": {
    "slideshow": {
     "slide_type": "subslide"
    }
   },
   "source": [
    "#### Ocena napake\n",
    "\n",
    "Točen rezultat $y(t_{i})$ pri velikosti koraka $h$ je:\n",
    "\n",
    "$$y(t_{i})=y_{i,h}+E_{i,h},$$\n",
    "\n",
    "kjer je $y_{i,h}$ numerični približek in $E_h$ napaka metode. Ker je globalna napaka drugega reda, lahko napako zapišemo:\n",
    "\n",
    "$$E_{i,h}=k\\,h^2,$$"
   ]
  },
  {
   "cell_type": "markdown",
   "metadata": {
    "slideshow": {
     "slide_type": "subslide"
    }
   },
   "source": [
    "Podobno lahko za velikost koraka $2h$ zapišemo:\n",
    "\n",
    "$$y(t_{j})=y_{j,2h}+E_{j,2h},$$\n",
    "\n",
    "kjer je $y_{j,2h}$ numerični približek in $E_{2h}$ napaka metode in je:\n",
    "\n",
    "$$E_{j,2h}=k\\,(2\\,h)^2=4\\,k\\,h^2$$"
   ]
  },
  {
   "cell_type": "markdown",
   "metadata": {
    "slideshow": {
     "slide_type": "subslide"
    }
   },
   "source": [
    "Ob predpostavki, da je konstanta $k$ pri koraku $h$ in koraku $2h$ enaka, lahko določimo oceno napake pri boljšem približku $E_h$. Najprej izenačimo točna rezultat $y(t_{i})$ pri koraku $h$ in rezultat $y(t_{j})$ pri koraku $2h$ (velja $i=2\\,j$, $j=1,2,\\dots$):\n",
    "\n",
    "$$y_{i,h}+k\\,h^2=y_{j,2h}+4\\,k\\,h^2$$"
   ]
  },
  {
   "cell_type": "markdown",
   "metadata": {
    "slideshow": {
     "slide_type": "subslide"
    }
   },
   "source": [
    "sledi:\n",
    "\n",
    "$$3\\,k\\,h^2=y_{2j,h}-y_{j,2h}$$\n",
    "\n",
    "in nato izračunamo *oceno napake*:\n",
    "\n",
    "$$E_{j,h}=\\frac{y_{2j,h}-y_{j,2h}}{3}.$$"
   ]
  },
  {
   "cell_type": "markdown",
   "metadata": {
    "slideshow": {
     "slide_type": "subslide"
    }
   },
   "source": [
    "### Numerični zgled: vertikalni met\n",
    "\n",
    "Zgoraj smo vertikalni met rešili s strelsko metodo; uporabimo sedaj metodo končnih razlik. Najprej robni problem:\n",
    "$$y''(t)=F_y/m-g,\\qquad y(0)=0,\\quad y(1)=10.$$\n",
    "zapisati s pomočjo centralne diferenčne sheme ($F_y=-c\\,y'$):\n",
    "\n",
    "$$\\frac{1}{h^2}\\left(y_{i-1}-2\\,y_{i}+y_{i+1}\\right)= -c\\left(\\frac{1}{2h}\\left(-y_{i-1}+y_{i+1}\\right)\\right)/m-g.$$\n",
    "\n",
    "(Tukaj smo predpostavili, da je zračni upor linearno odvisen od hitrost. V nasprotnem primeru bi imeli nelinearni robni problem, in posledično razvili sistem nelinearnih enačb.)"
   ]
  },
  {
   "cell_type": "markdown",
   "metadata": {
    "slideshow": {
     "slide_type": "subslide"
    }
   },
   "source": [
    "Zgornji izraz preoblikujemo:\n",
    "\n",
    "$$(2-c\\,h/m)\\,y_{i-1}-4\\,y_{i}+(2+c\\,h/m)\\,y_{i+1}=-2\\,g\\,h^2,\\qquad i=1,2,\\dots,n-2.$$\n",
    "\n",
    "Robna pogoja sta:\n",
    "\n",
    "$$y_0=0,\\qquad y_{n-1}=10$$"
   ]
  },
  {
   "cell_type": "markdown",
   "metadata": {
    "slideshow": {
     "slide_type": "subslide"
    }
   },
   "source": [
    "Robni problem smo torej preoblikovali na sistem $n$ linearnih enačb. Poglejmo si sedaj konkreten izračun za $n=11$; najprej definirajmo konstante, časovni vektor `t` in korak `h`:"
   ]
  },
  {
   "cell_type": "code",
   "execution_count": 36,
   "metadata": {},
   "outputs": [],
   "source": [
    "n = 11 # liho število\n",
    "c = 0.5\n",
    "m = 1.0\n",
    "g = 9.81\n",
    "t = np.linspace(0, 1, n)\n",
    "h = t[1]"
   ]
  },
  {
   "cell_type": "markdown",
   "metadata": {
    "slideshow": {
     "slide_type": "subslide"
    }
   },
   "source": [
    "Nato nadaljujemo z izračunom tridiagonalne matrike koeficientov `A`. \n",
    "\n",
    "Pomagamo si s funkcijo `numpy.diag()` ([dokumentacija](https://docs.scipy.org/doc/numpy/reference/generated/numpy.diag.html)):\n",
    "\n",
    "```python\n",
    "numpy.diag(v, k=0)\n",
    "```\n",
    "s parametroma:\n",
    "\n",
    "* `v` vektor, ki bo prirejen diagonali,\n",
    "* `k` diagonala, kateri se priredi `v`. `k=0` uporabimo za glavno diagonalo, `k<0` oz. `k>0` uporabimo za  diagonale pod oz. nad glavno diagonalo."
   ]
  },
  {
   "cell_type": "code",
   "execution_count": 37,
   "metadata": {
    "slideshow": {
     "slide_type": "subslide"
    }
   },
   "outputs": [
    {
     "data": {
      "text/plain": [
       "array([[-4.  ,  2.05,  0.  ,  0.  ],\n",
       "       [ 1.95, -4.  ,  2.05,  0.  ],\n",
       "       [ 0.  ,  1.95, -4.  ,  2.05],\n",
       "       [ 0.  ,  0.  ,  1.95, -4.  ]])"
      ]
     },
     "execution_count": 37,
     "metadata": {},
     "output_type": "execute_result"
    }
   ],
   "source": [
    "A = np.diag(-4*np.ones(n), 0) + \\\n",
    "    (2-c*h/m)*np.diag(np.ones(n-1), -1) + \\\n",
    "    (2+c*h/m)*np.diag(np.ones(n-1), 1)\n",
    "A[:4,:4]"
   ]
  },
  {
   "cell_type": "markdown",
   "metadata": {
    "slideshow": {
     "slide_type": "subslide"
    }
   },
   "source": [
    "Definirajmo še vektor konstant:"
   ]
  },
  {
   "cell_type": "code",
   "execution_count": 38,
   "metadata": {},
   "outputs": [],
   "source": [
    "b = -2*g*h**2 * np.ones(n)"
   ]
  },
  {
   "cell_type": "markdown",
   "metadata": {
    "slideshow": {
     "slide_type": "subslide"
    }
   },
   "source": [
    "Sedaj *popravimo* matriko koeficientov `A` in vektor konstant `b`, da zadostimo robnim pogojem:\n",
    "\n",
    "$$y_0=0,\\quad y_{n-1}=10.$$"
   ]
  },
  {
   "cell_type": "code",
   "execution_count": 39,
   "metadata": {},
   "outputs": [],
   "source": [
    "A[0,0] = 1\n",
    "A[0,1] = 0\n",
    "A[-1,-2] = 0\n",
    "A[-1,-1] = 1"
   ]
  },
  {
   "cell_type": "code",
   "execution_count": 40,
   "metadata": {},
   "outputs": [],
   "source": [
    "b[0] = 0.\n",
    "b[-1] = 10."
   ]
  },
  {
   "cell_type": "markdown",
   "metadata": {
    "slideshow": {
     "slide_type": "subslide"
    }
   },
   "source": [
    "Rešimo sistem linearnih enačb:"
   ]
  },
  {
   "cell_type": "code",
   "execution_count": 41,
   "metadata": {},
   "outputs": [],
   "source": [
    "y_mkr = np.linalg.solve(A, b)"
   ]
  },
  {
   "cell_type": "markdown",
   "metadata": {
    "slideshow": {
     "slide_type": "subslide"
    }
   },
   "source": [
    "Prikažemo rezultat:"
   ]
  },
  {
   "cell_type": "code",
   "execution_count": 42,
   "metadata": {},
   "outputs": [
    {
     "data": {
      "image/png": "[encoded data removed]",
      "text/plain": [
       "<Figure size 640x480 with 1 Axes>"
      ]
     },
     "metadata": {},
     "output_type": "display_data"
    }
   ],
   "source": [
    "plt.title('Vertikalni met (upor zraka: $-c\\,\\dot y$)')\n",
    "plt.hlines(10, 0, 1, 'C3', label='Ciljna lega', linestyles='dashed', alpha=0.5)\n",
    "plt.plot(t, y_mkr, '.', label='Metoda končnih razlik')\n",
    "plt.xlabel('$t$ [s]')\n",
    "plt.ylabel('$y$ [m]')\n",
    "plt.legend()\n",
    "plt.show()"
   ]
  },
  {
   "cell_type": "markdown",
   "metadata": {
    "slideshow": {
     "slide_type": "subslide"
    }
   },
   "source": [
    "S pomočjo funkcije [`numpy.gradient()`](https://docs.scipy.org/doc/numpy/reference/generated/numpy.gradient.html) izračunamo še hitrost in pospešek:"
   ]
  },
  {
   "cell_type": "code",
   "execution_count": 43,
   "metadata": {},
   "outputs": [
    {
     "data": {
      "text/plain": [
       "array([17.99109496, 16.20009044, 14.45276895, 12.79068266])"
      ]
     },
     "execution_count": 43,
     "metadata": {},
     "output_type": "execute_result"
    }
   ],
   "source": [
    "v_mkr = np.gradient(y_mkr,h, edge_order=2)\n",
    "a_mkr = np.gradient(v_mkr,h, edge_order=2)\n",
    "v_mkr[:4]"
   ]
  },
  {
   "cell_type": "markdown",
   "metadata": {
    "slideshow": {
     "slide_type": "subslide"
    }
   },
   "source": [
    "Izračunajmo sedaj še rezultat z dvojnim korakom:"
   ]
  },
  {
   "cell_type": "code",
   "execution_count": 44,
   "metadata": {
    "slideshow": {
     "slide_type": "subslide"
    }
   },
   "outputs": [],
   "source": [
    "n2h = n//2+1\n",
    "t2h = np.linspace(0, 1, n2h)\n",
    "h2h = t[1]\n",
    "A2h = np.diag(-4*np.ones(n2h), 0) + \\\n",
    "    (2-c*h2h/(m))*np.diag(np.ones(n2h-1), -1) + \\\n",
    "    (2+c*h2h/(m))*np.diag(np.ones(n2h-1), 1)\n",
    "b2h = -2*g*h2h**2 * np.ones(n2h)\n",
    "A2h[0,0] = 1\n",
    "A2h[0,1] = 0\n",
    "A2h[-1,-1] = 1\n",
    "A2h[-1,-2] = 0\n",
    "b2h[0] = 0.\n",
    "b2h[-1] = 10.\n",
    "y2h_mkr = np.linalg.solve(A2h, b2h)"
   ]
  },
  {
   "cell_type": "markdown",
   "metadata": {
    "slideshow": {
     "slide_type": "subslide"
    }
   },
   "source": [
    "Primerjajmo prvih šest rezultatov pri koraku $2h$:"
   ]
  },
  {
   "cell_type": "code",
   "execution_count": 45,
   "metadata": {},
   "outputs": [
    {
     "data": {
      "text/plain": [
       "array([ 0.        ,  2.40584652,  4.59862736,  6.58873597,  8.38605878,\n",
       "       10.        ])"
      ]
     },
     "execution_count": 45,
     "metadata": {},
     "output_type": "execute_result"
    }
   ],
   "source": [
    "y2h_mkr[:6]"
   ]
  },
  {
   "cell_type": "markdown",
   "metadata": {},
   "source": [
    "z vsakim drugim rezultatom pri koraku $h$:"
   ]
  },
  {
   "cell_type": "code",
   "execution_count": 46,
   "metadata": {},
   "outputs": [
    {
     "data": {
      "text/plain": [
       "array([4.55476113e-16, 3.24001809e+00, 5.79815462e+00, 7.73931207e+00,\n",
       "       9.12221538e+00, 1.00000000e+01])"
      ]
     },
     "execution_count": 46,
     "metadata": {},
     "output_type": "execute_result"
    }
   ],
   "source": [
    "y_mkr[:12:2]"
   ]
  },
  {
   "cell_type": "markdown",
   "metadata": {
    "slideshow": {
     "slide_type": "subslide"
    }
   },
   "source": [
    "Sedaj lahko ocenimo napako:"
   ]
  },
  {
   "cell_type": "code",
   "execution_count": 47,
   "metadata": {},
   "outputs": [
    {
     "data": {
      "text/plain": [
       "array([1.51825371e-16, 2.78057188e-01, 3.99842419e-01, 3.83525367e-01,\n",
       "       2.45385533e-01, 0.00000000e+00])"
      ]
     },
     "execution_count": 47,
     "metadata": {},
     "output_type": "execute_result"
    }
   ],
   "source": [
    "(y_mkr[::2]-y2h_mkr)/3"
   ]
  },
  {
   "cell_type": "markdown",
   "metadata": {
    "slideshow": {
     "slide_type": "subslide"
    }
   },
   "source": [
    "### Numerični zgled: nosilec z obremenitvijo"
   ]
  },
  {
   "cell_type": "markdown",
   "metadata": {
    "slideshow": {
     "slide_type": "subslide"
    }
   },
   "source": [
    "Vrnimo se k robnemu problemu nosilca s polsinusno obremenitvijo ($q(x)=-F_0\\,\\sin(\\pi\\,x/l))$), ki smo ga že obravnavali s strelsko metodo. \n",
    "\n",
    "Diferencialno enačbo četrtega reda zapišemo s pomočjo centralne diferenčne sheme (za $i$-to točko):\n",
    "\n",
    "$$-\\frac{E\\,I}{h^4}\\left(1\\,w_{i-2} - 4\\,w_{i-1} + 6\\,w_{i} - 4\\,w_{i+1} + 1\\, w_{i+2}\\right) - F_0\\,\\sin(\\pi\\,x_i/l)= 0.$$"
   ]
  },
  {
   "cell_type": "markdown",
   "metadata": {
    "slideshow": {
     "slide_type": "subslide"
    }
   },
   "source": [
    "Robni pogoji so štirje, najprej poves na robovih: \n",
    "\n",
    "$$w_0=w_{n-1}=0$$\n",
    "\n",
    "Ker na robovih ni momenta, je drugi odvod nič. S centralno diferenčno shemo torej zapišemo dodatne enačbe: \n",
    "\n",
    "$$w_{-1}-2\\,w_{0}+w_{1}=0\\qquad w_{n-2}-2\\,w_{n-1}+w_{n}=0.$$"
   ]
  },
  {
   "cell_type": "markdown",
   "metadata": {
    "slideshow": {
     "slide_type": "subslide"
    }
   },
   "source": [
    "Če za neodvisno spremenljivko $x$ uporabimo $n$ ekvidistantnih točk, potem diferencialno enačbo četrtega reda zapišemo za $n-2$ notranje točke. S tem pridobimo dodatni nefizikalni točki $w_{-1}$ in $w_n$. Če dodamo še štiri robne pogoje, imamo rešljiv sistem linearnih enačb z $n+2$ neznakami in $n+2$ enačbami."
   ]
  },
  {
   "cell_type": "markdown",
   "metadata": {
    "slideshow": {
     "slide_type": "subslide"
    }
   },
   "source": [
    "Najprej pripravimo podatke, neodvisno spremenljivko `x` in korak `h`:"
   ]
  },
  {
   "cell_type": "code",
   "execution_count": 48,
   "metadata": {},
   "outputs": [],
   "source": [
    "l = 10.\n",
    "E = 2.1e11\n",
    "I = 2.1e-5\n",
    "F_0= 1e3\n",
    "n = 100\n",
    "x = np.linspace(0, l, n)\n",
    "h = x[1]"
   ]
  },
  {
   "cell_type": "markdown",
   "metadata": {},
   "source": [
    "Nato pripravimo matriko koeficientov (matrika je dimenzije `(n+2, n+2)`, v prvi in v zadnji dve vrstici bi lahko zapisali tudi vrednosti 0, to bomo pozneje popravili):"
   ]
  },
  {
   "cell_type": "code",
   "execution_count": 49,
   "metadata": {
    "slideshow": {
     "slide_type": "subslide"
    }
   },
   "outputs": [
    {
     "data": {
      "text/plain": [
       "array([[ 6., -4.,  1.,  0.],\n",
       "       [-4.,  6., -4.,  1.],\n",
       "       [ 1., -4.,  6., -4.],\n",
       "       [ 0.,  1., -4.,  6.]])"
      ]
     },
     "execution_count": 49,
     "metadata": {},
     "output_type": "execute_result"
    }
   ],
   "source": [
    "A = +1*np.diag(np.ones(n-2+2), -2) \\\n",
    "    -4*np.diag(np.ones(n-1+2), -1) \\\n",
    "    +6*np.diag(np.ones(n+2), 0)  \\\n",
    "    -4*np.diag(np.ones(n-1+2), +1)  \\\n",
    "    +1*np.diag(np.ones(n-2+2), +2)\n",
    "A[:4,:4]"
   ]
  },
  {
   "cell_type": "markdown",
   "metadata": {
    "slideshow": {
     "slide_type": "subslide"
    }
   },
   "source": [
    "Definirajmo še vektor konstant (dodamo en element na koncu in en na začetku):"
   ]
  },
  {
   "cell_type": "code",
   "execution_count": 50,
   "metadata": {},
   "outputs": [
    {
     "data": {
      "text/plain": [
       "array([ 0.00000000e+00,  0.00000000e+00, -7.48966545e-10, -1.49717894e-09])"
      ]
     },
     "execution_count": 50,
     "metadata": {},
     "output_type": "execute_result"
    }
   ],
   "source": [
    "b = np.zeros(n+2)\n",
    "b[2:-2] = - h**4 * F_0*np.sin(np.pi*x[1:-1]/l)/(E*I)\n",
    "b[:4]"
   ]
  },
  {
   "cell_type": "markdown",
   "metadata": {
    "slideshow": {
     "slide_type": "subslide"
    }
   },
   "source": [
    "Sedaj *popravimo* matriko koeficientov `A` in vektor konstant `b`, da zadostimo\n",
    "robnim pogojem. \n",
    "\n",
    "Najprej $w_0=w_{n-1}=0$:"
   ]
  },
  {
   "cell_type": "code",
   "execution_count": 51,
   "metadata": {},
   "outputs": [],
   "source": [
    "A[0,:3]= np.array([0, 1, 0])\n",
    "b[0] = 0\n",
    "A[-1,-3:]= np.array([0, 1, 0])\n",
    "b[-1] = 0"
   ]
  },
  {
   "cell_type": "markdown",
   "metadata": {
    "slideshow": {
     "slide_type": "subslide"
    }
   },
   "source": [
    "Nato $w_{-1}-2\\,w_{0}+w_{1}=0$ in $w_{n-2}-2\\,w_{n-1}+w_{n}=0$:"
   ]
  },
  {
   "cell_type": "code",
   "execution_count": 52,
   "metadata": {},
   "outputs": [],
   "source": [
    "A[1,:4] = np.array([1, -2, 1,0])\n",
    "b[1] = 0\n",
    "A[-2,-4:] = np.array([0, 1, -2, 1])\n",
    "b[-2] = 0"
   ]
  },
  {
   "cell_type": "code",
   "execution_count": 53,
   "metadata": {
    "slideshow": {
     "slide_type": "subslide"
    }
   },
   "outputs": [
    {
     "data": {
      "text/plain": [
       "array([[ 0.,  1.,  0.,  0.,  0.],\n",
       "       [ 1., -2.,  1.,  0.,  0.],\n",
       "       [ 1., -4.,  6., -4.,  1.],\n",
       "       [ 0.,  1., -4.,  6., -4.],\n",
       "       [ 0.,  0.,  1., -4.,  6.]])"
      ]
     },
     "execution_count": 53,
     "metadata": {},
     "output_type": "execute_result"
    }
   ],
   "source": [
    "A[:5,:5]"
   ]
  },
  {
   "cell_type": "code",
   "execution_count": 54,
   "metadata": {},
   "outputs": [
    {
     "data": {
      "text/plain": [
       "array([[ 6., -4.,  1.,  0.,  0.],\n",
       "       [-4.,  6., -4.,  1.,  0.],\n",
       "       [ 1., -4.,  6., -4.,  1.],\n",
       "       [ 0.,  0.,  1., -2.,  1.],\n",
       "       [ 0.,  0.,  0.,  1.,  0.]])"
      ]
     },
     "execution_count": 54,
     "metadata": {},
     "output_type": "execute_result"
    }
   ],
   "source": [
    "A[-5:,-5:]"
   ]
  },
  {
   "cell_type": "code",
   "execution_count": 55,
   "metadata": {
    "slideshow": {
     "slide_type": "subslide"
    }
   },
   "outputs": [
    {
     "data": {
      "text/plain": [
       "array([ 0.00000000e+00,  0.00000000e+00, -7.48966545e-10, -1.49717894e-09,\n",
       "       -2.24388381e-09])"
      ]
     },
     "execution_count": 55,
     "metadata": {},
     "output_type": "execute_result"
    }
   ],
   "source": [
    "b[:5]"
   ]
  },
  {
   "cell_type": "code",
   "execution_count": 56,
   "metadata": {},
   "outputs": [
    {
     "data": {
      "text/plain": [
       "array([-2.24388381e-09, -1.49717894e-09, -7.48966545e-10,  0.00000000e+00,\n",
       "        0.00000000e+00])"
      ]
     },
     "execution_count": 56,
     "metadata": {},
     "output_type": "execute_result"
    }
   ],
   "source": [
    "b[-5:]"
   ]
  },
  {
   "cell_type": "markdown",
   "metadata": {
    "slideshow": {
     "slide_type": "subslide"
    }
   },
   "source": [
    "Rešimo sistem linearnih enačb:"
   ]
  },
  {
   "cell_type": "code",
   "execution_count": 57,
   "metadata": {},
   "outputs": [],
   "source": [
    "y_mkr = np.linalg.solve(A, b)"
   ]
  },
  {
   "cell_type": "markdown",
   "metadata": {
    "slideshow": {
     "slide_type": "subslide"
    }
   },
   "source": [
    "Prikažemo rezultat:"
   ]
  },
  {
   "cell_type": "code",
   "execution_count": 58,
   "metadata": {},
   "outputs": [
    {
     "data": {
      "image/png": "[encoded data removed]",
      "text/plain": [
       "<Figure size 640x480 with 1 Axes>"
      ]
     },
     "metadata": {},
     "output_type": "display_data"
    }
   ],
   "source": [
    "plt.title('Poves ob polsinusni obremenitvi')\n",
    "plt.plot(sol_pol_sin.x, sol_pol_sin.y[0], 'o', label='Strelska metoda')\n",
    "plt.plot(x, y_mkr[1:-1], '.', label='Metoda končnih razlik')\n",
    "plt.xlabel('$x$ [m]')\n",
    "plt.ylabel('$w$ [m]')\n",
    "plt.legend()\n",
    "plt.show()"
   ]
  },
  {
   "cell_type": "markdown",
   "metadata": {
    "slideshow": {
     "slide_type": "slide"
    }
   },
   "source": [
    "## Dodatno: simbolna rešitev nosilca"
   ]
  },
  {
   "cell_type": "markdown",
   "metadata": {
    "slideshow": {
     "slide_type": "subslide"
    }
   },
   "source": [
    "Tukaj si bomo pogledali simbolno reševanje robnega problema. Poudariti je treba, da gre tukaj zgolj za zgled, ki ga lahko naredimo za obravnavani nosilec z relativno enostavno polsinusno obremenitvijo. **V praksi so seveda obremenitve in tudi oblike nosilca lahko bistveno bolj zahtevne in takrat druge poti kot numeričnega reševanja skoraj nimamo na voljo.**"
   ]
  },
  {
   "cell_type": "markdown",
   "metadata": {
    "slideshow": {
     "slide_type": "subslide"
    }
   },
   "source": [
    "Najprej uvozimo `sympy`:"
   ]
  },
  {
   "cell_type": "code",
   "execution_count": 59,
   "metadata": {},
   "outputs": [],
   "source": [
    "import sympy as sym\n",
    "sym.init_printing()"
   ]
  },
  {
   "cell_type": "markdown",
   "metadata": {
    "slideshow": {
     "slide_type": "subslide"
    }
   },
   "source": [
    "Definirajmo spremenljivke:"
   ]
  },
  {
   "cell_type": "code",
   "execution_count": 60,
   "metadata": {},
   "outputs": [],
   "source": [
    "w = sym.Function('w')\n",
    "x, E, I, F_0, l = sym.symbols('x, E, I, F_0, l')"
   ]
  },
  {
   "cell_type": "markdown",
   "metadata": {},
   "source": [
    "Definirajmo differencialno enačbo (robne pogoje dodamo pozneje):"
   ]
  },
  {
   "cell_type": "code",
   "execution_count": 61,
   "metadata": {},
   "outputs": [
    {
     "data": {
      "image/png": "[encoded data removed]",
      "text/latex": [
       "$\\displaystyle - E I \\frac{d^{4}}{d x^{4}} w{\\left(x \\right)} - F_{0} \\sin{\\left(\\frac{\\pi x}{l} \\right)} = 0$"
      ],
      "text/plain": [
       "        4                        \n",
       "       d                ⎛π⋅x⎞    \n",
       "- E⋅I⋅───(w(x)) - F₀⋅sin⎜───⎟ = 0\n",
       "        4               ⎝ l ⎠    \n",
       "      dx                         "
      ]
     },
     "execution_count": 61,
     "metadata": {},
     "output_type": "execute_result"
    }
   ],
   "source": [
    "eq = sym.Eq(-E*I*w(x).diff(x,4)-F_0*sym.sin(sym.pi*x/l),0)\n",
    "eq"
   ]
  },
  {
   "cell_type": "markdown",
   "metadata": {
    "slideshow": {
     "slide_type": "subslide"
    }
   },
   "source": [
    "Rešimo:"
   ]
  },
  {
   "cell_type": "code",
   "execution_count": 62,
   "metadata": {
    "slideshow": {
     "slide_type": "-"
    }
   },
   "outputs": [
    {
     "data": {
      "image/png": "[encoded data removed]",
      "text/latex": [
       "$\\displaystyle w{\\left(x \\right)} = - \\frac{F_{0} l^{4} \\sin{\\left(\\frac{\\pi x}{l} \\right)}}{\\pi^{4} E I}$"
      ],
      "text/plain": [
       "            4    ⎛π⋅x⎞ \n",
       "       -F₀⋅l ⋅sin⎜───⎟ \n",
       "                 ⎝ l ⎠ \n",
       "w(x) = ────────────────\n",
       "             4         \n",
       "            π ⋅E⋅I     "
      ]
     },
     "execution_count": 62,
     "metadata": {},
     "output_type": "execute_result"
    }
   ],
   "source": [
    "sol = sym.dsolve(eq, func=w(x), hint='nth_linear_constant_coeff_undetermined_coefficients',\n",
    "                 ics={\n",
    "                     w(0):0,                      #poves pri x=0 je nič\n",
    "                     w(x).diff(x,2).subs(x, 0): 0,#moment pri x=0 je nič\n",
    "                     w(x).subs(x, l): 0,                     #poves pri x=l je nič\n",
    "                     w(x).diff(x, 2).subs(x, l): 0 #moment pri x=l je nič                 \n",
    "                 })\n",
    "sol"
   ]
  },
  {
   "cell_type": "code",
   "execution_count": 63,
   "metadata": {},
   "outputs": [],
   "source": [
    "podatki = {E: 2.1e11, I: 2.1e-5, l: 10, F_0:1e3}\n",
    "resitev_np = sym.lambdify(x, sol.rhs.subs(podatki), modules='numpy')\n",
    "x_ana = np.linspace(0, podatki[l], 100)\n",
    "y_ana = resitev_np(x_ana)"
   ]
  },
  {
   "cell_type": "code",
   "execution_count": 64,
   "metadata": {},
   "outputs": [
    {
     "data": {
      "image/png": "[encoded data removed]",
      "text/plain": [
       "<Figure size 640x480 with 1 Axes>"
      ]
     },
     "metadata": {},
     "output_type": "display_data"
    }
   ],
   "source": [
    "plt.title('Upogib ob polsinusni obremenitvi')\n",
    "plt.plot(x_ana, y_ana, '-', label='Analitična rešitev')\n",
    "plt.xlabel('$x$ [m]')\n",
    "plt.ylabel('$w$ [m]')\n",
    "plt.legend()\n",
    "plt.show()"
   ]
  },
  {
   "cell_type": "markdown",
   "metadata": {},
   "source": [
    "Primerjajmo sedaj analitično rešitev, z rešitivijo z metodo končnih razlik in strelsko metodo:"
   ]
  },
  {
   "cell_type": "code",
   "execution_count": 65,
   "metadata": {},
   "outputs": [
    {
     "data": {
      "image/png": "[encoded data removed]",
      "text/latex": [
       "$\\displaystyle \\left[ -0.0232759411601314, \\  -0.0232798479988254, \\  -0.0232786462140252\\right]$"
      ],
      "text/plain": [
       "[-0.02327594116013143, -0.023279847998825362, -0.023278646214025207]"
      ]
     },
     "execution_count": 65,
     "metadata": {},
     "output_type": "execute_result"
    }
   ],
   "source": [
    "[np.min(y_ana), np.min(y_mkr), np.min(sol_pol_sin.y[0])]"
   ]
  }
 ],
 "metadata": {
  "anaconda-cloud": {},
  "celltoolbar": "Slideshow",
  "kernelspec": {
   "display_name": "Python 3 (ipykernel)",
   "language": "python",
   "name": "python3"
  },
  "language_info": {
   "codemirror_mode": {
    "name": "ipython",
    "version": 3
   },
   "file_extension": ".py",
   "mimetype": "text/x-python",
   "name": "python",
   "nbconvert_exporter": "python",
   "pygments_lexer": "ipython3",
   "version": "3.11.6"
  },
  "latex_envs": {
   "bibliofile": "biblio.bib",
   "cite_by": "apalike",
   "current_citInitial": 1,
   "eqLabelWithNumbers": true,
   "eqNumInitial": 0
  },
  "livereveal": {
   "theme": "sky",
   "transition": "default",
   "width": 1200
  },
  "nav_menu": {},
  "toc": {
   "base_numbering": 1,
   "nav_menu": {
    "height": "209px",
    "width": "252px"
   },
   "number_sections": true,
   "sideBar": true,
   "skip_h1_title": false,
   "title_cell": "Kazalo",
   "title_sidebar": "Kazalo",
   "toc_cell": false,
   "toc_position": {},
   "toc_section_display": false,
   "toc_window_display": false
  }
 },
 "nbformat": 4,
 "nbformat_minor": 4
}
