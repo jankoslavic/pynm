{
 "cells": [
  {
   "cell_type": "markdown",
   "metadata": {
    "slideshow": {
     "slide_type": "slide"
    }
   },
   "source": [
    "# Funkcije, izjeme, moduli\n",
    "\n",
    "## Funkcije"
   ]
  },
  {
   "cell_type": "markdown",
   "metadata": {
    "editable": true,
    "slideshow": {
     "slide_type": "slide"
    },
    "tags": []
   },
   "source": [
    "### Funkcija print"
   ]
  },
  {
   "cell_type": "markdown",
   "metadata": {
    "editable": true,
    "slideshow": {
     "slide_type": ""
    },
    "tags": []
   },
   "source": [
    "`print` predstavlja eno od najbolj pogosto uporabljenih funkcij. Vse podane argumente izpiše, mednje da presledek, na koncu pa gre v novo vrstico.\n",
    "\n",
    "Poglejmo primer:"
   ]
  },
  {
   "cell_type": "code",
   "execution_count": 1,
   "metadata": {},
   "outputs": [
    {
     "name": "stdout",
     "output_type": "stream",
     "text": [
      "prvi argument drugi = 5.0\n"
     ]
    }
   ],
   "source": [
    "print('prvi argument', 'drugi', '=', 5.)"
   ]
  },
  {
   "cell_type": "markdown",
   "metadata": {
    "slideshow": {
     "slide_type": "subslide"
    }
   },
   "source": [
    "Za bolj splošno uporabo glejmo [dokumentacijo](https://docs.python.org/library/functions.html#print):\n",
    "\n",
    "```python\n",
    "print(*objects, sep=' ', end='\\n', file=sys.stdout, flush=False),\n",
    "```\n",
    "\n",
    "kjer so argumenti:\n",
    "\n",
    "* `*objects` predstavlja argumente, ki jih želimo izpisati (celovitost zvezdice bo jasna pri obravnavi *funkcij*, spodaj,\n",
    "* `sep` predstavlja delilni niz (angl. *sep*arator),\n",
    "* `end` predstavlja zaključni niz,\n",
    "* `file` predstavlja *datoteko* izpisa (`sys.stdout` predstavlja *standard output*, v konkretnem primeru to pomeni *zaslon* oz ukazna vrstica; pozneje bomo to spremenili),\n",
    "* `flush` v primeru `True` izpis zaključi (sicer lahko zaradi optimizacije ostane v medpolnilniku, angl. *buffer*)."
   ]
  },
  {
   "cell_type": "markdown",
   "metadata": {
    "slideshow": {
     "slide_type": "subslide"
    }
   },
   "source": [
    "Pri argumentu `end` smo zgoraj uporabili t. i. **izhodni znak** (angl. *escape character*): **\\\\**. \n",
    "\n",
    "Namen izhodnega znaka je, da sledečemu znaku da poseben pomen, nekatere pogoste uporabe so:\n",
    "* **\\\\n** vstavi *prelomi vrstico*,\n",
    "* **\\\\t** vstavi *tabulator*,\n",
    "* **\\\\b** izbriše zadnji znak *backspace*,\n",
    "* **\\\\'** izpiše enojni narekovaj ',\n",
    "* **\\\\\"** izpiše dvojni narekovaj \",\n",
    "* **\\\\\\\\** prikaže *izhodni znak* (angl. *backslash*),\n",
    "* **\\\\** nova vrstica v večvrstičnem nizu."
   ]
  },
  {
   "cell_type": "markdown",
   "metadata": {
    "slideshow": {
     "slide_type": "subslide"
    }
   },
   "source": [
    "Primer (kako ponavadi ne programiramo):"
   ]
  },
  {
   "cell_type": "code",
   "execution_count": 2,
   "metadata": {},
   "outputs": [
    {
     "name": "stdout",
     "output_type": "stream",
     "text": [
      "pet-et=p:)\n"
     ]
    }
   ],
   "source": [
    "print('pet','et', sep='-', end='=')\n",
    "print('p:)')"
   ]
  },
  {
   "cell_type": "markdown",
   "metadata": {
    "slideshow": {
     "slide_type": "subslide"
    }
   },
   "source": [
    "In še primer z izhodnimi znaki:"
   ]
  },
  {
   "cell_type": "code",
   "execution_count": 3,
   "metadata": {},
   "outputs": [
    {
     "name": "stdout",
     "output_type": "stream",
     "text": [
      "Nizi v Pythonu (po PEP8) naj ne bi bili daljši od 80 znakov. Razlog je v tem, da nam ni treba pomikati okna levo in desno. Da pa vseeno lahko napišemo nize, ki so daljši od 80 znakov Uporabimo enojni delilni znak \\ (bodite pozorni na to, kako se izpiše: \\)\n"
     ]
    }
   ],
   "source": [
    "print('Nizi v Pythonu (po PEP8) naj ne bi bili daljši od 80 znakov. \\\n",
    "Razlog je v tem, da nam ni treba pomikati okna levo in desno. \\\n",
    "Da pa vseeno lahko napišemo nize, ki so daljši od 80 znakov \\\n",
    "Uporabimo enojni delilni znak \\\\ (bodite pozorni na to, \\\n",
    "kako se izpiše: \\\\)',)"
   ]
  },
  {
   "cell_type": "markdown",
   "metadata": {
    "slideshow": {
     "slide_type": "slide"
    }
   },
   "source": [
    "### Oblikovanje nizov"
   ]
  },
  {
   "cell_type": "markdown",
   "metadata": {
    "slideshow": {
     "slide_type": "subslide"
    }
   },
   "source": [
    "Pri oblikovanju/formatiranju nizov imamo na voljo več orodij:\n",
    "\n",
    "* **f-niz** (angl. *f-string*, *f* zaradi \"formatirani\"), [dokumentacija](https://docs.python.org/reference/lexical_analysis.html#f-strings),\n",
    "* **metoda `.format()`**, [dokumentacija](https://docs.python.org/library/stdtypes.html#str.format),\n",
    "* **%** oblikovanje, [dokumentacija](https://docs.python.org/library/stdtypes.html#string-formatting-operations).\n",
    "\n",
    "Poglejmo si primere:"
   ]
  },
  {
   "cell_type": "code",
   "execution_count": 4,
   "metadata": {},
   "outputs": [
    {
     "name": "stdout",
     "output_type": "stream",
     "text": [
      "pi = 3.14\n",
      "pi = 3.14\n",
      "pi = 3.14\n"
     ]
    }
   ],
   "source": [
    "a = 3.14\n",
    "print(f'pi = {a}')                # f-niz\n",
    "print('pi = {a}'.format(a = a))   # .format\n",
    "print('pi = %(a)3.2f' % {'a': a}) # % "
   ]
  },
  {
   "cell_type": "markdown",
   "metadata": {
    "slideshow": {
     "slide_type": "subslide"
    }
   },
   "source": [
    "*f-niz* je implementiran od Python verzije 3.6 naprej ([PEP 498](https://www.python.org/dev/peps/pep-0498/)) in predstavlja najbolj enostaven način oblikovanja. Ostala načina navajamo zgolj zato, da se bralec seznani z njimi in da naredimo povezavo na dokumentacijo."
   ]
  },
  {
   "cell_type": "markdown",
   "metadata": {
    "slideshow": {
     "slide_type": "subslide"
    }
   },
   "source": [
    "*f-niz* se vedno začne s **f** pred prvim narekovajem in omogoča zelo splošno oblikovanje (glejte [dokumentacijo](https://docs.python.org/reference/lexical_analysis.html#f-strings)).\n",
    "\n",
    "Vrednost, ki jo želimo znotraj niza oblikovati, damo v zavite oklepaje:\n",
    "```python\n",
    "f'besedilo... {ime_arg1:fmt1} ... besedilo...'\n",
    "```"
   ]
  },
  {
   "cell_type": "markdown",
   "metadata": {
    "slideshow": {
     "slide_type": "subslide"
    }
   },
   "source": [
    "V zavitih oklepajih je:\n",
    "* pred `:` podamo ime vrednosti, ki jo želimo oblikovati\n",
    "* za `:` oblikujemo izpis spremenljivke; najpogosteje bomo uporabili *fmt* oblike:\n",
    "    * w.d**f** - predstavitev s plavajočo vejico (**f**loat)\n",
    "    * w.d**e** - predstavitev z eksponentom (**e**xponent)\n",
    "    * w.d**g** - splošni format (**g**eneral)\n",
    "    * w**s** - niz znakov (**s**tring).\n",
    "\n",
    "``w`` predstavlja (minimalno) skupno širino, ``d`` pa število mest za decimalno piko."
   ]
  },
  {
   "cell_type": "markdown",
   "metadata": {
    "slideshow": {
     "slide_type": "subslide"
    }
   },
   "source": [
    "Poglejmo si primer:"
   ]
  },
  {
   "cell_type": "code",
   "execution_count": 5,
   "metadata": {
    "slideshow": {
     "slide_type": "-"
    }
   },
   "outputs": [
    {
     "data": {
      "text/plain": [
       "'Marko je visok 1.84 m ali tudi: 1.840000e+00 m,   1.840 m.'"
      ]
     },
     "execution_count": 5,
     "metadata": {},
     "output_type": "execute_result"
    }
   ],
   "source": [
    "višina = 1.84\n",
    "ime = 'Marko'\n",
    "tekst = f'{ime} je visok {višina} m ali tudi: {višina:e} m, {višina:7.3f} m.'\n",
    "tekst"
   ]
  },
  {
   "cell_type": "markdown",
   "metadata": {
    "slideshow": {
     "slide_type": "subslide"
    }
   },
   "source": [
    "Podobno bi lahko naredili z metodo *format* in se sklicali na indeks argumenta:"
   ]
  },
  {
   "cell_type": "code",
   "execution_count": 6,
   "metadata": {
    "slideshow": {
     "slide_type": "-"
    }
   },
   "outputs": [
    {
     "data": {
      "text/plain": [
       "'Marko je visok 1.84 m ali tudi: 1.840000e+00 m,   1.840 m.'"
      ]
     },
     "execution_count": 6,
     "metadata": {},
     "output_type": "execute_result"
    }
   ],
   "source": [
    "tekst = '{1} je visok {0} m ali tudi: {0:e} m, {0:7.3f} m.'.format(višina, ime)\n",
    "tekst"
   ]
  },
  {
   "cell_type": "markdown",
   "metadata": {
    "slideshow": {
     "slide_type": "subslide"
    }
   },
   "source": [
    "Primer z uporabo slovarja:"
   ]
  },
  {
   "cell_type": "code",
   "execution_count": 7,
   "metadata": {},
   "outputs": [],
   "source": [
    "parametri = {'visina': 5., 'gostota':100.111, 'ime uporabnika': 'Janko'}"
   ]
  },
  {
   "cell_type": "code",
   "execution_count": 8,
   "metadata": {},
   "outputs": [
    {
     "data": {
      "text/plain": [
       "'višina =   5.000, gostota = 1.001e+02'"
      ]
     },
     "execution_count": 8,
     "metadata": {},
     "output_type": "execute_result"
    }
   ],
   "source": [
    "f'višina = {parametri[\"visina\"]:7.3f}, gostota = {parametri[\"gostota\"]:7.3e}'"
   ]
  },
  {
   "cell_type": "markdown",
   "metadata": {
    "slideshow": {
     "slide_type": "subslide"
    }
   },
   "source": [
    "Oblikovanje s *fmt* (angl. *Format Specification Mini-Language*) je  izredno bogato. Del za dvopičjem je v  splošnem (glejte [dokumentacijo](https://docs.python.org/library/string.html#formatspec)):\n",
    "\n",
    "```\n",
    "[[fill]align][sign][#][0][width][grouping_option][.precision][type]\n",
    "```\n",
    "\n",
    "kjer so v oglatih oklepajih opcijski parametri (vsi so opcijski):\n",
    "\n",
    "* `fill` je lahko katerikoli znak,\n",
    "* `align` označuje poravnavo, možnosti: `\"<\"` | `\">\"` | `\"=\"` | `\"^\"`,\n",
    "* `sign` označuje predznak, možnosti: `\"+\"` | `\"-\"` | `\" \"`,\n",
    "* `width` definira minimalno skupno širino,\n",
    "* `grouping_option` možnosti združevanja, možnosti:  `\"_\"` | `\",\"`\n",
    "* `precision` definira število števk po decimalnem ločilu,\n",
    "* `type` definira, kako naj bodo podatki prikazani, možnosti:  `\"b\"` | `\"c\"` | `\"d\"` | `\"e\"` | `\"E\"` | `\"f\"` | `\"F\"` | `\"g\"` | `\"G\"` | `\"n\"` | `\"\"o\"` | `\"s\"` | `\"x\"` | `\"X\"` | `\"%\"`"
   ]
  },
  {
   "cell_type": "markdown",
   "metadata": {
    "slideshow": {
     "slide_type": "subslide"
    }
   },
   "source": [
    "Besedili poravnavamo levo z `\"<\"`, desno z `\">\"` in sredinsko `\"^\"`. Primer sredinske/desne poravnave (širina 20 znakov):"
   ]
  },
  {
   "cell_type": "code",
   "execution_count": 9,
   "metadata": {},
   "outputs": [
    {
     "data": {
      "text/plain": [
       "'********1.84********'"
      ]
     },
     "execution_count": 9,
     "metadata": {},
     "output_type": "execute_result"
    }
   ],
   "source": [
    "f'{višina:*^20}' # pred ^ je znak s katerim zapolnimo levo in desno stran"
   ]
  },
  {
   "cell_type": "code",
   "execution_count": 10,
   "metadata": {},
   "outputs": [
    {
     "data": {
      "text/plain": [
       "'_________________5.0'"
      ]
     },
     "execution_count": 10,
     "metadata": {},
     "output_type": "execute_result"
    }
   ],
   "source": [
    "f'{parametri[\"visina\"]:_>20}'"
   ]
  },
  {
   "cell_type": "code",
   "execution_count": 11,
   "metadata": {
    "slideshow": {
     "slide_type": "subslide"
    }
   },
   "outputs": [
    {
     "data": {
      "text/plain": [
       "'Kompleksno število (4-2j) je sestavljeno iz realnega (4.0)in imaginarnega (-2.0) dela.'"
      ]
     },
     "execution_count": 11,
     "metadata": {},
     "output_type": "execute_result"
    }
   ],
   "source": [
    "c = 4-2j\n",
    "f'Kompleksno število {c} je sestavljeno iz realnega ({c.real})\\\n",
    "in imaginarnega ({c.imag}) dela.'"
   ]
  },
  {
   "cell_type": "markdown",
   "metadata": {
    "slideshow": {
     "slide_type": "subslide"
    }
   },
   "source": [
    "Oblikovanje datuma, ure si lahko pogledate v dodatku spodaj."
   ]
  },
  {
   "cell_type": "markdown",
   "metadata": {
    "slideshow": {
     "slide_type": "slide"
    }
   },
   "source": [
    "### Delo z datotekami"
   ]
  },
  {
   "cell_type": "markdown",
   "metadata": {},
   "source": [
    "Delo z datotekami je pomembno, saj podatke pogosto shranjujemo v datoteke ali jih beremo iz njih. Datoteko, iz katere želimo brati ali vanjo pisati, moramo najprej odpreti. To izvedemo z ukazom `open` ([dokumentacija](https://docs.python.org/library/functions.html#open)):\n",
    "```python\n",
    "open(file, mode='r', buffering=-1, encoding=None,\n",
    "    errors=None, newline=None, closefd=True, opener=None)\n",
    "```\n",
    "\n",
    "Od vseh argumentov je nujen samo `file`, ki definira pot do datoteke."
   ]
  },
  {
   "cell_type": "markdown",
   "metadata": {
    "slideshow": {
     "slide_type": "subslide"
    }
   },
   "source": [
    "Argument ``mode`` je lahko:\n",
    "\n",
    "* `'r'` za branje (*read*, privzeto),\n",
    "* `'w'` za pisanje (*write*, datoteka se najprej pobriše),\n",
    "* `'x'` za ekskluzivno pisanje; če datoteka že obstaja vrne napako,\n",
    "* `'a'` za dodajanje na koncu obstoječe datoteke (*append*),\n",
    "* `'b'` binarna oblika zapisa,\n",
    "* `'t'` tekstovna oblika zapisa (privzeto),\n",
    "* `'+'` datoteka se odpre za branje in pisanje."
   ]
  },
  {
   "cell_type": "markdown",
   "metadata": {
    "slideshow": {
     "slide_type": "subslide"
    }
   },
   "source": [
    "Zadnji trije zanki (`'b'`, `'t'`, `'+'`) se uporabljajo v kombinaciji s prvimi tremi (`'r'`, `'w'`, `'x'`). Primer: `mode='r+b'` pomeni branje in pisanje binarne datoteke.\n",
    "\n",
    "Podrobneje bomo spoznali samo branje in pisanje tekstovnih datotek.\n",
    "\n",
    "Ostali (opcijski) argumenti funkcije `open` so podrobno opisani v [dokumentaciji](https://docs.python.org/library/functions.html#open)."
   ]
  },
  {
   "cell_type": "markdown",
   "metadata": {
    "slideshow": {
     "slide_type": "subslide"
    }
   },
   "source": [
    "Privzeto je `mode='r'` (oz. `'rt'`, ker je privzet tekstovni način), kar pomeni, da se datoteko odpre za branje v tekstovni obliki. \n",
    "\n",
    "Poglejmo si najprej pisanje v (tekstovno) datoteko (`mode='w'`):"
   ]
  },
  {
   "cell_type": "code",
   "execution_count": 12,
   "metadata": {},
   "outputs": [],
   "source": [
    "datoteka = open('data/prikaz vpisa.txt', mode='w')"
   ]
  },
  {
   "cell_type": "markdown",
   "metadata": {},
   "source": [
    "`'data/prikaz vpisa.txt'` predstavlja relativno pot (glede na mesto, kjer se poganja *Jupyter notebook*) do datoteke."
   ]
  },
  {
   "cell_type": "markdown",
   "metadata": {
    "slideshow": {
     "slide_type": "subslide"
    }
   },
   "source": [
    "Zapišimo prvo vrstico s pomočjo metode `write`:"
   ]
  },
  {
   "cell_type": "code",
   "execution_count": 13,
   "metadata": {
    "slideshow": {
     "slide_type": "-"
    }
   },
   "outputs": [
    {
     "data": {
      "text/plain": [
       "18"
      ]
     },
     "execution_count": 13,
     "metadata": {},
     "output_type": "execute_result"
    }
   ],
   "source": [
    "datoteka.write('test prve vrstice\\n')"
   ]
  },
  {
   "cell_type": "markdown",
   "metadata": {},
   "source": [
    "Metoda `write` vrne število zapisanih zankov. Če boste v tem trenutku pogledali vsebino datoteke, je velika možnost, da je še prazna. Razlog je v tem, da je vsebina še v medpolnilniku, ki se izprazni na disk samo občasno ali ob zaprtju datoteke (razlog za tako delovanje je v hitrosti zapisa na disk; za podrobnosti glejte dokumentacijo argumenta `buffering` funkcije `open`)."
   ]
  },
  {
   "cell_type": "markdown",
   "metadata": {
    "slideshow": {
     "slide_type": "subslide"
    }
   },
   "source": [
    "Zapišimo drugo vrstico:"
   ]
  },
  {
   "cell_type": "code",
   "execution_count": 14,
   "metadata": {
    "slideshow": {
     "slide_type": "-"
    }
   },
   "outputs": [
    {
     "data": {
      "text/plain": [
       "14"
      ]
     },
     "execution_count": 14,
     "metadata": {},
     "output_type": "execute_result"
    }
   ],
   "source": [
    "datoteka.write('druga vrstica\\n', )"
   ]
  },
  {
   "cell_type": "markdown",
   "metadata": {
    "slideshow": {
     "slide_type": "subslide"
    }
   },
   "source": [
    "Vpišimo sedaj še nekaj številčnih vrednosti:"
   ]
  },
  {
   "cell_type": "code",
   "execution_count": 15,
   "metadata": {
    "slideshow": {
     "slide_type": "-"
    }
   },
   "outputs": [],
   "source": [
    "for d in range(5):\n",
    "    datoteka.write(f'{d:7.2e}\\t {d:9.4e}\\n')"
   ]
  },
  {
   "cell_type": "markdown",
   "metadata": {},
   "source": [
    "Datoteko zapremo:"
   ]
  },
  {
   "cell_type": "code",
   "execution_count": 16,
   "metadata": {
    "slideshow": {
     "slide_type": "-"
    }
   },
   "outputs": [],
   "source": [
    "datoteka.close()"
   ]
  },
  {
   "cell_type": "markdown",
   "metadata": {
    "slideshow": {
     "slide_type": "subslide"
    }
   },
   "source": [
    "Sedaj datoteko odpremo za branje in pisanje? `mode='r+'`:"
   ]
  },
  {
   "cell_type": "code",
   "execution_count": 17,
   "metadata": {
    "slideshow": {
     "slide_type": "-"
    }
   },
   "outputs": [],
   "source": [
    "datoteka = open('data/prikaz vpisa.txt', mode='r+')"
   ]
  },
  {
   "cell_type": "markdown",
   "metadata": {
    "slideshow": {
     "slide_type": "subslide"
    }
   },
   "source": [
    "Preverimo vse vrstice s `for` zanko; v spodnji kodi nam `datoteka` v vsakem klicu vrne eno vrstico:"
   ]
  },
  {
   "cell_type": "code",
   "execution_count": 18,
   "metadata": {
    "slideshow": {
     "slide_type": "-"
    }
   },
   "outputs": [
    {
     "name": "stdout",
     "output_type": "stream",
     "text": [
      "test prve vrstice\n",
      "druga vrstica\n",
      "0.00e+00\t 0.0000e+00\n",
      "1.00e+00\t 1.0000e+00\n",
      "2.00e+00\t 2.0000e+00\n",
      "3.00e+00\t 3.0000e+00\n",
      "4.00e+00\t 4.0000e+00\n"
     ]
    }
   ],
   "source": [
    "for line in datoteka:\n",
    "    print(line, end='')"
   ]
  },
  {
   "cell_type": "markdown",
   "metadata": {
    "slideshow": {
     "slide_type": "subslide"
    }
   },
   "source": [
    "Pri uvodu v funkcijo `print` smo omenili argument `file`, ki definira datoteko, v katero se piše (privzet je standardni izhod oz. *zaslon*). Če kot argument `file` posredujemo datoteko, ki je odprta za pisanje:"
   ]
  },
  {
   "cell_type": "code",
   "execution_count": 19,
   "metadata": {
    "slideshow": {
     "slide_type": "-"
    }
   },
   "outputs": [],
   "source": [
    "print('konec', file=datoteka)\n",
    "datoteka.close()"
   ]
  },
  {
   "cell_type": "markdown",
   "metadata": {},
   "source": [
    "se vsebina zapiše v datoteko. Rezultat lahko preverite v datoteki!"
   ]
  },
  {
   "cell_type": "markdown",
   "metadata": {
    "slideshow": {
     "slide_type": "subslide"
    }
   },
   "source": [
    "Tukaj je lepa priložnost, da spoznamo stavek `with` ([dokumentacija](https://docs.python.org/reference/compound_stmts.html#with)). Celovitost stavka `with` presega namen tega predmeta, je pa zelo preprosta uporaba pri delu z datotekami, zato si poglejmo primer:"
   ]
  },
  {
   "cell_type": "code",
   "execution_count": 20,
   "metadata": {},
   "outputs": [
    {
     "name": "stdout",
     "output_type": "stream",
     "text": [
      "test prve vrstice\n",
      "druga vrstica\n",
      "0.00e+00\t 0.0000e+00\n",
      "1.00e+00\t 1.0000e+00\n",
      "2.00e+00\t 2.0000e+00\n",
      "3.00e+00\t 3.0000e+00\n",
      "4.00e+00\t 4.0000e+00\n",
      "konec\n"
     ]
    }
   ],
   "source": [
    "with open('data/prikaz vpisa.txt') as datoteka:\n",
    "    for line in datoteka:\n",
    "        print(line, end='')"
   ]
  },
  {
   "cell_type": "markdown",
   "metadata": {
    "slideshow": {
     "slide_type": "subslide"
    }
   },
   "source": [
    "Stavek `with` rezultat funkcije `open` shrani v (*as*) ime `datoteka`, potem pa za vsako vrstico izpišemo vrednosti. Pri izhodu iz stavka `with` se samodejno pokliče metoda `datoteka.close()`. Stavek `with` nam torej omogoča pisanje pregledne in kompaktne kode."
   ]
  },
  {
   "cell_type": "markdown",
   "metadata": {},
   "source": [
    "### Funkcije v splošnem"
   ]
  },
  {
   "cell_type": "markdown",
   "metadata": {},
   "source": [
    "V Pythonu je veliko funkcij že vgrajenih (glejte [dokumentacijo](https://docs.python.org/library/functions.html)); funkcije pa lahko tudi napišemo sami ali jih uvozimo iz t. i. modulov (zgoraj smo uvozili `datetime`, več si bomo pogledali pozneje)."
   ]
  },
  {
   "cell_type": "markdown",
   "metadata": {
    "slideshow": {
     "slide_type": "subslide"
    }
   },
   "source": [
    "Generični primer funkcije je ([dokumentacija](https://docs.python.org/tutorial/controlflow.html#defining-functions)):\n",
    "```python\n",
    "def ime_funkcije(parametri):\n",
    "    '''docstring'''\n",
    "    [koda]\n",
    "    return vsebina\n",
    "```"
   ]
  },
  {
   "cell_type": "markdown",
   "metadata": {
    "slideshow": {
     "slide_type": "subslide"
    }
   },
   "source": [
    "Pri tem izpostavimo:\n",
    "* `def` označuje definicijo funkcije,\n",
    "* `ime_funkcije` **imena funkcije po PEP8 pišemo z malo, večbesedna povežemo s podčrtajem**,\n",
    "* `parametri` parametri funkcije, več bomo povedali spodaj,\n",
    "* `docstring` (opcijsko) dokumentacija funkcije,\n",
    "* `[koda]` koda funkcije,\n",
    "* `return` (opcijsko) ukaz za izhod iz funkcije, kar sledi se vrne kot rezultat (če ni `return` ali po return ni ničesar, se vrne `None`)"
   ]
  },
  {
   "cell_type": "markdown",
   "metadata": {
    "slideshow": {
     "slide_type": "subslide"
    }
   },
   "source": [
    "Primer preproste funkcije:"
   ]
  },
  {
   "cell_type": "code",
   "execution_count": 21,
   "metadata": {},
   "outputs": [],
   "source": [
    "def površina(dolžina, širina):\n",
    "    S = dolžina * širina\n",
    "    return S"
   ]
  },
  {
   "cell_type": "code",
   "execution_count": 22,
   "metadata": {},
   "outputs": [
    {
     "data": {
      "text/plain": [
       "20"
      ]
     },
     "execution_count": 22,
     "metadata": {},
     "output_type": "execute_result"
    }
   ],
   "source": [
    "površina(1, 20)"
   ]
  },
  {
   "cell_type": "markdown",
   "metadata": {
    "slideshow": {
     "slide_type": "subslide"
    }
   },
   "source": [
    "### Posredovanje argumentov v funkcije"
   ]
  },
  {
   "cell_type": "markdown",
   "metadata": {},
   "source": [
    "Python pozna dva načina posredovanja argumentov:\n",
    "* glede na **mesto** (*positional*)\n",
    "* glede na **ime**."
   ]
  },
  {
   "cell_type": "markdown",
   "metadata": {
    "slideshow": {
     "slide_type": "subslide"
    }
   },
   "source": [
    "Poglejmo si oba načina na primeru:"
   ]
  },
  {
   "cell_type": "code",
   "execution_count": 23,
   "metadata": {},
   "outputs": [
    {
     "data": {
      "text/plain": [
       "18"
      ]
     },
     "execution_count": 23,
     "metadata": {},
     "output_type": "execute_result"
    }
   ],
   "source": [
    "površina(3, 6) # pozicijsko"
   ]
  },
  {
   "cell_type": "code",
   "execution_count": 24,
   "metadata": {},
   "outputs": [
    {
     "data": {
      "text/plain": [
       "18"
      ]
     },
     "execution_count": 24,
     "metadata": {},
     "output_type": "execute_result"
    }
   ],
   "source": [
    "površina(širina = 3, dolžina = 6) # glede na ime"
   ]
  },
  {
   "cell_type": "markdown",
   "metadata": {},
   "source": [
    "Priporočeno je, da argumente posredujemo z *imenom*; s tem zmanjšamo možnost napake!"
   ]
  },
  {
   "cell_type": "markdown",
   "metadata": {
    "slideshow": {
     "slide_type": "subslide"
    }
   },
   "source": [
    "Če ne podamo imena, potem se privzame ime glede na vrstni red argumentov; primer:"
   ]
  },
  {
   "cell_type": "code",
   "execution_count": 25,
   "metadata": {},
   "outputs": [
    {
     "data": {
      "text/plain": [
       "12"
      ]
     },
     "execution_count": 25,
     "metadata": {},
     "output_type": "execute_result"
    }
   ],
   "source": [
    "površina(3, širina=4)"
   ]
  },
  {
   "cell_type": "markdown",
   "metadata": {},
   "source": [
    "V kolikor mešamo *pozicijsko* in *poimensko* posredovanje argumentov, morajo **najprej biti navedeni pozicijski argumenti, šele nato poimenski**. Pri tem poimenski ne sme ponovno definirati pozicijskega; ker je `dolžina` prvi argument, bi klicanje take kode:\n",
    "```python\n",
    "površina(3, dolžina=4)\n",
    "```\n",
    "povzročilo napako."
   ]
  },
  {
   "cell_type": "markdown",
   "metadata": {
    "slideshow": {
     "slide_type": "subslide"
    }
   },
   "source": [
    "#### Primer dobre prakse pri definiranju argumentov\n",
    "\n",
    "Pogosto funkcije dopolnjujemo in dodajamo nove argumente ali pa število argumentov funkciji sploh ne moremo vnaprej definirati!\n",
    "\n",
    "Python s tem nima težav. Argumente, ki niso eksplicitno definirani obvladamo z:\n",
    "\n",
    "* `*[ime0]` terka `[ime0]` vsebuje vse **pozicijske argumente**, ki niso eksplicitno definirani,\n",
    "* `**[ime1]` slovar `[ime1]` vsebuje vse **poimenske argumente**, ki niso eksplicitno definirani."
   ]
  },
  {
   "cell_type": "markdown",
   "metadata": {
    "slideshow": {
     "slide_type": "subslide"
    }
   },
   "source": [
    "Poglejmo primer:"
   ]
  },
  {
   "cell_type": "code",
   "execution_count": 26,
   "metadata": {},
   "outputs": [],
   "source": [
    "def neka_funkcija(student, izpit = True):\n",
    "    ''' Prva verzija funkcije'''\n",
    "    print(f'Študent {student} se je prijavil na izpit: {izpit}.')"
   ]
  },
  {
   "cell_type": "code",
   "execution_count": 27,
   "metadata": {},
   "outputs": [
    {
     "name": "stdout",
     "output_type": "stream",
     "text": [
      "Študent Janez se je prijavil na izpit: True.\n"
     ]
    }
   ],
   "source": [
    "neka_funkcija('Janez', izpit=True)"
   ]
  },
  {
   "cell_type": "markdown",
   "metadata": {},
   "source": [
    "Sedaj pa pripravimo drugo, nadgrajeno, verzijo (omogoča enako uporabo kot prva verzija):"
   ]
  },
  {
   "cell_type": "code",
   "execution_count": 28,
   "metadata": {
    "slideshow": {
     "slide_type": "subslide"
    }
   },
   "outputs": [],
   "source": [
    "def neka_funkcija(*terka, **slovar):\n",
    "    ''' Druga verzija funkcije '''\n",
    "    student = terka[0]\n",
    "    izpit = slovar.get('izpit', True) # True je privzeta vrednost\n",
    "    izpisi_sliko = slovar.get('izpisi_sliko', False) # False je privzeta vrednost\n",
    "    \n",
    "    print(f'Študent {student} se je prijavil na izpit: {izpit}.')\n",
    "    if izpisi_sliko:\n",
    "        print('slika:)')"
   ]
  },
  {
   "cell_type": "code",
   "execution_count": 29,
   "metadata": {},
   "outputs": [
    {
     "name": "stdout",
     "output_type": "stream",
     "text": [
      "Študent Janez se je prijavil na izpit: True.\n"
     ]
    }
   ],
   "source": [
    "neka_funkcija('Janez', izpit=True)"
   ]
  },
  {
   "cell_type": "code",
   "execution_count": 30,
   "metadata": {},
   "outputs": [
    {
     "name": "stdout",
     "output_type": "stream",
     "text": [
      "Študent Janez se je prijavil na izpit: True.\n",
      "slika:)\n"
     ]
    }
   ],
   "source": [
    "neka_funkcija('Janez', izpit=True, izpisi_sliko=True, neobstoječi_argument='ni')"
   ]
  },
  {
   "cell_type": "markdown",
   "metadata": {
    "slideshow": {
     "slide_type": "subslide"
    }
   },
   "source": [
    "#### Posredovanje funkcij kot argument\n",
    "\n",
    "Tukaj bi želeli izpostaviti, da so argumenti lahko tudi druge funkcije.\n",
    "\n",
    "Poglejmo si primer:"
   ]
  },
  {
   "cell_type": "code",
   "execution_count": 31,
   "metadata": {},
   "outputs": [],
   "source": [
    "def oblika_a(vrednost):\n",
    "    return f'Prikaz vrednosti: {vrednost}'\n",
    "\n",
    "def oblika_b(vrednost):\n",
    "    return f'Prikaz vrednosti: {vrednost:3.2f}'\n",
    "\n",
    "def izpis(oblika, vrednost):\n",
    "    print(oblika(vrednost))"
   ]
  },
  {
   "cell_type": "markdown",
   "metadata": {
    "slideshow": {
     "slide_type": "subslide"
    }
   },
   "source": [
    "Imamo torej dve funkciji `oblika_a` in `oblika_b`, ki malenkost drugače oblikujeta numerično vrednost.\n",
    "\n",
    "Poglejmo uporabo:"
   ]
  },
  {
   "cell_type": "code",
   "execution_count": 32,
   "metadata": {},
   "outputs": [
    {
     "name": "stdout",
     "output_type": "stream",
     "text": [
      "Prikaz vrednosti: 3\n"
     ]
    }
   ],
   "source": [
    "izpis(oblika_a, 3)"
   ]
  },
  {
   "cell_type": "code",
   "execution_count": 33,
   "metadata": {},
   "outputs": [
    {
     "name": "stdout",
     "output_type": "stream",
     "text": [
      "Prikaz vrednosti: 3.00\n"
     ]
    }
   ],
   "source": [
    "izpis(oblika_b, 3)"
   ]
  },
  {
   "cell_type": "markdown",
   "metadata": {
    "slideshow": {
     "slide_type": "subslide"
    }
   },
   "source": [
    "### Docstring funkcije"
   ]
  },
  {
   "cell_type": "markdown",
   "metadata": {
    "slideshow": {
     "slide_type": "subslide"
    }
   },
   "source": [
    "*docstring* je neobvezen del definicije funkcije, ki dokumentira funkcijo in njeno uporabo. Iz tega stališča je zelo priporočeno, da ga uporabimo. \n",
    "\n",
    "[Dokumentacija](https://docs.python.org/tutorial/controlflow.html#documentation-strings) za docstring navaja bistvene elemente:\n",
    "\n",
    "* prva vrstica naj bo kratek povzetek funkcije,\n",
    "* če je vrstic več, naj bo druga prazna (da se vizualno loči prvo vrstico od preostalega teksta),\n",
    "* uporabimo tri narekovaje (dvojne \" ali enojne '), ki označujejo večvrstični niz črk."
   ]
  },
  {
   "cell_type": "markdown",
   "metadata": {
    "slideshow": {
     "slide_type": "subslide"
    }
   },
   "source": [
    "Primer dokumentirane funkcije:"
   ]
  },
  {
   "cell_type": "code",
   "execution_count": 34,
   "metadata": {},
   "outputs": [],
   "source": [
    "def površina(dolžina = 1, širina = 10):\n",
    "    \"\"\" Izračun površine pravokotnika\n",
    "    \n",
    "    Funkcija vrne vrednost površine.\n",
    "    \n",
    "    Argumenti:\n",
    "    dolžina: dolžina pravokotnika\n",
    "    širina: dolžina pravokotnika\n",
    "    \"\"\"\n",
    "    return dolžina * širina"
   ]
  },
  {
   "cell_type": "markdown",
   "metadata": {
    "slideshow": {
     "slide_type": "subslide"
    }
   },
   "source": [
    "Primer klica s privzetimi argumenti (med klicem funkcije lahko s pritiskom [shift]+[tab] dostopamo do pomoči):"
   ]
  },
  {
   "cell_type": "code",
   "execution_count": 35,
   "metadata": {},
   "outputs": [
    {
     "data": {
      "text/plain": [
       "10"
      ]
     },
     "execution_count": 35,
     "metadata": {},
     "output_type": "execute_result"
    }
   ],
   "source": [
    "površina()"
   ]
  },
  {
   "cell_type": "markdown",
   "metadata": {
    "slideshow": {
     "slide_type": "subslide"
    }
   },
   "source": [
    "### Lokalna/globalna imena\n",
    "\n",
    "Preprosto vodilo pri funkcijah je: **funkcija vidi ven, drugi pa ne vidijo noter**. Funkcija ima notranja imena, ki se ne prekrivajo z istimi imeni v drugih funkcijah.\n",
    "\n",
    "Poglejmo si primer:"
   ]
  },
  {
   "cell_type": "code",
   "execution_count": 36,
   "metadata": {},
   "outputs": [],
   "source": [
    "zunanja = 3\n",
    "def prva():\n",
    "    notranja = 5\n",
    "    print(f'Tole je zunanja vrednost: {zunanja}, tole pa notranja: {notranja}')"
   ]
  },
  {
   "cell_type": "code",
   "execution_count": 37,
   "metadata": {},
   "outputs": [
    {
     "name": "stdout",
     "output_type": "stream",
     "text": [
      "Tole je zunanja vrednost: 3, tole pa notranja: 5\n"
     ]
    }
   ],
   "source": [
    "prva()"
   ]
  },
  {
   "cell_type": "markdown",
   "metadata": {
    "slideshow": {
     "slide_type": "subslide"
    }
   },
   "source": [
    "Ker ime `notranja` zunaj funkcije `prva` ni definirano, bi klicanje:\n",
    "```python\n",
    "notranja\n",
    "```\n",
    "zunaj funkcije vrnilo napako (v funkcijo ne vidimo)."
   ]
  },
  {
   "cell_type": "markdown",
   "metadata": {
    "slideshow": {
     "slide_type": "subslide"
    }
   },
   "source": [
    "Tukaj velja omeniti, da je **posredovanje zunanjih imen v funkcijo mimo argumentov funkcije odsvetovano**."
   ]
  },
  {
   "cell_type": "markdown",
   "metadata": {
    "slideshow": {
     "slide_type": "subslide"
    }
   },
   "source": [
    "### `return`\n",
    "\n",
    "Ukaz `return` vrne vrednosti iz funkcije. Doslej smo spoznali rezultate v obliki ene spremenljivke; ta spremenljivka pa je lahko tudi terka.\n",
    "\n",
    "Poglejmo si primer:"
   ]
  },
  {
   "cell_type": "code",
   "execution_count": 38,
   "metadata": {},
   "outputs": [],
   "source": [
    "def vrnem_terko():\n",
    "    return 1, 2, 3 # to je ekvivalenten zapis za terko: (1, 2, 3)"
   ]
  },
  {
   "cell_type": "code",
   "execution_count": 39,
   "metadata": {},
   "outputs": [
    {
     "data": {
      "text/plain": [
       "(1, 2, 3)"
      ]
     },
     "execution_count": 39,
     "metadata": {},
     "output_type": "execute_result"
    }
   ],
   "source": [
    "vrnem_terko()"
   ]
  },
  {
   "cell_type": "markdown",
   "metadata": {
    "slideshow": {
     "slide_type": "subslide"
    }
   },
   "source": [
    "Rezultat funkcije lahko ujamemo tako:"
   ]
  },
  {
   "cell_type": "code",
   "execution_count": 40,
   "metadata": {},
   "outputs": [
    {
     "data": {
      "text/plain": [
       "(1, 2, 3)"
      ]
     },
     "execution_count": 40,
     "metadata": {},
     "output_type": "execute_result"
    }
   ],
   "source": [
    "rezultat = vrnem_terko()\n",
    "rezultat"
   ]
  },
  {
   "cell_type": "markdown",
   "metadata": {},
   "source": [
    "Ali tako, da vrednosti razpakiramo (to sicer velja v splošnem za terke):"
   ]
  },
  {
   "cell_type": "code",
   "execution_count": 41,
   "metadata": {},
   "outputs": [
    {
     "data": {
      "text/plain": [
       "1"
      ]
     },
     "execution_count": 41,
     "metadata": {},
     "output_type": "execute_result"
    }
   ],
   "source": [
    "i1, i2, i3 = vrnem_terko()\n",
    "i1 # izpis samo ene vrednosti"
   ]
  },
  {
   "cell_type": "markdown",
   "metadata": {
    "slideshow": {
     "slide_type": "subslide"
    }
   },
   "source": [
    "### Anonimna funkcija/izraz"
   ]
  },
  {
   "cell_type": "markdown",
   "metadata": {},
   "source": [
    "Anonimna funkcija (glejte [dokumentacijo](https://docs.python.org/tutorial/controlflow.html#lambda-expressions)) je funkcija, kateri ne damo imena (zato je *anonimna*), ampak jo definiramo z ukazom `lambda`. Tipična uporaba je:\n",
    "\n",
    "```python\n",
    "lambda [seznam parametrov]: izraz\n",
    "```"
   ]
  },
  {
   "cell_type": "markdown",
   "metadata": {
    "slideshow": {
     "slide_type": "subslide"
    }
   },
   "source": [
    "`lambda` funkcijo si bomo pogledali na primeru razvrščanja:"
   ]
  },
  {
   "cell_type": "code",
   "execution_count": 42,
   "metadata": {},
   "outputs": [],
   "source": [
    "seznam = [-4, 3, -8, 6]"
   ]
  },
  {
   "cell_type": "markdown",
   "metadata": {
    "slideshow": {
     "slide_type": "subslide"
    }
   },
   "source": [
    "od najmanjše do največje vrednosti. To lahko izvedemo z vgrajeno metodo `sort` ([dokumentacija](https://docs.python.org/3/library/stdtypes.html#list.sort)):\n",
    "\n",
    "```python\n",
    "sort(*, key=None, reverse=False)\n",
    "```\n",
    "\n",
    "Metoda ima dva opcijska argumenta:\n",
    "\n",
    "* `key` ključ, po katerem razvrstimo elemente\n",
    "* `reverse`, če je `False`, se med vrednostmi ključa uporabi `<` sicer `>`."
   ]
  },
  {
   "cell_type": "markdown",
   "metadata": {
    "slideshow": {
     "slide_type": "subslide"
    }
   },
   "source": [
    "Opomba: `list.sort()` izvede razvrščanje na obstoječem seznamu in ne vrne seznama. Funkcija `sorted()` (glejte [dokumentacijo](https://docs.python.org/3/library/functions.html#sorted)) pa vrne seznam urejenih vrednosti.\n",
    "\n",
    "Poglejmo primer:"
   ]
  },
  {
   "cell_type": "code",
   "execution_count": 43,
   "metadata": {},
   "outputs": [
    {
     "data": {
      "text/plain": [
       "[-8, -4, 3, 6]"
      ]
     },
     "execution_count": 43,
     "metadata": {},
     "output_type": "execute_result"
    }
   ],
   "source": [
    "seznam = [-4, 3, -8, 6]\n",
    "seznam.sort()\n",
    "seznam"
   ]
  },
  {
   "cell_type": "markdown",
   "metadata": {
    "slideshow": {
     "slide_type": "subslide"
    }
   },
   "source": [
    "Sedaj uporabimo ključ, kjer se bo za primerjavo vrednosti razvrščanja uporabila kvadratna vrednost:"
   ]
  },
  {
   "cell_type": "code",
   "execution_count": 44,
   "metadata": {},
   "outputs": [
    {
     "data": {
      "text/plain": [
       "[3, -4, 6, -8]"
      ]
     },
     "execution_count": 44,
     "metadata": {},
     "output_type": "execute_result"
    }
   ],
   "source": [
    "seznam.sort(key = lambda a: a**2)\n",
    "seznam"
   ]
  },
  {
   "cell_type": "markdown",
   "metadata": {
    "slideshow": {
     "slide_type": "slide"
    }
   },
   "source": [
    "## Obravnavanje izjem"
   ]
  },
  {
   "cell_type": "markdown",
   "metadata": {},
   "source": [
    "Pri programiranju se relativno pogosto pojavijo izjeme; na primer: deljenje z nič. \n",
    "```python\n",
    "1/0\n",
    "\n",
    "---------------------------------------------------------------------------\n",
    "ZeroDivisionError                         Traceback (most recent call last)\n",
    "<ipython-input-50-05c9758a9c21> in <module>()\n",
    "----> 1 1/0\n",
    "\n",
    "ZeroDivisionError: division by zero\n",
    "```"
   ]
  },
  {
   "cell_type": "markdown",
   "metadata": {
    "slideshow": {
     "slide_type": "subslide"
    }
   },
   "source": [
    "V primeru izjeme Python opozori na to in prekine izvajanje. Ni dobro, da se program prekine ali zruši; iz tega razloga bi zgornjo situacijo programer začetnik verjetno reševal s stavkom `if`. Takšen pristop pa ni preveč uporaben niti splošen in zato je v večini modernih programskih jezikih uveljavljeno obravnavanje izjem."
   ]
  },
  {
   "cell_type": "markdown",
   "metadata": {
    "slideshow": {
     "slide_type": "subslide"
    }
   },
   "source": [
    "Pogledali si bomo nekatere osnove, ki bodo študentom predvsem olajšale branje in razumevanje kod drugih avtorjev."
   ]
  },
  {
   "cell_type": "markdown",
   "metadata": {
    "slideshow": {
     "slide_type": "subslide"
    }
   },
   "source": [
    "Izjeme obvladujemo s stavkom `try`:\n",
    "```python\n",
    "try:\n",
    "    [koda0]\n",
    "except:\n",
    "    [koda1]\n",
    "finally:\n",
    "    [koda2]\n",
    "```"
   ]
  },
  {
   "cell_type": "markdown",
   "metadata": {
    "slideshow": {
     "slide_type": "subslide"
    }
   },
   "source": [
    "V stavki `try` se `except` izvede, če se v kodi `[koda0]` pojavi izjema, `finally` je opcijski in  se izvede v vsakem primeru ob izhodu iz stavka `try`. "
   ]
  },
  {
   "cell_type": "markdown",
   "metadata": {
    "slideshow": {
     "slide_type": "subslide"
    }
   },
   "source": [
    "Poglejmo primer, ko enostavno nadaljujemo z izvajanjem:"
   ]
  },
  {
   "cell_type": "code",
   "execution_count": 45,
   "metadata": {},
   "outputs": [],
   "source": [
    "try:\n",
    "    1/0\n",
    "except:\n",
    "    pass"
   ]
  },
  {
   "cell_type": "markdown",
   "metadata": {},
   "source": [
    "Ukaz `pass` uporabimo, ko sintaksa zahteva stavek (kodo) za izvajanje, vendar ne želimo nobenega ukrepa (glejte [dokumentacijo](https://docs.python.org/tutorial/controlflow.html#pass-statements))."
   ]
  },
  {
   "cell_type": "markdown",
   "metadata": {
    "slideshow": {
     "slide_type": "subslide"
    }
   },
   "source": [
    "S pomočjo `except` lahko lovimo tudi različne izjeme, to naredimo tako:"
   ]
  },
  {
   "cell_type": "code",
   "execution_count": 46,
   "metadata": {},
   "outputs": [
    {
     "name": "stdout",
     "output_type": "stream",
     "text": [
      "Deljenje z ničlo!\n"
     ]
    }
   ],
   "source": [
    "try:\n",
    "    1/0 \n",
    "except ZeroDivisionError:\n",
    "    print('Deljenje z ničlo!') # ali kakšna druga akcija\n",
    "except:\n",
    "    print('Nepričakovana napaka.') # odsvetovano; dobro je predvideti napako!"
   ]
  },
  {
   "cell_type": "markdown",
   "metadata": {
    "slideshow": {
     "slide_type": "subslide"
    }
   },
   "source": [
    "Sedaj uporabimo isto kodo za primer deljenja števila z nizom:"
   ]
  },
  {
   "cell_type": "code",
   "execution_count": 47,
   "metadata": {},
   "outputs": [
    {
     "name": "stdout",
     "output_type": "stream",
     "text": [
      "Nepričakovana napaka.\n"
     ]
    }
   ],
   "source": [
    "try:\n",
    "    1/'to pa ne gre'\n",
    "except ZeroDivisionError:\n",
    "    print('Deljenje z ničlo!') # ali kakšna druga akcija\n",
    "except:\n",
    "    print('Nepričakovana napaka.') # odsvetovano; dobro je predvideti napako!"
   ]
  },
  {
   "cell_type": "markdown",
   "metadata": {
    "slideshow": {
     "slide_type": "subslide"
    }
   },
   "source": [
    "### Proženje izjem\n",
    "\n",
    "Izjeme pa lahko tudi sami prožimo; to naredimo z ukazom `raise` ([dokumentacija](https://docs.python.org/tutorial/errors.html#raising-exceptions)). \n",
    "\n",
    "Primer proženja napake je:\n",
    "```python\n",
    "raise Exception('Opis izjeme')\n",
    "```"
   ]
  },
  {
   "cell_type": "markdown",
   "metadata": {
    "slideshow": {
     "slide_type": "subslide"
    }
   },
   "source": [
    "preprost, vendar celovit, primer, ko bi pričakovali, da je `ime_osebe` tipa `str`:"
   ]
  },
  {
   "cell_type": "code",
   "execution_count": 48,
   "metadata": {},
   "outputs": [
    {
     "name": "stdout",
     "output_type": "stream",
     "text": [
      "Ime ni pričakovanega tipa `str`.\n"
     ]
    }
   ],
   "source": [
    "ime_osebe = 1\n",
    "try:\n",
    "    if type(ime_osebe) != str:\n",
    "        raise Exception(f'Ime ni pričakovanega tipa `str`.')\n",
    "except Exception as izjema:\n",
    "    print(izjema)"
   ]
  },
  {
   "cell_type": "markdown",
   "metadata": {
    "slideshow": {
     "slide_type": "slide"
    }
   },
   "source": [
    "## Osnove modulov"
   ]
  },
  {
   "cell_type": "markdown",
   "metadata": {},
   "source": [
    "Z moduli lahko na enostaven način uporabimo že napisano kodo. Preprosto povedano, moduli nam v Pythonu omogočajo relativno enostavno ohranjanje preglednosti in reda. Ponavadi v modul zapakiramo neko zaključeno funkcijo, skupino funkcij ali npr. objekt (pozneje bomo spoznali, kaj je objekt).\n",
    "\n",
    "Za podroben opis uvažanja modulov glejte [dokumentacijo](https://docs.python.org/reference/import.html#the-import-system)."
   ]
  },
  {
   "cell_type": "markdown",
   "metadata": {
    "slideshow": {
     "slide_type": "subslide"
    }
   },
   "source": [
    "V mapi `moduli` se nahaja datoteka `prvi_modul.py`, ki ima sledečo vsebino:\n",
    "```python\n",
    "def kvadrat(x=1):\n",
    "    return x**2\n",
    "```"
   ]
  },
  {
   "cell_type": "markdown",
   "metadata": {
    "slideshow": {
     "slide_type": "subslide"
    }
   },
   "source": [
    "**Pomembno**: pogosto module hierarhično razporejamo po direktorijih. **Samo** če je v določenem direktoriju datoteka (lahko tudi prazna) **\\_\\_init\\_\\_.py**, potem se tak direktorij obnaša kot modul. V zgornjem primeru taka datoteka obstaja in posledično se mapa `moduli` obnaša kot *modul*, v tem modulu je pa *podmodul* `prvi_modul` (datoteka pa je `prvi_modul.py`)."
   ]
  },
  {
   "cell_type": "markdown",
   "metadata": {
    "slideshow": {
     "slide_type": "subslide"
    }
   },
   "source": [
    "Module tipično uvažamo na dva načina:\n",
    "\n",
    "**Prvi način**:\n",
    "```python\n",
    "from moduli import prvi_modul\n",
    "```\n",
    "*v tem primeru uvozimo imenski prostor `prvi_modul`*; to pomeni, da funkcijo v `kvadrat()` kličemo tako: `prvi_modul.kvadrat()`.\n",
    "\n",
    "**Drugi način uvažanja modula**:\n",
    "```python\n",
    "import moduli\n",
    "```\n",
    "Uvozimo *imenski prostor `moduli`*; to pomeni, da funkcijo `kvadrat()` kličemo tako: `moduli.prvi_modul.kvadrat()`.\n"
   ]
  },
  {
   "cell_type": "markdown",
   "metadata": {
    "slideshow": {
     "slide_type": "subslide"
    }
   },
   "source": [
    "V kolikor želimo uvoziti funkcije v modulu `prvi_modul`, to naredimo tako:"
   ]
  },
  {
   "cell_type": "code",
   "execution_count": 49,
   "metadata": {},
   "outputs": [],
   "source": [
    "from moduli import prvi_modul"
   ]
  },
  {
   "cell_type": "markdown",
   "metadata": {
    "slideshow": {
     "slide_type": "subslide"
    }
   },
   "source": [
    "Sedaj lahko funkcijo `kvadrat` kličemo tako:"
   ]
  },
  {
   "cell_type": "code",
   "execution_count": 50,
   "metadata": {},
   "outputs": [
    {
     "data": {
      "text/plain": [
       "25"
      ]
     },
     "execution_count": 50,
     "metadata": {},
     "output_type": "execute_result"
    }
   ],
   "source": [
    "prvi_modul.kvadrat(5)"
   ]
  },
  {
   "cell_type": "markdown",
   "metadata": {
    "slideshow": {
     "slide_type": "subslide"
    }
   },
   "source": [
    "Z ukazom `from` lahko uvozimo samo del modula. Primer:"
   ]
  },
  {
   "cell_type": "code",
   "execution_count": 51,
   "metadata": {},
   "outputs": [],
   "source": [
    "from moduli.prvi_modul import kvadrat"
   ]
  },
  {
   "cell_type": "markdown",
   "metadata": {},
   "source": [
    "Sedaj kličemo neposredno funkcijo `kvadrat`:"
   ]
  },
  {
   "cell_type": "code",
   "execution_count": 52,
   "metadata": {},
   "outputs": [
    {
     "data": {
      "text/plain": [
       "36"
      ]
     },
     "execution_count": 52,
     "metadata": {},
     "output_type": "execute_result"
    }
   ],
   "source": [
    "kvadrat(6)"
   ]
  },
  {
   "cell_type": "markdown",
   "metadata": {
    "slideshow": {
     "slide_type": "subslide"
    }
   },
   "source": [
    "Funkcije ali module lahko tudi preimenujemo. Primer:"
   ]
  },
  {
   "cell_type": "code",
   "execution_count": 53,
   "metadata": {},
   "outputs": [
    {
     "data": {
      "text/plain": [
       "49"
      ]
     },
     "execution_count": 53,
     "metadata": {},
     "output_type": "execute_result"
    }
   ],
   "source": [
    "from moduli.prvi_modul import kvadrat as sqr\n",
    "sqr(7)"
   ]
  },
  {
   "cell_type": "markdown",
   "metadata": {
    "slideshow": {
     "slide_type": "subslide"
    }
   },
   "source": [
    "**Kje Python išče module?**\n",
    "\n",
    "1. V trenutni mapi (to je tista, v kateri ste prožili `jupyter notebook`),\n",
    "* v mapah, definiranih v `PYTHONPATH`,\n",
    "* v mapah, kjer je nameščen Python (poddirektorij `site-packages`)."
   ]
  },
  {
   "cell_type": "markdown",
   "metadata": {
    "slideshow": {
     "slide_type": "subslide"
    }
   },
   "source": [
    "### Uvoz modulov in Jupyter notebook\n",
    "\n",
    "V tej knjigi bomo, zaradi pedagoških razlogov, module vedno uvažali takrat, ko jih bomo prvič potrebovali. **Pravila dobre prakse in pregledne kode priporočajo, da se uvoze vseh modulov izvede na vrhu Jupyter notebooka!**"
   ]
  },
  {
   "cell_type": "markdown",
   "metadata": {
    "slideshow": {
     "slide_type": "subslide"
    }
   },
   "source": [
    "### Modul ``pickle``"
   ]
  },
  {
   "cell_type": "markdown",
   "metadata": {},
   "source": [
    "Modul `pickle` bomo velikokrat uporabljali za zelo hitro in kompaktno shranjevanje in branje podatkov.\n",
    "`pickle` vrednosti spremenljivke shrani v taki obliki, kot so zapisane v spominu. V primeru racionalnih števil tako  **ne izgublja na natančnosti** (zapis v tekstovno obliko izgublja natančnost, saj definiramo število izpisanih števk, ki pa je lahko manjše od števila decimalnih mest v spominu). Poleg tega pa je zapis v **spominu ponavadi manj zahteven** kakor zapis v tekstovni obliki. Ker vrednosti ni treba pretvarjati v/iz tekstovno/e obliko/e, je pisanje/branje tudi **zelo hitro**! Tukaj si bomo pogledali osnovno uporabo, celovito je `pickle` opisan v  [dokumentaciji](https://docs.python.org/library/pickle.html)."
   ]
  },
  {
   "cell_type": "markdown",
   "metadata": {
    "slideshow": {
     "slide_type": "subslide"
    }
   },
   "source": [
    "`pickle` ima dve pomembni metodi:\n",
    "\n",
    "* `dump(obj, file, protocol=None, *, fix_imports=True)` za shranjevanje objekta `obj`,\n",
    "* `load(file, *, fix_imports=True, encoding=\"ASCII\", errors=\"strict\")` za brane datoteke `file`."
   ]
  },
  {
   "cell_type": "markdown",
   "metadata": {
    "slideshow": {
     "slide_type": "subslide"
    }
   },
   "source": [
    "Uporabo si bomo pogledali na primeru. Najprej uvozimo modul:"
   ]
  },
  {
   "cell_type": "code",
   "execution_count": 54,
   "metadata": {},
   "outputs": [],
   "source": [
    "import pickle"
   ]
  },
  {
   "cell_type": "markdown",
   "metadata": {
    "slideshow": {
     "slide_type": "subslide"
    }
   },
   "source": [
    "Zapišimo vrednosti slovarja `a` v datoteko `data/stanje1.pkl`:"
   ]
  },
  {
   "cell_type": "code",
   "execution_count": 55,
   "metadata": {},
   "outputs": [],
   "source": [
    "a = {'število': 1, 'velikost': 10}\n",
    "\n",
    "with open('data/stanje1.pkl', 'wb') as datoteka:\n",
    "    pickle.dump(a, datoteka, protocol=-1) # pazite: uporabite protocol=-1, da boste uporabili zadnjo verzijo"
   ]
  },
  {
   "cell_type": "markdown",
   "metadata": {},
   "source": [
    "Opazimo, da so datoteko odprli za pisanje v binarni obliki `wb`. Pomembno je tudi, da uporabimo zadnjo verzijo protokola (parameter `protocol`); privzeta ni optimirana za hitrost in ne zapiše v binarni obliki."
   ]
  },
  {
   "cell_type": "markdown",
   "metadata": {
    "slideshow": {
     "slide_type": "subslide"
    }
   },
   "source": [
    "Sedaj vrednosti preberimo nazaj v `b` in ga prikažemo:"
   ]
  },
  {
   "cell_type": "code",
   "execution_count": 56,
   "metadata": {},
   "outputs": [
    {
     "data": {
      "text/plain": [
       "{'število': 1, 'velikost': 10}"
      ]
     },
     "execution_count": 56,
     "metadata": {},
     "output_type": "execute_result"
    }
   ],
   "source": [
    "with open('data/stanje1.pkl', 'rb') as datoteka:\n",
    "    b = pickle.load(datoteka)\n",
    "\n",
    "b"
   ]
  },
  {
   "cell_type": "markdown",
   "metadata": {
    "slideshow": {
     "slide_type": "subslide"
    }
   },
   "source": [
    "Zgoraj smo trdili, da je pristop zelo hiter; preverimo to.\n",
    "\n",
    "Najprej pripravimo podatke (seznam 50000 vrednosti tipa `ind`):"
   ]
  },
  {
   "cell_type": "code",
   "execution_count": 57,
   "metadata": {},
   "outputs": [],
   "source": [
    "data = list(range(50000))"
   ]
  },
  {
   "cell_type": "markdown",
   "metadata": {
    "slideshow": {
     "slide_type": "subslide"
    }
   },
   "source": [
    "Pisanje v tekstovni obliki"
   ]
  },
  {
   "cell_type": "code",
   "execution_count": 58,
   "metadata": {
    "slideshow": {
     "slide_type": "-"
    }
   },
   "outputs": [
    {
     "name": "stdout",
     "output_type": "stream",
     "text": [
      "64.4 ms ± 8.62 ms per loop (mean ± std. dev. of 7 runs, 10 loops each)\n"
     ]
    }
   ],
   "source": [
    "%%timeit\n",
    "datoteka = open('data/data.txt', mode='w')\n",
    "for d in data:\n",
    "    datoteka.write(f'{d:7.2e}\\n' )\n",
    "datoteka.close()"
   ]
  },
  {
   "cell_type": "markdown",
   "metadata": {
    "slideshow": {
     "slide_type": "subslide"
    }
   },
   "source": [
    "Pisanje s pomočjo `pickle`:"
   ]
  },
  {
   "cell_type": "code",
   "execution_count": 59,
   "metadata": {
    "slideshow": {
     "slide_type": "fragment"
    }
   },
   "outputs": [
    {
     "name": "stdout",
     "output_type": "stream",
     "text": [
      "1.39 ms ± 290 µs per loop (mean ± std. dev. of 7 runs, 1,000 loops each)\n"
     ]
    }
   ],
   "source": [
    "%%timeit\n",
    "with open('data/data.pkl', 'wb') as datoteka:\n",
    "    pickle.dump(data, datoteka, protocol=-1) "
   ]
  },
  {
   "cell_type": "markdown",
   "metadata": {},
   "source": [
    "Gre skoraj za 20 kratno pohitritev!"
   ]
  },
  {
   "cell_type": "markdown",
   "metadata": {
    "slideshow": {
     "slide_type": "slide"
    }
   },
   "source": [
    "## Uporaba modulov iz spleta"
   ]
  },
  {
   "cell_type": "markdown",
   "metadata": {},
   "source": [
    "Poleg vgrajenih modulov in tistih, ki jih pripravimo sami, obstaja še velika množica modulov, ki jih lahko najdemo na spletu in Pythonu dodajajo nove funkcionalnosti. Šele ti moduli naredijo ekosistem Pythona tako uporaben."
   ]
  },
  {
   "cell_type": "markdown",
   "metadata": {
    "slideshow": {
     "slide_type": "subslide"
    }
   },
   "source": [
    "Modul je tehnično gledano ena datoteka, kadar nek večji modul vsebuje več modulov, pa lahko začnemo govoriti o *paketih*. Najbolj pomembne pakete na področju inženirskih ved bomo spoznali v okviru te knjige."
   ]
  },
  {
   "cell_type": "markdown",
   "metadata": {
    "slideshow": {
     "slide_type": "subslide"
    }
   },
   "source": [
    "Module oz. pakete lahko *posodabljamo* ali nameščamo *nove*, pri tem nam pomagajo t. i. *upravljalniki paketov* (angl. *package manager*). Najbolj pogost upravljalnik paketov je `pip` ([dokumentacija](https://pip.pypa.io/en/stable/))."
   ]
  },
  {
   "cell_type": "markdown",
   "metadata": {
    "slideshow": {
     "slide_type": "subslide"
    }
   },
   "source": [
    "### Upravljalnik paketov `pip`"
   ]
  },
  {
   "cell_type": "markdown",
   "metadata": {},
   "source": [
    "`pip` je upravljalnik paketov z dolgo zgodovino in podpira veliko število paketov ([pypi.org](https://pypi.org)).\n",
    "\n",
    "Že nameščene pakete najdemo z ukazom v ukazni vrstici ([dokumentacija](https://pip.pypa.io/en/stable/reference/pip_list/)):\n",
    "```\n",
    "pip list\n",
    "```"
   ]
  },
  {
   "cell_type": "markdown",
   "metadata": {},
   "source": [
    "Namesto izhoda v ukazno vrstico bomo večkrat uporabljali možnost *Jupyter notebooka*, ko s pomočjo klicaja (!) v celici s kodo izvedemo ukaz v ukazni vrstici  (gre za kratko obliko magičnega ukaza `%sx` - shell execute, glejte [dokumentacijo](http://ipython.readthedocs.io/en/stable/interactive/magics.html#magic-sx)). Opomba: dva klicaja bi vrnila celoten rezultat neposredno v notebook (ker je izpis zelo dolg, smo se temu izognili).\n",
    "\n",
    "Poglejmo primer:"
   ]
  },
  {
   "cell_type": "code",
   "execution_count": 60,
   "metadata": {},
   "outputs": [
    {
     "data": {
      "text/plain": [
       "['Package                           Version',\n",
       " '--------------------------------- ------------',\n",
       " 'accessible-pygments               0.0.4',\n",
       " 'alabaster                         0.7.13',\n",
       " 'anyio                             4.0.0']"
      ]
     },
     "execution_count": 60,
     "metadata": {},
     "output_type": "execute_result"
    }
   ],
   "source": [
    "rezultat = !pip list\n",
    "rezultat[:5]"
   ]
  },
  {
   "cell_type": "markdown",
   "metadata": {
    "slideshow": {
     "slide_type": "subslide"
    }
   },
   "source": [
    "Pakete namestimo z ukazom (v ukazni vrstici):\n",
    "```python\n",
    "pip install [ime_paketa]\n",
    "```\n",
    "\n",
    "posodobimo z:\n",
    "```python\n",
    "pip install [ime_paketa] --upgrade\n",
    "```\n",
    "\n",
    "in odstranimo z:\n",
    "```python\n",
    "pip uninstall [ime_paketa]\n",
    "```"
   ]
  },
  {
   "cell_type": "markdown",
   "metadata": {},
   "source": [
    "Za več glejte [dokumentacijo](https://pip.pypa.io/en/stable/getting-started/)."
   ]
  },
  {
   "cell_type": "markdown",
   "metadata": {
    "slideshow": {
     "slide_type": "subslide"
    }
   },
   "source": [
    "#### Primer namestitve paketa\n",
    "\n",
    "Sicer pa pakete najpogosteje najdemo na spletu ([pypi.org](https://pypi.org)). Pojdite na omenjeni portal in poiščite pakete na temo snemanja posnetkov iz portala [www.youtube.com](https://www.youtube.com).  Z iskanjem \"pytube\" najdemo obetaven paket, ki ga namestimo:"
   ]
  },
  {
   "cell_type": "markdown",
   "metadata": {
    "slideshow": {
     "slide_type": "subslide"
    }
   },
   "source": [
    "Sedaj modul uporabimo (za podrobnosti uporabe glejte [dokumentacijo](https://github.com/pytube/pytube)). Najprej uvozimo celotni paket:"
   ]
  },
  {
   "cell_type": "code",
   "execution_count": 61,
   "metadata": {},
   "outputs": [
    {
     "ename": "ModuleNotFoundError",
     "evalue": "No module named 'pytube'",
     "output_type": "error",
     "traceback": [
      "\u001b[1;31m---------------------------------------------------------------------------\u001b[0m",
      "\u001b[1;31mModuleNotFoundError\u001b[0m                       Traceback (most recent call last)",
      "Cell \u001b[1;32mIn[61], line 1\u001b[0m\n\u001b[1;32m----> 1\u001b[0m \u001b[38;5;28;01mimport\u001b[39;00m \u001b[38;5;21;01mpytube\u001b[39;00m\n\u001b[0;32m      2\u001b[0m yt \u001b[38;5;241m=\u001b[39m pytube\u001b[38;5;241m.\u001b[39mYouTube(\u001b[38;5;124m'\u001b[39m\u001b[38;5;124mhttps://www.youtube.com/watch?v=P4IrAXbpeyI\u001b[39m\u001b[38;5;124m'\u001b[39m) \u001b[38;5;66;03m# kreiramo instanco objekta (kaj to točno pomeni, spoznamo pozneje)\u001b[39;00m\n\u001b[0;32m      3\u001b[0m yt\u001b[38;5;241m.\u001b[39mstreams\u001b[38;5;241m.\u001b[39mget_highest_resolution()\u001b[38;5;241m.\u001b[39mdownload() \u001b[38;5;66;03m#Prenesemo video\u001b[39;00m\n",
      "\u001b[1;31mModuleNotFoundError\u001b[0m: No module named 'pytube'"
     ]
    }
   ],
   "source": [
    "import pytube\n",
    "yt = pytube.YouTube('https://www.youtube.com/watch?v=P4IrAXbpeyI') # kreiramo instanco objekta (kaj to točno pomeni, spoznamo pozneje)\n",
    "yt.streams.get_highest_resolution().download() #Prenesemo video"
   ]
  },
  {
   "cell_type": "markdown",
   "metadata": {
    "slideshow": {
     "slide_type": "slide"
    }
   },
   "source": [
    "## Nekaj vprašanj za razmislek!"
   ]
  },
  {
   "cell_type": "markdown",
   "metadata": {},
   "source": [
    "1. Odprite datoteko za zapis in vanjo vpišite formatirani (skupaj 7 mest, 3 decimalna mesta) seznam v dveh stolpcih. Razločevalni znak med stolpci naj bo prazen znak ' '.\n",
    "2. Odprite pripeto datoteko ``zapis_labview.lvm`` (gre za zapis iz programa LabView) in preberite glavo v obliki slovarja ('ime polja': vrednost).\n",
    "3. V datoteki iz prejšnje točke preberite podatke (uporabite funkcijo ``replace()`` za zamenjavo decimalne vejice v piko in nato pretvorite niz v število. Najdite ustrezno dokumentacijo/help).\n",
    "4. Na poljubnem seznamu besed prikažite uporabo izpeljevanja seznamov tako, da zamenjate poljuben samoglasnik.\n",
    "5. Napišite funkcijo. Če se v funkcijo vstavi seznam besed, potem naj vrne dolžino besed. Če se v funkcjo vstavi seznam numeričnih vrednosti, potem naj vrne njihovo vrednost povečano za ena.\n",
    "6. Zgornjo funkcijo nadgradite: če se v funkcijo vstavi prazen seznam (dolžine 0), potem naj sproži izjemo ``Exception`` z ustreznim opisom.\n",
    "7. Pripravite novo funkcijo, ki bo klicala funkcijo iz točke 6 in lovila izjeme.\n",
    "8. Za obe funkciji pripravite *docstring*.\n",
    "9. Prikažite uporabo argumentov s privzetimi vrednostmi.\n",
    "10. Prikažite uporabo argumentov glede na mesto in glede na ime.\n",
    "11. V funkcijo pošljite nepredvidene vrednosti (nize in numerične vrednosti).\n",
    "12. V funkcijo pošljite nepredvidene poimenske vrednosti.\n",
    "13. Definirajte *lambda* funkcijo in jo uporabite v povezavi s funkcijo `max` ali `min`.\n",
    "14. Zgornji funkciji shranite v modul poljubnega imena (npr.: prve_funkcije.py).\n",
    "15. Uvozite samo eno od funkcij kot funkcijo z novim imenom (drugačno ime od izvornega).\n",
    "16. Poljuben slovar shranite in odprite s ``pickle``."
   ]
  },
  {
   "cell_type": "markdown",
   "metadata": {
    "slideshow": {
     "slide_type": "slide"
    }
   },
   "source": [
    "## Dodatno"
   ]
  },
  {
   "cell_type": "markdown",
   "metadata": {},
   "source": [
    "### Oblikovanje datuma in časa\n",
    "\n",
    "Najprej uvozimo modul za delo z datumom in časom `datetime` in prikažemo trenutni čas z datumom (uporabimo funkcijo [`now()`](https://docs.python.org/3/library/datetime.html#datetime.datetime.now)):"
   ]
  },
  {
   "cell_type": "code",
   "execution_count": null,
   "metadata": {},
   "outputs": [],
   "source": [
    "import datetime\n",
    "sedaj = datetime.datetime.now()\n",
    "sedaj"
   ]
  },
  {
   "cell_type": "markdown",
   "metadata": {
    "slideshow": {
     "slide_type": "subslide"
    }
   },
   "source": [
    "Podatek o času oblikujemo:"
   ]
  },
  {
   "cell_type": "code",
   "execution_count": null,
   "metadata": {},
   "outputs": [],
   "source": [
    "f'{sedaj:%Y-%m-%d %H:%M:%S}'"
   ]
  },
  {
   "cell_type": "markdown",
   "metadata": {
    "slideshow": {
     "slide_type": "subslide"
    }
   },
   "source": [
    "Oblikovanje datuma in ure sledi metodam:\n",
    "\n",
    "* `strftime` ([dokumentacija](https://docs.python.org/library/datetime.html#datetime.datetime.strftime)) se uporablja za pretvorbo iz `datetime` v niz črk,\n",
    "* `strptime` ([dokumentacija](https://docs.python.org/library/datetime.html#datetime.datetime.strptime)) se uporablja za pretvorbo iz niza črk v tip `datetime`.\n",
    "\n",
    "Kako izpisati ustrezno obliko (torej kako uporabiti znake `%Y`, `%m` itd.) je prav tako podrobno pojasnjeno v [dokumentaciji](https://docs.python.org/library/datetime.html#strftime-strptime-behavior)."
   ]
  },
  {
   "cell_type": "markdown",
   "metadata": {
    "slideshow": {
     "slide_type": "subslide"
    }
   },
   "source": [
    "Poglejmo si primer pretvorbe tipa `datetime` v niz (glede na zgoraj smo dodali še %a, da se izpiše ime dneva):"
   ]
  },
  {
   "cell_type": "code",
   "execution_count": null,
   "metadata": {},
   "outputs": [],
   "source": [
    "sedaj.strftime('%Y-%m-%d %H:%M:%S %a')"
   ]
  },
  {
   "cell_type": "markdown",
   "metadata": {
    "slideshow": {
     "slide_type": "subslide"
    }
   },
   "source": [
    "Sedaj v obratno smer, torej iz niza v `datetime`:"
   ]
  },
  {
   "cell_type": "code",
   "execution_count": null,
   "metadata": {},
   "outputs": [],
   "source": [
    "datetime.datetime.strptime('2017-09-28 05:31:45', '%Y-%m-%d %H:%M:%S')"
   ]
  },
  {
   "cell_type": "markdown",
   "metadata": {
    "slideshow": {
     "slide_type": "-"
    }
   },
   "source": [
    "### Uporabljajte www.stackoverflow.com!"
   ]
  },
  {
   "cell_type": "markdown",
   "metadata": {},
   "source": [
    "http://www.stackoverflow.com"
   ]
  },
  {
   "cell_type": "markdown",
   "metadata": {
    "slideshow": {
     "slide_type": "subslide"
    }
   },
   "source": [
    "### Nekateri moduli\n",
    "\n",
    "1. ``openpyxl`` za pisanje in branje Excel xlsx/xlsm datotek: [vir](http://openpyxl.readthedocs.org/en/latest/index.html#),\n",
    "* Regularni izrazi (zelo močno orodje za iskanje po nizih): [vir](https://docs.python.org/library/re.html)."
   ]
  },
  {
   "cell_type": "markdown",
   "metadata": {
    "slideshow": {
     "slide_type": "subslide"
    }
   },
   "source": [
    "### Modul ``sys``"
   ]
  },
  {
   "cell_type": "markdown",
   "metadata": {},
   "source": [
    "Python ima veliko število vgrajenih modulov (in še veliko se jih lahko prenese s spleta, npr. [tukaj](https://pypi.org/)), ki dodajo različne funkcionalnosti. \n",
    "\n",
    "Modul ``sys`` omogoča dostop do objektov, ki jih uporablja interpreter.\n",
    "\n",
    "Poglejmo si primer; najprej uvozimo modul:"
   ]
  },
  {
   "cell_type": "code",
   "execution_count": null,
   "metadata": {
    "slideshow": {
     "slide_type": "subslide"
    }
   },
   "outputs": [],
   "source": [
    "import sys"
   ]
  },
  {
   "cell_type": "markdown",
   "metadata": {},
   "source": [
    "Mape, kjer se iščejo moduli, lahko preverimo z ukazom `sys.path` ([dokumentacija](https://docs.python.org/2/library/sys.html#sys.path)):"
   ]
  },
  {
   "cell_type": "code",
   "execution_count": null,
   "metadata": {},
   "outputs": [],
   "source": [
    "sys.path"
   ]
  },
  {
   "cell_type": "markdown",
   "metadata": {
    "slideshow": {
     "slide_type": "subslide"
    }
   },
   "source": [
    "### Modul ``os``"
   ]
  },
  {
   "cell_type": "markdown",
   "metadata": {},
   "source": [
    "Modul ``os`` je namenjen delu z operacijskim sistemom in skrbi za združljivost z različnimi operacijskimi sistemi (če npr. napišete program na sistemu *Windows*, bo delal tudi na sistemu *linux*)."
   ]
  },
  {
   "cell_type": "markdown",
   "metadata": {
    "slideshow": {
     "slide_type": "subslide"
    }
   },
   "source": [
    "Uvozimo modul:"
   ]
  },
  {
   "cell_type": "code",
   "execution_count": null,
   "metadata": {},
   "outputs": [],
   "source": [
    "import os"
   ]
  },
  {
   "cell_type": "markdown",
   "metadata": {
    "slideshow": {
     "slide_type": "subslide"
    }
   },
   "source": [
    "Pogljemo trenutno mapo:"
   ]
  },
  {
   "cell_type": "code",
   "execution_count": null,
   "metadata": {},
   "outputs": [],
   "source": [
    "os.path.curdir"
   ]
  },
  {
   "cell_type": "markdown",
   "metadata": {},
   "source": [
    "ali trenutno mapo v absolutni obliki:"
   ]
  },
  {
   "cell_type": "code",
   "execution_count": null,
   "metadata": {},
   "outputs": [],
   "source": [
    "os.path.abspath(os.path.curdir)"
   ]
  },
  {
   "cell_type": "markdown",
   "metadata": {
    "slideshow": {
     "slide_type": "subslide"
    }
   },
   "source": [
    "Kako najdemo vse datoteke in mape v direktoriju?"
   ]
  },
  {
   "cell_type": "code",
   "execution_count": null,
   "metadata": {},
   "outputs": [],
   "source": [
    "seznam = os.listdir()"
   ]
  },
  {
   "cell_type": "markdown",
   "metadata": {},
   "source": [
    "Prikažimo prve štiri s končnico `ipynb`:"
   ]
  },
  {
   "cell_type": "code",
   "execution_count": null,
   "metadata": {
    "slideshow": {
     "slide_type": "subslide"
    }
   },
   "outputs": [],
   "source": [
    "i = 0\n",
    "for ime in seznam:\n",
    "    if os.path.isfile(ime):\n",
    "        if ime[-5:] == 'ipynb':\n",
    "            print(f'Našel sem datoteko: {ime:s}')\n",
    "            i +=1\n",
    "        if i>3:\n",
    "            break"
   ]
  },
  {
   "cell_type": "markdown",
   "metadata": {},
   "source": [
    "Za več glejte [dokumentacijo](https://docs.python.org/3.7/library/os.path.html#module-os.path)."
   ]
  }
 ],
 "metadata": {
  "anaconda-cloud": {},
  "celltoolbar": "Slideshow",
  "kernelspec": {
   "display_name": "Python 3 (ipykernel)",
   "language": "python",
   "name": "python3"
  },
  "language_info": {
   "codemirror_mode": {
    "name": "ipython",
    "version": 3
   },
   "file_extension": ".py",
   "mimetype": "text/x-python",
   "name": "python",
   "nbconvert_exporter": "python",
   "pygments_lexer": "ipython3",
   "version": "3.11.6"
  },
  "latex_envs": {
   "bibliofile": "biblio.bib",
   "cite_by": "apalike",
   "current_citInitial": 1,
   "eqLabelWithNumbers": true,
   "eqNumInitial": 0
  },
  "livereveal": {
   "theme": "sky",
   "transition": "default",
   "width": 1200
  },
  "nav_menu": {},
  "toc": {
   "base_numbering": 1,
   "nav_menu": {
    "height": "317px",
    "width": "252px"
   },
   "number_sections": true,
   "sideBar": true,
   "skip_h1_title": false,
   "title_cell": "Kazalo",
   "title_sidebar": "Kazalo",
   "toc_cell": false,
   "toc_position": {},
   "toc_section_display": false,
   "toc_window_display": false
  }
 },
 "nbformat": 4,
 "nbformat_minor": 4
}
