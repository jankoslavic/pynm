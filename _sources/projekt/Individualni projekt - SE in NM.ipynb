{
 "cells": [
  {
   "cell_type": "markdown",
   "metadata": {},
   "source": [
    "Avtor: **Ime in priimek, vpisna številka**\n",
    "\n",
    "Datum: 1. oktober 2018\n",
    "\n",
    "*Potrjujem, da sem avtor projektne naloge in da sem vso vsebino pripravil sam. V primeru, da se ugotovi plagiatorstvo se zavedam, da ne bom izpolnjeval pogojev za pristop k izpitu.*"
   ]
  },
  {
   "cell_type": "markdown",
   "metadata": {},
   "source": [
    "---"
   ]
  },
  {
   "cell_type": "markdown",
   "metadata": {},
   "source": [
    "# *Navodila za uporabo te predloge*<span class=\"tocSkip\"></span>\n",
    "\n",
    "[Pri oddaji navodila (do kazala) izbrišite]\n",
    "\n",
    "Predloga je namenjena pripravi poročila individualnega projekta pri predmetih SE (Strojni elementi - 1 ali 2) ter NM (Numerične metode). Poročilo je razdeljeno na vsebinska poglavja, določena pri predmetu SE. Vsako vsebinsko poglavje lahko vsebuje več podpoglavij, celic, namenjenih kodi ali tekstu."
   ]
  },
  {
   "cell_type": "markdown",
   "metadata": {},
   "source": [
    "---"
   ]
  },
  {
   "cell_type": "markdown",
   "metadata": {},
   "source": [
    "Čeprav je cilj medpredmetnega sodelovanja priprava skupnega poročila za oba predmeta, upoštevajte, da *se pri predmetu Strojni elementi vsebine programiranje in numeričnih metod ne preverjajo.* To pomeni, da:\n",
    "\n",
    "* Mora biti  **postopek reševanja problema jasno razviden iz oddanega dokumenta, brez potrebe po pregledovanju oddane kode.** Celicam s kodo preračuna, ki se nanašajo na reševanje naloge pri SE, naj zato sledi **izpis matematičnega izraza, iz katerega so jasno razvidni ključni deli postopka ter končni rezultat preračuna, v naslednji obliki** (glejte tudi primere na dnu tega dokumenta):\n",
    "\n",
    "$$\\text{iskana veličina = simbolni izraz = izraz z vstavljenimi vrednostmi podatkov = rezultat z enotami}$$\n",
    "\n",
    "\n",
    "* Je povsem razumljivo, da numerične vsebine in komentarji numeričnih metod v poročilu za SE še niso v svoji končni obliki. Numerične metode uporabljajte kot orodje za boljše reševanje naloge, definirane pri Strojnih elementih, pred oddajo končnega poročila pri NM pa numerični del po potrebi dopolnite in razširite."
   ]
  },
  {
   "cell_type": "markdown",
   "metadata": {},
   "source": [
    "---"
   ]
  },
  {
   "cell_type": "markdown",
   "metadata": {},
   "source": [
    "Za potrebe predmeta NM morate **vsaj enkrat uporabiti vsako od zahtevanih vsebin:**\n",
    "\n",
    "* *simbolno reševanje*, \n",
    "* *sistemi linearnih enačb*, \n",
    "* *interpolacija ali aproksimacija*,\n",
    "* *iskanje ničel*, \n",
    "* *integriranje ali odvajanje*, \n",
    "* *reševanje diferencialnih enačb*.\n",
    "\n",
    "Ko vsebino iz NM uporabite, to **nakažite v imenu podpoglavja** (glejte primer spodaj). \n",
    "\n",
    "Poleg ustrezno implementirane in oblikovane kode pri Numeričnih metodah pričakujemo tudi smiselne **komentarje na izbiro, uporabo in rezultate numeričnih postopkov**."
   ]
  },
  {
   "cell_type": "markdown",
   "metadata": {},
   "source": [
    "### Kriteriji ocenjevanja pri NM<span class=\"tocSkip\"></span>\n",
    "\n",
    "Ocena individualnega projekta pri predmetu Numerične metode je sestavljena iz: \n",
    "* *numerična pravilnost* (30%), \n",
    "* *struktura, urejenost, uporaba modulov, stil kode (docstringi)* (30%), \n",
    "* *lasten odnos / kreativni dodatek* (30%),\n",
    "* *pripravljeni testi kode in/ali uporabniški vmesnik* (10%).\n",
    "\n",
    "\n",
    "### Oddaja pri NM<span class=\"tocSkip\"></span>\n",
    "V obliki zip datoteke z imenom: **`Ime in priimek, vpisna številka.zip`** pošljete na email naslov svojega asistenta."
   ]
  },
  {
   "cell_type": "markdown",
   "metadata": {},
   "source": [
    "---"
   ]
  },
  {
   "cell_type": "markdown",
   "metadata": {},
   "source": [
    "Individualni seminar mora vsebovati **kazalo vsebine** z delujočimi povezavami na poglavja. Najlažje ga prpravite z uporabo razširitve [toc2](https://github.com/ipython-contrib/jupyter_contrib_nbextensions/tree/master/src/jupyter_contrib_nbextensions/nbextensions/toc2). Za namestitev poženite spodnjo celico in nato ponovno poženite `jupyter notebook`:"
   ]
  },
  {
   "cell_type": "code",
   "execution_count": 1,
   "metadata": {},
   "outputs": [],
   "source": [
    "# Namestitev toc2\n",
    "# %sx conda install -c conda-forge jupyter_contrib_nbextensions -y\n",
    "# %sx jupyter contrib nbextension install --user\n",
    "# %sx jupyter nbextension enable toc2/main"
   ]
  },
  {
   "cell_type": "markdown",
   "metadata": {},
   "source": [
    "Po tem, ko ste zgorni dodatek namestili, ga vključite v poročilo (**korak 1.**), odprete nastavitve kazala (**korak 2.**) in v oknu, ki se odpre, izberete možnost \"Add notebook ToC cell\" (**korak 3.**)\n",
    "\n",
    "<img src=\"kazalo.gif\" width=700>"
   ]
  },
  {
   "cell_type": "markdown",
   "metadata": {
    "toc": true
   },
   "source": [
    "<h1>Kazalo<span class=\"tocSkip\"></span></h1>\n",
    "<div class=\"toc\"><ul class=\"toc-item\"><li><span><a href=\"#Vsebinsko-poglavje-1\" data-toc-modified-id=\"Vsebinsko-poglavje-1-1\"><span class=\"toc-item-num\">1&nbsp;&nbsp;</span>Vsebinsko poglavje 1</a></span><ul class=\"toc-item\"><li><span><a href=\"#Uvod\" data-toc-modified-id=\"Uvod-1.1\"><span class=\"toc-item-num\">1.1&nbsp;&nbsp;</span>Uvod</a></span></li><li><span><a href=\"#Preračun-zobnikov-[simbolno-reševanje]\" data-toc-modified-id=\"Preračun-zobnikov-[simbolno-reševanje]-1.2\"><span class=\"toc-item-num\">1.2&nbsp;&nbsp;</span>Preračun zobnikov [simbolno reševanje]</a></span></li></ul></li><li><span><a href=\"#Vsebinsko-poglavje-2\" data-toc-modified-id=\"Vsebinsko-poglavje-2-2\"><span class=\"toc-item-num\">2&nbsp;&nbsp;</span>Vsebinsko poglavje 2</a></span><ul class=\"toc-item\"><li><span><a href=\"#Uvod\" data-toc-modified-id=\"Uvod-2.1\"><span class=\"toc-item-num\">2.1&nbsp;&nbsp;</span>Uvod</a></span></li><li><span><a href=\"#Analiza-laboratorijskih-meritev-[aproksimacija,-interpolacija]\" data-toc-modified-id=\"Analiza-laboratorijskih-meritev-[aproksimacija,-interpolacija]-2.2\"><span class=\"toc-item-num\">2.2&nbsp;&nbsp;</span>Analiza laboratorijskih meritev [aproksimacija, interpolacija]</a></span></li></ul></li><li><span><a href=\"#Primeri-izpisa-matematičnih-izrazov\" data-toc-modified-id=\"Primeri-izpisa-matematičnih-izrazov-3\"><span class=\"toc-item-num\">3&nbsp;&nbsp;</span>Primeri izpisa matematičnih izrazov</a></span><ul class=\"toc-item\"><li><span><a href=\"#Primer-z-uporabo-SymPy\" data-toc-modified-id=\"Primer-z-uporabo-SymPy-3.1\"><span class=\"toc-item-num\">3.1&nbsp;&nbsp;</span>Primer z uporabo <code>SymPy</code></a></span></li></ul></li></ul></div>"
   ]
  },
  {
   "cell_type": "markdown",
   "metadata": {},
   "source": [
    "---"
   ]
  },
  {
   "cell_type": "markdown",
   "metadata": {},
   "source": [
    "# Vsebinsko poglavje 1"
   ]
  },
  {
   "cell_type": "markdown",
   "metadata": {},
   "source": [
    "## Uvod"
   ]
  },
  {
   "cell_type": "markdown",
   "metadata": {},
   "source": [
    "Definicija naloge naj vsebuje kratek opis problema in sliko!"
   ]
  },
  {
   "cell_type": "markdown",
   "metadata": {},
   "source": [
    "Slika 3.22 iz vira Slavič 2014:\n",
    "\n",
    "<img src=\"slika1.png\" width=250>"
   ]
  },
  {
   "cell_type": "markdown",
   "metadata": {},
   "source": [
    "## Preračun zobnikov [simbolno reševanje]"
   ]
  },
  {
   "cell_type": "markdown",
   "metadata": {},
   "source": [
    "..."
   ]
  },
  {
   "cell_type": "markdown",
   "metadata": {},
   "source": [
    "---"
   ]
  },
  {
   "cell_type": "markdown",
   "metadata": {},
   "source": [
    "# Vsebinsko poglavje 2"
   ]
  },
  {
   "cell_type": "markdown",
   "metadata": {},
   "source": [
    "## Uvod"
   ]
  },
  {
   "cell_type": "markdown",
   "metadata": {},
   "source": [
    "..."
   ]
  },
  {
   "cell_type": "markdown",
   "metadata": {},
   "source": [
    "## Analiza laboratorijskih meritev [aproksimacija, interpolacija]"
   ]
  },
  {
   "cell_type": "markdown",
   "metadata": {},
   "source": [
    "..."
   ]
  },
  {
   "cell_type": "markdown",
   "metadata": {},
   "source": [
    "---"
   ]
  },
  {
   "cell_type": "markdown",
   "metadata": {},
   "source": [
    "# Primeri izpisa matematičnih izrazov\n",
    "\n",
    "Za prikaz postopka reševanj naloge v pročilu SE lahko uporabite LaTeX. Pripravite nize z željeno LaTeX sintakso, pri tem pa upoštevajte:\n",
    "\n",
    "* Povsod, kjer je v LaTeX sintaksi potrebna poševnica ``\\``, to zapišite podvojeno (``\\\\``). Nekateri znaki z enojno poševnico (``\\n``, ``\\t`` itd.) imajo namreč poseben pomen.\n",
    "\n",
    "\n",
    "* Pripravljen niz z LaTeX kodo izpišite z uporabo `Math` in `display` iz modula `IPython.display` (glejte primere spodaj).\n",
    "\n",
    "Kadar uporabljate f-nize za formatiran izpis, upoštevajte tudi:\n",
    "\n",
    "* Kjer želite v LaTeX sintaksi znak ``{`` ali `}`, uporabite podvojen znak  (na primer ``}}``), saj so enojni zaviti oklepaji namenjeni formatiranemu izpisu nizov (za vstavljanje vrednosti v formatiran niz pa, kot ponavadi, uporabite enojne oklepaje, na primer ``{F:.2f}``). "
   ]
  },
  {
   "cell_type": "code",
   "execution_count": 2,
   "metadata": {},
   "outputs": [],
   "source": [
    "from IPython.display import Math, display\n",
    "import numpy as np"
   ]
  },
  {
   "cell_type": "code",
   "execution_count": 3,
   "metadata": {},
   "outputs": [
    {
     "data": {
      "text/latex": [
       "$$ \\sqrt{ 2 } = 1.4142489173 $$"
      ],
      "text/plain": [
       "<IPython.core.display.Math object>"
      ]
     },
     "metadata": {},
     "output_type": "display_data"
    }
   ],
   "source": [
    "a = 2.0001\n",
    "primer_1 = f'$ \\\\sqrt{{ {a:.0f} }} = {np.sqrt(a):.10f} $'\n",
    "display(Math(primer_1))"
   ]
  },
  {
   "cell_type": "code",
   "execution_count": 4,
   "metadata": {},
   "outputs": [
    {
     "data": {
      "text/latex": [
       "$$ \\int_{ a }^{ 10.5 }{ f(x) \\, \\text{ d }x } $$"
      ],
      "text/plain": [
       "<IPython.core.display.Math object>"
      ]
     },
     "metadata": {},
     "output_type": "display_data"
    }
   ],
   "source": [
    "b = 10.5\n",
    "primer_2 = f'$ \\\\int_{{ a }}^{{ {b} }}{{ f(x) \\\\, \\\\text{{ d }}x }} $'\n",
    "display(Math(primer_2))"
   ]
  },
  {
   "cell_type": "code",
   "execution_count": 5,
   "metadata": {},
   "outputs": [
    {
     "data": {
      "text/latex": [
       "$$ \\sigma = \\frac{ F }{ A } = \\frac{ 1000 }{ 100 } = 10.0 \\, \\text{ MPa } $$"
      ],
      "text/plain": [
       "<IPython.core.display.Math object>"
      ]
     },
     "metadata": {},
     "output_type": "display_data"
    }
   ],
   "source": [
    "F = 1000 # N\n",
    "A = 100 # mm^2\n",
    "rezultat = F/A\n",
    "\n",
    "primer_3 = f'$ \\\\sigma = \\\\frac{{ F }}{{ A }} = \\\\frac{{ {F} }}{{ {A} }} = {rezultat} \\\\, \\\\text{{ MPa }} $'\n",
    "display(Math(primer_3))"
   ]
  },
  {
   "cell_type": "markdown",
   "metadata": {},
   "source": [
    "## Primer z uporabo `SymPy`\n",
    "\n",
    "*Če delate simbolne preračune lahko izpise vmesnih rezultatov v postopku generirate tudi s Sympy, končni izraz pa mora vedno biti v obliki, predpisani zgoraj.*"
   ]
  },
  {
   "cell_type": "code",
   "execution_count": 6,
   "metadata": {},
   "outputs": [],
   "source": [
    "import sympy as sym\n",
    "from fractions import Fraction\n",
    "sym.init_printing()"
   ]
  },
  {
   "cell_type": "code",
   "execution_count": 7,
   "metadata": {},
   "outputs": [],
   "source": [
    "sigma, F, A = sym.symbols('sigma F A')\n",
    "podatki = {F:1000, A:100}"
   ]
  },
  {
   "cell_type": "code",
   "execution_count": 8,
   "metadata": {},
   "outputs": [
    {
     "data": {
      "image/png": "[encoded data removed]",
      "text/latex": [
       "$$\\frac{F}{A}$$"
      ],
      "text/plain": [
       "F\n",
       "─\n",
       "A"
      ]
     },
     "execution_count": 8,
     "metadata": {},
     "output_type": "execute_result"
    }
   ],
   "source": [
    "izraz =  F/A\n",
    "izraz"
   ]
  },
  {
   "cell_type": "code",
   "execution_count": 9,
   "metadata": {},
   "outputs": [],
   "source": [
    "rezultat = izraz.subs(podatki)"
   ]
  },
  {
   "cell_type": "code",
   "execution_count": 10,
   "metadata": {},
   "outputs": [
    {
     "data": {
      "image/png": "[encoded data removed]",
      "text/latex": [
       "$$\\frac{F}{A} = 10$$"
      ],
      "text/plain": [
       "F     \n",
       "─ = 10\n",
       "A     "
      ]
     },
     "execution_count": 10,
     "metadata": {},
     "output_type": "execute_result"
    }
   ],
   "source": [
    "korak_1 = sym.Eq(izraz, rezultat)\n",
    "korak_1"
   ]
  },
  {
   "cell_type": "code",
   "execution_count": 11,
   "metadata": {},
   "outputs": [
    {
     "data": {
      "image/png": "[encoded data removed]",
      "text/latex": [
       "$$\\sigma = \\frac{F}{A} = 10$$"
      ],
      "text/plain": [
       "    F     \n",
       "σ = ─ = 10\n",
       "    A     "
      ]
     },
     "execution_count": 11,
     "metadata": {},
     "output_type": "execute_result"
    }
   ],
   "source": [
    "korak_2 = sym.Eq(sigma, korak_1)\n",
    "korak_2"
   ]
  },
  {
   "cell_type": "markdown",
   "metadata": {},
   "source": [
    "Končni rezultat:"
   ]
  },
  {
   "cell_type": "code",
   "execution_count": 12,
   "metadata": {},
   "outputs": [
    {
     "data": {
      "text/latex": [
       "$$ \\sigma = \\frac{ F }{ A } = \\frac{ 1000 }{ 100 } = 10.0 \\, \\text{ MPa } $$"
      ],
      "text/plain": [
       "<IPython.core.display.Math object>"
      ]
     },
     "metadata": {},
     "output_type": "display_data"
    }
   ],
   "source": [
    "display(Math(primer_3))"
   ]
  },
  {
   "cell_type": "markdown",
   "metadata": {},
   "source": [
    "---"
   ]
  }
 ],
 "metadata": {
  "anaconda-cloud": {},
  "kernelspec": {
   "display_name": "Python 3",
   "language": "python",
   "name": "python3"
  },
  "language_info": {
   "codemirror_mode": {
    "name": "ipython",
    "version": 3
   },
   "file_extension": ".py",
   "mimetype": "text/x-python",
   "name": "python",
   "nbconvert_exporter": "python",
   "pygments_lexer": "ipython3",
   "version": "3.7.1"
  },
  "latex_envs": {
   "bibliofile": "biblio.bib",
   "cite_by": "apalike",
   "current_citInitial": 1,
   "eqLabelWithNumbers": true,
   "eqNumInitial": 0
  },
  "nav_menu": {},
  "toc": {
   "base_numbering": "1",
   "nav_menu": {},
   "number_sections": true,
   "sideBar": true,
   "skip_h1_title": false,
   "title_cell": "Kazalo",
   "title_sidebar": "Kazalo",
   "toc_cell": true,
   "toc_position": {
    "height": "778px",
    "left": "380px",
    "top": "111.133px",
    "width": "384px"
   },
   "toc_section_display": true,
   "toc_window_display": true
  }
 },
 "nbformat": 4,
 "nbformat_minor": 1
}
