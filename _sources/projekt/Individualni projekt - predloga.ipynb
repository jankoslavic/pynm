{
 "cells": [
  {
   "cell_type": "markdown",
   "metadata": {},
   "source": [
    "Avtor: **Ime in priimek, vpisna številka**\n",
    "\n",
    "Datum: 1. oktober 2018\n",
    "\n",
    "*Potrjujem, da sem avtor projektne naloge in da sem vso vsebino pripravil sam. V primeru, da se ugotovi plagiatorstvo se zavedam, da ne bom izpolnjeval pogojev za pristop k izpitu.*"
   ]
  },
  {
   "cell_type": "markdown",
   "metadata": {},
   "source": [
    "---"
   ]
  },
  {
   "cell_type": "markdown",
   "metadata": {},
   "source": [
    "# *Navodila za uporabo te predloge*<span class=\"tocSkip\"></span>"
   ]
  },
  {
   "cell_type": "markdown",
   "metadata": {},
   "source": [
    "*Individualni seminar mora vsebovati **kazalo vsebine** z delujočimi povezavami na poglavja. Najlažje ga pripravite z uporabo razširitve [toc2](https://github.com/ipython-contrib/jupyter_contrib_nbextensions/tree/master/src/jupyter_contrib_nbextensions/nbextensions/toc2). Za namestitev poženite spodnjo celico in nato ponovno poženite `jupyter notebook`:* "
   ]
  },
  {
   "cell_type": "code",
   "execution_count": null,
   "metadata": {},
   "outputs": [],
   "source": [
    "# Namestitev toc2\n",
    "%sx conda install -c conda-forge jupyter_contrib_nbextensions -y\n",
    "%sx jupyter contrib nbextension install --user\n",
    "%sx jupyter nbextension enable toc2/main"
   ]
  },
  {
   "cell_type": "markdown",
   "metadata": {},
   "source": [
    "*Po tem, ko ste zgorni dodatek namestili, ga vključite v poročilo (**korak 1.**), odprete nastavitve kazala (**korak 2.**) in v oknu, ki se odpre, izberete možnost \"Add notebook ToC cell\" (**korak 3.**)*\n",
    "\n",
    "<img src=\"kazalo.gif\" width=700>"
   ]
  },
  {
   "cell_type": "markdown",
   "metadata": {
    "toc": true
   },
   "source": [
    "<h1>Kazalo<span class=\"tocSkip\"></span></h1>\n",
    "<div class=\"toc\"><ul class=\"toc-item\"><li><span><a href=\"#Definicija-naloge\" data-toc-modified-id=\"Definicija-naloge-1\"><span class=\"toc-item-num\">1&nbsp;&nbsp;</span>Definicija naloge</a></span><ul class=\"toc-item\"><li><span><a href=\"#Simbolno-reševanje\" data-toc-modified-id=\"Simbolno-reševanje-1.1\"><span class=\"toc-item-num\">1.1&nbsp;&nbsp;</span>Simbolno reševanje</a></span></li><li><span><a href=\"#...\" data-toc-modified-id=\"...-1.2\"><span class=\"toc-item-num\">1.2&nbsp;&nbsp;</span>...</a></span></li></ul></li><li><span><a href=\"#Sistemi-linearnih-enačb\" data-toc-modified-id=\"Sistemi-linearnih-enačb-2\"><span class=\"toc-item-num\">2&nbsp;&nbsp;</span>Sistemi linearnih enačb</a></span><ul class=\"toc-item\"><li><span><a href=\"#...\" data-toc-modified-id=\"...-2.1\"><span class=\"toc-item-num\">2.1&nbsp;&nbsp;</span>...</a></span></li></ul></li><li><span><a href=\"#Interpolacija-/aproksimacija\" data-toc-modified-id=\"Interpolacija-/aproksimacija-3\"><span class=\"toc-item-num\">3&nbsp;&nbsp;</span>Interpolacija /aproksimacija</a></span><ul class=\"toc-item\"><li><span><a href=\"#...\" data-toc-modified-id=\"...-3.1\"><span class=\"toc-item-num\">3.1&nbsp;&nbsp;</span>...</a></span></li></ul></li><li><span><a href=\"#Reševanje-enačb-(iskanje-ničel)\" data-toc-modified-id=\"Reševanje-enačb-(iskanje-ničel)-4\"><span class=\"toc-item-num\">4&nbsp;&nbsp;</span>Reševanje enačb (iskanje ničel)</a></span><ul class=\"toc-item\"><li><span><a href=\"#...\" data-toc-modified-id=\"...-4.1\"><span class=\"toc-item-num\">4.1&nbsp;&nbsp;</span>...</a></span></li></ul></li><li><span><a href=\"#Integriranje-/-odvajanje\" data-toc-modified-id=\"Integriranje-/-odvajanje-5\"><span class=\"toc-item-num\">5&nbsp;&nbsp;</span>Integriranje / odvajanje</a></span><ul class=\"toc-item\"><li><span><a href=\"#...\" data-toc-modified-id=\"...-5.1\"><span class=\"toc-item-num\">5.1&nbsp;&nbsp;</span>...</a></span></li></ul></li><li><span><a href=\"#Reševanje-diferencialnih-enačb\" data-toc-modified-id=\"Reševanje-diferencialnih-enačb-6\"><span class=\"toc-item-num\">6&nbsp;&nbsp;</span>Reševanje diferencialnih enačb</a></span><ul class=\"toc-item\"><li><span><a href=\"#...\" data-toc-modified-id=\"...-6.1\"><span class=\"toc-item-num\">6.1&nbsp;&nbsp;</span>...</a></span></li></ul></li></ul></div>"
   ]
  },
  {
   "cell_type": "markdown",
   "metadata": {},
   "source": [
    "---"
   ]
  },
  {
   "cell_type": "markdown",
   "metadata": {},
   "source": [
    "# Definicija naloge "
   ]
  },
  {
   "cell_type": "markdown",
   "metadata": {},
   "source": [
    "Definicija naloge naj vsebuje kratek opis problema in sliko!"
   ]
  },
  {
   "cell_type": "markdown",
   "metadata": {},
   "source": [
    "Slika 3.22 iz vira Slavič 2014:\n",
    "<img src=\"slika1.png\" width=250>"
   ]
  },
  {
   "cell_type": "markdown",
   "metadata": {},
   "source": [
    "Namen individualnega seminarja je prikazati **ustrezno izbiro in uporabo numeričnih metod, komentirati njihovo delovanje in ovrednotiti dobljene rezultate**. Temu primerna naj bo izbira fizikalnega problema, katerega reševnje naj zajema vsa predpisana poglavja:\n",
    "\n",
    "* *simbolno reševanje*, \n",
    "* *sistemi linearnih enačb*, \n",
    "* *interpolacija ali aproksimacija*,\n",
    "* *iskanje ničel*, \n",
    "* *integriranje ali odvajanje*, \n",
    "* *reševanje diferencialnih enačb*.  "
   ]
  },
  {
   "cell_type": "markdown",
   "metadata": {},
   "source": [
    "Ocena individualnega projekta je sestavljena iz: \n",
    "* *numerična pravilnost* (30%), \n",
    "* *struktura, urejenost, uporaba modulov, stil kode (docstringi)* (30%), \n",
    "* *lasten odnos / kreativni dodatek* (30%),\n",
    "* *pripravljeni testi kode in/ali uporabniški vmesnik* (10%).\n"
   ]
  },
  {
   "cell_type": "markdown",
   "metadata": {},
   "source": [
    "**Oddaja**: v obliki zip datoteke z imenom: **`Ime in priimek, vpisna številka.zip`** pošljete na email naslov svojega asistenta."
   ]
  },
  {
   "cell_type": "markdown",
   "metadata": {},
   "source": [
    "---"
   ]
  },
  {
   "cell_type": "markdown",
   "metadata": {},
   "source": [
    "## Simbolno reševanje"
   ]
  },
  {
   "cell_type": "markdown",
   "metadata": {},
   "source": [
    "## ..."
   ]
  },
  {
   "cell_type": "code",
   "execution_count": null,
   "metadata": {},
   "outputs": [],
   "source": []
  },
  {
   "cell_type": "markdown",
   "metadata": {},
   "source": [
    "---"
   ]
  },
  {
   "cell_type": "markdown",
   "metadata": {},
   "source": [
    "# Sistemi linearnih enačb "
   ]
  },
  {
   "cell_type": "markdown",
   "metadata": {},
   "source": [
    "## ..."
   ]
  },
  {
   "cell_type": "code",
   "execution_count": null,
   "metadata": {},
   "outputs": [],
   "source": []
  },
  {
   "cell_type": "markdown",
   "metadata": {},
   "source": [
    "---"
   ]
  },
  {
   "cell_type": "markdown",
   "metadata": {},
   "source": [
    "# Interpolacija /aproksimacija "
   ]
  },
  {
   "cell_type": "markdown",
   "metadata": {},
   "source": [
    "## ..."
   ]
  },
  {
   "cell_type": "code",
   "execution_count": null,
   "metadata": {},
   "outputs": [],
   "source": []
  },
  {
   "cell_type": "markdown",
   "metadata": {},
   "source": [
    "---"
   ]
  },
  {
   "cell_type": "markdown",
   "metadata": {},
   "source": [
    "# Reševanje enačb (iskanje ničel)"
   ]
  },
  {
   "cell_type": "markdown",
   "metadata": {},
   "source": [
    "## ..."
   ]
  },
  {
   "cell_type": "code",
   "execution_count": null,
   "metadata": {},
   "outputs": [],
   "source": []
  },
  {
   "cell_type": "markdown",
   "metadata": {},
   "source": [
    "---"
   ]
  },
  {
   "cell_type": "markdown",
   "metadata": {},
   "source": [
    "# Integriranje / odvajanje"
   ]
  },
  {
   "cell_type": "markdown",
   "metadata": {},
   "source": [
    "## ..."
   ]
  },
  {
   "cell_type": "code",
   "execution_count": null,
   "metadata": {},
   "outputs": [],
   "source": []
  },
  {
   "cell_type": "markdown",
   "metadata": {},
   "source": [
    "---"
   ]
  },
  {
   "cell_type": "markdown",
   "metadata": {},
   "source": [
    "# Reševanje diferencialnih enačb"
   ]
  },
  {
   "cell_type": "markdown",
   "metadata": {},
   "source": [
    "## ..."
   ]
  },
  {
   "cell_type": "code",
   "execution_count": null,
   "metadata": {},
   "outputs": [],
   "source": []
  }
 ],
 "metadata": {
  "anaconda-cloud": {},
  "kernelspec": {
   "display_name": "Python 3",
   "language": "python",
   "name": "python3"
  },
  "language_info": {
   "codemirror_mode": {
    "name": "ipython",
    "version": 3
   },
   "file_extension": ".py",
   "mimetype": "text/x-python",
   "name": "python",
   "nbconvert_exporter": "python",
   "pygments_lexer": "ipython3",
   "version": "3.6.5"
  },
  "latex_envs": {
   "bibliofile": "biblio.bib",
   "cite_by": "apalike",
   "current_citInitial": 1,
   "eqLabelWithNumbers": true,
   "eqNumInitial": 0
  },
  "nav_menu": {},
  "toc": {
   "base_numbering": 1,
   "nav_menu": {},
   "number_sections": true,
   "sideBar": true,
   "skip_h1_title": false,
   "title_cell": "Kazalo",
   "title_sidebar": "Kazalo",
   "toc_cell": true,
   "toc_position": {},
   "toc_section_display": "block",
   "toc_window_display": true
  }
 },
 "nbformat": 4,
 "nbformat_minor": 1
}
